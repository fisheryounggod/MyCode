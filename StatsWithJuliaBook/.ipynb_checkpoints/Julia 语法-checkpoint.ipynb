{
 "cells": [
  {
   "cell_type": "markdown",
   "metadata": {
    "heading_collapsed": true
   },
   "source": [
    "## Julia 的语法很类似于 Matlab"
   ]
  },
  {
   "cell_type": "code",
   "execution_count": 1,
   "metadata": {
    "hidden": true
   },
   "outputs": [
    {
     "data": {
      "text/plain": [
       "5-element Array{Int64,1}:\n",
       "  1\n",
       "  3\n",
       "  4\n",
       "  9\n",
       " 13"
      ]
     },
     "execution_count": 1,
     "metadata": {},
     "output_type": "execute_result"
    }
   ],
   "source": [
    "v1 = [1, 3, 4, 9, 13]"
   ]
  },
  {
   "cell_type": "code",
   "execution_count": 5,
   "metadata": {
    "hidden": true
   },
   "outputs": [
    {
     "data": {
      "text/plain": [
       "5-element Array{Int64,1}:\n",
       "    1\n",
       " -999\n",
       "    4\n",
       "    9\n",
       "   13"
      ]
     },
     "execution_count": 5,
     "metadata": {},
     "output_type": "execute_result"
    }
   ],
   "source": [
    "# 对元素赋值将在原地修改元素的值，如\n",
    "v1[2] = -999; v1"
   ]
  },
  {
   "cell_type": "code",
   "execution_count": 7,
   "metadata": {
    "hidden": true
   },
   "outputs": [
    {
     "data": {
      "text/plain": [
       "5-element Array{Int64,1}:\n",
       "  3\n",
       "  8\n",
       " 10\n",
       " 16\n",
       " 23"
      ]
     },
     "execution_count": 7,
     "metadata": {},
     "output_type": "execute_result"
    }
   ],
   "source": [
    "v1 = [1, 3, 4, 9, 13] \n",
    "v3 = [2, 5, 6, 7, 10] \n",
    "v1 .+ v3"
   ]
  },
  {
   "cell_type": "code",
   "execution_count": 8,
   "metadata": {
    "hidden": true
   },
   "outputs": [
    {
     "data": {
      "text/plain": [
       "5-element Array{Float64,1}:\n",
       " 0.0\n",
       " 0.0\n",
       " 0.0\n",
       " 0.0\n",
       " 0.0"
      ]
     },
     "execution_count": 8,
     "metadata": {},
     "output_type": "execute_result"
    }
   ],
   "source": [
    "zeros(5)"
   ]
  },
  {
   "cell_type": "code",
   "execution_count": 9,
   "metadata": {
    "hidden": true
   },
   "outputs": [
    {
     "ename": "MethodError",
     "evalue": "MethodError: no method matching Array{Float64,1}(::Int64)\nClosest candidates are:\n  Array{Float64,1}() where T at boot.jl:424\n  Array{Float64,1}(!Matched::UndefInitializer, !Matched::Int64) where T at boot.jl:405\n  Array{Float64,1}(!Matched::UndefInitializer, !Matched::Int64...) where {T, N} at boot.jl:411\n  ...",
     "output_type": "error",
     "traceback": [
      "MethodError: no method matching Array{Float64,1}(::Int64)\nClosest candidates are:\n  Array{Float64,1}() where T at boot.jl:424\n  Array{Float64,1}(!Matched::UndefInitializer, !Matched::Int64) where T at boot.jl:405\n  Array{Float64,1}(!Matched::UndefInitializer, !Matched::Int64...) where {T, N} at boot.jl:411\n  ...",
      "",
      "Stacktrace:",
      " [1] top-level scope at In[9]:1"
     ]
    }
   ],
   "source": [
    "Vector{Float64}(5)"
   ]
  },
  {
   "cell_type": "code",
   "execution_count": 10,
   "metadata": {
    "hidden": true
   },
   "outputs": [
    {
     "name": "stdout",
     "output_type": "stream",
     "text": [
      "v1[1] = 1\n",
      "v1[2] = 3\n",
      "v1[3] = 4\n",
      "v1[4] = 9\n",
      "v1[5] = 13\n"
     ]
    }
   ],
   "source": [
    "for i in eachindex(v1) \n",
    "    println(\"v1[\", i, \"] = \", v1[i]) \n",
    "end"
   ]
  },
  {
   "cell_type": "code",
   "execution_count": 12,
   "metadata": {
    "hidden": true
   },
   "outputs": [
    {
     "data": {
      "text/plain": [
       "2×3 Array{Int64,2}:\n",
       " 1  2  3\n",
       " 4  5  6"
      ]
     },
     "execution_count": 12,
     "metadata": {},
     "output_type": "execute_result"
    }
   ],
   "source": [
    "A1 = [1 2 3 \n",
    "    4 5 6]"
   ]
  },
  {
   "cell_type": "code",
   "execution_count": 13,
   "metadata": {
    "hidden": true
   },
   "outputs": [
    {
     "data": {
      "text/plain": [
       "2×2 Array{Int64,2}:\n",
       " 2  3\n",
       " 5  6"
      ]
     },
     "execution_count": 13,
     "metadata": {},
     "output_type": "execute_result"
    }
   ],
   "source": [
    "A1[1:2,2:3]"
   ]
  },
  {
   "cell_type": "code",
   "execution_count": 14,
   "metadata": {
    "hidden": true
   },
   "outputs": [
    {
     "name": "stdout",
     "output_type": "stream",
     "text": [
      "A1[1, 1] = 1\n",
      "A1[2, 1] = 4\n",
      "A1[1, 2] = 2\n",
      "A1[2, 2] = 5\n",
      "A1[1, 3] = 3\n",
      "A1[2, 3] = 6\n"
     ]
    }
   ],
   "source": [
    "for j = 1:size(A1,2), i = 1:size(A1,1) \n",
    "    println(\"A1[\", i, \", \", j, \"] = \", A1[i, j]) \n",
    "end"
   ]
  },
  {
   "cell_type": "code",
   "execution_count": 15,
   "metadata": {
    "hidden": true
   },
   "outputs": [
    {
     "name": "stdout",
     "output_type": "stream",
     "text": [
      "A1[1] = 1\n",
      "A1[2] = 4\n",
      "A1[3] = 2\n",
      "A1[4] = 5\n",
      "A1[5] = 3\n",
      "A1[6] = 6\n"
     ]
    }
   ],
   "source": [
    "for i in eachindex(A1) println(\"A1[\", i, \"] = \", A1[i]) \n",
    "end"
   ]
  },
  {
   "cell_type": "code",
   "execution_count": 16,
   "metadata": {
    "hidden": true
   },
   "outputs": [
    {
     "data": {
      "text/plain": [
       "2×3 Array{Int64,2}:\n",
       " 101  102  103\n",
       " 104  105  106"
      ]
     },
     "execution_count": 16,
     "metadata": {},
     "output_type": "execute_result"
    }
   ],
   "source": [
    "A1 .+ 100"
   ]
  },
  {
   "cell_type": "code",
   "execution_count": 17,
   "metadata": {
    "hidden": true
   },
   "outputs": [
    {
     "data": {
      "text/plain": [
       "2×2 Array{Int64,2}:\n",
       " 11  12\n",
       " 21  22"
      ]
     },
     "execution_count": 17,
     "metadata": {},
     "output_type": "execute_result"
    }
   ],
   "source": [
    "A3 = [11 12; 21 22]"
   ]
  },
  {
   "cell_type": "code",
   "execution_count": 18,
   "metadata": {
    "hidden": true
   },
   "outputs": [
    {
     "data": {
      "text/plain": [
       "2-element Array{Int64,1}:\n",
       " -1\n",
       " -1"
      ]
     },
     "execution_count": 18,
     "metadata": {},
     "output_type": "execute_result"
    }
   ],
   "source": [
    "A3 * [1, -1]"
   ]
  },
  {
   "cell_type": "code",
   "execution_count": 20,
   "metadata": {
    "hidden": true
   },
   "outputs": [
    {
     "data": {
      "text/plain": [
       "2×2 Array{Int64,2}:\n",
       "  1  -1\n",
       " -1   1"
      ]
     },
     "execution_count": 20,
     "metadata": {},
     "output_type": "execute_result"
    }
   ],
   "source": [
    "[1,-1] * [1 -1]"
   ]
  },
  {
   "cell_type": "code",
   "execution_count": 21,
   "metadata": {
    "hidden": true
   },
   "outputs": [
    {
     "data": {
      "text/plain": [
       "1-element Array{Int64,1}:\n",
       " 2"
      ]
     },
     "execution_count": 21,
     "metadata": {},
     "output_type": "execute_result"
    }
   ],
   "source": [
    "[1 -1] * [1,-1]"
   ]
  },
  {
   "cell_type": "code",
   "execution_count": 22,
   "metadata": {
    "hidden": true
   },
   "outputs": [
    {
     "data": {
      "text/plain": [
       "2×2 LinearAlgebra.Adjoint{Int64,Array{Int64,2}}:\n",
       " 1  3\n",
       " 3  1"
      ]
     },
     "execution_count": 22,
     "metadata": {},
     "output_type": "execute_result"
    }
   ],
   "source": [
    "A4 = [1 3; 3 1]\n",
    "A4'"
   ]
  },
  {
   "cell_type": "code",
   "execution_count": 24,
   "metadata": {
    "hidden": true
   },
   "outputs": [
    {
     "data": {
      "text/plain": [
       "2-element Array{Float64,1}:\n",
       "  1.0\n",
       " -1.0"
      ]
     },
     "execution_count": 24,
     "metadata": {},
     "output_type": "execute_result"
    }
   ],
   "source": [
    "A4 \\ [-2, 2]"
   ]
  },
  {
   "cell_type": "code",
   "execution_count": 26,
   "metadata": {
    "hidden": true
   },
   "outputs": [
    {
     "data": {
      "text/plain": [
       "mysd (generic function with 1 method)"
      ]
     },
     "execution_count": 26,
     "metadata": {},
     "output_type": "execute_result"
    }
   ],
   "source": [
    "function mysd(x) #计算样本标准差\n",
    "    n = length(x) \n",
    "    mx = 0.0 \n",
    "    for z in x \n",
    "        mx += z\n",
    "        end \n",
    "        mx /= n \n",
    "        s = 0.0 \n",
    "        for z in x \n",
    "            s += (z - mx)^2 \n",
    "        end \n",
    "    sqrt(s / (n-1)) \u001a\n",
    "end"
   ]
  },
  {
   "cell_type": "code",
   "execution_count": 27,
   "metadata": {
    "hidden": true
   },
   "outputs": [
    {
     "data": {
      "text/plain": [
       "1.5811388300841898"
      ]
     },
     "execution_count": 27,
     "metadata": {},
     "output_type": "execute_result"
    }
   ],
   "source": [
    "mysd([1, 2, 3, 4, 5])"
   ]
  },
  {
   "cell_type": "code",
   "execution_count": 28,
   "metadata": {
    "hidden": true
   },
   "outputs": [
    {
     "data": {
      "text/plain": [
       "mysd_simple (generic function with 1 method)"
      ]
     },
     "execution_count": 28,
     "metadata": {},
     "output_type": "execute_result"
    }
   ],
   "source": [
    "function mysd_simple(x) \n",
    "    n = length(x) \n",
    "    mx = sum(x)/n \n",
    "    sqrt( sum(x .- mx) / (n-1) ) \n",
    "end"
   ]
  },
  {
   "cell_type": "markdown",
   "metadata": {
    "hidden": true
   },
   "source": [
    "第二个版本只是利用了向量化和已有函数，在 Julia 中其运行效率并不比第一个版本更好，甚至于不如第一个版本。**Julia 语言与 R、Matlab 等语言不同，显式的循环一般有更高的执行效率，向量化写法仅仅是可以使得程序比较简洁。**"
   ]
  },
  {
   "cell_type": "markdown",
   "metadata": {
    "hidden": true
   },
   "source": [
    "用 begin ... end可以将多行的多个表达式组合起来当作一个表达式，复合表达式的值是其中最后一个表达式的值。"
   ]
  },
  {
   "cell_type": "code",
   "execution_count": 30,
   "metadata": {
    "hidden": true
   },
   "outputs": [
    {
     "data": {
      "text/plain": [
       "3"
      ]
     },
     "execution_count": 30,
     "metadata": {},
     "output_type": "execute_result"
    }
   ],
   "source": [
    "z = begin\n",
    "    x = 1\n",
    "    y = 2\n",
    "    x + y\n",
    "end\n",
    "z"
   ]
  },
  {
   "cell_type": "markdown",
   "metadata": {
    "hidden": true
   },
   "source": [
    "&& 是一种短路运算，表达式 cond && expr 仅当 cond为 true 时才计算（运行）expr，所以这种写法经常用作程序分支的简写：条件 cond为真时执行 expr，否则不执行。"
   ]
  },
  {
   "cell_type": "code",
   "execution_count": 32,
   "metadata": {
    "hidden": true
   },
   "outputs": [
    {
     "name": "stdout",
     "output_type": "stream",
     "text": [
      " 平方根计算：自变量定义域错误，x=-1.44\n"
     ]
    }
   ],
   "source": [
    "x = -1.44 \n",
    "x < 0 && println(\" 平方根计算：自变量定义域错误，x=\", x)"
   ]
  },
  {
   "cell_type": "code",
   "execution_count": 33,
   "metadata": {
    "hidden": true
   },
   "outputs": [
    {
     "data": {
      "text/plain": [
       "true"
      ]
     },
     "execution_count": 33,
     "metadata": {},
     "output_type": "execute_result"
    }
   ],
   "source": [
    "x < 0 || (y = sqrt(x))"
   ]
  },
  {
   "cell_type": "markdown",
   "metadata": {},
   "source": [
    "## Julia"
   ]
  },
  {
   "cell_type": "code",
   "execution_count": 34,
   "metadata": {},
   "outputs": [
    {
     "name": "stdout",
     "output_type": "stream",
     "text": [
      "There is more than one way to say hello:\n"
     ]
    }
   ],
   "source": [
    "println(\"There is more than one way to say hello:\") "
   ]
  },
  {
   "cell_type": "code",
   "execution_count": 35,
   "metadata": {},
   "outputs": [
    {
     "name": "stdout",
     "output_type": "stream",
     "text": [
      "\tHello World!\n",
      "\tG’day World!\n",
      "\tShalom World!\n"
     ]
    }
   ],
   "source": [
    "helloArray = [\"Hello\",\"G’day\",\"Shalom\"] \n",
    "for i in 1:3  \n",
    "    println(\"\\t\", helloArray[i], \" World!\") \n",
    "end"
   ]
  },
  {
   "cell_type": "code",
   "execution_count": 36,
   "metadata": {},
   "outputs": [
    {
     "name": "stdout",
     "output_type": "stream",
     "text": [
      "\n",
      "These squares are just perfect:\n"
     ]
    }
   ],
   "source": [
    "println(\"\\nThese squares are just perfect:\")"
   ]
  },
  {
   "cell_type": "code",
   "execution_count": 37,
   "metadata": {},
   "outputs": [
    {
     "data": {
      "text/plain": [
       "11-element Array{Int64,1}:\n",
       "   0\n",
       "   1\n",
       "   4\n",
       "   9\n",
       "  16\n",
       "  25\n",
       "  36\n",
       "  49\n",
       "  64\n",
       "  81\n",
       " 100"
      ]
     },
     "execution_count": 37,
     "metadata": {},
     "output_type": "execute_result"
    }
   ],
   "source": [
    "squares = [i^2 for i in 0:10]"
   ]
  },
  {
   "cell_type": "code",
   "execution_count": 39,
   "metadata": {},
   "outputs": [
    {
     "name": "stdout",
     "output_type": "stream",
     "text": [
      " 0 1 4 9 16 25 36 49 64 81 100"
     ]
    }
   ],
   "source": [
    "for s in squares \n",
    "    print(\" \",s) \n",
    "end"
   ]
  },
  {
   "cell_type": "code",
   "execution_count": 41,
   "metadata": {},
   "outputs": [
    {
     "data": {
      "text/plain": [
       "11-element Array{Float64,1}:\n",
       "  0.0\n",
       "  1.0\n",
       "  2.0\n",
       "  3.0\n",
       "  4.0\n",
       "  5.0\n",
       "  6.0\n",
       "  7.0\n",
       "  8.0\n",
       "  9.0\n",
       " 10.0"
      ]
     },
     "execution_count": 41,
     "metadata": {},
     "output_type": "execute_result"
    }
   ],
   "source": [
    "sqrt.(squares)"
   ]
  },
  {
   "cell_type": "code",
   "execution_count": 42,
   "metadata": {},
   "outputs": [
    {
     "data": {
      "text/plain": [
       "5-element Array{Int64,1}:\n",
       "   9\n",
       "  25\n",
       "  49\n",
       "  81\n",
       " 121"
      ]
     },
     "execution_count": 42,
     "metadata": {},
     "output_type": "execute_result"
    }
   ],
   "source": [
    "array1 = [(2n+1)^2 for n in 1:5]"
   ]
  },
  {
   "cell_type": "code",
   "execution_count": 43,
   "metadata": {},
   "outputs": [
    {
     "data": {
      "text/plain": [
       "5-element Array{Float64,1}:\n",
       "  3.0\n",
       "  5.0\n",
       "  7.0\n",
       "  9.0\n",
       " 11.0"
      ]
     },
     "execution_count": 43,
     "metadata": {},
     "output_type": "execute_result"
    }
   ],
   "source": [
    "array2 = [sqrt(i) for i in array1]"
   ]
  },
  {
   "cell_type": "code",
   "execution_count": 44,
   "metadata": {},
   "outputs": [
    {
     "name": "stdout",
     "output_type": "stream",
     "text": [
      "UnitRange{Int64} Array{Int64,1} Array{Float64,1}\n"
     ]
    }
   ],
   "source": [
    "println(typeof(1:5), \" \", typeof(array1), \" \", typeof(array2))"
   ]
  },
  {
   "cell_type": "code",
   "execution_count": 45,
   "metadata": {},
   "outputs": [
    {
     "data": {
      "text/plain": [
       "(1:5, [9, 25, 49, 81, 121], [3.0, 5.0, 7.0, 9.0, 11.0])"
      ]
     },
     "execution_count": 45,
     "metadata": {},
     "output_type": "execute_result"
    }
   ],
   "source": [
    "1:5, array1, array2 # 元组？？！"
   ]
  },
  {
   "cell_type": "code",
   "execution_count": 47,
   "metadata": {},
   "outputs": [],
   "source": [
    "x=rand(8); # 分号屏蔽结果"
   ]
  },
  {
   "cell_type": "code",
   "execution_count": 48,
   "metadata": {},
   "outputs": [
    {
     "data": {
      "text/plain": [
       "8-element Array{Float64,1}:\n",
       " 0.8809476402464129\n",
       " 0.5830104252208124\n",
       " 0.5099831460374844\n",
       " 0.4640657094024694\n",
       " 0.41971906794897484\n",
       " 0.9238731621367917\n",
       " 0.4565324444934198\n",
       " 0.20779791602591646"
      ]
     },
     "execution_count": 48,
     "metadata": {},
     "output_type": "execute_result"
    }
   ],
   "source": [
    "x "
   ]
  },
  {
   "cell_type": "markdown",
   "metadata": {},
   "source": [
    "### Help"
   ]
  },
  {
   "cell_type": "code",
   "execution_count": 49,
   "metadata": {
    "scrolled": true
   },
   "outputs": [
    {
     "name": "stdout",
     "output_type": "stream",
     "text": [
      "search: \u001b[0m\u001b[1ms\u001b[22m\u001b[0m\u001b[1mq\u001b[22m\u001b[0m\u001b[1mr\u001b[22m\u001b[0m\u001b[1mt\u001b[22m i\u001b[0m\u001b[1ms\u001b[22m\u001b[0m\u001b[1mq\u001b[22m\u001b[0m\u001b[1mr\u001b[22m\u001b[0m\u001b[1mt\u001b[22m \u001b[0m\u001b[1ms\u001b[22m\u001b[0m\u001b[1mq\u001b[22mua\u001b[0m\u001b[1mr\u001b[22mes\n",
      "\n"
     ]
    },
    {
     "data": {
      "text/latex": [
       "\\begin{verbatim}\n",
       "sqrt(x)\n",
       "\\end{verbatim}\n",
       "Return $\\sqrt{x}$. Throws \\href{@ref}{\\texttt{DomainError}} for negative \\href{@ref}{\\texttt{Real}} arguments. Use complex negative arguments instead. The prefix operator \\texttt{√} is equivalent to \\texttt{sqrt}.\n",
       "\n",
       "\\section{Examples}\n",
       "\\begin{verbatim}\n",
       "julia> sqrt(big(81))\n",
       "9.0\n",
       "\n",
       "julia> sqrt(big(-81))\n",
       "ERROR: DomainError with -81.0:\n",
       "NaN result for non-NaN input.\n",
       "Stacktrace:\n",
       " [1] sqrt(::BigFloat) at ./mpfr.jl:501\n",
       "[...]\n",
       "\n",
       "julia> sqrt(big(complex(-81)))\n",
       "0.0 + 9.0im\n",
       "\\end{verbatim}\n",
       "\\rule{\\textwidth}{1pt}\n",
       "\\begin{verbatim}\n",
       "sqrt(A::AbstractMatrix)\n",
       "\\end{verbatim}\n",
       "If \\texttt{A} has no negative real eigenvalues, compute the principal matrix square root of \\texttt{A}, that is the unique matrix $X$ with eigenvalues having positive real part such that $X^2 = A$. Otherwise, a nonprincipal square root is returned.\n",
       "\n",
       "If \\texttt{A} is symmetric or Hermitian, its eigendecomposition (\\href{@ref}{\\texttt{eigen}}) is used to compute the square root. Otherwise, the square root is determined by means of the Björck-Hammarling method \\footnotemark[BH83], which computes the complex Schur form (\\href{@ref}{\\texttt{schur}}) and then the complex square root of the triangular factor.\n",
       "\n",
       "\\footnotetext[BH83]{Åke Björck and Sven Hammarling, \"A Schur method for the square root of a matrix\", Linear Algebra and its Applications, 52-53, 1983, 127-140. \\href{https://doi.org/10.1016/0024-3795(83)80010-X}{doi:10.1016/0024-3795(83)80010-X}\n",
       "\n",
       "}\n",
       "\\section{Examples}\n",
       "\\begin{verbatim}\n",
       "julia> A = [4 0; 0 4]\n",
       "2×2 Array{Int64,2}:\n",
       " 4  0\n",
       " 0  4\n",
       "\n",
       "julia> sqrt(A)\n",
       "2×2 Array{Float64,2}:\n",
       " 2.0  0.0\n",
       " 0.0  2.0\n",
       "\\end{verbatim}\n"
      ],
      "text/markdown": [
       "```\n",
       "sqrt(x)\n",
       "```\n",
       "\n",
       "Return $\\sqrt{x}$. Throws [`DomainError`](@ref) for negative [`Real`](@ref) arguments. Use complex negative arguments instead. The prefix operator `√` is equivalent to `sqrt`.\n",
       "\n",
       "# Examples\n",
       "\n",
       "```jldoctest; filter = r\"Stacktrace:(\\n \\[[0-9]+\\].*)*\"\n",
       "julia> sqrt(big(81))\n",
       "9.0\n",
       "\n",
       "julia> sqrt(big(-81))\n",
       "ERROR: DomainError with -81.0:\n",
       "NaN result for non-NaN input.\n",
       "Stacktrace:\n",
       " [1] sqrt(::BigFloat) at ./mpfr.jl:501\n",
       "[...]\n",
       "\n",
       "julia> sqrt(big(complex(-81)))\n",
       "0.0 + 9.0im\n",
       "```\n",
       "\n",
       "---\n",
       "\n",
       "```\n",
       "sqrt(A::AbstractMatrix)\n",
       "```\n",
       "\n",
       "If `A` has no negative real eigenvalues, compute the principal matrix square root of `A`, that is the unique matrix $X$ with eigenvalues having positive real part such that $X^2 = A$. Otherwise, a nonprincipal square root is returned.\n",
       "\n",
       "If `A` is symmetric or Hermitian, its eigendecomposition ([`eigen`](@ref)) is used to compute the square root. Otherwise, the square root is determined by means of the Björck-Hammarling method [^BH83], which computes the complex Schur form ([`schur`](@ref)) and then the complex square root of the triangular factor.\n",
       "\n",
       "[^BH83]: Åke Björck and Sven Hammarling, \"A Schur method for the square root of a matrix\", Linear Algebra and its Applications, 52-53, 1983, 127-140. [doi:10.1016/0024-3795(83)80010-X](https://doi.org/10.1016/0024-3795(83)80010-X)\n",
       "\n",
       "# Examples\n",
       "\n",
       "```jldoctest\n",
       "julia> A = [4 0; 0 4]\n",
       "2×2 Array{Int64,2}:\n",
       " 4  0\n",
       " 0  4\n",
       "\n",
       "julia> sqrt(A)\n",
       "2×2 Array{Float64,2}:\n",
       " 2.0  0.0\n",
       " 0.0  2.0\n",
       "```\n"
      ],
      "text/plain": [
       "\u001b[36m  sqrt(x)\u001b[39m\n",
       "\n",
       "  Return \u001b[35m\\sqrt{x}\u001b[39m. Throws \u001b[36mDomainError\u001b[39m for negative \u001b[36mReal\u001b[39m arguments. Use complex\n",
       "  negative arguments instead. The prefix operator \u001b[36m√\u001b[39m is equivalent to \u001b[36msqrt\u001b[39m.\n",
       "\n",
       "\u001b[1m  Examples\u001b[22m\n",
       "\u001b[1m  ≡≡≡≡≡≡≡≡≡≡\u001b[22m\n",
       "\n",
       "\u001b[36m  julia> sqrt(big(81))\u001b[39m\n",
       "\u001b[36m  9.0\u001b[39m\n",
       "\u001b[36m  \u001b[39m\n",
       "\u001b[36m  julia> sqrt(big(-81))\u001b[39m\n",
       "\u001b[36m  ERROR: DomainError with -81.0:\u001b[39m\n",
       "\u001b[36m  NaN result for non-NaN input.\u001b[39m\n",
       "\u001b[36m  Stacktrace:\u001b[39m\n",
       "\u001b[36m   [1] sqrt(::BigFloat) at ./mpfr.jl:501\u001b[39m\n",
       "\u001b[36m  [...]\u001b[39m\n",
       "\u001b[36m  \u001b[39m\n",
       "\u001b[36m  julia> sqrt(big(complex(-81)))\u001b[39m\n",
       "\u001b[36m  0.0 + 9.0im\u001b[39m\n",
       "\n",
       "  ────────────────────────────────────────────────────────────────────────────\n",
       "\n",
       "\u001b[36m  sqrt(A::AbstractMatrix)\u001b[39m\n",
       "\n",
       "  If \u001b[36mA\u001b[39m has no negative real eigenvalues, compute the principal matrix square\n",
       "  root of \u001b[36mA\u001b[39m, that is the unique matrix \u001b[35mX\u001b[39m with eigenvalues having positive real\n",
       "  part such that \u001b[35mX^2 = A\u001b[39m. Otherwise, a nonprincipal square root is returned.\n",
       "\n",
       "  If \u001b[36mA\u001b[39m is symmetric or Hermitian, its eigendecomposition (\u001b[36meigen\u001b[39m) is used to\n",
       "  compute the square root. Otherwise, the square root is determined by means\n",
       "  of the Björck-Hammarling method \u001b[1m[^BH83]\u001b[22m, which computes the complex Schur\n",
       "  form (\u001b[36mschur\u001b[39m) and then the complex square root of the triangular factor.\n",
       "\n",
       "  │ \u001b[0m\u001b[1m[^BH83]\u001b[22m\n",
       "  │\n",
       "  │  Åke Björck and Sven Hammarling, \"A Schur method for the square\n",
       "  │  root of a matrix\", Linear Algebra and its Applications, 52-53,\n",
       "  │  1983, 127-140. doi:10.1016/0024-3795(83)80010-X\n",
       "  │  (https://doi.org/10.1016/0024-3795(83)80010-X)\n",
       "\n",
       "\u001b[1m  Examples\u001b[22m\n",
       "\u001b[1m  ≡≡≡≡≡≡≡≡≡≡\u001b[22m\n",
       "\n",
       "\u001b[36m  julia> A = [4 0; 0 4]\u001b[39m\n",
       "\u001b[36m  2×2 Array{Int64,2}:\u001b[39m\n",
       "\u001b[36m   4  0\u001b[39m\n",
       "\u001b[36m   0  4\u001b[39m\n",
       "\u001b[36m  \u001b[39m\n",
       "\u001b[36m  julia> sqrt(A)\u001b[39m\n",
       "\u001b[36m  2×2 Array{Float64,2}:\u001b[39m\n",
       "\u001b[36m   2.0  0.0\u001b[39m\n",
       "\u001b[36m   0.0  2.0\u001b[39m"
      ]
     },
     "execution_count": 49,
     "metadata": {},
     "output_type": "execute_result"
    }
   ],
   "source": [
    "?sqrt"
   ]
  },
  {
   "cell_type": "code",
   "execution_count": 50,
   "metadata": {
    "scrolled": true
   },
   "outputs": [
    {
     "data": {
      "text/html": [
       "# 19 methods for generic function <b>sqrt</b>:<ul><li> sqrt(a::<b>Float16</b>) in Base.Math at <a href=\"https://github.com/JuliaLang/julia/tree/44fa15b1502a45eac76c9017af94332d4557b251/base/math.jl#L1114\" target=\"_blank\">math.jl:1114</a></li> <li> sqrt(a::<b>Complex{Float16}</b>) in Base.Math at <a href=\"https://github.com/JuliaLang/julia/tree/44fa15b1502a45eac76c9017af94332d4557b251/base/math.jl#L1115\" target=\"_blank\">math.jl:1115</a></li> <li> sqrt(::<b>Missing</b>) in Base.Math at <a href=\"https://github.com/JuliaLang/julia/tree/44fa15b1502a45eac76c9017af94332d4557b251/base/math.jl#L1167\" target=\"_blank\">math.jl:1167</a></li> <li> sqrt(x::<b>BigFloat</b>) in Base.MPFR at <a href=\"https://github.com/JuliaLang/julia/tree/44fa15b1502a45eac76c9017af94332d4557b251/base/mpfr.jl#L581\" target=\"_blank\">mpfr.jl:581</a></li> <li> sqrt(x::<b>BigInt</b>) in Base.MPFR at <a href=\"https://github.com/JuliaLang/julia/tree/44fa15b1502a45eac76c9017af94332d4557b251/base/mpfr.jl#L588\" target=\"_blank\">mpfr.jl:588</a></li> <li> sqrt(z::<b>Complex{#s69} where #s69<:AbstractFloat</b>) in Base at <a href=\"https://github.com/JuliaLang/julia/tree/44fa15b1502a45eac76c9017af94332d4557b251/base/complex.jl#L482\" target=\"_blank\">complex.jl:482</a></li> <li> sqrt(z::<b>Complex</b>) in Base at <a href=\"https://github.com/JuliaLang/julia/tree/44fa15b1502a45eac76c9017af94332d4557b251/base/complex.jl#L506\" target=\"_blank\">complex.jl:506</a></li> <li> sqrt(x::<b>Union{Float32, Float64}</b>) in Base.Math at <a href=\"https://github.com/JuliaLang/julia/tree/44fa15b1502a45eac76c9017af94332d4557b251/base/math.jl#L557\" target=\"_blank\">math.jl:557</a></li> <li> sqrt(x::<b>Real</b>) in Base.Math at <a href=\"https://github.com/JuliaLang/julia/tree/44fa15b1502a45eac76c9017af94332d4557b251/base/math.jl#L583\" target=\"_blank\">math.jl:583</a></li> <li> sqrt(A::<b>Union{DenseArray{#s662,2}, Base.ReinterpretArray{#s662,2,S,A} where S where A<:Union{SubArray{T,N,A,I,true} where I<:Union{Tuple{Vararg{Real,N} where N}, Tuple{AbstractUnitRange,Vararg{Any,N} where N}} where A<:DenseArray where N where T, DenseArray}, Base.ReshapedArray{#s662,2,A,MI} where MI<:Tuple{Vararg{Base.MultiplicativeInverses.SignedMultiplicativeInverse{Int64},N} where N} where A<:Union{Base.ReinterpretArray{T,N,S,A} where S where A<:Union{SubArray{T,N,A,I,true} where I<:Union{Tuple{Vararg{Real,N} where N}, Tuple{AbstractUnitRange,Vararg{Any,N} where N}} where A<:DenseArray where N where T, DenseArray} where N where T, SubArray{T,N,A,I,true} where I<:Union{Tuple{Vararg{Real,N} where N}, Tuple{AbstractUnitRange,Vararg{Any,N} where N}} where A<:DenseArray where N where T, DenseArray}, SubArray{#s662,2,A,I,L} where L where I<:Tuple{Vararg{Union{Int64, AbstractRange{Int64}, Base.AbstractCartesianIndex},N} where N} where A<:Union{Base.ReinterpretArray{T,N,S,A} where S where A<:Union{SubArray{T,N,A,I,true} where I<:Union{Tuple{Vararg{Real,N} where N}, Tuple{AbstractUnitRange,Vararg{Any,N} where N}} where A<:DenseArray where N where T, DenseArray} where N where T, Base.ReshapedArray{T,N,A,MI} where MI<:Tuple{Vararg{Base.MultiplicativeInverses.SignedMultiplicativeInverse{Int64},N} where N} where A<:Union{Base.ReinterpretArray{T,N,S,A} where S where A<:Union{SubArray{T,N,A,I,true} where I<:Union{Tuple{Vararg{Real,N} where N}, Tuple{AbstractUnitRange,Vararg{Any,N} where N}} where A<:DenseArray where N where T, DenseArray} where N where T, SubArray{T,N,A,I,true} where I<:Union{Tuple{Vararg{Real,N} where N}, Tuple{AbstractUnitRange,Vararg{Any,N} where N}} where A<:DenseArray where N where T, DenseArray} where N where T, DenseArray}} where #s662<:Real</b>) in LinearAlgebra at <a href=\"file:///Users/julia/buildbot/worker/package_macos64/build/usr/share/julia/stdlib/v1.4/LinearAlgebra/src/dense.jl\" target=\"_blank\">/Applications/Julia-1.4.app/Contents/Resources/julia/share/julia/stdlib/v1.4/LinearAlgebra/src/dense.jl:734</a></li> <li> sqrt(A::<b>Union{DenseArray{#s662,2}, Base.ReinterpretArray{#s662,2,S,A} where S where A<:Union{SubArray{T,N,A,I,true} where I<:Union{Tuple{Vararg{Real,N} where N}, Tuple{AbstractUnitRange,Vararg{Any,N} where N}} where A<:DenseArray where N where T, DenseArray}, Base.ReshapedArray{#s662,2,A,MI} where MI<:Tuple{Vararg{Base.MultiplicativeInverses.SignedMultiplicativeInverse{Int64},N} where N} where A<:Union{Base.ReinterpretArray{T,N,S,A} where S where A<:Union{SubArray{T,N,A,I,true} where I<:Union{Tuple{Vararg{Real,N} where N}, Tuple{AbstractUnitRange,Vararg{Any,N} where N}} where A<:DenseArray where N where T, DenseArray} where N where T, SubArray{T,N,A,I,true} where I<:Union{Tuple{Vararg{Real,N} where N}, Tuple{AbstractUnitRange,Vararg{Any,N} where N}} where A<:DenseArray where N where T, DenseArray}, SubArray{#s662,2,A,I,L} where L where I<:Tuple{Vararg{Union{Int64, AbstractRange{Int64}, Base.AbstractCartesianIndex},N} where N} where A<:Union{Base.ReinterpretArray{T,N,S,A} where S where A<:Union{SubArray{T,N,A,I,true} where I<:Union{Tuple{Vararg{Real,N} where N}, Tuple{AbstractUnitRange,Vararg{Any,N} where N}} where A<:DenseArray where N where T, DenseArray} where N where T, Base.ReshapedArray{T,N,A,MI} where MI<:Tuple{Vararg{Base.MultiplicativeInverses.SignedMultiplicativeInverse{Int64},N} where N} where A<:Union{Base.ReinterpretArray{T,N,S,A} where S where A<:Union{SubArray{T,N,A,I,true} where I<:Union{Tuple{Vararg{Real,N} where N}, Tuple{AbstractUnitRange,Vararg{Any,N} where N}} where A<:DenseArray where N where T, DenseArray} where N where T, SubArray{T,N,A,I,true} where I<:Union{Tuple{Vararg{Real,N} where N}, Tuple{AbstractUnitRange,Vararg{Any,N} where N}} where A<:DenseArray where N where T, DenseArray} where N where T, DenseArray}} where #s662<:Complex</b>) in LinearAlgebra at <a href=\"file:///Users/julia/buildbot/worker/package_macos64/build/usr/share/julia/stdlib/v1.4/LinearAlgebra/src/dense.jl\" target=\"_blank\">/Applications/Julia-1.4.app/Contents/Resources/julia/share/julia/stdlib/v1.4/LinearAlgebra/src/dense.jl:747</a></li> <li> sqrt(A::<b>LinearAlgebra.UpperTriangular</b>) in LinearAlgebra at <a href=\"file:///Users/julia/buildbot/worker/package_macos64/build/usr/share/julia/stdlib/v1.4/LinearAlgebra/src/triangular.jl\" target=\"_blank\">/Applications/Julia-1.4.app/Contents/Resources/julia/share/julia/stdlib/v1.4/LinearAlgebra/src/triangular.jl:2543</a></li> <li> sqrt(A::<b>LinearAlgebra.UpperTriangular{T,S} where S<:AbstractArray{T,2}</b>, ::<b>Val{realmatrix}</b>)<i> where {T, realmatrix}</i> in LinearAlgebra at <a href=\"file:///Users/julia/buildbot/worker/package_macos64/build/usr/share/julia/stdlib/v1.4/LinearAlgebra/src/triangular.jl\" target=\"_blank\">/Applications/Julia-1.4.app/Contents/Resources/julia/share/julia/stdlib/v1.4/LinearAlgebra/src/triangular.jl:2557</a></li> <li> sqrt(A::<b>LinearAlgebra.UnitUpperTriangular{T,S} where S<:AbstractArray{T,2}</b>)<i> where T</i> in LinearAlgebra at <a href=\"file:///Users/julia/buildbot/worker/package_macos64/build/usr/share/julia/stdlib/v1.4/LinearAlgebra/src/triangular.jl\" target=\"_blank\">/Applications/Julia-1.4.app/Contents/Resources/julia/share/julia/stdlib/v1.4/LinearAlgebra/src/triangular.jl:2577</a></li> <li> sqrt(A::<b>LinearAlgebra.LowerTriangular</b>) in LinearAlgebra at <a href=\"file:///Users/julia/buildbot/worker/package_macos64/build/usr/share/julia/stdlib/v1.4/LinearAlgebra/src/triangular.jl\" target=\"_blank\">/Applications/Julia-1.4.app/Contents/Resources/julia/share/julia/stdlib/v1.4/LinearAlgebra/src/triangular.jl:2594</a></li> <li> sqrt(A::<b>LinearAlgebra.UnitLowerTriangular</b>) in LinearAlgebra at <a href=\"file:///Users/julia/buildbot/worker/package_macos64/build/usr/share/julia/stdlib/v1.4/LinearAlgebra/src/triangular.jl\" target=\"_blank\">/Applications/Julia-1.4.app/Contents/Resources/julia/share/julia/stdlib/v1.4/LinearAlgebra/src/triangular.jl:2595</a></li> <li> sqrt(A::<b>LinearAlgebra.Hermitian{#s661,S} where S<:(AbstractArray{#s662,2} where #s662<:#s661) where #s661<:Complex</b>) in LinearAlgebra at <a href=\"file:///Users/julia/buildbot/worker/package_macos64/build/usr/share/julia/stdlib/v1.4/LinearAlgebra/src/symmetric.jl\" target=\"_blank\">/Applications/Julia-1.4.app/Contents/Resources/julia/share/julia/stdlib/v1.4/LinearAlgebra/src/symmetric.jl:1006</a></li> <li> sqrt(A::<b>Union{LinearAlgebra.Hermitian{#s662,S}, LinearAlgebra.Symmetric{#s662,S}} where S where #s662<:Real</b>) in LinearAlgebra at <a href=\"file:///Users/julia/buildbot/worker/package_macos64/build/usr/share/julia/stdlib/v1.4/LinearAlgebra/src/symmetric.jl\" target=\"_blank\">/Applications/Julia-1.4.app/Contents/Resources/julia/share/julia/stdlib/v1.4/LinearAlgebra/src/symmetric.jl:996</a></li> <li> sqrt(D::<b>LinearAlgebra.Diagonal</b>) in LinearAlgebra at <a href=\"file:///Users/julia/buildbot/worker/package_macos64/build/usr/share/julia/stdlib/v1.4/LinearAlgebra/src/diagonal.jl\" target=\"_blank\">/Applications/Julia-1.4.app/Contents/Resources/julia/share/julia/stdlib/v1.4/LinearAlgebra/src/diagonal.jl:561</a></li> </ul>"
      ],
      "text/plain": [
       "# 19 methods for generic function \"sqrt\":\n",
       "[1] sqrt(a::Float16) in Base.Math at math.jl:1114\n",
       "[2] sqrt(a::Complex{Float16}) in Base.Math at math.jl:1115\n",
       "[3] sqrt(::Missing) in Base.Math at math.jl:1167\n",
       "[4] sqrt(x::BigFloat) in Base.MPFR at mpfr.jl:581\n",
       "[5] sqrt(x::BigInt) in Base.MPFR at mpfr.jl:588\n",
       "[6] sqrt(z::Complex{#s69} where #s69<:AbstractFloat) in Base at complex.jl:482\n",
       "[7] sqrt(z::Complex) in Base at complex.jl:506\n",
       "[8] sqrt(x::Union{Float32, Float64}) in Base.Math at math.jl:557\n",
       "[9] sqrt(x::Real) in Base.Math at math.jl:583\n",
       "[10] sqrt(A::Union{DenseArray{#s662,2}, Base.ReinterpretArray{#s662,2,S,A} where S where A<:Union{SubArray{T,N,A,I,true} where I<:Union{Tuple{Vararg{Real,N} where N}, Tuple{AbstractUnitRange,Vararg{Any,N} where N}} where A<:DenseArray where N where T, DenseArray}, Base.ReshapedArray{#s662,2,A,MI} where MI<:Tuple{Vararg{Base.MultiplicativeInverses.SignedMultiplicativeInverse{Int64},N} where N} where A<:Union{Base.ReinterpretArray{T,N,S,A} where S where A<:Union{SubArray{T,N,A,I,true} where I<:Union{Tuple{Vararg{Real,N} where N}, Tuple{AbstractUnitRange,Vararg{Any,N} where N}} where A<:DenseArray where N where T, DenseArray} where N where T, SubArray{T,N,A,I,true} where I<:Union{Tuple{Vararg{Real,N} where N}, Tuple{AbstractUnitRange,Vararg{Any,N} where N}} where A<:DenseArray where N where T, DenseArray}, SubArray{#s662,2,A,I,L} where L where I<:Tuple{Vararg{Union{Int64, AbstractRange{Int64}, Base.AbstractCartesianIndex},N} where N} where A<:Union{Base.ReinterpretArray{T,N,S,A} where S where A<:Union{SubArray{T,N,A,I,true} where I<:Union{Tuple{Vararg{Real,N} where N}, Tuple{AbstractUnitRange,Vararg{Any,N} where N}} where A<:DenseArray where N where T, DenseArray} where N where T, Base.ReshapedArray{T,N,A,MI} where MI<:Tuple{Vararg{Base.MultiplicativeInverses.SignedMultiplicativeInverse{Int64},N} where N} where A<:Union{Base.ReinterpretArray{T,N,S,A} where S where A<:Union{SubArray{T,N,A,I,true} where I<:Union{Tuple{Vararg{Real,N} where N}, Tuple{AbstractUnitRange,Vararg{Any,N} where N}} where A<:DenseArray where N where T, DenseArray} where N where T, SubArray{T,N,A,I,true} where I<:Union{Tuple{Vararg{Real,N} where N}, Tuple{AbstractUnitRange,Vararg{Any,N} where N}} where A<:DenseArray where N where T, DenseArray} where N where T, DenseArray}} where #s662<:Real) in LinearAlgebra at /Applications/Julia-1.4.app/Contents/Resources/julia/share/julia/stdlib/v1.4/LinearAlgebra/src/dense.jl:734\n",
       "[11] sqrt(A::Union{DenseArray{#s662,2}, Base.ReinterpretArray{#s662,2,S,A} where S where A<:Union{SubArray{T,N,A,I,true} where I<:Union{Tuple{Vararg{Real,N} where N}, Tuple{AbstractUnitRange,Vararg{Any,N} where N}} where A<:DenseArray where N where T, DenseArray}, Base.ReshapedArray{#s662,2,A,MI} where MI<:Tuple{Vararg{Base.MultiplicativeInverses.SignedMultiplicativeInverse{Int64},N} where N} where A<:Union{Base.ReinterpretArray{T,N,S,A} where S where A<:Union{SubArray{T,N,A,I,true} where I<:Union{Tuple{Vararg{Real,N} where N}, Tuple{AbstractUnitRange,Vararg{Any,N} where N}} where A<:DenseArray where N where T, DenseArray} where N where T, SubArray{T,N,A,I,true} where I<:Union{Tuple{Vararg{Real,N} where N}, Tuple{AbstractUnitRange,Vararg{Any,N} where N}} where A<:DenseArray where N where T, DenseArray}, SubArray{#s662,2,A,I,L} where L where I<:Tuple{Vararg{Union{Int64, AbstractRange{Int64}, Base.AbstractCartesianIndex},N} where N} where A<:Union{Base.ReinterpretArray{T,N,S,A} where S where A<:Union{SubArray{T,N,A,I,true} where I<:Union{Tuple{Vararg{Real,N} where N}, Tuple{AbstractUnitRange,Vararg{Any,N} where N}} where A<:DenseArray where N where T, DenseArray} where N where T, Base.ReshapedArray{T,N,A,MI} where MI<:Tuple{Vararg{Base.MultiplicativeInverses.SignedMultiplicativeInverse{Int64},N} where N} where A<:Union{Base.ReinterpretArray{T,N,S,A} where S where A<:Union{SubArray{T,N,A,I,true} where I<:Union{Tuple{Vararg{Real,N} where N}, Tuple{AbstractUnitRange,Vararg{Any,N} where N}} where A<:DenseArray where N where T, DenseArray} where N where T, SubArray{T,N,A,I,true} where I<:Union{Tuple{Vararg{Real,N} where N}, Tuple{AbstractUnitRange,Vararg{Any,N} where N}} where A<:DenseArray where N where T, DenseArray} where N where T, DenseArray}} where #s662<:Complex) in LinearAlgebra at /Applications/Julia-1.4.app/Contents/Resources/julia/share/julia/stdlib/v1.4/LinearAlgebra/src/dense.jl:747\n",
       "[12] sqrt(A::LinearAlgebra.UpperTriangular) in LinearAlgebra at /Applications/Julia-1.4.app/Contents/Resources/julia/share/julia/stdlib/v1.4/LinearAlgebra/src/triangular.jl:2543\n",
       "[13] sqrt(A::LinearAlgebra.UpperTriangular{T,S} where S<:AbstractArray{T,2}, ::Val{realmatrix}) where {T, realmatrix} in LinearAlgebra at /Applications/Julia-1.4.app/Contents/Resources/julia/share/julia/stdlib/v1.4/LinearAlgebra/src/triangular.jl:2557\n",
       "[14] sqrt(A::LinearAlgebra.UnitUpperTriangular{T,S} where S<:AbstractArray{T,2}) where T in LinearAlgebra at /Applications/Julia-1.4.app/Contents/Resources/julia/share/julia/stdlib/v1.4/LinearAlgebra/src/triangular.jl:2577\n",
       "[15] sqrt(A::LinearAlgebra.LowerTriangular) in LinearAlgebra at /Applications/Julia-1.4.app/Contents/Resources/julia/share/julia/stdlib/v1.4/LinearAlgebra/src/triangular.jl:2594\n",
       "[16] sqrt(A::LinearAlgebra.UnitLowerTriangular) in LinearAlgebra at /Applications/Julia-1.4.app/Contents/Resources/julia/share/julia/stdlib/v1.4/LinearAlgebra/src/triangular.jl:2595\n",
       "[17] sqrt(A::LinearAlgebra.Hermitian{#s661,S} where S<:(AbstractArray{#s662,2} where #s662<:#s661) where #s661<:Complex) in LinearAlgebra at /Applications/Julia-1.4.app/Contents/Resources/julia/share/julia/stdlib/v1.4/LinearAlgebra/src/symmetric.jl:1006\n",
       "[18] sqrt(A::Union{LinearAlgebra.Hermitian{#s662,S}, LinearAlgebra.Symmetric{#s662,S}} where S where #s662<:Real) in LinearAlgebra at /Applications/Julia-1.4.app/Contents/Resources/julia/share/julia/stdlib/v1.4/LinearAlgebra/src/symmetric.jl:996\n",
       "[19] sqrt(D::LinearAlgebra.Diagonal) in LinearAlgebra at /Applications/Julia-1.4.app/Contents/Resources/julia/share/julia/stdlib/v1.4/LinearAlgebra/src/diagonal.jl:561"
      ]
     },
     "execution_count": 50,
     "metadata": {},
     "output_type": "execute_result"
    }
   ],
   "source": [
    "methods(sqrt)#different Julia methods implementation for the function sqrt()"
   ]
  },
  {
   "cell_type": "markdown",
   "metadata": {},
   "source": [
    "### @Time "
   ]
  },
  {
   "cell_type": "code",
   "execution_count": 53,
   "metadata": {},
   "outputs": [
    {
     "name": "stdout",
     "output_type": "stream",
     "text": [
      "98% of the means lie in the estimated range: (0.4700385860036091, 0.5300328640468939)\n",
      " 11.595299 seconds (10.28 M allocations: 7.988 GiB, 13.99% gc time)\n"
     ]
    }
   ],
   "source": [
    "using Statistics\n",
    "@time begin\n",
    "    data = Float64[]\n",
    "        for _ in 1:10^6\n",
    "            group = Float64[]\n",
    "                for _ in 1:5*10^2\n",
    "                    push!(group,rand())\n",
    "                end \n",
    "            push!(data,mean(group))\n",
    "        end \n",
    "    println(\"98% of the means lie in the estimated range: \",(quantile(data,0.01),quantile(data,0.99)) ) \n",
    "end"
   ]
  },
  {
   "cell_type": "code",
   "execution_count": null,
   "metadata": {},
   "outputs": [],
   "source": [
    "import Pkg; Pkg.add(\"Statistics\")"
   ]
  },
  {
   "cell_type": "code",
   "execution_count": 55,
   "metadata": {},
   "outputs": [
    {
     "name": "stdout",
     "output_type": "stream",
     "text": [
      "98% of the means lie in the estimated range: (0.4699070465210751, 0.5299989674082936)\n",
      "  2.622215 seconds (1.05 M allocations: 3.899 GiB, 36.33% gc time)\n"
     ]
    }
   ],
   "source": [
    "using Statistics\n",
    "\n",
    "@time begin\n",
    "\n",
    "data = [mean(rand(5*10^2)) for _ in 1:10^6] \n",
    "    println(\"98% of the means lie in the estimated range: \", (quantile(data,0.01),quantile(data,0.99)) )\n",
    "\n",
    "end"
   ]
  },
  {
   "cell_type": "markdown",
   "metadata": {},
   "source": [
    "### Bubble Sort"
   ]
  },
  {
   "cell_type": "markdown",
   "metadata": {},
   "source": [
    "the bubble sort algorithm is not the most efficient sorting algorithm, but is introduced here as a means of understanding Julia better. "
   ]
  },
  {
   "cell_type": "code",
   "execution_count": 64,
   "metadata": {},
   "outputs": [
    {
     "data": {
      "text/plain": [
       "8-element Array{Float64,1}:\n",
       " 65.0\n",
       " 51.0\n",
       " 32.0\n",
       " 12.0\n",
       " 23.0\n",
       " 84.0\n",
       " 68.0\n",
       "  1.0"
      ]
     },
     "execution_count": 64,
     "metadata": {},
     "output_type": "execute_result"
    }
   ],
   "source": [
    "data = [65, 51, 32, 12, 23, 84, 68.0, 1]"
   ]
  },
  {
   "cell_type": "code",
   "execution_count": 61,
   "metadata": {},
   "outputs": [
    {
     "data": {
      "text/plain": [
       "BubbleSort! (generic function with 1 method)"
      ]
     },
     "execution_count": 61,
     "metadata": {},
     "output_type": "execute_result"
    }
   ],
   "source": [
    "function BubbleSort!(a)\n",
    "    n=length(a)\n",
    "    for i in 1:n-1\n",
    "        for j in 1:n-i \n",
    "            if a[j]>a[j+1]\n",
    "                a[j],a[j+1]=a[j+1],a[j]\n",
    "            end\n",
    "        end\n",
    "    end\n",
    "    return a\n",
    "end"
   ]
  },
  {
   "cell_type": "code",
   "execution_count": 65,
   "metadata": {},
   "outputs": [
    {
     "data": {
      "text/plain": [
       "8-element Array{Float64,1}:\n",
       "  1.0\n",
       " 12.0\n",
       " 23.0\n",
       " 32.0\n",
       " 51.0\n",
       " 65.0\n",
       " 68.0\n",
       " 84.0"
      ]
     },
     "execution_count": 65,
     "metadata": {},
     "output_type": "execute_result"
    }
   ],
   "source": [
    "BubbleSort!(data)"
   ]
  },
  {
   "cell_type": "code",
   "execution_count": 66,
   "metadata": {},
   "outputs": [
    {
     "data": {
      "text/plain": [
       "Array{Float64,1}"
      ]
     },
     "execution_count": 66,
     "metadata": {},
     "output_type": "execute_result"
    }
   ],
   "source": [
    "typeof(data)"
   ]
  },
  {
   "cell_type": "markdown",
   "metadata": {},
   "source": [
    "### Roots of a Polynomial"
   ]
  },
  {
   "cell_type": "code",
   "execution_count": 6,
   "metadata": {},
   "outputs": [
    {
     "data": {
      "text/plain": [
       "polynomialGenerator (generic function with 1 method)"
      ]
     },
     "execution_count": 6,
     "metadata": {},
     "output_type": "execute_result"
    }
   ],
   "source": [
    "using Roots\n",
    "function polynomialGenerator(a...)\n",
    "    n = length(a)-1\n",
    "    poly = function(x)\n",
    "        return sum([a[i+1]*x^i for i in 0:n])\n",
    "        end\n",
    "    return poly\n",
    "end"
   ]
  },
  {
   "cell_type": "code",
   "execution_count": 7,
   "metadata": {},
   "outputs": [
    {
     "data": {
      "text/plain": [
       "#7 (generic function with 1 method)"
      ]
     },
     "execution_count": 7,
     "metadata": {},
     "output_type": "execute_result"
    }
   ],
   "source": [
    "polynomial = polynomialGenerator(1,3,-10)"
   ]
  },
  {
   "cell_type": "code",
   "execution_count": 8,
   "metadata": {},
   "outputs": [
    {
     "data": {
      "text/plain": [
       "2-element Array{Float64,1}:\n",
       " -0.19999999999999998\n",
       "  0.5"
      ]
     },
     "execution_count": 8,
     "metadata": {},
     "output_type": "execute_result"
    }
   ],
   "source": [
    "zeroVals = find_zeros(polynomial,-10,10)"
   ]
  },
  {
   "cell_type": "code",
   "execution_count": 9,
   "metadata": {},
   "outputs": [
    {
     "name": "stdout",
     "output_type": "stream",
     "text": [
      "Zeros of the function f(x): [-0.19999999999999998, 0.5]\n"
     ]
    }
   ],
   "source": [
    "println(\"Zeros of the function f(x): \", zeroVals)"
   ]
  },
  {
   "cell_type": "code",
   "execution_count": 13,
   "metadata": {},
   "outputs": [
    {
     "data": {
      "text/plain": [
       "3×4 Array{Float64,2}:\n",
       " 0.4375  0.4375  0.4375  0.438218\n",
       " 0.3125  0.3125  0.3125  0.31226\n",
       " 0.25    0.25    0.25    0.249522"
      ]
     },
     "execution_count": 13,
     "metadata": {},
     "output_type": "execute_result"
    }
   ],
   "source": [
    "using LinearAlgebra, StatsBase \n",
    "# Transition probability matrix \n",
    "P = [0.5 0.4 0.1; 0.3 0.2 0.5; 0.5 0.3 0.2] \n",
    "# First way \n",
    "piProb1 = (P^100)[1,:] \n",
    "# Second way \n",
    "A = vcat((P' - I)[1:2,:],ones(3)') \n",
    "b = [0 0 1]'\n",
    "piProb2 = A\\b \n",
    "# Third way \n",
    "eigVecs = eigvecs(copy(P')) \n",
    "highestVec = eigVecs[:,findmax(abs.(eigvals(P)))[2]] \n",
    "piProb3 = Array{Float64}(highestVec)/norm(highestVec,1) \n",
    "# Fourth way \n",
    "numInState = zeros(Int,3) \n",
    "state = 1 \n",
    "N = 10^6 \n",
    "for t in 1:N \n",
    "    numInState[state] += 1 \n",
    "    global state = sample(1:3,weights(P[state,:])) \n",
    "end \n",
    "piProb4 = numInState/N \n",
    "[piProb1 piProb2 piProb3 piProb4]"
   ]
  },
  {
   "cell_type": "code",
   "execution_count": 19,
   "metadata": {},
   "outputs": [
    {
     "ename": "HTTP.IOExtras.IOError",
     "evalue": "IOError(Base.IOError(\"connect: connection refused (ECONNREFUSED)\", -61) during request(https://raw.githubusercontent.com/h-Klok/StatsWithJuliaBook/master/1_chapter/jsonCode.json))\n",
     "output_type": "error",
     "traceback": [
      "IOError(Base.IOError(\"connect: connection refused (ECONNREFUSED)\", -61) during request(https://raw.githubusercontent.com/h-Klok/StatsWithJuliaBook/master/1_chapter/jsonCode.json))\n",
      "",
      "Stacktrace:",
      " [1] wait_connected(::Sockets.TCPSocket) at /Users/julia/buildbot/worker/package_macos64/build/usr/share/julia/stdlib/v1.4/Sockets/src/Sockets.jl:520",
      " [2] connect at /Users/julia/buildbot/worker/package_macos64/build/usr/share/julia/stdlib/v1.4/Sockets/src/Sockets.jl:555 [inlined]",
      " [3] connect(::Sockets.IPv6, ::UInt64) at /Users/julia/buildbot/worker/package_macos64/build/usr/share/julia/stdlib/v1.4/Sockets/src/Sockets.jl:541",
      " [4] getconnection(::Type{Sockets.TCPSocket}, ::SubString{String}, ::String; keepalive::Bool, connect_timeout::Int64, kw::Base.Iterators.Pairs{Symbol,Union{Nothing, Bool},Tuple{Symbol,Symbol},NamedTuple{(:require_ssl_verification, :iofunction),Tuple{Bool,Nothing}}}) at /Users/mac/.julia/packages/HTTP/BOJmV/src/ConnectionPool.jl:616",
      " [5] #getconnection#29 at /Users/mac/.julia/packages/HTTP/BOJmV/src/ConnectionPool.jl:668 [inlined]",
      " [6] newconnection(::HTTP.ConnectionPool.Pod, ::Type{T} where T, ::SubString{String}, ::SubString{String}, ::Int64, ::Bool, ::Int64; kw::Base.Iterators.Pairs{Symbol,Nothing,Tuple{Symbol},NamedTuple{(:iofunction,),Tuple{Nothing}}}) at /Users/mac/.julia/packages/HTTP/BOJmV/src/ConnectionPool.jl:583",
      " [7] getconnection(::Type{HTTP.ConnectionPool.Transaction{MbedTLS.SSLContext}}, ::SubString{String}, ::SubString{String}; connection_limit::Int64, pipeline_limit::Int64, idle_timeout::Int64, reuse_limit::Int64, require_ssl_verification::Bool, kw::Base.Iterators.Pairs{Symbol,Nothing,Tuple{Symbol},NamedTuple{(:iofunction,),Tuple{Nothing}}}) at /Users/mac/.julia/packages/HTTP/BOJmV/src/ConnectionPool.jl:527",
      " [8] request(::Type{ConnectionPoolLayer{StreamLayer{Union{}}}}, ::HTTP.URIs.URI, ::HTTP.Messages.Request, ::Array{UInt8,1}; proxy::Nothing, socket_type::Type{T} where T, reuse_limit::Int64, kw::Base.Iterators.Pairs{Symbol,Nothing,Tuple{Symbol},NamedTuple{(:iofunction,),Tuple{Nothing}}}) at /Users/mac/.julia/packages/HTTP/BOJmV/src/ConnectionRequest.jl:73",
      " [9] request(::Type{ExceptionLayer{ConnectionPoolLayer{StreamLayer{Union{}}}}}, ::HTTP.URIs.URI, ::Vararg{Any,N} where N; kw::Base.Iterators.Pairs{Symbol,Nothing,Tuple{Symbol},NamedTuple{(:iofunction,),Tuple{Nothing}}}) at /Users/mac/.julia/packages/HTTP/BOJmV/src/ExceptionRequest.jl:19",
      " [10] (::Base.var\"#58#60\"{Base.var\"#58#59#61\"{ExponentialBackOff,HTTP.RetryRequest.var\"#2#3\"{Bool,HTTP.Messages.Request},typeof(HTTP.request)}})(::Type{T} where T, ::Vararg{Any,N} where N; kwargs::Base.Iterators.Pairs{Symbol,Nothing,Tuple{Symbol},NamedTuple{(:iofunction,),Tuple{Nothing}}}) at ./error.jl:301",
      " [11] #request#1 at /Users/mac/.julia/packages/HTTP/BOJmV/src/RetryRequest.jl:44 [inlined]",
      " [12] request(::Type{MessageLayer{RetryLayer{ExceptionLayer{ConnectionPoolLayer{StreamLayer{Union{}}}}}}}, ::String, ::HTTP.URIs.URI, ::Array{Pair{SubString{String},SubString{String}},1}, ::Array{UInt8,1}; http_version::VersionNumber, target::String, parent::Nothing, iofunction::Nothing, kw::Base.Iterators.Pairs{Union{},Union{},Tuple{},NamedTuple{(),Tuple{}}}) at /Users/mac/.julia/packages/HTTP/BOJmV/src/MessageRequest.jl:51",
      " [13] request at /Users/mac/.julia/packages/HTTP/BOJmV/src/MessageRequest.jl:28 [inlined]",
      " [14] request(::Type{BasicAuthLayer{MessageLayer{RetryLayer{ExceptionLayer{ConnectionPoolLayer{StreamLayer{Union{}}}}}}}}, ::String, ::HTTP.URIs.URI, ::Array{Pair{SubString{String},SubString{String}},1}, ::Array{UInt8,1}; kw::Base.Iterators.Pairs{Union{},Union{},Tuple{},NamedTuple{(),Tuple{}}}) at /Users/mac/.julia/packages/HTTP/BOJmV/src/BasicAuthRequest.jl:28",
      " [15] request at /Users/mac/.julia/packages/HTTP/BOJmV/src/BasicAuthRequest.jl:21 [inlined]",
      " [16] request(::Type{RedirectLayer{BasicAuthLayer{MessageLayer{RetryLayer{ExceptionLayer{ConnectionPoolLayer{StreamLayer{Union{}}}}}}}}}, ::String, ::HTTP.URIs.URI, ::Array{Pair{SubString{String},SubString{String}},1}, ::Array{UInt8,1}; redirect_limit::Int64, forwardheaders::Bool, kw::Base.Iterators.Pairs{Union{},Union{},Tuple{},NamedTuple{(),Tuple{}}}) at /Users/mac/.julia/packages/HTTP/BOJmV/src/RedirectRequest.jl:24",
      " [17] request(::Type{RedirectLayer{BasicAuthLayer{MessageLayer{RetryLayer{ExceptionLayer{ConnectionPoolLayer{StreamLayer{Union{}}}}}}}}}, ::String, ::HTTP.URIs.URI, ::Array{Pair{SubString{String},SubString{String}},1}, ::Array{UInt8,1}) at /Users/mac/.julia/packages/HTTP/BOJmV/src/RedirectRequest.jl:21",
      " [18] request(::String, ::String, ::Array{Pair{SubString{String},SubString{String}},1}, ::Array{UInt8,1}; headers::Array{Pair{SubString{String},SubString{String}},1}, body::Array{UInt8,1}, query::Nothing, kw::Base.Iterators.Pairs{Union{},Union{},Tuple{},NamedTuple{(),Tuple{}}}) at /Users/mac/.julia/packages/HTTP/BOJmV/src/HTTP.jl:314",
      " [19] request at /Users/mac/.julia/packages/HTTP/BOJmV/src/HTTP.jl:314 [inlined] (repeats 2 times)",
      " [20] top-level scope at In[19]:5"
     ]
    }
   ],
   "source": [
    "using HTTP, JSON \n",
    "data = HTTP.request(\"GET\",\"https://ocw.mit.edu/ans7870/6/6.006/s08/lecturenotes/files/t8.shakespeare.txt\") \n",
    "shakespeare = String(data.body) \n",
    "shakespeareWords = split(shakespeare)\n",
    "jsonWords = HTTP.request(\"GET\",\"https://raw.githubusercontent.com/\"* \n",
    "    \"h-Klok/StatsWithJuliaBook/master/1_chapter/jsonCode.json\") \n",
    "parsedJsonDict = JSON.parse( String(jsonWords.body))\n",
    "keywords = Array{String}(parsedJsonDict[\"words\"]) \n",
    "numberToShow = parsedJsonDict[\"numToShow\"] \n",
    "wordCount = Dict([(x,count(w -> lowercase(w) == lowercase(x), shakespeareWords)) \n",
    "        for x in keywords])\n",
    "sortedWordCount = sort(collect(wordCount),by=last,rev=true) \n",
    "sortedWordCount[1:numberToShow]"
   ]
  },
  {
   "cell_type": "markdown",
   "metadata": {},
   "source": [
    "### HTTP.request from the HTTP package is used to make a HTTP request"
   ]
  },
  {
   "cell_type": "code",
   "execution_count": 20,
   "metadata": {},
   "outputs": [
    {
     "ename": "ArgumentError",
     "evalue": "ArgumentError: Package Plots not found in current path:\n- Run `import Pkg; Pkg.add(\"Plots\")` to install the Plots package.\n",
     "output_type": "error",
     "traceback": [
      "ArgumentError: Package Plots not found in current path:\n- Run `import Pkg; Pkg.add(\"Plots\")` to install the Plots package.\n",
      "",
      "Stacktrace:",
      " [1] require(::Module, ::Symbol) at ./loading.jl:892",
      " [2] top-level scope at In[20]:1"
     ]
    }
   ],
   "source": [
    "using Plots, LaTeXStrings, Measures; pyplot() \n",
    "f(x,y) = x^2 + y^2 \n",
    "f0(x) = f(x,0) \n",
    "f2(x) = f(x,2) \n",
    "xVals, yVals = -5:0.1:5 , -5:0.1:5 \n",
    "plot(xVals, [f0.(xVals), f2.(xVals)], \n",
    "    c=[:blue :red], xlims=(-5,5), legend=:top, \n",
    "    ylims=(-5,25), ylabel=L\"f(x,\\cdot)\", label=[L\"f(x,0)\" L\"f(x,2)\"]) \n",
    "p1 = annotate!(0, -0.2, text(\"(0,0) The minimum\\n of f(x,0)\", :left, :top, 10)) \n",
    "z = [ f(x,y) for y in yVals, x in xVals ] \n",
    "p2 = surface(xVals, yVals, z, c=cgrad([:blue, :red]),legend=:none, 15 ylabel=\"y\", zlabel=L\"f(x,y)\") \n",
    "M = z[1:10,1:10] 18 p3 = heatmap(M, c=cgrad([:blue, :red]), yflip=true, ylabel=\"y\", \n",
    "    xticks=([1:10;], xVals), yticks=([1:10;], yVals)) \n",
    "plot(p1, p2, p3, layout=(1,3), size=(1200,400), xlabel=\"x\", margin=5mm)"
   ]
  },
  {
   "cell_type": "markdown",
   "metadata": {},
   "source": [
    "### Creating Animations"
   ]
  },
  {
   "cell_type": "code",
   "execution_count": null,
   "metadata": {},
   "outputs": [],
   "source": []
  }
 ],
 "metadata": {
  "hide_input": false,
  "kernelspec": {
   "display_name": "Julia 1.4.2",
   "language": "julia",
   "name": "julia-1.4"
  },
  "language_info": {
   "file_extension": ".jl",
   "mimetype": "application/julia",
   "name": "julia",
   "version": "1.4.2"
  },
  "toc": {
   "base_numbering": 1,
   "nav_menu": {},
   "number_sections": true,
   "sideBar": true,
   "skip_h1_title": false,
   "title_cell": "Table of Contents",
   "title_sidebar": "Contents",
   "toc_cell": false,
   "toc_position": {},
   "toc_section_display": true,
   "toc_window_display": true
  },
  "varInspector": {
   "cols": {
    "lenName": 16,
    "lenType": 16,
    "lenVar": 40
   },
   "kernels_config": {
    "python": {
     "delete_cmd_postfix": "",
     "delete_cmd_prefix": "del ",
     "library": "var_list.py",
     "varRefreshCmd": "print(var_dic_list())"
    },
    "r": {
     "delete_cmd_postfix": ") ",
     "delete_cmd_prefix": "rm(",
     "library": "var_list.r",
     "varRefreshCmd": "cat(var_dic_list()) "
    }
   },
   "types_to_exclude": [
    "module",
    "function",
    "builtin_function_or_method",
    "instance",
    "_Feature"
   ],
   "window_display": false
  }
 },
 "nbformat": 4,
 "nbformat_minor": 4
}
