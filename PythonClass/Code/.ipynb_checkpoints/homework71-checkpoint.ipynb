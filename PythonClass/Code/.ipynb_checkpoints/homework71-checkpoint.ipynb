{
 "cells": [
  {
   "cell_type": "markdown",
   "metadata": {},
   "source": [
    "# 作业：商城销售统计"
   ]
  },
  {
   "cell_type": "markdown",
   "metadata": {},
   "source": [
    "假设你是学生实验超市的销售总监，每个月你会收到销售数据，这些数据存在CSV文件中，文件内容看起来像这样：\n",
    "<img src=\"../Images/homework71.png\" width=\"70%\">\n",
    "\n",
    "其中order_id是订单号，goods_id是商品代码，goods_name是商品名称，unit_price是商品单价，quantity是销售数量，return_qty是退货数量。\n",
    "\n",
    "现在你有2018年1月至4月份销售数据，分别存在2018_01.csv，2018_02.csv，2018_03.csv，2018_04.csv文件中，请做出以下统计：\n",
    "* 每个月的销售额，以及4个月的销售总额写入到salesAmount.txt文件中，每个月的数据和总额数据各占1行（共5行）。你的文件应该看起来像：\n",
    "<img src=\"../Images/homework71_2.png\" width=30%>\n",
    "* 每个月销售额最高的10种商品的商品代码，商品名称，销售数量，销售额分别写入到1个文件中，文件名分别为：salesTop10_01.txt，salesTop10_02.txt，salesTop10_03.txt，salesTop10_04.txt。你的每个文件应该看起来像：\n",
    "<img src=\"../Images/homework71_3.png\" width=30%>"
   ]
  },
  {
   "cell_type": "code",
   "execution_count": 23,
   "metadata": {},
   "outputs": [],
   "source": [
    "import csv\n",
    "\n",
    "baseDir = '../Documents/Sales/'\n",
    "\n",
    "def readCSVFile(fileName):\n",
    "    csvFile = open(os.path.join(baseDir,fileName))\n",
    "    csvReader = csv.reader(csvFile)\n",
    "    csvRows = []\n",
    "    for row in csvReader:\n",
    "        if csvReader.line_num == 1:\n",
    "            continue\n",
    "        csvRows.append(row)\n",
    "    csvFile.close()\n",
    "    \n",
    "    return csvRows\n",
    "\n",
    "def getMonthName(fileName):\n",
    "    shortName, extension = os.path.splitext(fileName)\n",
    "    return shortName[5:]"
   ]
  },
  {
   "cell_type": "code",
   "execution_count": 18,
   "metadata": {},
   "outputs": [],
   "source": [
    "import os\n",
    "\n",
    "csvRowsFileNames = os.listdir(baseDir)\n",
    "\n",
    "#用来存储销售数据，每一项是一个字典，包括两项：fileName（读入的文件名）和data(读入的数据)\n",
    "salesData = []\n",
    "\n",
    "for fileName in csvRowsFileNames:\n",
    "    csvRows = readCSVFile(fileName)\n",
    "    csvDic = {}\n",
    "    csvDic[\"fileName\"] = fileName\n",
    "    csvDic[\"data\"] = csvRows\n",
    "    salesData.append(csvDic)"
   ]
  },
  {
   "cell_type": "code",
   "execution_count": 20,
   "metadata": {},
   "outputs": [
    {
     "data": {
      "text/plain": [
       "['1058032', '3523', '【哈立得】卡门贝尔蛋糕点心/蛋糕 80g', '3.78', '1', '0']"
      ]
     },
     "execution_count": 20,
     "metadata": {},
     "output_type": "execute_result"
    }
   ],
   "source": [
    "salesData[0]['data'][0]"
   ]
  },
  {
   "cell_type": "code",
   "execution_count": 22,
   "metadata": {},
   "outputs": [
    {
     "data": {
      "text/plain": [
       "'2018_01.csv'"
      ]
     },
     "execution_count": 22,
     "metadata": {},
     "output_type": "execute_result"
    }
   ],
   "source": [
    "salesData[0]['fileName']"
   ]
  },
  {
   "cell_type": "markdown",
   "metadata": {},
   "source": [
    "* ** 每个月的销售额，以及4个月的销售总额写入到salesAmount.txt文件中，每个月的数据和总额数据各占1行（共5行）。**"
   ]
  },
  {
   "cell_type": "code",
   "execution_count": 24,
   "metadata": {},
   "outputs": [
    {
     "data": {
      "text/plain": [
       "'01'"
      ]
     },
     "execution_count": 24,
     "metadata": {},
     "output_type": "execute_result"
    }
   ],
   "source": [
    "getMonthName('2018_01.csv')"
   ]
  },
  {
   "cell_type": "code",
   "execution_count": 33,
   "metadata": {
    "collapsed": true
   },
   "outputs": [],
   "source": [
    "totalAmount = 0\n",
    "statAmountList = []\n",
    "for item in salesData:\n",
    "    tmpDic = {}\n",
    "    tmpDic['fileName'] = item['fileName']\n",
    "    tmpTotalAmount = 0\n",
    "    for r in item['data']:\n",
    "        tmpTotalAmount += float(r[3]) * float(r[4])\n",
    "    tmpDic['totalAmount'] = tmpTotalAmount\n",
    "    totalAmount += tmpTotalAmount\n",
    "    \n",
    "    statAmountList.append(tmpDic)"
   ]
  },
  {
   "cell_type": "code",
   "execution_count": 34,
   "metadata": {
    "scrolled": true
   },
   "outputs": [
    {
     "name": "stdout",
     "output_type": "stream",
     "text": [
      "[{'fileName': '2018_01.csv', 'totalAmount': 612986.2899998261}, {'fileName': '2018_02.csv', 'totalAmount': 16194.539999999997}, {'fileName': '2018_03.csv', 'totalAmount': 707449.709999778}, {'fileName': '2018_04.csv', 'totalAmount': 727722.489999736}]\n"
     ]
    }
   ],
   "source": [
    "print(statAmountList)"
   ]
  },
  {
   "cell_type": "code",
   "execution_count": 35,
   "metadata": {},
   "outputs": [
    {
     "name": "stdout",
     "output_type": "stream",
     "text": [
      "{'fileName': '2018_01.csv', 'totalAmount': 612986.2899998261}\n",
      "{'fileName': '2018_02.csv', 'totalAmount': 16194.539999999997}\n",
      "{'fileName': '2018_03.csv', 'totalAmount': 707449.709999778}\n",
      "{'fileName': '2018_04.csv', 'totalAmount': 727722.489999736}\n"
     ]
    }
   ],
   "source": [
    "with open('salesAmount.txt','w') as salesAmountFile:\n",
    "    salesAmountFile.write('总销售额：{:.2f}\\n'.format(totalAmount))\n",
    "    for item in statAmountList:\n",
    "        print(item)\n",
    "        salesAmountFile.write('{}月销售额：{:.2f}\\n'.format(getMonthName(item['fileName']),item['totalAmount']))"
   ]
  },
  {
   "cell_type": "markdown",
   "metadata": {},
   "source": [
    "* **每个月销售额最高的10种商品的商品代码，商品名称，销售数量，销售额分别写入到1个文件中，文件名分别为：salesTop10_01.txt，salesTop10_02.txt，salesTop10_03.txt，salesTop10_04.txt**"
   ]
  },
  {
   "cell_type": "code",
   "execution_count": 49,
   "metadata": {},
   "outputs": [
    {
     "name": "stdout",
     "output_type": "stream",
     "text": [
      "('2526', ['娃哈哈AD钙奶220g*4瓶', 1418, 10540.859999999693])\n",
      "('3945', ['【九九鸭脖】素菜什锦盒装卤味约280g', 1142, 7485.519999999954])\n",
      "('3362', ['百事可乐600ml', 2201, 6582.119999999886])\n",
      "('2099', ['心相印柔韧升级纸面巾400张*3包', 329, 5485.150000000003])\n",
      "('4946', ['康师傅冰红茶1L', 889, 3915.8400000000056])\n",
      "('2043', ['有友泡椒凤爪泡椒鸡爪210g', 379, 3756.660000000019])\n",
      "('3351', ['洽洽焦糖瓜子108g', 588, 3690.949999999983])\n",
      "('2073', ['伊利纯牛奶250ml', 1260, 3644.2700000000086])\n",
      "('2104', ['洽洽香瓜子200g', 537, 3469.7200000000116])\n",
      "('2165', ['康师傅老坛酸菜牛肉面桶装121g', 841, 3443.3000000000216])\n",
      "('6028', ['代跑腿服务（软云）', 34, 782.0])\n",
      "('6125', ['雪花啤酒天然100瓶装500ml', 98, 490.0])\n",
      "('6269', ['代跑腿服务（娇子格调黑）', 31, 465.8])\n",
      "('6025', ['代跑腿服务（软玉）', 18, 414.0])\n",
      "('18753', ['代跑腿服务（南京）', 29, 348.0])\n",
      "('6026', ['代跑腿服务（爱喜薄荷）', 26, 260.0])\n",
      "('4910', ['五常大米绿色生态米5kg', 2, 238.0])\n",
      "('6021', ['代跑腿服务（蓝娇）', 18, 234.0])\n",
      "('13395', ['五常长粒香大米10kg', 3, 216.0])\n",
      "('6127', ['雪花啤酒纯生听装500ml', 27, 202.5])\n",
      "('22873', ['鸡蛋散装1kg', 2220, 22200.0])\n",
      "('2526', ['娃哈哈AD钙奶220g*4瓶', 1724, 12878.81999999957])\n",
      "('3945', ['【九九鸭脖】素菜什锦盒装卤味约280g', 1436, 9410.439999999999])\n",
      "('3362', ['百事可乐600ml', 2115, 6322.059999999876])\n",
      "('2099', ['心相印柔韧升级纸面巾400张*3包（抽纸）', 351, 5823.010000000007])\n",
      "('2034', ['怡宝矿泉水纯净水555ml', 2900, 5608.249999999965])\n",
      "('2073', ['伊利纯牛奶250ml', 1738, 4947.680000000024])\n",
      "('2282', ['农夫山泉矿泉水550ml', 2356, 4551.699999999978])\n",
      "('2117', ['双汇玉米热狗肠香肠火腿肠70g', 1765, 4431.850000000019])\n",
      "('4946', ['康师傅冰红茶1L', 979, 4265.5599999999895])\n",
      "('2526', ['娃哈哈AD钙奶220g*4瓶', 1764, 13238.839999999598])\n",
      "('3945', ['【九九鸭脖】素菜什锦盒装卤味约280g', 1641, 10738.260000000044])\n",
      "('3362', ['百事可乐600ml', 2206, 6592.039999999848])\n",
      "('2034', ['怡宝矿泉水纯净水555ml', 3206, 6369.44999999987])\n",
      "('2282', ['农夫山泉矿泉水550ml', 2915, 5758.149999999877])\n",
      "('4271', ['怡宝矿泉水纯净水瓶装1.5L', 1571, 5602.649999999895])\n",
      "('4946', ['康师傅冰红茶1L', 1231, 5371.599999999988])\n",
      "('2099', ['心相印柔韧升级纸面巾400张*3包（抽纸）', 317, 5298.240000000004])\n",
      "('2073', ['伊利纯牛奶250ml', 1692, 4859.520000000025])\n",
      "('2117', ['双汇玉米热狗肠香肠火腿肠70g', 1918, 4823.300000000036])\n"
     ]
    }
   ],
   "source": [
    "for monthSale in salesData:\n",
    "    monthFileName = 'salesTop10_' + getMonthName(monthSale['fileName']) + '.txt'\n",
    "    monthGoodsSaleData = {} #以商品ID为key的字典\n",
    "    for saleRowData in monthSale['data']:\n",
    "        goodsList = monthGoodsSaleData.setdefault(saleRowData[1],[saleRowData[2],0,0])\n",
    "        goodsList[1] += int(saleRowData[4])\n",
    "        goodsList[2] += float(saleRowData[3]) * int(saleRowData[4])  \n",
    "        \n",
    "    #字典没有顺序可言，所以要转换成列表\n",
    "    monthGoodsSaleDataList = list(monthGoodsSaleData.items())\n",
    "    # 数据结构类似于：[('3523', ['【哈立得】卡门贝尔蛋糕点心/蛋糕 80g', 372, 1445.159999999999]),('2195', ['雀巢1+2咖啡原味15g*7条', 112, 1188.5])]\n",
    "    monthGoodsSaleDataList.sort(key=lambda x:x[1][2], reverse=True)\n",
    "    with open(monthFileName,'w') as salesAmountFile:\n",
    "        for item in monthGoodsSaleDataList[:10]:\n",
    "            print(item)\n",
    "            salesAmountFile.write('{} {} {:.2f} {:.2f}\\n'.format(item[0],item[1][0],item[1][1],item[1][2]))"
   ]
  },
  {
   "cell_type": "code",
   "execution_count": 44,
   "metadata": {},
   "outputs": [
    {
     "name": "stdout",
     "output_type": "stream",
     "text": [
      "['3523', '2195', '2031', '2539', '2838']\n"
     ]
    }
   ],
   "source": [
    "print(list(monthGoodsSaleData.keys())[:5])"
   ]
  },
  {
   "cell_type": "code",
   "execution_count": 45,
   "metadata": {},
   "outputs": [
    {
     "name": "stdout",
     "output_type": "stream",
     "text": [
      "['【哈立得】卡门贝尔蛋糕点心/蛋糕 80g', 372, 1445.159999999999]\n"
     ]
    }
   ],
   "source": [
    "print(monthGoodsSaleData['3523'])"
   ]
  },
  {
   "cell_type": "code",
   "execution_count": 47,
   "metadata": {},
   "outputs": [
    {
     "data": {
      "text/plain": [
       "[('3523', ['【哈立得】卡门贝尔蛋糕点心/蛋糕 80g', 372, 1445.159999999999]),\n",
       " ('2195', ['雀巢1+2咖啡原味15g*7条', 112, 1188.5])]"
      ]
     },
     "execution_count": 47,
     "metadata": {},
     "output_type": "execute_result"
    }
   ],
   "source": []
  },
  {
   "cell_type": "code",
   "execution_count": 50,
   "metadata": {
    "scrolled": true
   },
   "outputs": [
    {
     "data": {
      "text/plain": [
       "[('2526', ['娃哈哈AD钙奶220g*4瓶', 1764, 13238.839999999598]),\n",
       " ('3945', ['【九九鸭脖】素菜什锦盒装卤味约280g', 1641, 10738.260000000044]),\n",
       " ('3362', ['百事可乐600ml', 2206, 6592.039999999848]),\n",
       " ('2034', ['怡宝矿泉水纯净水555ml', 3206, 6369.44999999987]),\n",
       " ('2282', ['农夫山泉矿泉水550ml', 2915, 5758.149999999877])]"
      ]
     },
     "execution_count": 50,
     "metadata": {},
     "output_type": "execute_result"
    }
   ],
   "source": [
    "monthGoodsSaleDataList.sort(key=lambda x:x[1][2], reverse=True)\n",
    "monthGoodsSaleDataList[:5]"
   ]
  },
  {
   "cell_type": "markdown",
   "metadata": {},
   "source": [
    "将作业的程序源文件保存在12345678.py文件中作为第5次作业的附件,其中12345678需要替换成你的学号,发送到xzl_swufe@163.com。<br><br>\n",
    "<b><font color=red>邮件标题必须类似于：作业7_12345678。</font>其中12345678需要替换成你的学号。<br><br><b><font color=red>邮件标题必须类似于：作业7_12345678。</font>其中12345678需要替换成你的学号。<br><br><b><font color=red>邮件标题必须类似于：作业7_12345678。</font>其中12345678需要替换成你的学号。"
   ]
  },
  {
   "cell_type": "code",
   "execution_count": null,
   "metadata": {
    "collapsed": true
   },
   "outputs": [],
   "source": []
  }
 ],
 "metadata": {
  "kernelspec": {
   "display_name": "Python 3",
   "language": "python",
   "name": "python3"
  },
  "language_info": {
   "codemirror_mode": {
    "name": "ipython",
    "version": 3
   },
   "file_extension": ".py",
   "mimetype": "text/x-python",
   "name": "python",
   "nbconvert_exporter": "python",
   "pygments_lexer": "ipython3",
   "version": "3.6.2"
  }
 },
 "nbformat": 4,
 "nbformat_minor": 2
}
