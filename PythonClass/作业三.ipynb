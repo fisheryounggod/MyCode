{
 "cells": [
  {
   "cell_type": "code",
   "execution_count": 1,
   "metadata": {},
   "outputs": [
    {
     "name": "stdout",
     "output_type": "stream",
     "text": [
      "219020204138 | 杨雄飞\n",
      "100以内的奇数有：1, 3, 5, 7, 9, 11, 13, 15, 17, 19, 21, 23, 25, 27, 29, 31, 33, 35, 37, 39, 41, 43, 45, 47, 49, 51, 53, 55, 57, 59, 61, 63, 65, 67, 69, 71, 73, 75, 77, 79, 81, 83, 85, 87, 89, 91, 93, 95, 97, 99\n",
      "偶数之和为：2550\n"
     ]
    }
   ],
   "source": [
    "# 4.0 100以内求偶数和\n",
    "print('219020204138 | 杨雄飞')\n",
    "jishu=[]\n",
    "sum_of_oushu=0\n",
    "for i in range(101):\n",
    "    if i % 2 != 0:\n",
    "        jishu.append(i)\n",
    "        \n",
    "    else:\n",
    "        sum_of_oushu += i \n",
    "jishu=str(jishu)\n",
    "print(\"100以内的奇数有：%s\" %jishu[1:-1]) \n",
    "print(\"偶数之和为：%d\" %sum_of_oushu)"
   ]
  },
  {
   "cell_type": "code",
   "execution_count": 2,
   "metadata": {},
   "outputs": [
    {
     "name": "stdout",
     "output_type": "stream",
     "text": [
      "219020204138 | 杨雄飞\n",
      "输入一个数字：9\n",
      "遗憾，太大了\n",
      "输入一个数字：2\n",
      "遗憾，太小了\n",
      "输入一个数字：8\n",
      "预测3次，你猜中了\n",
      "游戏结束\n"
     ]
    }
   ],
   "source": [
    "#%% 4.1 猜数游戏\n",
    "print('219020204138 | 杨雄飞')\n",
    "num0 = 8\n",
    "N=0\n",
    "t=True\n",
    "while t: \n",
    "    num1 = int(input('输入一个数字：'))\n",
    "    N +=1\n",
    "    if num1==num0:\n",
    "        print('预测{}次，你猜中了'.format(N))\n",
    "        print(\"游戏结束\")\n",
    "        t=False\n",
    "    elif num1>num0:\n",
    "        print('遗憾，太大了')\n",
    "    elif num1<num0:\n",
    "        print('遗憾，太小了')\n",
    "        "
   ]
  },
  {
   "cell_type": "code",
   "execution_count": 3,
   "metadata": {},
   "outputs": [
    {
     "name": "stdout",
     "output_type": "stream",
     "text": [
      "219020204138 | 杨雄飞\n",
      "请输入一个字符串：I am a student of swufe, my student ID is 219020204138! \n",
      "英文字母个数：31个\n",
      "数字个数：12个\n",
      "其他字符个数：2个\n",
      "空格个数：11个\n"
     ]
    }
   ],
   "source": [
    "#%% 4.2 统计不同字符个数\n",
    "print('219020204138 | 杨雄飞')\n",
    "string =input('请输入一个字符串：')\n",
    "num_word  = num_digit = num_space = num_other = 0\n",
    "for i in string:\n",
    "   if (ord(i)>=97 and ord(i)<=122) or (ord(i)>=65 and ord(i)<=90):\n",
    "       num_word += 1\n",
    "   elif ord(i)>=48 and ord(i)<=57:\n",
    "       num_digit += 1\n",
    "   elif ord(i)==32:\n",
    "       num_space += 1\n",
    "   else:\n",
    "       num_other +=1\n",
    "print (\"英文字母个数：%d个\" %num_word)\n",
    "print (\"数字个数：%d个\" %num_digit)\n",
    "print (\"其他字符个数：%d个\" %num_other)\n",
    "print (\"空格个数：%d个\" %num_space)"
   ]
  },
  {
   "cell_type": "code",
   "execution_count": 4,
   "metadata": {},
   "outputs": [
    {
     "name": "stdout",
     "output_type": "stream",
     "text": [
      "219020204138 | 杨雄飞\n",
      "请输入一个整数：32\n",
      "再输入一个整数：12\n",
      "最大公约数为：4\n",
      "最小公倍数为：96\n"
     ]
    }
   ],
   "source": [
    "#%% 4.3 最大公约数计算\n",
    "print('219020204138 | 杨雄飞')\n",
    "a =int(input('请输入一个整数：'))\n",
    "b =int(input('再输入一个整数：'))\n",
    "mult=a*b\n",
    "while b:\n",
    "    a,b=b,a%b\n",
    "print('最大公约数为：%d'%a)\n",
    "print('最小公倍数为：%d'%(mult/a))"
   ]
  },
  {
   "cell_type": "code",
   "execution_count": null,
   "metadata": {},
   "outputs": [],
   "source": []
  }
 ],
 "metadata": {
  "kernelspec": {
   "display_name": "Python 3",
   "language": "python",
   "name": "python3"
  },
  "language_info": {
   "codemirror_mode": {
    "name": "ipython",
    "version": 3
   },
   "file_extension": ".py",
   "mimetype": "text/x-python",
   "name": "python",
   "nbconvert_exporter": "python",
   "pygments_lexer": "ipython3",
   "version": "3.7.3"
  },
  "toc": {
   "base_numbering": 1,
   "nav_menu": {},
   "number_sections": true,
   "sideBar": true,
   "skip_h1_title": false,
   "title_cell": "Table of Contents",
   "title_sidebar": "Contents",
   "toc_cell": false,
   "toc_position": {},
   "toc_section_display": true,
   "toc_window_display": false
  },
  "varInspector": {
   "cols": {
    "lenName": 16,
    "lenType": 16,
    "lenVar": 40
   },
   "kernels_config": {
    "python": {
     "delete_cmd_postfix": "",
     "delete_cmd_prefix": "del ",
     "library": "var_list.py",
     "varRefreshCmd": "print(var_dic_list())"
    },
    "r": {
     "delete_cmd_postfix": ") ",
     "delete_cmd_prefix": "rm(",
     "library": "var_list.r",
     "varRefreshCmd": "cat(var_dic_list()) "
    }
   },
   "types_to_exclude": [
    "module",
    "function",
    "builtin_function_or_method",
    "instance",
    "_Feature"
   ],
   "window_display": false
  }
 },
 "nbformat": 4,
 "nbformat_minor": 4
}
