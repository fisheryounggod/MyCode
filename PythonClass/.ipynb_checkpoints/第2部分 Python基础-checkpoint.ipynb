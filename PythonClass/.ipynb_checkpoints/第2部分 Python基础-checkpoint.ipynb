{
 "cells": [
  {
   "cell_type": "markdown",
   "metadata": {
    "collapsed": true
   },
   "source": [
    "<table border=0 width=\"100%\"><tr><td><p align=\"left\"><img src=\"Images/logo.png\" align=\"left\" width=300></p></td><td><font size=5><B>Python程序设计</B></font></td></tr></table>"
   ]
  },
  {
   "cell_type": "markdown",
   "metadata": {},
   "source": [
    "# <div align='center'>第二部分 Python基础</div>"
   ]
  },
  {
   "cell_type": "markdown",
   "metadata": {},
   "source": [
    "## 知识点\n",
    "- 数据类型的概念。整数、浮点数和字符串。\n",
    "- 常量、变量、函数（或方法）、运算符、表达式的概念。\n",
    "- 数据输入、输出、赋值的方法、类型和作用。"
   ]
  },
  {
   "cell_type": "markdown",
   "metadata": {},
   "source": [
    "## 预习\n",
    "* 第二章：Python程序实列解析\n",
    "* 第三章：基本数据类型"
   ]
  },
  {
   "cell_type": "markdown",
   "metadata": {},
   "source": [
    "## 1. 表达式"
   ]
  },
  {
   "cell_type": "code",
   "execution_count": 1,
   "metadata": {},
   "outputs": [
    {
     "data": {
      "text/plain": [
       "4"
      ]
     },
     "execution_count": 1,
     "metadata": {},
     "output_type": "execute_result"
    }
   ],
   "source": [
    "2 + 2"
   ]
  },
  {
   "cell_type": "markdown",
   "metadata": {},
   "source": [
    "上面Cell中的 2 + 2 在Python中，称为表达式，它是语言中最基本的编程结构。\n",
    "\n",
    "**表达式**包含“值”（例如2）和“操作符”（例如+），并且总是可以求值（也就是归约）为单个值。\n",
    "\n",
    "Python 表达式中也可以使用大量其他操作符。例如，下表列出了Python 的所有数学操作符。"
   ]
  },
  {
   "cell_type": "markdown",
   "metadata": {},
   "source": [
    "|操作符|操作|例子|求值为|\n",
    "|---|--|--|---|\n",
    "|**|指数|2 ** 3|8|\n",
    "|%|取模/取余数|22 % 8|6|\n",
    "|//|整除/商数取整|22 // 8|2|\n",
    "|/|除法|22 / 8|2.75|\n",
    "|-|减法|5 - 2|3|\n",
    "|+|加法|2 + 2|4|\n",
    "\n",
    "数学操作符的操作顺序（也称为“**优先级**”）与数学中类似。\\*\\*操作符首先求值，接下来是\\*、/、//和%操作符，从左到右。+和-操作符最后求值，也是从左到右。\n",
    "一般来说都会用**括号**来改变通常的优先级。"
   ]
  },
  {
   "cell_type": "code",
   "execution_count": 50,
   "metadata": {},
   "outputs": [
    {
     "data": {
      "text/plain": [
       "20"
      ]
     },
     "execution_count": 50,
     "metadata": {},
     "output_type": "execute_result"
    }
   ],
   "source": [
    "2 + 3 * 6"
   ]
  },
  {
   "cell_type": "code",
   "execution_count": 51,
   "metadata": {},
   "outputs": [
    {
     "data": {
      "text/plain": [
       "30"
      ]
     },
     "execution_count": 51,
     "metadata": {},
     "output_type": "execute_result"
    }
   ],
   "source": [
    "(2 + 3) * 6"
   ]
  },
  {
   "cell_type": "code",
   "execution_count": 52,
   "metadata": {},
   "outputs": [
    {
     "data": {
      "text/plain": [
       "28093077826734"
      ]
     },
     "execution_count": 52,
     "metadata": {},
     "output_type": "execute_result"
    }
   ],
   "source": [
    "48565878 * 578453"
   ]
  },
  {
   "cell_type": "code",
   "execution_count": 53,
   "metadata": {},
   "outputs": [
    {
     "data": {
      "text/plain": [
       "256"
      ]
     },
     "execution_count": 53,
     "metadata": {},
     "output_type": "execute_result"
    }
   ],
   "source": [
    "2 ** 8"
   ]
  },
  {
   "cell_type": "code",
   "execution_count": 54,
   "metadata": {},
   "outputs": [
    {
     "data": {
      "text/plain": [
       "3.2857142857142856"
      ]
     },
     "execution_count": 54,
     "metadata": {},
     "output_type": "execute_result"
    }
   ],
   "source": [
    "23 / 7"
   ]
  },
  {
   "cell_type": "code",
   "execution_count": 55,
   "metadata": {},
   "outputs": [
    {
     "data": {
      "text/plain": [
       "3"
      ]
     },
     "execution_count": 55,
     "metadata": {},
     "output_type": "execute_result"
    }
   ],
   "source": [
    "23 // 7"
   ]
  },
  {
   "cell_type": "code",
   "execution_count": 56,
   "metadata": {},
   "outputs": [
    {
     "data": {
      "text/plain": [
       "2"
      ]
     },
     "execution_count": 56,
     "metadata": {},
     "output_type": "execute_result"
    }
   ],
   "source": [
    "23 % 7"
   ]
  },
  {
   "cell_type": "code",
   "execution_count": 57,
   "metadata": {},
   "outputs": [
    {
     "data": {
      "text/plain": [
       "16.0"
      ]
     },
     "execution_count": 57,
     "metadata": {},
     "output_type": "execute_result"
    }
   ],
   "source": [
    "(5 - 1) * ((7 + 1) / (3 - 1))"
   ]
  },
  {
   "cell_type": "markdown",
   "metadata": {},
   "source": [
    "在编写程序过程中，如果你输入错误的 Python指令，Python 也不能理解，就会显示出错误信息(**Bug**)，像下面这样："
   ]
  },
  {
   "cell_type": "code",
   "execution_count": 58,
   "metadata": {},
   "outputs": [
    {
     "ename": "SyntaxError",
     "evalue": "invalid syntax (<ipython-input-58-7caaf07bbc0f>, line 1)",
     "output_type": "error",
     "traceback": [
      "\u001b[0;36m  File \u001b[0;32m\"<ipython-input-58-7caaf07bbc0f>\"\u001b[0;36m, line \u001b[0;32m1\u001b[0m\n\u001b[0;31m    10 +\u001b[0m\n\u001b[0m         ^\u001b[0m\n\u001b[0;31mSyntaxError\u001b[0m\u001b[0;31m:\u001b[0m invalid syntax\n"
     ]
    }
   ],
   "source": [
    "10 + "
   ]
  },
  {
   "cell_type": "code",
   "execution_count": 59,
   "metadata": {},
   "outputs": [
    {
     "ename": "SyntaxError",
     "evalue": "invalid syntax (<ipython-input-59-dee108cd8a9c>, line 1)",
     "output_type": "error",
     "traceback": [
      "\u001b[0;36m  File \u001b[0;32m\"<ipython-input-59-dee108cd8a9c>\"\u001b[0;36m, line \u001b[0;32m1\u001b[0m\n\u001b[0;31m    10 + 5 + * 20\u001b[0m\n\u001b[0m             ^\u001b[0m\n\u001b[0;31mSyntaxError\u001b[0m\u001b[0;31m:\u001b[0m invalid syntax\n"
     ]
    }
   ],
   "source": [
    "10 + 5 + * 20"
   ]
  },
  {
   "cell_type": "markdown",
   "metadata": {},
   "source": [
    "### 课堂练习：\n",
    "请写出员工10932和10933的应纳税额的计算表达式：<br>\n",
    "<img src='Images/salary.png'><br>\n",
    "应纳税所得额计算方法：\n",
    "**<center>应纳税所得额=正常收入 - 5000元免征额 - 五险一金 - 专项附加扣除 - 其他扣除</center>**"
   ]
  },
  {
   "cell_type": "markdown",
   "metadata": {},
   "source": [
    "## 2. 常见数字类型\n",
    "表达式是值和操作符的组合，它们可以通过求值成为单个值。“数据类型”是一类值，**每个值都只属于一种数据类型。**不同数据类型的数据可以进行的运算是不同的。\n",
    "\n",
    "常见的数据类型有：\n",
    "\n",
    "|数字类型|例子|\n",
    "|:----|:--|\n",
    "|整型|-2, -1, 0, 1, 2, 3, 4, 5|\n",
    "|浮点型|-1.25, -1.0, -0.5, 0.0, 0.5, 1.0, 1.25|\n",
    "\n",
    "**整数类型没有取值范围的限制。**"
   ]
  },
  {
   "cell_type": "code",
   "execution_count": 60,
   "metadata": {},
   "outputs": [
    {
     "data": {
      "text/plain": [
       "3273390607896141870013189696827599152216642046043064789483291368096133796404674554883270092325904157150886684127560071009217256545885393053328527589376"
      ]
     },
     "execution_count": 60,
     "metadata": {},
     "output_type": "execute_result"
    }
   ],
   "source": [
    "2 ** 500"
   ]
  },
  {
   "cell_type": "code",
   "execution_count": 61,
   "metadata": {
    "scrolled": true
   },
   "outputs": [
    {
     "data": {
      "text/plain": [
       "1415461031044954789001553027744951601348130711472388167234385748272366634240845253596025356476648415075475872961656126492389808579544737848881938296250873191743927793544913011050162651277957029846960211783242933521207545413484969856851851141288515163201482995389055097460622098635675003353929224278582935664416262572773308153277514346480313371988612629481483562438178928958867777850072198316174841251955590996672018645093640850803679630220367201383844866791449284737518262813123083439037243678440420897139923778278952770312318778329004894547065489077596835396017153603170050371302014762443872701111379554484309718662306883776010475348441493600491943479041271992920195331983064930106164727241438940877685164658948654886171641124473975626241632750150126655369981021293570066042305482486040883165635862835728637046058352403756085745691239473897891999085976345203704659967157427239535836507133656908815246080139195569461072006301590372954830738644391138016065344131131207604264053897440828904662047183234377547427287691941741535946510882990904477863185473798528388060457568927943633923928872681927502029572963130840854853739937076881035646179383055483433876051402037614424748902969018159186519811051545367967103767182819709135479019131683309330797374408197339831527239040715908112213095126770717606001288898889370710896248862361503869205214536908258196921765593065325392836332142594411134603475509366028145690306350601859295261296263331018682276317567749534571058772235567679556920240789109070521253987131031263902293034744367356932509952188828475362311316445284228640489421809263738423630931243024914587863928134719186104164660605356001591962778646378295413659770782646979236289062616442418071571039282551289348848274522893059561717860194034698241804887531275078109603637160495907579995366419636417028927573391670580796818526074226095014375189438579216071677540766085605604106123036669667434677723472675564458991671268414100801031453917736665947284956674884035306621286465183798693852599803324619865181856244422079233687294508536408521087418873908498202710597080474480249818858011490930518512713798803629101638716278578874145214429026186276602289012484526830076647356828764878327726719816428678904207944456894393185983090347045176886732326253912297649524439880403701430566761380359925558522718201954287517587367247510777678934664472548647787048306330770862370015525858005479756471499227244901142805749769564184753211967223226212964165678856604892416984915097422960534122333453876981279243565766391796311605149222628328255333061543877525846029404507128890053189442527544665141513571136187126874914601669750392486100507568442046831780631032540574077944274454228087639241736818505163759910365131990632947462993204585218122431992323864244947394390438656356424037471932484452186545692102503479070599953823165194211019696760575264426802848303031804305733532228050180286034175168918827460626042268658295140706915047189049492578996650494005882337071150004868956193406593184838633694068409823903437144417376039174235011053228846851424217955172902918651003610984108402650929359396305634313047088725113039076811940090109855578285937829164213576612822210347957745947331047482525346602542653176899809278808232796557531832150249769253600667902268029661700149632868541956266119528042486534014778779846981761033155007262730162675954520221887384710387051721829271917592295057169589539706361671082094809405871790468623234895914796464390019259167513771864832869036015645542195008456098615038348028400803005801944957156282746379539470250603755465358786281476086044567893715130635914946085361612372742732638037372287633897118303250036355897758209569010246051563429109255864938245524550200580218274314809738075022775651220374105227215906205292751918667060475328593225367793061070422108733800983855507591806413460964585595316359971179284283604731468668545484761381747591639736453419896449323486397030776397761202590467637505473390222249456724093238682557762781839530938233751281999608711356147835655195236666056355678841889862284014674059052995170220711404445012766642203314592371712594877968343265210232798135023299117318191770365123807086704381809759602260151612996896994294186084475619138121455294389585874237791634701296124550179672059485838256445846530599137662480841344376503989244633345016070887198120421435575726237189312161818021548006389501182393441712142044953072264016676799011624620312246468554654371544717355227740157629086739710675845209992133342035144038961065892653392182875622932670067798433934891709519877850794219491447988160171932331006495620280094149464379450153085406225081471879585894087916092141623752345112751067703166403681162331920291740847388957632311053342426152947324011627922225878539935022974616062774839110489080094174972841068102006645677499293769091362853719300958775222088670909723895414866464400756314470281962034276531512544009726174649399937581739718117982417360985958259468485436586733686659771030677664677905401522360041892481951454135360540917411098412286723830672712910603386748136348878056545746112142111116659985782398275627122449414307140749404884060753863706024281031485538666133332835597817514616331728118982180628823657668668099621799842011158020767772792912298768785614574416019320546196793486018677884550715870608004988829978148966980770136884353226949853654541655837029498017031085943660440466076019479435181045436897845351048788440102268677798257134774081674357195358847761226603653040273985441982221318087815835107317571211841215825606453348521097936413520295998260751040778703740366309871999114717441069182825782996299411623087415008910941303284182131584799816210728034255555687956785287887098941927737599159824398527573423117728252839768919145018117995597946282264946523741691180858441194373387098969530126834014923656627849129062189145572870212225909464530919531634090206371146321663797279805760028495288084848179380053931435604182517516600823936737919915974103591167638898871754018470172589234989397051893028574365288890303780239194622538215532212735555299397542845350629361560347195459286729561168235383428930828378887678197590624110372267338756668414899526138480866747114831414687579691636020586013635675559033488649721062244142787960404056961306176022981242840984825421797150393909713884990708008654327558025619074213270714252431515171638994505720144347502185848528129000055629703422695425047209518177577128511315492059613722366724615343968357332924191178041956753132941596322101250417068813977303498033940613791099720174786773844696734034010269139553878212387108508158622839733593634918975616613368243882808391509244806809337882965338701545504691589517650472239580754189547649790038026506707709763098148746524031013800531890876858227360501676161874661946431647929572555992967298553471152693471452480119897608173336753260124452510815333416409357029633265172614203663326409976153102467083379129588112837280711111346490898947808402062401228963194162711657422998429263579276515414000979053740662733816632981508535128518440258006782392288860903823207436820793041881907093791874917635829854808150640894907127600430185202301457398493533111918994100853753771956293430162566011361163168953462188010231819000213669780447856871248564377584509085888797883747538309181810700615032225563091016689474780253412571338625581817921061549352557588323659562675650563535186144754433556539747098322643609542486120512917463706713059064230762924353617972053492527119192658171851345957700772571841998176036269399889012480745075924980479390349332734102774400008120073461540540571051506971003904623484344762005126345905465893817895377928139596549936720100490013375956605889200767596688065961076003472005585890222594655010430123127351665316862663484785966446263740624564875351640780923703006868107440790271682936043304873579648989978571754898840789184480129570446991029504758616393106487523321312507454036808667210073602144290050619610614738139543285649346986393213102456863793665512533655931941790537619020604730601443181250662019687491711547360597117856977240817110039737153355212454745907787131179578656470567535050192702347739653312290522505871612897990429961857550031033665725647987982751868407294730437319505335782425290324427994308374960806684435416445907817107168298342945182985594111281499472495749501642418042734681158560450241309279063816746067016274795461832774699007774423895748677615395848493765672271957278664546343161609126810028254214659633625223934508931691728584028342356669332635458079957147833789501696835781748234884919093574276330354577841975249603899105407104895787598263630679206627796433754045597409176502438867600537016879169914474754840024311922169647388379952802523847080102439285112565751677726373201688403254466789070713575214256192452449029110040537994627424532403620179880056518721219108771374073638118719073211367295514376708596537294204544099903590754371656178656960170217675832153268164591674004500239073743502648099105624548587493544825479270589742494495181223722329693345468639306990523118995640567042531369577131113159027381808071346991604513906450398219426300899204662435492578485666553974492723173859777485412927016068341515517437115137050372750279278548332799193799400154166442801427310076537020119936073495221974791939759846168942055397357348278178050441024490005893818256958665388971201322931680573846084525016332224646866617490832496084991690171583029352609836490908113464668343829985351590552945284372573978295485097950893072423518605982085487154470155025269025854044646496572448495225343096261896378931482883286657508859228868487844184479087538453974144187004884366561256723404772190847586008543961349071131191708943295337664384184532774661503245910257451923515607711559705478132556040197663414911885143697985464807309297002910250505302287769412337441199360424519160716552890882816796378296881641827981453035207233752063518782778493743827708109913493162932182427627261046280168269958077541122668104633712377856"
      ]
     },
     "execution_count": 61,
     "metadata": {},
     "output_type": "execute_result"
    }
   ],
   "source": [
    "2 ** (2 ** 15)"
   ]
  },
  {
   "cell_type": "markdown",
   "metadata": {},
   "source": [
    "**浮点数类型**\n",
    "* 带有小数点及小数的数字。\n",
    "* Python语言中浮点数的数值范围存在限制，小数精度也存在限制。这种限制与在不同计算机系统有关。"
   ]
  },
  {
   "cell_type": "code",
   "execution_count": 62,
   "metadata": {},
   "outputs": [
    {
     "data": {
      "text/plain": [
       "sys.float_info(max=1.7976931348623157e+308, max_exp=1024, max_10_exp=308, min=2.2250738585072014e-308, min_exp=-1021, min_10_exp=-307, dig=15, mant_dig=53, epsilon=2.220446049250313e-16, radix=2, rounds=1)"
      ]
     },
     "execution_count": 62,
     "metadata": {},
     "output_type": "execute_result"
    }
   ],
   "source": [
    "import sys\n",
    "sys.float_info"
   ]
  },
  {
   "cell_type": "markdown",
   "metadata": {},
   "source": [
    "浮点数示例：\n",
    "* 0.0, -77., -2.17 \n",
    "* 96e4, 4.3e-3, 9.6E5  （科学计数法）\n",
    "* 科学计数法使用字母“e”或者“E”作为幂的符号，以10为基数。科学计数法含义如下：\n",
    " ```Python\n",
    " <a>e<b> = a * 10b\n",
    " ```"
   ]
  },
  {
   "cell_type": "code",
   "execution_count": 63,
   "metadata": {},
   "outputs": [
    {
     "data": {
      "text/plain": [
       "960000.0"
      ]
     },
     "execution_count": 63,
     "metadata": {},
     "output_type": "execute_result"
    }
   ],
   "source": [
    "96e4"
   ]
  },
  {
   "cell_type": "markdown",
   "metadata": {},
   "source": [
    "### 扩展阅读：\n",
    "在Python中，整数共有4中进制表示：十进制、二进制、八进制和十六进制。例如：\n",
    "* 1010, 99, -217 \n",
    "* 0x9a, -0X89   (0x, 0X开头表示16进制数) \n",
    "* 0b010, -0B101  (0b, 0B开头表示2进制数) \n",
    "* 0o123, -0O456  (0o, 0O开头表示8进制数)"
   ]
  },
  {
   "cell_type": "code",
   "execution_count": 64,
   "metadata": {},
   "outputs": [
    {
     "data": {
      "text/plain": [
       "10"
      ]
     },
     "execution_count": 64,
     "metadata": {},
     "output_type": "execute_result"
    }
   ],
   "source": [
    "0b101 + 5"
   ]
  },
  {
   "cell_type": "markdown",
   "metadata": {},
   "source": [
    "**不同数字类型之间可以进行混合运算，运算后生成结果为<font color=red>最宽类型</font>**<br> \n",
    "**整数宽度小于浮点数**<br><br>\n",
    "**数字类型之间相互运算所生成的结果是“更宽”的类型，基本规则是：**\n",
    "* 整数之间运算，如果数学意义上的结果是小数，结果是浮点数；\n",
    "* 整数之间运算，如果数学意义上的结果是整数，结果是整数；\n",
    "* 整数和浮点数混合运算，输出结果是浮点数；"
   ]
  },
  {
   "cell_type": "code",
   "execution_count": 65,
   "metadata": {},
   "outputs": [
    {
     "data": {
      "text/plain": [
       "225.0"
      ]
     },
     "execution_count": 65,
     "metadata": {},
     "output_type": "execute_result"
    }
   ],
   "source": [
    "100 + 125.0"
   ]
  },
  {
   "cell_type": "markdown",
   "metadata": {},
   "source": [
    "Python解释器提供了一些内置函数，在这些内置函数之中，有6个函数与数值运算相关：<br>\n",
    "<img src='Images/digitFuncList.png' width=\"260%\"><br>"
   ]
  },
  {
   "cell_type": "code",
   "execution_count": 66,
   "metadata": {},
   "outputs": [
    {
     "data": {
      "text/plain": [
       "100"
      ]
     },
     "execution_count": 66,
     "metadata": {},
     "output_type": "execute_result"
    }
   ],
   "source": [
    "abs(-100)"
   ]
  },
  {
   "cell_type": "code",
   "execution_count": 67,
   "metadata": {},
   "outputs": [
    {
     "data": {
      "text/plain": [
       "(4, 1)"
      ]
     },
     "execution_count": 67,
     "metadata": {},
     "output_type": "execute_result"
    }
   ],
   "source": [
    "divmod(9,2)"
   ]
  },
  {
   "cell_type": "code",
   "execution_count": 68,
   "metadata": {},
   "outputs": [
    {
     "data": {
      "text/plain": [
       "500"
      ]
     },
     "execution_count": 68,
     "metadata": {},
     "output_type": "execute_result"
    }
   ],
   "source": [
    "max(12, 500, 2.0, 108.0)"
   ]
  },
  {
   "cell_type": "markdown",
   "metadata": {},
   "source": [
    "**数字类型的转换**<br>\n",
    "数值运算操作符可以***隐式地***转换输出结果的数字类型：例如，两个整数采用运算符“/”的除法将可能输出浮点数结果。<br><br>\n",
    "此外，通过内置的数字类型转换函数可以显式地在数字类型之间进行转换：\n",
    "* int(x)，将x转换为整数，x可以是浮点数或字符串\n",
    "* float(x)，将x转换为浮点数，x可以是整数或字符串"
   ]
  },
  {
   "cell_type": "code",
   "execution_count": 69,
   "metadata": {
    "scrolled": true
   },
   "outputs": [
    {
     "data": {
      "text/plain": [
       "4"
      ]
     },
     "execution_count": 69,
     "metadata": {},
     "output_type": "execute_result"
    }
   ],
   "source": [
    "int(4.5) #直接去掉小数部分"
   ]
  },
  {
   "cell_type": "code",
   "execution_count": 70,
   "metadata": {
    "scrolled": false
   },
   "outputs": [
    {
     "data": {
      "text/plain": [
       "3000.0"
      ]
     },
     "execution_count": 70,
     "metadata": {},
     "output_type": "execute_result"
    }
   ],
   "source": [
    "float(3000) # 增加小数部分"
   ]
  },
  {
   "cell_type": "markdown",
   "metadata": {},
   "source": [
    "### 课堂练习：\n",
    "请将下列数学表达式用Python程序写出来，并运算结果：\n",
    "* $\\frac{2^{3} + 10 - 5 \\times 3}{7}$\n",
    "* $(2 + 5^{2})\\times (16 mod 7)/7$"
   ]
  },
  {
   "cell_type": "markdown",
   "metadata": {},
   "source": [
    "## 3.变量"
   ]
  },
  {
   "cell_type": "markdown",
   "metadata": {
    "collapsed": true
   },
   "source": [
    "在计算个人所得税时，先计算出应纳税所得额，再利用应纳税所得额获得税率及速算扣除数，最后利用应纳税所得额、税率和速算扣除数计算个人所得税。在程序设计中，有很多类似于应纳税所得额这样的中间值。你可以将中间值保存在一个位置，以备将来使用，这个位置就是**变量**。\n",
    "### 3.1 变量名\n",
    "可以给变量取任何名字，只要它遵守以下3条规则：<br>\n",
    "(1) 只能是一个词。<br>\n",
    "(2) 只能包含字母、数字和下划线。<br>\n",
    "(3) 不能以数字开头。<br>\n",
    "(4) 不要使用Python保留字（关键字）。<br>\n",
    "$\\color {red}{Python中的33个保留字如下表所示：}$\n",
    "<img src=\"Images\\pythonKeywords.png\" width=\"70%\">\n",
    "\n",
    "**下面的变量名，哪些是有效的，哪些是无效的？**<br>\n",
    "balance, current-balance, current balance, currentBalance, current_balance, \\_spam, SPAM, 4account, account4, 100, total_$um, 'swufe'\n",
    "\n",
    "**<font color=red>变量名是区分大小写的</font>**。这意味着，swufe、 SWUFE、Swufe 和sWuFe 是4个不同的变量。变量用小写字母开头是Python的惯例（不是必须，但是建议这样做）。\n",
    "\n",
    "一般在给变量命名时，为了标识变量中值的含义，会使用一些有意义的单词组合，例如利用taxIncome来存储计算得到的应纳税所得额会比使用abc好些。taxIncome这样的命名方式叫做**驼峰形式**，还可以使用Python官方建议的**PEP8**代码风格，即tax_income。\n",
    "\n",
    "### 3.2 赋值语句\n",
    "用“赋值语句”将值保存在变量中。**赋值语句包含一个变量名、一个等号（称为赋值操作符），以及要存储的值**。如果输入赋值语句**spam = 42**，那么名为spam的变量将保存一个整型值42。可以将变量看成一个带标签的盒子（类似于Excel中的单元格），值放在其中，如下图所示：\n",
    "<img src='Images\\spamVar.png' width=20%>"
   ]
  },
  {
   "cell_type": "code",
   "execution_count": 71,
   "metadata": {},
   "outputs": [],
   "source": [
    "spam = 42"
   ]
  },
  {
   "cell_type": "code",
   "execution_count": 72,
   "metadata": {},
   "outputs": [
    {
     "data": {
      "text/plain": [
       "42"
      ]
     },
     "execution_count": 72,
     "metadata": {},
     "output_type": "execute_result"
    }
   ],
   "source": [
    "spam"
   ]
  },
  {
   "cell_type": "code",
   "execution_count": 73,
   "metadata": {},
   "outputs": [
    {
     "ename": "SyntaxError",
     "evalue": "can't assign to literal (<ipython-input-73-f261bb2a2cd4>, line 1)",
     "output_type": "error",
     "traceback": [
      "\u001b[0;36m  File \u001b[0;32m\"<ipython-input-73-f261bb2a2cd4>\"\u001b[0;36m, line \u001b[0;32m1\u001b[0m\n\u001b[0;31m    42 = 10 #赋值语句的等号左边必须是变量\u001b[0m\n\u001b[0m                           ^\u001b[0m\n\u001b[0;31mSyntaxError\u001b[0m\u001b[0;31m:\u001b[0m can't assign to literal\n"
     ]
    }
   ],
   "source": [
    "42 = 10 #赋值语句的等号左边必须是变量"
   ]
  },
  {
   "cell_type": "code",
   "execution_count": 74,
   "metadata": {},
   "outputs": [
    {
     "data": {
      "text/plain": [
       "40"
      ]
     },
     "execution_count": 74,
     "metadata": {},
     "output_type": "execute_result"
    }
   ],
   "source": [
    "spam = 40\n",
    "spam # 赋了新值后，原来的值就被覆盖了"
   ]
  },
  {
   "cell_type": "code",
   "execution_count": 75,
   "metadata": {},
   "outputs": [
    {
     "data": {
      "text/plain": [
       "50"
      ]
     },
     "execution_count": 75,
     "metadata": {},
     "output_type": "execute_result"
    }
   ],
   "source": [
    "eggs = 10\n",
    "spam = spam + eggs\n",
    "spam"
   ]
  },
  {
   "cell_type": "markdown",
   "metadata": {},
   "source": [
    "在Python中，可以同时给多个变量赋值：\n",
    "<center><变量1>, …, <变量N> = <表达式1>, …, <表达式N></center>"
   ]
  },
  {
   "cell_type": "code",
   "execution_count": 76,
   "metadata": {},
   "outputs": [],
   "source": [
    "taxRate, quickDeduction = 0.1, 210"
   ]
  },
  {
   "cell_type": "code",
   "execution_count": 77,
   "metadata": {},
   "outputs": [
    {
     "data": {
      "text/plain": [
       "0.1"
      ]
     },
     "execution_count": 77,
     "metadata": {},
     "output_type": "execute_result"
    }
   ],
   "source": [
    "taxRate"
   ]
  },
  {
   "cell_type": "code",
   "execution_count": 78,
   "metadata": {},
   "outputs": [
    {
     "data": {
      "text/plain": [
       "210"
      ]
     },
     "execution_count": 78,
     "metadata": {},
     "output_type": "execute_result"
    }
   ],
   "source": [
    "quickDeduction"
   ]
  },
  {
   "cell_type": "markdown",
   "metadata": {},
   "source": [
    "**下面语句运行后，x和y的值分别是什么？**\n",
    "```Python\n",
    "x = 10\n",
    "y = 20\n",
    "x, y = y, x\n",
    "```"
   ]
  },
  {
   "cell_type": "markdown",
   "metadata": {},
   "source": [
    "所有的二元数学操作符(+、-、\\*、/、//、%、\\*\\*)都有与之对应的**增强赋值操作符**(+=、-=、\\*=、/=、//=、%=、\\*\\*=)"
   ]
  },
  {
   "cell_type": "code",
   "execution_count": 79,
   "metadata": {},
   "outputs": [
    {
     "data": {
      "text/plain": [
       "20"
      ]
     },
     "execution_count": 79,
     "metadata": {},
     "output_type": "execute_result"
    }
   ],
   "source": [
    "a = 10\n",
    "a += 10  #等价于a = a + 10\n",
    "a"
   ]
  },
  {
   "cell_type": "code",
   "execution_count": null,
   "metadata": {},
   "outputs": [],
   "source": [
    "b += 10  #这个运算结果是什么？为什么？"
   ]
  },
  {
   "cell_type": "markdown",
   "metadata": {},
   "source": [
    "### 4.注释\n",
    "注释是程序员为了便于人类阅读，在代码中加入的说明信息，不会被计算机执行。\n",
    "\n",
    "**注释的两种方法：**\n",
    "* 单行注释以**#**开头<br>\n",
    "\t#这里是单行注释语句，不会被执行<br><br>\n",
    "* 多行注释以**'''**开头和结尾<br>\n",
    "  '''\n",
    "  这里是多行注释语句，<br>不会被执行\n",
    "  '''"
   ]
  },
  {
   "cell_type": "markdown",
   "metadata": {},
   "source": [
    "## 5.字符串\n",
    "### 5.1 字符串基本概念\n",
    "在Python中，字符串是用两个双引号**\" \"**<font color=red>或者</font>单引号**' '**括起来的一个或多个字符。\n",
    "\n",
    "注意区别字符串和变量，下面一个是变量，一个是字符串：\n",
    "* swufe \n",
    "* 'swufe'\n",
    "\n",
    "当字符串中有引号时，可以使用另外一类引号将字符串括起来，也可以使用**转义字符**："
   ]
  },
  {
   "cell_type": "code",
   "execution_count": null,
   "metadata": {},
   "outputs": [],
   "source": [
    "sayHello = '他说：\"你好啊\"。'\n",
    "sayHello"
   ]
  },
  {
   "cell_type": "code",
   "execution_count": null,
   "metadata": {},
   "outputs": [],
   "source": [
    "sayHi = \"他说：\\\"你好啊\\\"。\"\n",
    "sayHi"
   ]
  },
  {
   "cell_type": "markdown",
   "metadata": {},
   "source": [
    "**问题：如果字符串中有\\怎么办？\\n、\\t分别带代表什么？**"
   ]
  },
  {
   "cell_type": "markdown",
   "metadata": {},
   "source": [
    "有时候，字符串中本身就有很多的的到斜杠\\(例如，表示路径的字符串)，可以在引号前面加上r，使该字符串成为**原始字符串**。使它成为原始字符串。“原始字符串”完全忽略所有的转义字符，打印出字符串中所有的倒斜杠。"
   ]
  },
  {
   "cell_type": "code",
   "execution_count": null,
   "metadata": {},
   "outputs": [],
   "source": [
    "print(r\"C:\\Windows\\Help\\Corporate\")"
   ]
  },
  {
   "cell_type": "markdown",
   "metadata": {},
   "source": [
    "字符串是一个字符序列：字符串最左端位置标记为0，往右边依次递增。字符串中的编号叫做“索引”。Python中的编号是双向的，也可以将最右边记为-1，往左边依此递减。\n",
    "<img src=\"Images/strList.png\" width=\"70%\">\n",
    "**单个索引**辅助访问字符串中的特定位置，例如："
   ]
  },
  {
   "cell_type": "code",
   "execution_count": null,
   "metadata": {},
   "outputs": [],
   "source": [
    "idCard = '520125197907167551'\n",
    "idCard[16]"
   ]
  },
  {
   "cell_type": "code",
   "execution_count": null,
   "metadata": {},
   "outputs": [],
   "source": [
    "idCard[-2]"
   ]
  },
  {
   "cell_type": "markdown",
   "metadata": {},
   "source": [
    "可以通过**两个索引值**确定一个位置范围，返回这个范围的子串："
   ]
  },
  {
   "cell_type": "code",
   "execution_count": null,
   "metadata": {},
   "outputs": [],
   "source": [
    "idCard[6:10]  #注意：结果没有包括结束位置10的字符，这和Excel中的哪个函数比较类似？"
   ]
  },
  {
   "cell_type": "markdown",
   "metadata": {},
   "source": [
    "**怎么取得出生月份？**"
   ]
  },
  {
   "cell_type": "markdown",
   "metadata": {},
   "source": [
    "也可以省略冒号前面和后面的值："
   ]
  },
  {
   "cell_type": "code",
   "execution_count": null,
   "metadata": {},
   "outputs": [],
   "source": [
    "idCard[6:]"
   ]
  },
  {
   "cell_type": "code",
   "execution_count": null,
   "metadata": {},
   "outputs": [],
   "source": [
    "idCard[:6]"
   ]
  },
  {
   "cell_type": "code",
   "execution_count": null,
   "metadata": {},
   "outputs": [],
   "source": [
    "idCard[:]"
   ]
  },
  {
   "cell_type": "markdown",
   "metadata": {},
   "source": [
    "### 5.2 字符串基本操作\n",
    "**5.2.1 连接操作：+或\\***\n",
    "* 加法操作(**+**)将两个字符串连接成为一个新的字符串\n",
    "* 乘法操作(**\\***)生成一个由其本身字符串重复连接而成的字符串"
   ]
  },
  {
   "cell_type": "code",
   "execution_count": null,
   "metadata": {},
   "outputs": [],
   "source": [
    "\"pine\" + \"apple\""
   ]
  },
  {
   "cell_type": "code",
   "execution_count": null,
   "metadata": {},
   "outputs": [],
   "source": [
    "\"pine\" * 3"
   ]
  },
  {
   "cell_type": "code",
   "execution_count": null,
   "metadata": {},
   "outputs": [],
   "source": [
    "'-' * 20"
   ]
  },
  {
   "cell_type": "markdown",
   "metadata": {},
   "source": [
    "**5.2.2 获取字符串长度：len()**"
   ]
  },
  {
   "cell_type": "code",
   "execution_count": null,
   "metadata": {},
   "outputs": [],
   "source": [
    "len(\"pine\")"
   ]
  },
  {
   "cell_type": "code",
   "execution_count": null,
   "metadata": {},
   "outputs": [],
   "source": [
    "len(\"祖国，您好！\")"
   ]
  },
  {
   "cell_type": "markdown",
   "metadata": {},
   "source": [
    "**5.2.3 字符串类型的转换：str()**"
   ]
  },
  {
   "cell_type": "code",
   "execution_count": null,
   "metadata": {},
   "outputs": [],
   "source": [
    "str(123)"
   ]
  },
  {
   "cell_type": "code",
   "execution_count": null,
   "metadata": {},
   "outputs": [],
   "source": [
    "str(123.456)"
   ]
  },
  {
   "cell_type": "code",
   "execution_count": null,
   "metadata": {},
   "outputs": [],
   "source": [
    "str(123e+10)"
   ]
  },
  {
   "cell_type": "code",
   "execution_count": null,
   "metadata": {},
   "outputs": [],
   "source": [
    "str(123) + str(456)"
   ]
  },
  {
   "cell_type": "code",
   "execution_count": null,
   "metadata": {},
   "outputs": [],
   "source": [
    "123 + 456"
   ]
  },
  {
   "cell_type": "markdown",
   "metadata": {},
   "source": [
    "前面讲过两个类型转换函数：int()和float()"
   ]
  },
  {
   "cell_type": "code",
   "execution_count": null,
   "metadata": {},
   "outputs": [],
   "source": [
    "'123' + '456' "
   ]
  },
  {
   "cell_type": "code",
   "execution_count": null,
   "metadata": {},
   "outputs": [],
   "source": [
    "int('123') + int('456')"
   ]
  },
  {
   "cell_type": "code",
   "execution_count": null,
   "metadata": {},
   "outputs": [],
   "source": [
    "int('45.6')  #这里会出错"
   ]
  },
  {
   "cell_type": "code",
   "execution_count": null,
   "metadata": {},
   "outputs": [],
   "source": [
    "float('45.6')"
   ]
  },
  {
   "cell_type": "markdown",
   "metadata": {},
   "source": [
    "**5.2.4 用户输入函数：input()** <br>\n",
    "函数等待用户在键盘上输入一些文本，并按下回车键。这个函数的值为一个**<font color=red>字符串</font>**，即用户输入的文本。"
   ]
  },
  {
   "cell_type": "code",
   "execution_count": null,
   "metadata": {},
   "outputs": [],
   "source": [
    "myInputVal = input()  #输入一个数字"
   ]
  },
  {
   "cell_type": "code",
   "execution_count": null,
   "metadata": {},
   "outputs": [],
   "source": [
    "myInputVal + 10  #出错了，为什么？怎么办？"
   ]
  },
  {
   "cell_type": "markdown",
   "metadata": {},
   "source": [
    "**5.2.5 打印函数:print()** <br>\n",
    "print()函数将括号内的值显示在屏幕上。并且默认换行："
   ]
  },
  {
   "cell_type": "code",
   "execution_count": 1,
   "metadata": {},
   "outputs": [
    {
     "name": "stdout",
     "output_type": "stream",
     "text": [
      "Hello World！\n",
      "西南财经大学\n",
      "123456\n"
     ]
    }
   ],
   "source": [
    "print(\"Hello World！\")\n",
    "print(\"西南财经大学\")\n",
    "print(123456)"
   ]
  },
  {
   "cell_type": "markdown",
   "metadata": {},
   "source": [
    "如果打印后不想换行，可以使用下面的方法："
   ]
  },
  {
   "cell_type": "code",
   "execution_count": 2,
   "metadata": {},
   "outputs": [
    {
     "name": "stdout",
     "output_type": "stream",
     "text": [
      "Hello World！西南财经大学_123456\n"
     ]
    }
   ],
   "source": [
    "print(\"Hello World！\", end=\"\")\n",
    "print(\"西南财经大学\", end=\"_\")\n",
    "print(123456)"
   ]
  },
  {
   "cell_type": "markdown",
   "metadata": {},
   "source": [
    "所以，end是什么作用？"
   ]
  },
  {
   "cell_type": "markdown",
   "metadata": {},
   "source": [
    "**5.2.6 字符串的in 和not in 操作符**<br>\n",
    "in 和not in 操作符也可以用于字符串。用in 或not in 连接两个字符串得到的表达式，将求值为布尔值True 或False。用于测试第一个字符串（精确匹配，区分大小写）是否在第二个字符串中。"
   ]
  },
  {
   "cell_type": "code",
   "execution_count": 3,
   "metadata": {},
   "outputs": [
    {
     "data": {
      "text/plain": [
       "True"
      ]
     },
     "execution_count": 3,
     "metadata": {},
     "output_type": "execute_result"
    }
   ],
   "source": [
    "'Hello' in 'Hello World'"
   ]
  },
  {
   "cell_type": "code",
   "execution_count": 4,
   "metadata": {},
   "outputs": [
    {
     "data": {
      "text/plain": [
       "False"
      ]
     },
     "execution_count": 4,
     "metadata": {},
     "output_type": "execute_result"
    }
   ],
   "source": [
    "'hello' in 'Hello World'"
   ]
  },
  {
   "cell_type": "markdown",
   "metadata": {},
   "source": [
    "**5.2.7 字符串方法upper()、lower()、isupper()和islower()**<br>\n",
    "upper()和lower()字符串方法返回一个新字符串，其中原字符串的所有字母都被相应地转换为大写或小写。字符串中非字母字符保持不变。"
   ]
  },
  {
   "cell_type": "code",
   "execution_count": 10,
   "metadata": {},
   "outputs": [
    {
     "name": "stdout",
     "output_type": "stream",
     "text": [
      "HELLO WORLD!\n",
      "Hello world!\n"
     ]
    }
   ],
   "source": [
    "sayHello = 'Hello world!'\n",
    "print(sayHello.upper())\n",
    "print(sayHello)   # 这些方法没有改变字符串本身，而是返回一个新字符串"
   ]
  },
  {
   "cell_type": "code",
   "execution_count": 12,
   "metadata": {},
   "outputs": [
    {
     "name": "stdout",
     "output_type": "stream",
     "text": [
      "hello world!\n"
     ]
    }
   ],
   "source": [
    "sayHello = sayHello.lower()\n",
    "print(sayHello)"
   ]
  },
  {
   "cell_type": "markdown",
   "metadata": {},
   "source": [
    "如果需要进行大小写无关的比较，upper()和lower()方法就很有用。例如，对于用户输入的名字，忽略大小写："
   ]
  },
  {
   "cell_type": "code",
   "execution_count": null,
   "metadata": {},
   "outputs": [],
   "source": [
    "userName = input()\n",
    "userName.lower() == 'xzl'"
   ]
  },
  {
   "cell_type": "markdown",
   "metadata": {},
   "source": [
    "如果字符串至少有一个字母，并且所有字母都是大写或小写，isupper()和islower()方法就会相应地返回布尔值True。否则，该方法返回False。"
   ]
  },
  {
   "cell_type": "code",
   "execution_count": 5,
   "metadata": {},
   "outputs": [
    {
     "data": {
      "text/plain": [
       "False"
      ]
     },
     "execution_count": 5,
     "metadata": {},
     "output_type": "execute_result"
    }
   ],
   "source": [
    "'Hello world!'.isupper()"
   ]
  },
  {
   "cell_type": "code",
   "execution_count": 6,
   "metadata": {},
   "outputs": [
    {
     "data": {
      "text/plain": [
       "False"
      ]
     },
     "execution_count": 6,
     "metadata": {},
     "output_type": "execute_result"
    }
   ],
   "source": [
    "'Hello world!'.islower()"
   ]
  },
  {
   "cell_type": "code",
   "execution_count": 7,
   "metadata": {},
   "outputs": [
    {
     "data": {
      "text/plain": [
       "True"
      ]
     },
     "execution_count": 7,
     "metadata": {},
     "output_type": "execute_result"
    }
   ],
   "source": [
    "'Hello world!'.upper().isupper()"
   ]
  },
  {
   "cell_type": "code",
   "execution_count": 8,
   "metadata": {},
   "outputs": [
    {
     "data": {
      "text/plain": [
       "False"
      ]
     },
     "execution_count": 8,
     "metadata": {},
     "output_type": "execute_result"
    }
   ],
   "source": [
    "'Hello world!'.upper().lower().isupper()  # 这样做的表达式看起来就像方法调用链。"
   ]
  },
  {
   "cell_type": "markdown",
   "metadata": {},
   "source": [
    "**5.2.8 isX 字符串方法**<br>\n",
    "下面是一些常用的isX 字符串方法：\n",
    "* isalpha()返回True，如果字符串只包含字母，并且非空；\n",
    "* isalnum()返回True，如果字符串只包含字母和数字，并且非空；\n",
    "* isdecimal()返回True，如果字符串只包含数字字符，并且非空；\n",
    "* isspace()返回True，如果字符串只包含空格、制表符和换行，并且非空；\n",
    "* istitle()返回True，如果字符串仅包含以大写字母开头、后面都是小写字母的单词。"
   ]
  },
  {
   "cell_type": "code",
   "execution_count": null,
   "metadata": {},
   "outputs": [],
   "source": [
    "'hello'.isalpha()"
   ]
  },
  {
   "cell_type": "code",
   "execution_count": null,
   "metadata": {},
   "outputs": [],
   "source": [
    "'你好'.isalpha()"
   ]
  },
  {
   "cell_type": "code",
   "execution_count": null,
   "metadata": {},
   "outputs": [],
   "source": [
    "'hello123'.isalpha()"
   ]
  },
  {
   "cell_type": "code",
   "execution_count": null,
   "metadata": {},
   "outputs": [],
   "source": [
    "'hello123'.isalnum()"
   ]
  },
  {
   "cell_type": "code",
   "execution_count": null,
   "metadata": {},
   "outputs": [],
   "source": [
    "'123'.isdecimal()"
   ]
  },
  {
   "cell_type": "code",
   "execution_count": null,
   "metadata": {},
   "outputs": [],
   "source": [
    "' \\t'.isspace()"
   ]
  },
  {
   "cell_type": "code",
   "execution_count": null,
   "metadata": {},
   "outputs": [],
   "source": [
    "'This Is A Test.'.istitle()"
   ]
  },
  {
   "cell_type": "markdown",
   "metadata": {},
   "source": [
    "这些函数在验证用户输入时，非常有用。例如，当需要用户输入年龄时，可以使用isdecimal()判断用户的输入是否只包含数字。"
   ]
  },
  {
   "cell_type": "code",
   "execution_count": null,
   "metadata": {},
   "outputs": [],
   "source": [
    "age = input()\n",
    "age.isdecimal()"
   ]
  },
  {
   "cell_type": "markdown",
   "metadata": {},
   "source": [
    "**5.2.9 字符串方法startswith()和endswith()**<br>\n",
    "startswith()和endswith()方法返回True，如果它们所调用的字符串以该方法传入的字符串开始或结束。否则，方法返回False。这在判断字符串是否是正确URL或者正确的文件后缀时，非常有用："
   ]
  },
  {
   "cell_type": "code",
   "execution_count": 13,
   "metadata": {},
   "outputs": [
    {
     "data": {
      "text/plain": [
       "True"
      ]
     },
     "execution_count": 13,
     "metadata": {},
     "output_type": "execute_result"
    }
   ],
   "source": [
    "'http://www.swufe.edu.cn'.startswith('http')"
   ]
  },
  {
   "cell_type": "code",
   "execution_count": 14,
   "metadata": {},
   "outputs": [
    {
     "data": {
      "text/plain": [
       "False"
      ]
     },
     "execution_count": 14,
     "metadata": {},
     "output_type": "execute_result"
    }
   ],
   "source": [
    "'file1.py'.endswith('.xlsx')"
   ]
  },
  {
   "cell_type": "markdown",
   "metadata": {},
   "source": [
    "**5.2.10 字符串方法join()和split()**<br>\n",
    "如果有一个字符串列表，需要将它们连接起来，成为一个单独的字符串，**join()**方法就很有用。join()方法在一个字符串上调用，参数是一个字符串列表，返回一个字符串。返回的字符串由传入的列表中每个字符串连接而成:"
   ]
  },
  {
   "cell_type": "code",
   "execution_count": 17,
   "metadata": {},
   "outputs": [
    {
     "data": {
      "text/plain": [
       "'管理部,人事部,销售部'"
      ]
     },
     "execution_count": 17,
     "metadata": {},
     "output_type": "execute_result"
    }
   ],
   "source": [
    "','.join(['管理部', '人事部', '销售部'])"
   ]
  },
  {
   "cell_type": "markdown",
   "metadata": {},
   "source": [
    "**split()**方法做的事情正好相反：它针对一个字符串调用，返回一个字符串列表。"
   ]
  },
  {
   "cell_type": "code",
   "execution_count": 15,
   "metadata": {},
   "outputs": [
    {
     "data": {
      "text/plain": [
       "['管理部', '人事部', '销售部']"
      ]
     },
     "execution_count": 15,
     "metadata": {},
     "output_type": "execute_result"
    }
   ],
   "source": [
    "'管理部,人事部,销售部'.split(',')"
   ]
  },
  {
   "cell_type": "code",
   "execution_count": 16,
   "metadata": {},
   "outputs": [
    {
     "data": {
      "text/plain": [
       "['管', '理', '部', '人', '事', '部', '销', '售', '部']"
      ]
     },
     "execution_count": 16,
     "metadata": {},
     "output_type": "execute_result"
    }
   ],
   "source": [
    "'管 理 部     人 事 部     销 售 部'.split()"
   ]
  },
  {
   "cell_type": "markdown",
   "metadata": {},
   "source": [
    "这在对文件内容分行操作时，非常有用："
   ]
  },
  {
   "cell_type": "code",
   "execution_count": 18,
   "metadata": {},
   "outputs": [
    {
     "name": "stdout",
     "output_type": "stream",
     "text": [
      "西南财经大学是教育部直属的国家“211工程”和“985工程”优势学科创新平台建设的全国重点大学，也是国家“双一流”建设高校。\n",
      "学校地处国家历史文化名城、南方丝绸之路的起点、素有“天府之国”美誉的成都，有光华、柳林两校区，总占地2300余亩。光华铁树穿越年轮时光感受历史缅怀先贤,巍巍钟楼傲然屹立感受青春与未来对话,这里古今融通、传统与现代交相辉映，实乃读书治学的理想园地。\n",
      "学校始于1925年在上海创立的光华大学。1938年，因抗战西迁建立光华大学成都分部；1952-1953年汇聚西南地区17所院校的财经系科组建四川财经学院,这是建国初期国家按大区布局的四所本科财经院校之一，也是西南地区唯一的综合性高等财经学府;1960年后历经分设、合并、更名等，于1978年恢复为四川财经学院；1979年由四川省划归中国人民银行主管，逐渐形成了学校独特的金融行业背景和出色的金融学科优势；1985年更名为西南财经大学，1997年成为国家“211工程”重点建设高校，2000年以独立建制划转教育部管理，2011年成为国家“985工程”优势学科创新平台建设高校。90余年的办学历史形成了自己独特的办学特色、文化传统、精神内涵和社会声誉。\n",
      "黄浦浣花风雨长，光华柳林谱华章。学校始终与国家民族共命运，格致诚正，兴学报国；始终与时代发展同进步，经世济民，励精图强，在国家经济腾飞中写下了隽永篇章。\n",
      "\n"
     ]
    }
   ],
   "source": [
    "swufeIntroduction = '''西南财经大学是教育部直属的国家“211工程”和“985工程”优势学科创新平台建设的全国重点大学，也是国家“双一流”建设高校。\n",
    "学校地处国家历史文化名城、南方丝绸之路的起点、素有“天府之国”美誉的成都，有光华、柳林两校区，总占地2300余亩。光华铁树穿越年轮时光感受历史缅怀先贤,巍巍钟楼傲然屹立感受青春与未来对话,这里古今融通、传统与现代交相辉映，实乃读书治学的理想园地。\n",
    "学校始于1925年在上海创立的光华大学。1938年，因抗战西迁建立光华大学成都分部；1952-1953年汇聚西南地区17所院校的财经系科组建四川财经学院,这是建国初期国家按大区布局的四所本科财经院校之一，也是西南地区唯一的综合性高等财经学府;1960年后历经分设、合并、更名等，于1978年恢复为四川财经学院；1979年由四川省划归中国人民银行主管，逐渐形成了学校独特的金融行业背景和出色的金融学科优势；1985年更名为西南财经大学，1997年成为国家“211工程”重点建设高校，2000年以独立建制划转教育部管理，2011年成为国家“985工程”优势学科创新平台建设高校。90余年的办学历史形成了自己独特的办学特色、文化传统、精神内涵和社会声誉。\n",
    "黄浦浣花风雨长，光华柳林谱华章。学校始终与国家民族共命运，格致诚正，兴学报国；始终与时代发展同进步，经世济民，励精图强，在国家经济腾飞中写下了隽永篇章。\n",
    "'''\n",
    "print(swufeIntroduction)"
   ]
  },
  {
   "cell_type": "code",
   "execution_count": 19,
   "metadata": {},
   "outputs": [
    {
     "data": {
      "text/plain": [
       "['西南财经大学是教育部直属的国家“211工程”和“985工程”优势学科创新平台建设的全国重点大学，也是国家“双一流”建设高校。',\n",
       " '学校地处国家历史文化名城、南方丝绸之路的起点、素有“天府之国”美誉的成都，有光华、柳林两校区，总占地2300余亩。光华铁树穿越年轮时光感受历史缅怀先贤,巍巍钟楼傲然屹立感受青春与未来对话,这里古今融通、传统与现代交相辉映，实乃读书治学的理想园地。',\n",
       " '学校始于1925年在上海创立的光华大学。1938年，因抗战西迁建立光华大学成都分部；1952-1953年汇聚西南地区17所院校的财经系科组建四川财经学院,这是建国初期国家按大区布局的四所本科财经院校之一，也是西南地区唯一的综合性高等财经学府;1960年后历经分设、合并、更名等，于1978年恢复为四川财经学院；1979年由四川省划归中国人民银行主管，逐渐形成了学校独特的金融行业背景和出色的金融学科优势；1985年更名为西南财经大学，1997年成为国家“211工程”重点建设高校，2000年以独立建制划转教育部管理，2011年成为国家“985工程”优势学科创新平台建设高校。90余年的办学历史形成了自己独特的办学特色、文化传统、精神内涵和社会声誉。',\n",
       " '黄浦浣花风雨长，光华柳林谱华章。学校始终与国家民族共命运，格致诚正，兴学报国；始终与时代发展同进步，经世济民，励精图强，在国家经济腾飞中写下了隽永篇章。',\n",
       " '']"
      ]
     },
     "execution_count": 19,
     "metadata": {},
     "output_type": "execute_result"
    }
   ],
   "source": [
    "swufeIntroduction.split('\\n')"
   ]
  },
  {
   "cell_type": "code",
   "execution_count": 20,
   "metadata": {},
   "outputs": [
    {
     "data": {
      "text/plain": [
       "'学校始于1925年在上海创立的光华大学。1938年，因抗战西迁建立光华大学成都分部；1952-1953年汇聚西南地区17所院校的财经系科组建四川财经学院,这是建国初期国家按大区布局的四所本科财经院校之一，也是西南地区唯一的综合性高等财经学府;1960年后历经分设、合并、更名等，于1978年恢复为四川财经学院；1979年由四川省划归中国人民银行主管，逐渐形成了学校独特的金融行业背景和出色的金融学科优势；1985年更名为西南财经大学，1997年成为国家“211工程”重点建设高校，2000年以独立建制划转教育部管理，2011年成为国家“985工程”优势学科创新平台建设高校。90余年的办学历史形成了自己独特的办学特色、文化传统、精神内涵和社会声誉。'"
      ]
     },
     "execution_count": 20,
     "metadata": {},
     "output_type": "execute_result"
    }
   ],
   "source": [
    "swufeIntroduction.split('\\n')[2] #从结果猜猜，这是做什么？"
   ]
  },
  {
   "cell_type": "markdown",
   "metadata": {},
   "source": [
    "**5.2.11 用rjust()、ljust()和center()方法对齐文本**<br>\n",
    "rjust()和ljust()字符串方法返回调用它们的字符串的填充版本，通过插入空格来对齐文本。这两个方法的第一个参数是一个整数长度，用于对齐字符串："
   ]
  },
  {
   "cell_type": "code",
   "execution_count": 21,
   "metadata": {},
   "outputs": [
    {
     "data": {
      "text/plain": [
       "'               Hello'"
      ]
     },
     "execution_count": 21,
     "metadata": {},
     "output_type": "execute_result"
    }
   ],
   "source": [
    "'Hello'.rjust(20)"
   ]
  },
  {
   "cell_type": "markdown",
   "metadata": {},
   "source": [
    "rjust()和ljust()方法的第二个可选参数将指定一个填充字符，取代空格字符:"
   ]
  },
  {
   "cell_type": "code",
   "execution_count": 22,
   "metadata": {},
   "outputs": [
    {
     "data": {
      "text/plain": [
       "'Hello---------------'"
      ]
     },
     "execution_count": 22,
     "metadata": {},
     "output_type": "execute_result"
    }
   ],
   "source": [
    "'Hello'.ljust(20, '-')"
   ]
  },
  {
   "cell_type": "markdown",
   "metadata": {},
   "source": [
    "center()字符串方法与ljust()与rjust()类似，但它让文本居中，而不是左对齐或右对齐。"
   ]
  },
  {
   "cell_type": "code",
   "execution_count": 23,
   "metadata": {},
   "outputs": [
    {
     "data": {
      "text/plain": [
       "'=======Hello========'"
      ]
     },
     "execution_count": 23,
     "metadata": {},
     "output_type": "execute_result"
    }
   ],
   "source": [
    "'Hello'.center(20, '=')"
   ]
  },
  {
   "cell_type": "code",
   "execution_count": 24,
   "metadata": {},
   "outputs": [
    {
     "name": "stdout",
     "output_type": "stream",
     "text": [
      "----------Items-----------\n",
      "sandwiches..........    30\n",
      "apples..............   330\n",
      "cookies.............  6100\n"
     ]
    }
   ],
   "source": [
    "leftWidth = 20\n",
    "rightWidth = 6\n",
    "print(\"Items\".center(leftWidth + rightWidth, '-'))\n",
    "chapter1 = \"sandwiches\"\n",
    "chapter2 = \"apples\"\n",
    "chapter3 = \"cookies\"\n",
    "chp1Page = 30\n",
    "chp2Page = 330\n",
    "chp3Page =6100\n",
    "print(chapter1.ljust(leftWidth, '.') + str(chp1Page).rjust(rightWidth))\n",
    "print(chapter2.ljust(leftWidth, '.') + str(chp2Page).rjust(rightWidth))\n",
    "print(chapter3.ljust(leftWidth, '.') + str(chp3Page).rjust(rightWidth))"
   ]
  },
  {
   "cell_type": "markdown",
   "metadata": {},
   "source": [
    "**5.2.12 $\\color{red}{用strip()、rstrip()和lstrip()删除空白字符}$**<br>\n",
    "有时候你希望删除字符串左边、右边或两边的空白字符（空格、制表符和换行符）。\n",
    "* strip()字符串方法将返回一个新的字符串，它的开头或末尾都没有空白字符。\n",
    "* lstrip()\n",
    "* rstrip()方法将相应删除左边或右边的空白字符。"
   ]
  },
  {
   "cell_type": "code",
   "execution_count": 25,
   "metadata": {},
   "outputs": [
    {
     "name": "stdout",
     "output_type": "stream",
     "text": [
      "-Hello World-\n",
      "-Hello World -\n",
      "- Hello World-\n",
      "- Hello World -\n"
     ]
    }
   ],
   "source": [
    "sayHello = ' Hello World '\n",
    "print('-' + sayHello.strip() + '-')\n",
    "print('-' + sayHello.lstrip() + '-')\n",
    "print('-' + sayHello.rstrip() + '-')\n",
    "print('-' + sayHello + '-')"
   ]
  },
  {
   "cell_type": "markdown",
   "metadata": {},
   "source": [
    "有一个可选的字符串参数，指定两边的哪些字符应该删除。"
   ]
  },
  {
   "cell_type": "code",
   "execution_count": 26,
   "metadata": {},
   "outputs": [
    {
     "data": {
      "text/plain": [
       "'西南财经大学bcd'"
      ]
     },
     "execution_count": 26,
     "metadata": {},
     "output_type": "execute_result"
    }
   ],
   "source": [
    "tmpStr = 'abcbac西南财经大学bcdabc'\n",
    "tmpStr.strip('acb') #向strip()方法传入参数'acb'，告诉它在变量中存储的字符串两端，\n",
    "                    #删除出现的a、c和b。传入strip()方法的字符串中，\n",
    "                    #字符的顺序并不重要：strip('acb')做的事情和\n",
    "                    #strip('abc')或strip('cba')一样。"
   ]
  },
  {
   "cell_type": "markdown",
   "metadata": {},
   "source": [
    "**5.2.13 字符串format()方法**<br>\n",
    "字符串format()方法的基本使用格式是：<br>\n",
    "<center>**<模板字符串>.format(<逗号分隔的参数>)**</center>\n",
    "<img src=\"Images/strFormat.png\" width=\"90%\"><br><br>"
   ]
  },
  {
   "cell_type": "code",
   "execution_count": 27,
   "metadata": {
    "scrolled": true
   },
   "outputs": [
    {
     "data": {
      "text/plain": [
       "'2016-12-31：计算机PYTHON的cpu占有率为10%。'"
      ]
     },
     "execution_count": 27,
     "metadata": {},
     "output_type": "execute_result"
    }
   ],
   "source": [
    "\"{}：计算机{}的cpu占有率为{}%。\".format(\"2016-12-31\", \"PYTHON\", 10)"
   ]
  },
  {
   "cell_type": "markdown",
   "metadata": {},
   "source": [
    "<img src=\"Images/strFormat2.png\" width=\"90%\"><br><br>"
   ]
  },
  {
   "cell_type": "code",
   "execution_count": 28,
   "metadata": {},
   "outputs": [
    {
     "data": {
      "text/plain": [
       "'PYTHON：计算机2016-12-31的cpu占有率为10%。'"
      ]
     },
     "execution_count": 28,
     "metadata": {},
     "output_type": "execute_result"
    }
   ],
   "source": [
    "\"{1}：计算机{0}的cpu占有率为{2}%。\".format(\"2016-12-31\", \"PYTHON\", 10)"
   ]
  },
  {
   "cell_type": "markdown",
   "metadata": {},
   "source": [
    "format()方法中模板字符串的槽除了包括参数序号，还可以包括格式控制信息。此时，槽的内部样式如下：<br><center>**{<参数序号>: <格式控制标记>}**</center>\n",
    "\n",
    "其中，格式控制标记用来控制参数显示时的格式 。格式控制标记包括：**<填充><对齐><宽度>,<.精度><类型>**6个字段，这些字段都是可选的，可以组合使用，这里按照使用方式逐一介绍:\n",
    "<img src=\"Images/strFormat3.png\" width=\"90%\"><br><br>"
   ]
  },
  {
   "cell_type": "code",
   "execution_count": 36,
   "metadata": {},
   "outputs": [
    {
     "data": {
      "text/plain": [
       "'Pyth                          '"
      ]
     },
     "execution_count": 36,
     "metadata": {},
     "output_type": "execute_result"
    }
   ],
   "source": [
    "s = \"Python\"\n",
    "\"{0:30}\".format(s)"
   ]
  },
  {
   "cell_type": "code",
   "execution_count": null,
   "metadata": {},
   "outputs": [],
   "source": [
    "\"{0:>30}\".format(s)"
   ]
  },
  {
   "cell_type": "code",
   "execution_count": null,
   "metadata": {},
   "outputs": [],
   "source": [
    "\"{0:*^30}\".format(s)"
   ]
  },
  {
   "cell_type": "code",
   "execution_count": null,
   "metadata": {},
   "outputs": [],
   "source": [
    "\"{0:.2f}\".format(12345.67890)"
   ]
  },
  {
   "cell_type": "markdown",
   "metadata": {},
   "source": [
    "**下面的Python语句输出结果是什么：**\n",
    "```Python\n",
    "print(\"{:>15s}:{:<8.2f}\".format(\"Length\", 23.87501))\n",
    "```"
   ]
  },
  {
   "cell_type": "markdown",
   "metadata": {},
   "source": [
    "### 字符串使用实例1：\n",
    "输入身份证号码，输出生日，格式为：yyyy年mm月dd日。"
   ]
  },
  {
   "cell_type": "code",
   "execution_count": 37,
   "metadata": {
    "scrolled": true
   },
   "outputs": [
    {
     "name": "stdout",
     "output_type": "stream",
     "text": [
      "请输入身份证号码（18位）：520125197907167551\n",
      "1979年07月16日\n"
     ]
    }
   ],
   "source": [
    "# 520125197907167551\n",
    "idCard = input('请输入身份证号码（18位）：')\n",
    "#这里最好能判断一下输入的号码长度，不是18位要求重新输入\n",
    "#需要用到判断，循环等\n",
    "print(idCard[6:10] + '年' + idCard[10:12] + '月' + idCard[12:14] + '日')"
   ]
  },
  {
   "cell_type": "markdown",
   "metadata": {},
   "source": [
    "***PS. 怎么判断性别？***"
   ]
  },
  {
   "cell_type": "markdown",
   "metadata": {},
   "source": [
    "### 字符串使用实例2：\n",
    "输入一个月份数字，返回对应月份名称缩写。"
   ]
  },
  {
   "cell_type": "code",
   "execution_count": 38,
   "metadata": {},
   "outputs": [
    {
     "name": "stdout",
     "output_type": "stream",
     "text": [
      "请输入月份数（1-12）：3\n",
      "月份简写是：Mar.\n"
     ]
    }
   ],
   "source": [
    "# 将所有月份名称缩写存储在字符串中\n",
    "months = \"JanFebMarAprMayJunJulAugSepOctNovDec\"\n",
    "\n",
    "n = input(\"请输入月份数（1-12）：\")\n",
    "pos = (int(n) - 1) * 3\n",
    "# 在字符串中截取适当的子串来查找特定月份\n",
    "monthAbbrev = months[pos:pos+3]\n",
    "\n",
    "print(\"月份简写是：\" + monthAbbrev + '.')"
   ]
  },
  {
   "cell_type": "markdown",
   "metadata": {},
   "source": [
    "### 字符串使用实例3：\n",
    "有如下字符串：<br>"
   ]
  },
  {
   "cell_type": "code",
   "execution_count": 39,
   "metadata": {},
   "outputs": [],
   "source": [
    "salaryStr = '''10932,张珊,15000.00 ,4000.00 ,2300.00 ,980.00 ,300.00 ,1000.00\n",
    "10933,李思,12000.00 ,5000.00 ,2600.00 ,890.00 ,400.00 ,2000.00\n",
    "10934,王武,10100.00 ,2000.00 ,2500.00 ,860.00 ,500.00 ,1500.00\n",
    "10935,赵柳,10050.00 ,1000.00 ,2700.00 ,1080.00 ,300.00 ,2000.00\n",
    "10936,钱棋,10200.00 ,2000.00 ,2400.00 ,1000.00 ,600.00 ,1000.00\n",
    "10941,张明,13600.00 ,4000.00 ,2100.00 ,680.00 ,300.00 ,1000.00\n",
    "10942,赵敏,13200.00 ,2500.00 ,2300.00 ,670.00 ,400.00 ,3000.00\n",
    "10945,王红,13600.00 ,2600.00 ,2030.00 ,560.00 ,400.00 ,2000.00\n",
    "10946,李萧,12500.00 ,2800.00 ,2400.00 ,420.00 ,500.00 ,1500.00\n",
    "10947,孙科,12000.00 ,3500.00 ,2030.00 ,880.00 ,300.00 ,1000.00\n",
    "10948,刘利,14200.00 ,2500.00 ,2020.00 ,900.00 ,400.00 ,2000.00'''"
   ]
  },
  {
   "cell_type": "markdown",
   "metadata": {},
   "source": [
    "对应为：编号,姓名,基本工资,奖金,住房补助,五险一金,其他扣款,专项附加扣除,所得税,实发工资"
   ]
  },
  {
   "cell_type": "code",
   "execution_count": 40,
   "metadata": {},
   "outputs": [
    {
     "data": {
      "text/plain": [
       "'10932,张珊,15000.00 ,4000.00 ,2300.00 ,980.00 ,300.00 ,1000.00\\n10933,李思,12000.00 ,5000.00 ,2600.00 ,890.00 ,400.00 ,2000.00\\n10934,王武,10100.00 ,2000.00 ,2500.00 ,860.00 ,500.00 ,1500.00\\n10935,赵柳,10050.00 ,1000.00 ,2700.00 ,1080.00 ,300.00 ,2000.00\\n10936,钱棋,10200.00 ,2000.00 ,2400.00 ,1000.00 ,600.00 ,1000.00\\n10941,张明,13600.00 ,4000.00 ,2100.00 ,680.00 ,300.00 ,1000.00\\n10942,赵敏,13200.00 ,2500.00 ,2300.00 ,670.00 ,400.00 ,3000.00\\n10945,王红,13600.00 ,2600.00 ,2030.00 ,560.00 ,400.00 ,2000.00\\n10946,李萧,12500.00 ,2800.00 ,2400.00 ,420.00 ,500.00 ,1500.00\\n10947,孙科,12000.00 ,3500.00 ,2030.00 ,880.00 ,300.00 ,1000.00\\n10948,刘利,14200.00 ,2500.00 ,2020.00 ,900.00 ,400.00 ,2000.00'"
      ]
     },
     "execution_count": 40,
     "metadata": {},
     "output_type": "execute_result"
    }
   ],
   "source": [
    "salaryStr"
   ]
  },
  {
   "cell_type": "code",
   "execution_count": 41,
   "metadata": {},
   "outputs": [
    {
     "data": {
      "text/plain": [
       "['10932,张珊,15000.00 ,4000.00 ,2300.00 ,980.00 ,300.00 ,1000.00',\n",
       " '10933,李思,12000.00 ,5000.00 ,2600.00 ,890.00 ,400.00 ,2000.00',\n",
       " '10934,王武,10100.00 ,2000.00 ,2500.00 ,860.00 ,500.00 ,1500.00',\n",
       " '10935,赵柳,10050.00 ,1000.00 ,2700.00 ,1080.00 ,300.00 ,2000.00',\n",
       " '10936,钱棋,10200.00 ,2000.00 ,2400.00 ,1000.00 ,600.00 ,1000.00',\n",
       " '10941,张明,13600.00 ,4000.00 ,2100.00 ,680.00 ,300.00 ,1000.00',\n",
       " '10942,赵敏,13200.00 ,2500.00 ,2300.00 ,670.00 ,400.00 ,3000.00',\n",
       " '10945,王红,13600.00 ,2600.00 ,2030.00 ,560.00 ,400.00 ,2000.00',\n",
       " '10946,李萧,12500.00 ,2800.00 ,2400.00 ,420.00 ,500.00 ,1500.00',\n",
       " '10947,孙科,12000.00 ,3500.00 ,2030.00 ,880.00 ,300.00 ,1000.00',\n",
       " '10948,刘利,14200.00 ,2500.00 ,2020.00 ,900.00 ,400.00 ,2000.00']"
      ]
     },
     "execution_count": 41,
     "metadata": {},
     "output_type": "execute_result"
    }
   ],
   "source": [
    "salarys = salaryStr.split('\\n')\n",
    "salarys"
   ]
  },
  {
   "cell_type": "code",
   "execution_count": 42,
   "metadata": {},
   "outputs": [
    {
     "data": {
      "text/plain": [
       "'10932,张珊,15000.00 ,4000.00 ,2300.00 ,980.00 ,300.00 ,1000.00'"
      ]
     },
     "execution_count": 42,
     "metadata": {},
     "output_type": "execute_result"
    }
   ],
   "source": [
    "salarys[0]  # 这个是列表，下一章会介绍\n",
    "# 对应为：编号,基本工资,奖金,住房补助,五险一金,其他扣款,专项附加扣除"
   ]
  },
  {
   "cell_type": "code",
   "execution_count": 43,
   "metadata": {},
   "outputs": [
    {
     "data": {
      "text/plain": [
       "['10932',\n",
       " '张珊',\n",
       " '15000.00 ',\n",
       " '4000.00 ',\n",
       " '2300.00 ',\n",
       " '980.00 ',\n",
       " '300.00 ',\n",
       " '1000.00']"
      ]
     },
     "execution_count": 43,
     "metadata": {},
     "output_type": "execute_result"
    }
   ],
   "source": [
    "employee0Info = salarys[0].split(',')\n",
    "employee0Info"
   ]
  },
  {
   "cell_type": "code",
   "execution_count": 44,
   "metadata": {},
   "outputs": [
    {
     "data": {
      "text/plain": [
       "'15000.00 4000.00 '"
      ]
     },
     "execution_count": 44,
     "metadata": {},
     "output_type": "execute_result"
    }
   ],
   "source": [
    "employee0Info[2] + employee0Info[3]"
   ]
  },
  {
   "cell_type": "code",
   "execution_count": 45,
   "metadata": {},
   "outputs": [
    {
     "data": {
      "text/plain": [
       "19000.0"
      ]
     },
     "execution_count": 45,
     "metadata": {},
     "output_type": "execute_result"
    }
   ],
   "source": [
    "float(employee0Info[2]) + float(employee0Info[3])"
   ]
  },
  {
   "cell_type": "markdown",
   "metadata": {},
   "source": [
    "应纳税所得额计算方法：\n",
    "\n",
    "**应纳税所得额=正常收入 - 5000元免征额 - 五险一金 - 专项附加扣除 - 其他扣除**"
   ]
  },
  {
   "cell_type": "code",
   "execution_count": 46,
   "metadata": {},
   "outputs": [],
   "source": [
    "employee0TaxIncome = float(employee0Info[2]) + float(employee0Info[3]) + float(employee0Info[4]) \\\n",
    "                     - 5000 \\\n",
    "                     - float(employee0Info[5]) - float(employee0Info[6]) - float(employee0Info[7])"
   ]
  },
  {
   "cell_type": "code",
   "execution_count": 47,
   "metadata": {},
   "outputs": [
    {
     "name": "stdout",
     "output_type": "stream",
     "text": [
      "10932 张珊....................14020.00\n"
     ]
    }
   ],
   "source": [
    "print(\"{:<5} {:.<10}{:.>20.2f}\".format(employee0Info[0],employee0Info[1],employee0TaxIncome))"
   ]
  },
  {
   "cell_type": "markdown",
   "metadata": {},
   "source": [
    "综合起来："
   ]
  },
  {
   "cell_type": "code",
   "execution_count": 48,
   "metadata": {},
   "outputs": [
    {
     "name": "stdout",
     "output_type": "stream",
     "text": [
      "编号  姓名                    应纳税额        \n",
      "10932 张珊....................14020.00\n",
      "10933 李思....................11310.00\n",
      "10934 王武.....................6740.00\n",
      "10935 赵柳.....................5370.00\n",
      "10936 钱棋.....................7000.00\n"
     ]
    }
   ],
   "source": [
    "print(\"{:<3} {:<14}{:^20}\".format(\"编号\",\"姓名\",\"应纳税额\"))\n",
    "\n",
    "emp0 = salarys[0].split(',')\n",
    "emp0Tax = float(emp0[2]) + float(emp0[3]) + float(emp0[4]) \\\n",
    "                - 5000 \\\n",
    "                - float(emp0[5]) - float(emp0[6]) - float(emp0[7])\n",
    "print(\"{:<5} {:.<10}{:.>20.2f}\".format(emp0[0],emp0[1],emp0Tax))\n",
    "emp1 = salarys[1].split(',')\n",
    "emp1Tax = float(emp1[2]) + float(emp1[3]) + float(emp1[4]) \\\n",
    "                - 5000 \\\n",
    "                - float(emp1[5]) - float(emp1[6]) - float(emp1[7])\n",
    "print(\"{:<5} {:.<10}{:.>20.2f}\".format(emp1[0],emp1[1],emp1Tax))\n",
    "emp2 = salarys[2].split(',')\n",
    "emp2Tax = float(emp2[2]) + float(emp2[3]) + float(emp2[4]) \\\n",
    "                - 5000 \\\n",
    "                - float(emp2[5]) - float(emp2[6]) - float(emp2[7])\n",
    "print(\"{:<5} {:.<10}{:.>20.2f}\".format(emp2[0],emp2[1],emp2Tax))\n",
    "emp3 = salarys[3].split(',')\n",
    "emp3Tax = float(emp3[2]) + float(emp3[3]) + float(emp3[4]) \\\n",
    "                - 5000 \\\n",
    "                - float(emp3[5]) - float(emp3[6]) - float(emp3[7])\n",
    "print(\"{:<5} {:.<10}{:.>20.2f}\".format(emp3[0],emp3[1],emp3Tax))\n",
    "emp4 = salarys[4].split(',')\n",
    "emp4Tax = float(emp4[2]) + float(emp4[3]) + float(emp4[4]) \\\n",
    "                - 5000 \\\n",
    "                - float(emp4[5]) - float(emp4[6]) - float(emp4[7])\n",
    "print(\"{:<5} {:.<10}{:.>20.2f}\".format(emp4[0],emp4[1],emp4Tax))"
   ]
  },
  {
   "cell_type": "markdown",
   "metadata": {},
   "source": [
    "实例3输出了5个人的编号，姓名和应纳税额。如果是50个，500个，5000个呢？这样做合适吗？所以我们需要函数、循环、判断。这将是下一章会讲解的内容。准备好进入真正的程序世界了吗？"
   ]
  },
  {
   "cell_type": "markdown",
   "metadata": {
    "collapsed": true
   },
   "source": [
    "## 6. 小结\n",
    "你可以用一个计算器来计算表达式，或在文本处理器中输入字符串连接。甚至可以通过复制粘贴文本，很容易地实现字符串复制。但是表达式以及组成它们的值（操作符、变量和函数调用），才是构成程序的基本构建块。一旦你知道如何处理这些元素，就能够用Python 操作大量的数据。\n",
    "\n",
    "最好是记住本部分中介绍的不同类型的操作符（+、-、\\*、/、//、%和\\*\\*是数学操作符，+和\\*是字符串操作符），以及3 种数据类型（整型、浮点型和字符串）。\n",
    "\n",
    "我们还介绍了几个不同的函数。print()和input()函数处理简单的文本输出（到屏幕）和输入（通过键盘）。len()函数接受一个字符串，并求值为该字符串中字符的数目。\n",
    "\n",
    "在下一部分中，你将学习如何告诉Python 根据它拥有的值，明智地决定什么代码要运行，什么代码要跳过，什么代码要重复。这称为“控制结构”，它让你编写程序来做出明智的决定。"
   ]
  },
  {
   "cell_type": "markdown",
   "metadata": {},
   "source": [
    "## 练习\n",
    "**(1) 下面哪个是变量，哪个是字符串？**<br>\n",
    "web<br>\n",
    "'web'<br><br>\n",
    "**(2) 下面表达式运行结果是什么？**<br>\n",
    "123 + 456<br>\n",
    "\"123\" + '456'<br>\n",
    "123 \\* 3<br>\n",
    "'123'\\* 3<br><br>\n",
    "**(3) 为什么这个表达式会导致错误？如何修复**<br>\n",
    "\"我今天买了\" + 10 + \"本书！\"<br><br>\n",
    "\n",
    "**(4) 字符串\"Howl's Moving Castle\"是有效字符串。为什么单词中的单引号没有转义，却没有问题？**<br>\n",
    "\n",
    "**(5) 下面的表达式求值是什么？**<br>\n",
    "• '我爱西财，也爱Python!'[1]<br>\n",
    "• '我爱西财，也爱Python!'[0:5]<br>\n",
    "• '我爱西财，也爱Python!'[:5]<br>\n",
    "• '我爱西财，也爱Python!'[2:]<br>\n",
    "\n",
    "**(6) 下面的表达式求值是什么？**<br>\n",
    "• 'Remember, remember, the fifth of November.'.split()<br>\n",
    "• '-'.join('There can be only one.'.split())<br>\n"
   ]
  },
  {
   "cell_type": "markdown",
   "metadata": {},
   "source": [
    "## 作业\n",
    "将课本P93页3.1、3.2、3.3的**程序代码及运行结果**分别截图保存，作为第2次作业的附件（一共2个附件），发送到作业邮箱zhangduzhong@swufe.edu.cn。<br><br><b><font color=red>邮件标题必须类似于：Python作业2_1233456。</font>其中123456需要替换成你的学号。<br><br><b><font color=red>邮件标题必须类似于：Python作业2_1233456。</font>其中123456需要替换成你的学号。<br><br><b><font color=red>邮件标题必须类似于：Python作业2_1233456。</font>其中123456需要替换成你的学号。"
   ]
  },
  {
   "cell_type": "code",
   "execution_count": 11,
   "metadata": {},
   "outputs": [
    {
     "name": "stdout",
     "output_type": "stream",
     "text": [
      "你当前的体重(kg)：60\n",
      "你第1年的地球上体重为：60.5\n",
      "你第1年的月球上体重为：9.98\n",
      "你第2年的地球上体重为：61.0\n",
      "你第2年的月球上体重为：10.07\n",
      "你第3年的地球上体重为：61.5\n",
      "你第3年的月球上体重为：10.15\n",
      "你第4年的地球上体重为：62.0\n",
      "你第4年的月球上体重为：10.23\n",
      "你第5年的地球上体重为：62.5\n",
      "你第5年的月球上体重为：10.31\n",
      "你第6年的地球上体重为：63.0\n",
      "你第6年的月球上体重为：10.4\n",
      "你第7年的地球上体重为：63.5\n",
      "你第7年的月球上体重为：10.48\n",
      "你第8年的地球上体重为：64.0\n",
      "你第8年的月球上体重为：10.56\n",
      "你第9年的地球上体重为：64.5\n",
      "你第9年的月球上体重为：10.64\n",
      "你第10年的地球上体重为：65.0\n",
      "你第10年的月球上体重为：10.72\n"
     ]
    }
   ],
   "source": [
    "weight0=int(input('你当前的体重(kg)：'))\n",
    "n=10\n",
    "for i in range(1,11):\n",
    "    weight=weight0+i*0.5\n",
    "    print(\"你第{}年的地球上体重为：{}\".format(i,weight))\n",
    "    print(\"你第{}年的月球上体重为：{}\".format(i,round(weight*0.165,2)))"
   ]
  },
  {
   "cell_type": "code",
   "execution_count": 15,
   "metadata": {},
   "outputs": [
    {
     "data": {
      "text/plain": [
       "6.710755685851779"
      ]
     },
     "execution_count": 15,
     "metadata": {},
     "output_type": "execute_result"
    }
   ],
   "source": [
    "1.01**round(365/7)*4\n",
    "    "
   ]
  },
  {
   "cell_type": "code",
   "execution_count": 16,
   "metadata": {},
   "outputs": [
    {
     "data": {
      "text/plain": [
       "5.723075134366324"
      ]
     },
     "execution_count": 16,
     "metadata": {},
     "output_type": "execute_result"
    }
   ],
   "source": [
    "1.01**round(365/10)*4"
   ]
  },
  {
   "cell_type": "code",
   "execution_count": 17,
   "metadata": {},
   "outputs": [
    {
     "data": {
      "text/plain": [
       "10.157877188255318"
      ]
     },
     "execution_count": 17,
     "metadata": {},
     "output_type": "execute_result"
    }
   ],
   "source": [
    "1.01**round(365/15)*8"
   ]
  }
 ],
 "metadata": {
  "kernelspec": {
   "display_name": "Python 3",
   "language": "python",
   "name": "python3"
  },
  "language_info": {
   "codemirror_mode": {
    "name": "ipython",
    "version": 3
   },
   "file_extension": ".py",
   "mimetype": "text/x-python",
   "name": "python",
   "nbconvert_exporter": "python",
   "pygments_lexer": "ipython3",
   "version": "3.7.3"
  },
  "toc": {
   "base_numbering": 1,
   "nav_menu": {},
   "number_sections": true,
   "sideBar": true,
   "skip_h1_title": false,
   "title_cell": "Table of Contents",
   "title_sidebar": "Contents",
   "toc_cell": false,
   "toc_position": {
    "height": "calc(100% - 180px)",
    "left": "10px",
    "top": "150px",
    "width": "232.727px"
   },
   "toc_section_display": true,
   "toc_window_display": true
  },
  "varInspector": {
   "cols": {
    "lenName": 16,
    "lenType": 16,
    "lenVar": 40
   },
   "kernels_config": {
    "python": {
     "delete_cmd_postfix": "",
     "delete_cmd_prefix": "del ",
     "library": "var_list.py",
     "varRefreshCmd": "print(var_dic_list())"
    },
    "r": {
     "delete_cmd_postfix": ") ",
     "delete_cmd_prefix": "rm(",
     "library": "var_list.r",
     "varRefreshCmd": "cat(var_dic_list()) "
    }
   },
   "types_to_exclude": [
    "module",
    "function",
    "builtin_function_or_method",
    "instance",
    "_Feature"
   ],
   "window_display": false
  }
 },
 "nbformat": 4,
 "nbformat_minor": 2
}
