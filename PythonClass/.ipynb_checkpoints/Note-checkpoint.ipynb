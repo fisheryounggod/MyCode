{
 "cells": [
  {
   "cell_type": "markdown",
   "metadata": {},
   "source": [
    "## 课前准备"
   ]
  },
  {
   "cell_type": "markdown",
   "metadata": {},
   "source": [
    "1. 期末考试 闭卷 70%\n",
    "\n",
    "2. 平时成绩 30%\n",
    "\n",
    "3. 第十周 期末考试\n",
    "\n",
    "4. 参考书目 嵩天《Python语言程序设计基础》、《Python 入门到实践》、《Python 学习手册》\n",
    "\n",
    "5. QQ：928179871"
   ]
  },
  {
   "cell_type": "markdown",
   "metadata": {},
   "source": [
    "## 课程内容"
   ]
  },
  {
   "cell_type": "markdown",
   "metadata": {},
   "source": [
    "> 人只要做好流程分析，剩下的交给程序"
   ]
  },
  {
   "cell_type": "markdown",
   "metadata": {},
   "source": [
    "### 学习程序设计的原因："
   ]
  },
  {
   "cell_type": "markdown",
   "metadata": {},
   "source": [
    "1. **提高工作学习效率。**\n",
    "2. 训练思维。\n",
    "3. 增进认识。\n",
    "4. 带来乐趣。\n",
    "5. 增加就业机会。"
   ]
  },
  {
   "cell_type": "markdown",
   "metadata": {},
   "source": [
    "### 程序设计语言"
   ]
  },
  {
   "cell_type": "markdown",
   "metadata": {},
   "source": [
    "一、分类：    \n",
    "\n",
    "    1. 编译执行、解释执行\n",
    "    2. 机器语言、汇编语言、高级语言"
   ]
  },
  {
   "cell_type": "markdown",
   "metadata": {},
   "source": [
    "二、计算思维：\n",
    "\n",
    "$ \\color {red} {计算思维是区别于以数学为代表的逻辑思维和以物理为代表的实证思维的第三种思维模式}$"
   ]
  },
  {
   "cell_type": "markdown",
   "metadata": {},
   "source": [
    "计算机程序设计就是告诉计算机做什么事，通过哪些步骤来做。\n",
    "\n",
    "编程是一个求解问题的过程：\n",
    "1. 首先需要分析问题，抽象内容之间的交互关系。\n",
    "2. 设计利用计算机求解问题的确定性方法。\n",
    "3. 进而通过编写和调试代码解决问题。\n",
    "4. 这是从抽象问题到解决问题的完整过程。"
   ]
  },
  {
   "cell_type": "markdown",
   "metadata": {},
   "source": [
    "## Why Python"
   ]
  },
  {
   "cell_type": "code",
   "execution_count": 4,
   "metadata": {},
   "outputs": [
    {
     "name": "stdout",
     "output_type": "stream",
     "text": [
      "Apr\n"
     ]
    }
   ],
   "source": [
    "months=\"JanFebMarAprMayJunJulAugSepOctNovDec\" \n",
    "n = 4\n",
    "monthAbbrev = months[(n-1)*3:(n-1)*3+3]\n",
    "print(monthAbbrev)"
   ]
  },
  {
   "cell_type": "code",
   "execution_count": 5,
   "metadata": {},
   "outputs": [
    {
     "name": "stdout",
     "output_type": "stream",
     "text": [
      "4.5\n"
     ]
    }
   ],
   "source": [
    "def mean(numbers):\n",
    "   s = 0.0\n",
    "   for num in numbers:\n",
    "     s = s + num\n",
    "   return s / len(numbers)\n",
    "nums = [0,1,2,3,4,5,6,7,8,9]\n",
    "print(mean(nums))"
   ]
  },
  {
   "cell_type": "code",
   "execution_count": 6,
   "metadata": {},
   "outputs": [
    {
     "name": "stdout",
     "output_type": "stream",
     "text": [
      "3.575027778818227\n"
     ]
    }
   ],
   "source": [
    "from random import random\n",
    "rnd = random()*10\n",
    "print(rnd)"
   ]
  },
  {
   "cell_type": "markdown",
   "metadata": {},
   "source": [
    "## 程序设计方法"
   ]
  },
  {
   "cell_type": "markdown",
   "metadata": {},
   "source": [
    "1. **分析问题，分析问题的计算部分**\n",
    "2. **划分边界，划分问题的功能边界**\n",
    "3. **设计算法，设计问题的求解算法**\n",
    "4. 编写程序，编写问题的计算程序\n",
    "5. 调试测试，调试和测试程序\n",
    "6. 升级维护，适应问题的升级维护"
   ]
  },
  {
   "cell_type": "markdown",
   "metadata": {},
   "source": [
    "## 开发环境"
   ]
  },
  {
   "cell_type": "markdown",
   "metadata": {},
   "source": [
    "* spyder 调试模式 双击  运行到红点之前"
   ]
  },
  {
   "cell_type": "markdown",
   "metadata": {},
   "source": [
    "## 基础运算"
   ]
  },
  {
   "cell_type": "code",
   "execution_count": 7,
   "metadata": {},
   "outputs": [
    {
     "data": {
      "text/plain": [
       "8"
      ]
     },
     "execution_count": 7,
     "metadata": {},
     "output_type": "execute_result"
    }
   ],
   "source": [
    "2**3"
   ]
  },
  {
   "cell_type": "code",
   "execution_count": 8,
   "metadata": {},
   "outputs": [
    {
     "data": {
      "text/plain": [
       "2"
      ]
     },
     "execution_count": 8,
     "metadata": {},
     "output_type": "execute_result"
    }
   ],
   "source": [
    "9//4"
   ]
  },
  {
   "cell_type": "code",
   "execution_count": 9,
   "metadata": {},
   "outputs": [
    {
     "data": {
      "text/plain": [
       "2.25"
      ]
     },
     "execution_count": 9,
     "metadata": {},
     "output_type": "execute_result"
    }
   ],
   "source": [
    "9/4"
   ]
  },
  {
   "cell_type": "code",
   "execution_count": 10,
   "metadata": {},
   "outputs": [
    {
     "data": {
      "text/plain": [
       "1"
      ]
     },
     "execution_count": 10,
     "metadata": {},
     "output_type": "execute_result"
    }
   ],
   "source": [
    "9%4"
   ]
  },
  {
   "cell_type": "code",
   "execution_count": 11,
   "metadata": {},
   "outputs": [
    {
     "ename": "ZeroDivisionError",
     "evalue": "division by zero",
     "output_type": "error",
     "traceback": [
      "\u001b[0;31m---------------------------------------------------------------------------\u001b[0m",
      "\u001b[0;31mZeroDivisionError\u001b[0m                         Traceback (most recent call last)",
      "\u001b[0;32m<ipython-input-11-9ad6118ffdd6>\u001b[0m in \u001b[0;36m<module>\u001b[0;34m\u001b[0m\n\u001b[1;32m      1\u001b[0m \u001b[0ms\u001b[0m\u001b[0;34m=\u001b[0m\u001b[0;36m0\u001b[0m\u001b[0;34m\u001b[0m\u001b[0;34m\u001b[0m\u001b[0m\n\u001b[0;32m----> 2\u001b[0;31m \u001b[0;36m1\u001b[0m\u001b[0;34m/\u001b[0m\u001b[0ms\u001b[0m\u001b[0;34m\u001b[0m\u001b[0;34m\u001b[0m\u001b[0m\n\u001b[0m",
      "\u001b[0;31mZeroDivisionError\u001b[0m: division by zero"
     ]
    }
   ],
   "source": [
    "s=0\n",
    "1/s"
   ]
  },
  {
   "cell_type": "code",
   "execution_count": 14,
   "metadata": {},
   "outputs": [
    {
     "data": {
      "text/plain": [
       "sys.float_info(max=1.7976931348623157e+308, max_exp=1024, max_10_exp=308, min=2.2250738585072014e-308, min_exp=-1021, min_10_exp=-307, dig=15, mant_dig=53, epsilon=2.220446049250313e-16, radix=2, rounds=1)"
      ]
     },
     "execution_count": 14,
     "metadata": {},
     "output_type": "execute_result"
    }
   ],
   "source": [
    "import sys\n",
    "sys.float_info"
   ]
  },
  {
   "cell_type": "markdown",
   "metadata": {},
   "source": [
    "0x9a, -0X89 (0x, 0X开头表示16进制数)\n",
    "\n",
    "0b010, -0B101 (0b, 0B开头表示2进制数)\n",
    "\n",
    "0o123, -0O456 (0o, 0O开头表示8进制数)"
   ]
  },
  {
   "cell_type": "code",
   "execution_count": 15,
   "metadata": {},
   "outputs": [
    {
     "data": {
      "text/plain": [
       "-5"
      ]
     },
     "execution_count": 15,
     "metadata": {},
     "output_type": "execute_result"
    }
   ],
   "source": [
    "-0B101"
   ]
  },
  {
   "cell_type": "code",
   "execution_count": 16,
   "metadata": {},
   "outputs": [
    {
     "data": {
      "text/plain": [
       "-302"
      ]
     },
     "execution_count": 16,
     "metadata": {},
     "output_type": "execute_result"
    }
   ],
   "source": [
    "-0O456"
   ]
  },
  {
   "cell_type": "code",
   "execution_count": 17,
   "metadata": {},
   "outputs": [
    {
     "data": {
      "text/plain": [
       "-137"
      ]
     },
     "execution_count": 17,
     "metadata": {},
     "output_type": "execute_result"
    }
   ],
   "source": [
    "-0X89 "
   ]
  },
  {
   "cell_type": "code",
   "execution_count": 18,
   "metadata": {},
   "outputs": [
    {
     "data": {
      "text/plain": [
       "10"
      ]
     },
     "execution_count": 18,
     "metadata": {},
     "output_type": "execute_result"
    }
   ],
   "source": [
    "0b101 + 5"
   ]
  },
  {
   "cell_type": "markdown",
   "metadata": {},
   "source": [
    "**不同数字类型之间可以进行混合运算，运算后生成结果为<font color=red>最宽类型</font>**<br> \n",
    "**整数宽度小于浮点数**<br><br>\n",
    "**数字类型之间相互运算所生成的结果是“更宽”的类型，基本规则是：**\n",
    "* 整数之间运算，如果数学意义上的结果是小数，结果是浮点数；\n",
    "* 整数之间运算，如果数学意义上的结果是整数，结果是整数；\n",
    "* 整数和浮点数混合运算，输出结果是浮点数；"
   ]
  },
  {
   "cell_type": "code",
   "execution_count": 20,
   "metadata": {},
   "outputs": [
    {
     "data": {
      "text/plain": [
       "(1, 2)"
      ]
     },
     "execution_count": 20,
     "metadata": {},
     "output_type": "execute_result"
    }
   ],
   "source": [
    "divmod(5,3) # 输出为二元组形式（也称为元组类型）商和余数"
   ]
  },
  {
   "cell_type": "code",
   "execution_count": null,
   "metadata": {},
   "outputs": [],
   "source": [
    "pow(x,y[,z]) # x**y%z"
   ]
  },
  {
   "cell_type": "code",
   "execution_count": 21,
   "metadata": {},
   "outputs": [
    {
     "data": {
      "text/plain": [
       "0.42857142857142855"
      ]
     },
     "execution_count": 21,
     "metadata": {},
     "output_type": "execute_result"
    }
   ],
   "source": [
    "(2**3+10-5*3)/7"
   ]
  },
  {
   "cell_type": "code",
   "execution_count": 22,
   "metadata": {},
   "outputs": [
    {
     "data": {
      "text/plain": [
       "7.714285714285714"
      ]
     },
     "execution_count": 22,
     "metadata": {},
     "output_type": "execute_result"
    }
   ],
   "source": [
    "(2+5**2)*(16%7)/7"
   ]
  },
  {
   "cell_type": "code",
   "execution_count": null,
   "metadata": {},
   "outputs": [],
   "source": [
    "# 显式类型转换： int(),float()"
   ]
  },
  {
   "cell_type": "markdown",
   "metadata": {},
   "source": [
    "## 变量："
   ]
  },
  {
   "cell_type": "markdown",
   "metadata": {},
   "source": [
    "指一块储存空间"
   ]
  },
  {
   "cell_type": "markdown",
   "metadata": {},
   "source": [
    "### 保留字"
   ]
  },
  {
   "cell_type": "code",
   "execution_count": 8,
   "metadata": {},
   "outputs": [],
   "source": [
    "import keyword"
   ]
  },
  {
   "cell_type": "code",
   "execution_count": 14,
   "metadata": {},
   "outputs": [
    {
     "data": {
      "text/plain": [
       "['__all__',\n",
       " '__builtins__',\n",
       " '__cached__',\n",
       " '__doc__',\n",
       " '__file__',\n",
       " '__loader__',\n",
       " '__name__',\n",
       " '__package__',\n",
       " '__spec__',\n",
       " 'iskeyword',\n",
       " 'kwlist',\n",
       " 'main']"
      ]
     },
     "execution_count": 14,
     "metadata": {},
     "output_type": "execute_result"
    }
   ],
   "source": [
    "dir(keyword)"
   ]
  },
  {
   "cell_type": "code",
   "execution_count": 20,
   "metadata": {},
   "outputs": [
    {
     "data": {
      "application/javascript": [
       "\n",
       "        if (window._pyforest_update_imports_cell) { window._pyforest_update_imports_cell('import pandas as pd'); }\n",
       "    "
      ],
      "text/plain": [
       "<IPython.core.display.Javascript object>"
      ]
     },
     "metadata": {},
     "output_type": "display_data"
    },
    {
     "data": {
      "text/html": [
       "<div>\n",
       "<style scoped>\n",
       "    .dataframe tbody tr th:only-of-type {\n",
       "        vertical-align: middle;\n",
       "    }\n",
       "\n",
       "    .dataframe tbody tr th {\n",
       "        vertical-align: top;\n",
       "    }\n",
       "\n",
       "    .dataframe thead th {\n",
       "        text-align: right;\n",
       "    }\n",
       "</style>\n",
       "<table border=\"1\" class=\"dataframe\">\n",
       "  <thead>\n",
       "    <tr style=\"text-align: right;\">\n",
       "      <th></th>\n",
       "      <th>0</th>\n",
       "      <th>1</th>\n",
       "      <th>2</th>\n",
       "      <th>3</th>\n",
       "      <th>4</th>\n",
       "      <th>5</th>\n",
       "      <th>6</th>\n",
       "    </tr>\n",
       "  </thead>\n",
       "  <tbody>\n",
       "    <tr>\n",
       "      <th>0</th>\n",
       "      <td>False</td>\n",
       "      <td>None</td>\n",
       "      <td>True</td>\n",
       "      <td>and</td>\n",
       "      <td>as</td>\n",
       "      <td>assert</td>\n",
       "      <td>async</td>\n",
       "    </tr>\n",
       "    <tr>\n",
       "      <th>1</th>\n",
       "      <td>await</td>\n",
       "      <td>break</td>\n",
       "      <td>class</td>\n",
       "      <td>continue</td>\n",
       "      <td>def</td>\n",
       "      <td>del</td>\n",
       "      <td>elif</td>\n",
       "    </tr>\n",
       "    <tr>\n",
       "      <th>2</th>\n",
       "      <td>else</td>\n",
       "      <td>except</td>\n",
       "      <td>finally</td>\n",
       "      <td>for</td>\n",
       "      <td>from</td>\n",
       "      <td>global</td>\n",
       "      <td>if</td>\n",
       "    </tr>\n",
       "    <tr>\n",
       "      <th>3</th>\n",
       "      <td>import</td>\n",
       "      <td>in</td>\n",
       "      <td>is</td>\n",
       "      <td>lambda</td>\n",
       "      <td>nonlocal</td>\n",
       "      <td>not</td>\n",
       "      <td>or</td>\n",
       "    </tr>\n",
       "    <tr>\n",
       "      <th>4</th>\n",
       "      <td>pass</td>\n",
       "      <td>raise</td>\n",
       "      <td>return</td>\n",
       "      <td>try</td>\n",
       "      <td>while</td>\n",
       "      <td>with</td>\n",
       "      <td>yield</td>\n",
       "    </tr>\n",
       "  </tbody>\n",
       "</table>\n",
       "</div>"
      ],
      "text/plain": [
       "        0       1        2         3         4       5      6\n",
       "0   False    None     True       and        as  assert  async\n",
       "1   await   break    class  continue       def     del   elif\n",
       "2    else  except  finally       for      from  global     if\n",
       "3  import      in       is    lambda  nonlocal     not     or\n",
       "4    pass   raise   return       try     while    with  yield"
      ]
     },
     "execution_count": 20,
     "metadata": {},
     "output_type": "execute_result"
    }
   ],
   "source": [
    "pd.DataFrame(np.array(keyword.kwlist).reshape(5,7))"
   ]
  },
  {
   "cell_type": "markdown",
   "metadata": {},
   "source": [
    "## 字符串"
   ]
  },
  {
   "cell_type": "code",
   "execution_count": 11,
   "metadata": {},
   "outputs": [
    {
     "data": {
      "text/plain": [
       "True"
      ]
     },
     "execution_count": 11,
     "metadata": {},
     "output_type": "execute_result"
    }
   ],
   "source": [
    "\"你好\".isalpha()"
   ]
  },
  {
   "cell_type": "code",
   "execution_count": 12,
   "metadata": {},
   "outputs": [],
   "source": [
    "a=\"你\"\n",
    "b=\"好\""
   ]
  },
  {
   "cell_type": "code",
   "execution_count": 15,
   "metadata": {},
   "outputs": [
    {
     "data": {
      "text/plain": [
       "'你+好'"
      ]
     },
     "execution_count": 15,
     "metadata": {},
     "output_type": "execute_result"
    }
   ],
   "source": [
    "\"+\".join([a,b])"
   ]
  },
  {
   "cell_type": "code",
   "execution_count": 19,
   "metadata": {},
   "outputs": [
    {
     "data": {
      "text/plain": [
       "['你', '好']"
      ]
     },
     "execution_count": 19,
     "metadata": {},
     "output_type": "execute_result"
    }
   ],
   "source": [
    "\"+\".join([a,b]).split(\"+\")"
   ]
  },
  {
   "cell_type": "code",
   "execution_count": 20,
   "metadata": {},
   "outputs": [
    {
     "name": "stdout",
     "output_type": "stream",
     "text": [
      "你\n",
      "好\n"
     ]
    }
   ],
   "source": [
    "for i in _:\n",
    "    print(i)"
   ]
  },
  {
   "cell_type": "code",
   "execution_count": 22,
   "metadata": {},
   "outputs": [
    {
     "data": {
      "text/plain": [
       "78"
      ]
     },
     "execution_count": 22,
     "metadata": {},
     "output_type": "execute_result"
    }
   ],
   "source": [
    "len(dir(str))"
   ]
  },
  {
   "cell_type": "code",
   "execution_count": 25,
   "metadata": {},
   "outputs": [
    {
     "data": {
      "application/javascript": [
       "\n",
       "        if (window._pyforest_update_imports_cell) { window._pyforest_update_imports_cell('import pandas as pd'); }\n",
       "    "
      ],
      "text/plain": [
       "<IPython.core.display.Javascript object>"
      ]
     },
     "metadata": {},
     "output_type": "display_data"
    },
    {
     "data": {
      "text/html": [
       "<div>\n",
       "<style scoped>\n",
       "    .dataframe tbody tr th:only-of-type {\n",
       "        vertical-align: middle;\n",
       "    }\n",
       "\n",
       "    .dataframe tbody tr th {\n",
       "        vertical-align: top;\n",
       "    }\n",
       "\n",
       "    .dataframe thead th {\n",
       "        text-align: right;\n",
       "    }\n",
       "</style>\n",
       "<table border=\"1\" class=\"dataframe\">\n",
       "  <thead>\n",
       "    <tr style=\"text-align: right;\">\n",
       "      <th></th>\n",
       "      <th>0</th>\n",
       "      <th>1</th>\n",
       "      <th>2</th>\n",
       "      <th>3</th>\n",
       "      <th>4</th>\n",
       "      <th>5</th>\n",
       "      <th>6</th>\n",
       "      <th>7</th>\n",
       "      <th>8</th>\n",
       "      <th>9</th>\n",
       "      <th>10</th>\n",
       "      <th>11</th>\n",
       "      <th>12</th>\n",
       "    </tr>\n",
       "  </thead>\n",
       "  <tbody>\n",
       "    <tr>\n",
       "      <th>0</th>\n",
       "      <td>__add__</td>\n",
       "      <td>__class__</td>\n",
       "      <td>__contains__</td>\n",
       "      <td>__delattr__</td>\n",
       "      <td>__dir__</td>\n",
       "      <td>__doc__</td>\n",
       "      <td>__eq__</td>\n",
       "      <td>__format__</td>\n",
       "      <td>__ge__</td>\n",
       "      <td>__getattribute__</td>\n",
       "      <td>__getitem__</td>\n",
       "      <td>__getnewargs__</td>\n",
       "      <td>__gt__</td>\n",
       "    </tr>\n",
       "    <tr>\n",
       "      <th>1</th>\n",
       "      <td>__hash__</td>\n",
       "      <td>__init__</td>\n",
       "      <td>__init_subclass__</td>\n",
       "      <td>__iter__</td>\n",
       "      <td>__le__</td>\n",
       "      <td>__len__</td>\n",
       "      <td>__lt__</td>\n",
       "      <td>__mod__</td>\n",
       "      <td>__mul__</td>\n",
       "      <td>__ne__</td>\n",
       "      <td>__new__</td>\n",
       "      <td>__reduce__</td>\n",
       "      <td>__reduce_ex__</td>\n",
       "    </tr>\n",
       "    <tr>\n",
       "      <th>2</th>\n",
       "      <td>__repr__</td>\n",
       "      <td>__rmod__</td>\n",
       "      <td>__rmul__</td>\n",
       "      <td>__setattr__</td>\n",
       "      <td>__sizeof__</td>\n",
       "      <td>__str__</td>\n",
       "      <td>__subclasshook__</td>\n",
       "      <td>capitalize</td>\n",
       "      <td>casefold</td>\n",
       "      <td>center</td>\n",
       "      <td>count</td>\n",
       "      <td>encode</td>\n",
       "      <td>endswith</td>\n",
       "    </tr>\n",
       "    <tr>\n",
       "      <th>3</th>\n",
       "      <td>expandtabs</td>\n",
       "      <td>find</td>\n",
       "      <td>format</td>\n",
       "      <td>format_map</td>\n",
       "      <td>index</td>\n",
       "      <td>isalnum</td>\n",
       "      <td>isalpha</td>\n",
       "      <td>isascii</td>\n",
       "      <td>isdecimal</td>\n",
       "      <td>isdigit</td>\n",
       "      <td>isidentifier</td>\n",
       "      <td>islower</td>\n",
       "      <td>isnumeric</td>\n",
       "    </tr>\n",
       "    <tr>\n",
       "      <th>4</th>\n",
       "      <td>isprintable</td>\n",
       "      <td>isspace</td>\n",
       "      <td>istitle</td>\n",
       "      <td>isupper</td>\n",
       "      <td>join</td>\n",
       "      <td>ljust</td>\n",
       "      <td>lower</td>\n",
       "      <td>lstrip</td>\n",
       "      <td>maketrans</td>\n",
       "      <td>partition</td>\n",
       "      <td>replace</td>\n",
       "      <td>rfind</td>\n",
       "      <td>rindex</td>\n",
       "    </tr>\n",
       "    <tr>\n",
       "      <th>5</th>\n",
       "      <td>rjust</td>\n",
       "      <td>rpartition</td>\n",
       "      <td>rsplit</td>\n",
       "      <td>rstrip</td>\n",
       "      <td>split</td>\n",
       "      <td>splitlines</td>\n",
       "      <td>startswith</td>\n",
       "      <td>strip</td>\n",
       "      <td>swapcase</td>\n",
       "      <td>title</td>\n",
       "      <td>translate</td>\n",
       "      <td>upper</td>\n",
       "      <td>zfill</td>\n",
       "    </tr>\n",
       "  </tbody>\n",
       "</table>\n",
       "</div>"
      ],
      "text/plain": [
       "             0           1                  2            3           4  \\\n",
       "0      __add__   __class__       __contains__  __delattr__     __dir__   \n",
       "1     __hash__    __init__  __init_subclass__     __iter__      __le__   \n",
       "2     __repr__    __rmod__           __rmul__  __setattr__  __sizeof__   \n",
       "3   expandtabs        find             format   format_map       index   \n",
       "4  isprintable     isspace            istitle      isupper        join   \n",
       "5        rjust  rpartition             rsplit       rstrip       split   \n",
       "\n",
       "            5                 6           7          8                 9  \\\n",
       "0     __doc__            __eq__  __format__     __ge__  __getattribute__   \n",
       "1     __len__            __lt__     __mod__    __mul__            __ne__   \n",
       "2     __str__  __subclasshook__  capitalize   casefold            center   \n",
       "3     isalnum           isalpha     isascii  isdecimal           isdigit   \n",
       "4       ljust             lower      lstrip  maketrans         partition   \n",
       "5  splitlines        startswith       strip   swapcase             title   \n",
       "\n",
       "             10              11             12  \n",
       "0   __getitem__  __getnewargs__         __gt__  \n",
       "1       __new__      __reduce__  __reduce_ex__  \n",
       "2         count          encode       endswith  \n",
       "3  isidentifier         islower      isnumeric  \n",
       "4       replace           rfind         rindex  \n",
       "5     translate           upper          zfill  "
      ]
     },
     "execution_count": 25,
     "metadata": {},
     "output_type": "execute_result"
    }
   ],
   "source": [
    "pd.DataFrame(np.array(dir(str)).reshape(6,13))"
   ]
  },
  {
   "cell_type": "code",
   "execution_count": 26,
   "metadata": {},
   "outputs": [],
   "source": [
    "import re "
   ]
  },
  {
   "cell_type": "code",
   "execution_count": 27,
   "metadata": {},
   "outputs": [
    {
     "name": "stdout",
     "output_type": "stream",
     "text": [
      "Help on function findall in module re:\n",
      "\n",
      "findall(pattern, string, flags=0)\n",
      "    Return a list of all non-overlapping matches in the string.\n",
      "    \n",
      "    If one or more capturing groups are present in the pattern, return\n",
      "    a list of groups; this will be a list of tuples if the pattern\n",
      "    has more than one group.\n",
      "    \n",
      "    Empty matches are included in the result.\n",
      "\n"
     ]
    }
   ],
   "source": [
    "help(re.findall)"
   ]
  },
  {
   "cell_type": "code",
   "execution_count": 30,
   "metadata": {},
   "outputs": [],
   "source": [
    "text=\"If one or more capturing groups are present in the pattern, return\\\n",
    "    a list of groups; this will be a list of tuples if the pattern\\\n",
    "    has more than one group.\""
   ]
  },
  {
   "cell_type": "code",
   "execution_count": 39,
   "metadata": {},
   "outputs": [
    {
     "data": {
      "text/plain": [
       "[' one', 'more', 'more', ' one']"
      ]
     },
     "execution_count": 39,
     "metadata": {},
     "output_type": "execute_result"
    }
   ],
   "source": [
    "re.findall('.{1}o.{1}e',text)"
   ]
  },
  {
   "cell_type": "code",
   "execution_count": 34,
   "metadata": {},
   "outputs": [
    {
     "data": {
      "text/plain": [
       "'     Hello'"
      ]
     },
     "execution_count": 34,
     "metadata": {},
     "output_type": "execute_result"
    }
   ],
   "source": [
    "\"Hello\".rjust(10) # 右对齐"
   ]
  },
  {
   "cell_type": "code",
   "execution_count": 35,
   "metadata": {},
   "outputs": [
    {
     "data": {
      "text/plain": [
       "'Hello-----'"
      ]
     },
     "execution_count": 35,
     "metadata": {},
     "output_type": "execute_result"
    }
   ],
   "source": [
    "\"Hello\".ljust(10,'-') # 左对齐"
   ]
  },
  {
   "cell_type": "code",
   "execution_count": null,
   "metadata": {},
   "outputs": [],
   "source": []
  }
 ],
 "metadata": {
  "kernelspec": {
   "display_name": "Python 3",
   "language": "python",
   "name": "python3"
  },
  "language_info": {
   "codemirror_mode": {
    "name": "ipython",
    "version": 3
   },
   "file_extension": ".py",
   "mimetype": "text/x-python",
   "name": "python",
   "nbconvert_exporter": "python",
   "pygments_lexer": "ipython3",
   "version": "3.7.3"
  },
  "toc": {
   "base_numbering": 1,
   "nav_menu": {},
   "number_sections": true,
   "sideBar": true,
   "skip_h1_title": false,
   "title_cell": "Table of Contents",
   "title_sidebar": "Contents",
   "toc_cell": false,
   "toc_position": {},
   "toc_section_display": true,
   "toc_window_display": true
  },
  "varInspector": {
   "cols": {
    "lenName": 16,
    "lenType": 16,
    "lenVar": 40
   },
   "kernels_config": {
    "python": {
     "delete_cmd_postfix": "",
     "delete_cmd_prefix": "del ",
     "library": "var_list.py",
     "varRefreshCmd": "print(var_dic_list())"
    },
    "r": {
     "delete_cmd_postfix": ") ",
     "delete_cmd_prefix": "rm(",
     "library": "var_list.r",
     "varRefreshCmd": "cat(var_dic_list()) "
    }
   },
   "types_to_exclude": [
    "module",
    "function",
    "builtin_function_or_method",
    "instance",
    "_Feature"
   ],
   "window_display": false
  }
 },
 "nbformat": 4,
 "nbformat_minor": 4
}
