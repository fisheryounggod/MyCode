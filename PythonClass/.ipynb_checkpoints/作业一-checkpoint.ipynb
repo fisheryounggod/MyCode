{
 "cells": [
  {
   "cell_type": "markdown",
   "metadata": {},
   "source": [
    "## 作业\n",
    "(1) 在电脑上安装Anaconda。\n",
    "\n",
    "(2) 复习第一章：程序设计基本方法。\n",
    "\n",
    "(3)  在电脑上运行书本P18-20的微实例1.1、1.2和1.3，并与书本结果进行比较。\n",
    "\n",
    "(4)  在电脑上运行书本P29-30的作业1.1、1.2、1.3、1.4和1.5，要求每个程序首先输出学号姓名，最后输出运行结果.\n",
    "\n",
    "将作业1.1、1.2、1.3、1.4和1.5的运行结果分别截图保存，作为第一次作业的附件（一共5个附件），发送到邮箱：zhangduzhong@swufe.edu.cn邮件标题必须类似于：Python作业1_12345678。其中12345678需要替换成你的学号。"
   ]
  },
  {
   "cell_type": "markdown",
   "metadata": {},
   "source": [
    "### 练习一"
   ]
  },
  {
   "cell_type": "code",
   "execution_count": 1,
   "metadata": {},
   "outputs": [
    {
     "name": "stdout",
     "output_type": "stream",
     "text": [
      "学号：219020204138 | 姓名：杨雄飞\n",
      "请输入一个人名：马云\n",
      "请输入一个国家：火星\n",
      "世界这么大，马云想去火星看看！\n"
     ]
    }
   ],
   "source": [
    "xuehao_and_xingming='学号：219020204138 | 姓名：杨雄飞'\n",
    "print(xuehao_and_xingming)\n",
    "str1 = input('请输入一个人名：')\n",
    "str2 = input(\"请输入一个国家：\")\n",
    "print('世界这么大，{}想去{}看看！'.format(str1,str2))"
   ]
  },
  {
   "cell_type": "markdown",
   "metadata": {},
   "source": [
    "### 练习二"
   ]
  },
  {
   "cell_type": "code",
   "execution_count": 2,
   "metadata": {},
   "outputs": [
    {
     "name": "stdout",
     "output_type": "stream",
     "text": [
      "学号：219020204138 | 姓名：杨雄飞\n",
      "请输入整数N：100\n",
      "1到N的求和结果为： 5050\n"
     ]
    }
   ],
   "source": [
    "print(xuehao_and_xingming)\n",
    "n = input('请输入整数N：')\n",
    "sum = 0\n",
    "for i in range(int(n)):\n",
    "    sum += i+1\n",
    "print('1到N的求和结果为：',sum)"
   ]
  },
  {
   "cell_type": "markdown",
   "metadata": {},
   "source": [
    "### 练习三"
   ]
  },
  {
   "cell_type": "code",
   "execution_count": 3,
   "metadata": {},
   "outputs": [
    {
     "name": "stdout",
     "output_type": "stream",
     "text": [
      "学号：219020204138 | 姓名：杨雄飞\n",
      "1×1= 1 \n",
      "1×2= 2 2×2= 4 \n",
      "1×3= 3 2×3= 6 3×3= 9 \n",
      "1×4= 4 2×4= 8 3×4=12 4×4=16 \n",
      "1×5= 5 2×5=10 3×5=15 4×5=20 5×5=25 \n",
      "1×6= 6 2×6=12 3×6=18 4×6=24 5×6=30 6×6=36 \n",
      "1×7= 7 2×7=14 3×7=21 4×7=28 5×7=35 6×7=42 7×7=49 \n",
      "1×8= 8 2×8=16 3×8=24 4×8=32 5×8=40 6×8=48 7×8=56 8×8=64 \n",
      "1×9= 9 2×9=18 3×9=27 4×9=36 5×9=45 6×9=54 7×9=63 8×9=72 9×9=81 \n"
     ]
    }
   ],
   "source": [
    "print(xuehao_and_xingming)\n",
    "for i in range(1,10):\n",
    "    for j in range(1,i+1):\n",
    "        print('{}×{}={:2} '.format(j,i,i*j),end='')\n",
    "    print('')"
   ]
  },
  {
   "cell_type": "markdown",
   "metadata": {},
   "source": [
    "### 练习四"
   ]
  },
  {
   "cell_type": "code",
   "execution_count": 4,
   "metadata": {},
   "outputs": [
    {
     "name": "stdout",
     "output_type": "stream",
     "text": [
      "学号：219020204138 | 姓名：杨雄飞\n",
      "运算结果为： 4037913\n"
     ]
    }
   ],
   "source": [
    "print(xuehao_and_xingming)\n",
    "sum, tmp = 0,1\n",
    "for i in range(1,11):\n",
    "    tmp *= i\n",
    "    sum += tmp\n",
    "print('运算结果为：',sum)"
   ]
  },
  {
   "cell_type": "markdown",
   "metadata": {},
   "source": [
    "### 练习五"
   ]
  },
  {
   "cell_type": "code",
   "execution_count": 5,
   "metadata": {},
   "outputs": [
    {
     "name": "stdout",
     "output_type": "stream",
     "text": [
      "学号：219020204138 | 姓名：杨雄飞\n",
      "94\n"
     ]
    }
   ],
   "source": [
    "print(xuehao_and_xingming)\n",
    "n = 1\n",
    "for i in range(5,0,-1):\n",
    "    n=2*(n+1)\n",
    "print(n)"
   ]
  },
  {
   "cell_type": "code",
   "execution_count": null,
   "metadata": {},
   "outputs": [],
   "source": []
  }
 ],
 "metadata": {
  "kernelspec": {
   "display_name": "Python 3",
   "language": "python",
   "name": "python3"
  },
  "language_info": {
   "codemirror_mode": {
    "name": "ipython",
    "version": 3
   },
   "file_extension": ".py",
   "mimetype": "text/x-python",
   "name": "python",
   "nbconvert_exporter": "python",
   "pygments_lexer": "ipython3",
   "version": "3.7.3"
  },
  "toc": {
   "base_numbering": 1,
   "nav_menu": {},
   "number_sections": true,
   "sideBar": true,
   "skip_h1_title": false,
   "title_cell": "Table of Contents",
   "title_sidebar": "Contents",
   "toc_cell": false,
   "toc_position": {},
   "toc_section_display": true,
   "toc_window_display": false
  },
  "varInspector": {
   "cols": {
    "lenName": 16,
    "lenType": 16,
    "lenVar": 40
   },
   "kernels_config": {
    "python": {
     "delete_cmd_postfix": "",
     "delete_cmd_prefix": "del ",
     "library": "var_list.py",
     "varRefreshCmd": "print(var_dic_list())"
    },
    "r": {
     "delete_cmd_postfix": ") ",
     "delete_cmd_prefix": "rm(",
     "library": "var_list.r",
     "varRefreshCmd": "cat(var_dic_list()) "
    }
   },
   "types_to_exclude": [
    "module",
    "function",
    "builtin_function_or_method",
    "instance",
    "_Feature"
   ],
   "window_display": false
  }
 },
 "nbformat": 4,
 "nbformat_minor": 2
}
