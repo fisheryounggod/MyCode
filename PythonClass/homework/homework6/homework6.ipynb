{
 "cells": [
  {
   "cell_type": "markdown",
   "metadata": {},
   "source": [
    "# 作业：《绝地求生》游戏设计\n",
    "\n",
    "假设你在设计《绝地求生》的游戏。用于对玩家物品清单建模的数据结构是一个字典。其中键是字符串，描述清单中的物品，值是一个整型值，说明玩家有多少该物品。例如，字典值{'绷带': 10, '急救包': 1, '医疗箱': 3, '止痛药': 8, '能量饮料': 3}意味着玩家有10个绷带、1个急救包、3个医疗箱，8瓶止痛药和3瓶能量饮料等。\n",
    "\n",
    "写一个名为**displayInventory()**的函数，它接受任何可能的物品清单，并显示如下：\n",
    "\n",
    "<img src=\"Images/homework61.png\" width=90%>\n",
    "\n",
    "假设游戏玩家可以一次性捡到一个“盒子”(游戏特有说法，可以上网查查看)里所有的物资，这个功能在游戏里是没有的，但是作为游戏总设计师的你决定加上这个功能。盒子使用列表表示，例如['绷带','医疗箱','绷带','绷带' ,'肾上腺素注射器', '能量饮料','肾上腺素注射器']，表示盒子里有3个绷带，1个医疗箱，2个肾上腺素注射器和1瓶能量饮料。\n",
    "\n",
    "写一个名为**addToInventory(inventory, boxItems)**的函数，其中inventory 参数是一个字典，表示玩家的物品清单（像前面一样），boxItems参数是一个列表，addToInventory()函数应该返回一个字典，表示更新过的物品清单。请注意，列表可以包含多个同样的项。你的代码看起来可能像这样：\n",
    "\n",
    "<img src=\"Images/homework62.png\" width=90%>\n",
    "\n",
    "将2个截图作为第6次作业的附件，发送到作业邮箱。<br><br>\n",
    "<b><font color=red>邮件标题必须类似于：作业6_12345678。</font>其中12345678需要替换成你的学号。<br><br><b><font color=red>邮件标题必须类似于：作业6_12345678。</font>其中12345678需要替换成你的学号。<br><br><b><font color=red>邮件标题必须类似于：作业6_12345678。</font>其中12345678需要替换成你的学号。"
   ]
  },
  {
   "cell_type": "code",
   "execution_count": null,
   "metadata": {
    "collapsed": true
   },
   "outputs": [],
   "source": []
  }
 ],
 "metadata": {
  "kernelspec": {
   "display_name": "Python 3",
   "language": "python",
   "name": "python3"
  },
  "language_info": {
   "codemirror_mode": {
    "name": "ipython",
    "version": 3
   },
   "file_extension": ".py",
   "mimetype": "text/x-python",
   "name": "python",
   "nbconvert_exporter": "python",
   "pygments_lexer": "ipython3",
   "version": "3.6.2"
  }
 },
 "nbformat": 4,
 "nbformat_minor": 2
}
