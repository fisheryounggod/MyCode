{
 "cells": [
  {
   "cell_type": "markdown",
   "metadata": {},
   "source": [
    "## 作业\n",
    "**(1) 字符图网格** <br>\n",
    "假定有一个列表的列表，内层列表的每个值都是包含一个字符的字符串，像这样："
   ]
  },
  {
   "cell_type": "code",
   "execution_count": 1,
   "metadata": {
    "collapsed": true
   },
   "outputs": [],
   "source": [
    "grid = [['.', '.', '.', '.', '.', '.'],\n",
    "['.', 'O', 'O', '.', '.', '.'],\n",
    "['O', 'O', 'O', 'O', '.', '.'],\n",
    "['O', 'O', 'O', 'O', 'O', '.'],\n",
    "['.', 'O', 'O', 'O', 'O', 'O'],\n",
    "['O', 'O', 'O', 'O', 'O', '.'],\n",
    "['O', 'O', 'O', 'O', '.', '.'],\n",
    "['.', 'O', 'O', '.', '.', '.'],\n",
    "['.', '.', '.', '.', '.', '.']]"
   ]
  },
  {
   "cell_type": "code",
   "execution_count": 2,
   "metadata": {},
   "outputs": [
    {
     "data": {
      "text/plain": [
       "[['.', '.', '.', '.', '.', '.'],\n",
       " ['.', 'O', 'O', '.', '.', '.'],\n",
       " ['O', 'O', 'O', 'O', '.', '.'],\n",
       " ['O', 'O', 'O', 'O', 'O', '.'],\n",
       " ['.', 'O', 'O', 'O', 'O', 'O'],\n",
       " ['O', 'O', 'O', 'O', 'O', '.'],\n",
       " ['O', 'O', 'O', 'O', '.', '.'],\n",
       " ['.', 'O', 'O', '.', '.', '.'],\n",
       " ['.', '.', '.', '.', '.', '.']]"
      ]
     },
     "execution_count": 2,
     "metadata": {},
     "output_type": "execute_result"
    }
   ],
   "source": [
    "grid"
   ]
  },
  {
   "cell_type": "markdown",
   "metadata": {},
   "source": [
    "你可以认为grid[x][y]是一幅“图”在x、y 坐标处的字符，该图由文本字符组成。原点(0, 0)在左上角，向右x 坐标增加，向下y 坐标增加。\n",
    "\n",
    "复制前面的网格值，编写代码用它打印出图像。如下图：\n",
    "\n",
    "<img src=\"Images/homework51.png\" width=80%>"
   ]
  },
  {
   "cell_type": "markdown",
   "metadata": {},
   "source": [
    "注意，你打印出来的<font color=red>不应该</font>是：\n",
    "\n",
    "<img src=\"Images/homework51Wrong.png\" width=80%>"
   ]
  },
  {
   "cell_type": "markdown",
   "metadata": {},
   "source": [
    "**(2) ** 将课本P180页6.1，6.2的**程序代码及调用运行结果**分别截图保存。\n",
    "\n",
    "将3个截图作为第5次作业的附件，发送到作业邮箱。<br><br>\n",
    "<b><font color=red>邮件标题必须类似于：作业5_12345678。</font>其中12345678需要替换成你的学号。<br><br><b><font color=red>邮件标题必须类似于：作业5_12345678。</font>其中12345678需要替换成你的学号。<br><br><b><font color=red>邮件标题必须类似于：作业5_12345678。</font>其中12345678需要替换成你的学号。"
   ]
  },
  {
   "cell_type": "code",
   "execution_count": null,
   "metadata": {
    "collapsed": true
   },
   "outputs": [],
   "source": []
  }
 ],
 "metadata": {
  "kernelspec": {
   "display_name": "Python 3",
   "language": "python",
   "name": "python3"
  },
  "language_info": {
   "codemirror_mode": {
    "name": "ipython",
    "version": 3
   },
   "file_extension": ".py",
   "mimetype": "text/x-python",
   "name": "python",
   "nbconvert_exporter": "python",
   "pygments_lexer": "ipython3",
   "version": "3.6.2"
  }
 },
 "nbformat": 4,
 "nbformat_minor": 2
}
