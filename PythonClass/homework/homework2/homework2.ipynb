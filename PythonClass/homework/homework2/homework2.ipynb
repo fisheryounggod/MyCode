{
 "cells": [
  {
   "cell_type": "markdown",
   "metadata": {},
   "source": [
    "## 作业\n",
    "将课本P93页3.4的**程序代码及运行结果**和P94页3.5的**程序代码及运行结果**分别截图保存，作为第2次作业的附件（一共2个附件），发送到作业邮箱。<br><br><b><font color=red>邮件标题必须类似于：作业2_1233456。</font>其中123456需要替换成你的学号。<br><br><b><font color=red>邮件标题必须类似于：作业2_1233456。</font>其中123456需要替换成你的学号。<br><br><b><font color=red>邮件标题必须类似于：作业2_1233456。</font>其中123456需要替换成你的学号。"
   ]
  },
  {
   "cell_type": "code",
   "execution_count": null,
   "metadata": {
    "collapsed": true
   },
   "outputs": [],
   "source": []
  }
 ],
 "metadata": {
  "kernelspec": {
   "display_name": "Python 3",
   "language": "python",
   "name": "python3"
  },
  "language_info": {
   "codemirror_mode": {
    "name": "ipython",
    "version": 3
   },
   "file_extension": ".py",
   "mimetype": "text/x-python",
   "name": "python",
   "nbconvert_exporter": "python",
   "pygments_lexer": "ipython3",
   "version": "3.6.2"
  }
 },
 "nbformat": 4,
 "nbformat_minor": 2
}
