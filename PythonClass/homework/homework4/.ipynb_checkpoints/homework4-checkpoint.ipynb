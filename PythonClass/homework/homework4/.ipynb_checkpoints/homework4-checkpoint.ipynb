{
 "cells": [
  {
   "cell_type": "markdown",
   "metadata": {},
   "source": [
    "## 作业\n",
    "**(1) ** 定义函数，当只有一个参数时，输出行列数相同的田字格；当有两个参数时，分别作为行数和列数，输出对应田字格。每格的宽度为4个\"-\"，高度为2个\"|\"。**程序代码及调用运行结果**截图应该类似于下图：<br>\n",
    "<img src=\"Images/homework41.png\" width=80%><br>\n",
    "**(2) ** 将课本P151页5.2，5.3，5.4的**程序代码及调用运行结果**分别截图保存。\n",
    "\n",
    "将4个截图作为第4次作业的附件，发送到作业邮箱。<br><br>\n",
    "<b><font color=red>邮件标题必须类似于：作业4_12345678。</font>其中12345678需要替换成你的学号。<br><br><b><font color=red>邮件标题必须类似于：作业4_12345678。</font>其中12345678需要替换成你的学号。<br><br><b><font color=red>邮件标题必须类似于：作业4_12345678。</font>其中12345678需要替换成你的学号。"
   ]
  },
  {
   "cell_type": "code",
   "execution_count": null,
   "metadata": {
    "collapsed": true
   },
   "outputs": [],
   "source": []
  }
 ],
 "metadata": {
  "kernelspec": {
   "display_name": "Python 3",
   "language": "python",
   "name": "python3"
  },
  "language_info": {
   "codemirror_mode": {
    "name": "ipython",
    "version": 3
   },
   "file_extension": ".py",
   "mimetype": "text/x-python",
   "name": "python",
   "nbconvert_exporter": "python",
   "pygments_lexer": "ipython3",
   "version": "3.6.2"
  }
 },
 "nbformat": 4,
 "nbformat_minor": 2
}
