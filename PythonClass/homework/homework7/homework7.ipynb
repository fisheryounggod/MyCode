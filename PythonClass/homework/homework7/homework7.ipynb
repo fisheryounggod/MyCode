{
 "cells": [
  {
   "cell_type": "markdown",
   "metadata": {},
   "source": [
    "# 作业：商城销售统计\n",
    "\n",
    "假设你是学生实验超市的销售总监，每个月你会收到销售数据，这些数据存在CSV文件中，文件内容看起来像这样：\n",
    "<img src=\"Images/homework71.png\" width=\"70%\">\n",
    "\n",
    "其中order_id是订单号，goods_id是商品代码，goods_name是商品名称，unit_price是商品单价，quantity是销售数量，return_qty是退货数量。\n",
    "\n",
    "现在你有2018年1月至4月份销售数据，分别存在2018_01.csv，2018_02.csv，2018_03.csv，2018_04.csv文件中，请做出以下统计：\n",
    "* 每个月的销售额，以及4个月的销售总额写入到salesAmount.txt文件中，每个月的数据和总额数据各占1行（共5行）。你的文件应该看起来像：\n",
    "<img src=\"Images/homework71_2.png\" width=30%>\n",
    "* 每个月销售额最高的10种商品的商品代码，商品名称，销售数量，销售额分别写入到1个文件中，文件名分别为：salesTop10_01.txt，salesTop10_02.txt，salesTop10_03.txt，salesTop10_04.txt。你的每个文件应该看起来像：\n",
    "<img src=\"Images/homework71_3.png\" width=30%>\n",
    "\n",
    "将作业的程序源文件保存在12345678.py文件中作为第5次作业的附件,其中12345678需要替换成你的学号,发送到作业邮箱。<br><br>\n",
    "<b><font color=red>邮件标题必须类似于：作业7_12345678。</font>其中12345678需要替换成你的学号。<br><br><b><font color=red>邮件标题必须类似于：作业7_12345678。</font>其中12345678需要替换成你的学号。<br><br><b><font color=red>邮件标题必须类似于：作业7_12345678。</font>其中12345678需要替换成你的学号。"
   ]
  },
  {
   "cell_type": "code",
   "execution_count": null,
   "metadata": {
    "collapsed": true
   },
   "outputs": [],
   "source": []
  }
 ],
 "metadata": {
  "kernelspec": {
   "display_name": "Python 3",
   "language": "python",
   "name": "python3"
  },
  "language_info": {
   "codemirror_mode": {
    "name": "ipython",
    "version": 3
   },
   "file_extension": ".py",
   "mimetype": "text/x-python",
   "name": "python",
   "nbconvert_exporter": "python",
   "pygments_lexer": "ipython3",
   "version": "3.6.2"
  }
 },
 "nbformat": 4,
 "nbformat_minor": 2
}
