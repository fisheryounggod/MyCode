{
 "cells": [
  {
   "cell_type": "markdown",
   "metadata": {},
   "source": [
    "## 作业\n",
    "(1) 在电脑上安装Anaconda。<br>\n",
    "(2) 复习第一章：程序设计基本方法。<br>\n",
    "(3)  在电脑上运行书本P18-20的微实例1.1、1.2和1.3，并与书本结果进行比较。<br>\n",
    "(4)  在电脑上运行书本P29-30的作业1.1、1.2、1.3、1.4和1.5，要求<font color=red>每个程序首先输出学号姓名</font>，最后输出运行结果，例如作业1.1的结果应该是：<br>\n",
    "<img src='Images\\homework1.png' width=70%><br>\n",
    "将作业1.1、1.2、1.3、1.4和1.5的运行结果分别截图保存，作为第一次作业的附件（一共5个附件），发送到作业邮箱。<br><br><b><font color=red>邮件标题必须类似于：作业1_12345678。</font>其中12345678需要替换成你的学号。<br><br><b><font color=red>邮件标题必须类似于：作业1_12345678。</font>其中12345678需要替换成你的学号。<br><br><b><font color=red>邮件标题必须类似于：作业1_12345678。</font>其中12345678需要替换成你的学号。"
   ]
  },
  {
   "cell_type": "code",
   "execution_count": null,
   "metadata": {
    "collapsed": true
   },
   "outputs": [],
   "source": []
  }
 ],
 "metadata": {
  "kernelspec": {
   "display_name": "Python 3",
   "language": "python",
   "name": "python3"
  },
  "language_info": {
   "codemirror_mode": {
    "name": "ipython",
    "version": 3
   },
   "file_extension": ".py",
   "mimetype": "text/x-python",
   "name": "python",
   "nbconvert_exporter": "python",
   "pygments_lexer": "ipython3",
   "version": "3.6.2"
  }
 },
 "nbformat": 4,
 "nbformat_minor": 2
}
