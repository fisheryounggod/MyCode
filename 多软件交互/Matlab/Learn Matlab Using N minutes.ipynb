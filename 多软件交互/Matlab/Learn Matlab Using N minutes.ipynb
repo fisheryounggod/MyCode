{
 "cells": [
  {
   "cell_type": "code",
   "execution_count": null,
   "metadata": {},
   "outputs": [],
   "source": [
    "%% 《量化投资：以MATLAB为工具》-基础篇-N分钟学会MATLAB(60<N<180)\n",
    "% Learn Matlab Using N minutes(60<N<180)\n",
    "%\n",
    "% by LiYang\n",
    "% \n",
    "% Email:farutoliyang@gmail.com\n",
    "% \n",
    "% Last Updated 2013/08"
   ]
  },
  {
   "cell_type": "markdown",
   "metadata": {},
   "source": [
    "## A Little Clean Work"
   ]
  },
  {
   "cell_type": "code",
   "execution_count": 1,
   "metadata": {},
   "outputs": [],
   "source": [
    "tic;    % stopwatch\n",
    "clear;\n",
    "clc;\n",
    "close all;\n",
    "format compact;"
   ]
  },
  {
   "cell_type": "markdown",
   "metadata": {},
   "source": [
    "## 能否简单举一个MATLAB的例子？"
   ]
  },
  {
   "cell_type": "code",
   "execution_count": 2,
   "metadata": {},
   "outputs": [],
   "source": [
    "Mean_Value = 0;\n",
    "STD_Value = 1;\n",
    "Data_Num = 100;\n",
    "\n",
    "x = random('Normal', Mean_Value, STD_Value, Data_Num, 1);\n",
    "x_dataset = dataset(x);"
   ]
  },
  {
   "cell_type": "code",
   "execution_count": 3,
   "metadata": {},
   "outputs": [
    {
     "name": "stdout",
     "output_type": "stream",
     "text": [
      "  Name              Size            Bytes  Class      Attributes\n",
      "\n",
      "  Data_Num          1x1                 8  double               \n",
      "  Mean_Value        1x1                 8  double               \n",
      "  STD_Value         1x1                 8  double               \n",
      "  x               100x1               800  double               \n",
      "  x_dataset       100x1              2196  dataset              \n",
      "\n"
     ]
    }
   ],
   "source": [
    "whos  #查看变量信息"
   ]
  },
  {
   "cell_type": "code",
   "execution_count": 4,
   "metadata": {},
   "outputs": [
    {
     "name": "stdout",
     "output_type": "stream",
     "text": [
      "mean_x =\n",
      "    0.1231\n",
      "std_x =\n",
      "    1.1624\n",
      "x: [100x1 double]\n",
      "    min        1st quartile    median      3rd quartile    max   \n",
      "    -2.9443    -0.76726        0.095403    0.79158         3.5784\n"
     ]
    }
   ],
   "source": [
    "mean_x = mean(x)\n",
    "std_x = std(x)\n",
    "summary(x_dataset) # 统计概览"
   ]
  },
  {
   "cell_type": "markdown",
   "metadata": {},
   "source": [
    "## 如何查看函数的代码？"
   ]
  },
  {
   "cell_type": "code",
   "execution_count": 5,
   "metadata": {},
   "outputs": [],
   "source": [
    "edit mean;"
   ]
  },
  {
   "cell_type": "markdown",
   "metadata": {},
   "source": [
    "## MATLAB里面可以使用科学计数法么？"
   ]
  },
  {
   "cell_type": "code",
   "execution_count": 6,
   "metadata": {},
   "outputs": [
    {
     "name": "stdout",
     "output_type": "stream",
     "text": [
      "ans =\n",
      "               10000000000\n",
      "ans =\n",
      "                   0.00012\n"
     ]
    }
   ],
   "source": [
    "format longG\n",
    "1e10\n",
    "1.2e-4"
   ]
  },
  {
   "cell_type": "code",
   "execution_count": 7,
   "metadata": {},
   "outputs": [
    {
     "name": "stdout",
     "output_type": "stream",
     "text": [
      "ans =\n",
      "   1.0000e+10\n",
      "ans =\n",
      "   1.2000e-04\n"
     ]
    }
   ],
   "source": [
    "format short #科学计数法表示\n",
    "1e10\n",
    "1.2e-4"
   ]
  },
  {
   "cell_type": "markdown",
   "metadata": {},
   "source": [
    "## 如何恢复MATLAB的文件关联？"
   ]
  },
  {
   "cell_type": "code",
   "execution_count": null,
   "metadata": {},
   "outputs": [],
   "source": [
    " cwd=pwd;\n",
    " cd([matlabroot '\\toolbox\\matlab\\winfun\\private']);\n",
    " fileassoc('add',{'.m','.mat','.fig','.p','.mdl',['.' mexext]});%重点\n",
    " cd(cwd);\n",
    " disp('Changed Windows file associations. FIG, M, MAT, MDL, MEX, andP files are now associated with MATLAB.') "
   ]
  },
  {
   "cell_type": "markdown",
   "metadata": {},
   "source": [
    "## MATLAB可以读写Excel的数据？"
   ]
  },
  {
   "cell_type": "code",
   "execution_count": 2,
   "metadata": {
    "scrolled": true
   },
   "outputs": [
    {
     "name": "stdout",
     "output_type": "stream",
     "text": [
      "\n",
      "values =\n",
      "\n",
      "  3x3 cell array\n",
      "\n",
      "    {[1]}    {[2]}    {[3]}\n",
      "    {[4]}    {[5]}    {'x'}\n",
      "    {[7]}    {[8]}    {[9]}\n",
      "\n",
      "\n",
      "headers =\n",
      "\n",
      "  1x3 cell array\n",
      "\n",
      "    {'First'}    {'Second'}    {'Third'}\n",
      "\n"
     ]
    }
   ],
   "source": [
    " values = {1, 2, 3 ; 4, 5, 'x' ; 7, 8, 9}\n",
    " headers = {'First', 'Second', 'Third'}"
   ]
  },
  {
   "cell_type": "code",
   "execution_count": 3,
   "metadata": {},
   "outputs": [
    {
     "name": "stdout",
     "output_type": "stream",
     "text": [
      "\n",
      "ans =\n",
      "\n",
      "  4x3 cell array\n",
      "\n",
      "    {'First'}    {'Second'}    {'Third'}\n",
      "    {[    1]}    {[     2]}    {[    3]}\n",
      "    {[    4]}    {[     5]}    {'x'    }\n",
      "    {[    7]}    {[     8]}    {[    9]}\n",
      "\n"
     ]
    }
   ],
   "source": [
    "[headers; values]"
   ]
  },
  {
   "cell_type": "code",
   "execution_count": 8,
   "metadata": {
    "scrolled": true
   },
   "outputs": [
    {
     "name": "stderr",
     "output_type": "stream",
     "text": [
      "\u001b[0;31mError using evalin\n",
      "Undefined function or variable 'Ex'.\n",
      "\n",
      "Error in xlswriteLF\n",
      "\n",
      "\u001b[0m"
     ]
    }
   ],
   "source": [
    "xlswrite('./data/eg_Mat2Excel.xls', [headers; values])"
   ]
  },
  {
   "cell_type": "code",
   "execution_count": 124,
   "metadata": {},
   "outputs": [],
   "source": [
    "? xlswrite\n",
    "% 将矩阵 A 写入 Microsoft Excel 电子表格工作簿 filename 中的第一张工作表，从单元格 A1 开始写入。\n",
    "\n",
    "%     xlswrite(filename,A)\n",
    "%     xlswrite(filename,A,sheet)\n",
    "%     xlswrite(filename,A,xlRange)\n",
    "%     xlswrite(filename,A,sheet,xlRange)"
   ]
  },
  {
   "cell_type": "code",
   "execution_count": 42,
   "metadata": {},
   "outputs": [
    {
     "name": "stdout",
     "output_type": "stream",
     "text": [
      "\n",
      "A =\n",
      "\n",
      "   1.0e+03 *\n",
      "\n",
      "    4.0012\n",
      "    3.9822\n",
      "    3.9836\n",
      "    3.9836\n",
      "    3.9713\n",
      "    3.8670\n",
      "    3.8566\n",
      "    3.8456\n",
      "    3.8728\n",
      "    3.8293\n",
      "    3.8241\n",
      "    3.9138\n",
      "    3.9352\n",
      "    3.9562\n",
      "    3.9229\n",
      "    3.9128\n",
      "    3.9252\n",
      "    3.9682\n",
      "    3.9602\n",
      "    3.9602\n",
      "    3.9636\n",
      "    3.9249\n",
      "    3.9362\n",
      "    3.9126\n",
      "    3.8670\n",
      "    3.8492\n",
      "    3.8228\n",
      "    3.7970\n",
      "    3.8298\n",
      "    3.8394\n",
      "    3.8081\n",
      "    3.8535\n",
      "    3.8395\n",
      "    3.8024\n",
      "    3.7974\n",
      "    3.8257\n",
      "    3.7533\n",
      "    3.7692\n",
      "    3.7928\n",
      "    3.7803\n",
      "    3.7980\n",
      "    3.7132\n",
      "    3.7345\n",
      "    3.6751\n",
      "    3.6862\n",
      "    3.6741\n",
      "    3.7101\n",
      "    3.6981\n",
      "    3.7225\n",
      "    3.6251\n",
      "    3.5303\n",
      "    3.6532\n",
      "    3.5891\n",
      "    3.6363\n",
      "    3.7097\n",
      "    3.7278\n",
      "    3.8953\n",
      "    3.9509\n",
      "    4.0284\n",
      "    4.0827\n",
      "    3.9971\n",
      "    4.1385\n",
      "    4.2067\n",
      "    4.1151\n",
      "    4.0914\n",
      "    4.0697\n",
      "    3.9401\n",
      "    4.0849\n",
      "    4.0730\n",
      "    4.1239\n",
      "    4.1328\n",
      "    4.1495\n",
      "    4.1447\n",
      "    4.0513\n",
      "    4.0575\n",
      "    4.0774\n",
      "    3.9877\n",
      "    3.9599\n",
      "    3.9844\n",
      "    3.9525\n",
      "    3.9160\n",
      "    3.8999\n",
      "    3.8998\n",
      "    3.8285\n",
      "    3.7856\n",
      "    3.6884\n",
      "    4.0039\n",
      "    4.1319\n",
      "    4.1143\n",
      "    4.1858\n",
      "    4.1549\n",
      "    4.1490\n",
      "    4.1667\n",
      "    4.1899\n",
      "    4.2040\n",
      "    4.1632\n",
      "    4.1644\n",
      "    4.1123\n",
      "    4.1602\n",
      "    4.1293\n",
      "    4.1450\n",
      "    4.1522\n",
      "    4.0966\n",
      "    4.0816\n",
      "    4.0220\n",
      "    4.0260\n",
      "    3.9909\n",
      "    3.9930\n",
      "    3.9671\n",
      "    4.0172\n",
      "    4.0271\n",
      "    4.0328\n",
      "    4.0418\n",
      "    3.9876\n",
      "    3.9682\n",
      "    3.8910\n",
      "    3.9028\n",
      "    3.9004\n",
      "    3.8954\n",
      "    3.9024\n",
      "    3.8794\n",
      "    3.8498\n",
      "    3.8511\n",
      "    3.8361\n",
      "    3.8287\n",
      "    3.8623\n",
      "    3.8756\n",
      "    3.8917\n",
      "    3.8782\n",
      "    3.8500\n",
      "    3.8896\n",
      "    3.9079\n",
      "    3.9470\n",
      "    3.9079\n",
      "    3.8771\n",
      "    3.9059\n",
      "    3.9000\n",
      "    3.9037\n",
      "    3.9030\n",
      "    3.9730\n",
      "    3.9919\n",
      "    3.9849\n",
      "    4.0028\n",
      "    3.9781\n",
      "    3.9524\n",
      "    3.8868\n",
      "    3.8912\n",
      "    3.9102\n",
      "    3.9266\n",
      "    3.8968\n",
      "    3.8707\n",
      "    3.8711\n",
      "    3.8959\n",
      "    3.8808\n",
      "    3.8694\n",
      "    3.9252\n",
      "    3.9227\n",
      "    3.9362\n",
      "    3.9532\n",
      "    3.9117\n",
      "    3.8746\n",
      "    3.8432\n",
      "    3.8377\n",
      "    3.8145\n",
      "    3.8527\n",
      "    3.8411\n",
      "    3.8710\n",
      "    3.9011\n",
      "    3.8907\n",
      "    3.9356\n",
      "    3.9244\n",
      "    3.9101\n",
      "    3.8912\n",
      "    3.9577\n",
      "    3.9724\n",
      "    3.9301\n",
      "    3.9593\n",
      "    3.9729\n",
      "    3.9485\n",
      "    3.9253\n",
      "    3.8860\n",
      "    3.8536\n",
      "    3.8483\n",
      "    3.7996\n",
      "    3.7902\n",
      "    3.8026\n",
      "    3.8169\n",
      "    3.7659\n",
      "    3.8209\n",
      "    3.7935\n",
      "    3.7818\n",
      "    3.7877\n",
      "    3.7911\n",
      "    3.7105\n",
      "    3.6940\n",
      "    3.6824\n",
      "    3.6658\n",
      "    3.6991\n",
      "    3.6335\n",
      "    3.6693\n",
      "    3.6214\n",
      "    3.6363\n",
      "    3.6757\n",
      "    3.7474\n",
      "    3.8035\n",
      "    3.8354\n",
      "    3.8703\n",
      "    3.8543\n",
      "    3.8586\n",
      "    3.8511\n",
      "    3.8198\n",
      "    3.7899\n",
      "    3.7817\n",
      "    3.8080\n",
      "    3.7684\n",
      "    3.8046\n",
      "    3.8068\n",
      "    3.8242\n",
      "    3.8087\n",
      "    3.7852\n",
      "    3.7867\n",
      "    3.7931\n",
      "    3.8028\n",
      "    3.8932\n",
      "    3.8731\n",
      "    3.8935\n",
      "    3.9372\n",
      "    3.9358\n",
      "    3.8256\n",
      "    3.8348\n",
      "    3.7943\n",
      "    3.8013\n",
      "    3.8413\n",
      "    3.8339\n",
      "    3.8285\n",
      "    3.7159\n",
      "    3.6676\n",
      "    3.6548\n",
      "    3.6549\n",
      "    3.6854\n",
      "    3.6911\n",
      "    3.7193\n",
      "    3.6107\n",
      "    3.5647\n",
      "    3.5971\n",
      "    3.5985\n",
      "    3.6320\n",
      "    3.6298\n",
      "    3.6412\n",
      "    3.6639\n",
      "    3.6723\n",
      "    3.6372\n",
      "    3.5939\n",
      "    3.5840\n",
      "    3.6494\n",
      "    3.6668\n",
      "    3.6178\n",
      "    3.6488\n",
      "    3.7440\n",
      "    3.7271\n",
      "    3.6452\n",
      "    3.6687\n",
      "    3.7304\n",
      "    3.5997\n",
      "    3.6675\n",
      "    3.7207\n",
      "    3.6846\n",
      "    3.9132\n",
      "    3.9003\n",
      "    3.8893\n",
      "    3.9418\n",
      "    4.0301\n",
      "    4.0190\n",
      "    4.0256\n",
      "    4.1206\n",
      "    4.0721\n",
      "    4.0872\n",
      "    4.0858\n",
      "    3.9755\n",
      "    3.9886\n",
      "    3.9976\n",
      "    4.0858\n",
      "    4.0754\n",
      "    4.0572\n",
      "    4.0622\n",
      "    4.0222\n",
      "    3.9713\n",
      "    3.9739\n",
      "    3.8723\n",
      "    3.7284\n",
      "    3.7434\n",
      "    3.7004\n",
      "    3.7428\n",
      "    3.8338\n",
      "    3.8369\n",
      "    3.8354\n",
      "    3.8340\n",
      "    3.8518\n",
      "    3.7450\n",
      "    3.6985\n",
      "    3.7242\n",
      "    3.7553\n",
      "    3.7299\n",
      "    3.6576\n",
      "    3.8089\n",
      "    3.8481\n",
      "    3.8160\n",
      "    3.7941\n",
      "    3.7497\n",
      "    3.6694\n",
      "    3.6784\n",
      "    3.6847\n",
      "    3.7295\n",
      "    3.5201\n",
      "    3.4427\n",
      "    3.4519\n",
      "    3.4396\n",
      "    3.4457\n",
      "    3.3387\n",
      "    3.4021\n",
      "    3.3970\n",
      "    3.3303\n",
      "    3.3065\n",
      "    3.2474\n",
      "    3.2016\n",
      "    3.1685\n",
      "    3.1940\n",
      "    3.1838\n",
      "    3.1845\n",
      "    3.1588\n",
      "    3.1411\n",
      "    3.1433\n",
      "    3.1856\n",
      "    3.1682\n",
      "    3.1114\n",
      "    3.1286\n",
      "    3.1280\n",
      "    3.0678\n",
      "    3.0948\n",
      "    3.0727\n",
      "    3.0785\n",
      "    3.0477\n",
      "    3.0543\n",
      "    3.0359\n",
      "    2.9648\n",
      "    2.9695\n",
      "    3.0107\n",
      "    2.9905\n",
      "    3.0020\n",
      "    3.0173\n",
      "    3.0382\n",
      "    3.0294\n",
      "    3.0674\n",
      "    3.0911\n",
      "    3.1284\n",
      "    3.1612\n",
      "    3.1659\n",
      "    3.2197\n",
      "    3.1706\n",
      "    3.1598\n",
      "    3.1448\n",
      "    3.1816\n",
      "    3.1817\n",
      "    3.2520\n",
      "    3.2677\n",
      "    3.2609\n",
      "    3.1727\n",
      "    3.1377\n",
      "    3.1789\n",
      "    3.1372\n",
      "    3.1412\n",
      "    3.1435\n",
      "    3.2144\n",
      "    3.2265\n",
      "    3.2184\n",
      "    3.2946\n",
      "    3.2577\n",
      "    3.2424\n",
      "    3.2049\n",
      "    3.2374\n",
      "    3.2051\n",
      "    3.1674\n",
      "    3.2128\n",
      "    3.2219\n",
      "    3.2431\n",
      "    3.2628\n",
      "    3.2902\n",
      "    3.1770\n",
      "    3.1538\n",
      "    3.1103\n",
      "    3.0769\n",
      "    3.1736\n",
      "    3.1943\n",
      "    3.1882\n",
      "    3.1834\n",
      "    3.2703\n",
      "    3.1349\n",
      "    3.0444\n",
      "    3.1183\n",
      "    3.1010\n",
      "    3.1264\n",
      "    3.1707\n",
      "    3.1241\n",
      "    3.2816\n",
      "    3.2887\n",
      "    3.2909\n",
      "    3.4389\n",
      "    3.4036\n",
      "    3.4172\n",
      "    3.3798\n",
      "    3.4105\n",
      "    3.3101\n",
      "    3.3125\n",
      "    3.2694\n",
      "    3.2049\n",
      "    3.2421\n",
      "    3.2366\n",
      "    3.2020\n",
      "    3.2242\n",
      "    3.2301\n",
      "    3.2776\n",
      "    3.2629\n",
      "    3.2981\n",
      "    3.3639\n",
      "    3.3218\n",
      "    3.3345\n",
      "    3.3511\n",
      "    3.3866\n",
      "    3.4002\n",
      "    3.4066\n",
      "    3.3253\n",
      "    3.3200\n",
      "    3.3079\n",
      "    3.3266\n",
      "    3.2673\n",
      "    3.2296\n",
      "    3.2767\n",
      "    3.2920\n",
      "    3.3729\n",
      "    3.3903\n",
      "    3.4050\n",
      "    3.3975\n",
      "    3.3145\n",
      "    3.3689\n",
      "    3.2733\n",
      "    3.3153\n",
      "    3.3710\n",
      "    3.4474\n",
      "    3.5177\n",
      "    3.5151\n",
      "    3.5212\n",
      "    3.5362\n",
      "    3.5777\n",
      "    3.5817\n",
      "    3.5257\n",
      "    3.4929\n",
      "    3.4283\n",
      "    3.4313\n",
      "    3.4494\n",
      "    3.4721\n",
      "    3.4927\n",
      "    3.4811\n",
      "    3.4075\n",
      "    3.4675\n",
      "    3.4592\n",
      "    3.3651\n",
      "    3.3424\n",
      "    3.3638\n",
      "    3.4093\n",
      "    3.4080\n",
      "    3.5110\n",
      "    3.4235\n",
      "    3.4593\n",
      "    3.5311\n",
      "    3.5605\n",
      "    3.6089\n",
      "    3.5930\n",
      "    3.6354\n",
      "    3.6211\n",
      "    3.7534\n",
      "    3.7734\n",
      "    3.7883\n",
      "    3.8259\n",
      "    3.7800\n",
      "    3.7796\n",
      "    3.8310\n",
      "    3.8373\n",
      "    3.8453\n",
      "    3.8076\n",
      "    3.7706\n",
      "    3.8024\n",
      "    3.7234\n",
      "    3.8040\n",
      "    3.8333\n",
      "    3.8165\n",
      "    3.8272\n",
      "    3.8546\n",
      "    3.9062\n",
      "    3.9212\n",
      "    3.9031\n",
      "    3.8641\n",
      "    3.8928\n",
      "    3.9241\n",
      "    3.9093\n",
      "    3.8728\n",
      "    3.8931\n",
      "    3.8716\n",
      "    3.8787\n",
      "    3.8342\n",
      "    3.7746\n",
      "    3.7930\n",
      "    3.7637\n",
      "    3.7569\n",
      "    3.7555\n",
      "    3.8287\n",
      "    3.8435\n",
      "    3.7663\n",
      "    3.7609\n",
      "    3.8118\n",
      "    3.7663\n",
      "    3.7486\n",
      "    3.8089\n",
      "    3.8711\n",
      "    3.8986\n",
      "    3.9383\n",
      "    3.9272\n",
      "    3.8529\n",
      "    3.8549\n",
      "    3.8625\n",
      "    3.8869\n",
      "    3.8985\n",
      "    3.8941\n",
      "    3.8427\n",
      "    3.9133\n",
      "    3.8799\n",
      "    3.9049\n",
      "    4.0203\n",
      "    4.0610\n",
      "    4.0777\n",
      "    4.0743\n",
      "    4.0564\n",
      "    4.0962\n",
      "    4.0733\n",
      "    4.0912\n",
      "    4.1277\n",
      "    4.1089\n",
      "    4.0776\n",
      "    4.0366\n",
      "    4.0666\n",
      "    4.0181\n",
      "    4.0165\n",
      "    4.0491\n",
      "    4.0236\n",
      "    4.0590\n",
      "    4.1184\n",
      "    4.0711\n",
      "    4.0527\n",
      "    3.9670\n",
      "    3.9356\n",
      "    3.8901\n",
      "    3.8407\n",
      "    4.0121\n",
      "    4.0505\n",
      "    4.1489\n",
      "    4.2741\n",
      "    4.2712\n",
      "    4.2459\n",
      "    4.2759\n",
      "    4.2561\n",
      "    4.3020\n",
      "    4.3813\n",
      "    4.3651\n",
      "    4.3899\n",
      "    4.3826\n",
      "    4.3366\n",
      "    4.2854\n",
      "    4.2714\n",
      "    4.2481\n",
      "    4.2585\n",
      "    4.2252\n",
      "    4.2250\n",
      "    4.2056\n",
      "    4.2078\n",
      "    4.1893\n",
      "    4.1602\n",
      "    4.1387\n",
      "    4.1288\n",
      "    4.1114\n",
      "    4.0874\n",
      "    4.0309\n",
      "    4.0189\n",
      "    3.9912\n",
      "    4.0536\n",
      "    4.0415\n",
      "    4.0546\n",
      "    4.0678\n",
      "    4.0305\n",
      "    4.0353\n",
      "    3.9853\n",
      "    3.9809\n",
      "    4.0262\n",
      "    4.0501\n",
      "    4.0160\n",
      "    4.0695\n",
      "    4.0034\n",
      "    3.9711\n",
      "    4.0158\n",
      "\n"
     ]
    }
   ],
   "source": [
    " A = xlsread('./data/hs300.xlsx')"
   ]
  },
  {
   "cell_type": "code",
   "execution_count": 43,
   "metadata": {},
   "outputs": [
    {
     "name": "stdout",
     "output_type": "stream",
     "text": [
      "\n",
      "ans =\n",
      "\n",
      "   607     1\n",
      "\n"
     ]
    }
   ],
   "source": [
    "size(A)"
   ]
  },
  {
   "cell_type": "code",
   "execution_count": 10,
   "metadata": {},
   "outputs": [
    {
     "name": "stdout",
     "output_type": "stream",
     "text": [
      "\n",
      "ans =\n",
      "\n",
      "   607\n",
      "\n"
     ]
    }
   ],
   "source": [
    "length(A)"
   ]
  },
  {
   "cell_type": "markdown",
   "metadata": {},
   "source": [
    "## 如何删掉缺失值？"
   ]
  },
  {
   "cell_type": "code",
   "execution_count": 11,
   "metadata": {},
   "outputs": [
    {
     "name": "stdout",
     "output_type": "stream",
     "text": [
      "\n",
      "A =\n",
      "\n",
      "     1   NaN     3\n",
      "\n"
     ]
    }
   ],
   "source": [
    "A = [1 NaN 3]"
   ]
  },
  {
   "cell_type": "code",
   "execution_count": 12,
   "metadata": {},
   "outputs": [
    {
     "name": "stdout",
     "output_type": "stream",
     "text": [
      "\n",
      "A =\n",
      "\n",
      "     1     3\n",
      "\n"
     ]
    }
   ],
   "source": [
    "A( isnan(A) ) = []"
   ]
  },
  {
   "cell_type": "markdown",
   "metadata": {},
   "source": [
    "## 如何将字符串转变为命令执行？"
   ]
  },
  {
   "cell_type": "code",
   "execution_count": 13,
   "metadata": {},
   "outputs": [
    {
     "name": "stdout",
     "output_type": "stream",
     "text": [
      "\n",
      "string =\n",
      "\n",
      "    '3+5'\n",
      "\n"
     ]
    }
   ],
   "source": [
    "A = 3;\n",
    "B = 5;\n",
    "\n",
    "string = [num2str(A),'+',num2str(B)]"
   ]
  },
  {
   "cell_type": "code",
   "execution_count": 14,
   "metadata": {},
   "outputs": [
    {
     "name": "stdout",
     "output_type": "stream",
     "text": [
      "\n",
      "ans =\n",
      "\n",
      "     8\n",
      "\n"
     ]
    }
   ],
   "source": [
    "eval(string);"
   ]
  },
  {
   "cell_type": "markdown",
   "metadata": {},
   "source": [
    "## 如何向一个向量追加元素？"
   ]
  },
  {
   "cell_type": "code",
   "execution_count": 22,
   "metadata": {},
   "outputs": [
    {
     "name": "stdout",
     "output_type": "stream",
     "text": [
      "\n",
      "A =\n",
      "\n",
      "     1     2     3     4\n",
      "\n"
     ]
    }
   ],
   "source": [
    "A = [1 2 3 4]"
   ]
  },
  {
   "cell_type": "code",
   "execution_count": 23,
   "metadata": {},
   "outputs": [
    {
     "name": "stdout",
     "output_type": "stream",
     "text": [
      "\n",
      "ans =\n",
      "\n",
      "     1\n",
      "     2\n",
      "     3\n",
      "     4\n",
      "\n"
     ]
    }
   ],
   "source": [
    "A(:)"
   ]
  },
  {
   "cell_type": "code",
   "execution_count": 24,
   "metadata": {},
   "outputs": [
    {
     "name": "stdout",
     "output_type": "stream",
     "text": [
      "\n",
      "ans =\n",
      "\n",
      "     1     2     3\n",
      "\n"
     ]
    }
   ],
   "source": [
    "A(1:3)"
   ]
  },
  {
   "cell_type": "code",
   "execution_count": 25,
   "metadata": {
    "scrolled": true
   },
   "outputs": [
    {
     "name": "stdout",
     "output_type": "stream",
     "text": [
      "\n",
      "ans =\n",
      "\n",
      "     4\n",
      "\n"
     ]
    }
   ],
   "source": [
    "A(end)"
   ]
  },
  {
   "cell_type": "code",
   "execution_count": 26,
   "metadata": {},
   "outputs": [
    {
     "name": "stdout",
     "output_type": "stream",
     "text": [
      "\n",
      "A =\n",
      "\n",
      "     1     2     3     4     5\n",
      "\n"
     ]
    }
   ],
   "source": [
    "A(end+1) = 5"
   ]
  },
  {
   "cell_type": "markdown",
   "metadata": {},
   "source": [
    "## 如何移除矩阵的某行（列）数据？"
   ]
  },
  {
   "cell_type": "code",
   "execution_count": 27,
   "metadata": {},
   "outputs": [
    {
     "name": "stdout",
     "output_type": "stream",
     "text": [
      "\n",
      "A =\n",
      "\n",
      "    17    24     1     8    15\n",
      "    23     5     7    14    16\n",
      "     4     6    13    20    22\n",
      "    10    12    19    21     3\n",
      "    11    18    25     2     9\n",
      "\n"
     ]
    }
   ],
   "source": [
    "A = magic(5)"
   ]
  },
  {
   "cell_type": "code",
   "execution_count": 28,
   "metadata": {},
   "outputs": [],
   "source": [
    "B = A;\n",
    "C = A;"
   ]
  },
  {
   "cell_type": "code",
   "execution_count": 29,
   "metadata": {},
   "outputs": [
    {
     "name": "stdout",
     "output_type": "stream",
     "text": [
      "\n",
      "B =\n",
      "\n",
      "    17    24     1     8    15\n",
      "    23     5     7    14    16\n",
      "     4     6    13    20    22\n",
      "    10    12    19    21     3\n",
      "\n"
     ]
    }
   ],
   "source": [
    "B(5,:) = []"
   ]
  },
  {
   "cell_type": "code",
   "execution_count": 30,
   "metadata": {},
   "outputs": [
    {
     "name": "stdout",
     "output_type": "stream",
     "text": [
      "\n",
      "C =\n",
      "\n",
      "    17    24     1     8\n",
      "    23     5     7    14\n",
      "     4     6    13    20\n",
      "    10    12    19    21\n",
      "    11    18    25     2\n",
      "\n"
     ]
    }
   ],
   "source": [
    "C(:,5) = []"
   ]
  },
  {
   "cell_type": "markdown",
   "metadata": {},
   "source": [
    "## 如何比较两个矩阵是否相同呢？"
   ]
  },
  {
   "cell_type": "code",
   "execution_count": 31,
   "metadata": {},
   "outputs": [
    {
     "name": "stdout",
     "output_type": "stream",
     "text": [
      "\n",
      "A =\n",
      "\n",
      "    17    24     1     8    15\n",
      "    23     5     7    14    16\n",
      "     4     6    13    20    22\n",
      "    10    12    19    21     3\n",
      "    11    18    25     2     9\n",
      "\n"
     ]
    }
   ],
   "source": [
    "A = magic(5)\n",
    "B = A;"
   ]
  },
  {
   "cell_type": "code",
   "execution_count": 32,
   "metadata": {},
   "outputs": [
    {
     "name": "stdout",
     "output_type": "stream",
     "text": [
      "\n",
      "B =\n",
      "\n",
      "   888    24     1     8    15\n",
      "    23     5     7    14    16\n",
      "     4     6    13    20    22\n",
      "    10    12    19    21     3\n",
      "    11    18    25     2     9\n",
      "\n"
     ]
    }
   ],
   "source": [
    "B(1) = 888"
   ]
  },
  {
   "cell_type": "code",
   "execution_count": 33,
   "metadata": {},
   "outputs": [
    {
     "name": "stdout",
     "output_type": "stream",
     "text": [
      "\n",
      "whetherAequalsB =\n",
      "\n",
      "  logical\n",
      "\n",
      "   0\n",
      "\n"
     ]
    }
   ],
   "source": [
    "whetherAequalsB = all( all( A == B ) )"
   ]
  },
  {
   "cell_type": "markdown",
   "metadata": {},
   "source": [
    "## 如何去掉数据中的重复元素？"
   ]
  },
  {
   "cell_type": "code",
   "execution_count": 34,
   "metadata": {},
   "outputs": [
    {
     "name": "stdout",
     "output_type": "stream",
     "text": [
      "\n",
      "A =\n",
      "\n",
      "     1     1     2     2     3     4     5     6     6\n",
      "\n"
     ]
    }
   ],
   "source": [
    "A = [1 1 2 2 3 4 5 6 6]"
   ]
  },
  {
   "cell_type": "code",
   "execution_count": 35,
   "metadata": {},
   "outputs": [
    {
     "name": "stdout",
     "output_type": "stream",
     "text": [
      "\n",
      "A_unique =\n",
      "\n",
      "     1     2     3     4     5     6\n",
      "\n"
     ]
    }
   ],
   "source": [
    "A_unique = unique(A)"
   ]
  },
  {
   "cell_type": "markdown",
   "metadata": {},
   "source": [
    "## 如何求数据的极值？"
   ]
  },
  {
   "cell_type": "code",
   "execution_count": 36,
   "metadata": {},
   "outputs": [
    {
     "name": "stdout",
     "output_type": "stream",
     "text": [
      "\n",
      "A =\n",
      "\n",
      "     1     2     3     4     5     6     7     8     9    10\n",
      "\n"
     ]
    }
   ],
   "source": [
    "A = 1:10"
   ]
  },
  {
   "cell_type": "code",
   "execution_count": 37,
   "metadata": {},
   "outputs": [
    {
     "name": "stdout",
     "output_type": "stream",
     "text": [
      "\n",
      "A_min =\n",
      "\n",
      "     1\n",
      "\n"
     ]
    }
   ],
   "source": [
    "A_min = min(A)"
   ]
  },
  {
   "cell_type": "code",
   "execution_count": 38,
   "metadata": {},
   "outputs": [
    {
     "name": "stdout",
     "output_type": "stream",
     "text": [
      "\n",
      "A_max =\n",
      "\n",
      "    10\n",
      "\n"
     ]
    }
   ],
   "source": [
    "A_max = max(A)"
   ]
  },
  {
   "cell_type": "markdown",
   "metadata": {},
   "source": [
    "## 如何求矩阵最大(小)值并返回其行列号？"
   ]
  },
  {
   "cell_type": "code",
   "execution_count": 46,
   "metadata": {
    "scrolled": true
   },
   "outputs": [
    {
     "name": "stdout",
     "output_type": "stream",
     "text": [
      "\n",
      "ans =\n",
      "\n",
      "    50\n",
      "\n"
     ]
    }
   ],
   "source": [
    "max(A(:))"
   ]
  },
  {
   "cell_type": "code",
   "execution_count": 47,
   "metadata": {},
   "outputs": [],
   "source": [
    "? ind2sub\n",
    "\n",
    "% ind2sub - 线性索引的下标\n",
    "\n",
    "%     此 MATLAB 函数 返回矩阵 I 和 J，其中包含与矩阵 IND（大小为 siz 的矩阵）中的每个线性索引对应的对等行下标和列下标。siz 是一个包含\n",
    "%     ndim(A) 个元素（此示例为 2 个元素）的矢量，其中 siz(1) 为行数，siz(2) 为列数。\n",
    "\n",
    "%     [I,J] = ind2sub(siz,IND)\n",
    "%     [I1,I2,I3,...,In] = ind2sub(siz,IND)"
   ]
  },
  {
   "cell_type": "code",
   "execution_count": 49,
   "metadata": {},
   "outputs": [],
   "source": [
    "?max\n",
    "% 此 MATLAB 函数 返回 A 的最大元素。 如果 A 为矢量，则 max(A) 返回 A 的最大元素。 如果 A 为矩阵，则 max(A)\n",
    "%     是包含每一列的最大值的行矢量。 如果 A 是多维数组，则 max(A) 沿大小不等于 1 的第一个数组维度计算，并将这些元素视为矢量。此维度的大小将变为\n",
    "%     1，而所有其他维度的大小保持不变。如果 A 是第一个维度长度为零的空数组，则 max(A) 返回与 A 大小相同的空数组。"
   ]
  },
  {
   "cell_type": "code",
   "execution_count": 50,
   "metadata": {},
   "outputs": [
    {
     "name": "stdout",
     "output_type": "stream",
     "text": [
      "method 1\n",
      "\n",
      "m =\n",
      "\n",
      "     1\n",
      "\n",
      "\n",
      "n =\n",
      "\n",
      "     3\n",
      "\n"
     ]
    }
   ],
   "source": [
    "%  method 1\n",
    "disp('method 1');\n",
    "A=[0 17 50;-12 40 3;5 -10 2;30 4 3];\n",
    "A(:);\n",
    "[C,I]=max(A(:));\n",
    "[m,n]=ind2sub(size(A),I) %返回线性索引的下标"
   ]
  },
  {
   "cell_type": "code",
   "execution_count": 52,
   "metadata": {},
   "outputs": [
    {
     "name": "stdout",
     "output_type": "stream",
     "text": [
      "method 2\n",
      "\n",
      "M =\n",
      "\n",
      "    30    40    50\n",
      "\n",
      "\n",
      "I =\n",
      "\n",
      "     4     2     1\n",
      "\n",
      "\n",
      "N =\n",
      "\n",
      "    50\n",
      "\n",
      "\n",
      "J =\n",
      "\n",
      "     3\n",
      "\n",
      "\n",
      "ans =\n",
      "\n",
      "     1     3\n",
      "\n"
     ]
    }
   ],
   "source": [
    "%  方法2\n",
    "disp('method 2');\n",
    "A=[0 17 50;-12 40 3;5 -10 2;30 4 3];\n",
    "[M,I]=max(A)\n",
    "[N,J]=max(M)\n",
    "[I(J),J]"
   ]
  },
  {
   "cell_type": "code",
   "execution_count": 55,
   "metadata": {},
   "outputs": [
    {
     "name": "stdout",
     "output_type": "stream",
     "text": [
      "method 3\n",
      "\n",
      "N =\n",
      "\n",
      "    50\n",
      "\n",
      "\n",
      "r =\n",
      "\n",
      "     1\n",
      "\n",
      "\n",
      "c =\n",
      "\n",
      "     3\n",
      "\n"
     ]
    }
   ],
   "source": [
    "%  方法3\n",
    "disp('method 3');\n",
    "A=[0 17 50;-12 40 3;5 -10 2;30 4 3];\n",
    "N=max(max(A))    %或者N=max(A(:))\n",
    "[r,c]=find(N==A)                    % 查找索引"
   ]
  },
  {
   "cell_type": "code",
   "execution_count": 56,
   "metadata": {},
   "outputs": [
    {
     "name": "stdout",
     "output_type": "stream",
     "text": [
      "method 4\n",
      "\n",
      "Y_col =\n",
      "\n",
      "    30    40    50\n",
      "\n",
      "\n",
      "Ind_row =\n",
      "\n",
      "     4     2     1\n",
      "\n",
      "\n",
      "Y_row =\n",
      "\n",
      "    50    40     5    30\n",
      "\n",
      "\n",
      "Ind_col =\n",
      "\n",
      "     3     2     1     1\n",
      "\n"
     ]
    }
   ],
   "source": [
    "%  方法4\n",
    "disp('method 4');\n",
    "A=[0 17 50;-12 40 3;5 -10 2;30 4 3];\n",
    "[Y_col,Ind_row]=max(A)   %每列的最大值及行号\n",
    "[Y_row,Ind_col]=max(A')    %每行的最大值及列号"
   ]
  },
  {
   "cell_type": "markdown",
   "metadata": {},
   "source": [
    "## 如何从一组数据中随机抽取数据？"
   ]
  },
  {
   "cell_type": "code",
   "execution_count": 57,
   "metadata": {
    "scrolled": true
   },
   "outputs": [
    {
     "name": "stdout",
     "output_type": "stream",
     "text": [
      "\n",
      "out =\n",
      "\n",
      "     3    -3    -3    -3     1\n",
      "     3    -1     3    -1    -3\n",
      "    -3     1     3     3     3\n",
      "     3     3    -1     1     3\n",
      "     1     3     3     3     1\n",
      "\n"
     ]
    }
   ],
   "source": [
    "out = randsrc(5,5,[-3 -1 1 3; .2 .3 .3 .2])"
   ]
  },
  {
   "cell_type": "code",
   "execution_count": 58,
   "metadata": {},
   "outputs": [],
   "source": [
    "?randsrc\n",
    "% This MATLAB function generates a random scalar that is either -1 or 1, with\n",
    "%     equal probability."
   ]
  },
  {
   "cell_type": "markdown",
   "metadata": {},
   "source": [
    "## 如何将数据标准化？"
   ]
  },
  {
   "cell_type": "code",
   "execution_count": 59,
   "metadata": {},
   "outputs": [
    {
     "name": "stdout",
     "output_type": "stream",
     "text": [
      "\n",
      "x =\n",
      "\n",
      "     1     1     2     3     5     8    11\n",
      "\n",
      "\n",
      "Z =\n",
      "\n",
      "   -0.8967   -0.8967   -0.6352   -0.3736    0.1495    0.9341    1.7187\n",
      "\n",
      "\n",
      "Ztemp =\n",
      "\n",
      "   -0.8967   -0.8967   -0.6352   -0.3736    0.1495    0.9341    1.7187\n",
      "\n"
     ]
    }
   ],
   "source": [
    "x = [1 1 2 3 5 8 11]\n",
    "\n",
    "Z = zscore(x)\n",
    "\n",
    "Ztemp = ( x-mean(x) )./std(x)"
   ]
  },
  {
   "cell_type": "markdown",
   "metadata": {},
   "source": [
    "## 如何计算积分？"
   ]
  },
  {
   "cell_type": "code",
   "execution_count": 60,
   "metadata": {},
   "outputs": [
    {
     "name": "stdout",
     "output_type": "stream",
     "text": [
      " \n",
      "ans =\n",
      " \n",
      "-cos(x)\n",
      " \n",
      "\n",
      "ans =\n",
      "\n",
      "    2.0000\n",
      "\n"
     ]
    }
   ],
   "source": [
    "syms x\n",
    "int(sin(x)) % 符号运算不定积分\n",
    "\n",
    "integral(@sin, 0,pi) % 定积分"
   ]
  },
  {
   "cell_type": "markdown",
   "metadata": {},
   "source": [
    "## MATLAB如何进行复数计算？"
   ]
  },
  {
   "cell_type": "code",
   "execution_count": 61,
   "metadata": {},
   "outputs": [
    {
     "name": "stdout",
     "output_type": "stream",
     "text": [
      "\n",
      "Z =\n",
      "\n",
      "   3.0000 + 4.0000i\n",
      "\n",
      "\n",
      "Z_real =\n",
      "\n",
      "     3\n",
      "\n",
      "\n",
      "Z_imag =\n",
      "\n",
      "     4\n",
      "\n",
      "\n",
      "Z_abs =\n",
      "\n",
      "     5\n",
      "\n",
      "\n",
      "Z_angle =\n",
      "\n",
      "    0.9273\n",
      "\n",
      "\n",
      "ZC =\n",
      "\n",
      "   3.0000 - 4.0000i\n",
      "\n"
     ]
    }
   ],
   "source": [
    "Z = complex(3,4) \n",
    "\n",
    "%  实部\n",
    "Z_real = real( Z )\n",
    "%  虚部\n",
    "Z_imag = imag( Z )\n",
    "%  模\n",
    "Z_abs = abs( Z )\n",
    "%  辐角\n",
    "Z_angle = angle( Z )\n",
    "%  共轭\n",
    "ZC = conj( Z )"
   ]
  },
  {
   "cell_type": "markdown",
   "metadata": {},
   "source": [
    "## 如何生成对角矩阵？"
   ]
  },
  {
   "cell_type": "code",
   "execution_count": 62,
   "metadata": {},
   "outputs": [
    {
     "name": "stdout",
     "output_type": "stream",
     "text": [
      "\n",
      "X =\n",
      "\n",
      "     1     0     0     0     0     0\n",
      "     0     1     0     0     0     0\n",
      "     0     0     2     0     0     0\n",
      "     0     0     0     3     0     0\n",
      "     0     0     0     0     5     0\n",
      "     0     0     0     0     0     8\n",
      "\n",
      "\n",
      "x =\n",
      "\n",
      "    17    24     1     8    15\n",
      "    23     5     7    14    16\n",
      "     4     6    13    20    22\n",
      "    10    12    19    21     3\n",
      "    11    18    25     2     9\n",
      "\n",
      "\n",
      "x_diag =\n",
      "\n",
      "    17\n",
      "     5\n",
      "    13\n",
      "    21\n",
      "     9\n",
      "\n"
     ]
    }
   ],
   "source": [
    "X = diag([1 1 2 3 5 8])\n",
    "\n",
    "x = magic(5)\n",
    "\n",
    "x_diag = diag(x)"
   ]
  },
  {
   "cell_type": "markdown",
   "metadata": {},
   "source": [
    "## 如何构造上（下）三角矩阵？"
   ]
  },
  {
   "cell_type": "code",
   "execution_count": 66,
   "metadata": {},
   "outputs": [],
   "source": [
    "tril?\n",
    "% 返回 X 的下三角形部分"
   ]
  },
  {
   "cell_type": "code",
   "execution_count": 65,
   "metadata": {},
   "outputs": [
    {
     "name": "stdout",
     "output_type": "stream",
     "text": [
      "\n",
      "tl =\n",
      "\n",
      "     0     0     0     0\n",
      "     1     0     0     0\n",
      "     1     1     0     0\n",
      "     1     1     1     0\n",
      "\n",
      "\n",
      "tl =\n",
      "\n",
      "     1     1     0     0\n",
      "     1     1     1     0\n",
      "     1     1     1     1\n",
      "     1     1     1     1\n",
      "\n",
      "\n",
      "tu =\n",
      "\n",
      "     1     1     1     1\n",
      "     1     1     1     1\n",
      "     0     1     1     1\n",
      "     0     0     1     1\n",
      "\n",
      "\n",
      "tl =\n",
      "\n",
      "     1     1     1     1\n",
      "     0     1     1     1\n",
      "     0     0     1     1\n",
      "     0     0     0     1\n",
      "\n"
     ]
    }
   ],
   "source": [
    "tl = tril(ones(4,4),-1)\n",
    "tl = tril(ones(4,4),1)\n",
    "tu = triu(ones(4,4),-1)\n",
    "tl = triu(ones(4,4),0)"
   ]
  },
  {
   "cell_type": "markdown",
   "metadata": {},
   "source": [
    "## MATLAB常用的运算符号有哪些？"
   ]
  },
  {
   "cell_type": "code",
   "execution_count": 67,
   "metadata": {},
   "outputs": [
    {
     "name": "stdout",
     "output_type": "stream",
     "text": [
      "\n",
      "a =\n",
      "\n",
      "     8     1     6\n",
      "     3     5     7\n",
      "     4     9     2\n",
      "\n",
      "\n",
      "b =\n",
      "\n",
      "     1     1     1\n",
      "     1     2     3\n",
      "     1     3     6\n",
      "\n",
      "a/b\n",
      "\n",
      "ans =\n",
      "\n",
      "    27   -31    12\n",
      "     1     2     0\n",
      "   -13    29   -12\n",
      "\n",
      "a*inv(b)\n",
      "\n",
      "ans =\n",
      "\n",
      "    27   -31    12\n",
      "     1     2     0\n",
      "   -13    29   -12\n",
      "\n",
      "a\\b\n",
      "\n",
      "ans =\n",
      "\n",
      "    0.0667    0.0500    0.0972\n",
      "    0.0667    0.3000    0.6389\n",
      "    0.0667    0.0500   -0.0694\n",
      "\n",
      "inv(a)*b\n",
      "\n",
      "ans =\n",
      "\n",
      "    0.0667    0.0500    0.0972\n",
      "    0.0667    0.3000    0.6389\n",
      "    0.0667    0.0500   -0.0694\n",
      "\n",
      "\n",
      "ans =\n",
      "\n",
      "     0     0     0\n",
      "     0     0     0\n",
      "     0     0     0\n",
      "\n",
      "a^3\n",
      "\n",
      "ans =\n",
      "\n",
      "        1197        1029        1149\n",
      "        1077        1125        1173\n",
      "        1101        1221        1053\n",
      "\n",
      "a*a*a\n",
      "\n",
      "ans =\n",
      "\n",
      "        1197        1029        1149\n",
      "        1077        1125        1173\n",
      "        1101        1221        1053\n",
      "\n",
      "a.*b\n",
      "\n",
      "ans =\n",
      "\n",
      "     8     1     6\n",
      "     3    10    21\n",
      "     4    27    12\n",
      "\n",
      "a.\\b\n",
      "\n",
      "ans =\n",
      "\n",
      "    0.1250    1.0000    0.1667\n",
      "    0.3333    0.4000    0.4286\n",
      "    0.2500    0.3333    3.0000\n",
      "\n",
      "a./b\n",
      "\n",
      "ans =\n",
      "\n",
      "    8.0000    1.0000    6.0000\n",
      "    3.0000    2.5000    2.3333\n",
      "    4.0000    3.0000    0.3333\n",
      "\n",
      "a.^b\n",
      "\n",
      "ans =\n",
      "\n",
      "     8     1     6\n",
      "     3    25   343\n",
      "     4   729    64\n",
      "\n"
     ]
    }
   ],
   "source": [
    "a=magic(3)\n",
    "b=pascal(3)\n",
    "\n",
    "disp('a/b')\n",
    "a/b\n",
    "disp('a*inv(b)')\n",
    "a*inv(b)\n",
    "\n",
    "disp('a\\b')\n",
    "a\\b\n",
    "disp('inv(a)*b')\n",
    "inv(a)*b\n",
    "\n",
    "a/b-(b'\\a')'\n",
    "\n",
    "disp('a^3')\n",
    "a^3\n",
    "disp('a*a*a')\n",
    "a*a*a\n",
    "\n",
    "disp('a.*b')\n",
    "a.*b\n",
    "disp('a.\\b')\n",
    "a.\\b\n",
    "disp('a./b')\n",
    "a./b\n",
    "disp('a.^b')\n",
    "a.^b"
   ]
  },
  {
   "cell_type": "markdown",
   "metadata": {},
   "source": [
    "## 如何求矩阵各行（列）的均值？"
   ]
  },
  {
   "cell_type": "code",
   "execution_count": 68,
   "metadata": {},
   "outputs": [
    {
     "name": "stdout",
     "output_type": "stream",
     "text": [
      "\n",
      "a =\n",
      "\n",
      "    16     2     3    13\n",
      "     5    11    10     8\n",
      "     9     7     6    12\n",
      "     4    14    15     1\n",
      "\n",
      "\n",
      "a_rowmean =\n",
      "\n",
      "    8.5000\n",
      "    8.5000\n",
      "    8.5000\n",
      "    8.5000\n",
      "\n",
      "\n",
      "a_colmean =\n",
      "\n",
      "    8.5000    8.5000    8.5000    8.5000\n",
      "\n"
     ]
    }
   ],
   "source": [
    "a = magic(4)\n",
    "%  各行均值\n",
    "a_rowmean = mean(a , 2)\n",
    "%  各列均值\n",
    "a_colmean = mean(a , 1)"
   ]
  },
  {
   "cell_type": "markdown",
   "metadata": {},
   "source": [
    "## 如何计算组合数或得到所有组合？"
   ]
  },
  {
   "cell_type": "code",
   "execution_count": 69,
   "metadata": {},
   "outputs": [
    {
     "name": "stdout",
     "output_type": "stream",
     "text": [
      "\n",
      "combnum =\n",
      "\n",
      "     6\n",
      "\n",
      "\n",
      "comb =\n",
      "\n",
      "     1     2\n",
      "     1     3\n",
      "     1     4\n",
      "     2     3\n",
      "     2     4\n",
      "     3     4\n",
      "\n",
      "\n",
      "fac =\n",
      "\n",
      "    24\n",
      "\n"
     ]
    }
   ],
   "source": [
    "combnum = nchoosek(4, 2) %返回二项式系数，定义为 n!/((n–k)! k!)\n",
    "\n",
    "comb = nchoosek([1 2 3 4], 2) % 枚举\n",
    "\n",
    "fac = factorial(4)"
   ]
  },
  {
   "cell_type": "markdown",
   "metadata": {},
   "source": [
    "##  如何在MATLAB里面求（偏）导数？"
   ]
  },
  {
   "cell_type": "code",
   "execution_count": 70,
   "metadata": {},
   "outputs": [
    {
     "name": "stdout",
     "output_type": "stream",
     "text": [
      " \n",
      "dy_dx =\n",
      " \n",
      "cos(x)/x - sin(x)/x^2\n",
      " \n"
     ]
    }
   ],
   "source": [
    "syms x\n",
    "dy_dx = diff( sin(x)/x )"
   ]
  },
  {
   "cell_type": "markdown",
   "metadata": {},
   "source": [
    "## 如何求一元方程的根？"
   ]
  },
  {
   "cell_type": "code",
   "execution_count": 71,
   "metadata": {},
   "outputs": [
    {
     "name": "stdout",
     "output_type": "stream",
     "text": [
      " \n",
      "s1 =\n",
      " \n",
      " -1\n",
      "  1\n",
      " \n",
      " \n",
      "s2 =\n",
      " \n",
      " - 3^(1/2) - 2\n",
      "   3^(1/2) - 2\n",
      " \n",
      " \n",
      "s3 =\n",
      " \n",
      "  (1 - 1i)^(1/2)\n",
      "  (1 + 1i)^(1/2)\n",
      " -(1 - 1i)^(1/2)\n",
      " -(1 + 1i)^(1/2)\n",
      " \n"
     ]
    }
   ],
   "source": [
    "syms x\n",
    "\n",
    "s1 = solve( x^2-1 )\n",
    "\n",
    "s2 = solve(x^2 + 4*x + 1 == 0)\n",
    "\n",
    "s3 = solve(x^4 + 1 == 2*x^2 - 1)"
   ]
  },
  {
   "cell_type": "markdown",
   "metadata": {},
   "source": [
    "## 如何在字符串中选取特定位置的字符？"
   ]
  },
  {
   "cell_type": "code",
   "execution_count": 72,
   "metadata": {},
   "outputs": [
    {
     "name": "stdout",
     "output_type": "stream",
     "text": [
      "\n",
      "str =\n",
      "\n",
      "    'abcdef'\n",
      "\n",
      "\n",
      "substr1 =\n",
      "\n",
      "    'bd'\n",
      "\n",
      "\n",
      "substr2 =\n",
      "\n",
      "    'abc'\n",
      "\n"
     ]
    }
   ],
   "source": [
    "str = 'abcdef'   \n",
    "\n",
    "substr1 = str( [2 4] )\n",
    "\n",
    "substr2 = str( 1:3 )"
   ]
  },
  {
   "cell_type": "markdown",
   "metadata": {},
   "source": [
    "## 如何返回字符个数？"
   ]
  },
  {
   "cell_type": "code",
   "execution_count": 74,
   "metadata": {},
   "outputs": [
    {
     "name": "stdout",
     "output_type": "stream",
     "text": [
      "\n",
      "strlen =\n",
      "\n",
      "     6\n",
      "\n"
     ]
    }
   ],
   "source": [
    "str = 'abcdef';\n",
    "strlen = length(str)"
   ]
  },
  {
   "cell_type": "markdown",
   "metadata": {},
   "source": [
    "##  日期可以做算术运算么？"
   ]
  },
  {
   "cell_type": "code",
   "execution_count": 75,
   "metadata": {},
   "outputs": [
    {
     "name": "stdout",
     "output_type": "stream",
     "text": [
      "\n",
      "n1 =\n",
      "\n",
      "      735447\n",
      "\n",
      "\n",
      "n2 =\n",
      "\n",
      "      735454\n",
      "\n",
      "\n",
      "n3 =\n",
      "\n",
      "      735449\n",
      "\n",
      "\n",
      "d1 =\n",
      "\n",
      "    '01/08/2013'\n",
      "\n",
      "\n",
      "d2 =\n",
      "\n",
      "    '08/08/2013'\n",
      "\n",
      "\n",
      "d3 =\n",
      "\n",
      "    '03/08/2013'\n",
      "\n"
     ]
    }
   ],
   "source": [
    "n1 = datenum( '01/08/2013', 'dd/mm/yyyy' )\n",
    "\n",
    "n2 = datenum( '08/08/2013', 'dd/mm/yyyy' )\n",
    "\n",
    "n3 = n1 + 2\n",
    "\n",
    "d1 = datestr( n1, 'dd/mm/yyyy' )\n",
    "\n",
    "d2 = datestr( n2, 'dd/mm/yyyy' )\n",
    "\n",
    "d3 = datestr( n3, 'dd/mm/yyyy' )"
   ]
  },
  {
   "cell_type": "markdown",
   "metadata": {},
   "source": [
    "## 如何将日期表示为“07-Aug- 2013”这种格式？"
   ]
  },
  {
   "cell_type": "code",
   "execution_count": 76,
   "metadata": {},
   "outputs": [
    {
     "name": "stdout",
     "output_type": "stream",
     "text": [
      "\n",
      "d =\n",
      "\n",
      "    '07-Aug-2013'\n",
      "\n"
     ]
    }
   ],
   "source": [
    "d = datestr( datenum( '07/08/2013', 'dd/mm/yyyy' ), 'dd-mmm-yyyy' )"
   ]
  },
  {
   "cell_type": "markdown",
   "metadata": {},
   "source": [
    "## 如何在同一画面画出多张图？"
   ]
  },
  {
   "cell_type": "code",
   "execution_count": 82,
   "metadata": {},
   "outputs": [
    {
     "data": {
      "image/png": "[encoded data removed]",
      "text/plain": [
       "<IPython.core.display.Image object>"
      ]
     },
     "metadata": {},
     "output_type": "display_data"
    }
   ],
   "source": [
    "figure;\n",
    "income = [3.2,4.1,5.0,5.6];\n",
    "outgo = [2.5,4.0,3.35,4.9];\n",
    "\n",
    "subplot(4,1,1); \n",
    "plot(income);\n",
    "title('Income');\n",
    "\n",
    "subplot(4,1,2); \n",
    "plot(outgo);\n",
    "title('Outgo');\n",
    "\n",
    "subplot(4,2,1); \n",
    "plot(income);\n",
    "title('Income');\n",
    "\n",
    "subplot(4,2,2); \n",
    "plot(outgo);\n",
    "title('Outgo');"
   ]
  },
  {
   "cell_type": "markdown",
   "metadata": {},
   "source": [
    "## 怎么做饼图？"
   ]
  },
  {
   "cell_type": "code",
   "execution_count": 85,
   "metadata": {},
   "outputs": [
    {
     "data": {
      "image/png": "[encoded data removed]",
      "text/plain": [
       "<IPython.core.display.Image object>"
      ]
     },
     "metadata": {},
     "output_type": "display_data"
    }
   ],
   "source": [
    "x = [1 3 0.5 2.5 2];\n",
    "explode = [0 1 0 0 0];\n",
    "\n",
    "figure;\n",
    "subplot(2,1,1); \n",
    "pie(x,explode);\n",
    "title('二维饼图');\n",
    "colormap jet\n",
    "\n",
    "subplot(2,1,2); \n",
    "pie3(x,explode);\n",
    "title('三维饼图');\n",
    "colormap hsv"
   ]
  },
  {
   "cell_type": "markdown",
   "metadata": {},
   "source": [
    "## MATLAB如何做双坐标？"
   ]
  },
  {
   "cell_type": "code",
   "execution_count": 88,
   "metadata": {},
   "outputs": [
    {
     "data": {
      "image/png": "[encoded data removed]",
      "text/plain": [
       "<IPython.core.display.Image object>"
      ]
     },
     "metadata": {},
     "output_type": "display_data"
    }
   ],
   "source": [
    "figure\n",
    "x = 0:0.01:20;\n",
    "y1 = 200*exp(-0.05*x).*sin(x);\n",
    "y2 = 0.8*exp(-0.5*x).*sin(10*x);\n",
    "[AX,H1,H2] = plotyy(x,y1,x,y2,'plot'); %双坐标\n",
    "\n",
    "set(get(AX(1),'Ylabel'),'String','Slow Decay') \n",
    "set(get(AX(2),'Ylabel'),'String','Fast Decay') \n",
    "xlabel('Time (\\musec)') \n",
    "title('Multiple Decay Rates') \n",
    "set(H1,'LineStyle','--')\n",
    "set(H2,'LineStyle',':')"
   ]
  },
  {
   "cell_type": "markdown",
   "metadata": {},
   "source": [
    "## 如果绘图时标题太长，如何换行？"
   ]
  },
  {
   "cell_type": "code",
   "execution_count": 90,
   "metadata": {},
   "outputs": [
    {
     "data": {
      "image/png": "[encoded data removed]",
      "text/plain": [
       "<IPython.core.display.Image object>"
      ]
     },
     "metadata": {},
     "output_type": "display_data"
    }
   ],
   "source": [
    "figure\n",
    "subplot(2,1,1);\n",
    "ezplot( @sin );\n",
    "title('First line+Second line');\n",
    "\n",
    "subplot(2,1,2); \n",
    "ezplot( @sin );\n",
    "str = {'First line';'Second line'};\n",
    "title( str );"
   ]
  },
  {
   "cell_type": "markdown",
   "metadata": {},
   "source": [
    "## 如何用不同的颜色来代表数据？"
   ]
  },
  {
   "cell_type": "code",
   "execution_count": 91,
   "metadata": {},
   "outputs": [
    {
     "data": {
      "image/png": "[encoded data removed]",
      "text/plain": [
       "<IPython.core.display.Image object>"
      ]
     },
     "metadata": {},
     "output_type": "display_data"
    }
   ],
   "source": [
    "figure;\n",
    "x = -pi:.1:pi;\n",
    "y = sin(x);\n",
    "z = cos(x);\n",
    "RGB = [1 0 0];\n",
    "plot( y, 'Color', RGB )\n",
    "hold on;\n",
    "RGB = [0 0.5 0.5];\n",
    "plot( z, 'Color', RGB )\n",
    "legend('sinx', 'cosx');"
   ]
  },
  {
   "cell_type": "markdown",
   "metadata": {},
   "source": [
    "## 如何调整所绘图形的大小？"
   ]
  },
  {
   "cell_type": "code",
   "execution_count": 92,
   "metadata": {},
   "outputs": [
    {
     "data": {
      "image/png": "[encoded data removed]",
      "text/plain": [
       "<IPython.core.display.Image object>"
      ]
     },
     "metadata": {},
     "output_type": "display_data"
    }
   ],
   "source": [
    "left = 100;\n",
    "bottom = 100;\n",
    "width = 500;\n",
    "height = 500;\n",
    "figure( 'Position', [left, bottom, width, height]);\n",
    "ezplot(@sin)"
   ]
  },
  {
   "cell_type": "markdown",
   "metadata": {},
   "source": [
    "## 如何绘制椭圆或双曲线？"
   ]
  },
  {
   "cell_type": "code",
   "execution_count": 93,
   "metadata": {},
   "outputs": [
    {
     "data": {
      "image/png": "[encoded data removed]",
      "text/plain": [
       "<IPython.core.display.Image object>"
      ]
     },
     "metadata": {},
     "output_type": "display_data"
    }
   ],
   "source": [
    "t = 0:0.01:2*pi;\n",
    "a = 1;\n",
    "b = 2;\n",
    "x = a*sin(t);\n",
    "y = b*cos(t);\n",
    "figure;\n",
    "plot(x,y);\n",
    "xlim( [-pi/2, pi/2] );\n",
    "ylim( [-3, 3] );"
   ]
  },
  {
   "cell_type": "markdown",
   "metadata": {},
   "source": [
    "##  在MATLAB中如何绘制K线图？"
   ]
  },
  {
   "cell_type": "code",
   "execution_count": 94,
   "metadata": {},
   "outputs": [
    {
     "data": {
      "image/png": "[encoded data removed]",
      "text/plain": [
       "<IPython.core.display.Image object>"
      ]
     },
     "metadata": {},
     "output_type": "display_data"
    }
   ],
   "source": [
    "load disney;\n",
    "candle(dis_HIGH(end-20:end), dis_LOW(end-20:end), dis_CLOSE(end-20:end),...\n",
    "        dis_OPEN(end-20:end), 'b');"
   ]
  },
  {
   "cell_type": "markdown",
   "metadata": {},
   "source": [
    "##  如何做线性回归模型？"
   ]
  },
  {
   "cell_type": "code",
   "execution_count": 96,
   "metadata": {},
   "outputs": [
    {
     "name": "stdout",
     "output_type": "stream",
     "text": [
      "\n",
      "a1 =\n",
      "\n",
      "    0.1203\n",
      "    0.3284\n",
      "   -0.1312\n",
      "\n",
      "\n",
      "a2 =\n",
      "\n",
      "    0.1203\n",
      "    0.3284\n",
      "   -0.1312\n",
      "\n"
     ]
    }
   ],
   "source": [
    "x1 = [.2 .5 .6 .8 1.0 1.1]'; \n",
    "x2 = [.1 .3 .4 .9 1.1 1.4]'; \n",
    "\n",
    "A = [ones(size(x1)) x1 x2];\n",
    "b = [.17 .26 .28 .23 .27 .34]';\n",
    "\n",
    "a1 = A\\b\n",
    "\n",
    "a2 = lscov(A, b) "
   ]
  },
  {
   "cell_type": "markdown",
   "metadata": {},
   "source": [
    "## 如何做主成分分析？"
   ]
  },
  {
   "cell_type": "code",
   "execution_count": 97,
   "metadata": {},
   "outputs": [],
   "source": [
    "%  载入数据\n",
    "load cities;"
   ]
  },
  {
   "cell_type": "code",
   "execution_count": 98,
   "metadata": {
    "scrolled": true
   },
   "outputs": [
    {
     "name": "stdout",
     "output_type": "stream",
     "text": [
      "  Name                   Size              Bytes  Class                                   Attributes\n",
      "\n",
      "  A                      6x3                 144  double                                            \n",
      "  AX                     1x2                   0  matlab.graphics.axis.Axes                         \n",
      "  A_max                  1x1                   8  double                                            \n",
      "  A_min                  1x1                   8  double                                            \n",
      "  A_unique               1x6                  48  double                                            \n",
      "  B                      5x5                 200  double                                            \n",
      "  C                      1x1                   8  double                                            \n",
      "  H1                     1x1                   0  matlab.graphics.chart.primitive.Line              \n",
      "  H2                     1x1                   0  matlab.graphics.chart.primitive.Line              \n",
      "  I                      1x3                  24  double                                            \n",
      "  Ind_col                1x4                  32  double                                            \n",
      "  Ind_row                1x3                  24  double                                            \n",
      "  J                      1x1                   8  double                                            \n",
      "  M                      1x3                  24  double                                            \n",
      "  N                      1x1                   8  double                                            \n",
      "  RGB                    1x3                  24  double                                            \n",
      "  X                      6x6                 288  double                                            \n",
      "  Y_col                  1x3                  24  double                                            \n",
      "  Y_row                  1x4                  32  double                                            \n",
      "  Z                      1x1                  16  double                                  complex   \n",
      "  ZC                     1x1                  16  double                                  complex   \n",
      "  Z_abs                  1x1                   8  double                                            \n",
      "  Z_angle                1x1                   8  double                                            \n",
      "  Z_imag                 1x1                   8  double                                            \n",
      "  Z_real                 1x1                   8  double                                            \n",
      "  Ztemp                  1x7                  56  double                                            \n",
      "  a                      1x1                   8  double                                            \n",
      "  a1                     3x1                  24  double                                            \n",
      "  a2                     3x1                  24  double                                            \n",
      "  a_colmean              1x4                  32  double                                            \n",
      "  a_rowmean              4x1                  32  double                                            \n",
      "  ans                    3x3                  72  double                                            \n",
      "  b                      6x1                  48  double                                            \n",
      "  bottom                 1x1                   8  double                                            \n",
      "  c                      1x1                   8  double                                            \n",
      "  categories             9x14                252  char                                              \n",
      "  comb                   6x2                  96  double                                            \n",
      "  combnum                1x1                   8  double                                            \n",
      "  d                      1x11                 22  char                                              \n",
      "  d1                     1x10                 20  char                                              \n",
      "  d2                     1x10                 20  char                                              \n",
      "  d3                     1x10                 20  char                                              \n",
      "  dis                  782x5               39972  fints                                             \n",
      "  dis_CLOSE            782x1                6256  double                                            \n",
      "  dis_HIGH             782x1                6256  double                                            \n",
      "  dis_LOW              782x1                6256  double                                            \n",
      "  dis_OPEN             782x1                6256  double                                            \n",
      "  dis_VOLUME           782x1                6256  double                                            \n",
      "  dis_nv               782x4               33606  fints                                             \n",
      "  dy_dx                  1x1                   8  sym                                               \n",
      "  explode                1x5                  40  double                                            \n",
      "  fac                    1x1                   8  double                                            \n",
      "  headers                1x3                 368  cell                                              \n",
      "  height                 1x1                   8  double                                            \n",
      "  income                 1x4                  32  double                                            \n",
      "  left                   1x1                   8  double                                            \n",
      "  m                      1x1                   8  double                                            \n",
      "  n                      1x1                   8  double                                            \n",
      "  n1                     1x1                   8  double                                            \n",
      "  n2                     1x1                   8  double                                            \n",
      "  n3                     1x1                   8  double                                            \n",
      "  names                329x43              28294  char                                              \n",
      "  out                    5x5                 200  double                                            \n",
      "  outgo                  1x4                  32  double                                            \n",
      "  q_dis                 13x4                2858  fints                                             \n",
      "  r                      1x1                   8  double                                            \n",
      "  ratings              329x9               23688  double                                            \n",
      "  s1                     2x1                   8  sym                                               \n",
      "  s2                     2x1                   8  sym                                               \n",
      "  s3                     4x1                   8  sym                                               \n",
      "  str                    2x1                 266  cell                                              \n",
      "  string                 1x3                   6  char                                              \n",
      "  strlen                 1x1                   8  double                                            \n",
      "  substr1                1x2                   4  char                                              \n",
      "  substr2                1x3                   6  char                                              \n",
      "  t                      1x629              5032  double                                            \n",
      "  tl                     4x4                 128  double                                            \n",
      "  tu                     4x4                 128  double                                            \n",
      "  values                 3x3                1074  cell                                              \n",
      "  whetherAequalsB        1x1                   1  logical                                           \n",
      "  width                  1x1                   8  double                                            \n",
      "  x                      1x629              5032  double                                            \n",
      "  x1                     6x1                  48  double                                            \n",
      "  x2                     6x1                  48  double                                            \n",
      "  x_diag                 5x1                  40  double                                            \n",
      "  y                      1x629              5032  double                                            \n",
      "  y1                     1x2001            16008  double                                            \n",
      "  y2                     1x2001            16008  double                                            \n",
      "  z                      1x63                504  double                                            \n",
      "\n"
     ]
    }
   ],
   "source": [
    "whos"
   ]
  },
  {
   "cell_type": "code",
   "execution_count": 99,
   "metadata": {},
   "outputs": [
    {
     "data": {
      "image/png": "[encoded data removed]",
      "text/plain": [
       "<IPython.core.display.Image object>"
      ]
     },
     "metadata": {},
     "output_type": "display_data"
    }
   ],
   "source": [
    " % ratings数据的box图\n",
    "figure;\n",
    "boxplot(ratings,'orientation','horizontal','labels',categories);\n",
    "grid on;"
   ]
  },
  {
   "cell_type": "code",
   "execution_count": 100,
   "metadata": {},
   "outputs": [],
   "source": [
    "% 标准化预处理\n",
    "stdr = std(ratings);\n",
    "sr = ratings./repmat(stdr,329,1);"
   ]
  },
  {
   "cell_type": "code",
   "execution_count": 102,
   "metadata": {},
   "outputs": [],
   "source": [
    "% 使用princomp函数进行主成分分析 \n",
    "[coef,score,latent,t2] = pca(sr);"
   ]
  },
  {
   "cell_type": "code",
   "execution_count": null,
   "metadata": {},
   "outputs": [],
   "source": [
    "% % 输出参数讲解\n",
    "\n",
    "%  coef:9*9矩阵\n",
    "%  主成分系数:即原始数据线性组合生成主成分数据中每一维数据前面的系数.\n",
    "%  coef的每一列代表一个新生成的主成分的系数.\n",
    "%  比如你想取出前三个主成分的系数, 如下可实现: pca3 = coef(:,1:3);\n",
    "\n",
    "%  score:329*9矩阵\n",
    "%  字面理解:主成分得分\n",
    "%  即原始数据在新生成的主成分空间里的坐标值.\n",
    "\n",
    "%  latent:9*1矩阵\n",
    "%  一个列向量,由sr的协方差矩阵的特征值组成.\n",
    "%  即 latent = sort(eig(cov(sr)),'descend');\n",
    "\n",
    "%  t2:329*1\n",
    "%  一中多元统计距离,记录的是每一个观察量到中心的距离"
   ]
  },
  {
   "cell_type": "code",
   "execution_count": 103,
   "metadata": {},
   "outputs": [
    {
     "name": "stdout",
     "output_type": "stream",
     "text": [
      "\n",
      "ans =\n",
      "\n",
      "    3.4083\n",
      "    1.2140\n",
      "    1.1415\n",
      "    0.9209\n",
      "    0.7533\n",
      "    0.6306\n",
      "    0.4930\n",
      "    0.3180\n",
      "    0.1204\n",
      "\n"
     ]
    }
   ],
   "source": [
    "% 测试如下:\n",
    " sort(eig(cov(sr)),'descend')"
   ]
  },
  {
   "cell_type": "code",
   "execution_count": 104,
   "metadata": {},
   "outputs": [
    {
     "name": "stdout",
     "output_type": "stream",
     "text": [
      "\n",
      "latent =\n",
      "\n",
      "    3.4083\n",
      "    1.2140\n",
      "    1.1415\n",
      "    0.9209\n",
      "    0.7533\n",
      "    0.6306\n",
      "    0.4930\n",
      "    0.3180\n",
      "    0.1204\n",
      "\n"
     ]
    }
   ],
   "source": [
    "latent "
   ]
  },
  {
   "cell_type": "code",
   "execution_count": 107,
   "metadata": {
    "scrolled": true
   },
   "outputs": [
    {
     "name": "stdout",
     "output_type": "stream",
     "text": [
      "\n",
      "ans =\n",
      "\n",
      "  Columns 1 through 7\n",
      "\n",
      "    8.4050    5.1931    3.2688    9.4194    6.1923    3.3970    5.9722\n",
      "\n",
      "  Columns 8 through 14\n",
      "\n",
      "    3.2165    4.6678    4.7782   15.9169   22.7917    6.0554    5.0675\n",
      "\n",
      "  Columns 15 through 21\n",
      "\n",
      "    9.3016    6.4867    4.6551    7.5485    5.8749   21.3506   15.4678\n",
      "\n",
      "  Columns 22 through 28\n",
      "\n",
      "    7.5842    7.2807    9.8120    5.4753   13.8910    3.9544   10.3084\n",
      "\n",
      "  Columns 29 through 35\n",
      "\n",
      "    4.6434    4.3817    7.7022   12.1016    6.2015   17.1568    5.8187\n",
      "\n",
      "  Columns 36 through 42\n",
      "\n",
      "    4.0374    3.9107    3.7409   13.6746    5.9257    3.9576    9.5036\n",
      "\n",
      "  Columns 43 through 49\n",
      "\n",
      "   19.3857   15.3045    4.9486    3.6559   10.9315    9.2905    7.5176\n",
      "\n",
      "  Columns 50 through 56\n",
      "\n",
      "    4.3963    8.6635    9.2144    3.3742    8.2396   18.2210    2.5718\n",
      "\n",
      "  Columns 57 through 63\n",
      "\n",
      "    6.2036    3.2787   10.0627    6.7764    6.4695    7.3733    8.7526\n",
      "\n",
      "  Columns 64 through 70\n",
      "\n",
      "    3.7125   28.4414    5.8854    4.2125    4.7278    9.1893    5.3473\n",
      "\n",
      "  Columns 71 through 77\n",
      "\n",
      "    8.4160    6.5389    1.9970    1.0339    5.9735    9.4352    8.2521\n",
      "\n",
      "  Columns 78 through 84\n",
      "\n",
      "   14.1901    5.5051    2.1477    4.7987   12.5616    2.6440    9.8533\n",
      "\n",
      "  Columns 85 through 91\n",
      "\n",
      "    3.5267   21.9723    8.6202    4.5942   20.0276    7.7056    8.0723\n",
      "\n",
      "  Columns 92 through 98\n",
      "\n",
      "    5.9291    3.7715    3.1692   10.5073    6.5737   18.4413    0.8668\n",
      "\n",
      "  Columns 99 through 105\n",
      "\n",
      "    3.6885   18.4527    4.7730    4.8337    3.4311   12.8737    6.4457\n",
      "\n",
      "  Columns 106 through 112\n",
      "\n",
      "    7.6189   17.5380    6.3608   16.0462   12.9052    3.1807    4.5533\n",
      "\n",
      "  Columns 113 through 119\n",
      "\n",
      "    3.3028    5.2508    7.3893    7.6789   11.5643    9.2051    6.0430\n",
      "\n",
      "  Columns 120 through 126\n",
      "\n",
      "    4.9502   17.9012    1.1608    3.1052    6.1279    3.9330    2.5732\n",
      "\n",
      "  Columns 127 through 133\n",
      "\n",
      "    5.8250    2.4898    1.2997    7.1015   16.2208    4.0960   21.9777\n",
      "\n",
      "  Columns 134 through 140\n",
      "\n",
      "   20.7003    9.8675    5.1812    8.4002    5.1887   12.6910    4.2193\n",
      "\n",
      "  Columns 141 through 147\n",
      "\n",
      "    4.2511    5.8166    5.4961    2.6868    7.8225   10.0145    5.1399\n",
      "\n",
      "  Columns 148 through 154\n",
      "\n",
      "    2.5978    5.2618    2.3644    1.5051    6.2622    4.6164    1.2967\n",
      "\n",
      "  Columns 155 through 161\n",
      "\n",
      "    7.1407    7.8835    7.8438    6.8523    4.9478   23.7287    3.3204\n",
      "\n",
      "  Columns 162 through 168\n",
      "\n",
      "    7.9728   11.8705    3.8934    2.1205    3.7069    4.9149   18.8238\n",
      "\n",
      "  Columns 169 through 175\n",
      "\n",
      "    3.2262    3.8072    4.8659    2.3348    3.8775    1.6649    6.0104\n",
      "\n",
      "  Columns 176 through 182\n",
      "\n",
      "    7.5979    4.7478    5.2085   31.5158    4.6285    5.0718    5.4171\n",
      "\n",
      "  Columns 183 through 189\n",
      "\n",
      "    4.0542    1.9097    6.1587    8.0976    4.6227    8.9299    6.9855\n",
      "\n",
      "  Columns 190 through 196\n",
      "\n",
      "   13.7649    6.9323   30.2851    9.1303    6.0169   28.3369    8.1231\n",
      "\n",
      "  Columns 197 through 203\n",
      "\n",
      "   16.8231    9.9264    6.6252   12.3392    2.5911    3.0851    3.3747\n",
      "\n",
      "  Columns 204 through 210\n",
      "\n",
      "   11.5724    6.5165    3.0322   36.5092    2.8712    4.9832    7.7450\n",
      "\n",
      "  Columns 211 through 217\n",
      "\n",
      "    7.6581    9.5504  192.7707   19.7507    4.2195    6.3587   31.9813\n",
      "\n",
      "  Columns 218 through 224\n",
      "\n",
      "   16.9449   10.6864   14.5934    8.9904    5.0092    8.7476    3.5360\n",
      "\n",
      "  Columns 225 through 231\n",
      "\n",
      "    9.6405    5.6289   19.3705    4.6579    6.1787   17.9265    3.0291\n",
      "\n",
      "  Columns 232 through 238\n",
      "\n",
      "    6.0796    5.0955   23.4899    1.5592    7.9965   11.0808    4.3196\n",
      "\n",
      "  Columns 239 through 245\n",
      "\n",
      "    7.4281   11.1498   13.0352    4.8012    6.5664   14.9932    2.7630\n",
      "\n",
      "  Columns 246 through 252\n",
      "\n",
      "    3.8289   18.7773    4.2561    7.0950   11.7938   18.7287    6.3255\n",
      "\n",
      "  Columns 253 through 259\n",
      "\n",
      "    8.7164    2.6983   42.6685    8.4206    5.2681    3.2434    5.4803\n",
      "\n",
      "  Columns 260 through 266\n",
      "\n",
      "   12.5876    4.4514    8.6575    9.9388    6.0783   14.7982   12.4945\n",
      "\n",
      "  Columns 267 through 273\n",
      "\n",
      "    8.3940    4.5958   12.6770   23.6271   18.2271   19.2955   14.4732\n",
      "\n",
      "  Columns 274 through 280\n",
      "\n",
      "    6.5591    7.1230    8.0058    6.2854   21.8646    6.7662    3.3346\n",
      "\n",
      "  Columns 281 through 287\n",
      "\n",
      "    4.7698    3.5092    2.7814   11.3317    3.4143    4.8072    6.8650\n",
      "\n",
      "  Columns 288 through 294\n",
      "\n",
      "   13.6549    1.9452   60.7676    6.0058    6.9357    7.9906   11.2564\n",
      "\n",
      "  Columns 295 through 301\n",
      "\n",
      "   17.8258    5.1192    7.7819    4.8421    4.0833    2.0704    2.8210\n",
      "\n",
      "  Columns 302 through 308\n",
      "\n",
      "    5.5389    4.0414    5.0334    4.3862    8.9677    5.8307    8.6152\n",
      "\n",
      "  Columns 309 through 315\n",
      "\n",
      "    7.8261    8.0029    1.6675    6.9954    3.8309   25.8230    5.7727\n",
      "\n",
      "  Columns 316 through 322\n",
      "\n",
      "    6.3425    7.2345   20.3509    5.6681    2.2621    4.2916    6.5698\n",
      "\n",
      "  Columns 323 through 329\n",
      "\n",
      "    2.0222    7.3544    6.3744    2.6034    4.5262    3.4202    5.9697\n",
      "\n"
     ]
    }
   ],
   "source": [
    " t2'"
   ]
  },
  {
   "cell_type": "code",
   "execution_count": 108,
   "metadata": {},
   "outputs": [
    {
     "data": {
      "image/png": "[encoded data removed]",
      "text/plain": [
       "<IPython.core.display.Image object>"
      ]
     },
     "metadata": {},
     "output_type": "display_data"
    },
    {
     "data": {
      "image/png": "[encoded data removed]",
      "text/plain": [
       "<IPython.core.display.Image object>"
      ]
     },
     "metadata": {},
     "output_type": "display_data"
    }
   ],
   "source": [
    "% 如何提取主成分,达到降维的目的:通过latent,可以知道提取前几个主成分就可以了.\n",
    "figure;\n",
    "percent_explained = 100*latent/sum(latent);\n",
    "pareto(percent_explained);\n",
    "xlabel('Principal Component');\n",
    "ylabel('Variance Explained (%)');\n",
    "\n",
    "%  图中的线表示的累积变量解释程度.\n",
    "%  通过看图可以看出前七个主成分可以表示出原始数据的90%.\n",
    "%  所以在90%的意义下只需提取前七个主成分即可,进而达到主成分提取的目的.\n",
    "\n",
    " % 结果的可视化\n",
    "figure;\n",
    "biplot(coef(:,1:2), 'scores',score(:,1:2),... \n",
    "'varlabels',categories);\n",
    "axis([-.26 1 -.51 .51]);\n",
    "%  横坐标和纵坐标分别表示第一主成分和第二主成分\n",
    "%  红色的点代表329个观察量,其坐标就是score\n",
    "%  蓝色的向量的方向和长度表示了每个原始变量对新的主成分的贡献,其坐标就是coef."
   ]
  },
  {
   "cell_type": "markdown",
   "metadata": {},
   "source": [
    "## 多项式回归应该用什么函数？"
   ]
  },
  {
   "cell_type": "code",
   "execution_count": 109,
   "metadata": {},
   "outputs": [
    {
     "name": "stdout",
     "output_type": "stream",
     "text": [
      "\n",
      "p =\n",
      "\n",
      "   -0.0931   -0.0020    0.8557    0.0041\n",
      "\n"
     ]
    },
    {
     "data": {
      "image/png": "[encoded data removed]",
      "text/plain": [
       "<IPython.core.display.Image object>"
      ]
     },
     "metadata": {},
     "output_type": "display_data"
    }
   ],
   "source": [
    "x = (-pi: 0.1: pi)';\n",
    "y = sin(x);\n",
    "\n",
    "p = polyfit(x,y,3)\n",
    "\n",
    "f = polyval(p,x);\n",
    "\n",
    "figure;\n",
    "plot(x,y,'-', x,f,'ro');\n",
    "legend('原始数据', '多项式拟合数据');"
   ]
  },
  {
   "cell_type": "markdown",
   "metadata": {},
   "source": [
    "## 如何做聚类分析？"
   ]
  },
  {
   "cell_type": "code",
   "execution_count": 110,
   "metadata": {},
   "outputs": [
    {
     "name": "stdout",
     "output_type": "stream",
     "text": [
      "Replicate 1, 6 iterations, total sum of distances = 297.248.\n",
      "Replicate 2, 5 iterations, total sum of distances = 297.248.\n",
      "Replicate 3, 6 iterations, total sum of distances = 297.281.\n",
      "Replicate 4, 5 iterations, total sum of distances = 297.248.\n",
      "Replicate 5, 5 iterations, total sum of distances = 297.281.\n",
      "Best total sum of distances = 297.248\n"
     ]
    },
    {
     "data": {
      "image/png": "[encoded data removed]",
      "text/plain": [
       "<IPython.core.display.Image object>"
      ]
     },
     "metadata": {},
     "output_type": "display_data"
    }
   ],
   "source": [
    "% kmeans\n",
    "figure;\n",
    "X = [randn(100,2)+ones(100,2);...\n",
    "     randn(100,2)-ones(100,2)];\n",
    "opts = statset('Display','final');\n",
    "\n",
    "[idx,ctrs] = kmeans(X,2,...\n",
    "                    'Distance','city',...\n",
    "                    'Replicates',5,...\n",
    "                    'Options',opts);\n",
    "\n",
    "plot(X(idx==1,1),X(idx==1,2),'r.','MarkerSize',12)\n",
    "hold on\n",
    "plot(X(idx==2,1),X(idx==2,2),'b.','MarkerSize',12)\n",
    "plot(ctrs(:,1),ctrs(:,2),'kx',...\n",
    "     'MarkerSize',12,'LineWidth',2)\n",
    "plot(ctrs(:,1),ctrs(:,2),'ko',...\n",
    "     'MarkerSize',12,'LineWidth',2)\n",
    "legend('Cluster 1','Cluster 2','Centroids',...\n",
    "       'Location','NW')"
   ]
  },
  {
   "cell_type": "code",
   "execution_count": 111,
   "metadata": {},
   "outputs": [
    {
     "name": "stdout",
     "output_type": "stream",
     "text": [
      "Iteration count = 1, obj. fcn = 9.253200\n",
      "Iteration count = 2, obj. fcn = 7.144076\n",
      "Iteration count = 3, obj. fcn = 6.989264\n",
      "Iteration count = 4, obj. fcn = 6.709129\n",
      "Iteration count = 5, obj. fcn = 6.448165\n",
      "Iteration count = 6, obj. fcn = 6.324923\n",
      "Iteration count = 7, obj. fcn = 6.276538\n",
      "Iteration count = 8, obj. fcn = 6.250282\n",
      "Iteration count = 9, obj. fcn = 6.232632\n",
      "Iteration count = 10, obj. fcn = 6.220226\n",
      "Iteration count = 11, obj. fcn = 6.211494\n",
      "Iteration count = 12, obj. fcn = 6.205377\n",
      "Iteration count = 13, obj. fcn = 6.201107\n",
      "Iteration count = 14, obj. fcn = 6.198134\n",
      "Iteration count = 15, obj. fcn = 6.196067\n",
      "Iteration count = 16, obj. fcn = 6.194631\n",
      "Iteration count = 17, obj. fcn = 6.193633\n",
      "Iteration count = 18, obj. fcn = 6.192940\n",
      "Iteration count = 19, obj. fcn = 6.192458\n",
      "Iteration count = 20, obj. fcn = 6.192123\n",
      "Iteration count = 21, obj. fcn = 6.191889\n",
      "Iteration count = 22, obj. fcn = 6.191727\n",
      "Iteration count = 23, obj. fcn = 6.191614\n",
      "Iteration count = 24, obj. fcn = 6.191536\n",
      "Iteration count = 25, obj. fcn = 6.191481\n",
      "Iteration count = 26, obj. fcn = 6.191443\n",
      "Iteration count = 27, obj. fcn = 6.191416\n",
      "Iteration count = 28, obj. fcn = 6.191397\n",
      "Iteration count = 29, obj. fcn = 6.191384\n",
      "Iteration count = 30, obj. fcn = 6.191375\n"
     ]
    },
    {
     "data": {
      "image/png": "[encoded data removed]",
      "text/plain": [
       "<IPython.core.display.Image object>"
      ]
     },
     "metadata": {},
     "output_type": "display_data"
    }
   ],
   "source": [
    "%  FCM\n",
    "data = rand(100,2); \n",
    "options = [2;100;1e-5;1]; \n",
    "[center,U,obj_fcn] = fcm(data,2,options); \n",
    "figure; \n",
    "plot(data(:,1), data(:,2),'o'); \n",
    "title('DemoTest of FCM Cluster'); \n",
    "xlabel('1st Dimension'); \n",
    "ylabel('2nd Dimension'); \n",
    "grid on; \n",
    "hold on; \n",
    "maxU = max(U); \n",
    "index1 = find(U(1,:) == maxU); \n",
    "index2 = find(U(2,:) == maxU); \n",
    "line(data(index1,1),data(index1,2),'marker','*','color','g'); \n",
    "line(data(index2,1),data(index2,2),'marker','*','color','r'); \n",
    "plot([center([1 2],1)],[center([1 2],2)],'*','color','k') \n",
    "hold off;"
   ]
  },
  {
   "cell_type": "markdown",
   "metadata": {},
   "source": [
    "## 如何利用MATLAB获取免费的金融数据？"
   ]
  },
  {
   "cell_type": "code",
   "execution_count": 112,
   "metadata": {
    "scrolled": true
   },
   "outputs": [
    {
     "name": "stderr",
     "output_type": "stream",
     "text": [
      "\u001b[0;31mError using eval\n",
      "Undefined function or variable 'yahoo'.\n",
      "\n",
      "\u001b[0m"
     ]
    }
   ],
   "source": [
    "conn = yahoo;\n",
    "test = fetch(conn,{'600409.SS'},{'Close'},'08/01/13','08/08/13','d');\n",
    "\n",
    "d = fints(test(:,1), test(:,2), 'Close', 'D', '600409.SS_Close')\n",
    "\n",
    "close(yahoo)"
   ]
  },
  {
   "cell_type": "code",
   "execution_count": 121,
   "metadata": {},
   "outputs": [
    {
     "name": "stdout",
     "output_type": "stream",
     "text": [
      "\n",
      "ans =\n",
      "\n",
      "    '/Applications/MATLAB_R2017b.app'\n",
      "\n"
     ]
    }
   ],
   "source": [
    "matlabroot"
   ]
  },
  {
   "cell_type": "code",
   "execution_count": 123,
   "metadata": {},
   "outputs": [
    {
     "name": "stdout",
     "output_type": "stream",
     "text": [
      "\n",
      "/Users/mac/MyProjects/MyCode\n",
      "\n"
     ]
    }
   ],
   "source": [
    "cd %MATLAB_ROOT%\\toolbox\\datafeed\\datafeed\\@yahoo"
   ]
  },
  {
   "cell_type": "markdown",
   "metadata": {},
   "source": [
    "##  在MATLAB中如何处理地图数据？"
   ]
  },
  {
   "cell_type": "code",
   "execution_count": 113,
   "metadata": {},
   "outputs": [
    {
     "data": {
      "image/png": "[encoded data removed]",
      "text/plain": [
       "<IPython.core.display.Image object>"
      ]
     },
     "metadata": {},
     "output_type": "display_data"
    }
   ],
   "source": [
    "%  世界地图\n",
    "figure;\n",
    "ax = worldmap('World');\n",
    " setm(ax, 'Origin', [0 180 0])\n",
    "land = shaperead('landareas', 'UseGeoCoords', true);\n",
    "geoshow(ax, land, 'FaceColor', [0.5 0.7 0.5])\n",
    "lakes = shaperead('worldlakes', 'UseGeoCoords', true);\n",
    "geoshow(lakes, 'FaceColor', 'blue')\n",
    "rivers = shaperead('worldrivers', 'UseGeoCoords', true);\n",
    "geoshow(rivers, 'Color', 'blue')\n",
    "cities = shaperead('worldcities', 'UseGeoCoords', true);\n",
    "geoshow(cities, 'Marker', '.', 'Color', 'red')\n",
    "title('世界地图','FontSize',14,'FontWeight','Bold');"
   ]
  },
  {
   "cell_type": "code",
   "execution_count": 115,
   "metadata": {},
   "outputs": [
    {
     "name": "stderr",
     "output_type": "stream",
     "text": [
      "\u001b[0;31mError using openShapeFiles>checkSHP (line 64)\n",
      "Unable to open both bou2_4p.shp and bou2_4p.SHP.\n",
      "\n",
      "Error in openShapeFiles (line 18)\n",
      "[basename, ext] = checkSHP(basename,shapeExtensionProvided);\n",
      "\n",
      "Error in shaperead (line 208)\n",
      "    = openShapeFiles(filename,'shaperead');\n",
      "\n",
      "\u001b[0m"
     ]
    },
    {
     "data": {
      "image/png": "[encoded data removed]",
      "text/plain": [
       "<IPython.core.display.Image object>"
      ]
     },
     "metadata": {},
     "output_type": "display_data"
    }
   ],
   "source": [
    "%  中国地图\n",
    "figure;\n",
    "worldmap([15 55],[70 140])%纬度经度范围显示\n",
    "% 显示矢量数据\n",
    "sh1 = shaperead('bou2_4p', 'UseGeoCoords', true);\n",
    "geoshow(sh1, 'FaceColor', [0.5 1.0 0.5]);\n",
    "\n",
    "setm(gca,'MLineLocation',5)%设置经度间隔为5\n",
    "setm(gca,'PLineLocation',10)%设置经度间隔为10\n",
    "setm(gca,'MLabelLocation',5)%设置经度标签为每隔5度\n",
    "setm(gca,'PLabelLocation',10)%设置纬度标签为每隔10度\n",
    "title('中国地图','FontSize',14,'FontWeight','Bold');"
   ]
  },
  {
   "cell_type": "code",
   "execution_count": 116,
   "metadata": {},
   "outputs": [
    {
     "data": {
      "image/png": "[encoded data removed]",
      "text/plain": [
       "<IPython.core.display.Image object>"
      ]
     },
     "metadata": {},
     "output_type": "display_data"
    }
   ],
   "source": [
    "%  美国地图\n",
    "figure;\n",
    "ax = worldmap('USA');\n",
    "load coast\n",
    "geoshow(ax, lat, long,...\n",
    "'DisplayType', 'polygon', 'FaceColor', [.45 .60 .30])\n",
    "states = shaperead('usastatelo', 'UseGeoCoords', true);\n",
    "faceColors = makesymbolspec('Polygon',...\n",
    "    {'INDEX', [1 numel(states)], 'FaceColor', ...\n",
    "    polcmap(numel(states))}); % NOTE - colors are random\n",
    "geoshow(ax, states, 'DisplayType', 'polygon', ...\n",
    "  'SymbolSpec', faceColors)\n",
    "title('美国地图','FontSize',14,'FontWeight','Bold');"
   ]
  },
  {
   "cell_type": "markdown",
   "metadata": {},
   "source": [
    "## 如何计算一个资金流的最大回撤？"
   ]
  },
  {
   "cell_type": "code",
   "execution_count": 118,
   "metadata": {},
   "outputs": [
    {
     "name": "stderr",
     "output_type": "stream",
     "text": [
      "\u001b[0;31mError using eval\n",
      "Undefined function or variable 'RetraceRatio'.\n",
      "\n",
      "\u001b[0m"
     ]
    }
   ],
   "source": [
    "load FundMarketCash\n",
    "fund = TestData(:,1);\n",
    "\n",
    "[DrawDownPercent,DrawDownAbs] = RetraceRatio(fund);\n",
    "\n",
    "figure;\n",
    "subplot(3,1,1:2);\n",
    "plot(fund);\n",
    "xlim([1 length(fund)]);\n",
    "title('Fund', 'FontWeight', 'Bold');\n",
    "\n",
    "subplot(313);\n",
    "plot( DrawDownPercent );\n",
    "xlim([1 length(fund)]);\n",
    "title('最大回撤比例', 'FontWeight', 'Bold');\n",
    "\n",
    "% Test \n",
    "\n",
    "% Record Time\n",
    "toc;"
   ]
  },
  {
   "cell_type": "code",
   "execution_count": null,
   "metadata": {},
   "outputs": [],
   "source": []
  }
 ],
 "metadata": {
  "kernelspec": {
   "display_name": "Matlab",
   "language": "matlab",
   "name": "matlab"
  },
  "language_info": {
   "codemirror_mode": "octave",
   "file_extension": ".m",
   "help_links": [
    {
     "text": "MetaKernel Magics",
     "url": "https://metakernel.readthedocs.io/en/latest/source/README.html"
    }
   ],
   "mimetype": "text/x-octave",
   "name": "matlab",
   "version": "0.16.7"
  },
  "toc": {
   "base_numbering": 1,
   "nav_menu": {},
   "number_sections": true,
   "sideBar": true,
   "skip_h1_title": false,
   "title_cell": "Table of Contents",
   "title_sidebar": "Contents",
   "toc_cell": false,
   "toc_position": {
    "height": "calc(100% - 180px)",
    "left": "10px",
    "top": "150px",
    "width": "218px"
   },
   "toc_section_display": true,
   "toc_window_display": false
  },
  "varInspector": {
   "cols": {
    "lenName": 16,
    "lenType": 16,
    "lenVar": 40
   },
   "kernels_config": {
    "python": {
     "delete_cmd_postfix": "",
     "delete_cmd_prefix": "del ",
     "library": "var_list.py",
     "varRefreshCmd": "print(var_dic_list())"
    },
    "r": {
     "delete_cmd_postfix": ") ",
     "delete_cmd_prefix": "rm(",
     "library": "var_list.r",
     "varRefreshCmd": "cat(var_dic_list()) "
    }
   },
   "types_to_exclude": [
    "module",
    "function",
    "builtin_function_or_method",
    "instance",
    "_Feature"
   ],
   "window_display": false
  }
 },
 "nbformat": 4,
 "nbformat_minor": 4
}
