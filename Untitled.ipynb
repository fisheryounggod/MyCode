{
 "cells": [
  {
   "cell_type": "code",
   "execution_count": null,
   "metadata": {},
   "outputs": [],
   "source": [
    "<center>**杨雄飞**</center> \n",
    "\n",
    "<img align=\"right\" src=\"https://gitee.com/yang_xiongfei/pics/raw/master/uPic/15982392289890.jpg\"/>\n",
    "\n",
    "\n",
    "\n",
    "<center>19182199431 | yxiongfei5718@qq.com | 甘肃天水</center> \n",
    "\n",
    "<center>微信：yangxiongfei2020 | 男 </center> \n",
    "\n",
    "<center>求职意向：XXX 实习</center> \n",
    "\n",
    "## 教育经历 \n",
    "**************************************************************\n",
    "\n",
    "*重庆邮电大学 *\n",
    "\n",
    "<p align=\"left\">制药工程 本科 生物信息学院 重庆</p> <p align=\"right\">2011 年 09 月-2015 年 07 月</p>\n",
    "\n",
    "\n",
    "\n",
    "\n",
    "\n",
    "本专业课程之余，自学感兴趣的其他内容，包括历史、社会学和在此时开始有了考经济学方面研究生的想法。通过社团活动认识一些志同道合的朋友。参加一些社会实践，使我很早认识到象牙塔外别有天地\n",
    "\n",
    "西南财经大学 2019 年 09 月\n",
    "\n",
    "金融学硕士中国金融研究中心成都\n",
    "\n",
    "19 年成功跨专业考研进入西财中国金融研究中心，获得二等奖学金只有保研学生\n",
    "\n",
    "来到西财后，遇到了很多优秀的师和同学，跟着他们总是能学到新东西，也迫使我每天都在弥补知识和认知上的不足。对级微观、中级宏观、中级计量、金融经济学、投资学、公司金融等专业课程的系统学习，理论方面也有明显的提升，对很多题有了更多的思考和新的理解\n",
    "\n",
    "和本科课堂最大不同是更多的小组展示。公司金融的估值作业和投资学对经典金融理论的实证作业，使我对实务方面有了更多的了解\n",
    "\n",
    "工作经历\n",
    "\n",
    "重庆新思学教育 2016 年 05 月-2018 年 05 月\n",
    "\n",
    "初高中物理教师理科重庆\n",
    "\n",
    "作任务为初高中物理的教学，后期主要负责初中物理的教研和内部教材的编写。与家长积极沟通，根据不同学员的个性施教，有自己的教学理念和讲课风格\n",
    "\n",
    "工作以外经历\n",
    "\n",
    "合伙办辅导机 2015 年 08 月-2016 年 02 月\n",
    "\n",
    "教学管理教学部\n",
    "\n",
    "同学一起回到老家创试自己感兴趣的教师职业，打算享受传道授业的乐趣。由于条件比较艰苦，加上我们的社会验和工作经验都不足，中间走了很多弯路，最终没有搞出名堂。但对我们每个人都有重要意义。这是我们走出学校后的第有时光靠激情是不够的，还需要获得理性的指引。这也是最终促使我读研的重要因素之\n",
    "\n",
    "・技能：Stata Eviews Python (简单应用) 、Ofie（日常应用）、擅长资料搜索\n",
    "\n",
    "证书/执照：计算机二级、注册会计师（正在备考语言：英语（CET-6\n",
    "\n",
    "兴趣爱好：书法、篮球\n"
   ]
  },
  {
   "cell_type": "code",
   "execution_count": null,
   "metadata": {},
   "outputs": [],
   "source": []
  }
 ],
 "metadata": {
  "kernelspec": {
   "display_name": "Python 3",
   "language": "python",
   "name": "python3"
  },
  "language_info": {
   "codemirror_mode": {
    "name": "ipython",
    "version": 3
   },
   "file_extension": ".py",
   "mimetype": "text/x-python",
   "name": "python",
   "nbconvert_exporter": "python",
   "pygments_lexer": "ipython3",
   "version": "3.8.5"
  },
  "toc": {
   "base_numbering": 1,
   "nav_menu": {},
   "number_sections": true,
   "sideBar": true,
   "skip_h1_title": false,
   "title_cell": "Table of Contents",
   "title_sidebar": "Contents",
   "toc_cell": false,
   "toc_position": {},
   "toc_section_display": true,
   "toc_window_display": false
  },
  "varInspector": {
   "cols": {
    "lenName": 16,
    "lenType": 16,
    "lenVar": 40
   },
   "kernels_config": {
    "python": {
     "delete_cmd_postfix": "",
     "delete_cmd_prefix": "del ",
     "library": "var_list.py",
     "varRefreshCmd": "print(var_dic_list())"
    },
    "r": {
     "delete_cmd_postfix": ") ",
     "delete_cmd_prefix": "rm(",
     "library": "var_list.r",
     "varRefreshCmd": "cat(var_dic_list()) "
    }
   },
   "types_to_exclude": [
    "module",
    "function",
    "builtin_function_or_method",
    "instance",
    "_Feature"
   ],
   "window_display": false
  }
 },
 "nbformat": 4,
 "nbformat_minor": 4
}
