{
 "cells": [
  {
   "cell_type": "markdown",
   "metadata": {},
   "source": [
    "# Python 技巧"
   ]
  },
  {
   "cell_type": "markdown",
   "metadata": {},
   "source": [
    "> A Python Trick either teaches an aspect of Python with a simple illustration, or it serves as a motivating example, enabling you to dig deeper and develop an intuitive understanding. <p align=\"right\"> Dan Bader </p>"
   ]
  },
  {
   "cell_type": "markdown",
   "metadata": {},
   "source": [
    "## 下划线占位符"
   ]
  },
  {
   "cell_type": "markdown",
   "metadata": {},
   "source": [
    "用下划线占位符（underscore placeholder）来将大数每三位数分段"
   ]
  },
  {
   "cell_type": "code",
   "execution_count": 1,
   "metadata": {},
   "outputs": [
    {
     "name": "stdout",
     "output_type": "stream",
     "text": [
      "1542870000000\n"
     ]
    }
   ],
   "source": [
    "apple_mktcap = 1084000000000\n",
    "facebook_mktcap = 458870000000\n",
    "total = apple_mktcap + facebook_mktcap\n",
    "print(total)"
   ]
  },
  {
   "cell_type": "code",
   "execution_count": 3,
   "metadata": {},
   "outputs": [
    {
     "name": "stdout",
     "output_type": "stream",
     "text": [
      "Total is 1,542,870,000,000 USD\n"
     ]
    }
   ],
   "source": [
    "apple_mktcap = 1_084_000_000_000\n",
    "facebook_mktcap = 458_870_000_000\n",
    "total = apple_mktcap + facebook_mktcap\n",
    "\n",
    "print(f'Total is {total:,} USD')"
   ]
  },
  {
   "cell_type": "markdown",
   "metadata": {},
   "source": [
    "## 枚举"
   ]
  },
  {
   "cell_type": "markdown",
   "metadata": {},
   "source": [
    "“枚举函数 enumerate()”解决痛点：不需要显性创建索引。"
   ]
  },
  {
   "cell_type": "code",
   "execution_count": 4,
   "metadata": {},
   "outputs": [],
   "source": [
    "languages = ['Python', 'R', 'Matlab', 'Julia']"
   ]
  },
  {
   "cell_type": "code",
   "execution_count": 5,
   "metadata": {},
   "outputs": [
    {
     "name": "stdout",
     "output_type": "stream",
     "text": [
      "Python\n",
      "R\n",
      "Matlab\n",
      "Julia\n"
     ]
    }
   ],
   "source": [
    "for i in languages:\n",
    "    print(i)"
   ]
  },
  {
   "cell_type": "code",
   "execution_count": 6,
   "metadata": {},
   "outputs": [
    {
     "name": "stdout",
     "output_type": "stream",
     "text": [
      "0 Python\n",
      "1 R\n",
      "2 Matlab\n",
      "3 Julia\n"
     ]
    }
   ],
   "source": [
    "index = 0\n",
    "for lang in languages:\n",
    "    print(index, lang)\n",
    "    index +=1"
   ]
  },
  {
   "cell_type": "code",
   "execution_count": 27,
   "metadata": {
    "scrolled": true
   },
   "outputs": [
    {
     "name": "stdout",
     "output_type": "stream",
     "text": [
      "1 Python\n",
      "2 R\n",
      "3 Matlab\n",
      "4 Julia\n"
     ]
    }
   ],
   "source": [
    "for i,j in dict(zip(list(range(1,len(languages)+1)),languages)).items():\n",
    "    print(i,j)"
   ]
  },
  {
   "cell_type": "code",
   "execution_count": 31,
   "metadata": {},
   "outputs": [
    {
     "name": "stdout",
     "output_type": "stream",
     "text": [
      "1 Python\n",
      "2 R\n",
      "3 Matlab\n",
      "4 Julia\n"
     ]
    }
   ],
   "source": [
    "for i,j in zip(list(range(1,len(languages)+1)),languages):\n",
    "    print(i,j)"
   ]
  },
  {
   "cell_type": "code",
   "execution_count": 9,
   "metadata": {
    "scrolled": true
   },
   "outputs": [
    {
     "name": "stdout",
     "output_type": "stream",
     "text": [
      "0 Python\n",
      "1 R\n",
      "2 Matlab\n",
      "3 Julia\n"
     ]
    }
   ],
   "source": [
    "for index, lang in enumerate(languages):\n",
    "    print(index, lang)"
   ]
  },
  {
   "cell_type": "code",
   "execution_count": 10,
   "metadata": {},
   "outputs": [
    {
     "name": "stdout",
     "output_type": "stream",
     "text": [
      "1 Python\n",
      "2 R\n",
      "3 Matlab\n",
      "4 Julia\n"
     ]
    }
   ],
   "source": [
    "# 改进\n",
    "for index, lang in enumerate(languages, start=1):\n",
    "    print(index, lang)"
   ]
  },
  {
   "cell_type": "markdown",
   "metadata": {},
   "source": [
    "## 打包"
   ]
  },
  {
   "cell_type": "markdown",
   "metadata": {},
   "source": [
    "“打包函数 zip()”解决痛点：能同时遍历多个迭代器。"
   ]
  },
  {
   "cell_type": "code",
   "execution_count": 28,
   "metadata": {},
   "outputs": [],
   "source": [
    "names = ['小罗伯特唐尼', '托比·马奎尔', '克里斯蒂安·贝尔', '杰森·莫玛']\n",
    "actors = ['钢铁侠', '蜘蛛侠', '蝙蝠侠', '水行侠']"
   ]
  },
  {
   "cell_type": "code",
   "execution_count": 29,
   "metadata": {},
   "outputs": [
    {
     "name": "stdout",
     "output_type": "stream",
     "text": [
      "小罗伯特唐尼是钢铁侠\n",
      "托比·马奎尔是蜘蛛侠\n",
      "克里斯蒂安·贝尔是蝙蝠侠\n",
      "杰森·莫玛是水行侠\n"
     ]
    }
   ],
   "source": [
    "for index, name in enumerate(names):\n",
    "    print(f'{name}是{actors[index]}')"
   ]
  },
  {
   "cell_type": "code",
   "execution_count": 30,
   "metadata": {},
   "outputs": [
    {
     "name": "stdout",
     "output_type": "stream",
     "text": [
      "小罗伯特唐尼是钢铁侠\n",
      "托比·马奎尔是蜘蛛侠\n",
      "克里斯蒂安·贝尔是蝙蝠侠\n",
      "杰森·莫玛是水行侠\n"
     ]
    }
   ],
   "source": [
    "for name, actor in zip(names, actors):\n",
    "    print(f'{name}是{actor}')"
   ]
  },
  {
   "cell_type": "code",
   "execution_count": 32,
   "metadata": {},
   "outputs": [],
   "source": [
    "universes = ['漫威', '漫威', 'DC', 'DC']"
   ]
  },
  {
   "cell_type": "code",
   "execution_count": 33,
   "metadata": {
    "scrolled": true
   },
   "outputs": [
    {
     "name": "stdout",
     "output_type": "stream",
     "text": [
      "小罗伯特唐尼是来自漫威的钢铁侠\n",
      "托比·马奎尔是来自漫威的蜘蛛侠\n",
      "克里斯蒂安·贝尔是来自DC的蝙蝠侠\n",
      "杰森·莫玛是来自DC的水行侠\n"
     ]
    }
   ],
   "source": [
    "# 升级版\n",
    "for name, actor, universe in zip(names, actors, universes):\n",
    "    print(f'{name}是来自{universe}的{actor}')"
   ]
  },
  {
   "cell_type": "code",
   "execution_count": 34,
   "metadata": {
    "scrolled": true
   },
   "outputs": [
    {
     "name": "stdout",
     "output_type": "stream",
     "text": [
      "('小罗伯特唐尼', '钢铁侠', '漫威') ('托比·马奎尔', '蜘蛛侠', '漫威') ('克里斯蒂安·贝尔', '蝙蝠侠', 'DC') ('杰森·莫玛', '水行侠', 'DC')\n"
     ]
    }
   ],
   "source": [
    "a = zip(names, actors, universes)\n",
    "print(*a) # a 实际上是个对象，要看它里面的内容，需要在 a 前面加个 * 字符。"
   ]
  },
  {
   "cell_type": "code",
   "execution_count": 39,
   "metadata": {},
   "outputs": [
    {
     "name": "stdout",
     "output_type": "stream",
     "text": [
      "('小罗伯特唐尼', '托比·马奎尔', '克里斯蒂安·贝尔', '杰森·莫玛') ('钢铁侠', '蜘蛛侠', '蝙蝠侠', '水行侠') ('漫威', '漫威', 'DC', 'DC')\n"
     ]
    }
   ],
   "source": [
    "#unzip=>zip(zip())\n",
    "a = zip(names, actors, universes)\n",
    "names, actors, universes = zip(*a)\n",
    "print(names, actors, universes)"
   ]
  },
  {
   "cell_type": "markdown",
   "metadata": {},
   "source": [
    "## 解包"
   ]
  },
  {
   "cell_type": "markdown",
   "metadata": {},
   "source": [
    "“解包”解决痛点：将值赋给正确的变量。"
   ]
  },
  {
   "cell_type": "code",
   "execution_count": 40,
   "metadata": {},
   "outputs": [
    {
     "name": "stdout",
     "output_type": "stream",
     "text": [
      "1\n",
      "2\n"
     ]
    }
   ],
   "source": [
    "a, b = 1, 2\n",
    "print(a)\n",
    "print(b)"
   ]
  },
  {
   "cell_type": "code",
   "execution_count": 41,
   "metadata": {},
   "outputs": [
    {
     "name": "stdout",
     "output_type": "stream",
     "text": [
      "1\n"
     ]
    }
   ],
   "source": [
    "a, _ = 1, 2\n",
    "print(a)"
   ]
  },
  {
   "cell_type": "code",
   "execution_count": 42,
   "metadata": {},
   "outputs": [
    {
     "ename": "ValueError",
     "evalue": "not enough values to unpack (expected 3, got 2)",
     "output_type": "error",
     "traceback": [
      "\u001b[0;31m---------------------------------------------------------------------------\u001b[0m",
      "\u001b[0;31mValueError\u001b[0m                                Traceback (most recent call last)",
      "\u001b[0;32m<ipython-input-42-9dbc59cfd6c6>\u001b[0m in \u001b[0;36m<module>\u001b[0;34m\u001b[0m\n\u001b[0;32m----> 1\u001b[0;31m \u001b[0ma\u001b[0m\u001b[0;34m,\u001b[0m \u001b[0mb\u001b[0m\u001b[0;34m,\u001b[0m \u001b[0mc\u001b[0m \u001b[0;34m=\u001b[0m \u001b[0;36m1\u001b[0m\u001b[0;34m,\u001b[0m \u001b[0;36m2\u001b[0m\u001b[0;34m\u001b[0m\u001b[0;34m\u001b[0m\u001b[0m\n\u001b[0m",
      "\u001b[0;31mValueError\u001b[0m: not enough values to unpack (expected 3, got 2)"
     ]
    }
   ],
   "source": [
    "a, b, c = 1, 2"
   ]
  },
  {
   "cell_type": "code",
   "execution_count": 43,
   "metadata": {},
   "outputs": [
    {
     "name": "stdout",
     "output_type": "stream",
     "text": [
      "1\n",
      "2\n",
      "[]\n"
     ]
    }
   ],
   "source": [
    "a, b, *c = 1, 2\n",
    "print(a)\n",
    "print(b)\n",
    "print(c)"
   ]
  },
  {
   "cell_type": "code",
   "execution_count": 44,
   "metadata": {
    "scrolled": true
   },
   "outputs": [
    {
     "name": "stdout",
     "output_type": "stream",
     "text": [
      "1\n",
      "2\n",
      "[3, 4, 5]\n"
     ]
    }
   ],
   "source": [
    "a, b, *c = 1, 2, 3, 4, 5\n",
    "print(a)\n",
    "print(b)\n",
    "print(c)"
   ]
  },
  {
   "cell_type": "code",
   "execution_count": 45,
   "metadata": {},
   "outputs": [
    {
     "name": "stdout",
     "output_type": "stream",
     "text": [
      "1\n",
      "2\n",
      "[3, 4]\n",
      "5\n"
     ]
    }
   ],
   "source": [
    "a, b, *c, d = 1, 2, 3, 4, 5\n",
    "print(a)\n",
    "print(b)\n",
    "print(c)\n",
    "print(d)"
   ]
  },
  {
   "cell_type": "code",
   "execution_count": 46,
   "metadata": {},
   "outputs": [
    {
     "name": "stdout",
     "output_type": "stream",
     "text": [
      "1\n",
      "2\n",
      "5\n"
     ]
    }
   ],
   "source": [
    "a, b, *_, d = 1, 2, 3, 4, 5\n",
    "print(a)\n",
    "print(b)\n",
    "print(d)"
   ]
  },
  {
   "cell_type": "markdown",
   "metadata": {},
   "source": [
    "## 动态属性"
   ]
  },
  {
   "cell_type": "markdown",
   "metadata": {},
   "source": [
    "“动态属性 setattr()”解决痛点：用尽可能少的代码快速创建对象。"
   ]
  },
  {
   "cell_type": "code",
   "execution_count": 47,
   "metadata": {},
   "outputs": [],
   "source": [
    "# 首先定一个金融产品的类 Instrument，并创建一个对象 inst。\n",
    "\n",
    "class Instrument():\n",
    "    pass\n",
    "\n",
    "inst = Instrument()\n"
   ]
  },
  {
   "cell_type": "code",
   "execution_count": 48,
   "metadata": {},
   "outputs": [],
   "source": [
    "# 定义 inst 的两个属性并赋值，本金（notional）和到期日（maturity）。\n",
    "inst.notional = 100_000_000\n",
    "inst.maturity = '2025-03-25'"
   ]
  },
  {
   "cell_type": "code",
   "execution_count": 49,
   "metadata": {},
   "outputs": [
    {
     "name": "stdout",
     "output_type": "stream",
     "text": [
      "100000000\n",
      "2025-03-25\n"
     ]
    }
   ],
   "source": [
    "print(inst.notional)\n",
    "print(inst.maturity)"
   ]
  },
  {
   "cell_type": "code",
   "execution_count": 50,
   "metadata": {},
   "outputs": [],
   "source": [
    "# 现在将属性 notional 和其属性值 10000000 存储在变量 first_key 和 first_val 中。\n",
    "first_key = 'notional'\n",
    "first_val = 100_000_000"
   ]
  },
  {
   "cell_type": "code",
   "execution_count": 51,
   "metadata": {},
   "outputs": [],
   "source": [
    "# 想用 first_key 的值 notional（而不是 first_key 这个字符）来作为属性。\n",
    "inst = Instrument()\n",
    "inst.first_key = first_val"
   ]
  },
  {
   "cell_type": "code",
   "execution_count": 52,
   "metadata": {},
   "outputs": [
    {
     "ename": "AttributeError",
     "evalue": "'Instrument' object has no attribute 'notional'",
     "output_type": "error",
     "traceback": [
      "\u001b[0;31m---------------------------------------------------------------------------\u001b[0m",
      "\u001b[0;31mAttributeError\u001b[0m                            Traceback (most recent call last)",
      "\u001b[0;32m<ipython-input-52-50eeb1451324>\u001b[0m in \u001b[0;36m<module>\u001b[0;34m\u001b[0m\n\u001b[0;32m----> 1\u001b[0;31m \u001b[0mprint\u001b[0m\u001b[0;34m(\u001b[0m\u001b[0minst\u001b[0m\u001b[0;34m.\u001b[0m\u001b[0mnotional\u001b[0m\u001b[0;34m)\u001b[0m\u001b[0;34m\u001b[0m\u001b[0;34m\u001b[0m\u001b[0m\n\u001b[0m",
      "\u001b[0;31mAttributeError\u001b[0m: 'Instrument' object has no attribute 'notional'"
     ]
    }
   ],
   "source": [
    "print(inst.notional)"
   ]
  },
  {
   "cell_type": "code",
   "execution_count": 53,
   "metadata": {},
   "outputs": [
    {
     "name": "stdout",
     "output_type": "stream",
     "text": [
      "100000000\n"
     ]
    }
   ],
   "source": [
    "print(inst.first_key)"
   ]
  },
  {
   "cell_type": "markdown",
   "metadata": {},
   "source": [
    "setattr() 函数，它有三个参数：\n",
    "\n",
    "- 参数 1 - 对象\n",
    "- 参数 2 - 属性名的变量名\n",
    "- 参数 3 - 属性值的变量名\n"
   ]
  },
  {
   "cell_type": "code",
   "execution_count": 54,
   "metadata": {},
   "outputs": [
    {
     "name": "stdout",
     "output_type": "stream",
     "text": [
      "100000000\n"
     ]
    }
   ],
   "source": [
    "inst = Instrument()\n",
    "setattr(inst, first_key, first_val)\n",
    "print(inst.notional)"
   ]
  },
  {
   "cell_type": "code",
   "execution_count": 55,
   "metadata": {},
   "outputs": [],
   "source": [
    "inst_info = {'ID':'9001001', \n",
    "             'Effective Date':'2020-03-20', \n",
    "             'Maturity Date':'2020-06-20',\n",
    "             'Notional':10_000_000,\n",
    "             'Domestic Currency':'USD',\n",
    "             'Foreign Currency':'EUR',\n",
    "             'Flavor':'Put',\n",
    "             'Strike':1.08,\n",
    "             'Display':'domestic pips',\n",
    "             'Asset Class':'FX',\n",
    "             'Ins trument Type':'European Option',\n",
    "             'Model':'Heston'}"
   ]
  },
  {
   "cell_type": "code",
   "execution_count": 56,
   "metadata": {},
   "outputs": [],
   "source": [
    "inst = Instrument()\n",
    "for key, val in inst_info.items():\n",
    "    setattr(inst, key, val)"
   ]
  },
  {
   "cell_type": "markdown",
   "metadata": {},
   "source": [
    "getattr() 函数来获取属性值，它有两个参数：\n",
    "\n",
    "- 参数 1 - 对象\n",
    "- 参数 2 - 属性名的变量名"
   ]
  },
  {
   "cell_type": "code",
   "execution_count": 57,
   "metadata": {},
   "outputs": [
    {
     "name": "stdout",
     "output_type": "stream",
     "text": [
      "ID | 9001001\n",
      "Effective Date | 2020-03-20\n",
      "Maturity Date | 2020-06-20\n",
      "Notional | 10000000\n",
      "Domestic Currency | USD\n",
      "Foreign Currency | EUR\n",
      "Flavor | Put\n",
      "Strike | 1.08\n",
      "Display | domestic pips\n",
      "Asset Class | FX\n",
      "Ins trument Type | European Option\n",
      "Model | Heston\n"
     ]
    }
   ],
   "source": [
    "for key in inst_info.keys():\n",
    "    print( key, '|', getattr(inst, key))"
   ]
  },
  {
   "cell_type": "code",
   "execution_count": 58,
   "metadata": {},
   "outputs": [
    {
     "name": "stdout",
     "output_type": "stream",
     "text": [
      "ID                | 9001001\n",
      "Effective Date    | 2020-03-20\n",
      "Maturity Date     | 2020-06-20\n",
      "Notional          | 10000000\n",
      "Domestic Currency | USD\n",
      "Foreign Currency  | EUR\n",
      "Flavor            | Put\n",
      "Strike            | 1.08\n",
      "Display           | domestic pips\n",
      "Asset Class       | FX\n",
      "Ins trument Type  | European Option\n",
      "Model             | Heston\n"
     ]
    }
   ],
   "source": [
    "# f string 来添加若干个空白\n",
    "for key in inst_info.keys():\n",
    "    print( f'{key:18s}|', getattr(inst, key))"
   ]
  },
  {
   "cell_type": "markdown",
   "metadata": {},
   "source": [
    "## 密码函数"
   ]
  },
  {
   "cell_type": "markdown",
   "metadata": {},
   "source": [
    "“密码函数 getpass()”解决痛点：让输入的密码不可见。"
   ]
  },
  {
   "cell_type": "code",
   "execution_count": 59,
   "metadata": {},
   "outputs": [
    {
     "name": "stdout",
     "output_type": "stream",
     "text": [
      "Username: xiongfei\n",
      "Password: 199402\n",
      "Logging In...\n"
     ]
    }
   ],
   "source": [
    "username = input('Username: ')\n",
    "password = input('Password: ')\n",
    "print('Logging In...')"
   ]
  },
  {
   "cell_type": "code",
   "execution_count": 60,
   "metadata": {},
   "outputs": [
    {
     "name": "stdout",
     "output_type": "stream",
     "text": [
      "Username: xiongfei\n",
      "Password: ········\n",
      "Logging In...\n"
     ]
    }
   ],
   "source": [
    "from getpass import getpass\n",
    "username = input('Username: ')\n",
    "password = getpass('Password: ')\n",
    "print('Logging In...')"
   ]
  },
  {
   "cell_type": "markdown",
   "metadata": {},
   "source": [
    "## 总结"
   ]
  },
  {
   "cell_type": "markdown",
   "metadata": {},
   "source": [
    "**六个技巧总结**：\n",
    "\n",
    "> 下划线占位符：容易辨认大数的位数\n",
    "\n",
    "> 枚举函数 enumerate()：不需要显性创建索引\n",
    "\n",
    "> 打包函数 zip()：能同时遍历多个迭代器\n",
    "\n",
    "> 解包：将值赋给正确的变量\n",
    "\n",
    "> 动态属性 setattr()：用尽可能少的代码快速创建对象\n",
    "\n",
    "> 密码函数 getpass()：让输入的密码不可见"
   ]
  },
  {
   "cell_type": "code",
   "execution_count": null,
   "metadata": {},
   "outputs": [],
   "source": []
  }
 ],
 "metadata": {
  "hide_input": false,
  "kernelspec": {
   "display_name": "Python 3",
   "language": "python",
   "name": "python3"
  },
  "language_info": {
   "codemirror_mode": {
    "name": "ipython",
    "version": 3
   },
   "file_extension": ".py",
   "mimetype": "text/x-python",
   "name": "python",
   "nbconvert_exporter": "python",
   "pygments_lexer": "ipython3",
   "version": "3.7.3"
  },
  "toc": {
   "base_numbering": 1,
   "nav_menu": {},
   "number_sections": true,
   "sideBar": true,
   "skip_h1_title": false,
   "title_cell": "Table of Contents",
   "title_sidebar": "Contents",
   "toc_cell": false,
   "toc_position": {},
   "toc_section_display": true,
   "toc_window_display": true
  },
  "varInspector": {
   "cols": {
    "lenName": 16,
    "lenType": 16,
    "lenVar": 40
   },
   "kernels_config": {
    "python": {
     "delete_cmd_postfix": "",
     "delete_cmd_prefix": "del ",
     "library": "var_list.py",
     "varRefreshCmd": "print(var_dic_list())"
    },
    "r": {
     "delete_cmd_postfix": ") ",
     "delete_cmd_prefix": "rm(",
     "library": "var_list.r",
     "varRefreshCmd": "cat(var_dic_list()) "
    }
   },
   "types_to_exclude": [
    "module",
    "function",
    "builtin_function_or_method",
    "instance",
    "_Feature"
   ],
   "window_display": false
  }
 },
 "nbformat": 4,
 "nbformat_minor": 4
}
