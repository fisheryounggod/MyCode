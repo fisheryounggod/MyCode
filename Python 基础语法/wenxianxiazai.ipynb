{
 "metadata": {
  "language_info": {
   "codemirror_mode": {
    "name": "ipython",
    "version": 3
   },
   "file_extension": ".py",
   "mimetype": "text/x-python",
   "name": "python",
   "nbconvert_exporter": "python",
   "pygments_lexer": "ipython3",
   "version": "3.7.3-final"
  },
  "orig_nbformat": 2,
  "kernelspec": {
   "name": "python3",
   "display_name": "Python 3",
   "language": "python"
  }
 },
 "nbformat": 4,
 "nbformat_minor": 2,
 "cells": [
  {
   "source": [
    "## DOI 获取：借助 ZOTERO"
   ],
   "cell_type": "markdown",
   "metadata": {}
  },
  {
   "cell_type": "code",
   "execution_count": 1,
   "metadata": {},
   "outputs": [],
   "source": [
    "from pyzotero import zotero\n",
    "import pandas as pd\n",
    "\n",
    "library_id = '7419495'  # 填入自己的id\n",
    "library_type='user'  # 'user' or 'group'\n",
    "api_key='jLaZeMrvj5H09dt4I8EqjPtb'   #填入自己的api_key\n",
    "\n",
    "zot = zotero.Zotero(library_id, library_type, api_key)\n",
    "\n",
    "colls = zot.collections() # 所有集合名称"
   ]
  },
  {
   "cell_type": "code",
   "execution_count": 5,
   "metadata": {},
   "outputs": [
    {
     "output_type": "execute_result",
     "data": {
      "text/plain": [
       "{'key': 'PI3V6GN2',\n",
       " 'version': 10,\n",
       " 'library': {'type': 'user',\n",
       "  'id': 7419495,\n",
       "  'name': 'fisheryounggod',\n",
       "  'links': {'alternate': {'href': 'https://www.zotero.org/fisheryounggod',\n",
       "    'type': 'text/html'}}},\n",
       " 'links': {'self': {'href': 'https://api.zotero.org/users/7419495/items/PI3V6GN2',\n",
       "   'type': 'application/json'},\n",
       "  'alternate': {'href': 'https://www.zotero.org/fisheryounggod/items/PI3V6GN2',\n",
       "   'type': 'text/html'}},\n",
       " 'meta': {'creatorSummary': 'Zehri', 'parsedDate': '2020', 'numChildren': 0},\n",
       " 'data': {'key': 'PI3V6GN2',\n",
       "  'version': 10,\n",
       "  'itemType': 'journalArticle',\n",
       "  'title': 'Conditions for the success of capital controls: The elasticity approach',\n",
       "  'creators': [{'creatorType': 'author',\n",
       "    'firstName': 'Chokri',\n",
       "    'lastName': 'Zehri'}],\n",
       "  'abstractNote': 'Abstract Capital controls are a commonly used instrument to manage capital flows. However, their effectiveness in reducing short-term capital flows is still unclear. The present study proposes a new approach to the evaluation of the effects of capital controls, by proposing a model in which these effects depends on the elasticity of short-term capital flows relative to total flows. When capital controls are in place, achieving an elastic demand reduces these short-term flows, while an inelastic demand may increase them. The proposition of the model is empirically verified by computing the elasticity approach for 33 countries. This approach suggests that policymakers take proactive actions against the fickleness of short-term capital flows.',\n",
       "  'publicationTitle': 'International Journal of Finance & Economics',\n",
       "  'volume': 'n/a',\n",
       "  'issue': 'n/a',\n",
       "  'pages': '',\n",
       "  'date': '2020',\n",
       "  'series': '',\n",
       "  'seriesTitle': '',\n",
       "  'seriesText': '',\n",
       "  'journalAbbreviation': '',\n",
       "  'language': '',\n",
       "  'DOI': 'https://doi.org/10.1002/ijfe.2182',\n",
       "  'ISSN': '',\n",
       "  'shortTitle': '',\n",
       "  'url': 'https://onlinelibrary.wiley.com/doi/abs/10.1002/ijfe.2182',\n",
       "  'accessDate': '',\n",
       "  'archive': '',\n",
       "  'archiveLocation': '',\n",
       "  'libraryCatalog': '',\n",
       "  'callNumber': '',\n",
       "  'rights': '',\n",
       "  'extra': '_eprint: https://onlinelibrary.wiley.com/doi/pdf/10.1002/ijfe.2182',\n",
       "  'tags': [{'tag': 'capital'},\n",
       "   {'tag': 'controls'},\n",
       "   {'tag': 'elasticity'},\n",
       "   {'tag': 'flows'},\n",
       "   {'tag': 'short-term'}],\n",
       "  'collections': ['TQ4SI9WA'],\n",
       "  'relations': {},\n",
       "  'dateAdded': '2021-01-25T05:01:17Z',\n",
       "  'dateModified': '2021-01-25T05:08:43Z'}}"
      ]
     },
     "metadata": {},
     "execution_count": 5
    }
   ],
   "source": [
    "pyz = zot.collection_items(\"TQ4SI9WA\")\n",
    "\n",
    "pyz[0]"
   ]
  },
  {
   "cell_type": "code",
   "execution_count": 17,
   "metadata": {},
   "outputs": [
    {
     "output_type": "stream",
     "name": "stdout",
     "text": [
      "['https://doi.org/10.1002/ijfe.2182', 'https://doi.org/10.1002/ijfe.1795', 'https://doi.org/10.1111/obes.12405', 'https://doi.org/10.1111/roie.12522', 'https://doi.org/10.1111/j.1813-6982.2009.01227.x', 'https://doi.org/10.1111/j.1538-4616.2012.00556.x', 'https://doi.org/10.1111/j.1749-124X.2010.01199.x', 'https://doi.org/10.1111/j.1538-4616.2007.00056.x', 'https://doi.org/10.1111/1758-5899.12081', 'https://doi.org/10.1111/1467-9701.00558', 'https://doi.org/10.1002/ijfe.244', 'https://doi.org/10.1002/ijfe.206', 'https://doi.org/10.1111/rode.12174', 'https://doi.org/10.1111/j.1541-1338.2002.tb00228.x', 'https://doi.org/10.1111/twec.12908', 'https://doi.org/10.1111/j.1540-6261.1989.tb02627.x', 'https://doi.org/10.1111/rode.12097', 'https://doi.org/10.1002/(SICI)1099-1158(199607)1:3<197::AID-IJFE20>3.0.CO;2-0', 'https://doi.org/10.1111/j.1540-5907.2009.00417.x', 'https://doi.org/10.1002/ijfe.207', 'https://doi.org/10.1111/j.1467-9701.2006.00858.x', 'https://doi.org/10.1111/j.1467-9361.2004.00257.x', 'https://doi.org/10.1046/j.1467-9396.2003.00420.x', 'https://doi.org/10.1111/saje.12044', 'https://doi.org/10.1111/j.1468-0475.2011.00540.x', 'https://doi.org/10.1111/joes.12001', 'https://doi.org/10.1111/j.1467-9396.2008.00746.x', 'https://doi.org/10.1111/j.1467-9396.2007.00705.x', 'https://doi.org/10.1111/j.1468-0106.2010.00511.x', 'https://doi.org/10.1002/ijfe.210', 'https://doi.org/10.1111/twec.12682', 'https://doi.org/10.1111/abac.12143', 'https://doi.org/10.1111/1467-7679.00127', 'https://doi.org/10.1111/1467-7679.00126', 'https://doi.org/10.1002/ijfe.208', 'https://doi.org/10.1111/1467-7679.00124', 'https://doi.org/10.1002/ijfe.209', 'https://doi.org/10.1111/rode.12597', 'https://doi.org/10.1111/j.1749-124X.2012.01302.x', 'https://doi.org/10.1111/j.1749-124X.2012.12001.x', 'https://doi.org/10.1111/1467-7679.00125', 'https://doi.org/10.1111/jofi.12497', 'https://doi.org/10.1111/j.1468-0084.2011.00677.x']\n"
     ]
    }
   ],
   "source": [
    "doi=[]\n",
    "for p in pyz:\n",
    "    try:\n",
    "        doi.append(p['data'][\"DOI\"])\n",
    "    except:\n",
    "        pass \n",
    "\n",
    "print(doi) "
   ]
  },
  {
   "cell_type": "code",
   "execution_count": 23,
   "metadata": {},
   "outputs": [],
   "source": [
    "import pandas  as pd \n",
    "doi=pd.DataFrame(doi)"
   ]
  },
  {
   "cell_type": "code",
   "execution_count": 24,
   "metadata": {},
   "outputs": [
    {
     "output_type": "execute_result",
     "data": {
      "text/plain": [
       "                                                    0\n",
       "0                   https://doi.org/10.1002/ijfe.2182\n",
       "1                   https://doi.org/10.1002/ijfe.1795\n",
       "2                  https://doi.org/10.1111/obes.12405\n",
       "3                  https://doi.org/10.1111/roie.12522\n",
       "4    https://doi.org/10.1111/j.1813-6982.2009.01227.x\n",
       "5    https://doi.org/10.1111/j.1538-4616.2012.00556.x\n",
       "6    https://doi.org/10.1111/j.1749-124X.2010.01199.x\n",
       "7    https://doi.org/10.1111/j.1538-4616.2007.00056.x\n",
       "8             https://doi.org/10.1111/1758-5899.12081\n",
       "9             https://doi.org/10.1111/1467-9701.00558\n",
       "10                   https://doi.org/10.1002/ijfe.244\n",
       "11                   https://doi.org/10.1002/ijfe.206\n",
       "12                 https://doi.org/10.1111/rode.12174\n",
       "13  https://doi.org/10.1111/j.1541-1338.2002.tb002...\n",
       "14                 https://doi.org/10.1111/twec.12908\n",
       "15  https://doi.org/10.1111/j.1540-6261.1989.tb026...\n",
       "16                 https://doi.org/10.1111/rode.12097\n",
       "17  https://doi.org/10.1002/(SICI)1099-1158(199607...\n",
       "18   https://doi.org/10.1111/j.1540-5907.2009.00417.x\n",
       "19                   https://doi.org/10.1002/ijfe.207\n",
       "20   https://doi.org/10.1111/j.1467-9701.2006.00858.x\n",
       "21   https://doi.org/10.1111/j.1467-9361.2004.00257.x\n",
       "22   https://doi.org/10.1046/j.1467-9396.2003.00420.x\n",
       "23                 https://doi.org/10.1111/saje.12044\n",
       "24   https://doi.org/10.1111/j.1468-0475.2011.00540.x\n",
       "25                 https://doi.org/10.1111/joes.12001\n",
       "26   https://doi.org/10.1111/j.1467-9396.2008.00746.x\n",
       "27   https://doi.org/10.1111/j.1467-9396.2007.00705.x\n",
       "28   https://doi.org/10.1111/j.1468-0106.2010.00511.x\n",
       "29                   https://doi.org/10.1002/ijfe.210\n",
       "30                 https://doi.org/10.1111/twec.12682\n",
       "31                 https://doi.org/10.1111/abac.12143\n",
       "32            https://doi.org/10.1111/1467-7679.00127\n",
       "33            https://doi.org/10.1111/1467-7679.00126\n",
       "34                   https://doi.org/10.1002/ijfe.208\n",
       "35            https://doi.org/10.1111/1467-7679.00124\n",
       "36                   https://doi.org/10.1002/ijfe.209\n",
       "37                 https://doi.org/10.1111/rode.12597\n",
       "38   https://doi.org/10.1111/j.1749-124X.2012.01302.x\n",
       "39   https://doi.org/10.1111/j.1749-124X.2012.12001.x\n",
       "40            https://doi.org/10.1111/1467-7679.00125\n",
       "41                 https://doi.org/10.1111/jofi.12497\n",
       "42   https://doi.org/10.1111/j.1468-0084.2011.00677.x"
      ],
      "text/html": "<div>\n<style scoped>\n    .dataframe tbody tr th:only-of-type {\n        vertical-align: middle;\n    }\n\n    .dataframe tbody tr th {\n        vertical-align: top;\n    }\n\n    .dataframe thead th {\n        text-align: right;\n    }\n</style>\n<table border=\"1\" class=\"dataframe\">\n  <thead>\n    <tr style=\"text-align: right;\">\n      <th></th>\n      <th>0</th>\n    </tr>\n  </thead>\n  <tbody>\n    <tr>\n      <th>0</th>\n      <td>https://doi.org/10.1002/ijfe.2182</td>\n    </tr>\n    <tr>\n      <th>1</th>\n      <td>https://doi.org/10.1002/ijfe.1795</td>\n    </tr>\n    <tr>\n      <th>2</th>\n      <td>https://doi.org/10.1111/obes.12405</td>\n    </tr>\n    <tr>\n      <th>3</th>\n      <td>https://doi.org/10.1111/roie.12522</td>\n    </tr>\n    <tr>\n      <th>4</th>\n      <td>https://doi.org/10.1111/j.1813-6982.2009.01227.x</td>\n    </tr>\n    <tr>\n      <th>5</th>\n      <td>https://doi.org/10.1111/j.1538-4616.2012.00556.x</td>\n    </tr>\n    <tr>\n      <th>6</th>\n      <td>https://doi.org/10.1111/j.1749-124X.2010.01199.x</td>\n    </tr>\n    <tr>\n      <th>7</th>\n      <td>https://doi.org/10.1111/j.1538-4616.2007.00056.x</td>\n    </tr>\n    <tr>\n      <th>8</th>\n      <td>https://doi.org/10.1111/1758-5899.12081</td>\n    </tr>\n    <tr>\n      <th>9</th>\n      <td>https://doi.org/10.1111/1467-9701.00558</td>\n    </tr>\n    <tr>\n      <th>10</th>\n      <td>https://doi.org/10.1002/ijfe.244</td>\n    </tr>\n    <tr>\n      <th>11</th>\n      <td>https://doi.org/10.1002/ijfe.206</td>\n    </tr>\n    <tr>\n      <th>12</th>\n      <td>https://doi.org/10.1111/rode.12174</td>\n    </tr>\n    <tr>\n      <th>13</th>\n      <td>https://doi.org/10.1111/j.1541-1338.2002.tb002...</td>\n    </tr>\n    <tr>\n      <th>14</th>\n      <td>https://doi.org/10.1111/twec.12908</td>\n    </tr>\n    <tr>\n      <th>15</th>\n      <td>https://doi.org/10.1111/j.1540-6261.1989.tb026...</td>\n    </tr>\n    <tr>\n      <th>16</th>\n      <td>https://doi.org/10.1111/rode.12097</td>\n    </tr>\n    <tr>\n      <th>17</th>\n      <td>https://doi.org/10.1002/(SICI)1099-1158(199607...</td>\n    </tr>\n    <tr>\n      <th>18</th>\n      <td>https://doi.org/10.1111/j.1540-5907.2009.00417.x</td>\n    </tr>\n    <tr>\n      <th>19</th>\n      <td>https://doi.org/10.1002/ijfe.207</td>\n    </tr>\n    <tr>\n      <th>20</th>\n      <td>https://doi.org/10.1111/j.1467-9701.2006.00858.x</td>\n    </tr>\n    <tr>\n      <th>21</th>\n      <td>https://doi.org/10.1111/j.1467-9361.2004.00257.x</td>\n    </tr>\n    <tr>\n      <th>22</th>\n      <td>https://doi.org/10.1046/j.1467-9396.2003.00420.x</td>\n    </tr>\n    <tr>\n      <th>23</th>\n      <td>https://doi.org/10.1111/saje.12044</td>\n    </tr>\n    <tr>\n      <th>24</th>\n      <td>https://doi.org/10.1111/j.1468-0475.2011.00540.x</td>\n    </tr>\n    <tr>\n      <th>25</th>\n      <td>https://doi.org/10.1111/joes.12001</td>\n    </tr>\n    <tr>\n      <th>26</th>\n      <td>https://doi.org/10.1111/j.1467-9396.2008.00746.x</td>\n    </tr>\n    <tr>\n      <th>27</th>\n      <td>https://doi.org/10.1111/j.1467-9396.2007.00705.x</td>\n    </tr>\n    <tr>\n      <th>28</th>\n      <td>https://doi.org/10.1111/j.1468-0106.2010.00511.x</td>\n    </tr>\n    <tr>\n      <th>29</th>\n      <td>https://doi.org/10.1002/ijfe.210</td>\n    </tr>\n    <tr>\n      <th>30</th>\n      <td>https://doi.org/10.1111/twec.12682</td>\n    </tr>\n    <tr>\n      <th>31</th>\n      <td>https://doi.org/10.1111/abac.12143</td>\n    </tr>\n    <tr>\n      <th>32</th>\n      <td>https://doi.org/10.1111/1467-7679.00127</td>\n    </tr>\n    <tr>\n      <th>33</th>\n      <td>https://doi.org/10.1111/1467-7679.00126</td>\n    </tr>\n    <tr>\n      <th>34</th>\n      <td>https://doi.org/10.1002/ijfe.208</td>\n    </tr>\n    <tr>\n      <th>35</th>\n      <td>https://doi.org/10.1111/1467-7679.00124</td>\n    </tr>\n    <tr>\n      <th>36</th>\n      <td>https://doi.org/10.1002/ijfe.209</td>\n    </tr>\n    <tr>\n      <th>37</th>\n      <td>https://doi.org/10.1111/rode.12597</td>\n    </tr>\n    <tr>\n      <th>38</th>\n      <td>https://doi.org/10.1111/j.1749-124X.2012.01302.x</td>\n    </tr>\n    <tr>\n      <th>39</th>\n      <td>https://doi.org/10.1111/j.1749-124X.2012.12001.x</td>\n    </tr>\n    <tr>\n      <th>40</th>\n      <td>https://doi.org/10.1111/1467-7679.00125</td>\n    </tr>\n    <tr>\n      <th>41</th>\n      <td>https://doi.org/10.1111/jofi.12497</td>\n    </tr>\n    <tr>\n      <th>42</th>\n      <td>https://doi.org/10.1111/j.1468-0084.2011.00677.x</td>\n    </tr>\n  </tbody>\n</table>\n</div>"
     },
     "metadata": {},
     "execution_count": 24
    }
   ],
   "source": [
    "doi "
   ]
  },
  {
   "cell_type": "code",
   "execution_count": 25,
   "metadata": {},
   "outputs": [],
   "source": [
    "doi.to_csv('doi_of_CapitalAccount.csv')"
   ]
  }
 ]
}