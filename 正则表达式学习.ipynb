{
 "cells": [
  {
   "cell_type": "markdown",
   "metadata": {},
   "source": [
    "# re模块下的函数"
   ]
  },
  {
   "cell_type": "markdown",
   "metadata": {},
   "source": [
    "## compile(pattern):创建模式对象"
   ]
  },
  {
   "cell_type": "markdown",
   "metadata": {},
   "source": [
    "事先定义一个compile可以简化代码量, 同时compile中也可以使用修饰符r.S等."
   ]
  },
  {
   "cell_type": "code",
   "execution_count": 20,
   "metadata": {},
   "outputs": [
    {
     "name": "stdout",
     "output_type": "stream",
     "text": [
      "<re.Match object; span=(2, 3), match='A'>\n"
     ]
    }
   ],
   "source": [
    "import re\n",
    "pat = re.compile('A')\n",
    "m = pat.search('CBA')\n",
    "print(m)\n",
    "\n",
    "m = pat.search(\"CBD\")\n",
    "print(m) #没有匹配到，返回None（False）"
   ]
  },
  {
   "cell_type": "markdown",
   "metadata": {},
   "source": [
    "## search(pattern,string):在字符串中寻找模式"
   ]
  },
  {
   "cell_type": "code",
   "execution_count": 60,
   "metadata": {},
   "outputs": [
    {
     "data": {
      "text/plain": [
       "<re.Match object; span=(3, 4), match='a'>"
      ]
     },
     "execution_count": 60,
     "metadata": {},
     "output_type": "execute_result"
    }
   ],
   "source": [
    "re.search('a','ASDasd')"
   ]
  },
  {
   "cell_type": "markdown",
   "metadata": {},
   "source": [
    "## split(pattern,string)：根据模式分割字符串,返回列表"
   ]
  },
  {
   "cell_type": "code",
   "execution_count": 40,
   "metadata": {},
   "outputs": [
    {
     "data": {
      "text/plain": [
       "['\"a', 's', 'd', 'asd\"']"
      ]
     },
     "execution_count": 40,
     "metadata": {},
     "output_type": "execute_result"
    }
   ],
   "source": [
    "re.split(',','\"a,s,d,asd\"')"
   ]
  },
  {
   "cell_type": "markdown",
   "metadata": {},
   "source": [
    "## match(pattern,string):在字符串开始处匹配模式"
   ]
  },
  {
   "cell_type": "code",
   "execution_count": 39,
   "metadata": {},
   "outputs": [
    {
     "name": "stdout",
     "output_type": "stream",
     "text": [
      "34\n",
      "<re.Match object; span=(0, 13), match='The 123456 is'>\n",
      "The 123456 is\n",
      "(0, 13)\n"
     ]
    }
   ],
   "source": [
    "import re\n",
    "\n",
    "content = 'The 123456 is my one phone number.'\n",
    "print(len(content)) #字符串长度\n",
    "result = re.match(r'^The\\s\\d+\\s\\w*', content) #使用match匹配, 第一个参数为正则表达式, 第二个为要匹配的字符串\n",
    "print(result)\n",
    "print(result.group()) #输出匹配内容\n",
    "print(result.span()) #输出匹配内容的位置索引"
   ]
  },
  {
   "cell_type": "markdown",
   "metadata": {},
   "source": [
    "## 匹配目标"
   ]
  },
  {
   "cell_type": "markdown",
   "metadata": {},
   "source": [
    "在正则表达式中用()括起来可以使用group()输出, 若有n个(), 那么可以表示为group(n), 输出第n个括号匹配的内容."
   ]
  },
  {
   "cell_type": "code",
   "execution_count": 41,
   "metadata": {},
   "outputs": [
    {
     "name": "stdout",
     "output_type": "stream",
     "text": [
      "34\n",
      "<re.Match object; span=(0, 13), match='The 123456 is'>\n",
      "The 123456 is\n",
      "123456\n",
      "(0, 13)\n"
     ]
    }
   ],
   "source": [
    "import re\n",
    "\n",
    "content = 'The 123456 is my one phone number.'\n",
    "print(len(content)) #字符串长度\n",
    "result = re.match(r'^The\\s(\\d+)\\sis', content) #使用match匹配, 第一个参数为正则表达式, 第二个为要匹配的字符串\n",
    "print(result)\n",
    "print(result.group()) #输出匹配内容\n",
    "print(result.group(1)) #输出第一个被()包裹的内容\n",
    "print(result.span()) #输出匹配内容的位置索引\n"
   ]
  },
  {
   "cell_type": "markdown",
   "metadata": {},
   "source": [
    "## 通用匹配"
   ]
  },
  {
   "cell_type": "code",
   "execution_count": 42,
   "metadata": {},
   "outputs": [
    {
     "name": "stdout",
     "output_type": "stream",
     "text": [
      "<re.Match object; span=(0, 34), match='The 123456 is my one phone number.'>\n",
      "The 123456 is my one phone number.\n",
      "(0, 34)\n"
     ]
    }
   ],
   "source": [
    "import re\n",
    "\n",
    "content = 'The 123456 is my one phone number.'\n",
    "result = re.match(r'^The.*number.$', content) #使用match匹配, 第一个参数为正则表达式, 第二个为要匹配的字符串\n",
    "print(result)\n",
    "print(result.group()) #输出匹配内容\n",
    "print(result.span()) #输出匹配内容的位置索引"
   ]
  },
  {
   "cell_type": "markdown",
   "metadata": {},
   "source": [
    "## 贪婪与非贪婪"
   ]
  },
  {
   "cell_type": "code",
   "execution_count": 43,
   "metadata": {},
   "outputs": [
    {
     "name": "stdout",
     "output_type": "stream",
     "text": [
      "贪婪匹配:\n",
      "The 123456 is my one phone number.\n",
      "result = 6\n",
      "--------------------\n",
      "非贪婪匹配:\n",
      "The 123456 is my one phone number.\n",
      "result = 123456\n"
     ]
    }
   ],
   "source": [
    "import re\n",
    "\n",
    "content = 'The 123456 is my one phone number.'\n",
    "print('贪婪匹配:')\n",
    "result = re.match(r'^The.*(\\d+).*', content) #使用match匹配, 第一个参数为正则表达式, 第二个为要匹配的字符串\n",
    "print(result.group()) #输出匹配内容\n",
    "print('result = %s'%result.group(1)) #输出第一个被()包裹的内容\n",
    "print('-'*20)\n",
    "print('非贪婪匹配:')\n",
    "result = re.match(r'^The.*?(\\d+).*', content) \n",
    "print(result.group())\n",
    "print('result = %s'%result.group(1))"
   ]
  },
  {
   "cell_type": "markdown",
   "metadata": {},
   "source": [
    "## 转义匹配"
   ]
  },
  {
   "cell_type": "code",
   "execution_count": 51,
   "metadata": {},
   "outputs": [
    {
     "name": "stdout",
     "output_type": "stream",
     "text": [
      "result = None\n",
      "(百度)www.baidu.com\n"
     ]
    }
   ],
   "source": [
    "import re\n",
    "\n",
    "content = '(百度)www.baidu.com'\n",
    "result = re.match('(百度)www.baidu.com', content)\n",
    "\n",
    "result2 = re.match('\\(百度\\)www\\.baidu\\.com', content)\n",
    "if result:\n",
    "    print(result.group())\n",
    "else:\n",
    "    print('result = None')\n",
    "if result2:\n",
    "    print(result2.group())\n",
    "else:\n",
    "    print('result2 = None')"
   ]
  },
  {
   "cell_type": "markdown",
   "metadata": {},
   "source": [
    "## findall()方法"
   ]
  },
  {
   "cell_type": "markdown",
   "metadata": {},
   "source": [
    "match()和search()都是返回匹配到的第一个内容就结束匹配, findall()是返回所有符合匹配规则的内容"
   ]
  },
  {
   "cell_type": "code",
   "execution_count": 52,
   "metadata": {},
   "outputs": [
    {
     "name": "stdout",
     "output_type": "stream",
     "text": [
      "[('/2.mp3', '任贤齐', '沧海一声笑'), ('/3.mp3', '齐秦', '往事随风'), ('/4.mp3', 'beyond', '光辉岁月'), ('/5.mp3', '程慧玲', '记事本'), ('/6.mp3', '邓丽君', '但愿人长久')]\n",
      "/2.mp3 任贤齐 沧海一声笑\n",
      "/3.mp3 齐秦 往事随风\n",
      "/4.mp3 beyond 光辉岁月\n",
      "/5.mp3 程慧玲 记事本\n",
      "/6.mp3 邓丽君 但愿人长久\n"
     ]
    }
   ],
   "source": [
    "import re\n",
    "\n",
    "html = '''\n",
    "<div id=\"songs-list\">\n",
    "<h2 class=\"title\">歌单</h2>\n",
    "<p class=\"introduction\">歌单列表</p>\n",
    "<ul id=\"list\" class=\"list-group\">\n",
    "<li data-view=\"2\">一路上有你</li>\n",
    "<li data-view=\"7\">\n",
    "<a href=\"/2.mp3\" singer=\"任贤齐\">沧海一声笑</a>\n",
    "</li>\n",
    "<li data-view=\"4\" class=\"active\">\n",
    "<a href=\"/3.mp3\" singer=\"齐秦\">往事随风</a>\n",
    "</li>\n",
    "<li data-view=\"6\"><a href=\"/4.mp3\" singer=\"beyond\">光辉岁月</a></li>\n",
    "<li data-view=\"5\"><a href=\"/5.mp3\" singer=\"程慧玲\">记事本</a></li>\n",
    "<li data-veiw=\"5\">\n",
    "<a href=\"/6.mp3\" singer=\"邓丽君\">但愿人长久</a>\n",
    "</li>\n",
    "</ul>\n",
    "</div>\n",
    "'''\n",
    "\n",
    "result = re.findall('<li.*?href=\"(.*?)\".*?singer=\"(.*?)\">(.*?)</a>', html, re.S)\n",
    "if result:\n",
    "    print(result)\n",
    "    for res in result:\n",
    "        print(res[0], res[1], res[2])\n"
   ]
  },
  {
   "cell_type": "markdown",
   "metadata": {},
   "source": [
    "## sub()方法, 去除匹配的字符"
   ]
  },
  {
   "cell_type": "code",
   "execution_count": 53,
   "metadata": {},
   "outputs": [
    {
     "name": "stdout",
     "output_type": "stream",
     "text": [
      "abcdefg\n"
     ]
    }
   ],
   "source": [
    "import re\n",
    "\n",
    "content = '54abc59de335f7778888g'\n",
    "content = re.sub('\\d+', '', content)\n",
    "print(content)"
   ]
  },
  {
   "cell_type": "markdown",
   "metadata": {},
   "source": [
    "# 例子"
   ]
  },
  {
   "cell_type": "markdown",
   "metadata": {},
   "source": [
    "## 例子1：验证输入用户名和QQ号是否有效并给出对应的提示信息。"
   ]
  },
  {
   "cell_type": "code",
   "execution_count": 54,
   "metadata": {},
   "outputs": [
    {
     "name": "stdout",
     "output_type": "stream",
     "text": [
      "请输入用户名: zuifanchen\n",
      "请输入QQ号: 1632165739\n",
      "你输入的信息是有效的!\n"
     ]
    }
   ],
   "source": [
    "\"\"\"\n",
    "验证输入用户名和QQ号是否有效并给出对应的提示信息\n",
    "\n",
    "要求：用户名必须由字母、数字或下划线构成且长度在6~20个字符之间，QQ号是5~12的数字且首位不能为0\n",
    "\"\"\"\n",
    "import re\n",
    "\n",
    "\n",
    "def main():\n",
    "    username = input('请输入用户名: ')\n",
    "    qq = input('请输入QQ号: ')\n",
    "    # match函数的第一个参数是正则表达式字符串或正则表达式对象\n",
    "    # 第二个参数是要跟正则表达式做匹配的字符串对象\n",
    "    m1 = re.match(r'^[0-9a-zA-Z_]{6,20}$', username)\n",
    "    if not m1:\n",
    "        print('请输入有效的用户名.')\n",
    "    m2 = re.match(r'^[1-9]\\d{4,11}$', qq)\n",
    "    if not m2:\n",
    "        print('请输入有效的QQ号.')\n",
    "    if m1 and m2:\n",
    "        print('你输入的信息是有效的!')\n",
    "\n",
    "\n",
    "if __name__ == '__main__':\n",
    "    main()"
   ]
  },
  {
   "cell_type": "markdown",
   "metadata": {},
   "source": [
    "## 例子2：从一段文字中提取出国内手机号码。"
   ]
  },
  {
   "cell_type": "code",
   "execution_count": 55,
   "metadata": {},
   "outputs": [
    {
     "name": "stdout",
     "output_type": "stream",
     "text": [
      "['13512346789', '15600998765', '15600998765']\n",
      "--------华丽的分隔线--------\n",
      "13512346789\n",
      "15600998765\n",
      "15600998765\n",
      "--------华丽的分隔线--------\n",
      "13512346789\n",
      "15600998765\n",
      "15600998765\n"
     ]
    }
   ],
   "source": [
    "import re\n",
    "\n",
    "\n",
    "def main():\n",
    "    # 创建正则表达式对象 使用了前瞻和回顾来保证手机号前后不应该出现数字\n",
    "    pattern = re.compile(r'(?<=\\D)1[34578]\\d{9}(?=\\D)')\n",
    "    sentence = '''\n",
    "    重要的事情说8130123456789遍，我的手机号是13512346789这个靓号，\n",
    "    不是15600998765，也是110或119，王大锤的手机号才是15600998765。\n",
    "    '''\n",
    "    # 查找所有匹配并保存到一个列表中\n",
    "    mylist = re.findall(pattern, sentence)\n",
    "    print(mylist)\n",
    "    print('--------华丽的分隔线--------')\n",
    "    # 通过迭代器取出匹配对象并获得匹配的内容\n",
    "    for temp in pattern.finditer(sentence):\n",
    "        print(temp.group())\n",
    "    print('--------华丽的分隔线--------')\n",
    "    # 通过search函数指定搜索位置找出所有匹配\n",
    "    m = pattern.search(sentence)\n",
    "    while m:\n",
    "        print(m.group())\n",
    "        m = pattern.search(sentence, m.end())\n",
    "\n",
    "\n",
    "if __name__ == '__main__':\n",
    "    main()"
   ]
  },
  {
   "cell_type": "markdown",
   "metadata": {},
   "source": [
    "## 例子3：替换字符串中的不良内容"
   ]
  },
  {
   "cell_type": "code",
   "execution_count": 56,
   "metadata": {},
   "outputs": [
    {
     "name": "stdout",
     "output_type": "stream",
     "text": [
      "你丫是*吗? 我*你大爷的. * you.\n"
     ]
    }
   ],
   "source": [
    "import re\n",
    "\n",
    "\n",
    "def main():\n",
    "    sentence = '你丫是傻叉吗? 我操你大爷的. Fuck you.'\n",
    "    purified = re.sub('[操肏艹]|fuck|shit|傻[比屄逼叉缺吊屌]|煞笔',\n",
    "                      '*', sentence, flags=re.IGNORECASE)\n",
    "    print(purified)  # 你丫是*吗? 我*你大爷的. * you.\n",
    "\n",
    "\n",
    "if __name__ == '__main__':\n",
    "    main()"
   ]
  },
  {
   "cell_type": "markdown",
   "metadata": {},
   "source": [
    "## 例子4：拆分长字符串"
   ]
  },
  {
   "cell_type": "code",
   "execution_count": 59,
   "metadata": {},
   "outputs": [
    {
     "name": "stdout",
     "output_type": "stream",
     "text": [
      "['窗前明月光', '疑是地上霜', '举头望明月', '低头思故乡']\n"
     ]
    }
   ],
   "source": [
    "import re\n",
    "\n",
    "\n",
    "def main():\n",
    "    poem = '窗前明月光，疑是地上霜。举头望明月，低头思故乡。'\n",
    "    sentence_list = re.split(r'[，。, .]', poem)\n",
    "    while '' in sentence_list:\n",
    "        sentence_list.remove('')\n",
    "    print(sentence_list)  # ['窗前明月光', '疑是地上霜', '举头望明月', '低头思故乡']\n",
    "\n",
    "\n",
    "if __name__ == '__main__':\n",
    "    main()"
   ]
  },
  {
   "cell_type": "code",
   "execution_count": null,
   "metadata": {},
   "outputs": [],
   "source": []
  },
  {
   "cell_type": "markdown",
   "metadata": {},
   "source": [
    "### 1、元字符^"
   ]
  },
  {
   "cell_type": "markdown",
   "metadata": {},
   "source": [
    "如果^元字符放到[]字符集中就是反取的意思"
   ]
  },
  {
   "cell_type": "code",
   "execution_count": 1,
   "metadata": {},
   "outputs": [
    {
     "name": "stdout",
     "output_type": "stream",
     "text": [
      "['知', '识', '学', '堂', '，', '欢', '迎', '你']\n"
     ]
    }
   ],
   "source": [
    " import re\n",
    "\n",
    "str=\"python知识学堂，python欢迎你\"\n",
    "result=re.findall('[^python]',str)\n",
    "\n",
    "#反取 匹配除‘python’以外的字符 返回值是list\n",
    "print(result)"
   ]
  },
  {
   "cell_type": "markdown",
   "metadata": {},
   "source": [
    "### 2、元字符*"
   ]
  },
  {
   "cell_type": "markdown",
   "metadata": {},
   "source": [
    "表示匹配其前面的一个字符0次或多次"
   ]
  },
  {
   "cell_type": "code",
   "execution_count": 2,
   "metadata": {},
   "outputs": [
    {
     "name": "stdout",
     "output_type": "stream",
     "text": [
      "['知识']\n",
      "['学堂', '学堂']\n"
     ]
    }
   ],
   "source": [
    "import  re\n",
    "str=\"python知识学堂，欢迎来到学堂\"\n",
    "print(re.findall(\"知识*\",str)) #星号前面的一个字符可以是0次或多次，返回值是list\n",
    "print(re.findall(\"学堂*\",str)) #星号前面的一个字符可以是0次或多次，返回值是list"
   ]
  },
  {
   "cell_type": "markdown",
   "metadata": {},
   "source": [
    "### 3、元字符()"
   ]
  },
  {
   "cell_type": "markdown",
   "metadata": {},
   "source": [
    "也就是分组匹配，()里面的为一个组或者说是整体"
   ]
  },
  {
   "cell_type": "code",
   "execution_count": 3,
   "metadata": {},
   "outputs": [
    {
     "name": "stdout",
     "output_type": "stream",
     "text": [
      "['知识']\n",
      "['学堂', '学堂']\n"
     ]
    }
   ],
   "source": [
    " import  re\n",
    "str=\"python知识学堂，欢迎来到学堂\"\n",
    "print(re.findall(\"(知识)\",str)) \n",
    "print(re.findall(\"(学堂)\",str)) "
   ]
  },
  {
   "cell_type": "markdown",
   "metadata": {},
   "source": [
    "### 网络爬虫"
   ]
  },
  {
   "cell_type": "markdown",
   "metadata": {},
   "source": [
    "#### 第一次"
   ]
  },
  {
   "cell_type": "code",
   "execution_count": 8,
   "metadata": {},
   "outputs": [
    {
     "name": "stdout",
     "output_type": "stream",
     "text": [
      "<!DOCTYPE HTML PUBLIC \"-//W3C//DTD HTML 4.01 Transitional//EN\" \"http://www.w3c.org/TR/1999/REC-html401-19991224/loose.dtd\">\n",
      "<HTML>\n",
      "<HEAD>\n",
      "<META content=\"text/html; charset=gb2312\" http-equiv=Content-Type>\n",
      "<TITLE>¹ØÓÚ¸üÐÂÈ«¹úÍ³¼ÆÓÃÇø»®´úÂëºÍ³ÇÏç»®·Ö´úÂëµÄ¹«¸æ </TITLE>\n",
      "<STYLE type=text/css>\n",
      "\tBODY {MARGIN: 0px}BODY {FONT-SIZE: 12px}\n",
      "\tTD {FONT-SIZE: 12px}\n",
      "\tTH {FONT-SIZE: 12px}\n",
      "\t.redBig {COLOR: #d00018; FONT-SIZE: 18px; FONT-WEIGHT: bold}\n",
      "\t.STYLE3 a{COLOR: #fff; text-decoration:none;}\n",
      "\t.STYLE5 {COLOR: #236fbe; FONT-WEIGHT: bold}\n",
      "\t.content {LINE-HEIGHT: 1.5; FONT-SIZE: 10.4pt}\n",
      "\t.tdPading {PADDING-LEFT: 30px}.blue {COLOR: #0000ff}\n",
      "\t.STYLE6 {COLOR: #ffffff}\n",
      "\t.a2 {LINE-HEIGHT: 1.5; COLOR: #2a6fbd; FONT-SIZE: 12px}\n",
      "\ta2:link {LINE-HEIGHT: 1.5; COLOR: #2a6fbd; FONT-SIZE: 12px}\n",
      "\ta2:hover {LINE-HEIGHT: 1.5; COLOR: #2a6fbd; FONT-SIZE: 12px; TEXT-DECORATION: underline}\n",
      "\ta2:visited {LINE-HEIGHT: 1.5; COLOR: #2a6fbd; FONT-SIZE: 12px}\n",
      "</STYLE>\n",
      "<SCRIPT language=javascript>\n",
      "function doZoom(size){document.getElementById('zoom').style.fontSize=size+'px';}\n",
      "</SCRIPT>\n",
      "<META name=GENERATOR content=\"MSHTML 8.00.7600.16700\">\n",
      "</HEAD>\n",
      "<BODY>\n",
      "<TABLE border=0 cellSpacing=0 cellPadding=0 width=778 align=center>\n",
      "<TBODY>\n",
      "<TR><TD colSpan=2><IMG src=\"http://www.stats.gov.cn/images/banner.jpg\" width=778 height=135></TD></TR></TBODY></TABLE><MAP id=Map name=Map><AREA href=\"http://www.stats.gov.cn/english/\" shape=rect coords=277,4,328,18><AREA href=\"http://www.stats.gov.cn:82/\" shape=rect coords=181,4,236,18><AREA href=\"http://www.stats.gov.cn/\" shape=rect coords=85,4,140,17></MAP><TABLE border=0 cellSpacing=0 cellPadding=0 width=778 align=center><TBODY><TR><TD vAlign=top><TABLE style=\"MARGIN-TOP: 15px; MARGIN-BOTTOM: 18px\" border=0 cellSpacing=0 cellPadding=0 width=\"100%\" align=center><TBODY><TR><TD style=\" BACKGROUND-REPEAT: repeat-x; BACKGROUND-POSITION: 50% top\" background=images/topLine.gif align=right></TD></TR><TR><TD style=\" BACKGROUND-REPEAT: repeat-y; BACKGROUND-POSITION: right 50%\" vAlign=top background=images/rightBorder.gif><TABLE border=0 cellSpacing=0 cellPadding=0 width=\"100%\"><TBODY><TR><TD width=\"1%\" height=\"200\" vAlign=top>\n",
      "<table class='provincetable' width=775 ><tr ><td colspan=8  height=1 style='FONT-SIZE: 5px' >&nbsp;</td></tr>\n",
      "<tr class='provincehead'><td  colspan=8 align='center' style='FONT-SIZE: 16px' height=39 vAlign='center' background='images/tiao.jpg'>\n",
      "<strong>¹ØÓÚ¸üÐÂÈ«¹úÍ³¼ÆÓÃÇø»®´úÂëºÍ³ÇÏç»®·Ö´úÂëµÄ¹«¸æ</strong></td>\n",
      "</tr>\t<tr >\n",
      "  <td colspan=8  height=50 style='FONT-SIZE: 12px' > ¡¡¡¡Îª¸üºÃÂú×ã2020Äê³£¹æÍ³¼Æµ÷²éºÍ×¨Ïîµ÷²éµÄÐèÒª£¬¹ú¼ÒÍ³¼Æ¾Ö×éÖ¯¿ªÕ¹ÁË2019Äê¶ÈÍ³¼ÆÓÃÇø»®´úÂëºÍ³ÇÏç»®·Ö´úÂë¸üÐÂÎ¬»¤¹¤×÷£¬µ÷²éÊ±µãÎª2019Äê10ÔÂ31ÈÕ¡£Ä¿Ç°£¬ÒÑÍê³É¸üÐÂÎ¬»¤¹¤×÷,ÏÖÓè¹«²¼¡£\n",
      "  <br> ¡¡¡¡2019ÄêÍ³¼ÆÓÃÇø»®´úÂëºÍ³ÇÏç»®·Ö´úÂëÒÀ¾Ý¹úÎñÔºÅú¸´Í¬ÒâµÄ¡¶¹ØÓÚÍ³¼ÆÉÏ»®·Ö³ÇÏçµÄ¹æ¶¨¡·£¨¹úº¯¡²2008¡³60ºÅ£©¼°¹ú¼ÒÍ³¼Æ¾ÖÓ¡·¢µÄ¡¶Í³¼ÆÓÃÇø»®´úÂëºÍ³ÇÏç»®·Ö´úÂë±àÖÆ¹æÔò¡·£¨¹úÍ³×Ö¡²2009¡³91ºÅ£©±àÖÆ¡£\n",
      "  <br> ¡¡¡¡´Ë´Î·¢²¼ÄÚÈÝÎª2019ÄêÈ«¹úÍ³¼ÆÓÃÇø»®´úÂë£¨12Î»£©ºÍ³ÇÏç·ÖÀà´úÂë£¨3Î»£©£¬µØÓò·¶Î§Îª¹ú¼ÒÍ³¼Æ¾Ö¿ªÕ¹Í³¼Æµ÷²éµÄÈ«¹ú31¸öÊ¡¡¢×ÔÖÎÇø¡¢Ö±Ï½ÊÐ£¬Î´°üÀ¨ÎÒ¹úÌ¨ÍåÊ¡¡¢Ïã¸ÛÌØ±ðÐÐÕþÇø¡¢°ÄÃÅÌØ±ðÐÐÕþÇø¡£\n",
      "  <br> ¡¡¡¡¡¶¹ØÓÚÍ³¼ÆÉÏ»®·Ö³ÇÏçµÄ¹æ¶¨¡·Ö¸³ö£º¡°±¾¹æ¶¨×÷ÎªÍ³¼ÆÉÏ»®·Ö³ÇÏçµÄÒÀ¾Ý£¬²»¸Ä±äÏÖÓÐµÄÐÐÕþÇø»®¡¢Á¥Êô¹ØÏµ¡¢¹ÜÀíÈ¨ÏÞºÍ»ú¹¹±àÖÆ£¬ÒÔ¼°ÍÁµØ¹æ»®¡¢³ÇÏç¹æ»®µÈÓÐ¹Ø¹æ¶¨¡±¡£Í³¼ÆÓÃÇø»®´úÂëºÍ³ÇÏç»®·Ö´úÂë£¬ÔÚÍ³¼Æ¹¤×÷ÖÐÓ¦µ±Ê¹ÓÃ£¬ÐèÒªÔÚÆäËû¹¤×÷ÖÐÊ¹ÓÃÊ±£¬ÇëÎñ±Ø½áºÏÓÐ¹ØÊµ¼ÊÇé¿ö¡£\n",
      "  </td>\n",
      "</tr>\n",
      "<tr class='provincetr'><td><a href='11.html'>±±¾©ÊÐ<br/></a></td><td><a href='12.html'>Ìì½òÊÐ<br/></a></td><td><a href='13.html'>ºÓ±±Ê¡<br/></a></td><td><a href='14.html'>É½Î÷Ê¡<br/></a></td><td><a href='15.html'>ÄÚÃÉ¹Å×ÔÖÎÇø<br/></a></td><td><a href='21.html'>ÁÉÄþÊ¡<br/></a></td><td><a href='22.html'>¼ªÁÖÊ¡<br/></a></td><td><a href='23.html'>ºÚÁú½­Ê¡<br/></a></td></tr>\n",
      "<tr class='provincetr'><td><a href='31.html'>ÉÏº£ÊÐ<br/></a></td><td><a href='32.html'>½­ËÕÊ¡<br/></a></td><td><a href='33.html'>Õã½­Ê¡<br/></a></td><td><a href='34.html'>°²»ÕÊ¡<br/></a></td><td><a href='35.html'>¸£½¨Ê¡<br/></a></td><td><a href='36.html'>½­Î÷Ê¡<br/></a></td><td><a href='37.html'>É½¶«Ê¡<br/></a></td><td><a href='41.html'>ºÓÄÏÊ¡<br/></a></td></tr>\n",
      "<tr class='provincetr'><td><a href='42.html'>ºþ±±Ê¡<br/></a></td><td><a href='43.html'>ºþÄÏÊ¡<br/></a></td><td><a href='44.html'>¹ã¶«Ê¡<br/></a></td><td><a href='45.html'>¹ãÎ÷×³×å×ÔÖÎÇø<br/></a></td><td><a href='46.html'>º£ÄÏÊ¡<br/></a></td><td><a href='50.html'>ÖØÇìÊÐ<br/></a></td><td><a href='51.html'>ËÄ´¨Ê¡<br/></a></td><td><a href='52.html'>¹óÖÝÊ¡<br/></a></td></tr>\n",
      "<tr class='provincetr'><td><a href='53.html'>ÔÆÄÏÊ¡<br/></a></td><td><a href='54.html'>Î÷²Ø×ÔÖÎÇø<br/></a></td><td><a href='61.html'>ÉÂÎ÷Ê¡<br/></a></td><td><a href='62.html'>¸ÊËàÊ¡<br/></a></td><td><a href='63.html'>Çàº£Ê¡<br/></a></td><td><a href='64.html'>ÄþÏÄ»Ø×å×ÔÖÎÇø<br/></a></td><td><a href='65.html'>ÐÂ½®Î¬Îá¶û×ÔÖÎÇø<br/></a></td><td><br/></td></tr>\n",
      "\n",
      "</table>\n",
      "</TD>\n",
      "</TR>\n",
      "</TBODY>\n",
      "</TABLE>\n",
      "</TD>\n",
      "</TR>\n",
      "<TR>\n",
      "<TD style=\"BACKGROUND-REPEAT: repeat-x; BACKGROUND-POSITION: 50% top\"          background=images/borderBottom.gif>\n",
      "</TD></TR></TBODY>\n",
      "</TABLE></TD></TR>  <TR>    <TD bgColor=#e2eefc height=2></TD></TR>  <TR>\n",
      "<TD class=STYLE3 height=60>\n",
      "<DIV align=center style=\"background-color:#1E67A7; height:75px; color:#fff;\"><br/>\n",
      "°æÈ¨ËùÓÐ£º¹ú¼ÒÍ³¼Æ¾Ö¡¡¡¡<A class=STYLE3       href=\"http://www.miibeian.gov.cn/\"       target=_blank>¾©ICP±¸05034670ºÅ</A><BR><BR>µØÖ·£º±±¾©ÊÐÎ÷³ÇÇøÔÂÌ³ÄÏ½Ö57ºÅ£¨100826£©<BR></DIV></TD></TR></TBODY></TABLE></BODY></HTML>\n",
      "\n"
     ]
    }
   ],
   "source": [
    "import re\n",
    "import requests\n",
    "class demo():\n",
    "    def __init__(self):\n",
    "        try:\n",
    "            response=requests.get(\"http://www.stats.gov.cn/tjsj/tjbz/tjyqhdmhcxhfdm/2019/\")\n",
    "            \n",
    "            html=response.text \n",
    "#获取页面的html \n",
    "            print(html)\n",
    "        except:\n",
    "            print('出错了')\n",
    "if __name__ == '__main__':\n",
    "    demo()\n"
   ]
  },
  {
   "cell_type": "code",
   "execution_count": 9,
   "metadata": {},
   "outputs": [
    {
     "name": "stdout",
     "output_type": "stream",
     "text": [
      "<!DOCTYPE HTML PUBLIC \"-//W3C//DTD HTML 4.01 Transitional//EN\" \"http://www.w3c.org/TR/1999/REC-html401-19991224/loose.dtd\">\n",
      "<HTML>\n",
      "<HEAD>\n",
      "<META content=\"text/html; charset=gb2312\" http-equiv=Content-Type>\n",
      "<TITLE>关于更新全国统计用区划代码和城乡划分代码的公告 </TITLE>\n",
      "<STYLE type=text/css>\n",
      "\tBODY {MARGIN: 0px}BODY {FONT-SIZE: 12px}\n",
      "\tTD {FONT-SIZE: 12px}\n",
      "\tTH {FONT-SIZE: 12px}\n",
      "\t.redBig {COLOR: #d00018; FONT-SIZE: 18px; FONT-WEIGHT: bold}\n",
      "\t.STYLE3 a{COLOR: #fff; text-decoration:none;}\n",
      "\t.STYLE5 {COLOR: #236fbe; FONT-WEIGHT: bold}\n",
      "\t.content {LINE-HEIGHT: 1.5; FONT-SIZE: 10.4pt}\n",
      "\t.tdPading {PADDING-LEFT: 30px}.blue {COLOR: #0000ff}\n",
      "\t.STYLE6 {COLOR: #ffffff}\n",
      "\t.a2 {LINE-HEIGHT: 1.5; COLOR: #2a6fbd; FONT-SIZE: 12px}\n",
      "\ta2:link {LINE-HEIGHT: 1.5; COLOR: #2a6fbd; FONT-SIZE: 12px}\n",
      "\ta2:hover {LINE-HEIGHT: 1.5; COLOR: #2a6fbd; FONT-SIZE: 12px; TEXT-DECORATION: underline}\n",
      "\ta2:visited {LINE-HEIGHT: 1.5; COLOR: #2a6fbd; FONT-SIZE: 12px}\n",
      "</STYLE>\n",
      "<SCRIPT language=javascript>\n",
      "function doZoom(size){document.getElementById('zoom').style.fontSize=size+'px';}\n",
      "</SCRIPT>\n",
      "<META name=GENERATOR content=\"MSHTML 8.00.7600.16700\">\n",
      "</HEAD>\n",
      "<BODY>\n",
      "<TABLE border=0 cellSpacing=0 cellPadding=0 width=778 align=center>\n",
      "<TBODY>\n",
      "<TR><TD colSpan=2><IMG src=\"http://www.stats.gov.cn/images/banner.jpg\" width=778 height=135></TD></TR></TBODY></TABLE><MAP id=Map name=Map><AREA href=\"http://www.stats.gov.cn/english/\" shape=rect coords=277,4,328,18><AREA href=\"http://www.stats.gov.cn:82/\" shape=rect coords=181,4,236,18><AREA href=\"http://www.stats.gov.cn/\" shape=rect coords=85,4,140,17></MAP><TABLE border=0 cellSpacing=0 cellPadding=0 width=778 align=center><TBODY><TR><TD vAlign=top><TABLE style=\"MARGIN-TOP: 15px; MARGIN-BOTTOM: 18px\" border=0 cellSpacing=0 cellPadding=0 width=\"100%\" align=center><TBODY><TR><TD style=\" BACKGROUND-REPEAT: repeat-x; BACKGROUND-POSITION: 50% top\" background=images/topLine.gif align=right></TD></TR><TR><TD style=\" BACKGROUND-REPEAT: repeat-y; BACKGROUND-POSITION: right 50%\" vAlign=top background=images/rightBorder.gif><TABLE border=0 cellSpacing=0 cellPadding=0 width=\"100%\"><TBODY><TR><TD width=\"1%\" height=\"200\" vAlign=top>\n",
      "<table class='provincetable' width=775 ><tr ><td colspan=8  height=1 style='FONT-SIZE: 5px' >&nbsp;</td></tr>\n",
      "<tr class='provincehead'><td  colspan=8 align='center' style='FONT-SIZE: 16px' height=39 vAlign='center' background='images/tiao.jpg'>\n",
      "<strong>关于更新全国统计用区划代码和城乡划分代码的公告</strong></td>\n",
      "</tr>\t<tr >\n",
      "  <td colspan=8  height=50 style='FONT-SIZE: 12px' > 　　为更好满足2020年常规统计调查和专项调查的需要，国家统计局组织开展了2019年度统计用区划代码和城乡划分代码更新维护工作，调查时点为2019年10月31日。目前，已完成更新维护工作,现予公布。\n",
      "  <br> 　　2019年统计用区划代码和城乡划分代码依据国务院批复同意的《关于统计上划分城乡的规定》（国函〔2008〕60号）及国家统计局印发的《统计用区划代码和城乡划分代码编制规则》（国统字〔2009〕91号）编制。\n",
      "  <br> 　　此次发布内容为2019年全国统计用区划代码（12位）和城乡分类代码（3位），地域范围为国家统计局开展统计调查的全国31个省、自治区、直辖市，未包括我国台湾省、香港特别行政区、澳门特别行政区。\n",
      "  <br> 　　《关于统计上划分城乡的规定》指出：“本规定作为统计上划分城乡的依据，不改变现有的行政区划、隶属关系、管理权限和机构编制，以及土地规划、城乡规划等有关规定”。统计用区划代码和城乡划分代码，在统计工作中应当使用，需要在其他工作中使用时，请务必结合有关实际情况。\n",
      "  </td>\n",
      "</tr>\n",
      "<tr class='provincetr'><td><a href='11.html'>北京市<br/></a></td><td><a href='12.html'>天津市<br/></a></td><td><a href='13.html'>河北省<br/></a></td><td><a href='14.html'>山西省<br/></a></td><td><a href='15.html'>内蒙古自治区<br/></a></td><td><a href='21.html'>辽宁省<br/></a></td><td><a href='22.html'>吉林省<br/></a></td><td><a href='23.html'>黑龙江省<br/></a></td></tr>\n",
      "<tr class='provincetr'><td><a href='31.html'>上海市<br/></a></td><td><a href='32.html'>江苏省<br/></a></td><td><a href='33.html'>浙江省<br/></a></td><td><a href='34.html'>安徽省<br/></a></td><td><a href='35.html'>福建省<br/></a></td><td><a href='36.html'>江西省<br/></a></td><td><a href='37.html'>山东省<br/></a></td><td><a href='41.html'>河南省<br/></a></td></tr>\n",
      "<tr class='provincetr'><td><a href='42.html'>湖北省<br/></a></td><td><a href='43.html'>湖南省<br/></a></td><td><a href='44.html'>广东省<br/></a></td><td><a href='45.html'>广西壮族自治区<br/></a></td><td><a href='46.html'>海南省<br/></a></td><td><a href='50.html'>重庆市<br/></a></td><td><a href='51.html'>四川省<br/></a></td><td><a href='52.html'>贵州省<br/></a></td></tr>\n",
      "<tr class='provincetr'><td><a href='53.html'>云南省<br/></a></td><td><a href='54.html'>西藏自治区<br/></a></td><td><a href='61.html'>陕西省<br/></a></td><td><a href='62.html'>甘肃省<br/></a></td><td><a href='63.html'>青海省<br/></a></td><td><a href='64.html'>宁夏回族自治区<br/></a></td><td><a href='65.html'>新疆维吾尔自治区<br/></a></td><td><br/></td></tr>\n",
      "\n",
      "</table>\n",
      "</TD>\n",
      "</TR>\n",
      "</TBODY>\n",
      "</TABLE>\n",
      "</TD>\n",
      "</TR>\n",
      "<TR>\n",
      "<TD style=\"BACKGROUND-REPEAT: repeat-x; BACKGROUND-POSITION: 50% top\"          background=images/borderBottom.gif>\n",
      "</TD></TR></TBODY>\n",
      "</TABLE></TD></TR>  <TR>    <TD bgColor=#e2eefc height=2></TD></TR>  <TR>\n",
      "<TD class=STYLE3 height=60>\n",
      "<DIV align=center style=\"background-color:#1E67A7; height:75px; color:#fff;\"><br/>\n",
      "版权所有：国家统计局　　<A class=STYLE3       href=\"http://www.miibeian.gov.cn/\"       target=_blank>京ICP备05034670号</A><BR><BR>地址：北京市西城区月坛南街57号（100826）<BR></DIV></TD></TR></TBODY></TABLE></BODY></HTML>\n",
      "\n"
     ]
    }
   ],
   "source": [
    "# 第二次抓取\n",
    "\n",
    "import re\n",
    "import requests\n",
    "class demo():\n",
    "    def __init__(self):\n",
    "        try:\n",
    "            response=requests.get(\"http://www.stats.gov.cn/tjsj/tjbz/tjyqhdmhcxhfdm/2019/\")\n",
    "            response.encoding='gb2312' #编码转换\n",
    "            html=response.text #获取页面的html \n",
    "            print(html)\n",
    "        except:\n",
    "            print('出错了')\n",
    "if __name__ == '__main__':\n",
    "    demo()\n"
   ]
  },
  {
   "cell_type": "code",
   "execution_count": 10,
   "metadata": {},
   "outputs": [
    {
     "name": "stdout",
     "output_type": "stream",
     "text": [
      "北京市\n",
      "天津市\n",
      "河北省\n",
      "山西省\n",
      "内蒙古自治区\n",
      "辽宁省\n",
      "吉林省\n",
      "黑龙江省\n",
      "上海市\n",
      "江苏省\n",
      "浙江省\n",
      "安徽省\n",
      "福建省\n",
      "江西省\n",
      "山东省\n",
      "河南省\n",
      "湖北省\n",
      "湖南省\n",
      "广东省\n",
      "广西壮族自治区\n",
      "海南省\n",
      "重庆市\n",
      "四川省\n",
      "贵州省\n",
      "云南省\n",
      "西藏自治区\n",
      "陕西省\n",
      "甘肃省\n",
      "青海省\n",
      "宁夏回族自治区\n",
      "新疆维吾尔自治区\n"
     ]
    }
   ],
   "source": [
    "# 第三次\n",
    "import re\n",
    "import requests\n",
    "\n",
    "class demo():\n",
    "    def __init__(self):\n",
    "        try:\n",
    "            response=requests.get(\"http://www.stats.gov.cn/tjsj/tjbz/tjyqhdmhcxhfdm/2019/\")\n",
    "            response.encoding='gb2312' #编码转换\n",
    "            html=response.text #获取页面的html \n",
    "            provincelist=re.findall(r\"<td><a.*?>(.*?)<br/></a></td>\",html)\n",
    "            for p in provincelist:\n",
    "                print(p)\n",
    "        except:\n",
    "            print('出错了')\n",
    "\n",
    "if __name__ == '__main__':\n",
    "    demo()\n"
   ]
  },
  {
   "cell_type": "code",
   "execution_count": null,
   "metadata": {},
   "outputs": [],
   "source": [
    "<td><a href='11.html'>北京市<br/></a></td>           \n",
    "<td><a href='12.html'>天津市<br/></a></td>"
   ]
  },
  {
   "cell_type": "code",
   "execution_count": 11,
   "metadata": {},
   "outputs": [
    {
     "name": "stdout",
     "output_type": "stream",
     "text": [
      "110100000000\n",
      "市辖区\n",
      "120100000000\n",
      "市辖区\n",
      "130100000000\n",
      "石家庄市\n",
      "130200000000\n",
      "唐山市\n",
      "130300000000\n",
      "秦皇岛市\n",
      "130400000000\n",
      "邯郸市\n",
      "130500000000\n",
      "邢台市\n",
      "130600000000\n",
      "保定市\n",
      "130700000000\n",
      "张家口市\n",
      "130800000000\n",
      "承德市\n",
      "130900000000\n",
      "沧州市\n",
      "131000000000\n",
      "廊坊市\n",
      "131100000000\n",
      "衡水市\n",
      "140100000000\n",
      "太原市\n",
      "140200000000\n",
      "大同市\n",
      "140300000000\n",
      "阳泉市\n",
      "140400000000\n",
      "长治市\n",
      "140500000000\n",
      "晋城市\n",
      "140600000000\n",
      "朔州市\n",
      "140700000000\n",
      "晋中市\n",
      "140800000000\n",
      "运城市\n",
      "140900000000\n",
      "忻州市\n",
      "141000000000\n",
      "临汾市\n",
      "141100000000\n",
      "吕梁市\n",
      "150100000000\n",
      "呼和浩特市\n",
      "150200000000\n",
      "包头市\n",
      "150300000000\n",
      "乌海市\n",
      "150400000000\n",
      "赤峰市\n",
      "150500000000\n",
      "通辽市\n",
      "150600000000\n",
      "鄂尔多斯市\n",
      "150700000000\n",
      "呼伦贝尔市\n",
      "150800000000\n",
      "巴彦淖尔市\n",
      "150900000000\n",
      "乌兰察布市\n",
      "152200000000\n",
      "兴安盟\n",
      "152500000000\n",
      "锡林郭勒盟\n",
      "152900000000\n",
      "阿拉善盟\n",
      "210100000000\n",
      "沈阳市\n",
      "210200000000\n",
      "大连市\n",
      "210300000000\n",
      "鞍山市\n",
      "210400000000\n",
      "抚顺市\n",
      "210500000000\n",
      "本溪市\n",
      "210600000000\n",
      "丹东市\n",
      "210700000000\n",
      "锦州市\n",
      "210800000000\n",
      "营口市\n",
      "210900000000\n",
      "阜新市\n",
      "211000000000\n",
      "辽阳市\n",
      "211100000000\n",
      "盘锦市\n",
      "211200000000\n",
      "铁岭市\n",
      "211300000000\n",
      "朝阳市\n",
      "211400000000\n",
      "葫芦岛市\n",
      "220100000000\n",
      "长春市\n",
      "220200000000\n",
      "吉林市\n",
      "220300000000\n",
      "四平市\n",
      "220400000000\n",
      "辽源市\n",
      "220500000000\n",
      "通化市\n",
      "220600000000\n",
      "白山市\n",
      "220700000000\n",
      "松原市\n",
      "220800000000\n",
      "白城市\n",
      "222400000000\n",
      "延边朝鲜族自治州\n",
      "230100000000\n",
      "哈尔滨市\n",
      "230200000000\n",
      "齐齐哈尔市\n",
      "230300000000\n",
      "鸡西市\n",
      "230400000000\n",
      "鹤岗市\n",
      "230500000000\n",
      "双鸭山市\n",
      "230600000000\n",
      "大庆市\n",
      "230700000000\n",
      "伊春市\n",
      "230800000000\n",
      "佳木斯市\n",
      "230900000000\n",
      "七台河市\n",
      "231000000000\n",
      "牡丹江市\n",
      "231100000000\n",
      "黑河市\n",
      "231200000000\n",
      "绥化市\n",
      "232700000000\n",
      "大兴安岭地区\n",
      "310100000000\n",
      "市辖区\n",
      "320100000000\n",
      "南京市\n",
      "320200000000\n",
      "无锡市\n",
      "320300000000\n",
      "徐州市\n",
      "320400000000\n",
      "常州市\n",
      "320500000000\n",
      "苏州市\n",
      "320600000000\n",
      "南通市\n",
      "320700000000\n",
      "连云港市\n",
      "320800000000\n",
      "淮安市\n",
      "320900000000\n",
      "盐城市\n",
      "321000000000\n",
      "扬州市\n",
      "321100000000\n",
      "镇江市\n",
      "321200000000\n",
      "泰州市\n",
      "321300000000\n",
      "宿迁市\n",
      "330100000000\n",
      "杭州市\n",
      "330200000000\n",
      "宁波市\n",
      "330300000000\n",
      "温州市\n",
      "330400000000\n",
      "嘉兴市\n",
      "330500000000\n",
      "湖州市\n",
      "330600000000\n",
      "绍兴市\n",
      "330700000000\n",
      "金华市\n",
      "330800000000\n",
      "衢州市\n",
      "330900000000\n",
      "舟山市\n",
      "331000000000\n",
      "台州市\n",
      "331100000000\n",
      "丽水市\n",
      "340100000000\n",
      "合肥市\n",
      "340200000000\n",
      "芜湖市\n",
      "340300000000\n",
      "蚌埠市\n",
      "340400000000\n",
      "淮南市\n",
      "340500000000\n",
      "马鞍山市\n",
      "340600000000\n",
      "淮北市\n",
      "340700000000\n",
      "铜陵市\n",
      "340800000000\n",
      "安庆市\n",
      "341000000000\n",
      "黄山市\n",
      "341100000000\n",
      "滁州市\n",
      "341200000000\n",
      "阜阳市\n",
      "341300000000\n",
      "宿州市\n",
      "341500000000\n",
      "六安市\n",
      "341600000000\n",
      "亳州市\n",
      "341700000000\n",
      "池州市\n",
      "341800000000\n",
      "宣城市\n",
      "350100000000\n",
      "福州市\n",
      "350200000000\n",
      "厦门市\n",
      "350300000000\n",
      "莆田市\n",
      "350400000000\n",
      "三明市\n",
      "350500000000\n",
      "泉州市\n",
      "350600000000\n",
      "漳州市\n",
      "350700000000\n",
      "南平市\n",
      "350800000000\n",
      "龙岩市\n",
      "350900000000\n",
      "宁德市\n",
      "360100000000\n",
      "南昌市\n",
      "360200000000\n",
      "景德镇市\n",
      "360300000000\n",
      "萍乡市\n",
      "360400000000\n",
      "九江市\n",
      "360500000000\n",
      "新余市\n",
      "360600000000\n",
      "鹰潭市\n",
      "360700000000\n",
      "赣州市\n",
      "360800000000\n",
      "吉安市\n",
      "360900000000\n",
      "宜春市\n",
      "361000000000\n",
      "抚州市\n",
      "361100000000\n",
      "上饶市\n",
      "370100000000\n",
      "济南市\n",
      "370200000000\n",
      "青岛市\n",
      "370300000000\n",
      "淄博市\n",
      "370400000000\n",
      "枣庄市\n",
      "370500000000\n",
      "东营市\n",
      "370600000000\n",
      "烟台市\n",
      "370700000000\n",
      "潍坊市\n",
      "370800000000\n",
      "济宁市\n",
      "370900000000\n",
      "泰安市\n",
      "371000000000\n",
      "威海市\n",
      "371100000000\n",
      "日照市\n",
      "371300000000\n",
      "临沂市\n",
      "371400000000\n",
      "德州市\n",
      "371500000000\n",
      "聊城市\n",
      "371600000000\n",
      "滨州市\n",
      "371700000000\n",
      "菏泽市\n",
      "410100000000\n",
      "郑州市\n",
      "410200000000\n",
      "开封市\n",
      "410300000000\n",
      "洛阳市\n",
      "410400000000\n",
      "平顶山市\n",
      "410500000000\n",
      "安阳市\n",
      "410600000000\n",
      "鹤壁市\n",
      "410700000000\n",
      "新乡市\n",
      "410800000000\n",
      "焦作市\n",
      "410900000000\n",
      "濮阳市\n",
      "411000000000\n",
      "许昌市\n",
      "411100000000\n",
      "漯河市\n",
      "411200000000\n",
      "三门峡市\n",
      "411300000000\n",
      "南阳市\n",
      "411400000000\n",
      "商丘市\n",
      "411500000000\n",
      "信阳市\n",
      "411600000000\n",
      "周口市\n",
      "411700000000\n",
      "驻马店市\n",
      "419000000000\n",
      "省直辖县级行政区划\n",
      "420100000000\n",
      "武汉市\n",
      "420200000000\n",
      "黄石市\n",
      "420300000000\n",
      "十堰市\n",
      "420500000000\n",
      "宜昌市\n",
      "420600000000\n",
      "襄阳市\n",
      "420700000000\n",
      "鄂州市\n",
      "420800000000\n",
      "荆门市\n",
      "420900000000\n",
      "孝感市\n",
      "421000000000\n",
      "荆州市\n",
      "421100000000\n",
      "黄冈市\n",
      "421200000000\n",
      "咸宁市\n",
      "421300000000\n",
      "随州市\n",
      "422800000000\n",
      "恩施土家族苗族自治州\n",
      "429000000000\n",
      "省直辖县级行政区划\n",
      "430100000000\n",
      "长沙市\n",
      "430200000000\n",
      "株洲市\n",
      "430300000000\n",
      "湘潭市\n",
      "430400000000\n",
      "衡阳市\n",
      "430500000000\n",
      "邵阳市\n",
      "430600000000\n",
      "岳阳市\n",
      "430700000000\n",
      "常德市\n",
      "430800000000\n",
      "张家界市\n",
      "430900000000\n",
      "益阳市\n",
      "431000000000\n",
      "郴州市\n",
      "431100000000\n",
      "永州市\n",
      "431200000000\n",
      "怀化市\n",
      "431300000000\n",
      "娄底市\n",
      "433100000000\n",
      "湘西土家族苗族自治州\n",
      "440100000000\n",
      "广州市\n",
      "440200000000\n",
      "韶关市\n",
      "440300000000\n",
      "深圳市\n",
      "440400000000\n",
      "珠海市\n",
      "440500000000\n",
      "汕头市\n",
      "440600000000\n",
      "佛山市\n",
      "440700000000\n",
      "江门市\n",
      "440800000000\n",
      "湛江市\n",
      "440900000000\n",
      "茂名市\n",
      "441200000000\n",
      "肇庆市\n",
      "441300000000\n",
      "惠州市\n",
      "441400000000\n",
      "梅州市\n",
      "441500000000\n",
      "汕尾市\n",
      "441600000000\n",
      "河源市\n",
      "441700000000\n",
      "阳江市\n",
      "441800000000\n",
      "清远市\n",
      "441900000000\n",
      "东莞市\n",
      "442000000000\n",
      "中山市\n",
      "445100000000\n",
      "潮州市\n",
      "445200000000\n",
      "揭阳市\n",
      "445300000000\n",
      "云浮市\n",
      "450100000000\n",
      "南宁市\n",
      "450200000000\n",
      "柳州市\n",
      "450300000000\n",
      "桂林市\n",
      "450400000000\n",
      "梧州市\n",
      "450500000000\n",
      "北海市\n",
      "450600000000\n",
      "防城港市\n",
      "450700000000\n",
      "钦州市\n",
      "450800000000\n",
      "贵港市\n",
      "450900000000\n",
      "玉林市\n",
      "451000000000\n",
      "百色市\n",
      "451100000000\n",
      "贺州市\n",
      "451200000000\n",
      "河池市\n",
      "451300000000\n",
      "来宾市\n",
      "451400000000\n",
      "崇左市\n",
      "460100000000\n",
      "海口市\n",
      "460200000000\n",
      "三亚市\n",
      "460300000000\n",
      "三沙市\n",
      "460400000000\n",
      "儋州市\n",
      "469000000000\n",
      "省直辖县级行政区划\n",
      "500100000000\n",
      "市辖区\n",
      "500200000000\n",
      "县\n",
      "510100000000\n",
      "成都市\n",
      "510300000000\n",
      "自贡市\n",
      "510400000000\n",
      "攀枝花市\n",
      "510500000000\n",
      "泸州市\n",
      "510600000000\n",
      "德阳市\n",
      "510700000000\n",
      "绵阳市\n",
      "510800000000\n",
      "广元市\n",
      "510900000000\n",
      "遂宁市\n",
      "511000000000\n",
      "内江市\n",
      "511100000000\n",
      "乐山市\n",
      "511300000000\n",
      "南充市\n",
      "511400000000\n",
      "眉山市\n",
      "511500000000\n",
      "宜宾市\n",
      "511600000000\n",
      "广安市\n",
      "511700000000\n",
      "达州市\n",
      "511800000000\n",
      "雅安市\n",
      "511900000000\n",
      "巴中市\n",
      "512000000000\n",
      "资阳市\n",
      "513200000000\n",
      "阿坝藏族羌族自治州\n",
      "513300000000\n",
      "甘孜藏族自治州\n",
      "513400000000\n",
      "凉山彝族自治州\n",
      "520100000000\n",
      "贵阳市\n",
      "520200000000\n",
      "六盘水市\n",
      "520300000000\n",
      "遵义市\n",
      "520400000000\n",
      "安顺市\n",
      "520500000000\n",
      "毕节市\n",
      "520600000000\n",
      "铜仁市\n",
      "522300000000\n",
      "黔西南布依族苗族自治州\n",
      "522600000000\n",
      "黔东南苗族侗族自治州\n",
      "522700000000\n",
      "黔南布依族苗族自治州\n",
      "530100000000\n",
      "昆明市\n",
      "530300000000\n",
      "曲靖市\n",
      "530400000000\n",
      "玉溪市\n",
      "530500000000\n",
      "保山市\n",
      "530600000000\n",
      "昭通市\n",
      "530700000000\n",
      "丽江市\n",
      "530800000000\n",
      "普洱市\n",
      "530900000000\n",
      "临沧市\n",
      "532300000000\n",
      "楚雄彝族自治州\n",
      "532500000000\n",
      "红河哈尼族彝族自治州\n",
      "532600000000\n",
      "文山壮族苗族自治州\n",
      "532800000000\n",
      "西双版纳傣族自治州\n",
      "532900000000\n",
      "大理白族自治州\n",
      "533100000000\n",
      "德宏傣族景颇族自治州\n",
      "533300000000\n",
      "怒江傈僳族自治州\n",
      "533400000000\n",
      "迪庆藏族自治州\n",
      "540100000000\n",
      "拉萨市\n",
      "540200000000\n",
      "日喀则市\n",
      "540300000000\n",
      "昌都市\n",
      "540400000000\n",
      "林芝市\n",
      "540500000000\n",
      "山南市\n",
      "540600000000\n",
      "那曲市\n",
      "542500000000\n",
      "阿里地区\n",
      "610100000000\n",
      "西安市\n",
      "610200000000\n",
      "铜川市\n",
      "610300000000\n",
      "宝鸡市\n",
      "610400000000\n",
      "咸阳市\n",
      "610500000000\n",
      "渭南市\n",
      "610600000000\n",
      "延安市\n",
      "610700000000\n",
      "汉中市\n",
      "610800000000\n",
      "榆林市\n",
      "610900000000\n",
      "安康市\n",
      "611000000000\n",
      "商洛市\n",
      "620100000000\n",
      "兰州市\n",
      "620200000000\n",
      "嘉峪关市\n",
      "620300000000\n",
      "金昌市\n",
      "620400000000\n",
      "白银市\n",
      "620500000000\n",
      "天水市\n",
      "620600000000\n",
      "武威市\n",
      "620700000000\n",
      "张掖市\n",
      "620800000000\n",
      "平凉市\n",
      "620900000000\n",
      "酒泉市\n",
      "621000000000\n",
      "庆阳市\n",
      "621100000000\n",
      "定西市\n",
      "621200000000\n",
      "陇南市\n",
      "622900000000\n",
      "临夏回族自治州\n",
      "623000000000\n",
      "甘南藏族自治州\n",
      "630100000000\n",
      "西宁市\n",
      "630200000000\n",
      "海东市\n",
      "632200000000\n",
      "海北藏族自治州\n",
      "632300000000\n",
      "黄南藏族自治州\n",
      "632500000000\n",
      "海南藏族自治州\n",
      "632600000000\n",
      "果洛藏族自治州\n",
      "632700000000\n",
      "玉树藏族自治州\n",
      "632800000000\n",
      "海西蒙古族藏族自治州\n",
      "640100000000\n",
      "银川市\n",
      "640200000000\n",
      "石嘴山市\n",
      "640300000000\n",
      "吴忠市\n",
      "640400000000\n",
      "固原市\n",
      "640500000000\n",
      "中卫市\n",
      "650100000000\n",
      "乌鲁木齐市\n",
      "650200000000\n",
      "克拉玛依市\n",
      "650400000000\n",
      "吐鲁番市\n",
      "650500000000\n",
      "哈密市\n",
      "652300000000\n",
      "昌吉回族自治州\n",
      "652700000000\n",
      "博尔塔拉蒙古自治州\n",
      "652800000000\n",
      "巴音郭楞蒙古自治州\n",
      "652900000000\n",
      "阿克苏地区\n",
      "653000000000\n",
      "克孜勒苏柯尔克孜自治州\n",
      "653100000000\n",
      "喀什地区\n",
      "653200000000\n",
      "和田地区\n",
      "654000000000\n",
      "伊犁哈萨克自治州\n",
      "654200000000\n",
      "塔城地区\n",
      "654300000000\n",
      "阿勒泰地区\n",
      "659000000000\n",
      "自治区直辖县级行政区划\n"
     ]
    }
   ],
   "source": [
    "import re\n",
    "import requests\n",
    "import time\n",
    "\n",
    "class demo():\n",
    "    def __init__(self):\n",
    "        try:\n",
    "            base_url='http://www.stats.gov.cn/tjsj/tjbz/tjyqhdmhcxhfdm/2019/'\n",
    "            response=requests.get(base_url)\n",
    "            response.encoding='gb2312' #编码转换\n",
    "            html=response.text #获取页面的html \n",
    "            provincelist=re.findall(r\"<td><a.*?>(.*?)<br/></a></td>\",html)\n",
    "            provinceUrls=re.findall(r\"<td><a href='(.*?)'>.*?<br/></a></td>\",html)\n",
    "            #for p in provincelist:\n",
    "            # print(p)\n",
    "            for u in provinceUrls:\n",
    "                #print(u)\n",
    "                cityurl=base_url+u\n",
    "                res=requests.get(cityurl)\n",
    "                res.encoding='gb2312' #编码转换\n",
    "                reshtml=res.text #获取页面的html \n",
    "                citylist=re.findall(r\"<td><a.*?>(.*?)</a></td>\",reshtml)\n",
    "                for c in citylist:\n",
    "                    print(c)\n",
    "                time.sleep(0.5)    \n",
    "        except:\n",
    "            print('出错了')\n",
    "\n",
    "if __name__ == '__main__':\n",
    "    demo()"
   ]
  },
  {
   "cell_type": "code",
   "execution_count": null,
   "metadata": {},
   "outputs": [],
   "source": []
  }
 ],
 "metadata": {
  "hide_input": false,
  "kernelspec": {
   "display_name": "Python 3",
   "language": "python",
   "name": "python3"
  },
  "language_info": {
   "codemirror_mode": {
    "name": "ipython",
    "version": 3
   },
   "file_extension": ".py",
   "mimetype": "text/x-python",
   "name": "python",
   "nbconvert_exporter": "python",
   "pygments_lexer": "ipython3",
   "version": "3.7.3"
  },
  "toc": {
   "base_numbering": 1,
   "nav_menu": {},
   "number_sections": true,
   "sideBar": true,
   "skip_h1_title": false,
   "title_cell": "Table of Contents",
   "title_sidebar": "Contents",
   "toc_cell": false,
   "toc_position": {},
   "toc_section_display": true,
   "toc_window_display": false
  },
  "varInspector": {
   "cols": {
    "lenName": 16,
    "lenType": 16,
    "lenVar": 40
   },
   "kernels_config": {
    "python": {
     "delete_cmd_postfix": "",
     "delete_cmd_prefix": "del ",
     "library": "var_list.py",
     "varRefreshCmd": "print(var_dic_list())"
    },
    "r": {
     "delete_cmd_postfix": ") ",
     "delete_cmd_prefix": "rm(",
     "library": "var_list.r",
     "varRefreshCmd": "cat(var_dic_list()) "
    }
   },
   "types_to_exclude": [
    "module",
    "function",
    "builtin_function_or_method",
    "instance",
    "_Feature"
   ],
   "window_display": false
  }
 },
 "nbformat": 4,
 "nbformat_minor": 4
}
