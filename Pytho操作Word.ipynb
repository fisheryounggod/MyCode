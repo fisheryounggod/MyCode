{
 "cells": [
  {
   "cell_type": "markdown",
   "metadata": {},
   "source": [
    "# Pytho操作Word"
   ]
  },
  {
   "cell_type": "code",
   "execution_count": 2,
   "metadata": {},
   "outputs": [
    {
     "name": "stdout",
     "output_type": "stream",
     "text": [
      "Looking in indexes: https://pypi.tuna.tsinghua.edu.cn/simple\n",
      "Collecting python-docx\n",
      "  Downloading https://pypi.tuna.tsinghua.edu.cn/packages/e4/83/c66a1934ed5ed8ab1dbb9931f1779079f8bca0f6bbc5793c06c4b5e7d671/python-docx-0.8.10.tar.gz (5.5 MB)\n",
      "Requirement already satisfied: lxml>=2.3.2 in c:\\users\\mac\\appdata\\local\\programs\\python\\python38\\lib\\site-packages (from python-docx) (4.5.2)\n",
      "Using legacy 'setup.py install' for python-docx, since package 'wheel' is not installed.\n",
      "Installing collected packages: python-docx\n",
      "    Running setup.py install for python-docx: started\n",
      "    Running setup.py install for python-docx: finished with status 'done'\n",
      "Successfully installed python-docx-0.8.10\n",
      "Note: you may need to restart the kernel to use updated packages.\n"
     ]
    }
   ],
   "source": [
    "pip install python-docx"
   ]
  },
  {
   "cell_type": "code",
   "execution_count": 4,
   "metadata": {},
   "outputs": [],
   "source": [
    "from docx import Document"
   ]
  },
  {
   "cell_type": "code",
   "execution_count": 7,
   "metadata": {},
   "outputs": [],
   "source": [
    "#v建文档对象\n",
    "document = Document() "
   ]
  },
  {
   "cell_type": "markdown",
   "metadata": {},
   "source": [
    "## 标题头"
   ]
  },
  {
   "cell_type": "code",
   "execution_count": 9,
   "metadata": {},
   "outputs": [
    {
     "data": {
      "text/plain": [
       "<docx.text.paragraph.Paragraph at 0x1912f207880>"
      ]
     },
     "execution_count": 9,
     "metadata": {},
     "output_type": "execute_result"
    }
   ],
   "source": [
    "# 添加标题\n",
    "# document.add_heading(\"第一个标题\",level=0)\n",
    "document.add_heading(\"第二个标题\",level=1)\n",
    "document.add_heading(\"第三个标题\",level=2)"
   ]
  },
  {
   "cell_type": "code",
   "execution_count": 10,
   "metadata": {},
   "outputs": [],
   "source": [
    "#保存 word \n",
    "document.save (\"myword.docx\")"
   ]
  },
  {
   "cell_type": "markdown",
   "metadata": {},
   "source": [
    "## 段落文本"
   ]
  },
  {
   "cell_type": "code",
   "execution_count": null,
   "metadata": {},
   "outputs": [],
   "source": [
    "#文字段落\n",
    "\n",
    "p= document. Add_ parag raph（“我是第一段落起始语句！) #加粗\n",
    "\n",
    "padd_run（“加粗的咪哥杂谈'). BoLd=True p, add_run（普普通通的咪哥杂谈）#斜体\n",
    "\n",
    "p. Add_run ('斜体的咪哥杂谈）. Italic=True #新起一段落\n",
    "\n",
    "2= document. Ad_ paragraph（我是新起一行的段落！) #保存 ord 名字 byword  document. Save ('myword docx"
   ]
  },
  {
   "cell_type": "code",
   "execution_count": null,
   "metadata": {},
   "outputs": [],
   "source": []
  },
  {
   "cell_type": "code",
   "execution_count": null,
   "metadata": {},
   "outputs": [],
   "source": []
  },
  {
   "cell_type": "code",
   "execution_count": null,
   "metadata": {},
   "outputs": [],
   "source": []
  },
  {
   "cell_type": "markdown",
   "metadata": {},
   "source": [
    "## 总结"
   ]
  },
  {
   "cell_type": "code",
   "execution_count": null,
   "metadata": {},
   "outputs": [],
   "source": []
  },
  {
   "cell_type": "code",
   "execution_count": null,
   "metadata": {},
   "outputs": [],
   "source": [
    "# 关键字加粗、红色\n",
    "from docx import Document\n",
    "from docx.shared import RGBColor, Pt, Cm\n",
    "import os\n",
    "import glob\n",
    "mkdir_path = r'C:\\xxx\\new_dir)'\n",
    "if not os.path.exists(mkdir_path):\n",
    "    os.mkdir(mkdir_path)\n",
    "\n",
    "keyword = '资金'\n",
    "\n",
    "file_path = r'C:\\Users\\xxx'\n",
    "\n",
    "for file in glob.glob(file_path + '\\*.docx'):\n",
    "    docx = Document(file)\n",
    "for paragraph in docx.paragraphs:\n",
    "for run in paragraph.runs:\n",
    "if keyword in run.text:\n",
    "                run.font.bold = True\n",
    "                run.font.color.rgb = RGBColor(255, 0, 0)\n",
    "\n",
    "    docx.save(mkdir_path + '/' + os.path.basename(file))"
   ]
  }
 ],
 "metadata": {
  "hide_input": false,
  "kernelspec": {
   "display_name": "Python 3",
   "language": "python",
   "name": "python3"
  },
  "language_info": {
   "codemirror_mode": {
    "name": "ipython",
    "version": 3
   },
   "file_extension": ".py",
   "mimetype": "text/x-python",
   "name": "python",
   "nbconvert_exporter": "python",
   "pygments_lexer": "ipython3",
   "version": "3.7.3"
  },
  "toc": {
   "base_numbering": 1,
   "nav_menu": {},
   "number_sections": true,
   "sideBar": true,
   "skip_h1_title": false,
   "title_cell": "Table of Contents",
   "title_sidebar": "Contents",
   "toc_cell": false,
   "toc_position": {},
   "toc_section_display": true,
   "toc_window_display": false
  },
  "varInspector": {
   "cols": {
    "lenName": 16,
    "lenType": 16,
    "lenVar": 40
   },
   "kernels_config": {
    "python": {
     "delete_cmd_postfix": "",
     "delete_cmd_prefix": "del ",
     "library": "var_list.py",
     "varRefreshCmd": "print(var_dic_list())"
    },
    "r": {
     "delete_cmd_postfix": ") ",
     "delete_cmd_prefix": "rm(",
     "library": "var_list.r",
     "varRefreshCmd": "cat(var_dic_list()) "
    }
   },
   "types_to_exclude": [
    "module",
    "function",
    "builtin_function_or_method",
    "instance",
    "_Feature"
   ],
   "window_display": false
  }
 },
 "nbformat": 4,
 "nbformat_minor": 4
}
