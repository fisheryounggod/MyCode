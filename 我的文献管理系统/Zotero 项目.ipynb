{
 "cells": [
  {
   "cell_type": "markdown",
   "metadata": {},
   "source": [
    "## 项目用途"
   ]
  },
  {
   "cell_type": "markdown",
   "metadata": {},
   "source": [
    "> 提取 2020 年《经济研究》的文章标题、作者和摘要。"
   ]
  },
  {
   "cell_type": "markdown",
   "metadata": {},
   "source": [
    "## 项目思路"
   ]
  },
  {
   "cell_type": "markdown",
   "metadata": {},
   "source": [
    "1. 将《经济研究》对应的内容添加到 Zotero 相应的集合；\n",
    "2. 通过Pyzotero库对集合所有的文章进行遍历，提取信息存为列表；\n",
    "3. 将列表存为DataFrame，导出为 Excel\n"
   ]
  },
  {
   "cell_type": "code",
   "execution_count": null,
   "metadata": {},
   "outputs": [],
   "source": [
    "\n",
    "from pyzotero import zotero\n",
    "import pandas as pd\n",
    "\n",
    "library_id = '7419495'  # 填入自己的id\n",
    "library_type='user'  # 'user' or 'group'\n",
    "api_key='jLaZeMrvj5H09dt4I8EqjPtb'   #填入自己的api_key\n",
    "\n",
    "zot = zotero.Zotero(library_id, library_type, api_key)\n",
    "\n",
    "colls = zot.collections() # 所有集合名称\n",
    "\n",
    "# 选择待分析的集合\n",
    "for coll in colls:\n",
    "    if coll['data']['name'] == '经济研究':\n",
    "        KEY=coll.get('key')\n",
    "\n",
    "pyz = zot.collection_items(KEY) # 待分析集合的key\n",
    "\n",
    "# 存储标题、摘要和作者\n",
    "tittle = []\n",
    "abstract = []\n",
    "author = []\n",
    "for p in pyz:\n",
    "    try:\n",
    "        tittle.append(p['data']['title'])\n",
    "        abstract.append(p['data']['abstractNote'])\n",
    "        # 期刊中的公告无作者\n",
    "        author.append(p['meta']['creatorSummary'])\n",
    "    except:\n",
    "        # author.append(\"\")\n",
    "        pass\n",
    "\n",
    "# 写入DataFrame\n",
    "paper_info = {\n",
    "    \"tittle\": tittle,\n",
    "    \"author\": author,\n",
    "    \"abstract\": abstract\n",
    "}\n",
    "df = pd.DataFrame(paper_info)\n",
    "\n",
    "# 导出为Excel\n",
    "df.to_excel(\"经济研究_2020.xlsx\")"
   ]
  }
 ],
 "metadata": {
  "kernelspec": {
   "display_name": "Python 3",
   "language": "python",
   "name": "python3"
  },
  "language_info": {
   "codemirror_mode": {
    "name": "ipython",
    "version": 3
   },
   "file_extension": ".py",
   "mimetype": "text/x-python",
   "name": "python",
   "nbconvert_exporter": "python",
   "pygments_lexer": "ipython3",
   "version": "3.7.3"
  },
  "toc": {
   "base_numbering": 1,
   "nav_menu": {},
   "number_sections": true,
   "sideBar": true,
   "skip_h1_title": false,
   "title_cell": "Table of Contents",
   "title_sidebar": "Contents",
   "toc_cell": false,
   "toc_position": {},
   "toc_section_display": true,
   "toc_window_display": false
  },
  "varInspector": {
   "cols": {
    "lenName": 16,
    "lenType": 16,
    "lenVar": 40
   },
   "kernels_config": {
    "python": {
     "delete_cmd_postfix": "",
     "delete_cmd_prefix": "del ",
     "library": "var_list.py",
     "varRefreshCmd": "print(var_dic_list())"
    },
    "r": {
     "delete_cmd_postfix": ") ",
     "delete_cmd_prefix": "rm(",
     "library": "var_list.r",
     "varRefreshCmd": "cat(var_dic_list()) "
    }
   },
   "types_to_exclude": [
    "module",
    "function",
    "builtin_function_or_method",
    "instance",
    "_Feature"
   ],
   "window_display": false
  }
 },
 "nbformat": 4,
 "nbformat_minor": 4
}
