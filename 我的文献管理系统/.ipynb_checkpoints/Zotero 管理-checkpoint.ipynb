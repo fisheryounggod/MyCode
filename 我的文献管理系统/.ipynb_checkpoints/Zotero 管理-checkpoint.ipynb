{
 "cells": [
  {
   "cell_type": "code",
   "execution_count": null,
   "metadata": {},
   "outputs": [],
   "source": [
    "#%%\n",
    "from pyzotero import zotero\n",
    "\n",
    "library_id = '7419495'\n",
    "library_type='user'\n",
    "api_key='jLaZeMrvj5H09dt4I8EqjPtb'"
   ]
  },
  {
   "cell_type": "code",
   "execution_count": null,
   "metadata": {},
   "outputs": [],
   "source": [
    "zot = zotero.Zotero(library_id, library_type, api_key)"
   ]
  },
  {
   "cell_type": "code",
   "execution_count": null,
   "metadata": {},
   "outputs": [],
   "source": [
    "#%%\n",
    "items = zot.top(limit=5)\n",
    "# we've retrieved the latest five top-level items in our library\n",
    "# we can print each item's item type and ID\n",
    "for item in items:\n",
    "    print('item: %s | Key: %s' % (item['data']['itemType'], item['data']['key']))"
   ]
  },
  {
   "cell_type": "code",
   "execution_count": null,
   "metadata": {},
   "outputs": [],
   "source": [
    "# %%\n",
    "zot.key_info() # 查看用户信息"
   ]
  },
  {
   "cell_type": "code",
   "execution_count": null,
   "metadata": {},
   "outputs": [],
   "source": [
    "#%%  检索条目\n",
    "zot.count_items() # 返回库/组中所有项的计数"
   ]
  },
  {
   "cell_type": "code",
   "execution_count": null,
   "metadata": {},
   "outputs": [],
   "source": [
    "# %%\n",
    "zot.top(limit=10) # 返回顶级Zotero库项目"
   ]
  },
  {
   "cell_type": "code",
   "execution_count": null,
   "metadata": {},
   "outputs": [],
   "source": [
    "# %%\n",
    "zot.trash() # 回收站\n",
    "# %%\n",
    "zot.publications() # 我的出版物\n",
    "#%%\n",
    "zot.deleted(since='2021-01-01') # 我的删除项\n",
    "# %%\n",
    "\n",
    "#%%  检索文件\n",
    "\n",
    "zot.file('MAFXULED')\n",
    "\n",
    "# %% 去重\n",
    "\n",
    "# write a file to the current working directory using the stored filename\n",
    "zot.dump('BM8MZJBB')\n",
    "# write the same file to a different path, with a new name\n",
    "zot.dump('BM8MZJBB', 'article_1.pdf', '/home/beckett/pdfs')"
   ]
  },
  {
   "cell_type": "code",
   "execution_count": null,
   "metadata": {},
   "outputs": [],
   "source": [
    "#%% 检索集合\n",
    "zot.collections()\n",
    "zot.collections_top()\n",
    "\n",
    "# %%其他\n",
    "zot.tags() # 检索标签\n",
    "zot.item_versions() # 版本信息\n",
    "\n",
    "#%%\n",
    "items = zot.top(limit=1)\n",
    "#%%\n",
    "zot.follow()\n",
    "#%%\n",
    "zot.creator_fields()\n",
    "\n",
    "\n",
    "#%%\n",
    "zot.attachment_simple(files[, parentid])\n",
    "Zotero.attachment_both(files[, parentid])\n",
    ".delete_item(item[, last_modified])\n",
    ".delete_tags(tag_a[, tag …])\n",
    ".create_collections(dicts[, last_modified])"
   ]
  },
  {
   "cell_type": "code",
   "execution_count": null,
   "metadata": {},
   "outputs": [],
   "source": [
    "# %%\n",
    "使用案例\n",
    "2.1 项目用途\n",
    "提取 2020 年《经济研究》的文章标题、作者和摘要。\n",
    "\n",
    "2.2 项目思路\n",
    "将《经济研究》对应的内容添加到 Zotero 相应的集合；\n",
    "通过Pyzotero库对集合所有的文章进行遍历，提取信息存为列表；\n",
    "将列表存为DataFrame，导出为 Excel\n",
    "\n",
    "#%%\n",
    "from pyzotero import zotero\n",
    "import pandas as pd\n",
    "\n",
    "library_id = '7419495'  # 填入自己的id\n",
    "library_type='user'  # 'user' or 'group'\n",
    "api_key='jLaZeMrvj5H09dt4I8EqjPtb'   #填入自己的api_key\n",
    "\n",
    "zot = zotero.Zotero(library_id, library_type, api_key)\n",
    "\n",
    "colls = zot.collections() # 所有集合名称"
   ]
  },
  {
   "cell_type": "code",
   "execution_count": null,
   "metadata": {},
   "outputs": [],
   "source": [
    "# 选择待分析的集合\n",
    "for coll in colls:\n",
    "    if coll['data']['name'] == '经济研究':\n",
    "        KEY=coll.get('key')\n",
    "\n",
    "pyz = zot.collection_items(KEY) # 待分析集合的key\n",
    "\n",
    "# 存储标题、摘要和作者\n",
    "tittle = []\n",
    "abstract = []\n",
    "author = []\n",
    "for p in pyz:\n",
    "    try:\n",
    "        tittle.append(p['data']['title'])\n",
    "        abstract.append(p['data']['abstractNote'])\n",
    "        # 期刊中的公告无作者\n",
    "        author.append(p['meta']['creatorSummary'])\n",
    "    except:\n",
    "        # author.append(\"\")\n",
    "        pass"
   ]
  },
  {
   "cell_type": "code",
   "execution_count": null,
   "metadata": {},
   "outputs": [],
   "source": [
    "# 写入DataFrame\n",
    "paper_info = {\n",
    "    \"tittle\": tittle,\n",
    "    \"author\": author,\n",
    "    \"abstract\": abstract\n",
    "}\n",
    "df = pd.DataFrame(paper_info)\n",
    "\n",
    "# 导出为Excel\n",
    "df.to_excel(\"经济研究_2020.xlsx\")\n",
    "# %%\n",
    "dir(zot)\n",
    "# %%"
   ]
  },
  {
   "cell_type": "code",
   "execution_count": null,
   "metadata": {},
   "outputs": [],
   "source": [
    "dir(zot)"
   ]
  },
  {
   "cell_type": "code",
   "execution_count": null,
   "metadata": {},
   "outputs": [],
   "source": [
    "list-=[\n",
    " 'add_parameters',\n",
    " 'add_tags',\n",
    " 'addto_collection',\n",
    " 'all_collections',\n",
    " 'all_top',\n",
    " 'api_key',\n",
    " 'attachment_both',\n",
    " 'attachment_simple',\n",
    " 'backoff',\n",
    " 'backoff_duration',\n",
    " 'check_items',\n",
    " 'children',\n",
    " 'collection',\n",
    " 'collection_items',\n",
    " 'collection_items_top',\n",
    " 'collection_tags',\n",
    " 'collection_versions',\n",
    " 'collections',\n",
    " 'collections_sub',\n",
    " 'collections_top',\n",
    " 'content',\n",
    " 'count_items',\n",
    " 'create_collection',\n",
    " 'create_collections',\n",
    " 'create_items',\n",
    " 'creator_fields',\n",
    " 'default_headers',\n",
    " 'delete_collection',\n",
    " 'delete_item',\n",
    " 'delete_saved_search',\n",
    " 'delete_tags',\n",
    " 'deleted',\n",
    " 'deletefrom_collection',\n",
    " 'dump',\n",
    " 'endpoint',\n",
    " 'everything',\n",
    " 'file',\n",
    " 'fmt',\n",
    " 'follow',\n",
    " 'fulltext_item',\n",
    " 'get_subset',\n",
    " 'groups',\n",
    " 'item',\n",
    " 'item_attachment_link_modes',\n",
    " 'item_creator_types',\n",
    " 'item_fields',\n",
    " 'item_tags',\n",
    " 'item_template',\n",
    " 'item_type_fields',\n",
    " 'item_types',\n",
    " 'item_versions',\n",
    " 'items',\n",
    " 'iterfollow',\n",
    " 'key_info',\n",
    " 'last_modified_version',\n",
    " 'library_id',\n",
    " 'library_type',\n",
    " 'links',\n",
    " 'locale',\n",
    " 'makeiter',\n",
    " 'new_fulltext',\n",
    " 'num_collectionitems',\n",
    " 'num_items',\n",
    " 'preserve_json_order',\n",
    " 'processors',\n",
    " 'publications',\n",
    " 'request',\n",
    " 'saved_search',\n",
    " 'savedsearch',\n",
    " 'searches',\n",
    " 'self_link',\n",
    " 'set_fulltext',\n",
    " 'show_condition_operators',\n",
    " 'show_conditions',\n",
    " 'show_operators',\n",
    " 'snapshot',\n",
    " 'tag_data',\n",
    " 'tags',\n",
    " 'temp_keys',\n",
    " 'templates',\n",
    " 'top',\n",
    " 'trash',\n",
    " 'update_collection',\n",
    " 'update_collections',\n",
    " 'update_item',\n",
    " 'update_items',\n",
    " 'upload_attachments',\n",
    " 'url_params']"
   ]
  },
  {
   "cell_type": "code",
   "execution_count": null,
   "metadata": {},
   "outputs": [],
   "source": []
  }
 ],
 "metadata": {
  "kernelspec": {
   "display_name": "Python 3",
   "language": "python",
   "name": "python3"
  },
  "language_info": {
   "codemirror_mode": {
    "name": "ipython",
    "version": 3
   },
   "file_extension": ".py",
   "mimetype": "text/x-python",
   "name": "python",
   "nbconvert_exporter": "python",
   "pygments_lexer": "ipython3",
   "version": "3.7.3"
  },
  "toc": {
   "base_numbering": 1,
   "nav_menu": {},
   "number_sections": true,
   "sideBar": true,
   "skip_h1_title": false,
   "title_cell": "Table of Contents",
   "title_sidebar": "Contents",
   "toc_cell": false,
   "toc_position": {},
   "toc_section_display": true,
   "toc_window_display": false
  },
  "varInspector": {
   "cols": {
    "lenName": 16,
    "lenType": 16,
    "lenVar": 40
   },
   "kernels_config": {
    "python": {
     "delete_cmd_postfix": "",
     "delete_cmd_prefix": "del ",
     "library": "var_list.py",
     "varRefreshCmd": "print(var_dic_list())"
    },
    "r": {
     "delete_cmd_postfix": ") ",
     "delete_cmd_prefix": "rm(",
     "library": "var_list.r",
     "varRefreshCmd": "cat(var_dic_list()) "
    }
   },
   "types_to_exclude": [
    "module",
    "function",
    "builtin_function_or_method",
    "instance",
    "_Feature"
   ],
   "window_display": false
  }
 },
 "nbformat": 4,
 "nbformat_minor": 4
}
