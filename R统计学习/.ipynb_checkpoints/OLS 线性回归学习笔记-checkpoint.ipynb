{
 "cells": [
  {
   "cell_type": "markdown",
   "metadata": {},
   "source": [
    "# statamodels OLS 线性回归学习笔记"
   ]
  },
  {
   "cell_type": "code",
   "execution_count": 1,
   "metadata": {},
   "outputs": [
    {
     "name": "stdout",
     "output_type": "stream",
     "text": [
      "IPyStata is loaded in batch mode.\n"
     ]
    }
   ],
   "source": [
    "import ipystata\n",
    "import numpy as np\n",
    "import matplotlib.pyplot as plt\n",
    "import statsmodels.api as sm"
   ]
  },
  {
   "cell_type": "markdown",
   "metadata": {},
   "source": [
    "## OLS 回归\n",
    "- statsmodels.OLS 的输入有 (endog, exog, missing, hasconst) \n",
    "- 往往输入的数据中，没有专门的数值全为1的一列，Statmodels 有直接解决这个问题的函数：sm.add_constant()。它会在一个 array 左侧加上一列 1\n",
    "- statsmodels.OLS 是 statsmodels.regression.linear_model 里的一个函数（从这个命名也能看出，statsmodel 有很多很多功能，其中的一项叫回归）。它的输出结果是一个 statsmodels.regression.linear_model.OLS，只是一个类，并没有进行任何运算。\n",
    "- 在 OLS 的模型之上调用拟合函数 fit()，才进行回归运算，并且得到 statsmodels.regression.linear_model.RegressionResultsWrapper，它包含了这组数据进行回归拟合的结果摘要。调用 params 可以查看计算出的回归系数 b0,b1,…,bn 。"
   ]
  },
  {
   "cell_type": "code",
   "execution_count": 2,
   "metadata": {},
   "outputs": [
    {
     "name": "stdout",
     "output_type": "stream",
     "text": [
      "[ 0.85586701 10.02073759]\n"
     ]
    }
   ],
   "source": [
    "nsample = 100\n",
    "x = np.linspace(0, 10, nsample)\n",
    "\n",
    "X = sm.add_constant(x)                   # 使用 sm.add_constant() 在 array 上加入一列常项1。\n",
    "X[:10]\n",
    "\n",
    "beta = np.array([1, 10])                 # 设置模型里的 β0,β1，。。。\n",
    "beta\n",
    "\n",
    "e = np.random.normal(size=nsample)       # 误差项\n",
    "e\n",
    "\n",
    "y = np.dot(X, beta) + e                  # 反应项\n",
    "\n",
    "model = sm.OLS(y,X)                      # 在反应变量和回归变量上使用 OLS() 函数\n",
    "\n",
    "results = model.fit()                    # 获取拟合结果\n",
    "\n",
    "print(results.params)                    # 调取计算出的回归系数"
   ]
  },
  {
   "cell_type": "code",
   "execution_count": 3,
   "metadata": {},
   "outputs": [
    {
     "name": "stdout",
     "output_type": "stream",
     "text": [
      "                            OLS Regression Results                            \n",
      "==============================================================================\n",
      "Dep. Variable:                      y   R-squared:                       0.999\n",
      "Model:                            OLS   Adj. R-squared:                  0.999\n",
      "Method:                 Least Squares   F-statistic:                 8.975e+04\n",
      "Date:                Thu, 06 Feb 2020   Prob (F-statistic):          5.67e-147\n",
      "Time:                        17:17:36   Log-Likelihood:                -138.38\n",
      "No. Observations:                 100   AIC:                             280.8\n",
      "Df Residuals:                      98   BIC:                             286.0\n",
      "Df Model:                           1                                         \n",
      "Covariance Type:            nonrobust                                         \n",
      "==============================================================================\n",
      "                 coef    std err          t      P>|t|      [0.025      0.975]\n",
      "------------------------------------------------------------------------------\n",
      "const          0.8559      0.194      4.421      0.000       0.472       1.240\n",
      "x1            10.0207      0.033    299.585      0.000       9.954      10.087\n",
      "==============================================================================\n",
      "Omnibus:                        0.914   Durbin-Watson:                   2.217\n",
      "Prob(Omnibus):                  0.633   Jarque-Bera (JB):                0.951\n",
      "Skew:                           0.102   Prob(JB):                        0.622\n",
      "Kurtosis:                       2.568   Cond. No.                         11.7\n",
      "==============================================================================\n",
      "\n",
      "Warnings:\n",
      "[1] Standard Errors assume that the covariance matrix of the errors is correctly specified.\n"
     ]
    }
   ],
   "source": [
    "print(results.summary())                # 将回归拟合的摘要全部打印出"
   ]
  },
  {
   "cell_type": "markdown",
   "metadata": {},
   "source": [
    "## 拟合效果画图展示"
   ]
  },
  {
   "cell_type": "code",
   "execution_count": 4,
   "metadata": {},
   "outputs": [
    {
     "data": {
      "text/plain": [
       "(-0.05, 2, -1, 25)"
      ]
     },
     "execution_count": 4,
     "metadata": {},
     "output_type": "execute_result"
    },
    {
     "data": {
      "image/png": "[encoded data removed]",
      "text/plain": [
       "<Figure size 576x432 with 1 Axes>"
      ]
     },
     "metadata": {
      "needs_background": "light"
     },
     "output_type": "display_data"
    }
   ],
   "source": [
    "y_fitted = results.fittedvalues\n",
    "\n",
    "fig, ax = plt.subplots(figsize=(8,6))      # 设定图轴，图片大小为8×6 \n",
    "\n",
    "ax.plot(x, y, 'o', label='data')           # 画出原数据，图像为圆点，默认颜色为蓝。\n",
    "\n",
    "ax.plot(x, y_fitted, 'r--.',label='OLS')   # 画出拟合数据，图像为红色带点间断线。\n",
    "\n",
    "ax.legend(loc='best')                       # 注解\n",
    "\n",
    "ax.axis((-0.05, 2, -1, 25))                # 在 0到 2的区间放大一下"
   ]
  },
  {
   "cell_type": "code",
   "execution_count": 5,
   "metadata": {
    "scrolled": true
   },
   "outputs": [
    {
     "data": {
      "text/plain": [
       "['HC0_se',\n",
       " 'HC1_se',\n",
       " 'HC2_se',\n",
       " 'HC3_se',\n",
       " '_HCCM',\n",
       " '__class__',\n",
       " '__delattr__',\n",
       " '__dict__',\n",
       " '__dir__',\n",
       " '__doc__',\n",
       " '__eq__',\n",
       " '__format__',\n",
       " '__ge__',\n",
       " '__getattribute__',\n",
       " '__gt__',\n",
       " '__hash__',\n",
       " '__init__',\n",
       " '__init_subclass__',\n",
       " '__le__',\n",
       " '__lt__',\n",
       " '__module__',\n",
       " '__ne__',\n",
       " '__new__',\n",
       " '__reduce__',\n",
       " '__reduce_ex__',\n",
       " '__repr__',\n",
       " '__setattr__',\n",
       " '__sizeof__',\n",
       " '__str__',\n",
       " '__subclasshook__',\n",
       " '__weakref__',\n",
       " '_cache',\n",
       " '_data_attr',\n",
       " '_get_robustcov_results',\n",
       " '_is_nested',\n",
       " '_use_t',\n",
       " '_wexog_singular_values',\n",
       " 'aic',\n",
       " 'bic',\n",
       " 'bse',\n",
       " 'centered_tss',\n",
       " 'compare_f_test',\n",
       " 'compare_lm_test',\n",
       " 'compare_lr_test',\n",
       " 'condition_number',\n",
       " 'conf_int',\n",
       " 'conf_int_el',\n",
       " 'cov_HC0',\n",
       " 'cov_HC1',\n",
       " 'cov_HC2',\n",
       " 'cov_HC3',\n",
       " 'cov_kwds',\n",
       " 'cov_params',\n",
       " 'cov_type',\n",
       " 'df_model',\n",
       " 'df_resid',\n",
       " 'diagn',\n",
       " 'eigenvals',\n",
       " 'el_test',\n",
       " 'ess',\n",
       " 'f_pvalue',\n",
       " 'f_test',\n",
       " 'fittedvalues',\n",
       " 'fvalue',\n",
       " 'get_influence',\n",
       " 'get_prediction',\n",
       " 'get_robustcov_results',\n",
       " 'initialize',\n",
       " 'k_constant',\n",
       " 'llf',\n",
       " 'load',\n",
       " 'model',\n",
       " 'mse_model',\n",
       " 'mse_resid',\n",
       " 'mse_total',\n",
       " 'nobs',\n",
       " 'normalized_cov_params',\n",
       " 'outlier_test',\n",
       " 'params',\n",
       " 'predict',\n",
       " 'pvalues',\n",
       " 'remove_data',\n",
       " 'resid',\n",
       " 'resid_pearson',\n",
       " 'rsquared',\n",
       " 'rsquared_adj',\n",
       " 'save',\n",
       " 'scale',\n",
       " 'ssr',\n",
       " 'summary',\n",
       " 'summary2',\n",
       " 't_test',\n",
       " 't_test_pairwise',\n",
       " 'tvalues',\n",
       " 'uncentered_tss',\n",
       " 'use_t',\n",
       " 'wald_test',\n",
       " 'wald_test_terms',\n",
       " 'wresid']"
      ]
     },
     "execution_count": 5,
     "metadata": {},
     "output_type": "execute_result"
    }
   ],
   "source": [
    "dir(results)"
   ]
  },
  {
   "cell_type": "code",
   "execution_count": 12,
   "metadata": {},
   "outputs": [
    {
     "data": {
      "text/plain": [
       "1.0"
      ]
     },
     "execution_count": 12,
     "metadata": {},
     "output_type": "execute_result"
    }
   ],
   "source": [
    "results.df_model"
   ]
  },
  {
   "cell_type": "markdown",
   "metadata": {},
   "source": [
    "## 弹簧—质量 系统"
   ]
  },
  {
   "cell_type": "code",
   "execution_count": 106,
   "metadata": {},
   "outputs": [
    {
     "data": {
      "application/javascript": [
       "\n",
       "        if (window._pyforest_update_imports_cell) { window._pyforest_update_imports_cell('import pandas as pd'); }\n",
       "    "
      ],
      "text/plain": [
       "<IPython.core.display.Javascript object>"
      ]
     },
     "metadata": {},
     "output_type": "display_data"
    },
    {
     "data": {
      "text/html": [
       "<div>\n",
       "<style scoped>\n",
       "    .dataframe tbody tr th:only-of-type {\n",
       "        vertical-align: middle;\n",
       "    }\n",
       "\n",
       "    .dataframe tbody tr th {\n",
       "        vertical-align: top;\n",
       "    }\n",
       "\n",
       "    .dataframe thead th {\n",
       "        text-align: right;\n",
       "    }\n",
       "</style>\n",
       "<table border=\"1\" class=\"dataframe\">\n",
       "  <thead>\n",
       "    <tr style=\"text-align: right;\">\n",
       "      <th></th>\n",
       "      <th>质量</th>\n",
       "      <th>伸长</th>\n",
       "    </tr>\n",
       "  </thead>\n",
       "  <tbody>\n",
       "    <tr>\n",
       "      <th>0</th>\n",
       "      <td>50</td>\n",
       "      <td>1.000</td>\n",
       "    </tr>\n",
       "    <tr>\n",
       "      <th>1</th>\n",
       "      <td>100</td>\n",
       "      <td>1.875</td>\n",
       "    </tr>\n",
       "    <tr>\n",
       "      <th>2</th>\n",
       "      <td>150</td>\n",
       "      <td>2.750</td>\n",
       "    </tr>\n",
       "    <tr>\n",
       "      <th>3</th>\n",
       "      <td>200</td>\n",
       "      <td>3.250</td>\n",
       "    </tr>\n",
       "    <tr>\n",
       "      <th>4</th>\n",
       "      <td>250</td>\n",
       "      <td>4.375</td>\n",
       "    </tr>\n",
       "    <tr>\n",
       "      <th>5</th>\n",
       "      <td>300</td>\n",
       "      <td>4.875</td>\n",
       "    </tr>\n",
       "    <tr>\n",
       "      <th>6</th>\n",
       "      <td>350</td>\n",
       "      <td>5.675</td>\n",
       "    </tr>\n",
       "    <tr>\n",
       "      <th>7</th>\n",
       "      <td>400</td>\n",
       "      <td>6.500</td>\n",
       "    </tr>\n",
       "    <tr>\n",
       "      <th>8</th>\n",
       "      <td>450</td>\n",
       "      <td>7.250</td>\n",
       "    </tr>\n",
       "    <tr>\n",
       "      <th>9</th>\n",
       "      <td>500</td>\n",
       "      <td>8.000</td>\n",
       "    </tr>\n",
       "    <tr>\n",
       "      <th>10</th>\n",
       "      <td>550</td>\n",
       "      <td>8.750</td>\n",
       "    </tr>\n",
       "  </tbody>\n",
       "</table>\n",
       "</div>"
      ],
      "text/plain": [
       "     质量     伸长\n",
       "0    50  1.000\n",
       "1   100  1.875\n",
       "2   150  2.750\n",
       "3   200  3.250\n",
       "4   250  4.375\n",
       "5   300  4.875\n",
       "6   350  5.675\n",
       "7   400  6.500\n",
       "8   450  7.250\n",
       "9   500  8.000\n",
       "10  550  8.750"
      ]
     },
     "execution_count": 106,
     "metadata": {},
     "output_type": "execute_result"
    }
   ],
   "source": [
    "df1 = pd.DataFrame({\"质量\":np.arange(50,600,50),\n",
    "                   \"伸长\":[1.000,1.875,2.750,3.250,4.375,4.875,5.675,6.500,7.250,8.000,8.750]})\n",
    "df1"
   ]
  },
  {
   "cell_type": "code",
   "execution_count": 107,
   "metadata": {},
   "outputs": [
    {
     "data": {
      "text/html": [
       "<div>\n",
       "<style scoped>\n",
       "    .dataframe tbody tr th:only-of-type {\n",
       "        vertical-align: middle;\n",
       "    }\n",
       "\n",
       "    .dataframe tbody tr th {\n",
       "        vertical-align: top;\n",
       "    }\n",
       "\n",
       "    .dataframe thead th {\n",
       "        text-align: right;\n",
       "    }\n",
       "</style>\n",
       "<table border=\"1\" class=\"dataframe\">\n",
       "  <thead>\n",
       "    <tr style=\"text-align: right;\">\n",
       "      <th></th>\n",
       "      <th>x</th>\n",
       "      <th>y</th>\n",
       "    </tr>\n",
       "  </thead>\n",
       "  <tbody>\n",
       "    <tr>\n",
       "      <th>0</th>\n",
       "      <td>50</td>\n",
       "      <td>1.000</td>\n",
       "    </tr>\n",
       "    <tr>\n",
       "      <th>1</th>\n",
       "      <td>100</td>\n",
       "      <td>1.875</td>\n",
       "    </tr>\n",
       "    <tr>\n",
       "      <th>2</th>\n",
       "      <td>150</td>\n",
       "      <td>2.750</td>\n",
       "    </tr>\n",
       "    <tr>\n",
       "      <th>3</th>\n",
       "      <td>200</td>\n",
       "      <td>3.250</td>\n",
       "    </tr>\n",
       "    <tr>\n",
       "      <th>4</th>\n",
       "      <td>250</td>\n",
       "      <td>4.375</td>\n",
       "    </tr>\n",
       "    <tr>\n",
       "      <th>5</th>\n",
       "      <td>300</td>\n",
       "      <td>4.875</td>\n",
       "    </tr>\n",
       "    <tr>\n",
       "      <th>6</th>\n",
       "      <td>350</td>\n",
       "      <td>5.675</td>\n",
       "    </tr>\n",
       "    <tr>\n",
       "      <th>7</th>\n",
       "      <td>400</td>\n",
       "      <td>6.500</td>\n",
       "    </tr>\n",
       "    <tr>\n",
       "      <th>8</th>\n",
       "      <td>450</td>\n",
       "      <td>7.250</td>\n",
       "    </tr>\n",
       "    <tr>\n",
       "      <th>9</th>\n",
       "      <td>500</td>\n",
       "      <td>8.000</td>\n",
       "    </tr>\n",
       "    <tr>\n",
       "      <th>10</th>\n",
       "      <td>550</td>\n",
       "      <td>8.750</td>\n",
       "    </tr>\n",
       "  </tbody>\n",
       "</table>\n",
       "</div>"
      ],
      "text/plain": [
       "      x      y\n",
       "0    50  1.000\n",
       "1   100  1.875\n",
       "2   150  2.750\n",
       "3   200  3.250\n",
       "4   250  4.375\n",
       "5   300  4.875\n",
       "6   350  5.675\n",
       "7   400  6.500\n",
       "8   450  7.250\n",
       "9   500  8.000\n",
       "10  550  8.750"
      ]
     },
     "execution_count": 107,
     "metadata": {},
     "output_type": "execute_result"
    }
   ],
   "source": [
    "df = df1.rename({\"伸长\":\"y\",\"质量\":\"x\"},axis='columns')\n",
    "df"
   ]
  },
  {
   "cell_type": "code",
   "execution_count": 108,
   "metadata": {},
   "outputs": [],
   "source": [
    "# 一元线性回归\n",
    "x = df.x\n",
    "\n",
    "X = sm.add_constant(x)\n",
    "\n",
    "y = df.y\n",
    "\n",
    "model = sm.OLS(y,X)        # statsmodels.regression.linear_model.OLS，只是一个类，并没有进行任何运算。\n",
    "\n",
    "results = model.fit()"
   ]
  },
  {
   "cell_type": "code",
   "execution_count": 52,
   "metadata": {
    "collapsed": true
   },
   "outputs": [
    {
     "name": "stdout",
     "output_type": "stream",
     "text": [
      "const    0.324545\n",
      "x        0.015373\n",
      "dtype: float64\n",
      "                            OLS Regression Results                            \n",
      "==============================================================================\n",
      "Dep. Variable:                      y   R-squared:                       0.999\n",
      "Model:                            OLS   Adj. R-squared:                  0.998\n",
      "Method:                 Least Squares   F-statistic:                     6173.\n",
      "Date:                Wed, 05 Feb 2020   Prob (F-statistic):           4.44e-14\n",
      "Time:                        14:31:11   Log-Likelihood:                 10.541\n",
      "No. Observations:                  11   AIC:                            -17.08\n",
      "Df Residuals:                       9   BIC:                            -16.29\n",
      "Df Model:                           1                                         \n",
      "Covariance Type:            nonrobust                                         \n",
      "==============================================================================\n",
      "                 coef    std err          t      P>|t|      [0.025      0.975]\n",
      "------------------------------------------------------------------------------\n",
      "const          0.3245      0.066      4.891      0.001       0.174       0.475\n",
      "x              0.0154      0.000     78.569      0.000       0.015       0.016\n",
      "==============================================================================\n",
      "Omnibus:                        2.733   Durbin-Watson:                   3.157\n",
      "Prob(Omnibus):                  0.255   Jarque-Bera (JB):                0.943\n",
      "Skew:                           0.708   Prob(JB):                        0.624\n",
      "Kurtosis:                       3.229   Cond. No.                         727.\n",
      "==============================================================================\n",
      "\n",
      "Warnings:\n",
      "[1] Standard Errors assume that the covariance matrix of the errors is correctly specified.\n"
     ]
    },
    {
     "name": "stderr",
     "output_type": "stream",
     "text": [
      "/Users/mac/.pyenv/versions/3.7.3/lib/python3.7/site-packages/scipy/stats/stats.py:1535: UserWarning: kurtosistest only valid for n>=20 ... continuing anyway, n=11\n",
      "  \"anyway, n=%i\" % int(n))\n"
     ]
    }
   ],
   "source": [
    "print(results.params)\n",
    "\n",
    "print(results.summary())"
   ]
  },
  {
   "cell_type": "markdown",
   "metadata": {},
   "source": [
    "## 更多数据实验"
   ]
  },
  {
   "cell_type": "code",
   "execution_count": null,
   "metadata": {},
   "outputs": [],
   "source": [
    "# 导入stata 实例数据到df\n",
    "import ipystata"
   ]
  },
  {
   "cell_type": "code",
   "execution_count": 63,
   "metadata": {},
   "outputs": [
    {
     "name": "stdout",
     "output_type": "stream",
     "text": [
      "\n",
      "(1978 Automobile Data)\n"
     ]
    }
   ],
   "source": [
    "%%stata -o df\n",
    "sysuse auto,clear"
   ]
  },
  {
   "cell_type": "code",
   "execution_count": 94,
   "metadata": {
    "scrolled": false
   },
   "outputs": [
    {
     "data": {
      "text/html": [
       "<div>\n",
       "<style scoped>\n",
       "    .dataframe tbody tr th:only-of-type {\n",
       "        vertical-align: middle;\n",
       "    }\n",
       "\n",
       "    .dataframe tbody tr th {\n",
       "        vertical-align: top;\n",
       "    }\n",
       "\n",
       "    .dataframe thead th {\n",
       "        text-align: right;\n",
       "    }\n",
       "</style>\n",
       "<table border=\"1\" class=\"dataframe\">\n",
       "  <thead>\n",
       "    <tr style=\"text-align: right;\">\n",
       "      <th></th>\n",
       "      <th>price</th>\n",
       "      <th>mpg</th>\n",
       "      <th>rep78</th>\n",
       "      <th>headroom</th>\n",
       "      <th>trunk</th>\n",
       "      <th>weight</th>\n",
       "      <th>length</th>\n",
       "      <th>turn</th>\n",
       "      <th>displacement</th>\n",
       "      <th>gear_ratio</th>\n",
       "    </tr>\n",
       "  </thead>\n",
       "  <tbody>\n",
       "    <tr>\n",
       "      <th>count</th>\n",
       "      <td>74.000000</td>\n",
       "      <td>74.000000</td>\n",
       "      <td>69.000000</td>\n",
       "      <td>74.000000</td>\n",
       "      <td>74.000000</td>\n",
       "      <td>74.000000</td>\n",
       "      <td>74.000000</td>\n",
       "      <td>74.000000</td>\n",
       "      <td>74.000000</td>\n",
       "      <td>74.000000</td>\n",
       "    </tr>\n",
       "    <tr>\n",
       "      <th>mean</th>\n",
       "      <td>6165.256757</td>\n",
       "      <td>21.297297</td>\n",
       "      <td>3.405797</td>\n",
       "      <td>2.993243</td>\n",
       "      <td>13.756757</td>\n",
       "      <td>3019.459459</td>\n",
       "      <td>187.932432</td>\n",
       "      <td>39.648649</td>\n",
       "      <td>197.297297</td>\n",
       "      <td>3.014865</td>\n",
       "    </tr>\n",
       "    <tr>\n",
       "      <th>std</th>\n",
       "      <td>2949.495885</td>\n",
       "      <td>5.785503</td>\n",
       "      <td>0.989932</td>\n",
       "      <td>0.845995</td>\n",
       "      <td>4.277404</td>\n",
       "      <td>777.193567</td>\n",
       "      <td>22.266340</td>\n",
       "      <td>4.399354</td>\n",
       "      <td>91.837219</td>\n",
       "      <td>0.456287</td>\n",
       "    </tr>\n",
       "    <tr>\n",
       "      <th>min</th>\n",
       "      <td>3291.000000</td>\n",
       "      <td>12.000000</td>\n",
       "      <td>1.000000</td>\n",
       "      <td>1.500000</td>\n",
       "      <td>5.000000</td>\n",
       "      <td>1760.000000</td>\n",
       "      <td>142.000000</td>\n",
       "      <td>31.000000</td>\n",
       "      <td>79.000000</td>\n",
       "      <td>2.190000</td>\n",
       "    </tr>\n",
       "    <tr>\n",
       "      <th>25%</th>\n",
       "      <td>4220.250000</td>\n",
       "      <td>18.000000</td>\n",
       "      <td>3.000000</td>\n",
       "      <td>2.500000</td>\n",
       "      <td>10.250000</td>\n",
       "      <td>2250.000000</td>\n",
       "      <td>170.000000</td>\n",
       "      <td>36.000000</td>\n",
       "      <td>119.000000</td>\n",
       "      <td>2.730000</td>\n",
       "    </tr>\n",
       "    <tr>\n",
       "      <th>50%</th>\n",
       "      <td>5006.500000</td>\n",
       "      <td>20.000000</td>\n",
       "      <td>3.000000</td>\n",
       "      <td>3.000000</td>\n",
       "      <td>14.000000</td>\n",
       "      <td>3190.000000</td>\n",
       "      <td>192.500000</td>\n",
       "      <td>40.000000</td>\n",
       "      <td>196.000000</td>\n",
       "      <td>2.955000</td>\n",
       "    </tr>\n",
       "    <tr>\n",
       "      <th>75%</th>\n",
       "      <td>6332.250000</td>\n",
       "      <td>24.750000</td>\n",
       "      <td>4.000000</td>\n",
       "      <td>3.500000</td>\n",
       "      <td>16.750000</td>\n",
       "      <td>3600.000000</td>\n",
       "      <td>203.750000</td>\n",
       "      <td>43.000000</td>\n",
       "      <td>245.250000</td>\n",
       "      <td>3.352500</td>\n",
       "    </tr>\n",
       "    <tr>\n",
       "      <th>max</th>\n",
       "      <td>15906.000000</td>\n",
       "      <td>41.000000</td>\n",
       "      <td>5.000000</td>\n",
       "      <td>5.000000</td>\n",
       "      <td>23.000000</td>\n",
       "      <td>4840.000000</td>\n",
       "      <td>233.000000</td>\n",
       "      <td>51.000000</td>\n",
       "      <td>425.000000</td>\n",
       "      <td>3.890000</td>\n",
       "    </tr>\n",
       "  </tbody>\n",
       "</table>\n",
       "</div>"
      ],
      "text/plain": [
       "              price        mpg      rep78   headroom      trunk       weight  \\\n",
       "count     74.000000  74.000000  69.000000  74.000000  74.000000    74.000000   \n",
       "mean    6165.256757  21.297297   3.405797   2.993243  13.756757  3019.459459   \n",
       "std     2949.495885   5.785503   0.989932   0.845995   4.277404   777.193567   \n",
       "min     3291.000000  12.000000   1.000000   1.500000   5.000000  1760.000000   \n",
       "25%     4220.250000  18.000000   3.000000   2.500000  10.250000  2250.000000   \n",
       "50%     5006.500000  20.000000   3.000000   3.000000  14.000000  3190.000000   \n",
       "75%     6332.250000  24.750000   4.000000   3.500000  16.750000  3600.000000   \n",
       "max    15906.000000  41.000000   5.000000   5.000000  23.000000  4840.000000   \n",
       "\n",
       "           length       turn  displacement  gear_ratio  \n",
       "count   74.000000  74.000000     74.000000   74.000000  \n",
       "mean   187.932432  39.648649    197.297297    3.014865  \n",
       "std     22.266340   4.399354     91.837219    0.456287  \n",
       "min    142.000000  31.000000     79.000000    2.190000  \n",
       "25%    170.000000  36.000000    119.000000    2.730000  \n",
       "50%    192.500000  40.000000    196.000000    2.955000  \n",
       "75%    203.750000  43.000000    245.250000    3.352500  \n",
       "max    233.000000  51.000000    425.000000    3.890000  "
      ]
     },
     "execution_count": 94,
     "metadata": {},
     "output_type": "execute_result"
    }
   ],
   "source": [
    "df.describe()"
   ]
  },
  {
   "cell_type": "code",
   "execution_count": 66,
   "metadata": {},
   "outputs": [],
   "source": [
    "# 一元线性回归\n",
    "x = df.weight\n",
    "\n",
    "X = sm.add_constant(x)\n",
    "\n",
    "y = df.price\n",
    "\n",
    "model = sm.OLS(y,X)\n",
    "\n",
    "results = model.fit()"
   ]
  },
  {
   "cell_type": "code",
   "execution_count": 67,
   "metadata": {},
   "outputs": [
    {
     "name": "stdout",
     "output_type": "stream",
     "text": [
      "const    -6.707353\n",
      "weight    2.044063\n",
      "dtype: float64\n"
     ]
    }
   ],
   "source": [
    "print(results.params)"
   ]
  },
  {
   "cell_type": "code",
   "execution_count": 69,
   "metadata": {
    "collapsed": true
   },
   "outputs": [
    {
     "name": "stdout",
     "output_type": "stream",
     "text": [
      "                            OLS Regression Results                            \n",
      "==============================================================================\n",
      "Dep. Variable:                  price   R-squared:                       0.290\n",
      "Model:                            OLS   Adj. R-squared:                  0.280\n",
      "Method:                 Least Squares   F-statistic:                     29.42\n",
      "Date:                Wed, 05 Feb 2020   Prob (F-statistic):           7.42e-07\n",
      "Time:                        14:48:47   Log-Likelihood:                -683.04\n",
      "No. Observations:                  74   AIC:                             1370.\n",
      "Df Residuals:                      72   BIC:                             1375.\n",
      "Df Model:                           1                                         \n",
      "Covariance Type:            nonrobust                                         \n",
      "==============================================================================\n",
      "                 coef    std err          t      P>|t|      [0.025      0.975]\n",
      "------------------------------------------------------------------------------\n",
      "const         -6.7074   1174.430     -0.006      0.995   -2347.890    2334.475\n",
      "weight         2.0441      0.377      5.424      0.000       1.293       2.795\n",
      "==============================================================================\n",
      "Omnibus:                       13.512   Durbin-Watson:                   1.105\n",
      "Prob(Omnibus):                  0.001   Jarque-Bera (JB):               14.803\n",
      "Skew:                           1.065   Prob(JB):                     0.000610\n",
      "Kurtosis:                       3.516   Cond. No.                     1.26e+04\n",
      "==============================================================================\n",
      "\n",
      "Warnings:\n",
      "[1] Standard Errors assume that the covariance matrix of the errors is correctly specified.\n",
      "[2] The condition number is large, 1.26e+04. This might indicate that there are\n",
      "strong multicollinearity or other numerical problems.\n"
     ]
    }
   ],
   "source": [
    "print(results.summary())"
   ]
  },
  {
   "cell_type": "markdown",
   "metadata": {},
   "source": [
    "## 多元线性回归"
   ]
  },
  {
   "cell_type": "code",
   "execution_count": 103,
   "metadata": {},
   "outputs": [
    {
     "data": {
      "text/plain": [
       "array([[2.93e+03, 1.86e+02, 4.00e+01, 3.58e+00],\n",
       "       [3.35e+03, 1.73e+02, 4.00e+01, 2.53e+00],\n",
       "       [2.64e+03, 1.68e+02, 3.50e+01, 3.08e+00],\n",
       "       [3.25e+03, 1.96e+02, 4.00e+01, 2.93e+00],\n",
       "       [4.08e+03, 2.22e+02, 4.30e+01, 2.41e+00]], dtype=float32)"
      ]
     },
     "execution_count": 103,
     "metadata": {},
     "output_type": "execute_result"
    }
   ],
   "source": [
    "x1 = df.weight\n",
    "x2 = df.length\n",
    "x3 = df.turn\n",
    "x4 = df.gear_ratio\n",
    "x = np.column_stack((x1,x2,x3,x4))            # 整合一维为np.narray（二维）\n",
    "x[:5]"
   ]
  },
  {
   "cell_type": "code",
   "execution_count": 104,
   "metadata": {},
   "outputs": [
    {
     "name": "stdout",
     "output_type": "stream",
     "text": [
      "                            OLS Regression Results                            \n",
      "==============================================================================\n",
      "Dep. Variable:                  price   R-squared:                       0.423\n",
      "Model:                            OLS   Adj. R-squared:                  0.389\n",
      "Method:                 Least Squares   F-statistic:                     12.63\n",
      "Date:                Wed, 05 Feb 2020   Prob (F-statistic):           9.18e-08\n",
      "Time:                        15:28:00   Log-Likelihood:                -675.39\n",
      "No. Observations:                  74   AIC:                             1361.\n",
      "Df Residuals:                      69   BIC:                             1372.\n",
      "Df Model:                           4                                         \n",
      "Covariance Type:            nonrobust                                         \n",
      "==============================================================================\n",
      "                 coef    std err          t      P>|t|      [0.025      0.975]\n",
      "------------------------------------------------------------------------------\n",
      "const       8874.5084   5885.975      1.508      0.136   -2867.691    2.06e+04\n",
      "x1             6.1591      1.206      5.106      0.000       3.753       8.566\n",
      "x2           -74.7964     39.800     -1.879      0.064    -154.196       4.603\n",
      "x3          -294.8699    126.567     -2.330      0.023    -547.363     -42.377\n",
      "x4          1473.1693    919.633      1.602      0.114    -361.448    3307.786\n",
      "==============================================================================\n",
      "Omnibus:                        4.611   Durbin-Watson:                   1.303\n",
      "Prob(Omnibus):                  0.100   Jarque-Bera (JB):                3.813\n",
      "Skew:                           0.522   Prob(JB):                        0.149\n",
      "Kurtosis:                       3.381   Cond. No.                     6.89e+04\n",
      "==============================================================================\n",
      "\n",
      "Warnings:\n",
      "[1] Standard Errors assume that the covariance matrix of the errors is correctly specified.\n",
      "[2] The condition number is large, 6.89e+04. This might indicate that there are\n",
      "strong multicollinearity or other numerical problems.\n"
     ]
    }
   ],
   "source": [
    "## 多元线性回归\n",
    "# x = np.column_stack((x1,x2)) \n",
    "\n",
    "X = sm.add_constant(x)         # 添加常数列\n",
    "\n",
    "y = df.price\n",
    "\n",
    "model = sm.OLS(y,X)\n",
    "\n",
    "results = model.fit()\n",
    "\n",
    "print(results.summary())"
   ]
  },
  {
   "cell_type": "code",
   "execution_count": 105,
   "metadata": {},
   "outputs": [
    {
     "name": "stdout",
     "output_type": "stream",
     "text": [
      "const    8874.508445\n",
      "x1          6.159116\n",
      "x2        -74.796383\n",
      "x3       -294.869921\n",
      "x4       1473.169254\n",
      "dtype: float64\n"
     ]
    }
   ],
   "source": [
    "print(results.params)"
   ]
  },
  {
   "cell_type": "markdown",
   "metadata": {},
   "source": [
    "## 拟合效果查看"
   ]
  },
  {
   "cell_type": "code",
   "execution_count": 13,
   "metadata": {},
   "outputs": [],
   "source": [
    "x = np.arange(30)\n",
    "\n",
    "np.random.seed(5)\n",
    "e = np.random.rand(30)\n",
    "\n",
    "y = x**2+2*x+e"
   ]
  },
  {
   "cell_type": "code",
   "execution_count": 14,
   "metadata": {},
   "outputs": [],
   "source": [
    "# 一元线性回归\n",
    "\n",
    "X = sm.add_constant(x)\n",
    "\n",
    "model = sm.OLS(y,X)\n",
    "\n",
    "results = model.fit()"
   ]
  },
  {
   "cell_type": "code",
   "execution_count": 15,
   "metadata": {},
   "outputs": [
    {
     "name": "stdout",
     "output_type": "stream",
     "text": [
      "[-134.82880534   30.99677453]\n"
     ]
    }
   ],
   "source": [
    "print(results.params)"
   ]
  },
  {
   "cell_type": "code",
   "execution_count": 16,
   "metadata": {},
   "outputs": [
    {
     "data": {
      "text/plain": [
       "[<matplotlib.lines.Line2D at 0x121737eb8>]"
      ]
     },
     "execution_count": 16,
     "metadata": {},
     "output_type": "execute_result"
    },
    {
     "data": {
      "image/png": "[encoded data removed]",
      "text/plain": [
       "<Figure size 576x432 with 1 Axes>"
      ]
     },
     "metadata": {
      "needs_background": "light"
     },
     "output_type": "display_data"
    }
   ],
   "source": [
    "y_fitted = results.fittedvalues\n",
    "\n",
    "fig, ax = plt.subplots(figsize=(8,6))           # 设定图轴，图片大小为8×6 \n",
    "\n",
    "ax.plot(x, y, 'o', label='data')           # 画出原数据，图像为圆点，默认颜色为蓝。\n",
    "\n",
    "ax.plot(x, y_fitted, 'r--.',label='OLS')   # 画出拟合数据，图像为红色带点间断线。"
   ]
  },
  {
   "cell_type": "code",
   "execution_count": 17,
   "metadata": {},
   "outputs": [
    {
     "name": "stdout",
     "output_type": "stream",
     "text": [
      "                            OLS Regression Results                            \n",
      "==============================================================================\n",
      "Dep. Variable:                      y   R-squared:                       1.000\n",
      "Model:                            OLS   Adj. R-squared:                  1.000\n",
      "Method:                 Least Squares   F-statistic:                 1.431e+07\n",
      "Date:                Thu, 06 Feb 2020   Prob (F-statistic):           4.56e-82\n",
      "Time:                        17:52:55   Log-Likelihood:                -3.1314\n",
      "No. Observations:                  30   AIC:                             12.26\n",
      "Df Residuals:                      27   BIC:                             16.47\n",
      "Df Model:                           2                                         \n",
      "Covariance Type:            nonrobust                                         \n",
      "==============================================================================\n",
      "                 coef    std err          t      P>|t|      [0.025      0.975]\n",
      "------------------------------------------------------------------------------\n",
      "const          0.5799      0.145      3.991      0.000       0.282       0.878\n",
      "x1             1.9806      0.023     85.406      0.000       1.933       2.028\n",
      "x2             1.0006      0.001   1294.871      0.000       0.999       1.002\n",
      "==============================================================================\n",
      "Omnibus:                        4.594   Durbin-Watson:                   2.203\n",
      "Prob(Omnibus):                  0.101   Jarque-Bera (JB):                2.310\n",
      "Skew:                           0.407   Prob(JB):                        0.315\n",
      "Kurtosis:                       1.912   Cond. No.                     1.10e+03\n",
      "==============================================================================\n",
      "\n",
      "Warnings:\n",
      "[1] Standard Errors assume that the covariance matrix of the errors is correctly specified.\n",
      "[2] The condition number is large, 1.1e+03. This might indicate that there are\n",
      "strong multicollinearity or other numerical problems.\n"
     ]
    }
   ],
   "source": [
    "## 多元线性回归\n",
    "\n",
    "x = np.column_stack((x,x**2)) \n",
    "\n",
    "X = sm.add_constant(x)         # 添加常数列\n",
    "\n",
    "model = sm.OLS(y,X)\n",
    "\n",
    "results = model.fit()\n",
    "\n",
    "print(results.summary())"
   ]
  },
  {
   "cell_type": "code",
   "execution_count": 18,
   "metadata": {
    "scrolled": false
   },
   "outputs": [
    {
     "data": {
      "text/plain": [
       "[<matplotlib.lines.Line2D at 0x121dd5d30>]"
      ]
     },
     "execution_count": 18,
     "metadata": {},
     "output_type": "execute_result"
    },
    {
     "data": {
      "image/png": "[encoded data removed]",
      "text/plain": [
       "<Figure size 576x432 with 1 Axes>"
      ]
     },
     "metadata": {
      "needs_background": "light"
     },
     "output_type": "display_data"
    }
   ],
   "source": [
    "# 拟合效果图\n",
    "\n",
    "y_fitted = results.fittedvalues\n",
    "\n",
    "fig, ax = plt.subplots(figsize=(8,6))      # 设定图轴，图片大小为8×6 \n",
    "\n",
    "ax.plot(y, 'o', label='data')           # 画出原数据，图像为圆点，默认颜色为蓝。\n",
    "\n",
    "ax.plot(y_fitted, 'r--.',label='OLS')   # 画出拟合数据，图像为红色带点间断线。"
   ]
  },
  {
   "cell_type": "markdown",
   "metadata": {},
   "source": [
    "## 哑变量\n",
    "\n",
    "- 一般而言，有连续取值的变量叫做连续变量，它们的取值可以是任何的实数，或者是某一区间里的任何实数，比如股价、时间、身高。\n",
    "- 但有些性质不是连续的，只有有限个取值的可能性，一般是用于分辨类别，比如性别、婚姻情况、股票所属行业，表达这些变量叫做分类变量。\n",
    "- 在回归分析中，我们需要将分类变量转化为哑变量(dummy variable)。"
   ]
  },
  {
   "cell_type": "markdown",
   "metadata": {},
   "source": [
    "如果我们想表达一个有 d种取值的分类变量，那么它所对应的哑变量的取值是一个 d元组（可以看成一个长度为 d 的向量），其中有一个元素为1，其他都是0 。\n",
    "- 元素呈现出 1的位置就是变量所取的类别。比如说，某个分类变量的取值是 {a,b,c,d}，那么类别 a 对应的哑变量是(1,0,0,0)，b 对应(0,1,0,0)，c 对应(0,0,1,0)，d 对应 (0,0,0,1)。\n",
    "- 这么做的用处是，假如 a、b、c、d 四种情况分别对应四个系数 β0,β1,β2,β3，设 (x0,x1,x2,x3)是一个取值所对应的哑变量，那么\n",
    "\n",
    "$β_0x_0+β_1x_1+β_2x_2+β_3x_3 $, 可以直接得出相应的系数。\n",
    "\n",
    "可以理解为，$\\color {red}{分类变量的取值本身只是分类，无法构成任何线性关系，但是若映射到高元的0,1点上，便可以用线性关系表达，从而进行回归。} $"
   ]
  },
  {
   "cell_type": "markdown",
   "metadata": {},
   "source": [
    "Statsmodels 里有一个函数 categorical() 可以直接把类别 {0,1,…,d-1} 转换成所对应的元组。确切地说,\n",
    "- sm.catego- rical() 的输入有 (data, col, dictnames, drop) 四个。\n",
    "- 其中，data 是一个 k×1或 k×2的 array，其中记录每一个样本的分类变量取值。\n",
    "- drop 是一个 Bool值，意义为是否在输出中丢掉样本变量的值。\n",
    "- 中间两个输入可以不用在意。\n",
    "\n",
    "这个函数的输出是一个 k×d的 array（如果 drop=False，则是k×(d+1)，其中每一行是所对应的样本的哑变量；这里 d 是 data 中分类变量的类别总数。"
   ]
  },
  {
   "cell_type": "markdown",
   "metadata": {},
   "source": [
    "我们来举一个例子。这里假设一个反应变量 Y 对应连续自变量 X和一个分类变量 Z。\n",
    "\n",
    "常项系数为10，\n",
    "\n",
    "X的系数为 1；Z 有 {a,b,c}三个种类，其中 a 类有系数1，b 类有系数3，c 类有系数8。也就是说，将Z转换为哑变量(Z1,Z2,Z3)，其中$Z_i$取值于 0,1。\n",
    "\n",
    "有线性公式: $Y=10+X+Z_1+3 \\times Z_2+8 \\times Z_3 $"
   ]
  },
  {
   "cell_type": "code",
   "execution_count": 19,
   "metadata": {},
   "outputs": [
    {
     "data": {
      "text/plain": [
       "array([[1., 0., 0.],\n",
       "       [1., 0., 0.],\n",
       "       [1., 0., 0.],\n",
       "       [1., 0., 0.],\n",
       "       [1., 0., 0.],\n",
       "       [0., 1., 0.],\n",
       "       [0., 1., 0.],\n",
       "       [0., 1., 0.],\n",
       "       [0., 1., 0.],\n",
       "       [0., 1., 0.]])"
      ]
     },
     "execution_count": 19,
     "metadata": {},
     "output_type": "execute_result"
    }
   ],
   "source": [
    "nsample = 50\n",
    "groups = np.zeros(nsample, int)            # 设定分类变量的 array，前 20 个样本分类为 a\n",
    "groups[20:40] = 1                          # 之后的 20 个样本分类为 b\n",
    "groups[40:] = 2                            # 最后 10 个是 c 类\n",
    "dummy = sm.categorical(groups, drop=True)  # 转为哑变量\n",
    "dummy[15:25]"
   ]
  },
  {
   "cell_type": "code",
   "execution_count": 20,
   "metadata": {
    "scrolled": false
   },
   "outputs": [
    {
     "name": "stdout",
     "output_type": "stream",
     "text": [
      "                            OLS Regression Results                            \n",
      "==============================================================================\n",
      "Dep. Variable:                      y   R-squared:                       0.988\n",
      "Model:                            OLS   Adj. R-squared:                  0.987\n",
      "Method:                 Least Squares   F-statistic:                     1226.\n",
      "Date:                Thu, 06 Feb 2020   Prob (F-statistic):           6.99e-44\n",
      "Time:                        17:57:38   Log-Likelihood:                -66.300\n",
      "No. Observations:                  50   AIC:                             140.6\n",
      "Df Residuals:                      46   BIC:                             148.2\n",
      "Df Model:                           3                                         \n",
      "Covariance Type:            nonrobust                                         \n",
      "==============================================================================\n",
      "                 coef    std err          t      P>|t|      [0.025      0.975]\n",
      "------------------------------------------------------------------------------\n",
      "const         10.9171      0.538     20.282      0.000       9.834      12.001\n",
      "x1             0.9671      0.062     15.616      0.000       0.842       1.092\n",
      "x2             0.4220      0.341      1.236      0.223      -0.265       1.109\n",
      "x3             2.7472      0.285      9.630      0.000       2.173       3.321\n",
      "x4             7.7479      0.643     12.055      0.000       6.454       9.042\n",
      "==============================================================================\n",
      "Omnibus:                        4.276   Durbin-Watson:                   2.175\n",
      "Prob(Omnibus):                  0.118   Jarque-Bera (JB):                3.646\n",
      "Skew:                          -0.338   Prob(JB):                        0.162\n",
      "Kurtosis:                       4.137   Cond. No.                     1.84e+17\n",
      "==============================================================================\n",
      "\n",
      "Warnings:\n",
      "[1] Standard Errors assume that the covariance matrix of the errors is correctly specified.\n",
      "[2] The smallest eigenvalue is  2e-31. This might indicate that there are\n",
      "strong multicollinearity problems or that the design matrix is singular.\n"
     ]
    }
   ],
   "source": [
    "x = np.linspace(0, 20, nsample)      # 创建连续变量\n",
    "\n",
    "X = np.column_stack((x, dummy))      # 合并\n",
    "X = sm.add_constant(X)               # 加上一列常项\n",
    "\n",
    "beta = [10, 1, 1, 3, 8]\n",
    "e = np.random.normal(size=nsample)\n",
    "y = np.dot(X, beta) + e              # 生成反应变量\n",
    "\n",
    "result = sm.OLS(y,X).fit()\n",
    "print(result.summary())"
   ]
  },
  {
   "cell_type": "code",
   "execution_count": 22,
   "metadata": {},
   "outputs": [
    {
     "data": {
      "text/plain": [
       "<matplotlib.legend.Legend at 0x121780a90>"
      ]
     },
     "execution_count": 22,
     "metadata": {},
     "output_type": "execute_result"
    },
    {
     "data": {
      "image/png": "[encoded data removed]",
      "text/plain": [
       "<Figure size 576x432 with 1 Axes>"
      ]
     },
     "metadata": {
      "needs_background": "light"
     },
     "output_type": "display_data"
    }
   ],
   "source": [
    "fig, ax = plt.subplots(figsize=(8,6))\n",
    "ax.plot(x, y, 'o', label=\"data\")\n",
    "ax.plot(x, result.fittedvalues, 'r--.', label=\"OLS\")\n",
    "ax.legend(loc='best')"
   ]
  },
  {
   "cell_type": "code",
   "execution_count": 200,
   "metadata": {},
   "outputs": [
    {
     "data": {
      "text/plain": [
       "array([0., 0., 0., 0., 0., 0., 0., 0., 0., 0., 0., 0., 0., 0., 0., 0., 0.,\n",
       "       0., 0., 0., 0., 0., 0., 0., 0., 0., 0., 0., 0., 0., 0., 0., 0., 0.,\n",
       "       0., 0., 0., 0., 0., 0., 0., 0., 0., 0., 0., 0., 0., 0., 0., 0.])"
      ]
     },
     "execution_count": 200,
     "metadata": {},
     "output_type": "execute_result"
    }
   ],
   "source": [
    "np.zeros(nsample) "
   ]
  },
  {
   "cell_type": "code",
   "execution_count": 201,
   "metadata": {},
   "outputs": [
    {
     "data": {
      "text/plain": [
       "array([0, 0, 0, 0, 0, 0, 0, 0, 0, 0, 0, 0, 0, 0, 0, 0, 0, 0, 0, 0, 0, 0,\n",
       "       0, 0, 0, 0, 0, 0, 0, 0, 0, 0, 0, 0, 0, 0, 0, 0, 0, 0, 0, 0, 0, 0,\n",
       "       0, 0, 0, 0, 0, 0])"
      ]
     },
     "execution_count": 201,
     "metadata": {},
     "output_type": "execute_result"
    }
   ],
   "source": [
    "np.zeros(nsample, int) "
   ]
  },
  {
   "cell_type": "code",
   "execution_count": 208,
   "metadata": {},
   "outputs": [
    {
     "data": {
      "text/plain": [
       "array([[1.        , 0.        , 1.        , 0.        , 0.        ],\n",
       "       [1.        , 0.40816327, 1.        , 0.        , 0.        ],\n",
       "       [1.        , 0.81632653, 1.        , 0.        , 0.        ],\n",
       "       [1.        , 1.2244898 , 1.        , 0.        , 0.        ],\n",
       "       [1.        , 1.63265306, 1.        , 0.        , 0.        ],\n",
       "       [1.        , 2.04081633, 1.        , 0.        , 0.        ],\n",
       "       [1.        , 2.44897959, 1.        , 0.        , 0.        ],\n",
       "       [1.        , 2.85714286, 1.        , 0.        , 0.        ],\n",
       "       [1.        , 3.26530612, 1.        , 0.        , 0.        ],\n",
       "       [1.        , 3.67346939, 1.        , 0.        , 0.        ]])"
      ]
     },
     "execution_count": 208,
     "metadata": {},
     "output_type": "execute_result"
    }
   ],
   "source": [
    "X[:10]"
   ]
  },
  {
   "cell_type": "markdown",
   "metadata": {},
   "source": [
    "## SST=SSE+SSR，呵呵只是一个有趣的问题。而我们的“确定系数”是定义为SSR和SST的比值，故其实$R^2$, 即“确定系数”，是通过数据的变化来表征一个拟合的好坏。"
   ]
  }
 ],
 "metadata": {
  "hide_input": false,
  "kernelspec": {
   "display_name": "Python 3",
   "language": "python",
   "name": "python3"
  },
  "language_info": {
   "codemirror_mode": {
    "name": "ipython",
    "version": 3
   },
   "file_extension": ".py",
   "mimetype": "text/x-python",
   "name": "python",
   "nbconvert_exporter": "python",
   "pygments_lexer": "ipython3",
   "version": "3.7.3"
  },
  "toc": {
   "base_numbering": 1,
   "nav_menu": {},
   "number_sections": true,
   "sideBar": true,
   "skip_h1_title": false,
   "title_cell": "Table of Contents",
   "title_sidebar": "Contents",
   "toc_cell": false,
   "toc_position": {
    "height": "calc(100% - 180px)",
    "left": "10px",
    "top": "150px",
    "width": "196px"
   },
   "toc_section_display": true,
   "toc_window_display": false
  },
  "varInspector": {
   "cols": {
    "lenName": 16,
    "lenType": 16,
    "lenVar": 40
   },
   "kernels_config": {
    "python": {
     "delete_cmd_postfix": "",
     "delete_cmd_prefix": "del ",
     "library": "var_list.py",
     "varRefreshCmd": "print(var_dic_list())"
    },
    "r": {
     "delete_cmd_postfix": ") ",
     "delete_cmd_prefix": "rm(",
     "library": "var_list.r",
     "varRefreshCmd": "cat(var_dic_list()) "
    }
   },
   "types_to_exclude": [
    "module",
    "function",
    "builtin_function_or_method",
    "instance",
    "_Feature"
   ],
   "window_display": false
  }
 },
 "nbformat": 4,
 "nbformat_minor": 4
}
