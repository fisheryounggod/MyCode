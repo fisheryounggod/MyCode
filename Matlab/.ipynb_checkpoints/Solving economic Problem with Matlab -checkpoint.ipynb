{
 "cells": [
  {
   "cell_type": "markdown",
   "metadata": {},
   "source": [
    "## Python 调用Matlab 数据"
   ]
  },
  {
   "cell_type": "code",
   "execution_count": 1,
   "metadata": {},
   "outputs": [],
   "source": [
    "import matlab\n",
    "import matlab.engine\n",
    "\n",
    "eng = matlab.engine.start_matlab()"
   ]
  },
  {
   "cell_type": "code",
   "execution_count": 2,
   "metadata": {},
   "outputs": [],
   "source": [
    "eng.eval('a = pi;',nargout=0)"
   ]
  },
  {
   "cell_type": "code",
   "execution_count": 3,
   "metadata": {},
   "outputs": [],
   "source": [
    "pa=eng.workspace['a'] #matlab的workspace的变量复制到python变量"
   ]
  },
  {
   "cell_type": "code",
   "execution_count": 4,
   "metadata": {},
   "outputs": [
    {
     "data": {
      "text/plain": [
       "3.141592653589793"
      ]
     },
     "execution_count": 4,
     "metadata": {},
     "output_type": "execute_result"
    }
   ],
   "source": [
    "pa"
   ]
  },
  {
   "cell_type": "code",
   "execution_count": 7,
   "metadata": {},
   "outputs": [],
   "source": [
    "eng.eval('load stocks.mat;',nargout=0)"
   ]
  },
  {
   "cell_type": "code",
   "execution_count": 8,
   "metadata": {},
   "outputs": [],
   "source": [
    "stocks=eng.workspace['stocks']"
   ]
  },
  {
   "cell_type": "code",
   "execution_count": 15,
   "metadata": {},
   "outputs": [
    {
     "data": {
      "text/plain": [
       "mlarray.double"
      ]
     },
     "execution_count": 15,
     "metadata": {},
     "output_type": "execute_result"
    }
   ],
   "source": [
    "type(stocks[0])"
   ]
  },
  {
   "cell_type": "code",
   "execution_count": 18,
   "metadata": {},
   "outputs": [],
   "source": [
    "import numpy as np\n",
    "import pandas as pd "
   ]
  },
  {
   "cell_type": "code",
   "execution_count": 20,
   "metadata": {},
   "outputs": [
    {
     "data": {
      "text/html": [
       "<div>\n",
       "<style scoped>\n",
       "    .dataframe tbody tr th:only-of-type {\n",
       "        vertical-align: middle;\n",
       "    }\n",
       "\n",
       "    .dataframe tbody tr th {\n",
       "        vertical-align: top;\n",
       "    }\n",
       "\n",
       "    .dataframe thead th {\n",
       "        text-align: right;\n",
       "    }\n",
       "</style>\n",
       "<table border=\"1\" class=\"dataframe\">\n",
       "  <thead>\n",
       "    <tr style=\"text-align: right;\">\n",
       "      <th></th>\n",
       "      <th>0</th>\n",
       "      <th>1</th>\n",
       "      <th>2</th>\n",
       "      <th>3</th>\n",
       "      <th>4</th>\n",
       "      <th>5</th>\n",
       "      <th>6</th>\n",
       "      <th>7</th>\n",
       "      <th>8</th>\n",
       "      <th>9</th>\n",
       "    </tr>\n",
       "  </thead>\n",
       "  <tbody>\n",
       "    <tr>\n",
       "      <th>0</th>\n",
       "      <td>0.447813</td>\n",
       "      <td>0.067331</td>\n",
       "      <td>0.150311</td>\n",
       "      <td>2.991352</td>\n",
       "      <td>-0.207695</td>\n",
       "      <td>0.455964</td>\n",
       "      <td>-0.781059</td>\n",
       "      <td>0.205240</td>\n",
       "      <td>-0.001368</td>\n",
       "      <td>1.464562</td>\n",
       "    </tr>\n",
       "    <tr>\n",
       "      <th>1</th>\n",
       "      <td>0.988109</td>\n",
       "      <td>1.581645</td>\n",
       "      <td>-0.611253</td>\n",
       "      <td>2.620408</td>\n",
       "      <td>0.535787</td>\n",
       "      <td>0.589932</td>\n",
       "      <td>1.207660</td>\n",
       "      <td>1.065817</td>\n",
       "      <td>-0.551631</td>\n",
       "      <td>0.202665</td>\n",
       "    </tr>\n",
       "    <tr>\n",
       "      <th>2</th>\n",
       "      <td>0.874563</td>\n",
       "      <td>0.756208</td>\n",
       "      <td>-2.180025</td>\n",
       "      <td>-0.362371</td>\n",
       "      <td>1.371877</td>\n",
       "      <td>0.918730</td>\n",
       "      <td>1.114681</td>\n",
       "      <td>1.544983</td>\n",
       "      <td>1.523075</td>\n",
       "      <td>0.347807</td>\n",
       "    </tr>\n",
       "    <tr>\n",
       "      <th>3</th>\n",
       "      <td>0.714403</td>\n",
       "      <td>-0.689844</td>\n",
       "      <td>0.253764</td>\n",
       "      <td>2.209370</td>\n",
       "      <td>0.580143</td>\n",
       "      <td>1.837029</td>\n",
       "      <td>0.919674</td>\n",
       "      <td>0.422198</td>\n",
       "      <td>-0.417153</td>\n",
       "      <td>-1.009343</td>\n",
       "    </tr>\n",
       "    <tr>\n",
       "      <th>4</th>\n",
       "      <td>0.005351</td>\n",
       "      <td>-1.342888</td>\n",
       "      <td>-2.064859</td>\n",
       "      <td>-2.407927</td>\n",
       "      <td>-0.186868</td>\n",
       "      <td>-0.172721</td>\n",
       "      <td>0.154608</td>\n",
       "      <td>-1.103909</td>\n",
       "      <td>0.203125</td>\n",
       "      <td>1.997488</td>\n",
       "    </tr>\n",
       "  </tbody>\n",
       "</table>\n",
       "</div>"
      ],
      "text/plain": [
       "          0         1         2         3         4         5         6  \\\n",
       "0  0.447813  0.067331  0.150311  2.991352 -0.207695  0.455964 -0.781059   \n",
       "1  0.988109  1.581645 -0.611253  2.620408  0.535787  0.589932  1.207660   \n",
       "2  0.874563  0.756208 -2.180025 -0.362371  1.371877  0.918730  1.114681   \n",
       "3  0.714403 -0.689844  0.253764  2.209370  0.580143  1.837029  0.919674   \n",
       "4  0.005351 -1.342888 -2.064859 -2.407927 -0.186868 -0.172721  0.154608   \n",
       "\n",
       "          7         8         9  \n",
       "0  0.205240 -0.001368  1.464562  \n",
       "1  1.065817 -0.551631  0.202665  \n",
       "2  1.544983  1.523075  0.347807  \n",
       "3  0.422198 -0.417153 -1.009343  \n",
       "4 -1.103909  0.203125  1.997488  "
      ]
     },
     "execution_count": 20,
     "metadata": {},
     "output_type": "execute_result"
    }
   ],
   "source": [
    "df=pd.DataFrame(np.array(stocks))\n",
    "df.head()"
   ]
  },
  {
   "cell_type": "code",
   "execution_count": 22,
   "metadata": {},
   "outputs": [],
   "source": [
    "df.columns=[\"Stock\"+str(i) for i in df.columns]"
   ]
  },
  {
   "cell_type": "code",
   "execution_count": 27,
   "metadata": {},
   "outputs": [
    {
     "data": {
      "text/plain": [
       "<matplotlib.axes._subplots.AxesSubplot at 0x11b6c85c0>"
      ]
     },
     "execution_count": 27,
     "metadata": {},
     "output_type": "execute_result"
    },
    {
     "data": {
      "image/png": "[encoded data removed]",
      "text/plain": [
       "<Figure size 432x288 with 1 Axes>"
      ]
     },
     "metadata": {
      "needs_background": "light"
     },
     "output_type": "display_data"
    }
   ],
   "source": [
    "df.Stock0.plot()"
   ]
  },
  {
   "cell_type": "code",
   "execution_count": 28,
   "metadata": {},
   "outputs": [
    {
     "data": {
      "application/javascript": [
       "\n",
       "        if (window._pyforest_update_imports_cell) { window._pyforest_update_imports_cell('import matplotlib.pyplot as plt'); }\n",
       "    "
      ],
      "text/plain": [
       "<IPython.core.display.Javascript object>"
      ]
     },
     "metadata": {},
     "output_type": "display_data"
    },
    {
     "data": {
      "text/plain": [
       "<matplotlib.collections.PathCollection at 0x118d49da0>"
      ]
     },
     "execution_count": 28,
     "metadata": {},
     "output_type": "execute_result"
    },
    {
     "data": {
      "image/png": "[encoded data removed]",
      "text/plain": [
       "<Figure size 432x288 with 1 Axes>"
      ]
     },
     "metadata": {
      "needs_background": "light"
     },
     "output_type": "display_data"
    }
   ],
   "source": [
    "plt.scatter(df.Stock0,df.Stock2)"
   ]
  },
  {
   "cell_type": "code",
   "execution_count": 40,
   "metadata": {},
   "outputs": [
    {
     "data": {
      "text/plain": [
       "<matlab.object at 0x11b65f098>"
      ]
     },
     "execution_count": 40,
     "metadata": {},
     "output_type": "execute_result"
    }
   ],
   "source": [
    "command='plot(stocks(:,1),stocks(:,3),\"o\")'\n",
    "eng.eval(command)"
   ]
  },
  {
   "cell_type": "code",
   "execution_count": 39,
   "metadata": {},
   "outputs": [
    {
     "data": {
      "text/plain": [
       "matlab.double([[0.0,0.0,0.0,3.0,0.0,0.0,1.0,0.0,0.0,0.0],[1.0,0.0,3.0,4.0,0.0,1.0,3.0,0.0,1.0,1.0],[3.0,6.0,11.0,11.0,1.0,5.0,4.0,5.0,5.0,6.0],[19.0,24.0,21.0,14.0,15.0,20.0,14.0,18.0,18.0,19.0],[47.0,38.0,31.0,19.0,47.0,36.0,30.0,37.0,41.0,27.0],[25.0,21.0,23.0,22.0,30.0,26.0,31.0,33.0,27.0,35.0],[5.0,10.0,9.0,15.0,7.0,12.0,10.0,7.0,6.0,8.0],[0.0,1.0,2.0,10.0,0.0,0.0,6.0,0.0,2.0,4.0],[0.0,0.0,0.0,1.0,0.0,0.0,1.0,0.0,0.0,0.0],[0.0,0.0,0.0,1.0,0.0,0.0,0.0,0.0,0.0,0.0]])"
      ]
     },
     "execution_count": 39,
     "metadata": {},
     "output_type": "execute_result"
    }
   ],
   "source": [
    "command='hist(stocks)'\n",
    "eng.eval(command)"
   ]
  },
  {
   "cell_type": "code",
   "execution_count": 41,
   "metadata": {},
   "outputs": [
    {
     "data": {
      "text/plain": [
       "1000000.0"
      ]
     },
     "execution_count": 41,
     "metadata": {},
     "output_type": "execute_result"
    }
   ],
   "source": [
    "command='1/10^(-6)'\n",
    "eng.eval(command)"
   ]
  },
  {
   "cell_type": "code",
   "execution_count": 45,
   "metadata": {
    "scrolled": false
   },
   "outputs": [
    {
     "data": {
      "text/plain": [
       "['a', 'ans', 'stocks']"
      ]
     },
     "execution_count": 45,
     "metadata": {},
     "output_type": "execute_result"
    }
   ],
   "source": [
    "command='who'\n",
    "eng.eval(command)"
   ]
  },
  {
   "cell_type": "code",
   "execution_count": null,
   "metadata": {},
   "outputs": [],
   "source": [
    "eng.exit() #停止"
   ]
  },
  {
   "cell_type": "markdown",
   "metadata": {},
   "source": [
    "## Matlab kernel"
   ]
  },
  {
   "cell_type": "code",
   "execution_count": 2,
   "metadata": {},
   "outputs": [],
   "source": [
    "load stocks.mat"
   ]
  },
  {
   "cell_type": "code",
   "execution_count": 3,
   "metadata": {},
   "outputs": [
    {
     "data": {
      "image/png": "[encoded data removed]",
      "text/plain": [
       "<IPython.core.display.Image object>"
      ]
     },
     "metadata": {},
     "output_type": "display_data"
    }
   ],
   "source": [
    "plot(stocks)"
   ]
  },
  {
   "cell_type": "code",
   "execution_count": 4,
   "metadata": {},
   "outputs": [
    {
     "name": "stdout",
     "output_type": "stream",
     "text": [
      "\n",
      "ans =\n",
      "\n",
      "    0.5108\n",
      "\n"
     ]
    }
   ],
   "source": [
    "log((2+3)/(4-1))"
   ]
  },
  {
   "cell_type": "code",
   "execution_count": 5,
   "metadata": {},
   "outputs": [
    {
     "data": {
      "image/png": "[encoded data removed]",
      "text/plain": [
       "<IPython.core.display.Image object>"
      ]
     },
     "metadata": {},
     "output_type": "display_data"
    }
   ],
   "source": [
    "hist(stocks)"
   ]
  },
  {
   "cell_type": "code",
   "execution_count": 8,
   "metadata": {},
   "outputs": [
    {
     "name": "stdout",
     "output_type": "stream",
     "text": [
      "  Name          Size            Bytes  Class     Attributes\n",
      "\n",
      "  ans           1x1                 8  double              \n",
      "  stocks      100x10             8000  double              \n",
      "\n"
     ]
    }
   ],
   "source": [
    "whos"
   ]
  },
  {
   "cell_type": "markdown",
   "metadata": {},
   "source": [
    "## 计算投资组合回报"
   ]
  },
  {
   "cell_type": "code",
   "execution_count": 12,
   "metadata": {},
   "outputs": [],
   "source": [
    "load stocks.mat;"
   ]
  },
  {
   "cell_type": "code",
   "execution_count": 15,
   "metadata": {},
   "outputs": [],
   "source": [
    "stocks(:,1);myPF=[1 4 7];"
   ]
  },
  {
   "cell_type": "code",
   "execution_count": 16,
   "metadata": {},
   "outputs": [
    {
     "name": "stdout",
     "output_type": "stream",
     "text": [
      "\n",
      "myWt =\n",
      "\n",
      "    0.2000\n",
      "    0.7000\n",
      "    0.1000\n",
      "\n"
     ]
    }
   ],
   "source": [
    "myWt=[.2 .7 .1]'"
   ]
  },
  {
   "cell_type": "code",
   "execution_count": 18,
   "metadata": {},
   "outputs": [
    {
     "name": "stdout",
     "output_type": "stream",
     "text": [
      "\n",
      "ans =\n",
      "\n",
      "    2.1054\n",
      "    2.1527\n",
      "    0.0327\n",
      "    1.7814\n",
      "   -1.6690\n",
      "    1.8618\n",
      "   -0.7695\n",
      "   -2.3142\n",
      "    1.5373\n",
      "    1.7113\n",
      "    2.4206\n",
      "   -0.4620\n",
      "   -2.1201\n",
      "   -2.8279\n",
      "    0.0581\n",
      "   -0.4333\n",
      "    1.1099\n",
      "   -0.5419\n",
      "   -0.8401\n",
      "   -2.5414\n",
      "    0.4460\n",
      "    2.6168\n",
      "    1.2503\n",
      "    1.2263\n",
      "    0.4754\n",
      "   -1.3737\n",
      "   -0.0743\n",
      "    1.7232\n",
      "   -1.4194\n",
      "    3.5524\n",
      "    2.1920\n",
      "   -0.0104\n",
      "    0.6659\n",
      "   -0.3075\n",
      "   -2.6734\n",
      "   -0.2759\n",
      "    2.4254\n",
      "   -2.1998\n",
      "   -0.2113\n",
      "   -0.4905\n",
      "   -3.3215\n",
      "    0.3052\n",
      "   -0.4896\n",
      "    0.0446\n",
      "   -1.0775\n",
      "    0.5199\n",
      "    1.0074\n",
      "    0.3474\n",
      "   -2.1491\n",
      "    2.3762\n",
      "   -0.4859\n",
      "    1.5193\n",
      "   -3.3546\n",
      "    0.3658\n",
      "    0.1375\n",
      "   -0.3498\n",
      "   -4.1814\n",
      "   -4.3505\n",
      "    1.9389\n",
      "   -2.0939\n",
      "    1.5459\n",
      "    0.2519\n",
      "   -1.7406\n",
      "    0.4035\n",
      "    0.3137\n",
      "    4.5413\n",
      "    0.4595\n",
      "    1.6244\n",
      "   -0.0253\n",
      "   -2.2937\n",
      "   -1.1682\n",
      "   -0.0406\n",
      "   -1.7199\n",
      "   -0.8106\n",
      "   -1.8243\n",
      "    1.4456\n",
      "   -0.9498\n",
      "   -0.9446\n",
      "    1.9389\n",
      "   -1.0407\n",
      "   -0.5602\n",
      "    0.2997\n",
      "   -0.7970\n",
      "    1.3853\n",
      "    2.1290\n",
      "    0.4324\n",
      "   -0.4397\n",
      "    1.1253\n",
      "   -0.7762\n",
      "   -0.7993\n",
      "   -1.6724\n",
      "    0.8099\n",
      "   -1.5701\n",
      "    3.0883\n",
      "    2.8083\n",
      "   -3.7473\n",
      "    0.0448\n",
      "    0.1580\n",
      "    1.6138\n",
      "   -0.4878\n",
      "\n"
     ]
    }
   ],
   "source": [
    "stocks(:,myPF)*myWt % Returns of my portfolio"
   ]
  },
  {
   "cell_type": "code",
   "execution_count": 20,
   "metadata": {},
   "outputs": [
    {
     "data": {
      "image/png": "[encoded data removed]",
      "text/plain": [
       "<IPython.core.display.Image object>"
      ]
     },
     "metadata": {},
     "output_type": "display_data"
    }
   ],
   "source": [
    "plot(ans,stocks(:,1),\"o\")"
   ]
  },
  {
   "cell_type": "markdown",
   "metadata": {},
   "source": [
    "## 线代计算"
   ]
  },
  {
   "cell_type": "code",
   "execution_count": 21,
   "metadata": {},
   "outputs": [],
   "source": [
    "A=[-1 3;-1 1];b=[-6 2]';"
   ]
  },
  {
   "cell_type": "code",
   "execution_count": 23,
   "metadata": {},
   "outputs": [
    {
     "name": "stdout",
     "output_type": "stream",
     "text": [
      "\n",
      "ans =\n",
      "\n",
      "  logical\n",
      "\n",
      "   1\n",
      "\n"
     ]
    }
   ],
   "source": [
    "rank(A)==min(size(A))"
   ]
  },
  {
   "cell_type": "code",
   "execution_count": 24,
   "metadata": {},
   "outputs": [
    {
     "name": "stdout",
     "output_type": "stream",
     "text": [
      "\n",
      "x =\n",
      "\n",
      "    -6\n",
      "    -4\n",
      "\n"
     ]
    }
   ],
   "source": [
    "x=inv(A)*b "
   ]
  },
  {
   "cell_type": "markdown",
   "metadata": {},
   "source": [
    "## Covariance"
   ]
  },
  {
   "cell_type": "code",
   "execution_count": 25,
   "metadata": {},
   "outputs": [],
   "source": [
    "N=1000;X=randn(N,2);"
   ]
  },
  {
   "cell_type": "code",
   "execution_count": 26,
   "metadata": {},
   "outputs": [
    {
     "name": "stdout",
     "output_type": "stream",
     "text": [
      "\n",
      "ans =\n",
      "\n",
      "   -0.0020   -1.0105\n",
      "   -1.0105   -0.0024\n",
      "\n"
     ]
    }
   ],
   "source": [
    "X'*X/N-1"
   ]
  },
  {
   "cell_type": "code",
   "execution_count": 27,
   "metadata": {},
   "outputs": [
    {
     "name": "stdout",
     "output_type": "stream",
     "text": [
      "\n",
      "ans =\n",
      "\n",
      "    0.9979   -0.0093\n",
      "   -0.0093    0.9972\n",
      "\n"
     ]
    }
   ],
   "source": [
    "cov(X)"
   ]
  },
  {
   "cell_type": "code",
   "execution_count": 28,
   "metadata": {},
   "outputs": [
    {
     "name": "stdout",
     "output_type": "stream",
     "text": [
      "\n",
      "Y =\n",
      "\n",
      "    0.5703    0.6368\n",
      "    1.8665   -0.7060\n",
      "   -2.2262   -0.4372\n",
      "    0.8948   -0.7087\n",
      "    0.3514    0.5387\n",
      "   -1.2751   -0.8150\n",
      "   -0.4010   -1.1005\n",
      "    0.3753    0.5161\n",
      "    3.6110   -0.4603\n",
      "    2.8021    0.3247\n",
      "   -1.3173   -0.3888\n",
      "    3.0676    0.2326\n",
      "    0.7580   -2.6013\n",
      "   -0.0304    0.4290\n",
      "    0.7474    1.8167\n",
      "   -0.1723    1.0024\n",
      "   -0.0915    0.8740\n",
      "    1.5223   -0.2766\n",
      "    1.4417    0.1441\n",
      "    1.4498    0.2074\n",
      "    0.7041    0.0595\n",
      "   -1.1749   -0.8674\n",
      "    0.7499   -0.3892\n",
      "    1.6629   -0.2117\n",
      "    0.5215   -0.5176\n",
      "    1.0673    0.7999\n",
      "    0.7595    2.5015\n",
      "   -0.2708   -1.3602\n",
      "    0.3265    0.0914\n",
      "   -0.7547   -1.4793\n",
      "    0.9210    1.2656\n",
      "   -1.1144    1.3730\n",
      "   -1.0362   -1.6994\n",
      "   -0.7769    1.9068\n",
      "   -2.9117   -1.1216\n",
      "    1.4710    0.1899\n",
      "    0.3578    1.0620\n",
      "   -0.7223    0.1103\n",
      "    1.4029    2.2588\n",
      "   -1.6789    2.7157\n",
      "   -0.0696    0.1014\n",
      "   -0.2088   -1.9440\n",
      "    0.3518   -0.4019\n",
      "    0.3455   -0.8850\n",
      "   -0.8322   -0.8017\n",
      "    0.0026   -1.1646\n",
      "   -0.1322    0.0413\n",
      "    0.6603    2.0697\n",
      "    1.1259   -0.7527\n",
      "    1.1419   -0.3174\n",
      "   -0.8310    1.1296\n",
      "    0.1100    1.1759\n",
      "   -1.1815    0.4486\n",
      "   -1.0809    0.9891\n",
      "    0.0258    0.8338\n",
      "    1.5653   -0.4187\n",
      "   -0.7370    0.3920\n",
      "    0.4040   -0.3360\n",
      "   -0.1930   -0.9368\n",
      "    1.1500    0.5978\n",
      "   -1.0564    0.0306\n",
      "    0.0652   -0.2240\n",
      "    0.5852    0.2548\n",
      "    1.1332    0.9508\n",
      "    1.5768    0.3560\n",
      "    0.1186    0.1577\n",
      "   -1.4590    0.2429\n",
      "   -0.7097    0.0143\n",
      "   -1.0289   -0.8114\n",
      "    2.3831    0.7499\n",
      "   -0.5830    1.3720\n",
      "    0.7807   -0.5710\n",
      "   -0.1598    1.8909\n",
      "    0.9212   -0.2131\n",
      "   -0.7322   -0.2806\n",
      "   -1.3696   -0.9345\n",
      "   -1.3897   -0.8292\n",
      "    0.5208   -0.9899\n",
      "   -0.1447    0.3170\n",
      "   -0.1634    1.5601\n",
      "    1.4519    0.4906\n",
      "    0.3242    0.8173\n",
      "    0.2304    1.3049\n",
      "    1.6203   -2.5364\n",
      "   -0.7718   -0.2045\n",
      "    0.7293    0.3161\n",
      "    0.8677    0.6804\n",
      "   -0.2111   -1.3418\n",
      "    0.2483   -1.0428\n",
      "   -1.1332    0.7538\n",
      "   -1.1153   -0.1535\n",
      "    0.1375    0.5162\n",
      "    0.7549   -0.9975\n",
      "    2.6181   -1.6707\n",
      "   -0.6343    0.7243\n",
      "    0.2200    1.1564\n",
      "   -0.0499    1.5952\n",
      "   -1.9004   -1.5691\n",
      "   -0.4063   -1.3738\n",
      "   -1.7620   -1.5107\n",
      "    0.8730   -0.0786\n",
      "   -0.8554   -0.6524\n",
      "    0.1327    1.2773\n",
      "   -0.5119   -1.4920\n",
      "    0.3362   -1.7792\n",
      "   -0.5677    0.1684\n",
      "    0.5226    1.1560\n",
      "    0.7720   -0.8397\n",
      "    1.7445   -1.3025\n",
      "   -0.1615   -0.1862\n",
      "   -2.1057   -1.6733\n",
      "   -0.8070   -0.0196\n",
      "    1.3872    0.7915\n",
      "   -1.0395    0.1808\n",
      "    0.9936   -1.9461\n",
      "    0.1567   -0.5737\n",
      "    1.4693   -0.3389\n",
      "   -1.9283    1.7767\n",
      "   -0.1651    0.8780\n",
      "   -1.1752   -0.0940\n",
      "    2.9406    1.2725\n",
      "    0.8579   -1.0816\n",
      "    1.4116   -0.3852\n",
      "   -1.0255    1.3757\n",
      "   -0.4360    1.4655\n",
      "   -0.2398    0.6935\n",
      "    1.1311    0.4539\n",
      "   -0.2452   -0.6230\n",
      "    0.7342    0.7080\n",
      "   -2.0192   -0.8651\n",
      "   -0.3212    0.5376\n",
      "   -0.7910    0.2449\n",
      "   -1.5444    1.1024\n",
      "    0.5406   -0.4628\n",
      "    0.3146    0.5992\n",
      "    0.0661    0.7563\n",
      "   -1.3010   -0.9353\n",
      "    1.1601    0.1193\n",
      "    0.3828    1.5604\n",
      "   -0.2664    0.0755\n",
      "    0.0555   -0.3455\n",
      "   -0.2294    0.4198\n",
      "   -1.7176   -0.3120\n",
      "   -0.2530    0.4062\n",
      "   -0.7987   -0.1717\n",
      "   -0.9466   -0.0552\n",
      "   -1.1238    0.4239\n",
      "   -0.5009    1.3254\n",
      "   -1.9700    0.4150\n",
      "    0.9969    1.6115\n",
      "    0.5527   -2.0653\n",
      "    0.0126   -0.4862\n",
      "   -0.0021    0.1991\n",
      "   -0.7655   -0.8721\n",
      "    1.0513   -1.3129\n",
      "   -0.1006    0.5801\n",
      "   -0.6819    0.5758\n",
      "    1.3840    0.2525\n",
      "   -0.1921    0.3584\n",
      "   -0.5564   -0.9075\n",
      "   -0.2611   -0.5346\n",
      "   -0.8153   -0.1436\n",
      "   -1.0875   -0.7247\n",
      "    2.5586    0.2950\n",
      "    1.6881    2.3283\n",
      "    0.3402   -0.5191\n",
      "   -1.2245    0.6105\n",
      "   -0.8328   -1.0713\n",
      "   -0.1439    1.3027\n",
      "    0.8240   -1.0060\n",
      "   -1.2994    0.1718\n",
      "   -2.2972   -0.6555\n",
      "   -1.4165    0.4751\n",
      "    0.3661   -0.0255\n",
      "    0.4240   -0.0809\n",
      "    0.4843    2.9122\n",
      "   -0.0977   -0.6669\n",
      "    0.2163   -0.0838\n",
      "   -0.4435    2.6461\n",
      "    0.8947   -1.1836\n",
      "   -1.3291    0.5161\n",
      "    0.4877   -1.1134\n",
      "   -0.8161    0.9937\n",
      "   -0.3023    0.2906\n",
      "    0.5854    0.6152\n",
      "    1.0717   -0.3158\n",
      "   -1.0850    0.2083\n",
      "    1.2933    1.4356\n",
      "    0.6928   -2.3120\n",
      "   -0.0352   -1.6702\n",
      "   -0.1626    0.3786\n",
      "   -0.1850   -0.6917\n",
      "   -0.2705   -0.3332\n",
      "    0.0557   -1.5338\n",
      "    0.0839   -0.9417\n",
      "    0.8587   -0.4411\n",
      "    1.5596   -0.7627\n",
      "    0.4995   -0.9034\n",
      "   -0.1771   -0.4587\n",
      "    0.6578   -0.9796\n",
      "    0.2159    1.3050\n",
      "   -0.9971   -1.0253\n",
      "    0.9819    1.7810\n",
      "    0.3397   -0.4113\n",
      "    0.1678   -1.4886\n",
      "    0.5479   -0.6556\n",
      "    0.2940    0.8976\n",
      "   -0.9089    1.0190\n",
      "   -0.1297    0.1233\n",
      "   -0.1134    0.2505\n",
      "   -0.4994    0.5960\n",
      "    1.7147   -1.4959\n",
      "   -0.8431   -0.6186\n",
      "   -0.4512   -1.8670\n",
      "   -0.6794   -0.4860\n",
      "   -1.1416    0.9124\n",
      "   -0.1596    0.6805\n",
      "   -0.2414    2.2509\n",
      "    1.5627    0.1298\n",
      "   -0.2164   -2.1934\n",
      "   -1.0316    1.6525\n",
      "    1.6361    1.2454\n",
      "    1.2673   -0.6195\n",
      "   -0.1970    0.1857\n",
      "   -1.4735    0.7426\n",
      "   -0.4120    0.3478\n",
      "   -0.1233    0.6595\n",
      "    0.3087   -0.1496\n",
      "   -0.2285   -0.0757\n",
      "    0.4761    0.0512\n",
      "    0.4245   -0.8266\n",
      "   -1.2180    1.3861\n",
      "   -0.9153   -0.0306\n",
      "   -0.7085    0.6496\n",
      "   -0.4752   -0.8918\n",
      "   -0.2879   -1.1121\n",
      "    0.0451   -0.1279\n",
      "   -2.9965   -0.2897\n",
      "   -0.4244    1.1579\n",
      "    1.2751    0.5692\n",
      "   -1.0341    0.5036\n",
      "    0.9664   -1.4818\n",
      "    0.3830   -1.0046\n",
      "    0.0036    0.1652\n",
      "    0.2151   -0.3848\n",
      "   -1.5324    1.2532\n",
      "   -0.0519    1.3043\n",
      "    1.6366   -0.6177\n",
      "    0.1310    0.8382\n",
      "    0.0740    1.3586\n",
      "   -0.7015    0.2841\n",
      "    0.0018    1.5865\n",
      "    0.2650    1.0255\n",
      "    0.4590    0.1772\n",
      "   -0.3402    0.8399\n",
      "   -0.2038    0.1575\n",
      "    2.0563   -0.4518\n",
      "   -2.2257    0.3216\n",
      "    2.2621   -0.0007\n",
      "    0.3702   -0.4015\n",
      "    1.0327    1.7341\n",
      "   -1.6315    0.1844\n",
      "   -0.5574    2.6935\n",
      "   -0.2454   -0.3331\n",
      "    0.4553    0.5274\n",
      "   -1.6376    1.5457\n",
      "    0.5043    2.6923\n",
      "   -1.1802    0.2667\n",
      "    0.0988   -0.8272\n",
      "    0.6850    0.7665\n",
      "    0.3597   -1.3568\n",
      "    1.1153   -0.3107\n",
      "    1.0387    0.2350\n",
      "   -0.6183    1.4527\n",
      "    0.2897    1.4002\n",
      "   -0.9117   -0.0645\n",
      "   -1.2892    0.8870\n",
      "    0.9575   -0.3582\n",
      "    0.0327    0.6242\n",
      "   -0.0223    1.8784\n",
      "    0.9438    0.1199\n",
      "    0.6272   -0.3374\n",
      "    0.3828   -0.5369\n",
      "    1.2829    0.6796\n",
      "    0.9624    1.3004\n",
      "    0.2724    2.0888\n",
      "   -0.6577    0.0171\n",
      "   -0.6189    0.1261\n",
      "    1.2247   -0.6696\n",
      "   -1.5792    1.5751\n",
      "    0.0082   -0.1123\n",
      "   -1.9162   -0.5101\n",
      "    1.0531    2.1473\n",
      "    0.8943    0.7730\n",
      "    0.0338    0.6794\n",
      "   -0.0382   -1.0425\n",
      "   -2.4537    0.3971\n",
      "    0.6138    0.4832\n",
      "   -2.1598   -1.1291\n",
      "   -2.2866   -0.2627\n",
      "    0.1126   -0.4418\n",
      "   -0.9158    0.4910\n",
      "    0.4441   -1.0439\n",
      "    0.7096    1.0521\n",
      "    0.8904    1.7480\n",
      "   -0.6585   -0.3407\n",
      "    0.4820   -0.0456\n",
      "    0.1333    0.4697\n",
      "    0.8587    1.1664\n",
      "    0.5688    0.4851\n",
      "    0.9305    0.3601\n",
      "   -0.0993   -0.5197\n",
      "   -0.1146   -0.2684\n",
      "    1.0404    0.5765\n",
      "   -2.0910    1.6460\n",
      "   -0.4720    0.5315\n",
      "   -1.2380   -1.2429\n",
      "   -0.3500    0.3962\n",
      "    0.6813   -0.1290\n",
      "    0.8584   -0.2810\n",
      "   -0.9823   -0.2561\n",
      "   -0.4384   -0.9167\n",
      "    0.1697   -0.3577\n",
      "   -0.2592   -0.8213\n",
      "    0.3345   -0.4019\n",
      "    0.4326    0.0804\n",
      "   -0.8973    0.1374\n",
      "   -0.1442   -0.2526\n",
      "   -2.0995   -0.1895\n",
      "    1.1780   -0.0032\n",
      "   -0.5965    0.4214\n",
      "   -1.1712    1.2447\n",
      "   -0.2213    0.5832\n",
      "   -1.3960   -0.3236\n",
      "    0.0118    0.5611\n",
      "   -0.5280   -0.2824\n",
      "    2.2104   -1.8176\n",
      "    1.1711   -2.3841\n",
      "   -2.4643   -1.7505\n",
      "    0.4740   -0.2740\n",
      "   -1.3655   -0.6565\n",
      "   -0.2224   -0.7571\n",
      "    0.1970    0.0038\n",
      "    0.7804   -0.6959\n",
      "   -0.2404   -0.6674\n",
      "    1.6089    0.5727\n",
      "   -0.4483    0.7454\n",
      "    0.3601    2.3997\n",
      "    0.6974    0.2655\n",
      "    0.1178    0.0214\n",
      "    0.9136   -0.6110\n",
      "    0.3558   -0.2321\n",
      "   -0.7515   -0.0874\n",
      "   -1.7727   -1.7927\n",
      "    1.8912   -0.2943\n",
      "   -0.5719    0.7126\n",
      "    0.1360   -0.6077\n",
      "    0.5958    0.4573\n",
      "    0.1462    0.9545\n",
      "   -0.8721    1.0402\n",
      "   -0.4351    0.7399\n",
      "   -0.0923   -2.2967\n",
      "    1.5116   -0.6013\n",
      "   -0.8282    0.8646\n",
      "    0.8173    0.3578\n",
      "    0.3413   -0.0320\n",
      "   -0.2012    0.4000\n",
      "   -1.0243    1.0932\n",
      "   -0.2515    0.1169\n",
      "   -0.0541   -0.7955\n",
      "   -1.4368   -0.2171\n",
      "    0.2248   -0.2447\n",
      "   -0.7897    0.8598\n",
      "   -0.0616    0.3754\n",
      "    0.3688    0.5106\n",
      "   -0.8720    0.1109\n",
      "   -0.2556   -0.3992\n",
      "    0.3827    0.0242\n",
      "   -1.8032    0.1798\n",
      "    1.0686   -1.4350\n",
      "    2.4571    0.1420\n",
      "    0.9920    0.8907\n",
      "   -0.2831   -0.1471\n",
      "    0.4613    1.5355\n",
      "   -1.0034    0.5236\n",
      "    1.9105   -0.4572\n",
      "    0.9733   -0.1908\n",
      "    0.8200   -0.3121\n",
      "   -0.8432    0.2042\n",
      "    0.3526    0.7178\n",
      "   -0.5257   -0.3288\n",
      "   -0.2788    0.4215\n",
      "   -0.5374    1.7184\n",
      "   -0.9931    0.8946\n",
      "   -0.8761    0.7884\n",
      "   -0.1773   -0.8517\n",
      "   -1.6662   -0.5711\n",
      "    0.6402    0.2057\n",
      "   -0.0852   -0.1375\n",
      "    0.7318   -1.6619\n",
      "    0.3023   -1.5513\n",
      "    0.5269    0.9893\n",
      "   -1.4505   -0.7950\n",
      "   -0.9876    2.0414\n",
      "   -0.4144   -2.2589\n",
      "    0.1423    0.4119\n",
      "    1.1614   -0.0363\n",
      "   -0.2573   -0.7931\n",
      "    1.2942    0.3674\n",
      "    0.5081   -0.8308\n",
      "    1.2067    0.8229\n",
      "    0.1596    0.0300\n",
      "   -0.6242   -1.6763\n",
      "   -1.4488   -2.4616\n",
      "    0.1881   -0.3207\n",
      "    0.8512    1.1089\n",
      "   -0.2600    0.1443\n",
      "   -0.5082    0.0174\n",
      "   -0.2760    0.6509\n",
      "   -1.0640   -1.4303\n",
      "   -0.4604    1.3885\n",
      "   -0.1481   -0.9307\n",
      "    0.0785    0.0009\n",
      "   -0.0312   -0.4005\n",
      "    0.6440    0.1127\n",
      "    0.1419   -1.9814\n",
      "    1.8466    1.4870\n",
      "    0.3447    0.5089\n",
      "    1.8371    1.9730\n",
      "   -0.6905    1.3798\n",
      "    0.5592   -0.0254\n",
      "   -0.2276   -0.9759\n",
      "    0.6328   -1.7758\n",
      "    0.6266   -0.0199\n",
      "   -2.1534    0.1823\n",
      "   -1.2944    1.0089\n",
      "   -1.4084   -0.9879\n",
      "    0.4345    0.7579\n"
     ]
    },
    {
     "name": "stdout",
     "output_type": "stream",
     "text": [
      "    1.5028    0.0345\n",
      "   -0.2942   -0.8106\n",
      "    0.8450    0.7373\n",
      "    0.5782    0.2288\n",
      "   -1.0190   -0.2720\n",
      "    0.4301    1.8404\n",
      "   -0.7193    0.5723\n",
      "    1.5489   -0.1472\n",
      "    0.0001    0.2406\n",
      "    1.6686    0.0501\n",
      "   -0.3924    0.1367\n",
      "    0.6221    0.4167\n",
      "   -0.0302   -0.6404\n",
      "   -1.9893   -0.8339\n",
      "   -0.9495    0.3238\n",
      "    0.6451    1.8482\n",
      "   -0.0223   -0.3437\n",
      "   -1.0861   -1.0496\n",
      "   -0.5937   -0.2754\n",
      "    0.2821   -0.5209\n",
      "   -0.9604   -0.3642\n",
      "    1.0076    0.4386\n",
      "   -0.6081   -0.1669\n",
      "    1.8415   -0.6313\n",
      "   -1.0472   -0.4807\n",
      "    0.2318   -1.3594\n",
      "   -1.4884   -0.8964\n",
      "   -0.6910   -1.4499\n",
      "   -0.5606   -0.5529\n",
      "    0.4340   -1.1220\n",
      "    0.9748   -0.7441\n",
      "    0.3331   -0.3386\n",
      "   -0.3404   -1.2373\n",
      "    0.8481   -0.0563\n",
      "    0.8315    0.3035\n",
      "    0.1528   -1.0001\n",
      "    0.6039    1.0770\n",
      "    0.4454   -1.6230\n",
      "   -0.9543   -0.4287\n",
      "    0.7922   -1.5216\n",
      "   -0.6246   -0.3815\n",
      "   -0.5713   -1.3608\n",
      "    0.2096   -0.6117\n",
      "   -0.2749   -0.7776\n",
      "   -0.0992   -1.2219\n",
      "    0.6280   -2.1018\n",
      "    1.0795    0.5282\n",
      "   -0.1653    1.9632\n",
      "    0.3603    2.1864\n",
      "   -0.2057   -0.5291\n",
      "    0.2622   -0.0829\n",
      "    0.4726   -0.5026\n",
      "   -0.5842    0.0390\n",
      "    0.3075   -0.9557\n",
      "    0.6337   -1.9564\n",
      "    0.1249   -0.0733\n",
      "    1.7625   -1.2620\n",
      "   -0.5759   -1.9393\n",
      "   -0.7044    2.3374\n",
      "   -1.7172   -0.2702\n",
      "    0.9431    0.3670\n",
      "    0.8997    1.1556\n",
      "   -0.0473   -1.7217\n",
      "    0.9311    0.3763\n",
      "    0.2163    0.4648\n",
      "    0.3234    0.0462\n",
      "    0.1456    0.1209\n",
      "    0.4726   -0.5648\n",
      "    0.1343    0.6862\n",
      "    2.8200   -0.8868\n",
      "   -1.1340   -0.8333\n",
      "   -1.8217    0.6884\n",
      "   -1.1080    1.6496\n",
      "   -1.0607   -0.4233\n",
      "   -0.4010   -0.5420\n",
      "   -0.1358    0.3712\n",
      "   -0.1859    1.0355\n",
      "    0.5740    0.9311\n",
      "    0.4219    0.2332\n",
      "    0.7839   -0.6713\n",
      "    1.8109    0.5929\n",
      "    1.2557   -0.1161\n",
      "   -1.2506    1.3401\n",
      "   -2.2963   -1.4451\n",
      "    0.9346    0.1043\n",
      "   -1.8030    1.2528\n",
      "    0.0994   -0.5318\n",
      "    0.0681   -0.6617\n",
      "    2.2598   -0.9705\n",
      "   -0.0366   -0.3156\n",
      "   -0.4747   -0.2374\n",
      "    0.2684    0.0998\n",
      "    0.2784   -0.9202\n",
      "    0.1027    0.0456\n",
      "   -0.5759   -0.6408\n",
      "   -1.1900   -0.4056\n",
      "    0.3491   -0.8751\n",
      "   -1.3102   -0.3194\n",
      "   -0.9996    3.5330\n",
      "    1.3638    3.3706\n",
      "   -0.3863    1.1100\n",
      "   -0.1077    0.7504\n",
      "    0.9325   -1.3150\n",
      "   -0.2675   -0.6215\n",
      "    1.0620   -0.6563\n",
      "   -0.3124    0.4984\n",
      "    1.0454    0.4461\n",
      "    0.6620    0.0716\n",
      "   -0.1804   -0.3772\n",
      "   -0.8331   -0.9627\n",
      "   -1.0105   -0.0316\n",
      "   -0.2374    1.1023\n",
      "   -0.4055    0.3905\n",
      "   -0.3760    0.1441\n",
      "    1.0162    0.6206\n",
      "   -0.2651    0.5473\n",
      "    1.1763   -1.6533\n",
      "   -0.4990   -0.0181\n",
      "    1.0052   -0.4629\n",
      "   -0.4896   -2.0709\n",
      "    0.2092   -1.3655\n",
      "    1.0034   -0.3568\n",
      "   -0.3813    0.7885\n",
      "   -0.4056   -0.2662\n",
      "    2.0360    0.2254\n",
      "    0.9836   -0.9349\n",
      "   -0.3994   -2.1942\n",
      "    0.6816    0.0570\n",
      "   -0.3274   -0.9881\n",
      "    0.7385    1.1357\n",
      "    1.4485    1.6982\n",
      "   -1.5719   -0.4086\n",
      "    1.0615    1.1560\n",
      "    1.4906    0.9167\n",
      "    0.0801   -1.4519\n",
      "    1.7789   -0.0703\n",
      "    0.1880    0.2242\n",
      "   -1.2045    0.4861\n",
      "   -2.1609    0.6399\n",
      "   -0.3008    0.6375\n",
      "    0.7462    0.6415\n",
      "    0.3500   -0.3495\n",
      "    0.4462    0.3423\n",
      "   -0.5445   -2.2898\n",
      "    0.1766   -1.2052\n",
      "   -1.6060    1.1651\n",
      "   -0.7275   -0.6976\n",
      "   -0.7862    0.2907\n",
      "    0.5524    1.4712\n",
      "    0.0185   -0.9258\n",
      "   -1.1229   -0.9962\n",
      "    0.0231   -0.5296\n",
      "   -0.6572    0.4042\n",
      "   -0.6341   -0.2417\n",
      "    0.8968   -1.0147\n",
      "    0.1461   -1.6098\n",
      "    0.4310   -0.4072\n",
      "    0.9166   -0.2580\n",
      "    0.2129   -0.5721\n",
      "    0.5835   -0.2989\n",
      "    0.7156   -1.1323\n",
      "    1.2032    0.5123\n",
      "    0.5085   -2.2115\n",
      "    1.4449    0.1077\n",
      "    0.0552    0.6321\n",
      "   -0.0152   -0.8857\n",
      "    1.7340   -0.0940\n",
      "   -0.4771    0.2549\n",
      "    0.0298   -0.6515\n",
      "    0.9525   -0.0505\n",
      "    0.1824    0.3752\n",
      "    1.4376   -0.9740\n",
      "    1.0668    0.7983\n",
      "    0.3242    1.0576\n",
      "   -0.7451    0.2843\n",
      "    0.5993   -0.0218\n",
      "   -1.3500   -1.2014\n",
      "    0.2771    0.4579\n",
      "    0.8411   -1.2527\n",
      "    0.2457    1.5539\n",
      "    0.9123    0.4896\n",
      "    2.0715    0.2279\n",
      "    0.9566   -0.4305\n",
      "    0.2995   -2.2132\n",
      "    0.6743   -1.2326\n",
      "    0.4581    0.3284\n",
      "   -1.2821    2.3755\n",
      "   -0.3838    0.7033\n",
      "    1.2573    0.2728\n",
      "   -0.0110   -0.5789\n",
      "    0.6151    0.0854\n",
      "   -0.9739    0.9254\n",
      "    0.0971   -0.2909\n",
      "    0.6329    1.8549\n",
      "   -1.3289   -1.2572\n",
      "    0.3802   -0.4131\n",
      "   -0.1492    0.0155\n",
      "   -0.9069   -1.9908\n",
      "   -0.0049    0.5285\n",
      "   -1.8637    0.0409\n",
      "   -2.0953    0.0438\n",
      "   -1.1443    0.7578\n",
      "   -0.9579    1.0068\n",
      "   -1.1404    0.7653\n",
      "   -1.6928   -0.5057\n",
      "    0.3209   -0.0835\n",
      "   -1.5616    0.3166\n",
      "    0.1429   -1.2937\n",
      "    0.8197   -1.0729\n",
      "    0.0304   -0.4639\n",
      "    0.1257    0.0408\n",
      "   -0.3455    1.7540\n",
      "   -1.4500    0.7604\n",
      "   -0.0112   -0.4794\n",
      "    0.9935   -0.6660\n",
      "    1.7709    1.4969\n",
      "   -0.3976    2.6966\n",
      "   -1.5947    0.1305\n",
      "    0.1990   -0.5158\n",
      "    0.4089   -1.4496\n",
      "   -0.1943    0.9381\n",
      "   -1.1163    0.2528\n",
      "    2.0570    1.1285\n",
      "   -2.3269   -0.9456\n",
      "   -0.4773    0.2037\n",
      "   -1.2890   -0.6909\n",
      "   -0.6035    1.2381\n",
      "    0.3505   -0.5881\n",
      "    0.1707   -0.1243\n",
      "   -0.6781   -0.3847\n",
      "    0.8096    0.9571\n",
      "    0.6550    0.3915\n",
      "    0.6800   -1.0411\n",
      "   -0.3930   -0.6696\n",
      "    1.0812   -1.0826\n",
      "    0.6933    0.4688\n",
      "    2.5414    0.2951\n",
      "    1.0961   -1.6723\n",
      "    1.1896   -1.9437\n",
      "    0.0856   -0.0773\n",
      "   -1.2558    0.6603\n",
      "   -0.3386    0.1319\n",
      "   -0.7252   -1.5807\n",
      "   -0.5313   -1.5887\n",
      "    0.5878    0.8302\n",
      "   -0.5241   -0.1823\n",
      "   -0.8625   -0.4231\n",
      "   -0.3767    1.2793\n",
      "   -0.1283   -0.8334\n",
      "    0.4420    0.0985\n",
      "   -0.9200    0.3809\n",
      "    0.3499    0.7830\n",
      "    0.1107   -0.8913\n",
      "    1.3570    0.3204\n",
      "   -0.1805    2.7116\n",
      "   -0.1018   -1.5499\n",
      "   -1.1387    0.3971\n",
      "   -1.3526   -0.2667\n",
      "    0.3431   -0.8640\n",
      "   -0.2169   -0.8689\n",
      "    0.5364    0.4610\n",
      "   -0.8600    2.2787\n",
      "    1.9411   -0.8307\n",
      "    0.1549    0.5041\n",
      "    1.0797   -0.5960\n",
      "   -0.1943    1.9397\n",
      "   -0.1299    0.5078\n",
      "    0.7227   -0.1748\n",
      "    0.5884    0.5830\n",
      "   -1.0876   -0.0425\n",
      "   -1.5001    1.0703\n",
      "   -1.0652   -0.2225\n",
      "   -1.3831   -1.1583\n",
      "    0.0922    0.2096\n",
      "   -0.3786    1.5241\n",
      "   -0.3354   -1.2335\n",
      "   -1.3283   -0.2792\n",
      "    0.8122    0.9679\n",
      "    0.4720   -1.9570\n",
      "   -0.0570    0.5885\n",
      "    1.0538    0.7161\n",
      "   -0.8413    0.1766\n",
      "    0.4473   -0.8071\n",
      "    0.3811   -0.0440\n",
      "    0.3819    0.0563\n",
      "   -0.6966    0.8984\n",
      "    0.3595    0.6266\n",
      "   -0.4822   -0.3871\n",
      "   -0.8638    1.5830\n",
      "   -1.1706   -0.0877\n",
      "    1.0704   -0.8496\n",
      "   -0.8133   -0.4753\n",
      "   -0.1403    0.8217\n",
      "   -1.1760    0.1583\n",
      "   -0.2645    0.8520\n",
      "   -3.1994    0.0323\n",
      "   -1.0543    2.4499\n",
      "   -1.3938   -1.7025\n",
      "   -0.9818   -0.4528\n",
      "   -0.1806   -0.1211\n",
      "   -0.2927    0.0524\n",
      "    1.9770    1.4192\n",
      "   -0.5391    0.1826\n",
      "   -0.2174   -0.1518\n",
      "   -1.5367    0.0317\n",
      "   -0.4448    0.7146\n",
      "   -1.3053   -0.7263\n",
      "    0.0629    0.4139\n",
      "    0.8857   -1.6019\n",
      "    0.4369   -0.1157\n",
      "   -0.6680   -0.9787\n",
      "   -1.5979   -0.6898\n",
      "    1.4926    0.2456\n",
      "    2.0827   -1.1620\n",
      "    0.1531   -1.0259\n",
      "   -0.9573   -1.5528\n",
      "    1.2304   -2.2654\n",
      "   -0.5600   -0.1884\n",
      "   -0.4372    1.1258\n",
      "    0.9190   -0.2188\n",
      "   -1.3526   -0.2709\n",
      "   -1.9241   -1.0836\n",
      "    0.4533    1.5464\n",
      "    0.4334   -0.2863\n",
      "    0.1278    1.2571\n",
      "    0.5293    0.3251\n",
      "    1.1149   -0.3000\n",
      "    1.0031    1.0452\n",
      "   -0.5359    0.9455\n",
      "    0.8426   -0.1483\n",
      "    0.2059    1.2591\n",
      "   -0.4729    1.7444\n",
      "   -1.1607   -0.1025\n",
      "    0.6796   -0.2926\n",
      "   -0.3210    0.3677\n",
      "    0.0791    0.3149\n",
      "   -0.7603    0.7706\n",
      "   -1.5179   -0.2925\n",
      "    0.2042    0.6782\n",
      "   -0.0295    1.0117\n",
      "    1.2317    0.1407\n",
      "    0.8343    0.1164\n",
      "    1.0859   -1.2912\n",
      "   -0.7162   -1.2097\n",
      "   -0.9037   -1.4983\n",
      "   -1.2365   -1.2812\n",
      "    0.5306   -0.1920\n",
      "    2.8217   -1.6518\n",
      "    0.7602    2.2092\n",
      "   -0.7404    0.7024\n",
      "    0.8693   -2.1045\n",
      "   -1.0957   -1.1914\n",
      "   -1.3918   -0.1441\n",
      "    0.7501   -1.7498\n",
      "   -0.7453   -0.4968\n",
      "    0.3486    1.0541\n",
      "    1.4392   -0.2008\n",
      "    0.4338   -0.1041\n",
      "    0.9623   -1.0385\n",
      "   -1.5732   -0.5926\n",
      "    0.6942   -1.3885\n",
      "    2.1711    0.3273\n",
      "    0.5738   -0.4891\n",
      "   -1.5082    0.7465\n",
      "   -0.1705    1.2003\n",
      "   -0.4673    1.0403\n",
      "    0.4157   -0.0717\n",
      "    0.4447   -0.5409\n",
      "    0.4381   -1.2609\n",
      "   -0.3311    0.0816\n",
      "   -0.5666    0.9226\n",
      "   -0.5570   -0.3778\n",
      "    0.8862   -0.2102\n",
      "   -1.8204    0.5794\n",
      "   -0.1747    0.8270\n",
      "    0.3030   -1.4538\n",
      "   -0.6201    0.1631\n",
      "    0.5099    0.1589\n",
      "   -0.0387   -0.1880\n",
      "   -0.9057    0.8559\n",
      "    0.1940   -0.4011\n",
      "   -0.2356   -0.8631\n",
      "   -0.3772    0.2391\n",
      "   -0.6787    0.4229\n",
      "    0.0941   -0.2544\n",
      "   -1.8135    0.7592\n",
      "   -0.3657   -1.5549\n",
      "   -0.5109   -1.1118\n",
      "   -0.8793   -3.1091\n",
      "    0.6853    0.4845\n"
     ]
    },
    {
     "name": "stdout",
     "output_type": "stream",
     "text": [
      "   -0.7016   -1.0279\n",
      "    0.5733   -0.2900\n",
      "    1.0085    0.9724\n",
      "   -0.1242    0.0141\n",
      "    0.3104   -0.4773\n",
      "    0.6721   -0.8854\n",
      "   -0.0483   -0.2773\n",
      "    0.5735    0.5660\n",
      "   -1.2299   -1.5532\n",
      "    1.1431   -0.1052\n",
      "   -0.9569    0.7455\n",
      "   -1.7962   -1.4576\n",
      "    1.4171    0.6325\n",
      "   -0.0301    0.6463\n",
      "    0.4816   -0.9190\n",
      "   -0.3306   -1.5414\n",
      "   -0.9880    0.3962\n",
      "   -3.0404    0.7714\n",
      "    0.6589    0.5420\n",
      "   -0.2541    0.7260\n",
      "   -0.1647   -1.2190\n",
      "    0.4382    0.5469\n",
      "   -1.3867   -0.6169\n",
      "   -0.6968   -0.5983\n",
      "    1.1800   -1.5928\n",
      "    0.6305    1.0633\n",
      "   -1.2486    0.1382\n",
      "   -2.1706    0.9667\n",
      "   -0.5386    1.4741\n",
      "    0.2466   -1.1741\n",
      "    0.9750    0.6061\n",
      "    0.1264   -0.0497\n",
      "   -1.0897    0.8774\n",
      "    0.3388    1.0708\n",
      "   -1.1397    0.7836\n",
      "   -0.9283   -0.8545\n",
      "   -0.6211   -0.1634\n",
      "   -1.1968    0.2272\n",
      "   -0.2383    3.1216\n",
      "   -0.8673    1.1897\n",
      "   -0.2531    2.2837\n",
      "   -0.4298    0.3776\n",
      "   -0.3772    0.1749\n",
      "   -0.4709    0.5763\n",
      "    1.2659   -0.5647\n",
      "    0.6429    1.2047\n",
      "    0.0917   -0.1945\n",
      "   -1.4343   -1.4105\n",
      "   -1.5932    0.8339\n",
      "   -1.9321   -1.6054\n",
      "    2.6378   -1.8812\n",
      "    1.0050    0.2515\n",
      "    0.2896   -0.9878\n",
      "   -0.9416   -0.9476\n",
      "   -1.1137   -0.1988\n",
      "    0.5803   -0.5258\n",
      "    1.5977   -0.2597\n",
      "   -1.6607    0.2352\n",
      "   -0.4168   -1.2054\n",
      "   -0.0517   -1.2611\n",
      "   -1.9594   -2.1364\n",
      "    0.8739   -0.4271\n",
      "   -0.3820    0.6274\n",
      "    1.9448   -0.7392\n",
      "   -0.3583    0.4644\n",
      "    0.4418    0.5034\n",
      "   -1.1098    0.9539\n",
      "   -0.5922    0.9525\n",
      "   -1.1361   -0.7257\n",
      "    0.4252   -0.8937\n",
      "    1.3345    0.0115\n",
      "   -0.5610   -0.7018\n",
      "    0.4690    1.4158\n",
      "   -0.4717    1.3429\n",
      "    0.1347    0.0582\n",
      "    1.2289   -0.4640\n",
      "    0.1529    0.4739\n",
      "   -1.0042   -0.6932\n",
      "   -0.8245   -0.1619\n",
      "   -0.1372   -0.5674\n",
      "   -0.1590    0.0687\n",
      "   -0.8332    1.0915\n",
      "    0.2133    0.7056\n",
      "    1.2992    1.1067\n",
      "   -0.2185   -0.9516\n",
      "   -0.1719    0.1429\n",
      "   -2.1689   -1.0202\n",
      "   -0.7419    0.3479\n",
      "   -1.3606    0.2888\n",
      "   -0.3536    1.2594\n",
      "    0.5582    1.0623\n",
      "    1.5559    0.6163\n",
      "    1.8311   -0.5420\n",
      "   -0.0843   -0.5129\n",
      "   -0.2876   -2.0885\n",
      "    0.8501   -0.4852\n",
      "    0.5228   -1.5881\n",
      "    0.7979    0.8929\n",
      "    0.8109    0.8650\n",
      "   -1.4477    0.1014\n",
      "    0.5730   -0.4153\n",
      "   -0.0589    0.1062\n",
      "   -0.7276    1.5681\n",
      "   -0.6610    1.3122\n",
      "    1.3141   -0.4853\n",
      "   -0.7771    0.1315\n",
      "   -1.2042   -1.1574\n",
      "    0.2473    0.3638\n",
      "    2.0434    0.7022\n",
      "    0.0582    0.8631\n",
      "    0.3409   -1.5681\n",
      "   -0.9056    0.4677\n",
      "    1.7068   -0.9011\n",
      "    0.1576   -0.4135\n",
      "    0.5627    0.7511\n",
      "   -0.9194    0.2613\n",
      "    0.8867   -0.2006\n",
      "    0.4218    0.5698\n",
      "   -1.1234    1.5976\n",
      "    0.0724   -0.6604\n",
      "   -0.4180   -1.3870\n",
      "    0.1419   -1.1991\n",
      "   -0.2179   -0.9812\n",
      "   -0.1573   -0.7081\n",
      "   -1.0003    0.5398\n",
      "   -0.2907   -2.1227\n",
      "    0.7992    0.1991\n",
      "    1.7773   -0.8153\n",
      "   -1.1279    1.0627\n",
      "    2.4100   -0.8925\n",
      "    1.5587   -0.0293\n",
      "    0.2011   -0.9745\n",
      "   -0.2686   -0.7185\n",
      "   -0.6660   -0.2970\n",
      "    0.8654   -0.2657\n",
      "   -0.6620   -0.5617\n",
      "   -0.4293    1.0914\n",
      "    0.9162    0.5132\n",
      "    0.4686    1.8182\n",
      "    0.9294   -0.3142\n",
      "    0.5374    1.0297\n",
      "   -0.3683   -2.1361\n",
      "   -0.4812    0.6016\n",
      "    0.8290    0.3346\n",
      "   -0.6386   -0.4111\n",
      "    1.2193    0.6584\n",
      "    0.8233    0.8407\n",
      "    0.3204    0.9967\n",
      "    0.0359    0.3829\n",
      "    0.3982    0.5642\n",
      "    3.5593   -0.7109\n",
      "   -0.0798   -1.1321\n",
      "   -1.5240   -0.3045\n",
      "    1.9477    0.1497\n",
      "    0.6425    0.9140\n",
      "   -0.6153   -0.8274\n",
      "    2.6500   -0.5264\n",
      "    0.5836    2.9376\n",
      "    0.3268   -0.6595\n",
      "   -0.7452    1.8834\n",
      "   -1.0323    0.9243\n",
      "   -1.7358   -0.5947\n",
      "   -0.3903   -0.1435\n",
      "   -1.0205   -0.2521\n",
      "    0.6804    0.4366\n",
      "   -0.2850    1.3287\n",
      "    1.8016   -1.6747\n",
      "    1.5432    1.9868\n",
      "    0.1966    0.7409\n",
      "   -0.2501   -0.5858\n",
      "    1.1848   -0.1629\n",
      "   -1.1139    0.2627\n",
      "\n"
     ]
    }
   ],
   "source": [
    "Y=X-repmat(mean(X),N,1)"
   ]
  },
  {
   "cell_type": "code",
   "execution_count": 30,
   "metadata": {},
   "outputs": [
    {
     "name": "stdout",
     "output_type": "stream",
     "text": [
      "\n",
      "ans =\n",
      "\n",
      "   -0.0031   -1.0092\n",
      "   -1.0092   -0.0038\n",
      "\n"
     ]
    }
   ],
   "source": [
    "Y'*Y/N-1"
   ]
  },
  {
   "cell_type": "code",
   "execution_count": 31,
   "metadata": {},
   "outputs": [
    {
     "name": "stdout",
     "output_type": "stream",
     "text": [
      "\n",
      "ans =\n",
      "\n",
      "   -0.0326    0.0369\n",
      "\n"
     ]
    }
   ],
   "source": [
    "mean(X)"
   ]
  },
  {
   "cell_type": "markdown",
   "metadata": {},
   "source": [
    "## fibonacci Series"
   ]
  },
  {
   "cell_type": "code",
   "execution_count": 32,
   "metadata": {},
   "outputs": [
    {
     "name": "stdout",
     "output_type": "stream",
     "text": [
      "\n",
      "fib =\n",
      "\n",
      "     1     1\n",
      "\n"
     ]
    }
   ],
   "source": [
    "fib=[1 1]"
   ]
  },
  {
   "cell_type": "code",
   "execution_count": 33,
   "metadata": {},
   "outputs": [
    {
     "name": "stdout",
     "output_type": "stream",
     "text": [
      "\n",
      "fib =\n",
      "\n",
      "     1     1     2\n",
      "\n"
     ]
    }
   ],
   "source": [
    "fib(end+1)=fib(end-1)+fib(end)"
   ]
  },
  {
   "cell_type": "code",
   "execution_count": 39,
   "metadata": {},
   "outputs": [
    {
     "name": "stdout",
     "output_type": "stream",
     "text": [
      "\n",
      "fib =\n",
      "\n",
      "     1     1     2     3     5     8    13    21    34\n",
      "\n"
     ]
    }
   ],
   "source": [
    "fib(end+1)=fib(end-1)+fib(end)"
   ]
  },
  {
   "cell_type": "code",
   "execution_count": 40,
   "metadata": {},
   "outputs": [
    {
     "name": "stdout",
     "output_type": "stream",
     "text": [
      "\n",
      "ans =\n",
      "\n",
      "     1     2     3     4     5\n",
      "\n"
     ]
    }
   ],
   "source": [
    "1:5"
   ]
  },
  {
   "cell_type": "code",
   "execution_count": 41,
   "metadata": {},
   "outputs": [
    {
     "name": "stdout",
     "output_type": "stream",
     "text": [
      "\n",
      "ans =\n",
      "\n",
      "  Columns 1 through 7\n",
      "\n",
      "    1.0000    1.5000    2.0000    2.5000    3.0000    3.5000    4.0000\n",
      "\n",
      "  Columns 8 through 9\n",
      "\n",
      "    4.5000    5.0000\n",
      "\n"
     ]
    }
   ],
   "source": [
    "1:.5:5"
   ]
  },
  {
   "cell_type": "code",
   "execution_count": 42,
   "metadata": {},
   "outputs": [
    {
     "name": "stdout",
     "output_type": "stream",
     "text": [
      "\n",
      "ans =\n",
      "\n",
      "    1.2000    2.2000    3.2000    4.2000\n",
      "\n"
     ]
    }
   ],
   "source": [
    "1.2:4.5"
   ]
  },
  {
   "cell_type": "markdown",
   "metadata": {},
   "source": [
    "## Dataset"
   ]
  },
  {
   "cell_type": "code",
   "execution_count": 48,
   "metadata": {},
   "outputs": [],
   "source": [
    "load cereal"
   ]
  },
  {
   "cell_type": "code",
   "execution_count": 53,
   "metadata": {},
   "outputs": [
    {
     "name": "stdout",
     "output_type": "stream",
     "text": [
      "\n",
      "cereal = \n",
      "\n",
      "                                              Calories    Protein    Fat\n",
      "    100% Bran                                  70         4          1  \n",
      "    100% Natural Bran                         120         3          5  \n",
      "    All-Bran                                   70         4          1  \n",
      "    All-Bran with Extra Fiber                  50         4          0  \n",
      "    Almond Delight                            110         2          2  \n",
      "    Apple Cinnamon Cheerios                   110         2          2  \n",
      "    Apple Jacks                               110         2          0  \n",
      "    Basic 4                                   130         3          2  \n",
      "    Bran Chex                                  90         2          1  \n",
      "    Bran Flakes                                90         3          0  \n",
      "    Cap n Crunch                              120         1          2  \n",
      "    Cheerios                                  110         6          2  \n",
      "    Cinnamon Toast Crunch                     120         1          3  \n",
      "    Clusters                                  110         3          2  \n",
      "    Cocoa Puffs                               110         1          1  \n",
      "    Corn Chex                                 110         2          0  \n",
      "    Corn Flakes                               100         2          0  \n",
      "    Corn Pops                                 110         1          0  \n",
      "    Count Chocula                             110         1          1  \n",
      "    Cracklin Oat Bran                         110         3          3  \n",
      "    Cream of Wheat (Quick)                    100         3          0  \n",
      "    Crispix                                   110         2          0  \n",
      "    Crispy Wheat & Raisins                    100         2          1  \n",
      "    Double Chex                               100         2          0  \n",
      "    Froot Loops                               110         2          1  \n",
      "    Frosted Flakes                            110         1          0  \n",
      "    Frosted Mini-Wheats                       100         3          0  \n",
      "    Fruit & Fibre Dates, Walnuts, and Oats    120         3          2  \n",
      "    Fruitful Bran                             120         3          0  \n",
      "    Fruity Pebbles                            110         1          1  \n",
      "    Golden Crisp                              100         2          0  \n",
      "    Golden Grahams                            110         1          1  \n",
      "    Grape Nuts Flakes                         100         3          1  \n",
      "    Grape-Nuts                                110         3          0  \n",
      "    Great Grains Pecan                        120         3          3  \n",
      "    Honey Graham Ohs                          120         1          2  \n",
      "    Honey Nut Cheerios                        110         3          1  \n",
      "    Honey-comb                                110         1          0  \n",
      "    Just Right Crunchy  Nuggets               110         2          1  \n",
      "    Just Right Fruit & Nut                    140         3          1  \n",
      "    Kix                                       110         2          1  \n",
      "    Life                                      100         4          2  \n",
      "    Lucky Charms                              110         2          1  \n",
      "    Maypo                                     100         4          1  \n",
      "    Muesli Raisins, Dates, & Almonds          150         4          3  \n",
      "    Muesli Raisins, Peaches, & Pecans         150         4          3  \n",
      "    Mueslix Crispy Blend                      160         3          2  \n",
      "    Multi-Grain Cheerios                      100         2          1  \n",
      "    Nut&Honey Crunch                          120         2          1  \n",
      "    Nutri-Grain Almond-Raisin                 140         3          2  \n",
      "    Nutri-grain Wheat                          90         3          0  \n",
      "    Oatmeal Raisin Crisp                      130         3          2  \n",
      "    Post Nat. Raisin Bran                     120         3          1  \n",
      "    Product 19                                100         3          0  \n",
      "    Puffed Rice                                50         1          0  \n",
      "    Puffed Wheat                               50         2          0  \n",
      "    Quaker Oat Squares                        100         4          1  \n",
      "    Quaker Oatmeal                            100         5          2  \n",
      "    Raisin Bran                               120         3          1  \n",
      "    Raisin Nut Bran                           100         3          2  \n",
      "    Raisin Squares                             90         2          0  \n",
      "    Rice Chex                                 110         1          0  \n",
      "    Rice Krispies                             110         2          0  \n",
      "    Shredded Wheat                             80         2          0  \n",
      "    Shredded Wheat n Bran                      90         3          0  \n",
      "    Shredded Wheat spoon size                  90         3          0  \n",
      "    Smacks                                    110         2          1  \n",
      "    Special K                                 110         6          0  \n",
      "    Strawberry Fruit Wheats                    90         2          0  \n",
      "    Total Corn Flakes                         110         2          1  \n",
      "    Total Raisin Bran                         140         3          1  \n",
      "    Total Whole Grain                         100         3          1  \n",
      "    Triples                                   110         2          1  \n",
      "    Trix                                      110         1          1  \n",
      "    Wheat Chex                                100         3          1  \n",
      "    Wheaties                                  100         3          1  \n",
      "    Wheaties Honey Gold                       110         2          1  \n",
      "\n",
      "\n",
      "                                              Sodium    Fiber    Carbo    Sugars\n",
      "    100% Bran                                 130        10         5      6    \n",
      "    100% Natural Bran                          15         2         8      8    \n",
      "    All-Bran                                  260         9         7      5    \n",
      "    All-Bran with Extra Fiber                 140        14         8      0    \n",
      "    Almond Delight                            200         1        14      8    \n",
      "    Apple Cinnamon Cheerios                   180       1.5      10.5     10    \n",
      "    Apple Jacks                               125         1        11     14    \n",
      "    Basic 4                                   210         2        18      8    \n",
      "    Bran Chex                                 200         4        15      6    \n",
      "    Bran Flakes                               210         5        13      5    \n",
      "    Cap n Crunch                              220         0        12     12    \n",
      "    Cheerios                                  290         2        17      1    \n",
      "    Cinnamon Toast Crunch                     210         0        13      9    \n",
      "    Clusters                                  140         2        13      7    \n",
      "    Cocoa Puffs                               180         0        12     13    \n",
      "    Corn Chex                                 280         0        22      3    \n",
      "    Corn Flakes                               290         1        21      2    \n",
      "    Corn Pops                                  90         1        13     12    \n",
      "    Count Chocula                             180         0        12     13    \n",
      "    Cracklin Oat Bran                         140         4        10      7    \n",
      "    Cream of Wheat (Quick)                     80         1        21      0    \n",
      "    Crispix                                   220         1        21      3    \n",
      "    Crispy Wheat & Raisins                    140         2        11     10    \n",
      "    Double Chex                               190         1        18      5    \n",
      "    Froot Loops                               125         1        11     13    \n",
      "    Frosted Flakes                            200         1        14     11    \n",
      "    Frosted Mini-Wheats                         0         3        14      7    \n",
      "    Fruit & Fibre Dates, Walnuts, and Oats    160         5        12     10    \n",
      "    Fruitful Bran                             240         5        14     12    \n",
      "    Fruity Pebbles                            135         0        13     12    \n",
      "    Golden Crisp                               45         0        11     15    \n",
      "    Golden Grahams                            280         0        15      9    \n",
      "    Grape Nuts Flakes                         140         3        15      5    \n",
      "    Grape-Nuts                                170         3        17      3    \n",
      "    Great Grains Pecan                         75         3        13      4    \n",
      "    Honey Graham Ohs                          220         1        12     11    \n"
     ]
    },
    {
     "name": "stdout",
     "output_type": "stream",
     "text": [
      "    Honey Nut Cheerios                        250       1.5      11.5     10    \n",
      "    Honey-comb                                180         0        14     11    \n",
      "    Just Right Crunchy  Nuggets               170         1        17      6    \n",
      "    Just Right Fruit & Nut                    170         2        20      9    \n",
      "    Kix                                       260         0        21      3    \n",
      "    Life                                      150         2        12      6    \n",
      "    Lucky Charms                              180         0        12     12    \n",
      "    Maypo                                       0         0        16      3    \n",
      "    Muesli Raisins, Dates, & Almonds           95         3        16     11    \n",
      "    Muesli Raisins, Peaches, & Pecans         150         3        16     11    \n",
      "    Mueslix Crispy Blend                      150         3        17     13    \n",
      "    Multi-Grain Cheerios                      220         2        15      6    \n",
      "    Nut&Honey Crunch                          190         0        15      9    \n",
      "    Nutri-Grain Almond-Raisin                 220         3        21      7    \n",
      "    Nutri-grain Wheat                         170         3        18      2    \n",
      "    Oatmeal Raisin Crisp                      170       1.5      13.5     10    \n",
      "    Post Nat. Raisin Bran                     200         6        11     14    \n",
      "    Product 19                                320         1        20      3    \n",
      "    Puffed Rice                                 0         0        13      0    \n",
      "    Puffed Wheat                                0         1        10      0    \n",
      "    Quaker Oat Squares                        135         2        14      6    \n",
      "    Quaker Oatmeal                              0       2.7        -1     -1    \n",
      "    Raisin Bran                               210         5        14     12    \n",
      "    Raisin Nut Bran                           140       2.5      10.5      8    \n",
      "    Raisin Squares                              0         2        15      6    \n",
      "    Rice Chex                                 240         0        23      2    \n",
      "    Rice Krispies                             290         0        22      3    \n",
      "    Shredded Wheat                              0         3        16      0    \n",
      "    Shredded Wheat n Bran                       0         4        19      0    \n",
      "    Shredded Wheat spoon size                   0         3        20      0    \n",
      "    Smacks                                     70         1         9     15    \n",
      "    Special K                                 230         1        16      3    \n",
      "    Strawberry Fruit Wheats                    15         3        15      5    \n",
      "    Total Corn Flakes                         200         0        21      3    \n",
      "    Total Raisin Bran                         190         4        15     14    \n",
      "    Total Whole Grain                         200         3        16      3    \n",
      "    Triples                                   250         0        21      3    \n",
      "    Trix                                      140         0        13     12    \n",
      "    Wheat Chex                                230         3        17      3    \n",
      "    Wheaties                                  200         3        17      3    \n",
      "    Wheaties Honey Gold                       200         1        16      8    \n",
      "\n"
     ]
    }
   ],
   "source": [
    "cereal =dataset(Calories,Protein,Fat,Sodium,...\n",
    "Fiber,Carbo,Sugars,'ObsNames',Name)"
   ]
  },
  {
   "cell_type": "code",
   "execution_count": 55,
   "metadata": {
    "scrolled": true
   },
   "outputs": [
    {
     "name": "stdout",
     "output_type": "stream",
     "text": [
      "\n",
      "ans =\n",
      "\n",
      "     1\n",
      "     5\n",
      "     1\n",
      "     0\n",
      "     2\n",
      "     2\n",
      "     0\n",
      "     2\n",
      "     1\n",
      "     0\n",
      "     2\n",
      "     2\n",
      "     3\n",
      "     2\n",
      "     1\n",
      "     0\n",
      "     0\n",
      "     0\n",
      "     1\n",
      "     3\n",
      "     0\n",
      "     0\n",
      "     1\n",
      "     0\n",
      "     1\n",
      "     0\n",
      "     0\n",
      "     2\n",
      "     0\n",
      "     1\n",
      "     0\n",
      "     1\n",
      "     1\n",
      "     0\n",
      "     3\n",
      "     2\n",
      "     1\n",
      "     0\n",
      "     1\n",
      "     1\n",
      "     1\n",
      "     2\n",
      "     1\n",
      "     1\n",
      "     3\n",
      "     3\n",
      "     2\n",
      "     1\n",
      "     1\n",
      "     2\n",
      "     0\n",
      "     2\n",
      "     1\n",
      "     0\n",
      "     0\n",
      "     0\n",
      "     1\n",
      "     2\n",
      "     1\n",
      "     2\n",
      "     0\n",
      "     0\n",
      "     0\n",
      "     0\n",
      "     0\n",
      "     0\n",
      "     1\n",
      "     0\n",
      "     0\n",
      "     1\n",
      "     1\n",
      "     1\n",
      "     1\n",
      "     1\n",
      "     1\n",
      "     1\n",
      "     1\n",
      "\n"
     ]
    }
   ],
   "source": [
    "cereal.Fat"
   ]
  },
  {
   "cell_type": "markdown",
   "metadata": {},
   "source": [
    "## Structures:combine variables of different types"
   ]
  },
  {
   "cell_type": "code",
   "execution_count": 56,
   "metadata": {},
   "outputs": [
    {
     "name": "stdout",
     "output_type": "stream",
     "text": [
      "\n",
      "obs = \n",
      "\n",
      "  struct with fields:\n",
      "\n",
      "    data: [6 5.5000 4 5.5000]\n",
      "\n"
     ]
    }
   ],
   "source": [
    "obs.data=[6.0 5.5 4.0 5.5]"
   ]
  },
  {
   "cell_type": "code",
   "execution_count": 58,
   "metadata": {},
   "outputs": [
    {
     "name": "stdout",
     "output_type": "stream",
     "text": [
      "\n",
      "obs = \n",
      "\n",
      "  struct with fields:\n",
      "\n",
      "    data: [6 5.5000 4 5.5000]\n",
      "    info: 'Student grades'\n",
      "\n"
     ]
    }
   ],
   "source": [
    "obs.info=['Student grades']"
   ]
  },
  {
   "cell_type": "code",
   "execution_count": 67,
   "metadata": {},
   "outputs": [],
   "source": [
    "comp(1).name='IBM';comp(1).dividend=.12;\n",
    "comp(2).name='Apple';comp(2).dividend=0.0;"
   ]
  },
  {
   "cell_type": "code",
   "execution_count": 68,
   "metadata": {},
   "outputs": [
    {
     "name": "stdout",
     "output_type": "stream",
     "text": [
      "\n",
      "comp = \n",
      "\n",
      "  1x2 struct array with fields:\n",
      "\n",
      "    name\n",
      "    diviend\n",
      "    dividend\n",
      "\n"
     ]
    }
   ],
   "source": [
    "comp "
   ]
  },
  {
   "cell_type": "code",
   "execution_count": 69,
   "metadata": {},
   "outputs": [],
   "source": [
    "load count.dat"
   ]
  },
  {
   "cell_type": "code",
   "execution_count": 70,
   "metadata": {},
   "outputs": [
    {
     "name": "stdout",
     "output_type": "stream",
     "text": [
      "\n",
      "ans =\n",
      "\n",
      "  Columns 1 through 7\n",
      "\n",
      "         0         0         0         0         0         0         0\n",
      "         0         0         0         0         0         0         0\n",
      "         0         0         0         0         0         0         0\n",
      "         0         0         0         0         0         0         0\n",
      "         0         0         0         0         0         0         0\n",
      "         0         0         0         0         0         0         0\n",
      "         0         0         0         0         0         0         0\n",
      "         0         0         0         0         0         0         0\n",
      "         0         0         0         0         0         0         0\n",
      "         0         0         0         0         0         0         0\n",
      "         0         0         0         0         0         0         0\n",
      "         0         0         0         0         0         0         0\n",
      "         0         0         0         0         0         0         0\n",
      "         0         0         0         0         0         0         0\n",
      "         0         0         0         0         0         0         0\n",
      "         0         0         0         0         0         0         0\n",
      "         0         0         0         0         0         0         0\n",
      "         0         0         0         0         0         0         0\n",
      "         0         0         0         0         0         0         0\n",
      "         0         0         0         0         0         0         0\n",
      "         0         0         0         0         0         0         0\n",
      "         0         0         0         0         0         0         0\n",
      "         0         0         0         0         0         0         0\n",
      "         0         0         0         0         0         0         0\n",
      "\n",
      "  Columns 8 through 14\n",
      "\n",
      "         0         0         0         0         0         0         0\n",
      "         0         0         0         0         0         0         0\n",
      "         0         0         0         0         0         0         0\n",
      "         0         0         0         0         0         0         0\n",
      "         0         0         0         0         0         0         0\n",
      "         0         0         0         0         0         0         0\n",
      "         0         0         0         0         0         0         0\n",
      "         0         0         0         0         0         0         0\n",
      "         0         0         0         0         0         0         0\n",
      "         0         0         0         0         0         0         0\n",
      "         0         0         0         0         0         0         0\n",
      "         0         0         0         0         0         0         0\n",
      "         0         0         0         0         0         0         0\n",
      "         0         0         0         0         0         0         0\n",
      "         0         0         0         0         0         0         0\n",
      "         0         0         0         0         0         0         0\n",
      "         0         0         0         0         0         0         0\n",
      "         0         0         0         0         0         0         0\n",
      "         0         0         0         0         0         0         0\n",
      "         0         0         0         0         0         0         0\n",
      "         0         0         0         0         0         0         0\n",
      "         0         0         0         0         0         0         0\n",
      "         0         0         0         0         0         0         0\n",
      "         0         0         0         0         0         0         0\n",
      "\n",
      "  Columns 15 through 21\n",
      "\n",
      "         0         0         0         0         0    0.0621         0\n",
      "         0         0         0         0         0    0.0759         0\n",
      "         0         0         0         0         0    0.1379         0\n",
      "         0         0         0         0         0    0.0621         0\n",
      "         0         0         0         0         0    0.4759         0\n",
      "         0         0         0         0         0    0.5241         0\n",
      "         0         0         0         0         0    1.2828         0\n",
      "         0         0         0         0         0    1.2414         0\n",
      "         0         0         0         0         0    0.7931         0\n",
      "         0         0         0         0         0    0.3793         0\n",
      "         0         0         0         0         0    0.0966         0\n",
      "         0         0         0         0         0    0.2069         0\n",
      "         0         0         0         0         0    0.2000         0\n",
      "         0         0         0         0         0    0.1241         0\n",
      "         0         0         0         0         0    0.3310         0\n",
      "         0         0         0         0         0    0.0690         0\n",
      "         0         0         0         0         0    0.6345         0\n",
      "         0         0         0         0         0    1.0414         0\n",
      "         0         0         0         0         0    0.6207         0\n",
      "         0         0         0         0         0    1.7724         0\n",
      "         0         0         0         0         0    0.4690         0\n",
      "         0         0         0         0         0    0.1034         0\n",
      "         0         0         0         0         0    0.1034         0\n",
      "         0         0         0         0         0    0.0483         0\n",
      "\n",
      "  Columns 22 through 24\n",
      "\n",
      "         0         0         0\n",
      "         0         0         0\n",
      "         0         0         0\n",
      "         0         0         0\n",
      "         0         0         0\n",
      "         0         0         0\n",
      "         0         0         0\n",
      "         0         0         0\n",
      "         0         0         0\n",
      "         0         0         0\n",
      "         0         0         0\n",
      "         0         0         0\n",
      "         0         0         0\n",
      "         0         0         0\n",
      "         0         0         0\n",
      "         0         0         0\n",
      "         0         0         0\n",
      "         0         0         0\n",
      "         0         0         0\n",
      "         0         0         0\n",
      "         0         0         0\n",
      "         0         0         0\n",
      "         0         0         0\n",
      "         0         0         0\n",
      "\n"
     ]
    }
   ],
   "source": [
    "count(:,3)/count(:,2)"
   ]
  },
  {
   "cell_type": "code",
   "execution_count": null,
   "metadata": {},
   "outputs": [],
   "source": [
    "句柄函数（匿名函数）"
   ]
  },
  {
   "cell_type": "code",
   "execution_count": 72,
   "metadata": {},
   "outputs": [
    {
     "name": "stdout",
     "output_type": "stream",
     "text": [
      "\n",
      "sq =\n",
      "\n",
      "  function_handle with value:\n",
      "\n",
      "    @(x)x^2\n",
      "\n"
     ]
    }
   ],
   "source": [
    "sq=@(x)x^2"
   ]
  },
  {
   "cell_type": "code",
   "execution_count": 74,
   "metadata": {},
   "outputs": [
    {
     "name": "stdout",
     "output_type": "stream",
     "text": [
      "\n",
      "ans =\n",
      "\n",
      "     9\n",
      "\n"
     ]
    }
   ],
   "source": [
    "sq(3)"
   ]
  },
  {
   "cell_type": "markdown",
   "metadata": {},
   "source": [
    "## 修改多元函数为一元"
   ]
  },
  {
   "cell_type": "code",
   "execution_count": 75,
   "metadata": {},
   "outputs": [
    {
     "name": "stdout",
     "output_type": "stream",
     "text": [
      "\n",
      "myRand =\n",
      "\n",
      "  function_handle with value:\n",
      "\n",
      "    @(M)randn(10,M)\n",
      "\n"
     ]
    }
   ],
   "source": [
    "myRand=@(M)randn(10,M)"
   ]
  },
  {
   "cell_type": "code",
   "execution_count": 76,
   "metadata": {},
   "outputs": [
    {
     "name": "stdout",
     "output_type": "stream",
     "text": [
      "\n",
      "myUtil =\n",
      "\n",
      "  function_handle with value:\n",
      "\n",
      "    @(c)utilE(c,2)\n",
      "\n"
     ]
    }
   ],
   "source": [
    "myUtil=@(c)utilE(c,2)"
   ]
  },
  {
   "cell_type": "code",
   "execution_count": 77,
   "metadata": {},
   "outputs": [
    {
     "name": "stdout",
     "output_type": "stream",
     "text": [
      "Warning: Function behaves unexpectedly on array inputs. To improve performance, properly vectorize your function to return an output with the same size and shape as the input arguments.\n",
      "> In matlab.graphics.function.FunctionLine>getFunction\n",
      "  In matlab.graphics.function.FunctionLine/updateFunction\n",
      "  In matlab.graphics.function.FunctionLine/set.Function_I\n",
      "  In matlab.graphics.function.FunctionLine/set.Function\n",
      "  In matlab.graphics.function.FunctionLine\n",
      "  In fplot>singleFplot (line 232)\n",
      "  In fplot>@(f)singleFplot(cax,{f},limits,extraOpts,args) (line 191)\n",
      "  In fplot>vectorizeFplot (line 191)\n",
      "  In fplot (line 161)\n"
     ]
    },
    {
     "data": {
      "image/png": "[encoded data removed]",
      "text/plain": [
       "<IPython.core.display.Image object>"
      ]
     },
     "metadata": {},
     "output_type": "display_data"
    }
   ],
   "source": [
    "fplot(myUtil,[0,10])"
   ]
  },
  {
   "cell_type": "markdown",
   "metadata": {},
   "source": [
    "## User-defined Function"
   ]
  },
  {
   "cell_type": "markdown",
   "metadata": {},
   "source": [
    "function y=ccinterest(r,t) \n",
    "y = exp(r*t)\n",
    "end"
   ]
  },
  {
   "cell_type": "code",
   "execution_count": 80,
   "metadata": {},
   "outputs": [
    {
     "name": "stdout",
     "output_type": "stream",
     "text": [
      "/Users/mac/myPrograme/MyCode/多软件交互/Matlab\r\n",
      "\n"
     ]
    }
   ],
   "source": [
    "!pwd "
   ]
  },
  {
   "cell_type": "code",
   "execution_count": 84,
   "metadata": {},
   "outputs": [
    {
     "name": "stdout",
     "output_type": "stream",
     "text": [
      "\n",
      "y =\n",
      "\n",
      "   1.3394e+03\n",
      "\n",
      "\n",
      "ans =\n",
      "\n",
      "   1.3394e+03\n",
      "\n"
     ]
    }
   ],
   "source": [
    "ccinterest(.02,360)"
   ]
  },
  {
   "cell_type": "code",
   "execution_count": null,
   "metadata": {},
   "outputs": [],
   "source": []
  }
 ],
 "metadata": {
  "kernelspec": {
   "display_name": "Matlab",
   "language": "matlab",
   "name": "matlab"
  },
  "language_info": {
   "codemirror_mode": "octave",
   "file_extension": ".m",
   "help_links": [
    {
     "text": "MetaKernel Magics",
     "url": "https://metakernel.readthedocs.io/en/latest/source/README.html"
    }
   ],
   "mimetype": "text/x-octave",
   "name": "matlab",
   "version": "0.16.7"
  },
  "toc": {
   "base_numbering": 1,
   "nav_menu": {},
   "number_sections": true,
   "sideBar": true,
   "skip_h1_title": false,
   "title_cell": "Table of Contents",
   "title_sidebar": "Contents",
   "toc_cell": false,
   "toc_position": {},
   "toc_section_display": true,
   "toc_window_display": false
  },
  "varInspector": {
   "cols": {
    "lenName": 16,
    "lenType": 16,
    "lenVar": 40
   },
   "kernels_config": {
    "python": {
     "delete_cmd_postfix": "",
     "delete_cmd_prefix": "del ",
     "library": "var_list.py",
     "varRefreshCmd": "print(var_dic_list())"
    },
    "r": {
     "delete_cmd_postfix": ") ",
     "delete_cmd_prefix": "rm(",
     "library": "var_list.r",
     "varRefreshCmd": "cat(var_dic_list()) "
    }
   },
   "types_to_exclude": [
    "module",
    "function",
    "builtin_function_or_method",
    "instance",
    "_Feature"
   ],
   "window_display": false
  }
 },
 "nbformat": 4,
 "nbformat_minor": 4
}
