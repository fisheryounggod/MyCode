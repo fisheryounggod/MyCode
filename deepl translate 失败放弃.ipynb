{
 "cells": [
  {
   "cell_type": "code",
   "execution_count": 47,
   "metadata": {},
   "outputs": [],
   "source": [
    "import requests, re \n",
    "from bs4 import BeautifulSoup\n",
    "\n",
    "#伪装浏览器请求，User-Agent和Cookie 可以用你自己的，怎么取看下面的图\n",
    "headers = {\n",
    "'User-Agent': 'Mozilla/5.0 (Linux; Android 6.0; Nexus 5 Build/MRA58N) AppleWebKit/537.36 (KHTML, like Gecko) Chrome/87.0.4252.0 Mobile Safari/537.36',\n",
    "'Cookie': 'douban-fav-remind=1; __utmv=30149280.16978; _vwo_uuid_v2=DDD5895808DE7E9CB8CF3622EDE83E19F|f7415610d6f409d7ef3e490b50292472; gr_user_id=c7965316-718c-417b-ac56-de39a3dd1bc5; bid=Ej-BNFqPJ4E; __gads=ID=4b790f75d1593ca3:T=1596016524:S=ALNI_MYnJgTddR0qkgArrqSGWpxZdDVCMw; __utmz=81379588.1597758367.5.5.utmcsr=google|utmccn=(organic)|utmcmd=organic|utmctr=(not%20provided); __yadk_uid=dthppF6eMZUQK4ovD2ODrJKD3wOaxnfd; viewed=\"3682755_1281898_3180810_1928447_27667993_1230154_1425950\"; __utmz=30149280.1598270612.18.12.utmcsr=google|utmccn=(organic)|utmcmd=organic|utmctr=(not%20provided); ap_v=0,6.0; _pk_ref.100001.3ac3=%5B%22%22%2C%22%22%2C1599213514%2C%22https%3A%2F%2Fwww.google.com%2F%22%5D; _pk_id.100001.3ac3=4901495638d02854.1584066010.6.1599213514.1597760195.; _pk_ses.100001.3ac3=*; __utma=30149280.41149086.1560401556.1598270612.1599213514.19; __utmc=30149280; __utmb=30149280.1.10.1599213514; __utma=81379588.1695630245.1584066010.1597758367.1599213514.6; __utmc=81379588; __utmb=81379588.1.10.1599213514'}\n",
    "url = \"https://www.deepl.com/translator#zh/en/放松\"\n",
    "res = requests.get(url,headers=headers,timeout =20) # 获取网页信息，timeout要设置，不然可能因为超时导致抓取信息失败\n",
    "# print(res.status_code,res.apparent_encoding,res.content,res.encoding) #response响应的一些信息\n",
    "res.encoding = res.apparent_encoding #设置请求头的编码\n",
    "response = res.text #获取网页的内容\n",
    "\n",
    "#用lxml方法来解析网页，默认是html.parse\n",
    "soup = BeautifulSoup(response,'lxml')\n",
    "#找到所有<li class = \"subject-item\">这样的标签，注意find_all方法返回的是list类型，下面使用的时候要用for循环，find是只找到第一个符合条件的标签，返回的是bs4.element类型，可以直接调用方法"
   ]
  },
  {
   "cell_type": "code",
   "execution_count": 67,
   "metadata": {},
   "outputs": [
    {
     "data": {
      "text/plain": [
       "[<div class=\"lmt__textarea lmt__textarea_dummydiv\" id=\"source-dummydiv\"></div>,\n",
       " <div class=\"lmt__textarea lmt__textarea_dummydiv\" id=\"target-dummydiv\"></div>]"
      ]
     },
     "execution_count": 67,
     "metadata": {},
     "output_type": "execute_result"
    }
   ],
   "source": [
    "soup.find_all(\"div\", class_ =\"lmt__textarea lmt__textarea_dummydiv\")"
   ]
  },
  {
   "cell_type": "code",
   "execution_count": 32,
   "metadata": {},
   "outputs": [
    {
     "data": {
      "text/plain": [
       "[]"
      ]
     },
     "execution_count": 32,
     "metadata": {},
     "output_type": "execute_result"
    }
   ],
   "source": [
    "link=re.findall(r'<div id=\"target-dummydiv\" class=\"lmt__textarea lmt__textarea_dummydiv\">.*</div>',response)\n",
    "link"
   ]
  },
  {
   "cell_type": "code",
   "execution_count": 23,
   "metadata": {},
   "outputs": [],
   "source": [
    "import requests, re \n",
    "from bs4 import BeautifulSoup\n",
    "\n",
    "#伪装浏览器请求，User-Agent和Cookie 可以用你自己的，怎么取看下面的图\n",
    "headers = {\n",
    "'User-Agent': 'Mozilla/5.0 (Linux; Android 6.0; Nexus 5 Build/MRA58N) AppleWebKit/537.36 (KHTML, like Gecko) Chrome/87.0.4252.0 Mobile Safari/537.36',\n",
    "'Cookie': 'douban-fav-remind=1; __utmv=30149280.16978; _vwo_uuid_v2=DDD5895808DE7E9CB8CF3622EDE83E19F|f7415610d6f409d7ef3e490b50292472; gr_user_id=c7965316-718c-417b-ac56-de39a3dd1bc5; bid=Ej-BNFqPJ4E; __gads=ID=4b790f75d1593ca3:T=1596016524:S=ALNI_MYnJgTddR0qkgArrqSGWpxZdDVCMw; __utmz=81379588.1597758367.5.5.utmcsr=google|utmccn=(organic)|utmcmd=organic|utmctr=(not%20provided); __yadk_uid=dthppF6eMZUQK4ovD2ODrJKD3wOaxnfd; viewed=\"3682755_1281898_3180810_1928447_27667993_1230154_1425950\"; __utmz=30149280.1598270612.18.12.utmcsr=google|utmccn=(organic)|utmcmd=organic|utmctr=(not%20provided); ap_v=0,6.0; _pk_ref.100001.3ac3=%5B%22%22%2C%22%22%2C1599213514%2C%22https%3A%2F%2Fwww.google.com%2F%22%5D; _pk_id.100001.3ac3=4901495638d02854.1584066010.6.1599213514.1597760195.; _pk_ses.100001.3ac3=*; __utma=30149280.41149086.1560401556.1598270612.1599213514.19; __utmc=30149280; __utmb=30149280.1.10.1599213514; __utma=81379588.1695630245.1584066010.1597758367.1599213514.6; __utmc=81379588; __utmb=81379588.1.10.1599213514'}\n",
    "url = \"https://book.douban.com/tag/文学?start=0&type=T\"\n",
    "res = requests.get(url,headers=headers,timeout =20) # 获取网页信息，timeout要设置，不然可能因为超时导致抓取信息失败\n",
    "# print(res.stapip3 install pydeepltus_code,res.apparent_encoding,res.content,res.encoding) #response响应的一些信息\n",
    "res.encoding = res.apparent_encoding #设置请求头的编码\n",
    "response = res.text #获取网页的内容\n",
    "\n",
    "#用lxml方法来解析网页，默认是html.parse\n",
    "soup = BeautifulSoup(response,'lxml')\n",
    "#找到所有<li class = \"subject-item\">这样的标签，注意find_all方法返回的是list类型，下面使用的时候要用for循环，find是只找到第一个符合条件的标签，返回的是bs4.element类型，可以直接调用方法\n",
    "artiche = soup.find_all('div','pub')"
   ]
  },
  {
   "cell_type": "code",
   "execution_count": 71,
   "metadata": {},
   "outputs": [
    {
     "ename": "ModuleNotFoundError",
     "evalue": "No module named 'OCR_with_tessercat'",
     "output_type": "error",
     "traceback": [
      "\u001b[0;31m---------------------------------------------------------------------------\u001b[0m",
      "\u001b[0;31mModuleNotFoundError\u001b[0m                       Traceback (most recent call last)",
      "\u001b[0;32m<ipython-input-71-eafa5cf7e878>\u001b[0m in \u001b[0;36m<module>\u001b[0;34m\u001b[0m\n\u001b[1;32m      1\u001b[0m \u001b[0;32mimport\u001b[0m \u001b[0mpydeepl\u001b[0m\u001b[0;34m\u001b[0m\u001b[0;34m\u001b[0m\u001b[0m\n\u001b[0;32m----> 2\u001b[0;31m \u001b[0;32mimport\u001b[0m \u001b[0mOCR_with_tessercat\u001b[0m\u001b[0;34m\u001b[0m\u001b[0;34m\u001b[0m\u001b[0m\n\u001b[0m\u001b[1;32m      3\u001b[0m \u001b[0;34m\u001b[0m\u001b[0m\n\u001b[1;32m      4\u001b[0m \u001b[0;32mdef\u001b[0m \u001b[0mlanguage_setting\u001b[0m\u001b[0;34m(\u001b[0m\u001b[0;34m)\u001b[0m\u001b[0;34m:\u001b[0m\u001b[0;34m\u001b[0m\u001b[0;34m\u001b[0m\u001b[0m\n\u001b[1;32m      5\u001b[0m     \u001b[0mpromt\u001b[0m\u001b[0;34m=\u001b[0m\u001b[0;34m\"请输入目标语言\\n\"\u001b[0m\u001b[0;34m\u001b[0m\u001b[0;34m\u001b[0m\u001b[0m\n",
      "\u001b[0;31mModuleNotFoundError\u001b[0m: No module named 'OCR_with_tessercat'"
     ]
    }
   ],
   "source": [
    "import pydeepl\n",
    "import OCR_with_tessercat\n",
    "\n",
    "def language_setting():\n",
    "    promt=\"请输入目标语言\\n\"\n",
    "    promt+=\"Deutsch: DE\\nEnglish:EN\\nFrench:FR\\n\"\n",
    "    text= image_to_text()\n",
    "    \n",
    "    to_language = input(promt).upper()\n",
    "\n",
    "    translation = pydeepl.translate(text, to_language)\n",
    "    return translation\n",
    "language_setting()"
   ]
  },
  {
   "cell_type": "code",
   "execution_count": 74,
   "metadata": {},
   "outputs": [
    {
     "name": "stdout",
     "output_type": "stream",
     "text": [
      "Help on function translate in module pydeepl.pydeepl:\n",
      "\n",
      "translate(text, to_lang, from_lang='auto', json=False)\n",
      "\n"
     ]
    }
   ],
   "source": [
    "help(pydeepl.translate)"
   ]
  },
  {
   "cell_type": "code",
   "execution_count": 78,
   "metadata": {},
   "outputs": [
    {
     "ename": "TranslationError",
     "evalue": "DeepL call resulted in a unknown result.",
     "output_type": "error",
     "traceback": [
      "\u001b[0;31m---------------------------------------------------------------------------\u001b[0m",
      "\u001b[0;31mTranslationError\u001b[0m                          Traceback (most recent call last)",
      "\u001b[0;32m<ipython-input-78-24bbad6389b6>\u001b[0m in \u001b[0;36m<module>\u001b[0;34m\u001b[0m\n\u001b[0;32m----> 1\u001b[0;31m \u001b[0mpydeepl\u001b[0m\u001b[0;34m.\u001b[0m\u001b[0mtranslate\u001b[0m\u001b[0;34m(\u001b[0m\u001b[0;34m\"英雄\"\u001b[0m\u001b[0;34m,\u001b[0m\u001b[0;34m\"EN\"\u001b[0m\u001b[0;34m,\u001b[0m\u001b[0mfrom_lang\u001b[0m\u001b[0;34m=\u001b[0m\u001b[0;34m'auto'\u001b[0m\u001b[0;34m)\u001b[0m\u001b[0;34m\u001b[0m\u001b[0;34m\u001b[0m\u001b[0m\n\u001b[0m",
      "\u001b[0;32m~/.pyenv/versions/3.7.3/lib/python3.7/site-packages/pydeepl/pydeepl.py\u001b[0m in \u001b[0;36mtranslate\u001b[0;34m(text, to_lang, from_lang, json)\u001b[0m\n\u001b[1;32m     95\u001b[0m \u001b[0;34m\u001b[0m\u001b[0m\n\u001b[1;32m     96\u001b[0m     \u001b[0;32mif\u001b[0m \u001b[0;34m'result'\u001b[0m \u001b[0;32mnot\u001b[0m \u001b[0;32min\u001b[0m \u001b[0mresponse\u001b[0m\u001b[0;34m:\u001b[0m\u001b[0;34m\u001b[0m\u001b[0;34m\u001b[0m\u001b[0m\n\u001b[0;32m---> 97\u001b[0;31m         \u001b[0;32mraise\u001b[0m \u001b[0mTranslationError\u001b[0m\u001b[0;34m(\u001b[0m\u001b[0;34m'DeepL call resulted in a unknown result.'\u001b[0m\u001b[0;34m)\u001b[0m\u001b[0;34m\u001b[0m\u001b[0;34m\u001b[0m\u001b[0m\n\u001b[0m\u001b[1;32m     98\u001b[0m \u001b[0;34m\u001b[0m\u001b[0m\n\u001b[1;32m     99\u001b[0m     \u001b[0mtranslations\u001b[0m \u001b[0;34m=\u001b[0m \u001b[0mresponse\u001b[0m\u001b[0;34m[\u001b[0m\u001b[0;34m'result'\u001b[0m\u001b[0;34m]\u001b[0m\u001b[0;34m[\u001b[0m\u001b[0;34m'translations'\u001b[0m\u001b[0;34m]\u001b[0m\u001b[0;34m\u001b[0m\u001b[0;34m\u001b[0m\u001b[0m\n",
      "\u001b[0;31mTranslationError\u001b[0m: DeepL call resulted in a unknown result."
     ]
    }
   ],
   "source": [
    "pydeepl.translate(\"英雄\",\"EN\",from_lang='auto')"
   ]
  },
  {
   "cell_type": "code",
   "execution_count": 79,
   "metadata": {},
   "outputs": [
    {
     "ename": "TranslationError",
     "evalue": "DeepL call resulted in a unknown result.",
     "output_type": "error",
     "traceback": [
      "\u001b[0;31m---------------------------------------------------------------------------\u001b[0m",
      "\u001b[0;31mTranslationError\u001b[0m                          Traceback (most recent call last)",
      "\u001b[0;32m<ipython-input-79-31a9046c64f3>\u001b[0m in \u001b[0;36m<module>\u001b[0;34m\u001b[0m\n\u001b[1;32m      3\u001b[0m \u001b[0mfrom_language\u001b[0m\u001b[0;34m=\u001b[0m\u001b[0;34m'EN'\u001b[0m\u001b[0;34m\u001b[0m\u001b[0;34m\u001b[0m\u001b[0m\n\u001b[1;32m      4\u001b[0m \u001b[0mto_language\u001b[0m\u001b[0;34m=\u001b[0m\u001b[0;34m'ES'\u001b[0m\u001b[0;34m\u001b[0m\u001b[0;34m\u001b[0m\u001b[0m\n\u001b[0;32m----> 5\u001b[0;31m \u001b[0mtranslation\u001b[0m\u001b[0;34m=\u001b[0m\u001b[0mpydeepl\u001b[0m\u001b[0;34m.\u001b[0m\u001b[0mtranslate\u001b[0m\u001b[0;34m(\u001b[0m\u001b[0msentence\u001b[0m\u001b[0;34m,\u001b[0m\u001b[0mto_language\u001b[0m\u001b[0;34m,\u001b[0m\u001b[0mfrom_lang\u001b[0m\u001b[0;34m=\u001b[0m\u001b[0mfrom_language\u001b[0m\u001b[0;34m)\u001b[0m\u001b[0;34m\u001b[0m\u001b[0;34m\u001b[0m\u001b[0m\n\u001b[0m\u001b[1;32m      6\u001b[0m \u001b[0mprint\u001b[0m\u001b[0;34m(\u001b[0m\u001b[0mtranslation\u001b[0m\u001b[0;34m)\u001b[0m\u001b[0;34m\u001b[0m\u001b[0;34m\u001b[0m\u001b[0m\n",
      "\u001b[0;32m~/.pyenv/versions/3.7.3/lib/python3.7/site-packages/pydeepl/pydeepl.py\u001b[0m in \u001b[0;36mtranslate\u001b[0;34m(text, to_lang, from_lang, json)\u001b[0m\n\u001b[1;32m     95\u001b[0m \u001b[0;34m\u001b[0m\u001b[0m\n\u001b[1;32m     96\u001b[0m     \u001b[0;32mif\u001b[0m \u001b[0;34m'result'\u001b[0m \u001b[0;32mnot\u001b[0m \u001b[0;32min\u001b[0m \u001b[0mresponse\u001b[0m\u001b[0;34m:\u001b[0m\u001b[0;34m\u001b[0m\u001b[0;34m\u001b[0m\u001b[0m\n\u001b[0;32m---> 97\u001b[0;31m         \u001b[0;32mraise\u001b[0m \u001b[0mTranslationError\u001b[0m\u001b[0;34m(\u001b[0m\u001b[0;34m'DeepL call resulted in a unknown result.'\u001b[0m\u001b[0;34m)\u001b[0m\u001b[0;34m\u001b[0m\u001b[0;34m\u001b[0m\u001b[0m\n\u001b[0m\u001b[1;32m     98\u001b[0m \u001b[0;34m\u001b[0m\u001b[0m\n\u001b[1;32m     99\u001b[0m     \u001b[0mtranslations\u001b[0m \u001b[0;34m=\u001b[0m \u001b[0mresponse\u001b[0m\u001b[0;34m[\u001b[0m\u001b[0;34m'result'\u001b[0m\u001b[0;34m]\u001b[0m\u001b[0;34m[\u001b[0m\u001b[0;34m'translations'\u001b[0m\u001b[0;34m]\u001b[0m\u001b[0;34m\u001b[0m\u001b[0;34m\u001b[0m\u001b[0m\n",
      "\u001b[0;31mTranslationError\u001b[0m: DeepL call resulted in a unknown result."
     ]
    }
   ],
   "source": [
    "import pydeepl\n",
    "sentence='I like turtles.'\n",
    "from_language='EN'\n",
    "to_language='ES'\n",
    "translation=pydeepl.translate(sentence,to_language,from_lang=from_language)\n",
    "print(translation)"
   ]
  },
  {
   "cell_type": "code",
   "execution_count": null,
   "metadata": {},
   "outputs": [],
   "source": [
    "# Using auto-detection\n",
    "translation=pydeepl.translate(sentence,to_language)\n",
    "print(translation)"
   ]
  }
 ],
 "metadata": {
  "kernelspec": {
   "display_name": "Python 3",
   "language": "python",
   "name": "python3"
  },
  "language_info": {
   "codemirror_mode": {
    "name": "ipython",
    "version": 3
   },
   "file_extension": ".py",
   "mimetype": "text/x-python",
   "name": "python",
   "nbconvert_exporter": "python",
   "pygments_lexer": "ipython3",
   "version": "3.7.3"
  },
  "toc": {
   "base_numbering": 1,
   "nav_menu": {},
   "number_sections": true,
   "sideBar": true,
   "skip_h1_title": false,
   "title_cell": "Table of Contents",
   "title_sidebar": "Contents",
   "toc_cell": false,
   "toc_position": {},
   "toc_section_display": true,
   "toc_window_display": false
  },
  "varInspector": {
   "cols": {
    "lenName": 16,
    "lenType": 16,
    "lenVar": 40
   },
   "kernels_config": {
    "python": {
     "delete_cmd_postfix": "",
     "delete_cmd_prefix": "del ",
     "library": "var_list.py",
     "varRefreshCmd": "print(var_dic_list())"
    },
    "r": {
     "delete_cmd_postfix": ") ",
     "delete_cmd_prefix": "rm(",
     "library": "var_list.r",
     "varRefreshCmd": "cat(var_dic_list()) "
    }
   },
   "types_to_exclude": [
    "module",
    "function",
    "builtin_function_or_method",
    "instance",
    "_Feature"
   ],
   "window_display": false
  }
 },
 "nbformat": 4,
 "nbformat_minor": 4
}
