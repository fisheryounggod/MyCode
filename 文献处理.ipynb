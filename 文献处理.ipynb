{
 "cells": [
  {
   "cell_type": "code",
   "execution_count": 1,
   "metadata": {},
   "outputs": [],
   "source": [
    "f = open(\"wenxian.txt\",\"r\")   #设置文件对象\n",
    "str = f.read()     #将txt文件的所有内容读入到字符串str中\n",
    "f.close()   #将文件关闭\n",
    "\n",
    "str=str.title()\n",
    "\n",
    "with open('data.txt','w') as f:    #设置文件对象\n",
    "    f.write(str)                 #将字符串写入文件中"
   ]
  },
  {
   "cell_type": "code",
   "execution_count": 4,
   "metadata": {},
   "outputs": [],
   "source": [
    "a='Http://Www.A4Id.Org/Policy/Understanding-the-Developed developing-Country-Taxonomy.'"
   ]
  },
  {
   "cell_type": "code",
   "execution_count": 5,
   "metadata": {},
   "outputs": [
    {
     "data": {
      "text/plain": [
       "'http://www.a4id.org/policy/understanding-the-developed developing-country-taxonomy.'"
      ]
     },
     "execution_count": 5,
     "metadata": {},
     "output_type": "execute_result"
    }
   ],
   "source": [
    "a.lower()"
   ]
  },
  {
   "cell_type": "code",
   "execution_count": 10,
   "metadata": {},
   "outputs": [
    {
     "data": {
      "application/javascript": [
       "\n",
       "        if (window._pyforest_update_imports_cell) { window._pyforest_update_imports_cell('import plotly.express as px\\nfrom sklearn.ensemble import RandomForestClassifier\\nfrom sklearn.preprocessing import OneHotEncoder\\nimport matplotlib.pyplot as plt\\nimport seaborn as sns\\nimport sklearn\\nfrom sklearn.ensemble import GradientBoostingClassifier\\nimport pickle\\nimport pandas as pd\\nfrom sklearn.ensemble import GradientBoostingRegressor\\nimport plotly as py\\nfrom pathlib import Path\\nfrom sklearn.ensemble import RandomForestRegressor'); }\n",
       "    "
      ],
      "text/plain": [
       "<IPython.core.display.Javascript object>"
      ]
     },
     "metadata": {},
     "output_type": "display_data"
    },
    {
     "data": {
      "text/html": [
       "<div>\n",
       "<style scoped>\n",
       "    .dataframe tbody tr th:only-of-type {\n",
       "        vertical-align: middle;\n",
       "    }\n",
       "\n",
       "    .dataframe tbody tr th {\n",
       "        vertical-align: top;\n",
       "    }\n",
       "\n",
       "    .dataframe thead th {\n",
       "        text-align: right;\n",
       "    }\n",
       "</style>\n",
       "<table border=\"1\" class=\"dataframe\">\n",
       "  <thead>\n",
       "    <tr style=\"text-align: right;\">\n",
       "      <th></th>\n",
       "      <th>1</th>\n",
       "      <th>2</th>\n",
       "      <th>3</th>\n",
       "      <th>4</th>\n",
       "      <th>5</th>\n",
       "      <th>6</th>\n",
       "      <th>7</th>\n",
       "      <th>8</th>\n",
       "      <th>9</th>\n",
       "      <th>10</th>\n",
       "      <th>11</th>\n",
       "      <th>12</th>\n",
       "    </tr>\n",
       "  </thead>\n",
       "  <tbody>\n",
       "    <tr>\n",
       "      <th>0</th>\n",
       "      <td>Aghion</td>\n",
       "      <td>Philippe</td>\n",
       "      <td>Philippe Bacchetta</td>\n",
       "      <td>and Abhijit Banerjee</td>\n",
       "      <td>2000. A simple model of monetary policy and c...</td>\n",
       "      <td>European Economic Review</td>\n",
       "      <td>Vol. 44</td>\n",
       "      <td>No. 4-6</td>\n",
       "      <td>pp. 728—738.</td>\n",
       "      <td>NaN</td>\n",
       "      <td>NaN</td>\n",
       "      <td>NaN</td>\n",
       "    </tr>\n",
       "    <tr>\n",
       "      <th>1</th>\n",
       "      <td>Aghion</td>\n",
       "      <td>Philippe</td>\n",
       "      <td>Philippe Bacchetta</td>\n",
       "      <td>and Abhijit Banerjee</td>\n",
       "      <td>2004. A corporate balance-sheet approach to c...</td>\n",
       "      <td>Journal of Economic Theory</td>\n",
       "      <td>Vol. 119</td>\n",
       "      <td>No. 1</td>\n",
       "      <td>pp. 6—30.</td>\n",
       "      <td>NaN</td>\n",
       "      <td>NaN</td>\n",
       "      <td>NaN</td>\n",
       "    </tr>\n",
       "    <tr>\n",
       "      <th>2</th>\n",
       "      <td>Aizenman</td>\n",
       "      <td>Joshua</td>\n",
       "      <td>1994. Monetary and real shocks</td>\n",
       "      <td>productive capacity and exchange rate regimes</td>\n",
       "      <td>Economica</td>\n",
       "      <td>New Series</td>\n",
       "      <td>Vol. 61</td>\n",
       "      <td>No. 244</td>\n",
       "      <td>pp. 407—434.</td>\n",
       "      <td>NaN</td>\n",
       "      <td>NaN</td>\n",
       "      <td>NaN</td>\n",
       "    </tr>\n",
       "    <tr>\n",
       "      <th>3</th>\n",
       "      <td>Aizenman</td>\n",
       "      <td>Joshua</td>\n",
       "      <td>and Jacob A. Frenkel</td>\n",
       "      <td>1985. Optimal wage indexation</td>\n",
       "      <td>foreign exchange intervention</td>\n",
       "      <td>and monetary policy</td>\n",
       "      <td>American Economic Review</td>\n",
       "      <td>Vol. 75</td>\n",
       "      <td>No. 3</td>\n",
       "      <td>402—423.</td>\n",
       "      <td>NaN</td>\n",
       "      <td>NaN</td>\n",
       "    </tr>\n",
       "    <tr>\n",
       "      <th>4</th>\n",
       "      <td>Aizenman</td>\n",
       "      <td>Joshua</td>\n",
       "      <td>and Mahir Binici</td>\n",
       "      <td>2015. Exchange market pressure in OECD and em...</td>\n",
       "      <td>NBER</td>\n",
       "      <td>Working Paper</td>\n",
       "      <td>No. 21662.</td>\n",
       "      <td>NaN</td>\n",
       "      <td>NaN</td>\n",
       "      <td>NaN</td>\n",
       "      <td>NaN</td>\n",
       "      <td>NaN</td>\n",
       "    </tr>\n",
       "  </tbody>\n",
       "</table>\n",
       "</div>"
      ],
      "text/plain": [
       "         1          2                                3   ...         10   11  12\n",
       "0    Aghion   Philippe               Philippe Bacchetta  ...        NaN  NaN NaN\n",
       "1    Aghion   Philippe               Philippe Bacchetta  ...        NaN  NaN NaN\n",
       "2  Aizenman     Joshua   1994. Monetary and real shocks  ...        NaN  NaN NaN\n",
       "3  Aizenman     Joshua             and Jacob A. Frenkel  ...   402—423.  NaN NaN\n",
       "4  Aizenman     Joshua                 and Mahir Binici  ...        NaN  NaN NaN\n",
       "\n",
       "[5 rows x 12 columns]"
      ]
     },
     "execution_count": 10,
     "metadata": {},
     "output_type": "execute_result"
    }
   ],
   "source": [
    "df=pd.read_excel(\"文献分词.xlsx\",sheet_name='Sheet2',header=0)\n",
    "df.head()"
   ]
  },
  {
   "cell_type": "code",
   "execution_count": 20,
   "metadata": {},
   "outputs": [
    {
     "data": {
      "text/plain": [
       "' 2000. A Simple Model Of Monetary Policy And Currency Crises'"
      ]
     },
     "execution_count": 20,
     "metadata": {},
     "output_type": "execute_result"
    }
   ],
   "source": [
    "df.iloc[0,4].title()"
   ]
  },
  {
   "cell_type": "code",
   "execution_count": 21,
   "metadata": {},
   "outputs": [],
   "source": [
    "import os\n",
    "import xlwings as xw\n",
    "def my_macro():\n",
    "    sheet = xw.Book.caller().sheets[0]\n",
    "    sheet.range('A1').value = df.iloc[0,4].title()\n",
    "if __name__ == '__main__':\n",
    "    xw.Book('文献分词.xlsx').set_mock_caller()     # 设置调用者\n",
    "my_macro()"
   ]
  },
  {
   "cell_type": "code",
   "execution_count": 1,
   "metadata": {},
   "outputs": [
    {
     "name": "stdout",
     "output_type": "stream",
     "text": [
      "A Simple Model Of Monetary Policy And Currency Crises\n"
     ]
    }
   ],
   "source": [
    "a='A simple model of monetary policy and currency crises'\n",
    "print(a.title())"
   ]
  },
  {
   "cell_type": "code",
   "execution_count": 3,
   "metadata": {},
   "outputs": [
    {
     "data": {
      "text/plain": [
       "'A Corporate Balance-Sheet Approach To Currency Crises'"
      ]
     },
     "execution_count": 3,
     "metadata": {},
     "output_type": "execute_result"
    }
   ],
   "source": [
    "b='A corporate balance-sheet approach to currency crises'\n",
    "b.title()"
   ]
  },
  {
   "cell_type": "code",
   "execution_count": 5,
   "metadata": {},
   "outputs": [
    {
     "data": {
      "text/plain": [
       "'Optimal Wage Indexation, Foreign Exchange Intervention, And Monetary Policy'"
      ]
     },
     "execution_count": 5,
     "metadata": {},
     "output_type": "execute_result"
    }
   ],
   "source": [
    "c='Optimal wage indexation, foreign exchange intervention, and monetary policy'\n",
    "c.title()"
   ]
  },
  {
   "cell_type": "code",
   "execution_count": null,
   "metadata": {},
   "outputs": [],
   "source": []
  }
 ],
 "metadata": {
  "hide_input": false,
  "kernelspec": {
   "display_name": "Python 3",
   "language": "python",
   "name": "python3"
  },
  "language_info": {
   "codemirror_mode": {
    "name": "ipython",
    "version": 3
   },
   "file_extension": ".py",
   "mimetype": "text/x-python",
   "name": "python",
   "nbconvert_exporter": "python",
   "pygments_lexer": "ipython3",
   "version": "3.7.3"
  },
  "toc": {
   "base_numbering": 1,
   "nav_menu": {},
   "number_sections": true,
   "sideBar": true,
   "skip_h1_title": false,
   "title_cell": "Table of Contents",
   "title_sidebar": "Contents",
   "toc_cell": false,
   "toc_position": {},
   "toc_section_display": true,
   "toc_window_display": false
  },
  "varInspector": {
   "cols": {
    "lenName": 16,
    "lenType": 16,
    "lenVar": 40
   },
   "kernels_config": {
    "python": {
     "delete_cmd_postfix": "",
     "delete_cmd_prefix": "del ",
     "library": "var_list.py",
     "varRefreshCmd": "print(var_dic_list())"
    },
    "r": {
     "delete_cmd_postfix": ") ",
     "delete_cmd_prefix": "rm(",
     "library": "var_list.r",
     "varRefreshCmd": "cat(var_dic_list()) "
    }
   },
   "types_to_exclude": [
    "module",
    "function",
    "builtin_function_or_method",
    "instance",
    "_Feature"
   ],
   "window_display": false
  }
 },
 "nbformat": 4,
 "nbformat_minor": 4
}
