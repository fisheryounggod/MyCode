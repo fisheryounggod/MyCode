{
 "cells": [
  {
   "cell_type": "code",
   "execution_count": 1,
   "metadata": {},
   "outputs": [],
   "source": [
    "import pandas as pd "
   ]
  },
  {
   "cell_type": "code",
   "execution_count": 6,
   "metadata": {},
   "outputs": [
    {
     "data": {
      "text/html": [
       "<div>\n",
       "<style scoped>\n",
       "    .dataframe tbody tr th:only-of-type {\n",
       "        vertical-align: middle;\n",
       "    }\n",
       "\n",
       "    .dataframe tbody tr th {\n",
       "        vertical-align: top;\n",
       "    }\n",
       "\n",
       "    .dataframe thead th {\n",
       "        text-align: right;\n",
       "    }\n",
       "</style>\n",
       "<table border=\"1\" class=\"dataframe\">\n",
       "  <thead>\n",
       "    <tr style=\"text-align: right;\">\n",
       "      <th></th>\n",
       "      <th>price</th>\n",
       "    </tr>\n",
       "    <tr>\n",
       "      <th>date</th>\n",
       "      <th></th>\n",
       "    </tr>\n",
       "  </thead>\n",
       "  <tbody>\n",
       "    <tr>\n",
       "      <th>1991-02-06</th>\n",
       "      <td>94.5185</td>\n",
       "    </tr>\n",
       "    <tr>\n",
       "      <th>1991-02-07</th>\n",
       "      <td>94.1007</td>\n",
       "    </tr>\n",
       "    <tr>\n",
       "      <th>1991-02-08</th>\n",
       "      <td>95.0833</td>\n",
       "    </tr>\n",
       "    <tr>\n",
       "      <th>1991-02-11</th>\n",
       "      <td>95.3890</td>\n",
       "    </tr>\n",
       "    <tr>\n",
       "      <th>1991-02-12</th>\n",
       "      <td>95.7509</td>\n",
       "    </tr>\n",
       "    <tr>\n",
       "      <th>...</th>\n",
       "      <td>...</td>\n",
       "    </tr>\n",
       "    <tr>\n",
       "      <th>1991-06-24</th>\n",
       "      <td>91.8721</td>\n",
       "    </tr>\n",
       "    <tr>\n",
       "      <th>1991-06-25</th>\n",
       "      <td>92.1998</td>\n",
       "    </tr>\n",
       "    <tr>\n",
       "      <th>1991-06-26</th>\n",
       "      <td>92.4053</td>\n",
       "    </tr>\n",
       "    <tr>\n",
       "      <th>1991-06-27</th>\n",
       "      <td>92.2597</td>\n",
       "    </tr>\n",
       "    <tr>\n",
       "      <th>1991-06-28</th>\n",
       "      <td>91.8192</td>\n",
       "    </tr>\n",
       "  </tbody>\n",
       "</table>\n",
       "<p>100 rows × 1 columns</p>\n",
       "</div>"
      ],
      "text/plain": [
       "              price\n",
       "date               \n",
       "1991-02-06  94.5185\n",
       "1991-02-07  94.1007\n",
       "1991-02-08  95.0833\n",
       "1991-02-11  95.3890\n",
       "1991-02-12  95.7509\n",
       "...             ...\n",
       "1991-06-24  91.8721\n",
       "1991-06-25  92.1998\n",
       "1991-06-26  92.4053\n",
       "1991-06-27  92.2597\n",
       "1991-06-28  91.8192\n",
       "\n",
       "[100 rows x 1 columns]"
      ]
     },
     "execution_count": 6,
     "metadata": {},
     "output_type": "execute_result"
    }
   ],
   "source": [
    "df=pd.read_excel(\"./BCOM Index彭博商品指数.xlsx\",index_col=\"date\",parse_dates=True)\n",
    "df.head(100)"
   ]
  },
  {
   "cell_type": "code",
   "execution_count": 17,
   "metadata": {},
   "outputs": [
    {
     "data": {
      "text/html": [
       "<div>\n",
       "<style scoped>\n",
       "    .dataframe tbody tr th:only-of-type {\n",
       "        vertical-align: middle;\n",
       "    }\n",
       "\n",
       "    .dataframe tbody tr th {\n",
       "        vertical-align: top;\n",
       "    }\n",
       "\n",
       "    .dataframe thead th {\n",
       "        text-align: right;\n",
       "    }\n",
       "</style>\n",
       "<table border=\"1\" class=\"dataframe\">\n",
       "  <thead>\n",
       "    <tr style=\"text-align: right;\">\n",
       "      <th></th>\n",
       "      <th>price</th>\n",
       "    </tr>\n",
       "    <tr>\n",
       "      <th>date</th>\n",
       "      <th></th>\n",
       "    </tr>\n",
       "  </thead>\n",
       "  <tbody>\n",
       "    <tr>\n",
       "      <th>1991-02-28</th>\n",
       "      <td>94.677750</td>\n",
       "    </tr>\n",
       "    <tr>\n",
       "      <th>1991-03-31</th>\n",
       "      <td>96.980585</td>\n",
       "    </tr>\n",
       "    <tr>\n",
       "      <th>1991-04-30</th>\n",
       "      <td>97.304050</td>\n",
       "    </tr>\n",
       "    <tr>\n",
       "      <th>1991-05-31</th>\n",
       "      <td>95.356882</td>\n",
       "    </tr>\n",
       "    <tr>\n",
       "      <th>1991-06-30</th>\n",
       "      <td>93.377865</td>\n",
       "    </tr>\n",
       "    <tr>\n",
       "      <th>...</th>\n",
       "      <td>...</td>\n",
       "    </tr>\n",
       "    <tr>\n",
       "      <th>2020-12-31</th>\n",
       "      <td>75.757650</td>\n",
       "    </tr>\n",
       "    <tr>\n",
       "      <th>2021-01-31</th>\n",
       "      <td>80.124837</td>\n",
       "    </tr>\n",
       "    <tr>\n",
       "      <th>2021-02-28</th>\n",
       "      <td>84.294168</td>\n",
       "    </tr>\n",
       "    <tr>\n",
       "      <th>2021-03-31</th>\n",
       "      <td>84.745874</td>\n",
       "    </tr>\n",
       "    <tr>\n",
       "      <th>2021-04-30</th>\n",
       "      <td>85.413637</td>\n",
       "    </tr>\n",
       "  </tbody>\n",
       "</table>\n",
       "<p>363 rows × 1 columns</p>\n",
       "</div>"
      ],
      "text/plain": [
       "                price\n",
       "date                 \n",
       "1991-02-28  94.677750\n",
       "1991-03-31  96.980585\n",
       "1991-04-30  97.304050\n",
       "1991-05-31  95.356882\n",
       "1991-06-30  93.377865\n",
       "...               ...\n",
       "2020-12-31  75.757650\n",
       "2021-01-31  80.124837\n",
       "2021-02-28  84.294168\n",
       "2021-03-31  84.745874\n",
       "2021-04-30  85.413637\n",
       "\n",
       "[363 rows x 1 columns]"
      ]
     },
     "execution_count": 17,
     "metadata": {},
     "output_type": "execute_result"
    }
   ],
   "source": [
    "df=df.resample(\"M\").mean()\n",
    "df "
   ]
  },
  {
   "cell_type": "code",
   "execution_count": 18,
   "metadata": {},
   "outputs": [],
   "source": [
    "df.to_excel(\"./Month_data/BCOM Index彭博商品指数.xlsx\")"
   ]
  },
  {
   "cell_type": "code",
   "execution_count": 10,
   "metadata": {},
   "outputs": [
    {
     "name": "stdout",
     "output_type": "stream",
     "text": [
      "BCOM Index彭博商品指数.xlsx\r\n",
      "BCOM Index彭博商品指数一个月远期.xlsx\r\n",
      "DJ US REAL ESTATE INDEX Index道琼斯美国房地产指数.xlsx\r\n",
      "DOW JONES INDUS. AVG Index道琼斯平均工业指数.xlsx\r\n",
      "LBUSTRUU Index彭博巴克莱美国综合债券指数.xlsx\r\n",
      "LUGCTRUU Index彭博巴克莱美国政府债信用债指数.xlsx\r\n",
      "\u001b[1m\u001b[36mMonth_data\u001b[m\u001b[m/\r\n",
      "S&P 500 INDEX Index标准普尔500指数.xlsx\r\n",
      "未命名.ipynb\r\n"
     ]
    }
   ],
   "source": [
    "ls "
   ]
  },
  {
   "cell_type": "code",
   "execution_count": 19,
   "metadata": {},
   "outputs": [],
   "source": [
    "df1=pd.read_excel(\"./BCOM Index彭博商品指数一个月远期.xlsx\",index_col=\"date\",parse_dates=True)\n",
    "df1=df1.resample(\"M\").mean()\n",
    "df1.to_excel(\"./Month_data/BCOM Index彭博商品指数一个月远期.xlsx\")"
   ]
  },
  {
   "cell_type": "code",
   "execution_count": 20,
   "metadata": {},
   "outputs": [],
   "source": [
    "df2=pd.read_excel(\"./DJ US REAL ESTATE INDEX Index道琼斯美国房地产指数.xlsx\",index_col=\"date\",parse_dates=True)\n",
    "df2=df2.resample(\"M\").mean()\n",
    "df2.to_excel(\"./Month_data/DJ US REAL ESTATE INDEX Index道琼斯美国房地产指数.xlsx\")"
   ]
  },
  {
   "cell_type": "code",
   "execution_count": 21,
   "metadata": {},
   "outputs": [],
   "source": [
    "df3=pd.read_excel(\"./DOW JONES INDUS. AVG Index道琼斯平均工业指数.xlsx\",index_col=\"date\",parse_dates=True)\n",
    "df3=df3.resample(\"M\").mean()\n",
    "df3.to_excel(\"./Month_data/DOW JONES INDUS. AVG Index道琼斯平均工业指数.xlsx\")"
   ]
  },
  {
   "cell_type": "code",
   "execution_count": 22,
   "metadata": {},
   "outputs": [],
   "source": [
    "df4=pd.read_excel(\"./LBUSTRUU Index彭博巴克莱美国综合债券指数.xlsx\",index_col=\"date\",parse_dates=True)\n",
    "df4=df4.resample(\"M\").mean()\n",
    "df4.to_excel(\"./Month_data/LBUSTRUU Index彭博巴克莱美国综合债券指数.xlsx\")"
   ]
  },
  {
   "cell_type": "code",
   "execution_count": 23,
   "metadata": {},
   "outputs": [],
   "source": [
    "df5=pd.read_excel(\"./LUGCTRUU Index彭博巴克莱美国政府债信用债指数.xlsx\",index_col=\"date\",parse_dates=True)\n",
    "df5=df5.resample(\"M\").mean()\n",
    "df5.to_excel(\"./Month_data/LUGCTRUU Index彭博巴克莱美国政府债信用债指数.xlsx\")"
   ]
  },
  {
   "cell_type": "code",
   "execution_count": 24,
   "metadata": {},
   "outputs": [],
   "source": [
    "df6=pd.read_excel(\"./S&P 500 INDEX Index标准普尔500指数.xlsx\",index_col=\"date\",parse_dates=True)\n",
    "df6=df6.resample(\"M\").mean()\n",
    "df6.to_excel(\"./Month_data/S&P 500 INDEX Index标准普尔500指数.xlsx\")"
   ]
  },
  {
   "cell_type": "code",
   "execution_count": null,
   "metadata": {},
   "outputs": [],
   "source": []
  }
 ],
 "metadata": {
  "kernelspec": {
   "display_name": "Python 3",
   "language": "python",
   "name": "python3"
  },
  "language_info": {
   "codemirror_mode": {
    "name": "ipython",
    "version": 3
   },
   "file_extension": ".py",
   "mimetype": "text/x-python",
   "name": "python",
   "nbconvert_exporter": "python",
   "pygments_lexer": "ipython3",
   "version": "3.7.3"
  },
  "toc": {
   "base_numbering": 1,
   "nav_menu": {},
   "number_sections": true,
   "sideBar": true,
   "skip_h1_title": false,
   "title_cell": "Table of Contents",
   "title_sidebar": "Contents",
   "toc_cell": false,
   "toc_position": {},
   "toc_section_display": true,
   "toc_window_display": false
  },
  "varInspector": {
   "cols": {
    "lenName": 16,
    "lenType": 16,
    "lenVar": 40
   },
   "kernels_config": {
    "python": {
     "delete_cmd_postfix": "",
     "delete_cmd_prefix": "del ",
     "library": "var_list.py",
     "varRefreshCmd": "print(var_dic_list())"
    },
    "r": {
     "delete_cmd_postfix": ") ",
     "delete_cmd_prefix": "rm(",
     "library": "var_list.r",
     "varRefreshCmd": "cat(var_dic_list()) "
    }
   },
   "types_to_exclude": [
    "module",
    "function",
    "builtin_function_or_method",
    "instance",
    "_Feature"
   ],
   "window_display": false
  }
 },
 "nbformat": 4,
 "nbformat_minor": 4
}
