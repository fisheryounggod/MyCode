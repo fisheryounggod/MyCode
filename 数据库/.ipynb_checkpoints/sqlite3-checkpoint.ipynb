{
 "cells": [
  {
   "cell_type": "markdown",
   "metadata": {},
   "source": [
    "Python内置的sqlite3模块是一个轻量级的数据库，不需要独立的服务器进程。它的数据库就是一个.db后缀的文件，可以跨平台直接访问，非常便捷。"
   ]
  },
  {
   "cell_type": "markdown",
   "metadata": {},
   "source": [
    "## 读取数据并插入数据库"
   ]
  },
  {
   "cell_type": "code",
   "execution_count": null,
   "metadata": {},
   "outputs": [],
   "source": [
    "# -*- coding: utf-8 -*-\n",
    "\"\"\"\n",
    "Created on Fri Jan 17 15:06:42 2020\n",
    "\n",
    "@author: liulu\n",
    "\n",
    "源代码已发布到【智能演示】微信公众号，后台回复 sqlite3 可获取下载链接。\n",
    "\"\"\""
   ]
  },
  {
   "cell_type": "code",
   "execution_count": 13,
   "metadata": {},
   "outputs": [],
   "source": [
    "# 连接数据库\n",
    "import sqlite3\n",
    "import os\n",
    "path = os.getcwd()\n",
    "files = os.listdir(path)\n",
    "\n",
    "conn = sqlite3.connect(path+'\\db.db') #如果数据库已经存在，则连接数据库；\n",
    "                                      # 如果数据库不存在，则先创建数据库\n",
    "cur = conn.cursor()"
   ]
  },
  {
   "cell_type": "code",
   "execution_count": 14,
   "metadata": {},
   "outputs": [
    {
     "name": "stdout",
     "output_type": "stream",
     "text": [
      "数据写入完成！共写入 0  条数据\n"
     ]
    }
   ],
   "source": [
    "# 在数据库db.db 中创建表numbers,表中包含两个字段：id、number\n",
    "cur.execute('create table if not exists numbers \\\n",
    "            (id integer primary key ,\\\n",
    "            number varchar(20) NOT NULL)')\n",
    "conn.commit()\n",
    "\n",
    "i = 0\n",
    "for file in files:\n",
    "    if file.split('.')[-1] == 'txt':\n",
    "        with open(file,'r',encoding = 'UTF-8') as f:\n",
    "            next(f)\n",
    "            for line in f:\n",
    "                i += 1\n",
    "                print(\"插入第\", i, \"条数据:\")\n",
    "                #print(line)\n",
    "                cur.execute('insert into numbers values(?,?)',(i,line))\n",
    "                conn.commit()\n",
    "cur.close()\n",
    "conn.close()\n",
    "print('数据写入完成！共写入',i,' 条数据')"
   ]
  },
  {
   "cell_type": "code",
   "execution_count": null,
   "metadata": {},
   "outputs": [],
   "source": []
  }
 ],
 "metadata": {
  "hide_input": false,
  "kernelspec": {
   "display_name": "Python 3",
   "language": "python",
   "name": "python3"
  },
  "language_info": {
   "codemirror_mode": {
    "name": "ipython",
    "version": 3
   },
   "file_extension": ".py",
   "mimetype": "text/x-python",
   "name": "python",
   "nbconvert_exporter": "python",
   "pygments_lexer": "ipython3",
   "version": "3.7.3"
  },
  "toc": {
   "base_numbering": 1,
   "nav_menu": {},
   "number_sections": true,
   "sideBar": true,
   "skip_h1_title": false,
   "title_cell": "Table of Contents",
   "title_sidebar": "Contents",
   "toc_cell": false,
   "toc_position": {},
   "toc_section_display": true,
   "toc_window_display": false
  },
  "varInspector": {
   "cols": {
    "lenName": 16,
    "lenType": 16,
    "lenVar": 40
   },
   "kernels_config": {
    "python": {
     "delete_cmd_postfix": "",
     "delete_cmd_prefix": "del ",
     "library": "var_list.py",
     "varRefreshCmd": "print(var_dic_list())"
    },
    "r": {
     "delete_cmd_postfix": ") ",
     "delete_cmd_prefix": "rm(",
     "library": "var_list.r",
     "varRefreshCmd": "cat(var_dic_list()) "
    }
   },
   "types_to_exclude": [
    "module",
    "function",
    "builtin_function_or_method",
    "instance",
    "_Feature"
   ],
   "window_display": false
  }
 },
 "nbformat": 4,
 "nbformat_minor": 4
}
