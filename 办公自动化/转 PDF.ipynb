{
 "cells": [
  {
   "cell_type": "markdown",
   "metadata": {},
   "source": [
    "## Word 转 PDF "
   ]
  },
  {
   "cell_type": "code",
   "execution_count": 2,
   "metadata": {},
   "outputs": [],
   "source": [
    "#查找当前目录下的全部word文件\n",
    "import os\n",
    "import glob\n",
    "from pathlib import Path\n",
    "from docx2pdf import convert"
   ]
  },
  {
   "cell_type": "code",
   "execution_count": 3,
   "metadata": {},
   "outputs": [
    {
     "data": {
      "text/plain": [
       "'/Users/mac/我的项目/MyCode/word/'"
      ]
     },
     "execution_count": 3,
     "metadata": {},
     "output_type": "execute_result"
    }
   ],
   "source": [
    "path = os.getcwd() + '/word/'\n",
    "path "
   ]
  },
  {
   "cell_type": "code",
   "execution_count": 4,
   "metadata": {},
   "outputs": [
    {
     "data": {
      "text/plain": [
       "[PosixPath('/Users/mac/我的项目/MyCode/word/第九章 小额信贷国际实践对我国的启示.docx'),\n",
       " PosixPath('/Users/mac/我的项目/MyCode/word/第七章 小额信贷机构的技术解决方案.docx')]"
      ]
     },
     "execution_count": 4,
     "metadata": {},
     "output_type": "execute_result"
    }
   ],
   "source": [
    "p = Path(path) #初始化构造Path对象\n",
    "FileList=list(p.glob(\"*.docx\"))\n",
    "\n",
    "FileList "
   ]
  },
  {
   "cell_type": "code",
   "execution_count": 5,
   "metadata": {},
   "outputs": [
    {
     "data": {
      "application/vnd.jupyter.widget-view+json": {
       "model_id": "e9d4fb49ee6547a38a488b4973061fd4",
       "version_major": 2,
       "version_minor": 0
      },
      "text/plain": [
       "HBox(children=(FloatProgress(value=0.0, max=1.0), HTML(value='')))"
      ]
     },
     "metadata": {},
     "output_type": "display_data"
    },
    {
     "data": {
      "application/vnd.jupyter.widget-view+json": {
       "model_id": "e90257b4fd534a3f8b954823245f8b74",
       "version_major": 2,
       "version_minor": 0
      },
      "text/plain": [
       "HBox(children=(FloatProgress(value=0.0, max=1.0), HTML(value='')))"
      ]
     },
     "metadata": {},
     "output_type": "display_data"
    }
   ],
   "source": [
    "# 打开root ：ipython notebook --allow-root\n",
    "for file in FileList:\n",
    "    convert(file,f\"{file}.pdf\")"
   ]
  },
  {
   "cell_type": "markdown",
   "metadata": {},
   "source": [
    "## PPT 转 PDF "
   ]
  },
  {
   "cell_type": "code",
   "execution_count": null,
   "metadata": {},
   "outputs": [],
   "source": [
    "import comtypes.client\n",
    "import os\n",
    "\n",
    "def init_powerpoint():\n",
    "    powerpoint = comtypes.client.CreateObject(\"Powerpoint.Application\")\n",
    "    powerpoint.Visible = 1\n",
    "    return powerpoint\n",
    "\n",
    "def ppt_to_pdf(powerpoint, inputFileName, outputFileName, formatType = 32):\n",
    "    if outputFileName[-3:] != 'pdf':\n",
    "        outputFileName = outputFileName + \".pdf\"\n",
    "    deck = powerpoint.Presentations.Open(inputFileName)\n",
    "    deck.SaveAs(outputFileName, formatType) # formatType = 32 for ppt to pdf\n",
    "    deck.Close()\n",
    "\n",
    "def convert_files_in_folder(powerpoint, folder):\n",
    "    files = os.listdir(folder)\n",
    "    pptfiles = [f for f in files if f.endswith((\".ppt\", \".pptx\"))]\n",
    "    for pptfile in pptfiles:\n",
    "        fullpath = os.path.join(folder, pptfile)\n",
    "        ppt_to_pdf(powerpoint, fullpath, fullpath)\n",
    "\n",
    "if __name__ == \"__main__\":\n",
    "    powerpoint = init_powerpoint()\n",
    "    cwd = os.getcwd()\n",
    "    convert_files_in_folder(powerpoint, cwd)\n",
    "    powerpoint.Quit()"
   ]
  },
  {
   "cell_type": "markdown",
   "metadata": {},
   "source": [
    "## 文件解压 "
   ]
  },
  {
   "cell_type": "code",
   "execution_count": 25,
   "metadata": {},
   "outputs": [
    {
     "name": "stdout",
     "output_type": "stream",
     "text": [
      "这里对微型金融机构的分类太混淆了。而且没有全部包括进来。如果按这样分的话，小贷公司在哪里？对于\n",
      "MFI\n",
      "分类，建议按五个层级来分：\n",
      "1\n",
      "、各类小额贷款项目（\n",
      "NGO\n",
      "就属于这一类）；\n",
      "2\n",
      "、不受监管的小额贷款提供者\n",
      "/\n",
      "公司；\n",
      "3\n",
      "、受轻度监管的小额信贷\n",
      "/\n",
      "小额金融公司；\n",
      "4\n",
      "、主要为微型和小型市场服务的“小额金融银行”；\n",
      "5\n",
      "、已发展出小额金融业务线的商业银行和非银行金融机构。这样分，就可以覆盖全部类型的\n",
      "MFI\n",
      "了。\n",
      "在这里是什么意思？微型金融批发机构都叫\n",
      "APEXES\n",
      "吗？\n",
      "这里采用\n",
      "Apexes\n",
      "的原因是这一节主要参考了【参考文献\n",
      "12\n",
      "】中的内容，那篇\n",
      "CGAP\n",
      "的文献较为全面地介绍了批发机构的业务、当时的状况；\n",
      "Apex\n",
      "本意指“顶端”，但在那篇文献中，\n",
      "Apex\n",
      "是指向基层机构提供融资的机构，也许是作者理解的微型金融体系的“顶端”吧，但应是批发机构之意。当然，更多的时候英文原文是\n",
      "wholesale\n",
      "，如例子中的\n",
      "RMDC\n",
      "。潘老是不是觉得应该英文附为\n",
      "wholesale\n",
      "好一点？\n",
      "除专有名词外，第一字母都不大写\n",
      "征信机构是不收集个人税务信息的。还有，征信系统一般归类为一个国家的金融基础设施。所以建立把征信放第三\n",
      "—\n",
      "基础设施。\n",
      "平衡？\n",
      "请按下面的三点补充相关内容。\n"
     ]
    }
   ],
   "source": [
    "from zipfile import ZipFile\n",
    "from re import findall\n",
    "fn = r\"带批注的测试文件.docx\"\n",
    "with ZipFile(fn) as fp:\n",
    "    try:\n",
    "        content =fp.read ( \"word/comments.xml\").decode(\"utf8\") \n",
    "    except:\n",
    "        content=\"\"\n",
    "if  not content:\n",
    "    print(\"这个文档没有批注\") \n",
    "else:\n",
    "    for comment in findall(r\"<w:t>(.*?)</w:t>\",content):\n",
    "        print(comment) "
   ]
  },
  {
   "cell_type": "code",
   "execution_count": 20,
   "metadata": {},
   "outputs": [],
   "source": [
    "import zipfile "
   ]
  },
  {
   "cell_type": "code",
   "execution_count": 16,
   "metadata": {},
   "outputs": [
    {
     "data": {
      "text/plain": [
       "'\\\\\\\\mac\\\\home\\\\我的项目\\\\MyCode'"
      ]
     },
     "execution_count": 16,
     "metadata": {},
     "output_type": "execute_result"
    }
   ],
   "source": [
    "pwd "
   ]
  },
  {
   "cell_type": "code",
   "execution_count": 26,
   "metadata": {},
   "outputs": [],
   "source": [
    "from docx import Document\n",
    "document = Document(\"带批注的测试文件.docx\")"
   ]
  },
  {
   "cell_type": "code",
   "execution_count": null,
   "metadata": {},
   "outputs": [],
   "source": []
  }
 ],
 "metadata": {
  "hide_input": false,
  "kernelspec": {
   "display_name": "Python 3",
   "language": "python",
   "name": "python3"
  },
  "language_info": {
   "codemirror_mode": {
    "name": "ipython",
    "version": 3
   },
   "file_extension": ".py",
   "mimetype": "text/x-python",
   "name": "python",
   "nbconvert_exporter": "python",
   "pygments_lexer": "ipython3",
   "version": "3.8.5"
  },
  "toc": {
   "base_numbering": 1,
   "nav_menu": {},
   "number_sections": true,
   "sideBar": true,
   "skip_h1_title": false,
   "title_cell": "Table of Contents",
   "title_sidebar": "Contents",
   "toc_cell": false,
   "toc_position": {},
   "toc_section_display": true,
   "toc_window_display": false
  },
  "varInspector": {
   "cols": {
    "lenName": 16,
    "lenType": 16,
    "lenVar": 40
   },
   "kernels_config": {
    "python": {
     "delete_cmd_postfix": "",
     "delete_cmd_prefix": "del ",
     "library": "var_list.py",
     "varRefreshCmd": "print(var_dic_list())"
    },
    "r": {
     "delete_cmd_postfix": ") ",
     "delete_cmd_prefix": "rm(",
     "library": "var_list.r",
     "varRefreshCmd": "cat(var_dic_list()) "
    }
   },
   "types_to_exclude": [
    "module",
    "function",
    "builtin_function_or_method",
    "instance",
    "_Feature"
   ],
   "window_display": false
  }
 },
 "nbformat": 4,
 "nbformat_minor": 4
}
