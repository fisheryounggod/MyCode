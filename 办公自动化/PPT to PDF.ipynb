{
 "cells": [
  {
   "cell_type": "code",
   "execution_count": 5,
   "metadata": {},
   "outputs": [
    {
     "name": "stdout",
     "output_type": "stream",
     "text": [
      "\\\\Mac\\Home\\myPrograme\\MyCode\\处理处理\\ppt-pdf\n"
     ]
    }
   ],
   "source": [
    "cd \"../处理处理/ppt-pdf/\""
   ]
  },
  {
   "cell_type": "code",
   "execution_count": 7,
   "metadata": {},
   "outputs": [],
   "source": [
    "import comtypes.client\n",
    "import os\n",
    "\n",
    "def init_powerpoint():\n",
    "    powerpoint = comtypes.client.CreateObject(\"Powerpoint.Application\")\n",
    "    powerpoint.Visible = 1\n",
    "    return powerpoint\n",
    "\n",
    "def ppt_to_pdf(powerpoint, inputFileName, outputFileName, formatType = 32):\n",
    "    if outputFileName[-3:] != 'pdf':\n",
    "        outputFileName = outputFileName + \".pdf\"\n",
    "    deck = powerpoint.Presentations.Open(inputFileName)\n",
    "    deck.SaveAs(outputFileName, formatType) # formatType = 32 for ppt to pdf\n",
    "    deck.Close()\n",
    "\n",
    "def convert_files_in_folder(powerpoint, folder):\n",
    "    files = os.listdir(folder)\n",
    "    pptfiles = [f for f in files if f.endswith((\".ppt\", \".pptx\"))]\n",
    "    for pptfile in pptfiles:\n",
    "        fullpath = os.path.join(folder, pptfile)\n",
    "        ppt_to_pdf(powerpoint, fullpath, fullpath)\n",
    "\n",
    "if __name__ == \"__main__\":\n",
    "    powerpoint = init_powerpoint()\n",
    "    cwd = os.getcwd()\n",
    "    convert_files_in_folder(powerpoint, cwd)\n",
    "    powerpoint.Quit()"
   ]
  },
  {
   "cell_type": "code",
   "execution_count": 2,
   "metadata": {},
   "outputs": [
    {
     "data": {
      "text/plain": [
       "'\\\\\\\\Mac\\\\Home\\\\myPrograme\\\\MyCode\\\\办公自动化'"
      ]
     },
     "execution_count": 2,
     "metadata": {},
     "output_type": "execute_result"
    }
   ],
   "source": [
    "%pwd"
   ]
  },
  {
   "cell_type": "code",
   "execution_count": 4,
   "metadata": {},
   "outputs": [
    {
     "ename": "COMError",
     "evalue": "(-2147023174, 'RPC 服务器不可用。', (None, None, None, 0, None))",
     "output_type": "error",
     "traceback": [
      "\u001b[1;31m---------------------------------------------------------------------------\u001b[0m",
      "\u001b[1;31mCOMError\u001b[0m                                  Traceback (most recent call last)",
      "\u001b[1;32m<ipython-input-4-c4b64442ec7a>\u001b[0m in \u001b[0;36m<module>\u001b[1;34m\u001b[0m\n\u001b[1;32m----> 1\u001b[1;33m \u001b[0mconvert_files_in_folder\u001b[0m\u001b[1;33m(\u001b[0m\u001b[0mpowerpoint\u001b[0m\u001b[1;33m,\u001b[0m\u001b[1;34m\"../处理处理/ppt-pdf/\"\u001b[0m\u001b[1;33m)\u001b[0m\u001b[1;33m\u001b[0m\u001b[1;33m\u001b[0m\u001b[0m\n\u001b[0m",
      "\u001b[1;32m<ipython-input-1-eec5590453ae>\u001b[0m in \u001b[0;36mconvert_files_in_folder\u001b[1;34m(powerpoint, folder)\u001b[0m\n\u001b[0;32m     19\u001b[0m     \u001b[1;32mfor\u001b[0m \u001b[0mpptfile\u001b[0m \u001b[1;32min\u001b[0m \u001b[0mpptfiles\u001b[0m\u001b[1;33m:\u001b[0m\u001b[1;33m\u001b[0m\u001b[1;33m\u001b[0m\u001b[0m\n\u001b[0;32m     20\u001b[0m         \u001b[0mfullpath\u001b[0m \u001b[1;33m=\u001b[0m \u001b[0mos\u001b[0m\u001b[1;33m.\u001b[0m\u001b[0mpath\u001b[0m\u001b[1;33m.\u001b[0m\u001b[0mjoin\u001b[0m\u001b[1;33m(\u001b[0m\u001b[0mfolder\u001b[0m\u001b[1;33m,\u001b[0m \u001b[0mpptfile\u001b[0m\u001b[1;33m)\u001b[0m\u001b[1;33m\u001b[0m\u001b[1;33m\u001b[0m\u001b[0m\n\u001b[1;32m---> 21\u001b[1;33m         \u001b[0mppt_to_pdf\u001b[0m\u001b[1;33m(\u001b[0m\u001b[0mpowerpoint\u001b[0m\u001b[1;33m,\u001b[0m \u001b[0mfullpath\u001b[0m\u001b[1;33m,\u001b[0m \u001b[0mfullpath\u001b[0m\u001b[1;33m)\u001b[0m\u001b[1;33m\u001b[0m\u001b[1;33m\u001b[0m\u001b[0m\n\u001b[0m\u001b[0;32m     22\u001b[0m \u001b[1;33m\u001b[0m\u001b[0m\n\u001b[0;32m     23\u001b[0m \u001b[1;32mif\u001b[0m \u001b[0m__name__\u001b[0m \u001b[1;33m==\u001b[0m \u001b[1;34m\"__main__\"\u001b[0m\u001b[1;33m:\u001b[0m\u001b[1;33m\u001b[0m\u001b[1;33m\u001b[0m\u001b[0m\n",
      "\u001b[1;32m<ipython-input-1-eec5590453ae>\u001b[0m in \u001b[0;36mppt_to_pdf\u001b[1;34m(powerpoint, inputFileName, outputFileName, formatType)\u001b[0m\n\u001b[0;32m     10\u001b[0m     \u001b[1;32mif\u001b[0m \u001b[0moutputFileName\u001b[0m\u001b[1;33m[\u001b[0m\u001b[1;33m-\u001b[0m\u001b[1;36m3\u001b[0m\u001b[1;33m:\u001b[0m\u001b[1;33m]\u001b[0m \u001b[1;33m!=\u001b[0m \u001b[1;34m'pdf'\u001b[0m\u001b[1;33m:\u001b[0m\u001b[1;33m\u001b[0m\u001b[1;33m\u001b[0m\u001b[0m\n\u001b[0;32m     11\u001b[0m         \u001b[0moutputFileName\u001b[0m \u001b[1;33m=\u001b[0m \u001b[0moutputFileName\u001b[0m \u001b[1;33m+\u001b[0m \u001b[1;34m\".pdf\"\u001b[0m\u001b[1;33m\u001b[0m\u001b[1;33m\u001b[0m\u001b[0m\n\u001b[1;32m---> 12\u001b[1;33m     \u001b[0mdeck\u001b[0m \u001b[1;33m=\u001b[0m \u001b[0mpowerpoint\u001b[0m\u001b[1;33m.\u001b[0m\u001b[0mPresentations\u001b[0m\u001b[1;33m.\u001b[0m\u001b[0mOpen\u001b[0m\u001b[1;33m(\u001b[0m\u001b[0minputFileName\u001b[0m\u001b[1;33m)\u001b[0m\u001b[1;33m\u001b[0m\u001b[1;33m\u001b[0m\u001b[0m\n\u001b[0m\u001b[0;32m     13\u001b[0m     \u001b[0mdeck\u001b[0m\u001b[1;33m.\u001b[0m\u001b[0mSaveAs\u001b[0m\u001b[1;33m(\u001b[0m\u001b[0moutputFileName\u001b[0m\u001b[1;33m,\u001b[0m \u001b[0mformatType\u001b[0m\u001b[1;33m)\u001b[0m \u001b[1;31m# formatType = 32 for ppt to pdf\u001b[0m\u001b[1;33m\u001b[0m\u001b[1;33m\u001b[0m\u001b[0m\n\u001b[0;32m     14\u001b[0m     \u001b[0mdeck\u001b[0m\u001b[1;33m.\u001b[0m\u001b[0mClose\u001b[0m\u001b[1;33m(\u001b[0m\u001b[1;33m)\u001b[0m\u001b[1;33m\u001b[0m\u001b[1;33m\u001b[0m\u001b[0m\n",
      "\u001b[1;31mCOMError\u001b[0m: (-2147023174, 'RPC 服务器不可用。', (None, None, None, 0, None))"
     ]
    }
   ],
   "source": [
    "convert_files_in_folder(powerpoint,\"../处理处理/ppt-pdf/\")"
   ]
  },
  {
   "cell_type": "code",
   "execution_count": null,
   "metadata": {},
   "outputs": [],
   "source": []
  }
 ],
 "metadata": {
  "kernelspec": {
   "display_name": "Python 3",
   "language": "python",
   "name": "python3"
  },
  "language_info": {
   "codemirror_mode": {
    "name": "ipython",
    "version": 3
   },
   "file_extension": ".py",
   "mimetype": "text/x-python",
   "name": "python",
   "nbconvert_exporter": "python",
   "pygments_lexer": "ipython3",
   "version": "3.8.5"
  },
  "toc": {
   "base_numbering": 1,
   "nav_menu": {},
   "number_sections": true,
   "sideBar": true,
   "skip_h1_title": false,
   "title_cell": "Table of Contents",
   "title_sidebar": "Contents",
   "toc_cell": false,
   "toc_position": {},
   "toc_section_display": true,
   "toc_window_display": false
  },
  "varInspector": {
   "cols": {
    "lenName": 16,
    "lenType": 16,
    "lenVar": 40
   },
   "kernels_config": {
    "python": {
     "delete_cmd_postfix": "",
     "delete_cmd_prefix": "del ",
     "library": "var_list.py",
     "varRefreshCmd": "print(var_dic_list())"
    },
    "r": {
     "delete_cmd_postfix": ") ",
     "delete_cmd_prefix": "rm(",
     "library": "var_list.r",
     "varRefreshCmd": "cat(var_dic_list()) "
    }
   },
   "types_to_exclude": [
    "module",
    "function",
    "builtin_function_or_method",
    "instance",
    "_Feature"
   ],
   "window_display": false
  }
 },
 "nbformat": 4,
 "nbformat_minor": 4
}
