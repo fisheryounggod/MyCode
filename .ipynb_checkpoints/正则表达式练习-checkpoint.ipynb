{
 "cells": [
  {
   "cell_type": "code",
   "execution_count": 3,
   "metadata": {},
   "outputs": [],
   "source": [
    "# 第三次\n",
    "import re\n",
    "import requests\n",
    "\n",
    "\n",
    "try:\n",
    "    response=requests.get(\"https://mp.weixin.qq.com/s/-pcrQ7wQSjpZT2UL87kFgQ\")\n",
    "    response.encoding='utf-8' #编码转换\n",
    "    html=response.text #获取页面的html \n",
    "#     provincelist=re.findall(r\">\\d.</span><a.*>.*</a></span>\",html)\n",
    "#     for p in provincelist:\n",
    "#         print(p)\n",
    "except:\n",
    "    print('出错了')"
   ]
  },
  {
   "cell_type": "code",
   "execution_count": 76,
   "metadata": {},
   "outputs": [],
   "source": [
    "link=re.findall(r'href=\\\"(?!javascript)http://mp.weixin.qq.com/s?.*?\\\"',html)"
   ]
  },
  {
   "cell_type": "code",
   "execution_count": 77,
   "metadata": {
    "scrolled": false
   },
   "outputs": [],
   "source": [
    "title=re.findall(r\"(?!></strong>)>.{9,30}(?<!</span></strong>)(?<!</span></strong></span>)(?=</a>)\",html)"
   ]
  },
  {
   "cell_type": "code",
   "execution_count": 79,
   "metadata": {},
   "outputs": [
    {
     "data": {
      "text/plain": [
       "['href=\"http://mp.weixin.qq.com/mp/rumor?action=info&__biz=\"',\n",
       " 'href=\"http://mp.weixin.qq.com/s?__biz=MjM5OTMwODM1Mw==&amp;mid=2448061268&amp;idx=1&amp;sn=b48255297464de2ba4de354c7a2fd229&amp;chksm=b323ae7a8454276cd71e0d937a2391f6fb3b77d9e6b09e8e333e79f16c10c4b59a446ae775ca&amp;scene=21#wechat_redirect\"',\n",
       " 'href=\"http://mp.weixin.qq.com/s?__biz=MjM5OTMwODM1Mw==&amp;mid=2448061268&amp;idx=1&amp;sn=b48255297464de2ba4de354c7a2fd229&amp;chksm=b323ae7a8454276cd71e0d937a2391f6fb3b77d9e6b09e8e333e79f16c10c4b59a446ae775ca&amp;scene=21#wechat_redirect\"',\n",
       " 'href=\"http://mp.weixin.qq.com/s?__biz=MjM5OTMwODM1Mw==&amp;mid=2448069476&amp;idx=1&amp;sn=305c0d7bdb7455798615dba5921f48bc&amp;chksm=b3234e4a8454c75c8edcca384f7eb281b8e2b792c063a09ce747ee1e2f0cbb003a82765b0114&amp;scene=21#wechat_redirect\"',\n",
       " 'href=\"http://mp.weixin.qq.com/s?__biz=MjM5OTMwODM1Mw==&amp;mid=2448061798&amp;idx=1&amp;sn=b63f361f83c2e48062c00e0ea48fb45e&amp;chksm=b323a8488454215e8e07955ce07648dfd00760cf70498b15c51b620be8581df80dffbd877da7&amp;scene=21#wechat_redirect\"',\n",
       " 'href=\"http://mp.weixin.qq.com/s?__biz=MjM5OTMwODM1Mw==&amp;mid=2448054839&amp;idx=1&amp;sn=31225d85dd39ee1129cc494503e3d9b3&amp;chksm=b323871984540e0f4fc8c66b964ceb34ba26a6f92aba957e746eba4dd46e7eb57940497de4c4&amp;scene=21#wechat_redirect\"',\n",
       " 'href=\"http://mp.weixin.qq.com/s?__biz=MjM5OTMwODM1Mw==&amp;mid=2448056032&amp;idx=1&amp;sn=c092b32831c77fab86710e9e58f93f9c&amp;chksm=b32383ce84540ad8c06315120f86ec3ce6d8cc888921a4078bb06961b45b42c9c8b53dbc8774&amp;scene=21#wechat_redirect\"',\n",
       " 'href=\"http://mp.weixin.qq.com/s?__biz=MjM5OTMwODM1Mw==&amp;mid=2448057219&amp;idx=1&amp;sn=42a645e305fe8a99d7ad4a7b598f6272&amp;chksm=b323bead845437bb849f3ce6d27b7c9693fbe5195c3f4c686214d786c0b00a8bb7a55d353758&amp;scene=21#wechat_redirect\"',\n",
       " 'href=\"http://mp.weixin.qq.com/s?__biz=MjM5OTMwODM1Mw==&amp;mid=2448067592&amp;idx=1&amp;sn=4f357c137f930e25c023ab0e6d841027&amp;chksm=b32351268454d83058fd9a333f63b3d59d2c1a4f70eccea9210d9ab7e7f21c30cfc5e4d02188&amp;scene=21#wechat_redirect\"',\n",
       " 'href=\"http://mp.weixin.qq.com/s?__biz=MjM5OTMwODM1Mw==&amp;mid=2448066865&amp;idx=2&amp;sn=46220d30741c5e4d08a5602fb245dbef&amp;chksm=b323541f8454dd094f9b5afc61d6ab840f9c587458a891700433e9c190f428cdab8ba8d15dd3&amp;scene=21#wechat_redirect\"',\n",
       " 'href=\"http://mp.weixin.qq.com/s?__biz=MjM5OTMwODM1Mw==&amp;mid=2448059658&amp;idx=1&amp;sn=18dfec584e3160284c48afbd26e97928&amp;chksm=b323b02484543932133dbeff3cbc2b6665dffa6ce2e5011da15d77f574ac798726d1ae07d038&amp;scene=21#wechat_redirect\"',\n",
       " 'href=\"http://mp.weixin.qq.com/s?__biz=MjM5OTMwODM1Mw==&amp;mid=2448066423&amp;idx=1&amp;sn=3ac514a7585573085c09b354d1e8d691&amp;chksm=b3235a598454d34f35a38647b0ad358859b15345cd24d6e058386c0ec7c9edb27d77e2c7b44c&amp;scene=21#wechat_redirect\"',\n",
       " 'href=\"http://mp.weixin.qq.com/s?__biz=MjM5OTMwODM1Mw==&amp;mid=2448054941&amp;idx=1&amp;sn=306e59586f9a7b38b3b9e806a0b7e5f5&amp;chksm=b32387b384540ea5448f9b4882db018a0dc361d86d0630a7baeb456608cd90770dbb1d8984b9&amp;scene=21#wechat_redirect\"',\n",
       " 'href=\"http://mp.weixin.qq.com/s?__biz=MjM5OTMwODM1Mw==&amp;mid=2448062784&amp;idx=1&amp;sn=d2ee9a465471d93bce8f92f6a9b5fffb&amp;chksm=b323a46e84542d785b7914ae3700c9f08e03d31242e177e1ee912b88cc6e160f5149fd31b236&amp;scene=21#wechat_redirect\"',\n",
       " 'href=\"http://mp.weixin.qq.com/s?__biz=MjM5OTMwODM1Mw==&amp;mid=2448062290&amp;idx=1&amp;sn=70c8b13cedcfbbe1fdda5de806c7944b&amp;chksm=b323aa7c8454236ae5c849ac05213980f31701e82cfdf2b430eda3ba71a9a6e115e7a11e01eb&amp;scene=21#wechat_redirect\"',\n",
       " 'href=\"http://mp.weixin.qq.com/s?__biz=MjM5OTMwODM1Mw==&amp;mid=2448062202&amp;idx=1&amp;sn=4ac761d1e9c4f1e138a97402e23610be&amp;chksm=b323abd4845422c2c64c37fd69c8c4ae75f892ec648f02ede84c4782b40e682aad9b22763703&amp;scene=21#wechat_redirect\"',\n",
       " 'href=\"http://mp.weixin.qq.com/s?__biz=MjM5OTMwODM1Mw==&amp;mid=2448056287&amp;idx=1&amp;sn=c2ff340585d0383bc4852f08723c2b54&amp;chksm=b32382f184540be75c21cee09d0f08aab1959cfadb9a5bcfbbcf87325e2ba567dbe9a4dc2bb4&amp;scene=21#wechat_redirect\"',\n",
       " 'href=\"http://mp.weixin.qq.com/s?__biz=MjM5OTMwODM1Mw==&amp;mid=2448056265&amp;idx=1&amp;sn=448beca598bb248023ab3274b22e90ca&amp;chksm=b32382e784540bf1e5afc04ceea6345b7c258f867b62a736b10c2a86058ce55f55f934504574&amp;scene=21#wechat_redirect\"',\n",
       " 'href=\"http://mp.weixin.qq.com/s?__biz=MjM5OTMwODM1Mw==&amp;mid=2448055183&amp;idx=1&amp;sn=973cc20fbab93e7df49c2df04ef708b6&amp;chksm=b32386a184540fb777dd4f6c735b9c66ed4ac82adab91d67d8f0370a9d846f1a29a1957ab85f&amp;scene=21#wechat_redirect\"',\n",
       " 'href=\"http://mp.weixin.qq.com/s?__biz=MjM5OTMwODM1Mw==&amp;mid=2448053120&amp;idx=1&amp;sn=e5a08e0fc460cba6bfd7b4e287cb30fe&amp;chksm=b3238eae845407b872335249f2fcd89bcfaab28b8765035dc2b6391d5a0565f7c4a4d1042569&amp;scene=21#wechat_redirect\"',\n",
       " 'href=\"http://mp.weixin.qq.com/s?__biz=MjM5OTMwODM1Mw==&amp;mid=2448069361&amp;idx=1&amp;sn=93a6363f0c234e705960d6ddf64d0981&amp;chksm=b3234fdf8454c6c9416a39503356f275712baa808e544806fbe74201c30a3388c8ed62230f64&amp;scene=21#wechat_redirect\"',\n",
       " 'href=\"http://mp.weixin.qq.com/s?__biz=MjM5OTMwODM1Mw==&amp;mid=2448063291&amp;idx=1&amp;sn=b972907c681b7a5ddd6340a716c190c9&amp;chksm=b323a61584542f0343cf1665f695dbe833f93decf54187d5595c8c457a1c32fbc55a653debb8&amp;scene=21#wechat_redirect\"',\n",
       " 'href=\"http://mp.weixin.qq.com/s?__biz=MjM5OTMwODM1Mw==&amp;mid=2448062291&amp;idx=1&amp;sn=7e5c6c37d45ecf82962ff7ff56df5aff&amp;chksm=b323aa7d8454236bf0213a07a6049cb754dd21bba780b34c32a3e704eeed7c889bb713834b1d&amp;scene=21#wechat_redirect\"',\n",
       " 'href=\"http://mp.weixin.qq.com/s?__biz=MjM5OTMwODM1Mw==&amp;mid=2448062293&amp;idx=1&amp;sn=8fb2ae58adfa121b4a8ba685742a7a8c&amp;chksm=b323aa7b8454236d75e650d7909a4401f9a627cf8fba9e9c43a090f3ee67cf133fa86e2d503f&amp;scene=21#wechat_redirect\"',\n",
       " 'href=\"http://mp.weixin.qq.com/s?__biz=MjM5OTMwODM1Mw==&amp;mid=2448061453&amp;idx=1&amp;sn=27f855c32536c22571d838a6b5837bda&amp;chksm=b323a9238454203560c13ca0a95d50a75cfe6e1341f23b06a1157c6fc758ae728da06fb51ad3&amp;scene=21#wechat_redirect\"',\n",
       " 'href=\"http://mp.weixin.qq.com/s?__biz=MjM5OTMwODM1Mw==&amp;mid=2448058463&amp;idx=1&amp;sn=f53cdfaa316372239ecb93a5c92d35b3&amp;chksm=b323b57184543c6754d3ed2c895a6b2d38f210a631deb036410296129ecc6e0a445d6a801319&amp;scene=21#wechat_redirect\"',\n",
       " 'href=\"http://mp.weixin.qq.com/s?__biz=MjM5OTMwODM1Mw==&amp;mid=2448057746&amp;idx=1&amp;sn=ac246047ba53b4ad57fc2f6010051abf&amp;chksm=b323b8bc845431aae5a746c430170301be63024d7734d87103740488dfee037bad0c85c49149&amp;scene=21#wechat_redirect\"',\n",
       " 'href=\"http://mp.weixin.qq.com/s?__biz=MjM5OTMwODM1Mw==&amp;mid=2448056336&amp;idx=1&amp;sn=6a019f0dd03d0da93d90429862d66dc5&amp;chksm=b323bd3e84543428eeba9b13bc6be8a60761c6495a025559a8872b374e88b2c78cdce257834d&amp;scene=21#wechat_redirect\"',\n",
       " 'href=\"http://mp.weixin.qq.com/s?__biz=MjM5OTMwODM1Mw==&amp;mid=2448055962&amp;idx=1&amp;sn=5fc7f0f015765bb1338d8d6c3577f8e3&amp;chksm=b32383b484540aa24832e0b09bac80a3d83ee349d506dea7693eab4034c10e9c507a5c7c6bd2&amp;scene=21#wechat_redirect\"',\n",
       " 'href=\"http://mp.weixin.qq.com/s?__biz=MjM5OTMwODM1Mw==&amp;mid=2448054937&amp;idx=1&amp;sn=f38ea50bbbc3df67e06305de7bcba50d&amp;chksm=b32387b784540ea1fb29dcbcac923fcc3502b66f869244ae254788b49c20305e641843b505ce&amp;scene=21#wechat_redirect\"',\n",
       " 'href=\"http://mp.weixin.qq.com/s?__biz=MjM5OTMwODM1Mw==&amp;mid=2448055716&amp;idx=1&amp;sn=a69b5eefba37f3814c3f3b083d81fdf4&amp;chksm=b323808a8454099c574563dc6e964f63813aa74a7806c284d80bf0691fc6854b002261b6793d&amp;scene=21#wechat_redirect\"',\n",
       " 'href=\"http://mp.weixin.qq.com/s?__biz=MjM5OTMwODM1Mw==&amp;mid=2448054413&amp;idx=1&amp;sn=9b5e6e129ec3e5871bf81046ba76ecb4&amp;chksm=b32385a384540cb55524a65c829de8c41bc2eaa59b39be95d935b5902c245035da0f1a8b56ea&amp;scene=21#wechat_redirect\"',\n",
       " 'href=\"http://mp.weixin.qq.com/s?__biz=MjM5OTMwODM1Mw==&amp;mid=2448054132&amp;idx=1&amp;sn=6e25b2869846eea0a940bb156802afaa&amp;chksm=b3238a5a8454034cb64259a639c5fd82be36fce7fefce5d5fff24a42391c8ed95b609f6f3031&amp;scene=21#wechat_redirect\"',\n",
       " 'href=\"http://mp.weixin.qq.com/s?__biz=MjM5OTMwODM1Mw==&amp;mid=2448054408&amp;idx=1&amp;sn=0c696574c7e5d933448a12b64586a642&amp;chksm=b32385a684540cb07b0c270fc43e83274ab1e393da6fe2493381a7562a5826720d1fb43a376a&amp;scene=21#wechat_redirect\"',\n",
       " 'href=\"http://mp.weixin.qq.com/s?__biz=MjM5OTMwODM1Mw==&amp;mid=2448054126&amp;idx=1&amp;sn=6f98da2d0a7e0cf2db5d2ae95fe45c38&amp;chksm=b3238a4084540356f966a2ec8cef7e13ea38d818befe9d32bbe89b9cdcca44f9531c6d052969&amp;scene=21#wechat_redirect\"',\n",
       " 'href=\"http://mp.weixin.qq.com/s?__biz=MjM5OTMwODM1Mw==&amp;mid=2448062787&amp;idx=1&amp;sn=cdbb57d6fe653d0497f912e5f8c8f428&amp;chksm=b323a46d84542d7b0b5380cc95b318d070551e097197592368f3edfd1d1ecf8b98fc3c097916&amp;scene=21#wechat_redirect\"',\n",
       " 'href=\"http://mp.weixin.qq.com/s?__biz=MjM5OTMwODM1Mw==&amp;mid=2448062395&amp;idx=1&amp;sn=4e12b307e6b29ee4adabf3b391a132cf&amp;chksm=b323aa9584542383d1cb62d674cce8d953e74383410e7fe6868a7143158c61abc8c7ccd8cb4e&amp;scene=21#wechat_redirect\"',\n",
       " 'href=\"http://mp.weixin.qq.com/s?__biz=MjM5OTMwODM1Mw==&amp;mid=2448062376&amp;idx=2&amp;sn=47e9c91e2cf64701cb83dfa914b5944a&amp;chksm=b323aa8684542390b05d6a4118a898905ffa347d0de3e0ac4c9b59a194e87aea9696a8d8f24c&amp;scene=21#wechat_redirect\"',\n",
       " 'href=\"http://mp.weixin.qq.com/s?__biz=MjM5OTMwODM1Mw==&amp;mid=2448062279&amp;idx=1&amp;sn=f96a8c266f9ac78323b0502d7abe171e&amp;chksm=b323aa698454237fc0379672b9900d78a13a512958eb4bb185bbe0a4dc01804c78d70544d1bb&amp;scene=21#wechat_redirect\"',\n",
       " 'href=\"http://mp.weixin.qq.com/s?__biz=MjM5OTMwODM1Mw==&amp;mid=2448055593&amp;idx=1&amp;sn=48b515da858f22acbeaea985c99d0acf&amp;chksm=b32380078454091115d2c7f86246b6dee78b33ebc710798b9c03e49b073d63a1abdf10f2c2f7&amp;scene=21#wechat_redirect\"',\n",
       " 'href=\"http://mp.weixin.qq.com/s?__biz=MjM5OTMwODM1Mw==&amp;mid=2448054875&amp;idx=1&amp;sn=6cf8c759c504a9066ad758e293d56fe7&amp;chksm=b323877584540e6334091a2e648af3532e0866d2f710a15e66ac40d707f13c168f4a3d17e847&amp;scene=21#wechat_redirect\"',\n",
       " 'href=\"http://mp.weixin.qq.com/s?__biz=MjM5OTMwODM1Mw==&amp;mid=2448054093&amp;idx=1&amp;sn=1c6771f0cde7d857826baa93479ab266&amp;chksm=b3238a6384540375545356f58f0a01a16154916d7465254eaa1e8c84edc0737c978dc821123e&amp;scene=21#wechat_redirect\"',\n",
       " 'href=\"http://mp.weixin.qq.com/s?__biz=MjM5OTMwODM1Mw==&amp;mid=2448053165&amp;idx=1&amp;sn=161ee47945e9e034861c7adc8968a997&amp;chksm=b3238e8384540795fff98c50a2cddeed5b6d739d26496048dd9f2b91253df5a952e0eb71f596&amp;scene=21#wechat_redirect\"',\n",
       " 'href=\"http://mp.weixin.qq.com/s?__biz=MjM5OTMwODM1Mw==&amp;mid=2448053165&amp;idx=1&amp;sn=161ee47945e9e034861c7adc8968a997&amp;chksm=b3238e8384540795fff98c50a2cddeed5b6d739d26496048dd9f2b91253df5a952e0eb71f596&amp;scene=21#wechat_redirect\"',\n",
       " 'href=\"http://mp.weixin.qq.com/s?__biz=MjM5OTMwODM1Mw==&amp;mid=2448053165&amp;idx=1&amp;sn=161ee47945e9e034861c7adc8968a997&amp;chksm=b3238e8384540795fff98c50a2cddeed5b6d739d26496048dd9f2b91253df5a952e0eb71f596&amp;scene=21#wechat_redirect\"',\n",
       " 'href=\"http://mp.weixin.qq.com/s?__biz=MjM5OTMwODM1Mw==&amp;mid=2448060009&amp;idx=1&amp;sn=d0e09b9da56adc839d0bf2829f74a798&amp;chksm=b323b34784543a51705b584f9678b9d92f6bc4f8ccf3dcca3ef0d0fc08f04aadb97a33bb0d26&amp;scene=21#wechat_redirect\"',\n",
       " 'href=\"http://mp.weixin.qq.com/s?__biz=MjM5OTMwODM1Mw==&amp;mid=2448058119&amp;idx=1&amp;sn=79d1e1f0e35a367a76eb0576e49bb963&amp;chksm=b323ba298454333fd4599a881dc19cd7fdba35965e9d05bd7a260a92cba3841bc3953e1d0543&amp;scene=21#wechat_redirect\"',\n",
       " 'href=\"http://mp.weixin.qq.com/s?__biz=MjM5OTMwODM1Mw==&amp;mid=2448059310&amp;idx=1&amp;sn=38f7b997958eb22a33144f9d8a8f6b47&amp;chksm=b323b68084543f966982777e972d698f35d3b9b5de7f314f5ab386839b5933d57c795da6f5c9&amp;scene=21#wechat_redirect\"',\n",
       " 'href=\"http://mp.weixin.qq.com/s?__biz=MjM5OTMwODM1Mw==&amp;mid=2448058145&amp;idx=1&amp;sn=fce08fd7873a13f0bab2c08a9f85fa1b&amp;chksm=b323ba0f84543319d1b1c823b7ca718eedf8632ce637dd57a4a77ced784dfde6310583c1de81&amp;scene=21#wechat_redirect\"',\n",
       " 'href=\"http://mp.weixin.qq.com/s?__biz=MjM5OTMwODM1Mw==&amp;mid=2448063102&amp;idx=1&amp;sn=33651bd4acc42c6ee1d62056f90c0a8f&amp;chksm=b323a75084542e46c3cdcb7a56da6ff84b2f42727df77863cb2d643f3c3d17d3508ea08ce3e9&amp;scene=21#wechat_redirect\"',\n",
       " 'href=\"http://mp.weixin.qq.com/s?__biz=MjM5OTMwODM1Mw==&amp;mid=2448065433&amp;idx=1&amp;sn=a9462690887c158c88a3cac56d2b29fd&amp;chksm=b3235eb78454d7a1a5d116f42eb1a94e068cde86e58acfbe5e9cb120c1ccaf01d2d2b305fcaa&amp;scene=21#wechat_redirect\"',\n",
       " 'href=\"http://mp.weixin.qq.com/s?__biz=MjM5OTMwODM1Mw==&amp;mid=2448062566&amp;idx=1&amp;sn=f44f630371c71e3b4c224764a9119544&amp;chksm=b323a54884542c5eaa72494b8d1ad0cc4996b8a334e6ae56c37b3cb2ec4e0ad9d3d785a4cfcb&amp;scene=21#wechat_redirect\"',\n",
       " 'href=\"http://mp.weixin.qq.com/s?__biz=MjM5OTMwODM1Mw==&amp;mid=2448062564&amp;idx=1&amp;sn=9c8ec12753691fbb5a8a24a218f98dfd&amp;chksm=b323a54a84542c5c4e2b34cbd7311b68af477618ee8e7318389073ea66a18dc4b2aa509bd798&amp;scene=21#wechat_redirect\"',\n",
       " 'href=\"http://mp.weixin.qq.com/s?__biz=MjM5OTMwODM1Mw==&amp;mid=2448063055&amp;idx=1&amp;sn=41edd00addaafde5455df840a721d57b&amp;chksm=b323a76184542e778798ee766e32ab09ea91262fe2513c3ed8299ed74320156112413c5a6b63&amp;scene=21#wechat_redirect\"',\n",
       " 'href=\"http://mp.weixin.qq.com/s?__biz=MjM5OTMwODM1Mw==&amp;mid=2448061904&amp;idx=1&amp;sn=2faa0b5c7f589123357936914bc00653&amp;chksm=b323a8fe845421e8406084be49bba42993578da2d931572b830e9c8c72fb66e0a7148dc040ad&amp;scene=21#wechat_redirect\"',\n",
       " 'href=\"http://mp.weixin.qq.com/s?__biz=MjM5OTMwODM1Mw==&amp;mid=2448062552&amp;idx=1&amp;sn=d06aeea68eb98c108b6788316262d839&amp;chksm=b323a57684542c6028d9810b33bc24fb4092931bfa5dfb2c2f3a4f9dc30371a689d144d4e240&amp;scene=21#wechat_redirect\"',\n",
       " 'href=\"http://mp.weixin.qq.com/s?__biz=MjM5OTMwODM1Mw==&amp;mid=2448058131&amp;idx=1&amp;sn=775cff0263536feabfdfae383d22c365&amp;chksm=b323ba3d8454332b2551fda4b21e47ee00b68a2e6aee4a542a26194e07d517034189839f15c1&amp;scene=21#wechat_redirect\"',\n",
       " 'href=\"http://mp.weixin.qq.com/s?__biz=MjM5OTMwODM1Mw==&amp;mid=2448064821&amp;idx=1&amp;sn=f5041659920ee9f0cf1222af629acde8&amp;chksm=b3235c1b8454d50d2adb6e82cb1c6780be2d9bb5a108cc2a7876fd92e9148df97538143ad2f6&amp;scene=21#wechat_redirect\"',\n",
       " 'href=\"http://mp.weixin.qq.com/s?__biz=MjM5OTMwODM1Mw==&amp;mid=2448065022&amp;idx=1&amp;sn=1e33ca30af79f4c1034f12695c33ceab&amp;chksm=b3235cd08454d5c6076fbd6b178da41a24065146d904ad1942a44045e181c00d8dc2ca0a2302&amp;scene=21#wechat_redirect\"',\n",
       " 'href=\"http://mp.weixin.qq.com/s?__biz=MjM5OTMwODM1Mw==&amp;mid=2448065475&amp;idx=1&amp;sn=2a59d1f706edf1246dfb55b66b9afe77&amp;chksm=b3235eed8454d7fbdcc21ecd6597aa15890cafacf66462c71fe4050601748f54e30805c5778e&amp;scene=21#wechat_redirect\"',\n",
       " 'href=\"http://mp.weixin.qq.com/s?__biz=MjM5OTMwODM1Mw==&amp;mid=2448057440&amp;idx=1&amp;sn=225b8679d4aedc559a83d298e6d652f1&amp;chksm=b323b94e84543058ce552c4265a7d677aa90c8ed249f05145d60135e248a691ea19a617a24a3&amp;scene=21#wechat_redirect\"',\n",
       " 'href=\"http://mp.weixin.qq.com/s?__biz=MjM5OTMwODM1Mw==&amp;mid=2448069237&amp;idx=1&amp;sn=bf640bf9c102ce2ec4510947e712df6a&amp;chksm=b3234f5b8454c64db969ca3b0b810ba7440930c485b68a8d1da0c775bb539d4c2d5f9a828e53&amp;scene=21#wechat_redirect\"',\n",
       " 'href=\"http://mp.weixin.qq.com/s?__biz=MjM5OTMwODM1Mw==&amp;mid=2448071920&amp;idx=1&amp;sn=0d1d77a5ef2cb299ccd8490ba90d661d&amp;chksm=b32341de8454c8c8a37c136ce86e29a891619aed862ef413572573dde7619e12ffa095e287a8&amp;scene=21#wechat_redirect\"',\n",
       " 'href=\"http://mp.weixin.qq.com/s?__biz=MjM5OTMwODM1Mw==&amp;mid=2448068171&amp;idx=2&amp;sn=fe032014f4077f8b2e3c0922a79ae84b&amp;chksm=b32353658454da73a9a8d25216f2b55729a0e9028a2b76ebcaa627401e710773824ca116dd65&amp;scene=21#wechat_redirect\"',\n",
       " 'href=\"http://mp.weixin.qq.com/s?__biz=MjM5OTMwODM1Mw==&amp;mid=2448071482&amp;idx=1&amp;sn=10065b277b091029305535520da164f0&amp;chksm=b32346148454cf0200ba64bee439af791a9a466d3e34482365abac9b70d0abbfa7350f2e4751&amp;scene=21#wechat_redirect\"',\n",
       " 'href=\"http://mp.weixin.qq.com/s?__biz=MjM5OTMwODM1Mw==&amp;mid=2448065464&amp;idx=1&amp;sn=5d47e75e0572f76d2435b16859cfa4e0&amp;chksm=b3235e968454d780b73d308367b5cf94a9b153878cf9a6d62c6a050e8f9f57b2622ff0e496bd&amp;scene=21#wechat_redirect\"',\n",
       " 'href=\"http://mp.weixin.qq.com/s?__biz=MjM5OTMwODM1Mw==&amp;mid=2448058238&amp;idx=1&amp;sn=827485961988e6e8564e0cdc74802377&amp;chksm=b323ba508454334626f198761497dbaf946e882c5ce2cf906b48b50a0ef287f704bee52ed45e&amp;scene=21#wechat_redirect\"',\n",
       " 'href=\"http://mp.weixin.qq.com/s?__biz=MjM5OTMwODM1Mw==&amp;mid=2448061325&amp;idx=1&amp;sn=82452e48f4c8d6128fda45b2ec8b7a4e&amp;chksm=b323aea3845427b507ef729c2b6eb6368eaa49e784638f2a35d6bc3155444766efa5d524b3c1&amp;scene=21#wechat_redirect\"',\n",
       " 'href=\"http://mp.weixin.qq.com/s?__biz=MjM5OTMwODM1Mw==&amp;mid=2448061020&amp;idx=1&amp;sn=1deed45e15bf85519c6c8ee96ff78651&amp;chksm=b323af7284542664845bec10ddee7aca83db4ac1325c98382ad1020bbd65da8419e9de2e3f57&amp;scene=21#wechat_redirect\"',\n",
       " 'href=\"http://mp.weixin.qq.com/s?__biz=MjM5OTMwODM1Mw==&amp;mid=2448056970&amp;idx=1&amp;sn=60464a09b72a72da002d33ddc2f98013&amp;chksm=b323bfa4845436b24f87b67bc3a06d46a1da7270e7e7bde6528edc3a5015f69007b923f91a6b&amp;scene=21#wechat_redirect\"',\n",
       " 'href=\"http://mp.weixin.qq.com/s?__biz=MjM5OTMwODM1Mw==&amp;mid=2448063081&amp;idx=1&amp;sn=3b6c35626a442a2a27b3dc5affb09a10&amp;chksm=b323a74784542e51316dd54f482c4298b76bf33147e91076b842c3fdafefda443997d2d14e3c&amp;scene=21#wechat_redirect\"',\n",
       " 'href=\"http://mp.weixin.qq.com/s?__biz=MjM5OTMwODM1Mw==&amp;mid=2448064997&amp;idx=1&amp;sn=023597da1e8f7251eda227fa7db086a5&amp;chksm=b3235ccb8454d5ddc11b2d8acc7e7356119153be4b746b66ed92248179ca7404ecfd6c9bb06c&amp;scene=21#wechat_redirect\"',\n",
       " 'href=\"http://mp.weixin.qq.com/s?__biz=MjM5OTMwODM1Mw==&amp;mid=2448062524&amp;idx=2&amp;sn=528091780d78c3e1a1a2c27151acaa8e&amp;chksm=b323a51284542c0459af59af8adb02dc0ce63da40ea359c088815eecb8065666c4c504f1e7d0&amp;scene=21#wechat_redirect\"',\n",
       " 'href=\"http://mp.weixin.qq.com/s?__biz=MjM5OTMwODM1Mw==&amp;mid=2448064927&amp;idx=1&amp;sn=b49de8b7f1176e911f70f928a9aa3da4&amp;chksm=b3235cb18454d5a789e54dcdb3f8cffe23870db008dcedf9f58f452d259b8cf273fa20bc2cb1&amp;scene=21#wechat_redirect\"',\n",
       " 'href=\"http://mp.weixin.qq.com/s?__biz=MjM5OTMwODM1Mw==&amp;mid=2448065664&amp;idx=1&amp;sn=7eb9a12382669bdb5eb25f8bf183a609&amp;chksm=b32359ae8454d0b8b07eecccba5ecfe3b8f29ac38c42d612ebc9ac100a5faf8abebe57326f7c&amp;scene=21#wechat_redirect\"',\n",
       " 'href=\"http://mp.weixin.qq.com/s?__biz=MjM5OTMwODM1Mw==&amp;mid=2448069775&amp;idx=1&amp;sn=fdec8da35cb54f3515ab1988e7030ebf&amp;chksm=b32349a18454c0b7e9c454ff7bbd02930605f08d3a70d21bd763b95cae7073bac0211c230345&amp;scene=21#wechat_redirect\"']"
      ]
     },
     "execution_count": 79,
     "metadata": {},
     "output_type": "execute_result"
    }
   ],
   "source": [
    "link"
   ]
  },
  {
   "cell_type": "code",
   "execution_count": 78,
   "metadata": {},
   "outputs": [
    {
     "data": {
      "text/plain": [
       "76"
      ]
     },
     "execution_count": 78,
     "metadata": {},
     "output_type": "execute_result"
    }
   ],
   "source": [
    "len(link)"
   ]
  },
  {
   "cell_type": "code",
   "execution_count": 80,
   "metadata": {
    "scrolled": true
   },
   "outputs": [
    {
     "name": "stdout",
     "output_type": "stream",
     "text": [
      "0 0.</span></strong>陆铭教授\n",
      "1 现实·理论·证据──谈如何做研究和写论文\n",
      "2 陆铭教授以审稿人的身份谈论文写作和审稿\n",
      "3 把实证研究进行到底，献给学术路上的人\n",
      "4 评陆铭《如何把实证研究进行到底》</span></span>\n",
      "5 姚洋为什么你不能发《经济研究》？\n",
      "6 姚洋经济学是科学吗？季刊主编如是说\n",
      "7 姚洋：如何写出一篇高质量的论文\n",
      "8 陈强: 计量经济学实证论文写作全解析\n",
      "9 洪永淼教授, 可以为计量经济学代言\n",
      "10 陆蓉计量工具让经济学科学化了吗\n",
      "11 徐淑英:商学院教授们, 别躲在象牙塔里\n",
      "12 计量经济模型实证分析的正确打开方式\n",
      "13 美国经济学教育体系和对中国的启示\n",
      "14 经济学实证研究中的误区，全部是经验\n",
      "15 计量经济学中的7大误区, 你踩雷了吗？\n",
      "16 邹恒甫教授对年轻学者四句学术箴言\n",
      "17 你为什么发不了AER和经济研究？\n",
      "18 与AER齐名的期刊主编亲笔信\n",
      "19 AER, JHR告诉你, 如何在期刊上发论文\n",
      "20 教授、主编和博士们的文献阅读指南\n",
      "21 芝大学教授, 自科与社科的真正区别\n",
      "22 芝大学教授的博士生论文写作指南\n",
      "23 模型在微观实证研究中到底重不重要\n",
      "24 萧政:新鲜课题是中国经济学研究的优势\n",
      "25 好的经济学研究怎么开展,LSE指导文书\n",
      "26 教授指点计量经济学迷津\n",
      "27 邹志庄教授计量研究汇结，总结研究经验\n",
      "28 学术论文写作的碧血剑谱\n",
      "29 写论文的初期-中期-晚期, 模型-思想权衡\n",
      "30 顶尖期刊论文的写作策略, 不看后悔终生\n",
      "31 在顶尖期刊发论文投稿, 拒稿和修改策略\n",
      "32 经济学论文写作的28条军规\n",
      "33 如何读英语论文, 怎样读懂英语论文\n",
      "34 \"经济研究\"规定论文写作规范与编辑标准\n",
      "35 史上最全博士论文撰写指导手册\n",
      "36 SSCI论文写作和投稿技巧指南针\n",
      "37 顶级经济学期刊发表论文计量方法分析\n",
      "38 你的论文写作一塌糊涂，我想撕了它\n",
      "39 权威编辑教你怎样写好学术论文\n",
      "40 如何写好计量经济学实证分析论文\n",
      "41 优秀论文写作全攻略，熟读一篇\n",
      "42 全国“百篇优博”论文的分析\n",
      "43 一个完整的实证分析框架: 从数据, 模型到结果检验\n",
      "44 搞实证研究的该如何选题? 一些宝贵经验\n",
      "45 选择实证研究问题的六个维度, 大有可为\n",
      "46 实证研究的诀窍, 因果识别,因果识别\n",
      "47 经济学实证研究中的误区，全部是经验\n",
      "48 把实证研究进行到底，献给学术路上的人\n",
      "49 如何正确用计量经济模型实证分析？\n",
      "50 实证经济学走过的三十年，数据、模型和工具的力量\n"
     ]
    }
   ],
   "source": [
    "for i in range(len(title)):\n",
    "    print(i,title[i][1:])"
   ]
  },
  {
   "cell_type": "code",
   "execution_count": 82,
   "metadata": {},
   "outputs": [
    {
     "name": "stdout",
     "output_type": "stream",
     "text": [
      "0 \"http://mp.weixin.qq.com/mp/rumor?action=info&__biz=\"\n",
      "1 \"http://mp.weixin.qq.com/s?__biz=MjM5OTMwODM1Mw==&amp;mid=2448061268&amp;idx=1&amp;sn=b48255297464de2ba4de354c7a2fd229&amp;chksm=b323ae7a8454276cd71e0d937a2391f6fb3b77d9e6b09e8e333e79f16c10c4b59a446ae775ca&amp;scene=21#wechat_redirect\"\n",
      "2 \"http://mp.weixin.qq.com/s?__biz=MjM5OTMwODM1Mw==&amp;mid=2448061268&amp;idx=1&amp;sn=b48255297464de2ba4de354c7a2fd229&amp;chksm=b323ae7a8454276cd71e0d937a2391f6fb3b77d9e6b09e8e333e79f16c10c4b59a446ae775ca&amp;scene=21#wechat_redirect\"\n",
      "3 \"http://mp.weixin.qq.com/s?__biz=MjM5OTMwODM1Mw==&amp;mid=2448069476&amp;idx=1&amp;sn=305c0d7bdb7455798615dba5921f48bc&amp;chksm=b3234e4a8454c75c8edcca384f7eb281b8e2b792c063a09ce747ee1e2f0cbb003a82765b0114&amp;scene=21#wechat_redirect\"\n",
      "4 \"http://mp.weixin.qq.com/s?__biz=MjM5OTMwODM1Mw==&amp;mid=2448061798&amp;idx=1&amp;sn=b63f361f83c2e48062c00e0ea48fb45e&amp;chksm=b323a8488454215e8e07955ce07648dfd00760cf70498b15c51b620be8581df80dffbd877da7&amp;scene=21#wechat_redirect\"\n",
      "5 \"http://mp.weixin.qq.com/s?__biz=MjM5OTMwODM1Mw==&amp;mid=2448054839&amp;idx=1&amp;sn=31225d85dd39ee1129cc494503e3d9b3&amp;chksm=b323871984540e0f4fc8c66b964ceb34ba26a6f92aba957e746eba4dd46e7eb57940497de4c4&amp;scene=21#wechat_redirect\"\n",
      "6 \"http://mp.weixin.qq.com/s?__biz=MjM5OTMwODM1Mw==&amp;mid=2448056032&amp;idx=1&amp;sn=c092b32831c77fab86710e9e58f93f9c&amp;chksm=b32383ce84540ad8c06315120f86ec3ce6d8cc888921a4078bb06961b45b42c9c8b53dbc8774&amp;scene=21#wechat_redirect\"\n",
      "7 \"http://mp.weixin.qq.com/s?__biz=MjM5OTMwODM1Mw==&amp;mid=2448057219&amp;idx=1&amp;sn=42a645e305fe8a99d7ad4a7b598f6272&amp;chksm=b323bead845437bb849f3ce6d27b7c9693fbe5195c3f4c686214d786c0b00a8bb7a55d353758&amp;scene=21#wechat_redirect\"\n",
      "8 \"http://mp.weixin.qq.com/s?__biz=MjM5OTMwODM1Mw==&amp;mid=2448067592&amp;idx=1&amp;sn=4f357c137f930e25c023ab0e6d841027&amp;chksm=b32351268454d83058fd9a333f63b3d59d2c1a4f70eccea9210d9ab7e7f21c30cfc5e4d02188&amp;scene=21#wechat_redirect\"\n",
      "9 \"http://mp.weixin.qq.com/s?__biz=MjM5OTMwODM1Mw==&amp;mid=2448066865&amp;idx=2&amp;sn=46220d30741c5e4d08a5602fb245dbef&amp;chksm=b323541f8454dd094f9b5afc61d6ab840f9c587458a891700433e9c190f428cdab8ba8d15dd3&amp;scene=21#wechat_redirect\"\n",
      "10 \"http://mp.weixin.qq.com/s?__biz=MjM5OTMwODM1Mw==&amp;mid=2448059658&amp;idx=1&amp;sn=18dfec584e3160284c48afbd26e97928&amp;chksm=b323b02484543932133dbeff3cbc2b6665dffa6ce2e5011da15d77f574ac798726d1ae07d038&amp;scene=21#wechat_redirect\"\n",
      "11 \"http://mp.weixin.qq.com/s?__biz=MjM5OTMwODM1Mw==&amp;mid=2448066423&amp;idx=1&amp;sn=3ac514a7585573085c09b354d1e8d691&amp;chksm=b3235a598454d34f35a38647b0ad358859b15345cd24d6e058386c0ec7c9edb27d77e2c7b44c&amp;scene=21#wechat_redirect\"\n",
      "12 \"http://mp.weixin.qq.com/s?__biz=MjM5OTMwODM1Mw==&amp;mid=2448054941&amp;idx=1&amp;sn=306e59586f9a7b38b3b9e806a0b7e5f5&amp;chksm=b32387b384540ea5448f9b4882db018a0dc361d86d0630a7baeb456608cd90770dbb1d8984b9&amp;scene=21#wechat_redirect\"\n",
      "13 \"http://mp.weixin.qq.com/s?__biz=MjM5OTMwODM1Mw==&amp;mid=2448062784&amp;idx=1&amp;sn=d2ee9a465471d93bce8f92f6a9b5fffb&amp;chksm=b323a46e84542d785b7914ae3700c9f08e03d31242e177e1ee912b88cc6e160f5149fd31b236&amp;scene=21#wechat_redirect\"\n",
      "14 \"http://mp.weixin.qq.com/s?__biz=MjM5OTMwODM1Mw==&amp;mid=2448062290&amp;idx=1&amp;sn=70c8b13cedcfbbe1fdda5de806c7944b&amp;chksm=b323aa7c8454236ae5c849ac05213980f31701e82cfdf2b430eda3ba71a9a6e115e7a11e01eb&amp;scene=21#wechat_redirect\"\n",
      "15 \"http://mp.weixin.qq.com/s?__biz=MjM5OTMwODM1Mw==&amp;mid=2448062202&amp;idx=1&amp;sn=4ac761d1e9c4f1e138a97402e23610be&amp;chksm=b323abd4845422c2c64c37fd69c8c4ae75f892ec648f02ede84c4782b40e682aad9b22763703&amp;scene=21#wechat_redirect\"\n",
      "16 \"http://mp.weixin.qq.com/s?__biz=MjM5OTMwODM1Mw==&amp;mid=2448056287&amp;idx=1&amp;sn=c2ff340585d0383bc4852f08723c2b54&amp;chksm=b32382f184540be75c21cee09d0f08aab1959cfadb9a5bcfbbcf87325e2ba567dbe9a4dc2bb4&amp;scene=21#wechat_redirect\"\n",
      "17 \"http://mp.weixin.qq.com/s?__biz=MjM5OTMwODM1Mw==&amp;mid=2448056265&amp;idx=1&amp;sn=448beca598bb248023ab3274b22e90ca&amp;chksm=b32382e784540bf1e5afc04ceea6345b7c258f867b62a736b10c2a86058ce55f55f934504574&amp;scene=21#wechat_redirect\"\n",
      "18 \"http://mp.weixin.qq.com/s?__biz=MjM5OTMwODM1Mw==&amp;mid=2448055183&amp;idx=1&amp;sn=973cc20fbab93e7df49c2df04ef708b6&amp;chksm=b32386a184540fb777dd4f6c735b9c66ed4ac82adab91d67d8f0370a9d846f1a29a1957ab85f&amp;scene=21#wechat_redirect\"\n",
      "19 \"http://mp.weixin.qq.com/s?__biz=MjM5OTMwODM1Mw==&amp;mid=2448053120&amp;idx=1&amp;sn=e5a08e0fc460cba6bfd7b4e287cb30fe&amp;chksm=b3238eae845407b872335249f2fcd89bcfaab28b8765035dc2b6391d5a0565f7c4a4d1042569&amp;scene=21#wechat_redirect\"\n",
      "20 \"http://mp.weixin.qq.com/s?__biz=MjM5OTMwODM1Mw==&amp;mid=2448069361&amp;idx=1&amp;sn=93a6363f0c234e705960d6ddf64d0981&amp;chksm=b3234fdf8454c6c9416a39503356f275712baa808e544806fbe74201c30a3388c8ed62230f64&amp;scene=21#wechat_redirect\"\n",
      "21 \"http://mp.weixin.qq.com/s?__biz=MjM5OTMwODM1Mw==&amp;mid=2448063291&amp;idx=1&amp;sn=b972907c681b7a5ddd6340a716c190c9&amp;chksm=b323a61584542f0343cf1665f695dbe833f93decf54187d5595c8c457a1c32fbc55a653debb8&amp;scene=21#wechat_redirect\"\n",
      "22 \"http://mp.weixin.qq.com/s?__biz=MjM5OTMwODM1Mw==&amp;mid=2448062291&amp;idx=1&amp;sn=7e5c6c37d45ecf82962ff7ff56df5aff&amp;chksm=b323aa7d8454236bf0213a07a6049cb754dd21bba780b34c32a3e704eeed7c889bb713834b1d&amp;scene=21#wechat_redirect\"\n",
      "23 \"http://mp.weixin.qq.com/s?__biz=MjM5OTMwODM1Mw==&amp;mid=2448062293&amp;idx=1&amp;sn=8fb2ae58adfa121b4a8ba685742a7a8c&amp;chksm=b323aa7b8454236d75e650d7909a4401f9a627cf8fba9e9c43a090f3ee67cf133fa86e2d503f&amp;scene=21#wechat_redirect\"\n",
      "24 \"http://mp.weixin.qq.com/s?__biz=MjM5OTMwODM1Mw==&amp;mid=2448061453&amp;idx=1&amp;sn=27f855c32536c22571d838a6b5837bda&amp;chksm=b323a9238454203560c13ca0a95d50a75cfe6e1341f23b06a1157c6fc758ae728da06fb51ad3&amp;scene=21#wechat_redirect\"\n",
      "25 \"http://mp.weixin.qq.com/s?__biz=MjM5OTMwODM1Mw==&amp;mid=2448058463&amp;idx=1&amp;sn=f53cdfaa316372239ecb93a5c92d35b3&amp;chksm=b323b57184543c6754d3ed2c895a6b2d38f210a631deb036410296129ecc6e0a445d6a801319&amp;scene=21#wechat_redirect\"\n",
      "26 \"http://mp.weixin.qq.com/s?__biz=MjM5OTMwODM1Mw==&amp;mid=2448057746&amp;idx=1&amp;sn=ac246047ba53b4ad57fc2f6010051abf&amp;chksm=b323b8bc845431aae5a746c430170301be63024d7734d87103740488dfee037bad0c85c49149&amp;scene=21#wechat_redirect\"\n",
      "27 \"http://mp.weixin.qq.com/s?__biz=MjM5OTMwODM1Mw==&amp;mid=2448056336&amp;idx=1&amp;sn=6a019f0dd03d0da93d90429862d66dc5&amp;chksm=b323bd3e84543428eeba9b13bc6be8a60761c6495a025559a8872b374e88b2c78cdce257834d&amp;scene=21#wechat_redirect\"\n",
      "28 \"http://mp.weixin.qq.com/s?__biz=MjM5OTMwODM1Mw==&amp;mid=2448055962&amp;idx=1&amp;sn=5fc7f0f015765bb1338d8d6c3577f8e3&amp;chksm=b32383b484540aa24832e0b09bac80a3d83ee349d506dea7693eab4034c10e9c507a5c7c6bd2&amp;scene=21#wechat_redirect\"\n",
      "29 \"http://mp.weixin.qq.com/s?__biz=MjM5OTMwODM1Mw==&amp;mid=2448054937&amp;idx=1&amp;sn=f38ea50bbbc3df67e06305de7bcba50d&amp;chksm=b32387b784540ea1fb29dcbcac923fcc3502b66f869244ae254788b49c20305e641843b505ce&amp;scene=21#wechat_redirect\"\n",
      "30 \"http://mp.weixin.qq.com/s?__biz=MjM5OTMwODM1Mw==&amp;mid=2448055716&amp;idx=1&amp;sn=a69b5eefba37f3814c3f3b083d81fdf4&amp;chksm=b323808a8454099c574563dc6e964f63813aa74a7806c284d80bf0691fc6854b002261b6793d&amp;scene=21#wechat_redirect\"\n",
      "31 \"http://mp.weixin.qq.com/s?__biz=MjM5OTMwODM1Mw==&amp;mid=2448054413&amp;idx=1&amp;sn=9b5e6e129ec3e5871bf81046ba76ecb4&amp;chksm=b32385a384540cb55524a65c829de8c41bc2eaa59b39be95d935b5902c245035da0f1a8b56ea&amp;scene=21#wechat_redirect\"\n",
      "32 \"http://mp.weixin.qq.com/s?__biz=MjM5OTMwODM1Mw==&amp;mid=2448054132&amp;idx=1&amp;sn=6e25b2869846eea0a940bb156802afaa&amp;chksm=b3238a5a8454034cb64259a639c5fd82be36fce7fefce5d5fff24a42391c8ed95b609f6f3031&amp;scene=21#wechat_redirect\"\n",
      "33 \"http://mp.weixin.qq.com/s?__biz=MjM5OTMwODM1Mw==&amp;mid=2448054408&amp;idx=1&amp;sn=0c696574c7e5d933448a12b64586a642&amp;chksm=b32385a684540cb07b0c270fc43e83274ab1e393da6fe2493381a7562a5826720d1fb43a376a&amp;scene=21#wechat_redirect\"\n",
      "34 \"http://mp.weixin.qq.com/s?__biz=MjM5OTMwODM1Mw==&amp;mid=2448054126&amp;idx=1&amp;sn=6f98da2d0a7e0cf2db5d2ae95fe45c38&amp;chksm=b3238a4084540356f966a2ec8cef7e13ea38d818befe9d32bbe89b9cdcca44f9531c6d052969&amp;scene=21#wechat_redirect\"\n",
      "35 \"http://mp.weixin.qq.com/s?__biz=MjM5OTMwODM1Mw==&amp;mid=2448062787&amp;idx=1&amp;sn=cdbb57d6fe653d0497f912e5f8c8f428&amp;chksm=b323a46d84542d7b0b5380cc95b318d070551e097197592368f3edfd1d1ecf8b98fc3c097916&amp;scene=21#wechat_redirect\"\n",
      "36 \"http://mp.weixin.qq.com/s?__biz=MjM5OTMwODM1Mw==&amp;mid=2448062395&amp;idx=1&amp;sn=4e12b307e6b29ee4adabf3b391a132cf&amp;chksm=b323aa9584542383d1cb62d674cce8d953e74383410e7fe6868a7143158c61abc8c7ccd8cb4e&amp;scene=21#wechat_redirect\"\n",
      "37 \"http://mp.weixin.qq.com/s?__biz=MjM5OTMwODM1Mw==&amp;mid=2448062376&amp;idx=2&amp;sn=47e9c91e2cf64701cb83dfa914b5944a&amp;chksm=b323aa8684542390b05d6a4118a898905ffa347d0de3e0ac4c9b59a194e87aea9696a8d8f24c&amp;scene=21#wechat_redirect\"\n",
      "38 \"http://mp.weixin.qq.com/s?__biz=MjM5OTMwODM1Mw==&amp;mid=2448062279&amp;idx=1&amp;sn=f96a8c266f9ac78323b0502d7abe171e&amp;chksm=b323aa698454237fc0379672b9900d78a13a512958eb4bb185bbe0a4dc01804c78d70544d1bb&amp;scene=21#wechat_redirect\"\n",
      "39 \"http://mp.weixin.qq.com/s?__biz=MjM5OTMwODM1Mw==&amp;mid=2448055593&amp;idx=1&amp;sn=48b515da858f22acbeaea985c99d0acf&amp;chksm=b32380078454091115d2c7f86246b6dee78b33ebc710798b9c03e49b073d63a1abdf10f2c2f7&amp;scene=21#wechat_redirect\"\n",
      "40 \"http://mp.weixin.qq.com/s?__biz=MjM5OTMwODM1Mw==&amp;mid=2448054875&amp;idx=1&amp;sn=6cf8c759c504a9066ad758e293d56fe7&amp;chksm=b323877584540e6334091a2e648af3532e0866d2f710a15e66ac40d707f13c168f4a3d17e847&amp;scene=21#wechat_redirect\"\n",
      "41 \"http://mp.weixin.qq.com/s?__biz=MjM5OTMwODM1Mw==&amp;mid=2448054093&amp;idx=1&amp;sn=1c6771f0cde7d857826baa93479ab266&amp;chksm=b3238a6384540375545356f58f0a01a16154916d7465254eaa1e8c84edc0737c978dc821123e&amp;scene=21#wechat_redirect\"\n",
      "42 \"http://mp.weixin.qq.com/s?__biz=MjM5OTMwODM1Mw==&amp;mid=2448053165&amp;idx=1&amp;sn=161ee47945e9e034861c7adc8968a997&amp;chksm=b3238e8384540795fff98c50a2cddeed5b6d739d26496048dd9f2b91253df5a952e0eb71f596&amp;scene=21#wechat_redirect\"\n",
      "43 \"http://mp.weixin.qq.com/s?__biz=MjM5OTMwODM1Mw==&amp;mid=2448053165&amp;idx=1&amp;sn=161ee47945e9e034861c7adc8968a997&amp;chksm=b3238e8384540795fff98c50a2cddeed5b6d739d26496048dd9f2b91253df5a952e0eb71f596&amp;scene=21#wechat_redirect\"\n",
      "44 \"http://mp.weixin.qq.com/s?__biz=MjM5OTMwODM1Mw==&amp;mid=2448053165&amp;idx=1&amp;sn=161ee47945e9e034861c7adc8968a997&amp;chksm=b3238e8384540795fff98c50a2cddeed5b6d739d26496048dd9f2b91253df5a952e0eb71f596&amp;scene=21#wechat_redirect\"\n",
      "45 \"http://mp.weixin.qq.com/s?__biz=MjM5OTMwODM1Mw==&amp;mid=2448060009&amp;idx=1&amp;sn=d0e09b9da56adc839d0bf2829f74a798&amp;chksm=b323b34784543a51705b584f9678b9d92f6bc4f8ccf3dcca3ef0d0fc08f04aadb97a33bb0d26&amp;scene=21#wechat_redirect\"\n",
      "46 \"http://mp.weixin.qq.com/s?__biz=MjM5OTMwODM1Mw==&amp;mid=2448058119&amp;idx=1&amp;sn=79d1e1f0e35a367a76eb0576e49bb963&amp;chksm=b323ba298454333fd4599a881dc19cd7fdba35965e9d05bd7a260a92cba3841bc3953e1d0543&amp;scene=21#wechat_redirect\"\n",
      "47 \"http://mp.weixin.qq.com/s?__biz=MjM5OTMwODM1Mw==&amp;mid=2448059310&amp;idx=1&amp;sn=38f7b997958eb22a33144f9d8a8f6b47&amp;chksm=b323b68084543f966982777e972d698f35d3b9b5de7f314f5ab386839b5933d57c795da6f5c9&amp;scene=21#wechat_redirect\"\n",
      "48 \"http://mp.weixin.qq.com/s?__biz=MjM5OTMwODM1Mw==&amp;mid=2448058145&amp;idx=1&amp;sn=fce08fd7873a13f0bab2c08a9f85fa1b&amp;chksm=b323ba0f84543319d1b1c823b7ca718eedf8632ce637dd57a4a77ced784dfde6310583c1de81&amp;scene=21#wechat_redirect\"\n",
      "49 \"http://mp.weixin.qq.com/s?__biz=MjM5OTMwODM1Mw==&amp;mid=2448063102&amp;idx=1&amp;sn=33651bd4acc42c6ee1d62056f90c0a8f&amp;chksm=b323a75084542e46c3cdcb7a56da6ff84b2f42727df77863cb2d643f3c3d17d3508ea08ce3e9&amp;scene=21#wechat_redirect\"\n",
      "50 \"http://mp.weixin.qq.com/s?__biz=MjM5OTMwODM1Mw==&amp;mid=2448065433&amp;idx=1&amp;sn=a9462690887c158c88a3cac56d2b29fd&amp;chksm=b3235eb78454d7a1a5d116f42eb1a94e068cde86e58acfbe5e9cb120c1ccaf01d2d2b305fcaa&amp;scene=21#wechat_redirect\"\n",
      "51 \"http://mp.weixin.qq.com/s?__biz=MjM5OTMwODM1Mw==&amp;mid=2448062566&amp;idx=1&amp;sn=f44f630371c71e3b4c224764a9119544&amp;chksm=b323a54884542c5eaa72494b8d1ad0cc4996b8a334e6ae56c37b3cb2ec4e0ad9d3d785a4cfcb&amp;scene=21#wechat_redirect\"\n",
      "52 \"http://mp.weixin.qq.com/s?__biz=MjM5OTMwODM1Mw==&amp;mid=2448062564&amp;idx=1&amp;sn=9c8ec12753691fbb5a8a24a218f98dfd&amp;chksm=b323a54a84542c5c4e2b34cbd7311b68af477618ee8e7318389073ea66a18dc4b2aa509bd798&amp;scene=21#wechat_redirect\"\n",
      "53 \"http://mp.weixin.qq.com/s?__biz=MjM5OTMwODM1Mw==&amp;mid=2448063055&amp;idx=1&amp;sn=41edd00addaafde5455df840a721d57b&amp;chksm=b323a76184542e778798ee766e32ab09ea91262fe2513c3ed8299ed74320156112413c5a6b63&amp;scene=21#wechat_redirect\"\n",
      "54 \"http://mp.weixin.qq.com/s?__biz=MjM5OTMwODM1Mw==&amp;mid=2448061904&amp;idx=1&amp;sn=2faa0b5c7f589123357936914bc00653&amp;chksm=b323a8fe845421e8406084be49bba42993578da2d931572b830e9c8c72fb66e0a7148dc040ad&amp;scene=21#wechat_redirect\"\n",
      "55 \"http://mp.weixin.qq.com/s?__biz=MjM5OTMwODM1Mw==&amp;mid=2448062552&amp;idx=1&amp;sn=d06aeea68eb98c108b6788316262d839&amp;chksm=b323a57684542c6028d9810b33bc24fb4092931bfa5dfb2c2f3a4f9dc30371a689d144d4e240&amp;scene=21#wechat_redirect\"\n",
      "56 \"http://mp.weixin.qq.com/s?__biz=MjM5OTMwODM1Mw==&amp;mid=2448058131&amp;idx=1&amp;sn=775cff0263536feabfdfae383d22c365&amp;chksm=b323ba3d8454332b2551fda4b21e47ee00b68a2e6aee4a542a26194e07d517034189839f15c1&amp;scene=21#wechat_redirect\"\n",
      "57 \"http://mp.weixin.qq.com/s?__biz=MjM5OTMwODM1Mw==&amp;mid=2448064821&amp;idx=1&amp;sn=f5041659920ee9f0cf1222af629acde8&amp;chksm=b3235c1b8454d50d2adb6e82cb1c6780be2d9bb5a108cc2a7876fd92e9148df97538143ad2f6&amp;scene=21#wechat_redirect\"\n",
      "58 \"http://mp.weixin.qq.com/s?__biz=MjM5OTMwODM1Mw==&amp;mid=2448065022&amp;idx=1&amp;sn=1e33ca30af79f4c1034f12695c33ceab&amp;chksm=b3235cd08454d5c6076fbd6b178da41a24065146d904ad1942a44045e181c00d8dc2ca0a2302&amp;scene=21#wechat_redirect\"\n",
      "59 \"http://mp.weixin.qq.com/s?__biz=MjM5OTMwODM1Mw==&amp;mid=2448065475&amp;idx=1&amp;sn=2a59d1f706edf1246dfb55b66b9afe77&amp;chksm=b3235eed8454d7fbdcc21ecd6597aa15890cafacf66462c71fe4050601748f54e30805c5778e&amp;scene=21#wechat_redirect\"\n",
      "60 \"http://mp.weixin.qq.com/s?__biz=MjM5OTMwODM1Mw==&amp;mid=2448057440&amp;idx=1&amp;sn=225b8679d4aedc559a83d298e6d652f1&amp;chksm=b323b94e84543058ce552c4265a7d677aa90c8ed249f05145d60135e248a691ea19a617a24a3&amp;scene=21#wechat_redirect\"\n",
      "61 \"http://mp.weixin.qq.com/s?__biz=MjM5OTMwODM1Mw==&amp;mid=2448069237&amp;idx=1&amp;sn=bf640bf9c102ce2ec4510947e712df6a&amp;chksm=b3234f5b8454c64db969ca3b0b810ba7440930c485b68a8d1da0c775bb539d4c2d5f9a828e53&amp;scene=21#wechat_redirect\"\n",
      "62 \"http://mp.weixin.qq.com/s?__biz=MjM5OTMwODM1Mw==&amp;mid=2448071920&amp;idx=1&amp;sn=0d1d77a5ef2cb299ccd8490ba90d661d&amp;chksm=b32341de8454c8c8a37c136ce86e29a891619aed862ef413572573dde7619e12ffa095e287a8&amp;scene=21#wechat_redirect\"\n",
      "63 \"http://mp.weixin.qq.com/s?__biz=MjM5OTMwODM1Mw==&amp;mid=2448068171&amp;idx=2&amp;sn=fe032014f4077f8b2e3c0922a79ae84b&amp;chksm=b32353658454da73a9a8d25216f2b55729a0e9028a2b76ebcaa627401e710773824ca116dd65&amp;scene=21#wechat_redirect\"\n",
      "64 \"http://mp.weixin.qq.com/s?__biz=MjM5OTMwODM1Mw==&amp;mid=2448071482&amp;idx=1&amp;sn=10065b277b091029305535520da164f0&amp;chksm=b32346148454cf0200ba64bee439af791a9a466d3e34482365abac9b70d0abbfa7350f2e4751&amp;scene=21#wechat_redirect\"\n",
      "65 \"http://mp.weixin.qq.com/s?__biz=MjM5OTMwODM1Mw==&amp;mid=2448065464&amp;idx=1&amp;sn=5d47e75e0572f76d2435b16859cfa4e0&amp;chksm=b3235e968454d780b73d308367b5cf94a9b153878cf9a6d62c6a050e8f9f57b2622ff0e496bd&amp;scene=21#wechat_redirect\"\n",
      "66 \"http://mp.weixin.qq.com/s?__biz=MjM5OTMwODM1Mw==&amp;mid=2448058238&amp;idx=1&amp;sn=827485961988e6e8564e0cdc74802377&amp;chksm=b323ba508454334626f198761497dbaf946e882c5ce2cf906b48b50a0ef287f704bee52ed45e&amp;scene=21#wechat_redirect\"\n",
      "67 \"http://mp.weixin.qq.com/s?__biz=MjM5OTMwODM1Mw==&amp;mid=2448061325&amp;idx=1&amp;sn=82452e48f4c8d6128fda45b2ec8b7a4e&amp;chksm=b323aea3845427b507ef729c2b6eb6368eaa49e784638f2a35d6bc3155444766efa5d524b3c1&amp;scene=21#wechat_redirect\"\n",
      "68 \"http://mp.weixin.qq.com/s?__biz=MjM5OTMwODM1Mw==&amp;mid=2448061020&amp;idx=1&amp;sn=1deed45e15bf85519c6c8ee96ff78651&amp;chksm=b323af7284542664845bec10ddee7aca83db4ac1325c98382ad1020bbd65da8419e9de2e3f57&amp;scene=21#wechat_redirect\"\n",
      "69 \"http://mp.weixin.qq.com/s?__biz=MjM5OTMwODM1Mw==&amp;mid=2448056970&amp;idx=1&amp;sn=60464a09b72a72da002d33ddc2f98013&amp;chksm=b323bfa4845436b24f87b67bc3a06d46a1da7270e7e7bde6528edc3a5015f69007b923f91a6b&amp;scene=21#wechat_redirect\"\n",
      "70 \"http://mp.weixin.qq.com/s?__biz=MjM5OTMwODM1Mw==&amp;mid=2448063081&amp;idx=1&amp;sn=3b6c35626a442a2a27b3dc5affb09a10&amp;chksm=b323a74784542e51316dd54f482c4298b76bf33147e91076b842c3fdafefda443997d2d14e3c&amp;scene=21#wechat_redirect\"\n",
      "71 \"http://mp.weixin.qq.com/s?__biz=MjM5OTMwODM1Mw==&amp;mid=2448064997&amp;idx=1&amp;sn=023597da1e8f7251eda227fa7db086a5&amp;chksm=b3235ccb8454d5ddc11b2d8acc7e7356119153be4b746b66ed92248179ca7404ecfd6c9bb06c&amp;scene=21#wechat_redirect\"\n",
      "72 \"http://mp.weixin.qq.com/s?__biz=MjM5OTMwODM1Mw==&amp;mid=2448062524&amp;idx=2&amp;sn=528091780d78c3e1a1a2c27151acaa8e&amp;chksm=b323a51284542c0459af59af8adb02dc0ce63da40ea359c088815eecb8065666c4c504f1e7d0&amp;scene=21#wechat_redirect\"\n",
      "73 \"http://mp.weixin.qq.com/s?__biz=MjM5OTMwODM1Mw==&amp;mid=2448064927&amp;idx=1&amp;sn=b49de8b7f1176e911f70f928a9aa3da4&amp;chksm=b3235cb18454d5a789e54dcdb3f8cffe23870db008dcedf9f58f452d259b8cf273fa20bc2cb1&amp;scene=21#wechat_redirect\"\n",
      "74 \"http://mp.weixin.qq.com/s?__biz=MjM5OTMwODM1Mw==&amp;mid=2448065664&amp;idx=1&amp;sn=7eb9a12382669bdb5eb25f8bf183a609&amp;chksm=b32359ae8454d0b8b07eecccba5ecfe3b8f29ac38c42d612ebc9ac100a5faf8abebe57326f7c&amp;scene=21#wechat_redirect\"\n",
      "75 \"http://mp.weixin.qq.com/s?__biz=MjM5OTMwODM1Mw==&amp;mid=2448069775&amp;idx=1&amp;sn=fdec8da35cb54f3515ab1988e7030ebf&amp;chksm=b32349a18454c0b7e9c454ff7bbd02930605f08d3a70d21bd763b95cae7073bac0211c230345&amp;scene=21#wechat_redirect\"\n"
     ]
    }
   ],
   "source": [
    "for i in range(len(link)):\n",
    "    print(i,link[i][5:])"
   ]
  },
  {
   "cell_type": "markdown",
   "metadata": {},
   "source": [
    "## 总结"
   ]
  },
  {
   "cell_type": "code",
   "execution_count": null,
   "metadata": {},
   "outputs": [],
   "source": [
    "(?=tioken) :前面是token"
   ]
  },
  {
   "cell_type": "code",
   "execution_count": null,
   "metadata": {},
   "outputs": [],
   "source": [
    "(?! tioken) :前面不是token"
   ]
  },
  {
   "cell_type": "code",
   "execution_count": null,
   "metadata": {},
   "outputs": [],
   "source": [
    "(?<=tioken) :后面是token"
   ]
  },
  {
   "cell_type": "code",
   "execution_count": null,
   "metadata": {},
   "outputs": [],
   "source": [
    "(?<!tioken) :后面不是token"
   ]
  },
  {
   "cell_type": "code",
   "execution_count": null,
   "metadata": {},
   "outputs": [],
   "source": [
    "*？： 非贪婪模式"
   ]
  },
  {
   "cell_type": "code",
   "execution_count": null,
   "metadata": {},
   "outputs": [],
   "source": []
  },
  {
   "cell_type": "code",
   "execution_count": null,
   "metadata": {},
   "outputs": [],
   "source": []
  }
 ],
 "metadata": {
  "kernelspec": {
   "display_name": "Python 3",
   "language": "python",
   "name": "python3"
  },
  "language_info": {
   "codemirror_mode": {
    "name": "ipython",
    "version": 3
   },
   "file_extension": ".py",
   "mimetype": "text/x-python",
   "name": "python",
   "nbconvert_exporter": "python",
   "pygments_lexer": "ipython3",
   "version": "3.7.3"
  },
  "toc": {
   "base_numbering": 1,
   "nav_menu": {},
   "number_sections": true,
   "sideBar": true,
   "skip_h1_title": false,
   "title_cell": "Table of Contents",
   "title_sidebar": "Contents",
   "toc_cell": false,
   "toc_position": {},
   "toc_section_display": true,
   "toc_window_display": false
  },
  "varInspector": {
   "cols": {
    "lenName": 16,
    "lenType": 16,
    "lenVar": 40
   },
   "kernels_config": {
    "python": {
     "delete_cmd_postfix": "",
     "delete_cmd_prefix": "del ",
     "library": "var_list.py",
     "varRefreshCmd": "print(var_dic_list())"
    },
    "r": {
     "delete_cmd_postfix": ") ",
     "delete_cmd_prefix": "rm(",
     "library": "var_list.r",
     "varRefreshCmd": "cat(var_dic_list()) "
    }
   },
   "types_to_exclude": [
    "module",
    "function",
    "builtin_function_or_method",
    "instance",
    "_Feature"
   ],
   "window_display": false
  }
 },
 "nbformat": 4,
 "nbformat_minor": 4
}
