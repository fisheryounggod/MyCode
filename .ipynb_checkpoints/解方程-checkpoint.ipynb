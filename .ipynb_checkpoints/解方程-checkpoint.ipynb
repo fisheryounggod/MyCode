{
 "cells": [
  {
   "cell_type": "code",
   "execution_count": null,
   "metadata": {},
   "outputs": [],
   "source": [
    "from sympy import symbols,solve\n",
    "x = symbols('x')\n",
    "solve(log(x)-log(1.5)-(0.04-0.02)/12, x)"
   ]
  },
  {
   "cell_type": "code",
   "execution_count": 2,
   "metadata": {},
   "outputs": [
    {
     "name": "stdout",
     "output_type": "stream",
     "text": [
      " \n",
      "ans =\n",
      " \n",
      "1.502502084\n",
      " \n"
     ]
    }
   ],
   "source": [
    "syms f;\n",
    "g=log(f)-log(1.5)==(0.04-0.02)/12;\n",
    "solve(g);\n",
    "vpa(ans,10)"
   ]
  },
  {
   "cell_type": "code",
   "execution_count": 13,
   "metadata": {},
   "outputs": [],
   "source": [
    "com=\"sym f; solve('log(f)-log(1.5)==(0.04-0.02)/12'); vpa(ans,10)\""
   ]
  },
  {
   "cell_type": "code",
   "execution_count": 3,
   "metadata": {},
   "outputs": [],
   "source": [
    "import matlab\n",
    "import matlab.engine\n",
    "\n",
    "eng = matlab.engine.start_matlab()"
   ]
  },
  {
   "cell_type": "code",
   "execution_count": 14,
   "metadata": {},
   "outputs": [
    {
     "ename": "SyntaxError",
     "evalue": "Error: Unexpected MATLAB expression.\n (<string>)",
     "output_type": "error",
     "traceback": [
      "Traceback \u001b[0;36m(most recent call last)\u001b[0m:\n",
      "  File \u001b[1;32m\"/Users/mac/.pyenv/versions/3.7.3/lib/python3.7/site-packages/IPython/core/interactiveshell.py\"\u001b[0m, line \u001b[1;32m3331\u001b[0m, in \u001b[1;35mrun_code\u001b[0m\n    exec(code_obj, self.user_global_ns, self.user_ns)\n",
      "  File \u001b[1;32m\"<ipython-input-14-377b8ca1ec99>\"\u001b[0m, line \u001b[1;32m1\u001b[0m, in \u001b[1;35m<module>\u001b[0m\n    eng.eval(com)\n",
      "  File \u001b[1;32m\"/Users/mac/.pyenv/versions/3.7.3/lib/python3.7/site-packages/matlab/engine/matlabengine.py\"\u001b[0m, line \u001b[1;32m78\u001b[0m, in \u001b[1;35m__call__\u001b[0m\n    _stderr, feval=True).result()\n",
      "  File \u001b[1;32m\"/Users/mac/.pyenv/versions/3.7.3/lib/python3.7/site-packages/matlab/engine/futureresult.py\"\u001b[0m, line \u001b[1;32m68\u001b[0m, in \u001b[1;35mresult\u001b[0m\n    return self.__future.result(timeout)\n",
      "\u001b[0;36m  File \u001b[0;32m\"/Users/mac/.pyenv/versions/3.7.3/lib/python3.7/site-packages/matlab/engine/fevalfuture.py\"\u001b[0;36m, line \u001b[0;32m82\u001b[0;36m, in \u001b[0;35mresult\u001b[0;36m\u001b[0m\n\u001b[0;31m    self._result = pythonengine.getFEvalResult(self._future,self._nargout, None, out=self._out, err=self._err)\u001b[0m\n",
      "\u001b[0;36m  File \u001b[0;32m\"<string>\"\u001b[0;36m, line \u001b[0;32munknown\u001b[0m\n\u001b[0;31mSyntaxError\u001b[0m\u001b[0;31m:\u001b[0m Error: Unexpected MATLAB expression.\n\n"
     ]
    }
   ],
   "source": [
    "eng.eval(com)"
   ]
  },
  {
   "cell_type": "code",
   "execution_count": null,
   "metadata": {},
   "outputs": [],
   "source": []
  }
 ],
 "metadata": {
  "kernelspec": {
   "display_name": "Python 3",
   "language": "python",
   "name": "python3"
  },
  "language_info": {
   "codemirror_mode": {
    "name": "ipython",
    "version": 3
   },
   "file_extension": ".py",
   "mimetype": "text/x-python",
   "name": "python",
   "nbconvert_exporter": "python",
   "pygments_lexer": "ipython3",
   "version": "3.7.3"
  },
  "toc": {
   "base_numbering": 1,
   "nav_menu": {},
   "number_sections": true,
   "sideBar": true,
   "skip_h1_title": false,
   "title_cell": "Table of Contents",
   "title_sidebar": "Contents",
   "toc_cell": false,
   "toc_position": {},
   "toc_section_display": true,
   "toc_window_display": false
  },
  "varInspector": {
   "cols": {
    "lenName": 16,
    "lenType": 16,
    "lenVar": 40
   },
   "kernels_config": {
    "python": {
     "delete_cmd_postfix": "",
     "delete_cmd_prefix": "del ",
     "library": "var_list.py",
     "varRefreshCmd": "print(var_dic_list())"
    },
    "r": {
     "delete_cmd_postfix": ") ",
     "delete_cmd_prefix": "rm(",
     "library": "var_list.r",
     "varRefreshCmd": "cat(var_dic_list()) "
    }
   },
   "types_to_exclude": [
    "module",
    "function",
    "builtin_function_or_method",
    "instance",
    "_Feature"
   ],
   "window_display": false
  }
 },
 "nbformat": 4,
 "nbformat_minor": 4
}
