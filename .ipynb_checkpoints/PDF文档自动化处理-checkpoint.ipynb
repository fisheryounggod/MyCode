{
 "cells": [
  {
   "cell_type": "markdown",
   "metadata": {},
   "source": [
    "## word 转PDF "
   ]
  },
  {
   "cell_type": "code",
   "execution_count": null,
   "metadata": {},
   "outputs": [],
   "source": [
    "# pip install docx2pdf\n",
    "from docx2pdf import convert\n",
    "convert(\"input.docx\", \"output.pdf\") #简易版"
   ]
  },
  {
   "cell_type": "code",
   "execution_count": null,
   "metadata": {},
   "outputs": [],
   "source": [
    "#查找当前目录下的全部word文件\n",
    "import os\n",
    "import glob\n",
    "from pathlib import Path\n",
    "\n",
    "path = os.getcwd() + '/'\n",
    "p = Path(path) #初始化构造Path对象\n",
    "FileList=list(p.glob(\"**/*.docx\")) \n"
   ]
  },
  {
   "cell_type": "code",
   "execution_count": null,
   "metadata": {},
   "outputs": [],
   "source": [
    "for file in FileList:\n",
    "    convert(file,f\"{file}.pdf\")"
   ]
  },
  {
   "cell_type": "markdown",
   "metadata": {},
   "source": [
    "## Excel转PDF"
   ]
  },
  {
   "cell_type": "code",
   "execution_count": 10,
   "metadata": {},
   "outputs": [],
   "source": [
    "import pandas as pd\n",
    "import numpy as np\n",
    "df_1 = pd.DataFrame(np.random.randint(2,19,(10, 2)), columns=list('AB'))"
   ]
  },
  {
   "cell_type": "code",
   "execution_count": 11,
   "metadata": {},
   "outputs": [
    {
     "data": {
      "text/plain": [
       "''"
      ]
     },
     "execution_count": 11,
     "metadata": {},
     "output_type": "execute_result"
    }
   ],
   "source": [
    "from fpdf import FPDF\n",
    "pdf = FPDF()\n",
    "pdf.add_page()\n",
    "pdf.set_xy(0, 0)\n",
    "pdf.set_font('arial', 'B', 14)\n",
    "pdf.cell(60)\n",
    "pdf.cell(70, 10, 'Excel to PDF', 0, 2, 'C')\n",
    "pdf.cell(-40)\n",
    "pdf.cell(50, 10, 'Index Column', 1, 0, 'C')\n",
    "pdf.cell(40, 10, 'A', 1, 0, 'C')\n",
    "pdf.cell(40, 10, 'B', 1, 2, 'C')\n",
    "pdf.cell(-90)\n",
    "pdf.set_font('arial', '', 12)\n",
    "for i in range(0, len(df_1)):\n",
    "    col_ind = str(i)\n",
    "    col_a = str(df_1.A.iloc[i])\n",
    "    col_b = str(df_1.B.iloc[i])\n",
    "    pdf.cell(50, 10, '%s' % (col_ind), 1, 0, 'C')\n",
    "    pdf.cell(40, 10, '%s' % (col_a), 0, 0, 'C')\n",
    "    pdf.cell(40, 10, '%s' % (col_b), 0, 2, 'C')\n",
    "    pdf.cell(-90)\n",
    "pdf.output('Excel2PDF.pdf', 'F')"
   ]
  },
  {
   "cell_type": "code",
   "execution_count": 6,
   "metadata": {},
   "outputs": [],
   "source": [
    "!open ."
   ]
  },
  {
   "cell_type": "markdown",
   "metadata": {},
   "source": [
    "## PPT转PDF"
   ]
  },
  {
   "cell_type": "code",
   "execution_count": 1,
   "metadata": {},
   "outputs": [
    {
     "ename": "ImportError",
     "evalue": "cannot import name 'COMError' from '_ctypes' (/Users/mac/.pyenv/versions/3.7.3/lib/python3.7/lib-dynload/_ctypes.cpython-37m-darwin.so)",
     "output_type": "error",
     "traceback": [
      "\u001b[0;31m---------------------------------------------------------------------------\u001b[0m",
      "\u001b[0;31mImportError\u001b[0m                               Traceback (most recent call last)",
      "\u001b[0;32m<ipython-input-1-e8e46d51c11e>\u001b[0m in \u001b[0;36m<module>\u001b[0;34m\u001b[0m\n\u001b[1;32m      2\u001b[0m \u001b[0;32mimport\u001b[0m \u001b[0msys\u001b[0m\u001b[0;34m\u001b[0m\u001b[0;34m\u001b[0m\u001b[0m\n\u001b[1;32m      3\u001b[0m \u001b[0;32mimport\u001b[0m \u001b[0mos\u001b[0m\u001b[0;34m\u001b[0m\u001b[0;34m\u001b[0m\u001b[0m\n\u001b[0;32m----> 4\u001b[0;31m \u001b[0;32mimport\u001b[0m \u001b[0mcomtypes\u001b[0m\u001b[0;34m.\u001b[0m\u001b[0mclient\u001b[0m\u001b[0;34m\u001b[0m\u001b[0;34m\u001b[0m\u001b[0m\n\u001b[0m\u001b[1;32m      5\u001b[0m \u001b[0;31m#设置路径\u001b[0m\u001b[0;34m\u001b[0m\u001b[0;34m\u001b[0m\u001b[0;34m\u001b[0m\u001b[0m\n\u001b[1;32m      6\u001b[0m \u001b[0minput_file_path\u001b[0m \u001b[0;34m=\u001b[0m \u001b[0msys\u001b[0m\u001b[0;34m.\u001b[0m\u001b[0margv\u001b[0m\u001b[0;34m[\u001b[0m\u001b[0;36m1\u001b[0m\u001b[0;34m]\u001b[0m\u001b[0;34m\u001b[0m\u001b[0;34m\u001b[0m\u001b[0m\n",
      "\u001b[0;32m~/.pyenv/versions/3.7.3/lib/python3.7/site-packages/comtypes/__init__.py\u001b[0m in \u001b[0;36m<module>\u001b[0;34m\u001b[0m\n\u001b[1;32m     21\u001b[0m \u001b[0;34m\u001b[0m\u001b[0m\n\u001b[1;32m     22\u001b[0m \u001b[0;32mfrom\u001b[0m \u001b[0mctypes\u001b[0m \u001b[0;32mimport\u001b[0m \u001b[0;34m*\u001b[0m\u001b[0;34m\u001b[0m\u001b[0;34m\u001b[0m\u001b[0m\n\u001b[0;32m---> 23\u001b[0;31m \u001b[0;32mfrom\u001b[0m \u001b[0m_ctypes\u001b[0m \u001b[0;32mimport\u001b[0m \u001b[0mCOMError\u001b[0m\u001b[0;34m\u001b[0m\u001b[0;34m\u001b[0m\u001b[0m\n\u001b[0m\u001b[1;32m     24\u001b[0m \u001b[0;32mfrom\u001b[0m \u001b[0mcomtypes\u001b[0m \u001b[0;32mimport\u001b[0m \u001b[0mpatcher\u001b[0m\u001b[0;34m\u001b[0m\u001b[0;34m\u001b[0m\u001b[0m\n\u001b[1;32m     25\u001b[0m \u001b[0;34m\u001b[0m\u001b[0m\n",
      "\u001b[0;31mImportError\u001b[0m: cannot import name 'COMError' from '_ctypes' (/Users/mac/.pyenv/versions/3.7.3/lib/python3.7/lib-dynload/_ctypes.cpython-37m-darwin.so)"
     ]
    }
   ],
   "source": [
    "# windos\n",
    "import sys\n",
    "import os\n",
    "import comtypes.client\n",
    "#设置路径\n",
    "input_file_path = sys.argv[1]\n",
    "output_file_path = sys.argv[2]\n",
    "input_file_path = os.path.abspath(input_file_path)\n",
    "output_file_path = os.path.abspath(output_file_path)\n",
    "#创建PDF\n",
    "powerpoint = comtypes.client.CreateObject(\"Powerpoint.Application\")\n",
    "powerpoint.Visible = 1\n",
    "slides = powerpoint.Presentations.Open(input_file_path)\n",
    "#保存PDF\n",
    "slides.SaveAs(output_file_path, 32)\n",
    "slides.Close()"
   ]
  },
  {
   "cell_type": "markdown",
   "metadata": {},
   "source": [
    "## md转pdf"
   ]
  },
  {
   "cell_type": "code",
   "execution_count": null,
   "metadata": {},
   "outputs": [],
   "source": [
    "from markdown2pdf3 import *\n",
    "convert_markdown_to_pdf('test.md') #你的markdown文件路径"
   ]
  },
  {
   "cell_type": "code",
   "execution_count": null,
   "metadata": {},
   "outputs": [],
   "source": [
    "# 批量操作\n",
    "import os\n",
    "import glob\n",
    "from pathlib import Path\n",
    "\n",
    "path = os.getcwd() + '/'\n",
    "p = Path(path) #初始化构造Path对象\n",
    "FileList=list(p.glob(\"**/*.md\")) "
   ]
  },
  {
   "cell_type": "markdown",
   "metadata": {},
   "source": [
    "## html转pdf"
   ]
  },
  {
   "cell_type": "code",
   "execution_count": 11,
   "metadata": {},
   "outputs": [
    {
     "name": "stdout",
     "output_type": "stream",
     "text": [
      "Loading pages (1/6)\n",
      "[>                                                           ] 0%\r",
      "[======>                                                     ] 10%\r",
      "[===========>                                                ] 19%\r",
      "[==============>                                             ] 24%\r",
      "[==================>                                         ] 30%\r",
      "[====================>                                       ] 34%\r",
      "[======================>                                     ] 38%\r",
      "[=========================>                                  ] 42%\r",
      "[============================>                               ] 48%\r",
      "[============================================================] 100%\r",
      "Counting pages (2/6)                                               \n",
      "[============================================================] Object 1 of 1\r",
      "Resolving links (4/6)                                                       \n",
      "[============================================================] Object 1 of 1\r",
      "Loading headers and footers (5/6)                                           \n",
      "Printing pages (6/6)\n",
      "[>                                                           ] Preparing\r",
      "[============================================================] Page 1 of 1\r",
      "Done                                                                      \n"
     ]
    },
    {
     "data": {
      "text/plain": [
       "True"
      ]
     },
     "execution_count": 11,
     "metadata": {},
     "output_type": "execute_result"
    }
   ],
   "source": [
    "import pdfkit\n",
    "pdfkit.from_url('http://localhost:8888/notebooks/%E6%9C%AA%E5%91%BD%E5%90%8D.ipynb?kernel_name=python3','out.pdf')"
   ]
  },
  {
   "cell_type": "code",
   "execution_count": 13,
   "metadata": {},
   "outputs": [
    {
     "name": "stdout",
     "output_type": "stream",
     "text": [
      "=============success=================\n"
     ]
    },
    {
     "ename": "NameError",
     "evalue": "name 'temp_html' is not defined",
     "output_type": "error",
     "traceback": [
      "\u001b[0;31m---------------------------------------------------------------------------\u001b[0m",
      "\u001b[0;31mNameError\u001b[0m                                 Traceback (most recent call last)",
      "\u001b[0;32m<ipython-input-13-21a79baeb6fb>\u001b[0m in \u001b[0;36m<module>\u001b[0;34m\u001b[0m\n\u001b[1;32m     21\u001b[0m \u001b[0;34m\u001b[0m\u001b[0m\n\u001b[1;32m     22\u001b[0m \u001b[0;31m# 转化\u001b[0m\u001b[0;34m\u001b[0m\u001b[0;34m\u001b[0m\u001b[0;34m\u001b[0m\u001b[0m\n\u001b[0;32m---> 23\u001b[0;31m \u001b[0mpdfkit\u001b[0m\u001b[0;34m.\u001b[0m\u001b[0mfrom_file\u001b[0m\u001b[0;34m(\u001b[0m\u001b[0mtemp_html\u001b[0m\u001b[0;34m,\u001b[0m \u001b[0moutput_file\u001b[0m\u001b[0;34m)\u001b[0m\u001b[0;34m\u001b[0m\u001b[0;34m\u001b[0m\u001b[0m\n\u001b[0m\u001b[1;32m     24\u001b[0m \u001b[0;34m\u001b[0m\u001b[0m\n\u001b[1;32m     25\u001b[0m \u001b[0;31m# 删除html 临时文件\u001b[0m\u001b[0;34m\u001b[0m\u001b[0;34m\u001b[0m\u001b[0;34m\u001b[0m\u001b[0m\n",
      "\u001b[0;31mNameError\u001b[0m: name 'temp_html' is not defined"
     ]
    }
   ],
   "source": [
    "import sys\n",
    "import subprocess\n",
    "import pdfkit\n",
    "\n",
    "#获取ipynb文件\n",
    "inputfile=sys.argv[1].replace(\" \",\"\\ \")\n",
    "# 截取 ipynb 前面的名字，并保留一份 htm1 临时文件,这份文件会在转换过程中需要\n",
    "\n",
    "# 因为我是利用 jupyter对htm1 的支持，使用 pdfkit。对 htm1 文件进行转换 \n",
    "                              \n",
    "temphtml= inputfile[0: inputfile.rfind('.')]+'.html'\n",
    "\n",
    "# 转换 ipynb 文件为 htm1 调用了 ipython 接口\n",
    "command = 'ipython nbconvert --to html'+ inputfile\n",
    "                              \n",
    "# shell 端执行command\n",
    "subprocess.call(command, shell=True)\n",
    "print('=============success=================')\n",
    "# p拼接一个pdf 名字\n",
    "output_file=inputfile[0:inputfile.rfind('.')]+'.pdf'\n",
    "\n",
    "# 转化\n",
    "pdfkit.from_file(temp_html, output_file)\n",
    "                              \n",
    "# 删除html 临时文件\n",
    "subprocess.call('rm'+temp_html,shell=True)"
   ]
  },
  {
   "cell_type": "code",
   "execution_count": 9,
   "metadata": {},
   "outputs": [
    {
     "data": {
      "text/plain": [
       "'-f'"
      ]
     },
     "execution_count": 9,
     "metadata": {},
     "output_type": "execute_result"
    }
   ],
   "source": [
    "sys.argv[1]"
   ]
  },
  {
   "cell_type": "markdown",
   "metadata": {},
   "source": [
    "## pdf 合并"
   ]
  },
  {
   "cell_type": "code",
   "execution_count": null,
   "metadata": {},
   "outputs": [],
   "source": [
    "# 导入需要的库和路径设置\n",
    "import os\n",
    "from PyPDF2 import PdfFileReader, PdfFileWriter\n",
    "if __name__ == '__main__':\n",
    "    # 设置存放多个pdf文件的文件夹\n",
    "    dir_path = r'C:\\Scientific Research\\Knowladge\\Ophthalmology\\Chinese Ophthalmology' \n",
    "    # 目标文件的名字\n",
    "    file_name = \"中华眼科学（第3版）合并版.pdf\" "
   ]
  },
  {
   "cell_type": "code",
   "execution_count": null,
   "metadata": {},
   "outputs": [],
   "source": [
    "# 获取所有pdf文件的绝对路径，这里需要利用os库中的os.walk遍历文件和os.path.join拼接路径"
   ]
  },
  {
   "cell_type": "code",
   "execution_count": null,
   "metadata": {},
   "outputs": [],
   "source": [
    "for dirpath, dirs, files in os.walk(dir_path):\n",
    "    print(dirpath)\n",
    "    print(files)\n",
    "# 结果返回当前路径、当前路径下文件夹，并以列表返回所有文件"
   ]
  },
  {
   "cell_type": "code",
   "execution_count": null,
   "metadata": {},
   "outputs": [],
   "source": [
    "def GetFileName(dir_path):\n",
    "    file_list = [os.path.join(dirpath, filesname) \\\n",
    "                 for dirpath, dirs, files in os.walk(dir_path) \\\n",
    "                 for filesname in files]\n",
    "    return file_list"
   ]
  },
  {
   "cell_type": "code",
   "execution_count": null,
   "metadata": {},
   "outputs": [],
   "source": [
    "# 建立合并PDF的函数\n",
    "def MergePDF(dir_path, file_name):\n",
    "    # 实例化写入对象\n",
    "    output = PdfFileWriter()\n",
    "    outputPages = 0\n",
    "    # 调用上一个函数获取全部文件的绝对路径\n",
    "    file_list = GetFileName(dir_path)\n",
    "\n",
    "    for pdf_file in file_list:\n",
    "        print(\"文件：%s\" % pdf_file.split('\\\\')[-1], end=' ')\n",
    "\n",
    "        # 读取PDF文件\n",
    "        input = PdfFileReader(open(pdf_file, \"rb\"))\n",
    "        # 获得源PDF文件中页面总数\n",
    "        pageCount = input.getNumPages()\n",
    "        outputPages += pageCount\n",
    "        print(\"页数：%d\" % pageCount)\n",
    "        # 分别将page添加到输出output中\n",
    "        for iPage in range(pageCount):\n",
    "            output.addPage(input.getPage(iPage))\n",
    "    print(\"\\n合并后的总页数:%d\" % outputPages)\n",
    "    # 写入到目标PDF文件\n",
    "    print(\"PDF文件正在合并，请稍等......\")\n",
    "    with open(os.path.join(dir_path, file_name), \"wb\") as outputfile:\n",
    "        # 注意这里的写法和正常的上下文文件写入是相反的\n",
    "        output.write(outputfile)\n",
    "    print(\"PDF文件合并完成\")"
   ]
  },
  {
   "cell_type": "code",
   "execution_count": null,
   "metadata": {},
   "outputs": [],
   "source": [
    "# 完整代码\n",
    "import os\n",
    "from PyPDF2 import PdfFileReader, PdfFileWriter\n",
    "\n",
    "def GetFileName(dir_path):\n",
    "    file_list = [os.path.join(dirpath, filesname) \\\n",
    "                 for dirpath, dirs, files in os.walk(dir_path) \\\n",
    "                 for filesname in files]\n",
    "    return file_list\n",
    "\n",
    "def MergePDF(dir_path, file_name):\n",
    "    output = PdfFileWriter()\n",
    "    outputPages = 0\n",
    "    file_list = GetFileName(dir_path)\n",
    "    for pdf_file in file_list:\n",
    "        print(\"文件：%s\" % pdf_file.split('\\\\')[-1], end=' ')\n",
    "        # 读取PDF文件\n",
    "        input = PdfFileReader(open(pdf_file, \"rb\"))\n",
    "        # 获得源PDF文件中页面总数\n",
    "        pageCount = input.getNumPages()\n",
    "        outputPages += pageCount\n",
    "        print(\"页数：%d\" % pageCount)\n",
    "        # 分别将page添加到输出output中\n",
    "        for iPage in range(pageCount):\n",
    "            output.addPage(input.getPage(iPage))\n",
    "    print(\"\\n合并后的总页数:%d\" % outputPages)\n",
    "    # 写入到目标PDF文件\n",
    "    print(\"PDF文件正在合并，请稍等......\")\n",
    "    with open(os.path.join(dir_path, file_name), \"wb\") as outputfile:\n",
    "        # 注意这里的写法和正常的上下文文件写入是相反的\n",
    "        output.write(outputfile)\n",
    "    print(\"PDF文件合并完成\")\n",
    "\n",
    "if __name__ == '__main__':\n",
    "    # 设置存放多个pdf文件的文件夹\n",
    "    dir_path = r'C:\\Scientific Research\\Knowladge\\Ophthalmology\\Chinese Ophthalmology'\n",
    "    # 目标文件的名字\n",
    "    file_name = \"中华眼科学（第3版）合并版.pdf\"\n",
    "    MergePDF(dir_path, file_name)"
   ]
  },
  {
   "cell_type": "code",
   "execution_count": 15,
   "metadata": {},
   "outputs": [
    {
     "ename": "KeyboardInterrupt",
     "evalue": "",
     "output_type": "error",
     "traceback": [
      "\u001b[0;31m---------------------------------------------------------------------------\u001b[0m",
      "\u001b[0;31mKeyboardInterrupt\u001b[0m                         Traceback (most recent call last)",
      "\u001b[0;32m<ipython-input-15-dd5d939bb7a2>\u001b[0m in \u001b[0;36m<module>\u001b[0;34m\u001b[0m\n\u001b[0;32m----> 1\u001b[0;31m \u001b[0mpdfkit\u001b[0m\u001b[0;34m.\u001b[0m\u001b[0mfrom_file\u001b[0m\u001b[0;34m(\u001b[0m\u001b[0;34m'ARIMA.html'\u001b[0m\u001b[0;34m,\u001b[0m \u001b[0;34m'output_file.pdf'\u001b[0m\u001b[0;34m)\u001b[0m\u001b[0;34m\u001b[0m\u001b[0;34m\u001b[0m\u001b[0m\n\u001b[0m",
      "\u001b[0;32m~/.pyenv/versions/3.7.3/lib/python3.7/site-packages/pdfkit/api.py\u001b[0m in \u001b[0;36mfrom_file\u001b[0;34m(input, output_path, options, toc, cover, css, configuration, cover_first)\u001b[0m\n\u001b[1;32m     47\u001b[0m                configuration=configuration, cover_first=cover_first)\n\u001b[1;32m     48\u001b[0m \u001b[0;34m\u001b[0m\u001b[0m\n\u001b[0;32m---> 49\u001b[0;31m     \u001b[0;32mreturn\u001b[0m \u001b[0mr\u001b[0m\u001b[0;34m.\u001b[0m\u001b[0mto_pdf\u001b[0m\u001b[0;34m(\u001b[0m\u001b[0moutput_path\u001b[0m\u001b[0;34m)\u001b[0m\u001b[0;34m\u001b[0m\u001b[0;34m\u001b[0m\u001b[0m\n\u001b[0m\u001b[1;32m     50\u001b[0m \u001b[0;34m\u001b[0m\u001b[0m\n\u001b[1;32m     51\u001b[0m \u001b[0;34m\u001b[0m\u001b[0m\n",
      "\u001b[0;32m~/.pyenv/versions/3.7.3/lib/python3.7/site-packages/pdfkit/pdfkit.py\u001b[0m in \u001b[0;36mto_pdf\u001b[0;34m(self, path)\u001b[0m\n\u001b[1;32m    139\u001b[0m         \u001b[0;32melse\u001b[0m\u001b[0;34m:\u001b[0m\u001b[0;34m\u001b[0m\u001b[0;34m\u001b[0m\u001b[0m\n\u001b[1;32m    140\u001b[0m             \u001b[0minput\u001b[0m \u001b[0;34m=\u001b[0m \u001b[0;32mNone\u001b[0m\u001b[0;34m\u001b[0m\u001b[0;34m\u001b[0m\u001b[0m\n\u001b[0;32m--> 141\u001b[0;31m         \u001b[0mstdout\u001b[0m\u001b[0;34m,\u001b[0m \u001b[0mstderr\u001b[0m \u001b[0;34m=\u001b[0m \u001b[0mresult\u001b[0m\u001b[0;34m.\u001b[0m\u001b[0mcommunicate\u001b[0m\u001b[0;34m(\u001b[0m\u001b[0minput\u001b[0m\u001b[0;34m=\u001b[0m\u001b[0minput\u001b[0m\u001b[0;34m)\u001b[0m\u001b[0;34m\u001b[0m\u001b[0;34m\u001b[0m\u001b[0m\n\u001b[0m\u001b[1;32m    142\u001b[0m         \u001b[0mstderr\u001b[0m \u001b[0;34m=\u001b[0m \u001b[0mstderr\u001b[0m \u001b[0;32mor\u001b[0m \u001b[0mstdout\u001b[0m\u001b[0;34m\u001b[0m\u001b[0;34m\u001b[0m\u001b[0m\n\u001b[1;32m    143\u001b[0m         \u001b[0;32mtry\u001b[0m\u001b[0;34m:\u001b[0m\u001b[0;34m\u001b[0m\u001b[0;34m\u001b[0m\u001b[0m\n",
      "\u001b[0;32m~/.pyenv/versions/3.7.3/lib/python3.7/subprocess.py\u001b[0m in \u001b[0;36mcommunicate\u001b[0;34m(self, input, timeout)\u001b[0m\n\u001b[1;32m    937\u001b[0m \u001b[0;34m\u001b[0m\u001b[0m\n\u001b[1;32m    938\u001b[0m             \u001b[0;32mtry\u001b[0m\u001b[0;34m:\u001b[0m\u001b[0;34m\u001b[0m\u001b[0;34m\u001b[0m\u001b[0m\n\u001b[0;32m--> 939\u001b[0;31m                 \u001b[0mstdout\u001b[0m\u001b[0;34m,\u001b[0m \u001b[0mstderr\u001b[0m \u001b[0;34m=\u001b[0m \u001b[0mself\u001b[0m\u001b[0;34m.\u001b[0m\u001b[0m_communicate\u001b[0m\u001b[0;34m(\u001b[0m\u001b[0minput\u001b[0m\u001b[0;34m,\u001b[0m \u001b[0mendtime\u001b[0m\u001b[0;34m,\u001b[0m \u001b[0mtimeout\u001b[0m\u001b[0;34m)\u001b[0m\u001b[0;34m\u001b[0m\u001b[0;34m\u001b[0m\u001b[0m\n\u001b[0m\u001b[1;32m    940\u001b[0m             \u001b[0;32mexcept\u001b[0m \u001b[0mKeyboardInterrupt\u001b[0m\u001b[0;34m:\u001b[0m\u001b[0;34m\u001b[0m\u001b[0;34m\u001b[0m\u001b[0m\n\u001b[1;32m    941\u001b[0m                 \u001b[0;31m# https://bugs.python.org/issue25942\u001b[0m\u001b[0;34m\u001b[0m\u001b[0;34m\u001b[0m\u001b[0;34m\u001b[0m\u001b[0m\n",
      "\u001b[0;32m~/.pyenv/versions/3.7.3/lib/python3.7/subprocess.py\u001b[0m in \u001b[0;36m_communicate\u001b[0;34m(self, input, endtime, orig_timeout)\u001b[0m\n\u001b[1;32m   1679\u001b[0m                         \u001b[0;32mraise\u001b[0m \u001b[0mTimeoutExpired\u001b[0m\u001b[0;34m(\u001b[0m\u001b[0mself\u001b[0m\u001b[0;34m.\u001b[0m\u001b[0margs\u001b[0m\u001b[0;34m,\u001b[0m \u001b[0morig_timeout\u001b[0m\u001b[0;34m)\u001b[0m\u001b[0;34m\u001b[0m\u001b[0;34m\u001b[0m\u001b[0m\n\u001b[1;32m   1680\u001b[0m \u001b[0;34m\u001b[0m\u001b[0m\n\u001b[0;32m-> 1681\u001b[0;31m                     \u001b[0mready\u001b[0m \u001b[0;34m=\u001b[0m \u001b[0mselector\u001b[0m\u001b[0;34m.\u001b[0m\u001b[0mselect\u001b[0m\u001b[0;34m(\u001b[0m\u001b[0mtimeout\u001b[0m\u001b[0;34m)\u001b[0m\u001b[0;34m\u001b[0m\u001b[0;34m\u001b[0m\u001b[0m\n\u001b[0m\u001b[1;32m   1682\u001b[0m                     \u001b[0mself\u001b[0m\u001b[0;34m.\u001b[0m\u001b[0m_check_timeout\u001b[0m\u001b[0;34m(\u001b[0m\u001b[0mendtime\u001b[0m\u001b[0;34m,\u001b[0m \u001b[0morig_timeout\u001b[0m\u001b[0;34m)\u001b[0m\u001b[0;34m\u001b[0m\u001b[0;34m\u001b[0m\u001b[0m\n\u001b[1;32m   1683\u001b[0m \u001b[0;34m\u001b[0m\u001b[0m\n",
      "\u001b[0;32m~/.pyenv/versions/3.7.3/lib/python3.7/selectors.py\u001b[0m in \u001b[0;36mselect\u001b[0;34m(self, timeout)\u001b[0m\n\u001b[1;32m    413\u001b[0m         \u001b[0mready\u001b[0m \u001b[0;34m=\u001b[0m \u001b[0;34m[\u001b[0m\u001b[0;34m]\u001b[0m\u001b[0;34m\u001b[0m\u001b[0;34m\u001b[0m\u001b[0m\n\u001b[1;32m    414\u001b[0m         \u001b[0;32mtry\u001b[0m\u001b[0;34m:\u001b[0m\u001b[0;34m\u001b[0m\u001b[0;34m\u001b[0m\u001b[0m\n\u001b[0;32m--> 415\u001b[0;31m             \u001b[0mfd_event_list\u001b[0m \u001b[0;34m=\u001b[0m \u001b[0mself\u001b[0m\u001b[0;34m.\u001b[0m\u001b[0m_selector\u001b[0m\u001b[0;34m.\u001b[0m\u001b[0mpoll\u001b[0m\u001b[0;34m(\u001b[0m\u001b[0mtimeout\u001b[0m\u001b[0;34m)\u001b[0m\u001b[0;34m\u001b[0m\u001b[0;34m\u001b[0m\u001b[0m\n\u001b[0m\u001b[1;32m    416\u001b[0m         \u001b[0;32mexcept\u001b[0m \u001b[0mInterruptedError\u001b[0m\u001b[0;34m:\u001b[0m\u001b[0;34m\u001b[0m\u001b[0;34m\u001b[0m\u001b[0m\n\u001b[1;32m    417\u001b[0m             \u001b[0;32mreturn\u001b[0m \u001b[0mready\u001b[0m\u001b[0;34m\u001b[0m\u001b[0;34m\u001b[0m\u001b[0m\n",
      "\u001b[0;31mKeyboardInterrupt\u001b[0m: "
     ]
    }
   ],
   "source": [
    "pdfkit.from_file('ARIMA.html', 'output_file.pdf')"
   ]
  },
  {
   "cell_type": "markdown",
   "metadata": {},
   "source": [
    "## 将PDF转化为txt文件"
   ]
  },
  {
   "cell_type": "code",
   "execution_count": null,
   "metadata": {},
   "outputs": [],
   "source": [
    "from pdfminer.pdfinterp import PDFPageInterpreter,PDFResourceManager\n",
    "from pdfminer.converter import TextConverter,PDFPageAggregator\n",
    "from pdfminer.layout import LAParams\n",
    "from pdfminer.pdfparser import PDFParser\n",
    "from pdfminer.pdfdocument import PDFDocument\n",
    "from pdfminer.pdfdevice import PDFDevice\n",
    "from pdfminer.pdfpage import PDFPage\n",
    "\n",
    "# 获取pdf文档\n",
    "fp = open('./data/.pdf','rb')\n",
    "\n",
    "# 创建一个与文档相关的解释器\n",
    "parser = PDFParser(fp)\n",
    "\n",
    "# pdf文档的对象，与解释器连接起来\n",
    "doc = PDFDocument(parser=parser)\n",
    "parser.set_document(doc=doc)\n",
    "\n",
    "# 如果是加密pdf，则输入密码\n",
    "# doc._initialize_password()\n",
    "\n",
    "# 创建pdf资源管理器\n",
    "resource = PDFResourceManager()\n",
    "\n",
    "# 参数分析器\n",
    "laparam=LAParams()\n",
    "\n",
    "# 创建一个聚合器\n",
    "device = PDFPageAggregator(resource,laparams=laparam)\n",
    "\n",
    "# 创建pdf页面解释器\n",
    "interpreter = PDFPageInterpreter(resource,device)\n",
    "\n",
    "# 获取页面的集合\n",
    "for page in PDFPage.get_pages(fp):\n",
    "    # 使用页面解释器来读取\n",
    "    interpreter.process_page(page)\n",
    "    \n",
    "    # 使用聚合器来获取内容\n",
    "    layout = device.get_result()\n",
    "    for out in layout:\n",
    "        if hasattr(out,'get_text'):\n",
    "            print(out.get_text())\n",
    "            \n",
    "            # 写入txt文件\n",
    "            fw = open('exam.txt','a')\n",
    "            fw.write(out.get_text())"
   ]
  }
 ],
 "metadata": {
  "hide_input": false,
  "kernelspec": {
   "display_name": "Python 3",
   "language": "python",
   "name": "python3"
  },
  "language_info": {
   "codemirror_mode": {
    "name": "ipython",
    "version": 3
   },
   "file_extension": ".py",
   "mimetype": "text/x-python",
   "name": "python",
   "nbconvert_exporter": "python",
   "pygments_lexer": "ipython3",
   "version": "3.7.3"
  },
  "toc": {
   "base_numbering": 1,
   "nav_menu": {},
   "number_sections": true,
   "sideBar": true,
   "skip_h1_title": false,
   "title_cell": "Table of Contents",
   "title_sidebar": "Contents",
   "toc_cell": false,
   "toc_position": {},
   "toc_section_display": true,
   "toc_window_display": true
  },
  "varInspector": {
   "cols": {
    "lenName": 16,
    "lenType": 16,
    "lenVar": 40
   },
   "kernels_config": {
    "python": {
     "delete_cmd_postfix": "",
     "delete_cmd_prefix": "del ",
     "library": "var_list.py",
     "varRefreshCmd": "print(var_dic_list())"
    },
    "r": {
     "delete_cmd_postfix": ") ",
     "delete_cmd_prefix": "rm(",
     "library": "var_list.r",
     "varRefreshCmd": "cat(var_dic_list()) "
    }
   },
   "types_to_exclude": [
    "module",
    "function",
    "builtin_function_or_method",
    "instance",
    "_Feature"
   ],
   "window_display": false
  }
 },
 "nbformat": 4,
 "nbformat_minor": 4
}
