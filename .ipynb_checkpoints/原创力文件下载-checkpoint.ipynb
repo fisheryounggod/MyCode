{
 "cells": [
  {
   "cell_type": "code",
   "execution_count": 4,
   "metadata": {},
   "outputs": [
    {
     "data": {
      "text/plain": [
       "'/Users/mac/myPrograme/MyCode'"
      ]
     },
     "execution_count": 4,
     "metadata": {},
     "output_type": "execute_result"
    }
   ],
   "source": [
    "%pwd"
   ]
  },
  {
   "cell_type": "code",
   "execution_count": 5,
   "metadata": {},
   "outputs": [],
   "source": [
    "\n",
    "\n",
    "import requests, json, re, time, urllib.request\n",
    "\n",
    "\n",
    "def getParameter(url):  # 获取文档参数\n",
    "    text_response = requests.get(url=url, headers=headers).text\n",
    "    actual_page = int(re.search('actual_page: (\\d+), //真实页数', text_response).group(1))  # 页数\n",
    "    aid = re.search('aid: (\\d+), //解密后的id', text_response).group(1)  # aid\n",
    "    view_token = re.search('view_token: \\'(.*?)\\'', text_response).group(1)  # view_token\n",
    "    print('actual_page:', actual_page, '\\naid:', aid, '\\nview_token:', view_token)\n",
    "    return actual_page, aid, view_token\n",
    "\n",
    "\n",
    "def requests_data(parameter, page):  # 请求数据\n",
    "    url = 'https://openapi.book118.com/getPreview.html'\n",
    "    params = {\n",
    "        'project_id': '1',\n",
    "        'aid': parameter[1],\n",
    "        'view_token': parameter[2],\n",
    "        'page': page,\n",
    "    }\n",
    "    response = requests.get(url=url, headers=headers, params=params).text\n",
    "    json_data = re.search('jsonpReturn\\((.*?)\\);', response).group(1)  # 使用正则表达式所需数据\n",
    "    data = json.loads(json_data)['data']\n",
    "    if data.get(str(page)) == '':  # 根据需求使用\n",
    "        print('数据加载失败，重新发出请求')\n",
    "        time.sleep(1)\n",
    "        return requests_data(parameter, page)\n",
    "    time.sleep(1)\n",
    "    return get_data(data)\n",
    "\n",
    "\n",
    "def get_data(data):  # 下载数据\n",
    "    for i in data.items():  # i[0]为页数，i[1]为网址\n",
    "        img_url = 'https:' + i[1]\n",
    "        urllib.request.urlretrieve(url=img_url, filename=r'./{}.png'.format(i[0]))  # 下载图片\n",
    "        print(i[0], img_url)\n",
    "\n",
    "\n",
    "if __name__ == '__main__':\n",
    "    headers = {\n",
    "        'User-Agent': 'Mozilla/5.0 (Windows NT 10.0; Win64; x64) AppleWebKit/537.36 (KHTML, like Gecko) Chrome/83.0.4103.116 Safari/537.36'}\n",
    "    text_url = input('输入网址：')\n",
    "    parameter = getParameter(text_url)\n",
    "    for page in range(1, parameter[0], 6):\n",
    "        requests_data(parameter, page)"
   ]
  },
  {
   "cell_type": "code",
   "execution_count": 11,
   "metadata": {},
   "outputs": [],
   "source": [
    "!open . "
   ]
  },
  {
   "cell_type": "code",
   "execution_count": null,
   "metadata": {},
   "outputs": [],
   "source": []
  }
 ],
 "metadata": {
  "kernelspec": {
   "display_name": "Python 3",
   "language": "python",
   "name": "python3"
  },
  "language_info": {
   "codemirror_mode": {
    "name": "ipython",
    "version": 3
   },
   "file_extension": ".py",
   "mimetype": "text/x-python",
   "name": "python",
   "nbconvert_exporter": "python",
   "pygments_lexer": "ipython3",
   "version": "3.7.3"
  },
  "toc": {
   "base_numbering": 1,
   "nav_menu": {},
   "number_sections": true,
   "sideBar": true,
   "skip_h1_title": false,
   "title_cell": "Table of Contents",
   "title_sidebar": "Contents",
   "toc_cell": false,
   "toc_position": {},
   "toc_section_display": true,
   "toc_window_display": false
  },
  "varInspector": {
   "cols": {
    "lenName": 16,
    "lenType": 16,
    "lenVar": 40
   },
   "kernels_config": {
    "python": {
     "delete_cmd_postfix": "",
     "delete_cmd_prefix": "del ",
     "library": "var_list.py",
     "varRefreshCmd": "print(var_dic_list())"
    },
    "r": {
     "delete_cmd_postfix": ") ",
     "delete_cmd_prefix": "rm(",
     "library": "var_list.r",
     "varRefreshCmd": "cat(var_dic_list()) "
    }
   },
   "types_to_exclude": [
    "module",
    "function",
    "builtin_function_or_method",
    "instance",
    "_Feature"
   ],
   "window_display": false
  }
 },
 "nbformat": 4,
 "nbformat_minor": 4
}
