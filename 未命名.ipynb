{
 "cells": [
  {
   "cell_type": "code",
   "execution_count": 1,
   "metadata": {},
   "outputs": [
    {
     "ename": "SyntaxError",
     "evalue": "EOL while scanning string literal (<ipython-input-1-0a6453b157de>, line 1)",
     "output_type": "error",
     "traceback": [
      "\u001b[0;36m  File \u001b[0;32m\"<ipython-input-1-0a6453b157de>\"\u001b[0;36m, line \u001b[0;32m1\u001b[0m\n\u001b[0;31m    x=\"1 陈科,吕剑.人民币实际汇率变动趋势分析——基于巴拉萨—萨缪尔森效应,《财经科学》,2008(d),第30-36页.\u001b[0m\n\u001b[0m                                                                  ^\u001b[0m\n\u001b[0;31mSyntaxError\u001b[0m\u001b[0;31m:\u001b[0m EOL while scanning string literal\n"
     ]
    }
   ],
   "source": [
    "x=\"1 陈科,吕剑.人民币实际汇率变动趋势分析——基于巴拉萨—萨缪尔森效应,《财经科学》,2008(d),第30-36页.\n",
    "\n",
    "2 陈智君,施建淮.经济均衡的产业结构与人民币内部实际汇率,《国际金融研究》,2015( ),第67-75页.\n",
    "\n",
    "3 鄂永健,丁剑平.差别消费权重,生产率与实际汇率.动态一般均衡模型对巴拉萨—萨缪尔森假说的扩展,《世界经济》,2007( ),第49-58页.\n",
    "\n",
    "4 何东,张文郎,韩高峰,胡东安.中国非贸易品部门的生产率增长,《金融研究》,2012年第10期,第15-28页.\n",
    "\n",
    "5 胡德宝,苏基溶.政府消费,贸易条件,生产率与人民币汇率——基于巴拉萨—萨缪尔森效应的扩展研究,《金融研究》,2013年第10期,第42-54页.\n",
    "\n",
    "6 刘达禹,刘金全.人民币实际汇率波动与中国产业结构调整——一价定律偏离还是相对价格波动,《国际贸易问题》,2015( ),第154-165页.\n",
    "\n",
    "7 卢锋,刘鎏.我国两部门劳动生产率增长及国际比较（1978-2005）——巴拉萨—萨缪尔森效应与人民币实际汇率关系的重新考察,《经济学（季刊）》,2007年第6卷第2期,第357-380页.\n",
    "\n",
    "8 卢锋.人民币实际汇率之谜（1979-2005）——基于事实比较和文献述评的观察,《经济学（季刊）》,2006( ),第635-674页.\n",
    "\n",
    "9 苏明政,张庆君.资本吸引力,对外依存度与巴拉萨—萨缪尔森效应——基于门限面板回归模型的检验,《国际贸易问题》,2014( ),第36-46页.\n",
    "\n",
    "10 唐旭,钱士春.相对劳动生产率变动对人民币实际汇率的影响分析——哈罗德—巴拉萨—萨缪尔森效应实证研究,《金融研究》,2007( ),第1-14页.\n",
    "\n",
    "11 王苍峰,岳咬兴.人民币实际汇率与中国两部门生产率差异的关系——基于巴拉萨—萨缪尔森效应的实证分析,《财经研究》,2006( ),第71-80页.\n",
    "\n",
    "12 王雪珂,姚洋.两国相对生产率与巴拉萨—萨缪尔森效应.一个经验检验,《世界经济》,2013( ),第18-35页.\n",
    "\n",
    "13 徐建炜,杨盼盼.理解中国的实际汇率.一价定律偏离还是相对价格变动？《经济研究》,2011( ),第78-90页.\n",
    "\n",
    "14 杨长江,任栋.人力资本结构演进与实际汇率变动,《世界经济》,2011( ),第14-38页.\n",
    "\n",
    "15 杨长江,石欢,裘佳杰.收入平等性与实际汇率,《金融研究》,2014年第10期,第86-101页.\n",
    "\n",
    "16 张斌.人民币真实汇率.概念,测量与解析,《经济学（季刊）》,2005( ),第317-334页.\n",
    "\n",
    "17 赵进文,苏明政.劳动力市场分割,金融一体化与巴拉萨—萨缪尔森效应,《金融研究》,2014( ),第16-28页.\n",
    "\n",
    "18 Balassa,Bela,1964.The purchasing-power parity doctrine.a reappraisal,Journal of Political Economy,Vol.72,No.6,pp.584-596.\n",
    "\n",
    "19 Bems,Rudolfs.2008.Aggregate investment expenditures on tradable and nontradable goods,Review of Economic Dynamics,Vol.11,No.pp.852-883.\n",
    "\n",
    "20 Betts,Caroline M.,and Timothy J.Kehoe,2006.US real exchange rate fluctuations and relative price fluctuations,Journal of Monetary Economics,Vol.53,No.7,pp.1297-1326.\n",
    "\n",
    "21 Betts,Caroline M.,and Timothy J.Kehoe,2008.Real exchange rate movements and the relative price of non-traded goods.NBER,No.415.\n",
    "\n",
    "22 Chinn,Menzie D.,2006.A primer on real effective exchange rates.Determinants,overvaluation,trade flows and competitive devaluation,Open Economies Review,Vol.17,No.1,pp.115-143.\n",
    "\n",
    "23 Darvas,Zsolt,2014.Real effective exchange rates for 178 countries.A new database,BRUEGEL,Working paper,No.6.\n",
    "\n",
    "24 De Gregorio,José,Alberto Giovannini,and Holger C.Wolf,1994.International evidence on tradables and nontradable inflation,\n",
    "25 European Economic Review,Vol.38,pp.1225-1244.\n",
    "Dumrongrittikul,Taya,2012.Real exchange rate movements in developed and developing economies.A reinterpretation of the Balassa-Samuelson hypothesis,Economic Records,Vol.283,No.88,pp.537-553.\n",
    "\n",
    "26 Dumrongrittikul,Taya,and Heather M.Anderson,2016.How do shocks to domestic factors affect real exchange rates of Asian developing countries? Journal of Development Economics,Vol.119,No.3,pp.67-85.\n",
    "\n",
    "27 Engel,Charles,1999.Accounting for the US real exchange rate changes,Journal of Political Economy,Vol.107,No.3,pp.507-538.\n",
    "\n",
    "28 Hinkle,Lawrence,and Fabien Nsengiyumva,1999.Internal real exchange rates.Concepts and measurement,in Exchange Rate Misalignment.Concepts and Measurement for Developing Countries (Lawrence Hinkle and Peter J.Montiel eds.),Washington.World Bank,1999.\n",
    "\n",
    "29 Imai,Hiroyuki,2018.China’s rapid growth and real exchange rate appreciation.Measuring the Balassa-Samuelson effect,Journal of Asian Economics,Vol.54,pp.39-52.\n",
    "\n",
    "30 Lee,Jaewoo,and Man-Keung Tang,2007.Does productivity growth appreciate the real exchange rate,Review of International Economics,Vol.15,No.1,pp.164-187.\n",
    "\n",
    "31 Peltonen,Tuomas A.,and Michael Sager,2009.Productivity shocks and real exchange rate.A reappraisal,European Central Bank,Working paper,No.1046.\n",
    "\n",
    "32 Ricci,Luca Antonio,Gian Maria Milesi-Ferretti,and Jaewoo Lee,2013.Real exchange rates and fundamentals.A cross-country perspective,Journal of Money,Credit and Banking,Vol.45,No.5,pp.845-865.\n",
    "\n",
    "33 Samuelson,Paul A.1964.Theoretical notes on trade problems,Review of Economics and Statistics,Vol.46,No.2,pp.145-154.\n",
    "\n",
    "34 Strauss,Jack,1999.Productivity differentials,the relative price of non-tradables and real exchange rates,Journal of International Money and Finance,Vol.18,No.pp.383-409.\n",
    "\""
   ]
  },
  {
   "cell_type": "code",
   "execution_count": null,
   "metadata": {},
   "outputs": [],
   "source": []
  }
 ],
 "metadata": {
  "kernelspec": {
   "display_name": "Python 3",
   "language": "python",
   "name": "python3"
  },
  "language_info": {
   "codemirror_mode": {
    "name": "ipython",
    "version": 3
   },
   "file_extension": ".py",
   "mimetype": "text/x-python",
   "name": "python",
   "nbconvert_exporter": "python",
   "pygments_lexer": "ipython3",
   "version": "3.7.3"
  },
  "toc": {
   "base_numbering": 1,
   "nav_menu": {},
   "number_sections": true,
   "sideBar": true,
   "skip_h1_title": false,
   "title_cell": "Table of Contents",
   "title_sidebar": "Contents",
   "toc_cell": false,
   "toc_position": {},
   "toc_section_display": true,
   "toc_window_display": false
  },
  "varInspector": {
   "cols": {
    "lenName": 16,
    "lenType": 16,
    "lenVar": 40
   },
   "kernels_config": {
    "python": {
     "delete_cmd_postfix": "",
     "delete_cmd_prefix": "del ",
     "library": "var_list.py",
     "varRefreshCmd": "print(var_dic_list())"
    },
    "r": {
     "delete_cmd_postfix": ") ",
     "delete_cmd_prefix": "rm(",
     "library": "var_list.r",
     "varRefreshCmd": "cat(var_dic_list()) "
    }
   },
   "types_to_exclude": [
    "module",
    "function",
    "builtin_function_or_method",
    "instance",
    "_Feature"
   ],
   "window_display": false
  }
 },
 "nbformat": 4,
 "nbformat_minor": 4
}
