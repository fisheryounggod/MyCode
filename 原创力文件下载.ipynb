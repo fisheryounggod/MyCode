{
 "cells": [
  {
   "cell_type": "code",
   "execution_count": 1,
   "metadata": {},
   "outputs": [
    {
     "data": {
      "text/plain": [
       "'/Users/mac'"
      ]
     },
     "execution_count": 1,
     "metadata": {},
     "output_type": "execute_result"
    }
   ],
   "source": [
    "%pwd"
   ]
  },
  {
   "cell_type": "code",
   "execution_count": 2,
   "metadata": {},
   "outputs": [
    {
     "name": "stdout",
     "output_type": "stream",
     "text": [
      "输入网址：https://max.book118.com/html/2018/1119/5340123330001331.shtm\n",
      "actual_page: 43 \n",
      "aid: 191909538 \n",
      "view_token: hbpss4giC3RbmDUXK7udQdSHeEM6C7e2\n",
      "1 https://view-cache.book118.com/view3/M00/02/32/wKh2BVzVQlKAL03KAAC-O9C6DAY288.png\n",
      "2 https://view-cache.book118.com/view2/M01/02/36/wKh2BVzVQlKAYIhCAAEiSgzeziE541.png\n",
      "3 https://view-cache.book118.com/view3/M03/02/32/wKh2BVzVQlKAFSqYAACbJzFvblM248.png\n",
      "4 https://view-cache.book118.com/view1/M00/03/26/wKh2BVzVQlKATYmvAACNcNiVTWY029.png\n",
      "5 https://view-cache.book118.com/view2/M05/02/36/wKh2BVzVQlKATT_9AACMbr0gPNA929.png\n",
      "6 https://view-cache.book118.com/view3/M04/02/32/wKh2BVzVQlKAFPCpAADTid9o1RA931.png\n",
      "7 https://view-cache.book118.com/view2/M05/02/36/wKh2BVzVQlKAfYgyAACr8NFevtE439.png\n",
      "8 https://view-cache.book118.com/view2/M00/02/36/wKh2BVzVQlGAaOd0AAC5t_YscoE582.png\n",
      "9 https://view-cache.book118.com/view1/M05/03/26/wKh2BVzVQlKAIzOXAABu6KRWh4o739.png\n",
      "10 https://view-cache.book118.com/view3/M00/02/32/wKh2BVzVQlKAZtGyAADJDrYRRrs410.png\n",
      "11 https://view-cache.book118.com/view1/M00/03/26/wKh2BVzVQlKAabC9AAB5YwMGXJg010.png\n",
      "12 https://view-cache.book118.com/view1/M00/03/26/wKh2BVzVQlGAZqpbAAC3kpwk17Y790.png\n",
      "13 https://view-cache.book118.com/view3/M04/29/06/wKh2BVzgK1aAGFTaAAChBwTzu34263.png\n",
      "14 https://view-cache.book118.com/view1/M01/2A/0D/wKh2BVzgK1aARCWyAAB3w0iE4QM648.png\n",
      "15 https://view-cache.book118.com/view1/M03/2A/0D/wKh2BVzgK1aADV8GAACoywfXZr4424.png\n",
      "16 https://view-cache.book118.com/view5/M01/2D/1E/wKh2CVzgK1aAK5PjAADA-6aMEmo529.png\n",
      "17 https://view-cache.book118.com/view2/M05/29/33/wKh2BVzgK1aAIRHWAACCIL3td0g619.png\n",
      "18 https://view-cache.book118.com/view1/M05/2A/0D/wKh2BVzgK1eAILi4AACRadjGebQ639.png\n",
      "19 https://view-cache.book118.com/view1/M02/2A/0D/wKh2BVzgK1yASjpqAACB0njwNg8123.png\n",
      "20 https://view-cache.book118.com/view6/M02/2C/3C/wKh2BFzgK1yAHIQlAABqB7BC6lA051.png\n",
      "21 https://view-cache.book118.com/view1/M03/2A/0D/wKh2BVzgK1yAfrtsAACRUK900sc387.png\n",
      "22 https://view-cache.book118.com/view5/M00/2D/1E/view_1_dk3a_s_tS4I540JBf7ke@CTyv_9gWoUW7JW8Uxxseok=.png\n",
      "23 https://view-cache.book118.com/view2/M01/29/33/wKh2BVzgK1yAb2PMAACjh9n9bGo217.png\n",
      "24 https://view-cache.book118.com/view1/M04/2A/0D/wKh2BVzgK1yANGMyAACst676eXg807.png\n",
      "25 https://view-cache.book118.com/view6/M03/2C/3C/wKh2BFzgK2KAXwDlAACko0js9zI124.png\n",
      "26 https://view-cache.book118.com/view2/M03/29/34/wKh2BVzgK2KAKbq4AACdeFe6TUU376.png\n",
      "27 https://view-cache.book118.com/view3/M02/29/07/wKh2BVzgK2KAKo3eAACOOPi-lXk166.png\n",
      "28 https://view-cache.book118.com/view1/M01/2A/0E/wKh2BVzgK2KAJ8lBAACVO_lHono508.png\n",
      "29 https://view-cache.book118.com/view6/M04/2C/3C/wKh2BFzgK2KAfNOzAAC8Aw5rCcs619.png\n",
      "30 https://view-cache.book118.com/view3/M03/29/07/wKh2BVzgK2KAMGuQAACI5b0eF9I108.png\n",
      "31 https://view-cache.book118.com/view6/M00/2C/3D/wKh2ClzgK2iAGqAaAACH-qN_QfU662.png\n",
      "32 https://view-cache.book118.com/view3/M05/29/07/wKh2BVzgK2iAHR8wAACG7FPTNiU896.png\n",
      "33 https://view-cache.book118.com/view5/M00/2D/1F/wKh2CVzgK2iAO-wqAAB7zAdYZ4Q388.png\n",
      "34 https://view-cache.book118.com/view6/M01/2C/3C/wKh2BFzgK2iAH0zrAACB5nH1FU4755.png\n",
      "35 https://view-cache.book118.com/view2/M00/29/34/wKh2BVzgK2iAbCiIAABR0m5wTYE583.png\n",
      "36 https://view-cache.book118.com/view6/M02/2C/3C/wKh2BFzgK2iASAfwAACWsiYx0OU258.png\n",
      "37 https://view-cache.book118.com/view3/M03/29/07/wKh2BVzgK22AHui5AACTvrDaMM8596.png\n",
      "38 https://view-cache.book118.com/view2/M04/29/34/wKh2BVzgK22AUWYNAAB1iHCPOQc480.png\n",
      "39 https://view-cache.book118.com/view1/M01/2A/0E/wKh2BVzgK26ASDWKAABnmAQl3wA075.png\n",
      "40 https://view-cache.book118.com/view1/M00/2A/0E/wKh2BVzgK26AMmccAACeAjEOtts430.png\n",
      "41 https://view-cache.book118.com/view5/M02/2D/20/wKh2BFzgK26AL6QIAAB_Cm-0jbU811.png\n",
      "42 https://view-cache.book118.com/view6/M05/2C/3D/wKh2ClzgK26AAnPFAAB0cbcJpNY640.png\n"
     ]
    }
   ],
   "source": [
    "\n",
    "\n",
    "import requests, json, re, time, urllib.request\n",
    "\n",
    "\n",
    "def getParameter(url):  # 获取文档参数\n",
    "    text_response = requests.get(url=url, headers=headers).text\n",
    "    actual_page = int(re.search('actual_page: (\\d+), //真实页数', text_response).group(1))  # 页数\n",
    "    aid = re.search('aid: (\\d+), //解密后的id', text_response).group(1)  # aid\n",
    "    view_token = re.search('view_token: \\'(.*?)\\'', text_response).group(1)  # view_token\n",
    "    print('actual_page:', actual_page, '\\naid:', aid, '\\nview_token:', view_token)\n",
    "    return actual_page, aid, view_token\n",
    "\n",
    "\n",
    "def requests_data(parameter, page):  # 请求数据\n",
    "    url = 'https://openapi.book118.com/getPreview.html'\n",
    "    params = {\n",
    "        'project_id': '1',\n",
    "        'aid': parameter[1],\n",
    "        'view_token': parameter[2],\n",
    "        'page': page,\n",
    "    }\n",
    "    response = requests.get(url=url, headers=headers, params=params).text\n",
    "    json_data = re.search('jsonpReturn\\((.*?)\\);', response).group(1)  # 使用正则表达式所需数据\n",
    "    data = json.loads(json_data)['data']\n",
    "    if data.get(str(page)) == '':  # 根据需求使用\n",
    "        print('数据加载失败，重新发出请求')\n",
    "        time.sleep(1)\n",
    "        return requests_data(parameter, page)\n",
    "    time.sleep(1)\n",
    "    return get_data(data)\n",
    "\n",
    "\n",
    "def get_data(data):  # 下载数据\n",
    "    for i in data.items():  # i[0]为页数，i[1]为网址\n",
    "        img_url = 'https:' + i[1]\n",
    "        urllib.request.urlretrieve(url=img_url, filename=r'./{}.png'.format(i[0]))  # 下载图片\n",
    "        print(i[0], img_url)\n",
    "\n",
    "\n",
    "if __name__ == '__main__':\n",
    "    headers = {\n",
    "        'User-Agent': 'Mozilla/5.0 (Windows NT 10.0; Win64; x64) AppleWebKit/537.36 (KHTML, like Gecko) Chrome/83.0.4103.116 Safari/537.36'}\n",
    "    text_url = input('输入网址：')\n",
    "    parameter = getParameter(text_url)\n",
    "    for page in range(1, parameter[0], 6):\n",
    "        requests_data(parameter, page)"
   ]
  },
  {
   "cell_type": "code",
   "execution_count": 11,
   "metadata": {},
   "outputs": [],
   "source": [
    "!open . "
   ]
  },
  {
   "cell_type": "code",
   "execution_count": null,
   "metadata": {},
   "outputs": [],
   "source": []
  }
 ],
 "metadata": {
  "kernelspec": {
   "display_name": "Python 3",
   "language": "python",
   "name": "python3"
  },
  "language_info": {
   "codemirror_mode": {
    "name": "ipython",
    "version": 3
   },
   "file_extension": ".py",
   "mimetype": "text/x-python",
   "name": "python",
   "nbconvert_exporter": "python",
   "pygments_lexer": "ipython3",
   "version": "3.7.3"
  },
  "toc": {
   "base_numbering": 1,
   "nav_menu": {},
   "number_sections": true,
   "sideBar": true,
   "skip_h1_title": false,
   "title_cell": "Table of Contents",
   "title_sidebar": "Contents",
   "toc_cell": false,
   "toc_position": {},
   "toc_section_display": true,
   "toc_window_display": false
  },
  "varInspector": {
   "cols": {
    "lenName": 16,
    "lenType": 16,
    "lenVar": 40
   },
   "kernels_config": {
    "python": {
     "delete_cmd_postfix": "",
     "delete_cmd_prefix": "del ",
     "library": "var_list.py",
     "varRefreshCmd": "print(var_dic_list())"
    },
    "r": {
     "delete_cmd_postfix": ") ",
     "delete_cmd_prefix": "rm(",
     "library": "var_list.r",
     "varRefreshCmd": "cat(var_dic_list()) "
    }
   },
   "types_to_exclude": [
    "module",
    "function",
    "builtin_function_or_method",
    "instance",
    "_Feature"
   ],
   "window_display": false
  }
 },
 "nbformat": 4,
 "nbformat_minor": 4
}
