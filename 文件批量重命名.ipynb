{
 "cells": [
  {
   "cell_type": "code",
   "execution_count": 1,
   "metadata": {},
   "outputs": [],
   "source": [
    "import os "
   ]
  },
  {
   "cell_type": "code",
   "execution_count": 2,
   "metadata": {},
   "outputs": [
    {
     "data": {
      "text/plain": [
       "'/Users/mac/Downloads/修改'"
      ]
     },
     "execution_count": 2,
     "metadata": {},
     "output_type": "execute_result"
    }
   ],
   "source": [
    "os.getcwd()"
   ]
  },
  {
   "cell_type": "markdown",
   "metadata": {},
   "source": [
    "## 预览文件"
   ]
  },
  {
   "cell_type": "code",
   "execution_count": 3,
   "metadata": {},
   "outputs": [],
   "source": [
    " def get_filelists(file_dir='.'):\n",
    "     list_directory = os.listdir(file_dir)\n",
    "     filelists = []\n",
    "     for directory in list_directory:\n",
    "         # os.path 模块稍后会讲到\n",
    "         if(os.path.isfile(directory)):\n",
    "            \n",
    "             filelists.append(directory)\n",
    "     return filelists"
   ]
  },
  {
   "cell_type": "code",
   "execution_count": 4,
   "metadata": {
    "collapsed": true
   },
   "outputs": [
    {
     "data": {
      "text/plain": [
       "['我国资本账户加速开放的条件基本成熟了吗_王曦.pdf',\n",
       " '多元化投资_代理问题与企业绩效_柳建华.pdf',\n",
       " '上市公司现金持有_静态权衡还是动态权衡_连玉君.pdf',\n",
       " '宏观经济条件_融资约束与现金持有水平_顾乃康.pdf',\n",
       " '媒体监督_公司治理与代理成本_梁红玉.pdf',\n",
       " '现金持有的行业特征_差异性与收敛性_连玉君.pdf',\n",
       " '开放经济下中国通货膨胀的价格传递效应研究_陆军.pdf',\n",
       " '投资_现金流敏感性_融资约束还是代理成本_连玉君.pdf',\n",
       " '股权分置改革_管理层薪酬业绩敏感_省略_效应_基于中国上市公司的经验证据_卢锐.pdf',\n",
       " '文件批量重命名.ipynb',\n",
       " '后股权分置时期大股东会减少_掏空_行为吗_王亮.pdf',\n",
       " '股权结构对资本结构影响的实证研究_顾乃康.pdf',\n",
       " '我国国有上市公司资本结构与治理研究_扶青.pdf',\n",
       " '融资约束_现金流风险与现金持有的预防性动机_顾乃康.pdf',\n",
       " '中国上市公司的资本结构是否稳定_周开国.pdf',\n",
       " '市盈率和市净率估值有效性实证比较_李尧.pdf',\n",
       " '上市公司市盈率影响因素的实证分析_卢锐.pdf',\n",
       " '控制大股东侵占与企业投融资决策研究_顾乃康.pdf',\n",
       " '公司治理机制与超额现金持有水平_辛宇.pdf',\n",
       " '大股东控制下的关联投资_效率促进_抑或_转移资源_柳建华.pdf',\n",
       " '货币政策对股票市场的冲击_王曦.pdf',\n",
       " '企业治理结构与企业价值_朱琪.pdf',\n",
       " '国际金融市场波动非线性因果性和溢出效应_夏南新.pdf',\n",
       " '控制权和现金流权的分离与上市公司绩效_李善民.pdf',\n",
       " '论股权激励制度与国有控股上市公司委托代理_卢锐.pdf',\n",
       " '存款利率市场化与利率结构变动_陆军.pdf',\n",
       " '新股发行_盈余管理与高管薪酬激励_陈胜蓝.pdf',\n",
       " '控股股东持股比例_组织形式与现金股利政策_基于资金占用角度的分析_柳建华.pdf',\n",
       " '长期货币中性_理论及其中国的实证_陆军.pdf',\n",
       " '股票流动性与企业资本结构的决定_基于中国上市公司的经验证据_顾乃康.pdf',\n",
       " '基于政策工具视角的我国货币政策冲击效应研究_陈浪南.pdf',\n",
       " '公司治理结构在财务困境预测中信息含量的实证研究_扶青.pdf',\n",
       " '现金的市场价值_基于中国上市公司的实证研究_顾乃康.pdf',\n",
       " '战略性出口关税_能够有效缓解贸易摩擦的短期措施.pdf',\n",
       " '内生性产业集群_产业分工网络和产业生产价值_省略_基于分工演进和专业化的产业发展.pdf',\n",
       " '目标资本结构确定与经理人行为模式_连玉君.pdf',\n",
       " '人民币汇率_资产价格与短期国际资本流动_陈浪南.pdf',\n",
       " '薪酬激励治理效应研究_基于盈余质量的视角_王兵.pdf',\n",
       " '货币政策无效性命题在中国的实证研究_陆军.pdf',\n",
       " '人民币汇率波动的价格传导效应研究_陈浪南.pdf',\n",
       " '融资约束_不确定性与上市公司投资效率_连玉君.pdf',\n",
       " '不同成长机会下资本结构与经营绩效之关系研究_连玉君.pdf',\n",
       " '财务弹性与企业投资的关系研究_顾乃康.pdf',\n",
       " '投资者保护的内涵与分析框架_柳建华.pdf',\n",
       " '上市公司现金持有水平的影响因素_财务特征_股权结构及治理环境_辛宇.pdf',\n",
       " '资本账户开放与宏观经济波动_熊衍飞.pdf',\n",
       " '融资约束与流动性管理行为_连玉君.pdf']"
      ]
     },
     "execution_count": 4,
     "metadata": {},
     "output_type": "execute_result"
    }
   ],
   "source": [
    "get_filelists() "
   ]
  },
  {
   "cell_type": "code",
   "execution_count": 5,
   "metadata": {},
   "outputs": [
    {
     "data": {
      "text/plain": [
       "['我国资本账户加速开放的条件基本成熟了吗_王曦.pdf',\n",
       " '多元化投资_代理问题与企业绩效_柳建华.pdf',\n",
       " '上市公司现金持有_静态权衡还是动态权衡_连玉君.pdf',\n",
       " '宏观经济条件_融资约束与现金持有水平_顾乃康.pdf',\n",
       " '媒体监督_公司治理与代理成本_梁红玉.pdf',\n",
       " '现金持有的行业特征_差异性与收敛性_连玉君.pdf',\n",
       " '开放经济下中国通货膨胀的价格传递效应研究_陆军.pdf',\n",
       " '投资_现金流敏感性_融资约束还是代理成本_连玉君.pdf',\n",
       " '股权分置改革_管理层薪酬业绩敏感_省略_效应_基于中国上市公司的经验证据_卢锐.pdf',\n",
       " '文件批量重命名.ipynb',\n",
       " '后股权分置时期大股东会减少_掏空_行为吗_王亮.pdf',\n",
       " '股权结构对资本结构影响的实证研究_顾乃康.pdf',\n",
       " '我国国有上市公司资本结构与治理研究_扶青.pdf',\n",
       " '融资约束_现金流风险与现金持有的预防性动机_顾乃康.pdf',\n",
       " '中国上市公司的资本结构是否稳定_周开国.pdf',\n",
       " '市盈率和市净率估值有效性实证比较_李尧.pdf',\n",
       " '上市公司市盈率影响因素的实证分析_卢锐.pdf',\n",
       " '控制大股东侵占与企业投融资决策研究_顾乃康.pdf',\n",
       " '公司治理机制与超额现金持有水平_辛宇.pdf',\n",
       " '大股东控制下的关联投资_效率促进_抑或_转移资源_柳建华.pdf',\n",
       " '货币政策对股票市场的冲击_王曦.pdf',\n",
       " '企业治理结构与企业价值_朱琪.pdf',\n",
       " '国际金融市场波动非线性因果性和溢出效应_夏南新.pdf',\n",
       " '控制权和现金流权的分离与上市公司绩效_李善民.pdf',\n",
       " '论股权激励制度与国有控股上市公司委托代理_卢锐.pdf',\n",
       " '存款利率市场化与利率结构变动_陆军.pdf',\n",
       " '新股发行_盈余管理与高管薪酬激励_陈胜蓝.pdf',\n",
       " '控股股东持股比例_组织形式与现金股利政策_基于资金占用角度的分析_柳建华.pdf',\n",
       " '长期货币中性_理论及其中国的实证_陆军.pdf',\n",
       " '股票流动性与企业资本结构的决定_基于中国上市公司的经验证据_顾乃康.pdf',\n",
       " '.virtual_documents',\n",
       " '基于政策工具视角的我国货币政策冲击效应研究_陈浪南.pdf',\n",
       " '公司治理结构在财务困境预测中信息含量的实证研究_扶青.pdf',\n",
       " '现金的市场价值_基于中国上市公司的实证研究_顾乃康.pdf',\n",
       " '战略性出口关税_能够有效缓解贸易摩擦的短期措施.pdf',\n",
       " '内生性产业集群_产业分工网络和产业生产价值_省略_基于分工演进和专业化的产业发展.pdf',\n",
       " '目标资本结构确定与经理人行为模式_连玉君.pdf',\n",
       " '.ipynb_checkpoints',\n",
       " '人民币汇率_资产价格与短期国际资本流动_陈浪南.pdf',\n",
       " '薪酬激励治理效应研究_基于盈余质量的视角_王兵.pdf',\n",
       " '货币政策无效性命题在中国的实证研究_陆军.pdf',\n",
       " '人民币汇率波动的价格传导效应研究_陈浪南.pdf',\n",
       " '融资约束_不确定性与上市公司投资效率_连玉君.pdf',\n",
       " '不同成长机会下资本结构与经营绩效之关系研究_连玉君.pdf',\n",
       " '财务弹性与企业投资的关系研究_顾乃康.pdf',\n",
       " '投资者保护的内涵与分析框架_柳建华.pdf',\n",
       " '上市公司现金持有水平的影响因素_财务特征_股权结构及治理环境_辛宇.pdf',\n",
       " '资本账户开放与宏观经济波动_熊衍飞.pdf',\n",
       " '融资约束与流动性管理行为_连玉君.pdf']"
      ]
     },
     "execution_count": 5,
     "metadata": {},
     "output_type": "execute_result"
    }
   ],
   "source": [
    "os.listdir('./')"
   ]
  },
  {
   "cell_type": "markdown",
   "metadata": {},
   "source": [
    "## 文件名修改试验"
   ]
  },
  {
   "cell_type": "code",
   "execution_count": 6,
   "metadata": {},
   "outputs": [
    {
     "data": {
      "text/plain": [
       "'我国资本账户加速开放的条件基本成熟了吗_王曦.pdf'"
      ]
     },
     "execution_count": 6,
     "metadata": {},
     "output_type": "execute_result"
    }
   ],
   "source": [
    "list_directory = os.listdir(os.getcwd())\n",
    "list_directory[0]"
   ]
  },
  {
   "cell_type": "code",
   "execution_count": 11,
   "metadata": {},
   "outputs": [
    {
     "data": {
      "application/javascript": [
       "\n",
       "        if (window._pyforest_update_imports_cell) { window._pyforest_update_imports_cell('import re'); }\n",
       "    "
      ],
      "text/plain": [
       "<IPython.core.display.Javascript object>"
      ]
     },
     "metadata": {},
     "output_type": "display_data"
    },
    {
     "data": {
      "text/plain": [
       "'我国资本账户加速开放的条件基本成熟了吗.pdf'"
      ]
     },
     "execution_count": 11,
     "metadata": {},
     "output_type": "execute_result"
    }
   ],
   "source": [
    "replacedStr = re.sub(\"(.*)_.{2,3}(.pdf)\", \"\\g<1>\\g<2>\", list_directory[0])\n",
    "replacedStr"
   ]
  },
  {
   "cell_type": "markdown",
   "metadata": {},
   "source": [
    "## 重命名"
   ]
  },
  {
   "cell_type": "code",
   "execution_count": null,
   "metadata": {},
   "outputs": [],
   "source": [
    "try:\n",
    "    os.rename(\"D:\\\\demo\",\"D:\\\\new\")\n",
    "    print(\"重命名完毕\")\n",
    "except(FileNotFoundError):\n",
    "    print(\"目录不存在\")"
   ]
  },
  {
   "cell_type": "code",
   "execution_count": 12,
   "metadata": {},
   "outputs": [
    {
     "data": {
      "application/javascript": [
       "\n",
       "        if (window._pyforest_update_imports_cell) { window._pyforest_update_imports_cell('import re'); }\n",
       "    "
      ],
      "text/plain": [
       "<IPython.core.display.Javascript object>"
      ]
     },
     "metadata": {},
     "output_type": "display_data"
    },
    {
     "data": {
      "application/javascript": [
       "\n",
       "        if (window._pyforest_update_imports_cell) { window._pyforest_update_imports_cell('import re'); }\n",
       "    "
      ],
      "text/plain": [
       "<IPython.core.display.Javascript object>"
      ]
     },
     "metadata": {},
     "output_type": "display_data"
    },
    {
     "data": {
      "application/javascript": [
       "\n",
       "        if (window._pyforest_update_imports_cell) { window._pyforest_update_imports_cell('import re'); }\n",
       "    "
      ],
      "text/plain": [
       "<IPython.core.display.Javascript object>"
      ]
     },
     "metadata": {},
     "output_type": "display_data"
    },
    {
     "data": {
      "application/javascript": [
       "\n",
       "        if (window._pyforest_update_imports_cell) { window._pyforest_update_imports_cell('import re'); }\n",
       "    "
      ],
      "text/plain": [
       "<IPython.core.display.Javascript object>"
      ]
     },
     "metadata": {},
     "output_type": "display_data"
    },
    {
     "data": {
      "application/javascript": [
       "\n",
       "        if (window._pyforest_update_imports_cell) { window._pyforest_update_imports_cell('import re'); }\n",
       "    "
      ],
      "text/plain": [
       "<IPython.core.display.Javascript object>"
      ]
     },
     "metadata": {},
     "output_type": "display_data"
    },
    {
     "data": {
      "application/javascript": [
       "\n",
       "        if (window._pyforest_update_imports_cell) { window._pyforest_update_imports_cell('import re'); }\n",
       "    "
      ],
      "text/plain": [
       "<IPython.core.display.Javascript object>"
      ]
     },
     "metadata": {},
     "output_type": "display_data"
    },
    {
     "data": {
      "application/javascript": [
       "\n",
       "        if (window._pyforest_update_imports_cell) { window._pyforest_update_imports_cell('import re'); }\n",
       "    "
      ],
      "text/plain": [
       "<IPython.core.display.Javascript object>"
      ]
     },
     "metadata": {},
     "output_type": "display_data"
    },
    {
     "data": {
      "application/javascript": [
       "\n",
       "        if (window._pyforest_update_imports_cell) { window._pyforest_update_imports_cell('import re'); }\n",
       "    "
      ],
      "text/plain": [
       "<IPython.core.display.Javascript object>"
      ]
     },
     "metadata": {},
     "output_type": "display_data"
    },
    {
     "data": {
      "application/javascript": [
       "\n",
       "        if (window._pyforest_update_imports_cell) { window._pyforest_update_imports_cell('import re'); }\n",
       "    "
      ],
      "text/plain": [
       "<IPython.core.display.Javascript object>"
      ]
     },
     "metadata": {},
     "output_type": "display_data"
    },
    {
     "data": {
      "application/javascript": [
       "\n",
       "        if (window._pyforest_update_imports_cell) { window._pyforest_update_imports_cell('import re'); }\n",
       "    "
      ],
      "text/plain": [
       "<IPython.core.display.Javascript object>"
      ]
     },
     "metadata": {},
     "output_type": "display_data"
    },
    {
     "data": {
      "application/javascript": [
       "\n",
       "        if (window._pyforest_update_imports_cell) { window._pyforest_update_imports_cell('import re'); }\n",
       "    "
      ],
      "text/plain": [
       "<IPython.core.display.Javascript object>"
      ]
     },
     "metadata": {},
     "output_type": "display_data"
    },
    {
     "data": {
      "application/javascript": [
       "\n",
       "        if (window._pyforest_update_imports_cell) { window._pyforest_update_imports_cell('import re'); }\n",
       "    "
      ],
      "text/plain": [
       "<IPython.core.display.Javascript object>"
      ]
     },
     "metadata": {},
     "output_type": "display_data"
    },
    {
     "data": {
      "application/javascript": [
       "\n",
       "        if (window._pyforest_update_imports_cell) { window._pyforest_update_imports_cell('import re'); }\n",
       "    "
      ],
      "text/plain": [
       "<IPython.core.display.Javascript object>"
      ]
     },
     "metadata": {},
     "output_type": "display_data"
    },
    {
     "data": {
      "application/javascript": [
       "\n",
       "        if (window._pyforest_update_imports_cell) { window._pyforest_update_imports_cell('import re'); }\n",
       "    "
      ],
      "text/plain": [
       "<IPython.core.display.Javascript object>"
      ]
     },
     "metadata": {},
     "output_type": "display_data"
    },
    {
     "data": {
      "application/javascript": [
       "\n",
       "        if (window._pyforest_update_imports_cell) { window._pyforest_update_imports_cell('import re'); }\n",
       "    "
      ],
      "text/plain": [
       "<IPython.core.display.Javascript object>"
      ]
     },
     "metadata": {},
     "output_type": "display_data"
    },
    {
     "data": {
      "application/javascript": [
       "\n",
       "        if (window._pyforest_update_imports_cell) { window._pyforest_update_imports_cell('import re'); }\n",
       "    "
      ],
      "text/plain": [
       "<IPython.core.display.Javascript object>"
      ]
     },
     "metadata": {},
     "output_type": "display_data"
    },
    {
     "data": {
      "application/javascript": [
       "\n",
       "        if (window._pyforest_update_imports_cell) { window._pyforest_update_imports_cell('import re'); }\n",
       "    "
      ],
      "text/plain": [
       "<IPython.core.display.Javascript object>"
      ]
     },
     "metadata": {},
     "output_type": "display_data"
    },
    {
     "data": {
      "application/javascript": [
       "\n",
       "        if (window._pyforest_update_imports_cell) { window._pyforest_update_imports_cell('import re'); }\n",
       "    "
      ],
      "text/plain": [
       "<IPython.core.display.Javascript object>"
      ]
     },
     "metadata": {},
     "output_type": "display_data"
    },
    {
     "data": {
      "application/javascript": [
       "\n",
       "        if (window._pyforest_update_imports_cell) { window._pyforest_update_imports_cell('import re'); }\n",
       "    "
      ],
      "text/plain": [
       "<IPython.core.display.Javascript object>"
      ]
     },
     "metadata": {},
     "output_type": "display_data"
    },
    {
     "data": {
      "application/javascript": [
       "\n",
       "        if (window._pyforest_update_imports_cell) { window._pyforest_update_imports_cell('import re'); }\n",
       "    "
      ],
      "text/plain": [
       "<IPython.core.display.Javascript object>"
      ]
     },
     "metadata": {},
     "output_type": "display_data"
    },
    {
     "data": {
      "application/javascript": [
       "\n",
       "        if (window._pyforest_update_imports_cell) { window._pyforest_update_imports_cell('import re'); }\n",
       "    "
      ],
      "text/plain": [
       "<IPython.core.display.Javascript object>"
      ]
     },
     "metadata": {},
     "output_type": "display_data"
    },
    {
     "data": {
      "application/javascript": [
       "\n",
       "        if (window._pyforest_update_imports_cell) { window._pyforest_update_imports_cell('import re'); }\n",
       "    "
      ],
      "text/plain": [
       "<IPython.core.display.Javascript object>"
      ]
     },
     "metadata": {},
     "output_type": "display_data"
    },
    {
     "data": {
      "application/javascript": [
       "\n",
       "        if (window._pyforest_update_imports_cell) { window._pyforest_update_imports_cell('import re'); }\n",
       "    "
      ],
      "text/plain": [
       "<IPython.core.display.Javascript object>"
      ]
     },
     "metadata": {},
     "output_type": "display_data"
    },
    {
     "data": {
      "application/javascript": [
       "\n",
       "        if (window._pyforest_update_imports_cell) { window._pyforest_update_imports_cell('import re'); }\n",
       "    "
      ],
      "text/plain": [
       "<IPython.core.display.Javascript object>"
      ]
     },
     "metadata": {},
     "output_type": "display_data"
    },
    {
     "data": {
      "application/javascript": [
       "\n",
       "        if (window._pyforest_update_imports_cell) { window._pyforest_update_imports_cell('import re'); }\n",
       "    "
      ],
      "text/plain": [
       "<IPython.core.display.Javascript object>"
      ]
     },
     "metadata": {},
     "output_type": "display_data"
    },
    {
     "data": {
      "application/javascript": [
       "\n",
       "        if (window._pyforest_update_imports_cell) { window._pyforest_update_imports_cell('import re'); }\n",
       "    "
      ],
      "text/plain": [
       "<IPython.core.display.Javascript object>"
      ]
     },
     "metadata": {},
     "output_type": "display_data"
    },
    {
     "data": {
      "application/javascript": [
       "\n",
       "        if (window._pyforest_update_imports_cell) { window._pyforest_update_imports_cell('import re'); }\n",
       "    "
      ],
      "text/plain": [
       "<IPython.core.display.Javascript object>"
      ]
     },
     "metadata": {},
     "output_type": "display_data"
    },
    {
     "data": {
      "application/javascript": [
       "\n",
       "        if (window._pyforest_update_imports_cell) { window._pyforest_update_imports_cell('import re'); }\n",
       "    "
      ],
      "text/plain": [
       "<IPython.core.display.Javascript object>"
      ]
     },
     "metadata": {},
     "output_type": "display_data"
    },
    {
     "data": {
      "application/javascript": [
       "\n",
       "        if (window._pyforest_update_imports_cell) { window._pyforest_update_imports_cell('import re'); }\n",
       "    "
      ],
      "text/plain": [
       "<IPython.core.display.Javascript object>"
      ]
     },
     "metadata": {},
     "output_type": "display_data"
    },
    {
     "data": {
      "application/javascript": [
       "\n",
       "        if (window._pyforest_update_imports_cell) { window._pyforest_update_imports_cell('import re'); }\n",
       "    "
      ],
      "text/plain": [
       "<IPython.core.display.Javascript object>"
      ]
     },
     "metadata": {},
     "output_type": "display_data"
    },
    {
     "data": {
      "application/javascript": [
       "\n",
       "        if (window._pyforest_update_imports_cell) { window._pyforest_update_imports_cell('import re'); }\n",
       "    "
      ],
      "text/plain": [
       "<IPython.core.display.Javascript object>"
      ]
     },
     "metadata": {},
     "output_type": "display_data"
    },
    {
     "data": {
      "application/javascript": [
       "\n",
       "        if (window._pyforest_update_imports_cell) { window._pyforest_update_imports_cell('import re'); }\n",
       "    "
      ],
      "text/plain": [
       "<IPython.core.display.Javascript object>"
      ]
     },
     "metadata": {},
     "output_type": "display_data"
    },
    {
     "data": {
      "application/javascript": [
       "\n",
       "        if (window._pyforest_update_imports_cell) { window._pyforest_update_imports_cell('import re'); }\n",
       "    "
      ],
      "text/plain": [
       "<IPython.core.display.Javascript object>"
      ]
     },
     "metadata": {},
     "output_type": "display_data"
    },
    {
     "data": {
      "application/javascript": [
       "\n",
       "        if (window._pyforest_update_imports_cell) { window._pyforest_update_imports_cell('import re'); }\n",
       "    "
      ],
      "text/plain": [
       "<IPython.core.display.Javascript object>"
      ]
     },
     "metadata": {},
     "output_type": "display_data"
    },
    {
     "data": {
      "application/javascript": [
       "\n",
       "        if (window._pyforest_update_imports_cell) { window._pyforest_update_imports_cell('import re'); }\n",
       "    "
      ],
      "text/plain": [
       "<IPython.core.display.Javascript object>"
      ]
     },
     "metadata": {},
     "output_type": "display_data"
    },
    {
     "data": {
      "application/javascript": [
       "\n",
       "        if (window._pyforest_update_imports_cell) { window._pyforest_update_imports_cell('import re'); }\n",
       "    "
      ],
      "text/plain": [
       "<IPython.core.display.Javascript object>"
      ]
     },
     "metadata": {},
     "output_type": "display_data"
    },
    {
     "data": {
      "application/javascript": [
       "\n",
       "        if (window._pyforest_update_imports_cell) { window._pyforest_update_imports_cell('import re'); }\n",
       "    "
      ],
      "text/plain": [
       "<IPython.core.display.Javascript object>"
      ]
     },
     "metadata": {},
     "output_type": "display_data"
    },
    {
     "data": {
      "application/javascript": [
       "\n",
       "        if (window._pyforest_update_imports_cell) { window._pyforest_update_imports_cell('import re'); }\n",
       "    "
      ],
      "text/plain": [
       "<IPython.core.display.Javascript object>"
      ]
     },
     "metadata": {},
     "output_type": "display_data"
    },
    {
     "data": {
      "application/javascript": [
       "\n",
       "        if (window._pyforest_update_imports_cell) { window._pyforest_update_imports_cell('import re'); }\n",
       "    "
      ],
      "text/plain": [
       "<IPython.core.display.Javascript object>"
      ]
     },
     "metadata": {},
     "output_type": "display_data"
    },
    {
     "data": {
      "application/javascript": [
       "\n",
       "        if (window._pyforest_update_imports_cell) { window._pyforest_update_imports_cell('import re'); }\n",
       "    "
      ],
      "text/plain": [
       "<IPython.core.display.Javascript object>"
      ]
     },
     "metadata": {},
     "output_type": "display_data"
    },
    {
     "data": {
      "application/javascript": [
       "\n",
       "        if (window._pyforest_update_imports_cell) { window._pyforest_update_imports_cell('import re'); }\n",
       "    "
      ],
      "text/plain": [
       "<IPython.core.display.Javascript object>"
      ]
     },
     "metadata": {},
     "output_type": "display_data"
    },
    {
     "data": {
      "application/javascript": [
       "\n",
       "        if (window._pyforest_update_imports_cell) { window._pyforest_update_imports_cell('import re'); }\n",
       "    "
      ],
      "text/plain": [
       "<IPython.core.display.Javascript object>"
      ]
     },
     "metadata": {},
     "output_type": "display_data"
    },
    {
     "data": {
      "application/javascript": [
       "\n",
       "        if (window._pyforest_update_imports_cell) { window._pyforest_update_imports_cell('import re'); }\n",
       "    "
      ],
      "text/plain": [
       "<IPython.core.display.Javascript object>"
      ]
     },
     "metadata": {},
     "output_type": "display_data"
    },
    {
     "data": {
      "application/javascript": [
       "\n",
       "        if (window._pyforest_update_imports_cell) { window._pyforest_update_imports_cell('import re'); }\n",
       "    "
      ],
      "text/plain": [
       "<IPython.core.display.Javascript object>"
      ]
     },
     "metadata": {},
     "output_type": "display_data"
    },
    {
     "data": {
      "application/javascript": [
       "\n",
       "        if (window._pyforest_update_imports_cell) { window._pyforest_update_imports_cell('import re'); }\n",
       "    "
      ],
      "text/plain": [
       "<IPython.core.display.Javascript object>"
      ]
     },
     "metadata": {},
     "output_type": "display_data"
    },
    {
     "data": {
      "application/javascript": [
       "\n",
       "        if (window._pyforest_update_imports_cell) { window._pyforest_update_imports_cell('import re'); }\n",
       "    "
      ],
      "text/plain": [
       "<IPython.core.display.Javascript object>"
      ]
     },
     "metadata": {},
     "output_type": "display_data"
    },
    {
     "data": {
      "application/javascript": [
       "\n",
       "        if (window._pyforest_update_imports_cell) { window._pyforest_update_imports_cell('import re'); }\n",
       "    "
      ],
      "text/plain": [
       "<IPython.core.display.Javascript object>"
      ]
     },
     "metadata": {},
     "output_type": "display_data"
    }
   ],
   "source": [
    "list_directory = os.listdir('./')\n",
    "\n",
    "for directory in list_directory:\n",
    "    if(os.path.isfile(directory)):\n",
    "        replacedStr = re.sub(\"(.*)_.{2,3}(.pdf)\", \"\\g<1>\\g<2>\", directory)\n",
    "        os.rename(os.getcwd()+\"/\"+directory,os.getcwd()+\"/\"+replacedStr)\n",
    "    get_filelists()"
   ]
  },
  {
   "cell_type": "markdown",
   "metadata": {},
   "source": [
    "## 函数化"
   ]
  },
  {
   "cell_type": "code",
   "execution_count": 24,
   "metadata": {},
   "outputs": [],
   "source": [
    "def reFile(file_dir='.'):\n",
    "    list_directory = os.listdir(file_dir)\n",
    "    filelists = []\n",
    "    for directory in list_directory:\n",
    "        # os.path 模块稍后会讲到\n",
    "        if(os.path.isfile(directory)):\n",
    "            directory2=re.sub(\"201\\d 经济研究 (.*)_.{2,3} （.*\", \"\\g<1>\", directory)\n",
    "            os.rename(os.getcwd()+\"/\"+directory,os.getcwd()+\"/\"+directory2+\".pdf\")\n",
    "            filelists.append(directory2)\n",
    "    return filelists"
   ]
  },
  {
   "cell_type": "code",
   "execution_count": 32,
   "metadata": {},
   "outputs": [
    {
     "data": {
      "text/plain": [
       "['2017 经济研究 聪明人更愿意创业吗_来自中国的经验发现_李涛（微观模型+稳健性检验）.pdf',\n",
       " '2017 经济研究 短期国际资本流动与我国上市企业融资成本_韩乾 VAR模型.pdf',\n",
       " '2017 经济研究 信贷寻租_融资约束与企业创新_张璇（内生性问题+工具变量）.pdf',\n",
       " '2017 经济研究 城市劳动力市场中户籍歧视的变化_农民工的就业与工资_孙婧芳（微观模型）.pdf']"
      ]
     },
     "execution_count": 32,
     "metadata": {},
     "output_type": "execute_result"
    }
   ],
   "source": [
    "reFile(\"/Users/mac/Downloads/个体效应/非面板/\") "
   ]
  },
  {
   "cell_type": "code",
   "execution_count": null,
   "metadata": {},
   "outputs": [],
   "source": []
  }
 ],
 "metadata": {
  "kernelspec": {
   "display_name": "Python 3",
   "language": "python",
   "name": "python3"
  },
  "language_info": {
   "codemirror_mode": {
    "name": "ipython",
    "version": 3
   },
   "file_extension": ".py",
   "mimetype": "text/x-python",
   "name": "python",
   "nbconvert_exporter": "python",
   "pygments_lexer": "ipython3",
   "version": "3.7.3"
  },
  "toc": {
   "base_numbering": 1,
   "nav_menu": {},
   "number_sections": true,
   "sideBar": true,
   "skip_h1_title": false,
   "title_cell": "Table of Contents",
   "title_sidebar": "Contents",
   "toc_cell": false,
   "toc_position": {},
   "toc_section_display": true,
   "toc_window_display": false
  },
  "varInspector": {
   "cols": {
    "lenName": 16,
    "lenType": 16,
    "lenVar": 40
   },
   "kernels_config": {
    "python": {
     "delete_cmd_postfix": "",
     "delete_cmd_prefix": "del ",
     "library": "var_list.py",
     "varRefreshCmd": "print(var_dic_list())"
    },
    "r": {
     "delete_cmd_postfix": ") ",
     "delete_cmd_prefix": "rm(",
     "library": "var_list.r",
     "varRefreshCmd": "cat(var_dic_list()) "
    }
   },
   "types_to_exclude": [
    "module",
    "function",
    "builtin_function_or_method",
    "instance",
    "_Feature"
   ],
   "window_display": false
  }
 },
 "nbformat": 4,
 "nbformat_minor": 4
}
