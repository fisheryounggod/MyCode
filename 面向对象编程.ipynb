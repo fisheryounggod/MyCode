{
 "cells": [
  {
   "cell_type": "markdown",
   "metadata": {},
   "source": [
    "一般而言，在学习或练习python的初级阶段，在Jupyter Notebook（spyder或pycharm）上进行逐条执行语句和代码，这样可以起到交互的良好效果。但是如果要进行大一点的项目实践，这种毫无规划的逐条执行语句与指令就显得不太适用了。为了使代码得到最大程度的重复使用，并且各模块之间逻辑更清晰，这时就有必要去学习模块化的抽象设计了。模块化的抽象设计基本思路是把主要框架和算法流程描述出来，再补充相应的细节。面向对象编程（Object-Oriented Programming）是模块化设计的重要方法之一，是Python金融量化进阶学习的必经之路。"
   ]
  },
  {
   "cell_type": "markdown",
   "metadata": {},
   "source": [
    "# class类编程入门\n"
   ]
  },
  {
   "cell_type": "markdown",
   "metadata": {},
   "source": [
    "类实际上是具有相同属性与方法的对象集合。\n",
    "\n",
    "python定义类的语法有两种：\n",
    "\n",
    "```python\n",
    "class 类名称:\n",
    "      def 定义属性和方法：\n",
    "            pass\n",
    "class 类名称(继承类名称):  \n",
    "      def 定义属性和方法：\n",
    "            pass\n",
    "```\n",
    "class后面是类名称，小括号里的继承类名称表示定义的类继承自哪一类。如果没有继承，则填object。比如下面定义一个股票stock类，属性和方法先不写，使用pass（跳过）表示。比如下面创建一个stock的类。"
   ]
  },
  {
   "cell_type": "code",
   "execution_count": 1,
   "metadata": {},
   "outputs": [
    {
     "data": {
      "text/plain": [
       "<__main__.stock at 0x11801a080>"
      ]
     },
     "execution_count": 1,
     "metadata": {},
     "output_type": "execute_result"
    }
   ],
   "source": [
    "#定义一个股票的类\n",
    "class stock(object):\n",
    "    pass\n",
    "#创建了stock这个类之后，便可以使用“stock()”来创建实例\n",
    "s=stock()\n",
    "s"
   ]
  },
  {
   "cell_type": "markdown",
   "metadata": {},
   "source": [
    "s是一个创建自stock类的实例。Python是一种动态语言，能够动态地绑定一个实例的属性与方法，如给s绑定一个code的代码属性："
   ]
  },
  {
   "cell_type": "code",
   "execution_count": 2,
   "metadata": {},
   "outputs": [
    {
     "data": {
      "text/plain": [
       "'000001.SZ'"
      ]
     },
     "execution_count": 2,
     "metadata": {},
     "output_type": "execute_result"
    }
   ],
   "source": [
    "s.code='000001.SZ'\n",
    "s.code"
   ]
  },
  {
   "cell_type": "code",
   "execution_count": 3,
   "metadata": {},
   "outputs": [
    {
     "data": {
      "text/plain": [
       "15.8"
      ]
     },
     "execution_count": 3,
     "metadata": {},
     "output_type": "execute_result"
    }
   ],
   "source": [
    "s1 = stock()\n",
    "s1.price = 15.8\n",
    "s1.price"
   ]
  },
  {
   "cell_type": "markdown",
   "metadata": {},
   "source": [
    "通过动态绑定可以拥有不同的属性，但是这样不利于项目的开发与维护。若希望创建自同一个类的实例拥有一些共同的属性，则可以通过定义一个特殊的函数\\__init__方法（注意下划线是在英文语境下输入两次），来绑定在创建实例时非填不可的属性。\n",
    "\n",
    "\\__init__()第一个参数根据惯例为self，用于代指被实例化出来的对象，参数code和price是用于给对象的属性赋值，比如一个股票的类假设有代码和价格两个属性，则定义stock的类可以写成："
   ]
  },
  {
   "cell_type": "code",
   "execution_count": null,
   "metadata": {},
   "outputs": [],
   "source": [
    "class stock(object):\n",
    "    def __init__(self,code,price):\n",
    "        self.code=code\n",
    "        self.price=price"
   ]
  },
  {
   "cell_type": "markdown",
   "metadata": {},
   "source": [
    "python通过遵循一定的属性和方法命名规则来达到访问控制的效果：\n",
    "\n",
    "- 以单下划线开头的名字代表protect（受保护的）,如self.\\_price\n",
    "- 以双下划线开头的名字代表private,如self.\\__init_change(self):\n",
    "- 以双下划线开头结尾的名字代表系统保留定义，如\\__init__(self)、\\__str__(self)、\\__len__(self)"
   ]
  },
  {
   "cell_type": "markdown",
   "metadata": {},
   "source": [
    "> 创建实例时，__init__方法中的参数，除了self不用输入外，其他参数非填不可，否则会报错。"
   ]
  },
  {
   "cell_type": "markdown",
   "metadata": {},
   "source": [
    "在创建完类的名称后，可以加入一些文字说明，简要阐述类的主要内容，以方便使用者快速了解该类的功能，这些注释存储成字符串的形式。注意python注释的写法，单行注释前面加“#”，多行注释使用三引号。"
   ]
  },
  {
   "cell_type": "code",
   "execution_count": 5,
   "metadata": {},
   "outputs": [
    {
     "name": "stdout",
     "output_type": "stream",
     "text": [
      "\n",
      "    stock类中包含属性code和price\n",
      "    \n"
     ]
    }
   ],
   "source": [
    "class stock(object):\n",
    "    '''\n",
    "    stock类中包含属性code和price\n",
    "    '''\n",
    "    def __init__(self,code,price):\n",
    "        self.code=code\n",
    "        self.price=price\n",
    "#查看类中的注释内容\n",
    "print(stock.__doc__)"
   ]
  },
  {
   "cell_type": "code",
   "execution_count": 6,
   "metadata": {},
   "outputs": [
    {
     "name": "stdout",
     "output_type": "stream",
     "text": [
      "Help on class stock in module __main__:\n",
      "\n",
      "class stock(builtins.object)\n",
      " |  stock(code, price)\n",
      " |  \n",
      " |  stock类中包含属性code和price\n",
      " |  \n",
      " |  Methods defined here:\n",
      " |  \n",
      " |  __init__(self, code, price)\n",
      " |      Initialize self.  See help(type(self)) for accurate signature.\n",
      " |  \n",
      " |  ----------------------------------------------------------------------\n",
      " |  Data descriptors defined here:\n",
      " |  \n",
      " |  __dict__\n",
      " |      dictionary for instance variables (if defined)\n",
      " |  \n",
      " |  __weakref__\n",
      " |      list of weak references to the object (if defined)\n",
      "\n"
     ]
    }
   ],
   "source": [
    "help(stock)"
   ]
  },
  {
   "cell_type": "code",
   "execution_count": 8,
   "metadata": {},
   "outputs": [
    {
     "name": "stdout",
     "output_type": "stream",
     "text": [
      "\n",
      "    stock类中包含属性code和price\n",
      "    \n",
      "\n",
      "    stock类中包含属性code和price\n",
      "    \n"
     ]
    }
   ],
   "source": [
    "from StockClass import stock\n",
    "print(stock.__doc__)"
   ]
  },
  {
   "cell_type": "markdown",
   "metadata": {},
   "source": [
    "# 类的调用方法"
   ]
  },
  {
   "cell_type": "markdown",
   "metadata": {},
   "source": [
    "类的调用方法主要有三种：（1）类的实例；（2）静态方法（@装饰器）；（3）类的方法（clc）。\n",
    "\n",
    "- 实例调用最常见，一般使用“类名.方法”。\n",
    "- 静态方法由类调用，无默认参数。将实例方法参数中的self去掉，然后在方法定义上方加上@staticmethod（前面加@是python函数的装饰器方法），就成为静态方法。\n",
    "- 类方法由类调用，采用@classmethod装饰，至少传入一个cls（代指类本身，类似self）参数。执行类方法时，自动将调用该方法的类赋值给cls，建议使用类名.类方法的调用方式。"
   ]
  },
  {
   "cell_type": "code",
   "execution_count": 9,
   "metadata": {},
   "outputs": [
    {
     "data": {
      "text/plain": [
       "('中国平安', '601318.SH')"
      ]
     },
     "execution_count": 9,
     "metadata": {},
     "output_type": "execute_result"
    }
   ],
   "source": [
    "# 实例调用法：\n",
    "class StockCode:\n",
    "    def __init__(self,name,code):\n",
    "        self.name=name\n",
    "        self.code=code\n",
    "    def get_stock(self):\n",
    "        return (self.name,self.code)\n",
    "s=StockCode('中国平安','601318.SH')\n",
    "s.get_stock()\n"
   ]
  },
  {
   "cell_type": "code",
   "execution_count": 10,
   "metadata": {},
   "outputs": [
    {
     "name": "stdout",
     "output_type": "stream",
     "text": [
      "股票代码必须为6位数字！\n"
     ]
    },
    {
     "data": {
      "text/plain": [
       "'000001SZ'"
      ]
     },
     "execution_count": 10,
     "metadata": {},
     "output_type": "execute_result"
    }
   ],
   "source": [
    "# 静态方法调用\n",
    "class Codes(object):\n",
    "    @staticmethod\n",
    "    def get_code(s):\n",
    "        if len(s)==6:\n",
    "            return (s+'SH') if s.startswith('6') else (s+'SZ')\n",
    "        else:\n",
    "            print('股票代码必须为6位数字！')\n",
    "Codes.get_code('00001')\n",
    "Codes.get_code('000001')"
   ]
  },
  {
   "cell_type": "markdown",
   "metadata": {},
   "source": [
    "类调用法：\n",
    "\n",
    "有的时候传入的参数并不是('中国平安','601318.SH')这样的格式，而是('中国平安-601318.SH')这样的，那该怎么做？首先要把这个拆分，但是要使用实例方法实现起来很麻烦，这个时候就可以使用类方法。"
   ]
  },
  {
   "cell_type": "code",
   "execution_count": 11,
   "metadata": {},
   "outputs": [
    {
     "data": {
      "text/plain": [
       "('中国平安', '601318.SH')"
      ]
     },
     "execution_count": 11,
     "metadata": {},
     "output_type": "execute_result"
    }
   ],
   "source": [
    "class StockCode:\n",
    "    def __init__(self,stock,code):\n",
    "        self.stock=stock\n",
    "        self.code=code\n",
    "    @classmethod\n",
    "    # 装饰器，立马执行下面的函数\n",
    "    def split(cls,sc):\n",
    "        # cls是默认的这个类的init函数，sc是传入参数\n",
    "        stock,code=map(str,sc.split('-'))\n",
    "        # 这里转换成了格式化的结构\n",
    "        dd = cls(stock,code)\n",
    "        # 然后执行这个类第一个方法\n",
    "        return dd\n",
    "s=StockCode.split(('中国平安-601318.SH'))\n",
    "#查看属性\n",
    "s.stock,s.code\n",
    "#输出结果：('中国平安', '601318.SH')"
   ]
  },
  {
   "cell_type": "markdown",
   "metadata": {},
   "source": [
    "# 类的三大特征：封装、继承与多态"
   ]
  },
  {
   "cell_type": "markdown",
   "metadata": {},
   "source": [
    "**封装简单理解是，将属性与方法放在某个对象内部，使外部无法访问。**接着之前的例子，若要打印股票代码code和price，则可以先定义一个打印的函数，对之前的类修改如下："
   ]
  },
  {
   "cell_type": "code",
   "execution_count": 12,
   "metadata": {},
   "outputs": [
    {
     "name": "stdout",
     "output_type": "stream",
     "text": [
      "股票代码为：000001.SZ\n",
      "股票价格为：15.8\n"
     ]
    }
   ],
   "source": [
    "class stock(object):\n",
    "    def __init__(self,code,price):\n",
    "        self.code=code\n",
    "        self.price=price\n",
    "    #定义打印属性的函数\n",
    "    def print_attr(self):\n",
    "        print(f'股票代码为：{self.code}')\n",
    "        print(f'股票价格为：{self.price}')\n",
    "#使用“实例.方法”，即“实例名称.函数名()”的方式来调用\n",
    "s1=stock('000001.SZ',15.8)\n",
    "s1.print_attr()"
   ]
  },
  {
   "cell_type": "markdown",
   "metadata": {},
   "source": [
    "与从外部直接访问属性的设计相比，把方法封装在类中的好处是可以赋予方法一些行为规范。比如，若stock类需要修改code值的功能，则可以在类的内部增加一个set_code()的方法，且在定义该方法时，规定传入的值必须为字符串类型，否则报错。"
   ]
  },
  {
   "cell_type": "code",
   "execution_count": 13,
   "metadata": {},
   "outputs": [
    {
     "name": "stdout",
     "output_type": "stream",
     "text": [
      "错误，输入参数必须为字符型\n",
      "('600000.SH', 15.8)\n"
     ]
    }
   ],
   "source": [
    "class stock(object):\n",
    "    def __init__(self,code,price):\n",
    "        self.__code=code\n",
    "        self.__price=price\n",
    "    def get_attr(self):\n",
    "        return(self.__code,self.__price)\n",
    "    def set_code(self,codevalue):\n",
    "        if type(codevalue)!=str:\n",
    "            return(\"错误，输入参数必须为字符型\")\n",
    "        self.__code=codevalue\n",
    "s1=stock('000001.SZ',15.8)\n",
    "print(s1.set_code(60000))\n",
    "#重新定义是s1的代码\n",
    "s1.set_code('600000.SH')\n",
    "print(s1.get_attr())"
   ]
  },
  {
   "cell_type": "markdown",
   "metadata": {},
   "source": [
    "继承是充分利用已有的类功能，在其基础上进行扩展和定义新的类。继承概念的实现方式主要有2类：实现继承、接口继承。实现继承是指使用基类的属性和方法而无需额外编码的能力。接口继承是指仅使用属性和方法的名称、但是子类必须提供实现的能力(子类重构父类方法)。在使用python编写量化回测系统时经常会用到class类的继承功能。"
   ]
  },
  {
   "cell_type": "code",
   "execution_count": 14,
   "metadata": {},
   "outputs": [
    {
     "name": "stdout",
     "output_type": "stream",
     "text": [
      "策略模块的功能是生成“多”或“空”的交易信号\n"
     ]
    }
   ],
   "source": [
    "#实现继承\n",
    "class Strategy(object):\n",
    "    def print_info(self):\n",
    "        print('策略模块的功能是生成“多”或“空”的交易信号')\n",
    "class my_strategy(Strategy):\n",
    "    pass\n",
    "ss=my_strategy()\n",
    "ss.print_info()"
   ]
  },
  {
   "cell_type": "markdown",
   "metadata": {},
   "source": [
    "继承有什么好处？最大的好处是子类获得了父类的全部功能。由于Strategy实现了print_info()方法，因此，my_strategy作为它的子类，就自动拥有了print_info()方法。"
   ]
  },
  {
   "cell_type": "code",
   "execution_count": 17,
   "metadata": {},
   "outputs": [
    {
     "ename": "NameError",
     "evalue": "name 'ss2' is not defined",
     "output_type": "error",
     "traceback": [
      "\u001b[0;31m---------------------------------------------------------------------------\u001b[0m",
      "\u001b[0;31mNameError\u001b[0m                                 Traceback (most recent call last)",
      "\u001b[0;32m<ipython-input-17-428065f7651f>\u001b[0m in \u001b[0;36m<module>\u001b[0;34m\u001b[0m\n\u001b[1;32m     16\u001b[0m     \u001b[0;32mdef\u001b[0m \u001b[0mgenerate_signals\u001b[0m\u001b[0;34m(\u001b[0m\u001b[0mself\u001b[0m\u001b[0;34m)\u001b[0m\u001b[0;34m:\u001b[0m\u001b[0;34m\u001b[0m\u001b[0;34m\u001b[0m\u001b[0m\n\u001b[1;32m     17\u001b[0m         \u001b[0;32mpass\u001b[0m\u001b[0;34m\u001b[0m\u001b[0;34m\u001b[0m\u001b[0m\n\u001b[0;32m---> 18\u001b[0;31m \u001b[0mss2\u001b[0m\u001b[0;34m.\u001b[0m\u001b[0mgenerate_signals\u001b[0m\u001b[0;34m(\u001b[0m\u001b[0;34m)\u001b[0m\u001b[0;34m\u001b[0m\u001b[0;34m\u001b[0m\u001b[0m\n\u001b[0m",
      "\u001b[0;31mNameError\u001b[0m: name 'ss2' is not defined"
     ]
    }
   ],
   "source": [
    "#接口继承\n",
    "#这里需要先引入一个抽象模块abc\n",
    "from abc import ABCMeta, abstractmethod\n",
    "#python中使用@表示装饰器的意思，具体可以参照python装饰器的相关教程\n",
    "class Strategy(object):\n",
    "    \"\"\"Strategy是一个抽象基类\"\"\"\n",
    "    # abc.ABCMeta是实现抽象类的一个基础类\n",
    "    __metaclass__ = ABCMeta\n",
    "    #子类必须有这个方法，否则报错\n",
    "    @abstractmethod  # 定义抽象方法，无需实现功能\n",
    "    def generate_signals(self):\n",
    "        \"\"\"输入数据产生多空的交易信号\"\"\"\n",
    "        raise NotImplementedError(\"应包含方法：generate_signals()!\")\n",
    "#定义子类\n",
    "class my_strategy2(Strategy):\n",
    "    def generate_signals(self):\n",
    "        pass\n",
    "ss2.generate_signals()"
   ]
  },
  {
   "cell_type": "markdown",
   "metadata": {},
   "source": [
    "继承可以把父类的所有功能都直接拿过来，这样就不必重零做起，子类只需要新增自己特有的方法，也可以把父类不适合的方法覆盖重写；有了继承，才能有多态。多态的意思是，当子类（strategy2）与父类(Strategy）具有相同的方法（print_info()）时，在实例子类的时候会自动调用子类的该方法（而不是父类的方法）。"
   ]
  },
  {
   "cell_type": "code",
   "execution_count": 18,
   "metadata": {},
   "outputs": [
    {
     "name": "stdout",
     "output_type": "stream",
     "text": [
      "策略模块的功能是生成“多”或“空”的交易信号\n",
      "这是个人的交易策略\n"
     ]
    }
   ],
   "source": [
    "class Strategy(object):\n",
    "    def print_info(self):\n",
    "        print('策略模块的功能是生成“多”或“空”的交易信号')\n",
    "#继承        \n",
    "class strategy1(Strategy):\n",
    "    pass\n",
    "#多态        \n",
    "class strategy2(Strategy):\n",
    "    def print_info(self):\n",
    "        print('这是个人的交易策略')\n",
    "#实例化\n",
    "strategy1().print_info()\n",
    "strategy2().print_info()"
   ]
  },
  {
   "cell_type": "markdown",
   "metadata": {},
   "source": [
    "本文主要介绍了面向对象编程的基础知识和股票数据管理应用实例。\n",
    "通常我们会以各种数据信息来刻画描述一个对象，而这个对象包含某些属性或特征。比如，将某只股票视为一个对象，那么该股票对象包含的信息可能有股票代码、公司名称、所属行业、收盘价等。这些用以描述对象特征的数据信息称为对象的属性（Attribute）；而存取属性的函数则称为方法（Method），是该对象与外界沟通的接口。具有相同属性与方法的对象构成了一个类别（Class）。换句话说，类是一种将对象抽象化而形成的概念，而对象则是类具体实现的例子（实例）。以对象为基础的编程思想具有封装、继承和多态三大特征，在构建量化交易系统中发挥了非常重要的作用。后续推文将介绍使用面向对象编程的量化策略回测。"
   ]
  },
  {
   "cell_type": "code",
   "execution_count": null,
   "metadata": {},
   "outputs": [],
   "source": []
  },
  {
   "cell_type": "code",
   "execution_count": null,
   "metadata": {},
   "outputs": [],
   "source": []
  },
  {
   "cell_type": "code",
   "execution_count": null,
   "metadata": {},
   "outputs": [],
   "source": []
  },
  {
   "cell_type": "code",
   "execution_count": null,
   "metadata": {},
   "outputs": [],
   "source": []
  }
 ],
 "metadata": {
  "hide_input": false,
  "kernelspec": {
   "display_name": "Python 3",
   "language": "python",
   "name": "python3"
  },
  "language_info": {
   "codemirror_mode": {
    "name": "ipython",
    "version": 3
   },
   "file_extension": ".py",
   "mimetype": "text/x-python",
   "name": "python",
   "nbconvert_exporter": "python",
   "pygments_lexer": "ipython3",
   "version": "3.7.3"
  },
  "toc": {
   "base_numbering": 1,
   "nav_menu": {},
   "number_sections": true,
   "sideBar": true,
   "skip_h1_title": false,
   "title_cell": "Table of Contents",
   "title_sidebar": "Contents",
   "toc_cell": false,
   "toc_position": {
    "height": "calc(100% - 180px)",
    "left": "10px",
    "top": "150px",
    "width": "167px"
   },
   "toc_section_display": true,
   "toc_window_display": true
  },
  "varInspector": {
   "cols": {
    "lenName": 16,
    "lenType": 16,
    "lenVar": 40
   },
   "kernels_config": {
    "python": {
     "delete_cmd_postfix": "",
     "delete_cmd_prefix": "del ",
     "library": "var_list.py",
     "varRefreshCmd": "print(var_dic_list())"
    },
    "r": {
     "delete_cmd_postfix": ") ",
     "delete_cmd_prefix": "rm(",
     "library": "var_list.r",
     "varRefreshCmd": "cat(var_dic_list()) "
    }
   },
   "types_to_exclude": [
    "module",
    "function",
    "builtin_function_or_method",
    "instance",
    "_Feature"
   ],
   "window_display": false
  }
 },
 "nbformat": 4,
 "nbformat_minor": 4
}
