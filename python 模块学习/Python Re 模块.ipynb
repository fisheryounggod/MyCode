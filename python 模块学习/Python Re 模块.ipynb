{
 "cells": [
  {
   "cell_type": "markdown",
   "metadata": {},
   "source": [
    "# re模块下的函数"
   ]
  },
  {
   "cell_type": "markdown",
   "metadata": {},
   "source": [
    "## compile(pattern):创建模式对象"
   ]
  },
  {
   "cell_type": "markdown",
   "metadata": {},
   "source": [
    "事先定义一个compile可以简化代码量, 同时compile中也可以使用修饰符r.S等."
   ]
  },
  {
   "cell_type": "code",
   "execution_count": 20,
   "metadata": {},
   "outputs": [
    {
     "name": "stdout",
     "output_type": "stream",
     "text": [
      "<re.Match object; span=(2, 3), match='A'>\n"
     ]
    }
   ],
   "source": [
    "import re\n",
    "pat = re.compile('A')\n",
    "m = pat.search('CBA')\n",
    "print(m)\n",
    "\n",
    "m = pat.search(\"CBD\")\n",
    "print(m) #没有匹配到，返回None（False）"
   ]
  },
  {
   "cell_type": "markdown",
   "metadata": {},
   "source": [
    "## search(pattern,string):在字符串中寻找模式"
   ]
  },
  {
   "cell_type": "code",
   "execution_count": 60,
   "metadata": {},
   "outputs": [
    {
     "data": {
      "text/plain": [
       "<re.Match object; span=(3, 4), match='a'>"
      ]
     },
     "execution_count": 60,
     "metadata": {},
     "output_type": "execute_result"
    }
   ],
   "source": [
    "re.search('a','ASDasd')"
   ]
  },
  {
   "cell_type": "markdown",
   "metadata": {},
   "source": [
    "## split(pattern,string)：根据模式分割字符串,返回列表"
   ]
  },
  {
   "cell_type": "code",
   "execution_count": 40,
   "metadata": {},
   "outputs": [
    {
     "data": {
      "text/plain": [
       "['\"a', 's', 'd', 'asd\"']"
      ]
     },
     "execution_count": 40,
     "metadata": {},
     "output_type": "execute_result"
    }
   ],
   "source": [
    "re.split(',','\"a,s,d,asd\"')"
   ]
  },
  {
   "cell_type": "markdown",
   "metadata": {},
   "source": [
    "## match(pattern,string):在字符串开始处匹配模式"
   ]
  },
  {
   "cell_type": "code",
   "execution_count": 39,
   "metadata": {},
   "outputs": [
    {
     "name": "stdout",
     "output_type": "stream",
     "text": [
      "34\n",
      "<re.Match object; span=(0, 13), match='The 123456 is'>\n",
      "The 123456 is\n",
      "(0, 13)\n"
     ]
    }
   ],
   "source": [
    "import re\n",
    "\n",
    "content = 'The 123456 is my one phone number.'\n",
    "print(len(content)) #字符串长度\n",
    "result = re.match(r'^The\\s\\d+\\s\\w*', content) #使用match匹配, 第一个参数为正则表达式, 第二个为要匹配的字符串\n",
    "print(result)\n",
    "print(result.group()) #输出匹配内容\n",
    "print(result.span()) #输出匹配内容的位置索引"
   ]
  },
  {
   "cell_type": "markdown",
   "metadata": {},
   "source": [
    "## 匹配目标"
   ]
  },
  {
   "cell_type": "markdown",
   "metadata": {},
   "source": [
    "在正则表达式中用()括起来可以使用group()输出, 若有n个(), 那么可以表示为group(n), 输出第n个括号匹配的内容."
   ]
  },
  {
   "cell_type": "code",
   "execution_count": 41,
   "metadata": {},
   "outputs": [
    {
     "name": "stdout",
     "output_type": "stream",
     "text": [
      "34\n",
      "<re.Match object; span=(0, 13), match='The 123456 is'>\n",
      "The 123456 is\n",
      "123456\n",
      "(0, 13)\n"
     ]
    }
   ],
   "source": [
    "import re\n",
    "\n",
    "content = 'The 123456 is my one phone number.'\n",
    "print(len(content)) #字符串长度\n",
    "result = re.match(r'^The\\s(\\d+)\\sis', content) #使用match匹配, 第一个参数为正则表达式, 第二个为要匹配的字符串\n",
    "print(result)\n",
    "print(result.group()) #输出匹配内容\n",
    "print(result.group(1)) #输出第一个被()包裹的内容\n",
    "print(result.span()) #输出匹配内容的位置索引\n"
   ]
  },
  {
   "cell_type": "markdown",
   "metadata": {},
   "source": [
    "## 通用匹配"
   ]
  },
  {
   "cell_type": "code",
   "execution_count": 42,
   "metadata": {},
   "outputs": [
    {
     "name": "stdout",
     "output_type": "stream",
     "text": [
      "<re.Match object; span=(0, 34), match='The 123456 is my one phone number.'>\n",
      "The 123456 is my one phone number.\n",
      "(0, 34)\n"
     ]
    }
   ],
   "source": [
    "import re\n",
    "\n",
    "content = 'The 123456 is my one phone number.'\n",
    "result = re.match(r'^The.*number.$', content) #使用match匹配, 第一个参数为正则表达式, 第二个为要匹配的字符串\n",
    "print(result)\n",
    "print(result.group()) #输出匹配内容\n",
    "print(result.span()) #输出匹配内容的位置索引"
   ]
  },
  {
   "cell_type": "markdown",
   "metadata": {},
   "source": [
    "## 贪婪与非贪婪"
   ]
  },
  {
   "cell_type": "code",
   "execution_count": 43,
   "metadata": {},
   "outputs": [
    {
     "name": "stdout",
     "output_type": "stream",
     "text": [
      "贪婪匹配:\n",
      "The 123456 is my one phone number.\n",
      "result = 6\n",
      "--------------------\n",
      "非贪婪匹配:\n",
      "The 123456 is my one phone number.\n",
      "result = 123456\n"
     ]
    }
   ],
   "source": [
    "import re\n",
    "\n",
    "content = 'The 123456 is my one phone number.'\n",
    "print('贪婪匹配:')\n",
    "result = re.match(r'^The.*(\\d+).*', content) #使用match匹配, 第一个参数为正则表达式, 第二个为要匹配的字符串\n",
    "print(result.group()) #输出匹配内容\n",
    "print('result = %s'%result.group(1)) #输出第一个被()包裹的内容\n",
    "print('-'*20)\n",
    "print('非贪婪匹配:')\n",
    "result = re.match(r'^The.*?(\\d+).*', content) \n",
    "print(result.group())\n",
    "print('result = %s'%result.group(1))"
   ]
  },
  {
   "cell_type": "markdown",
   "metadata": {},
   "source": [
    "## 转义匹配"
   ]
  },
  {
   "cell_type": "code",
   "execution_count": 51,
   "metadata": {},
   "outputs": [
    {
     "name": "stdout",
     "output_type": "stream",
     "text": [
      "result = None\n",
      "(百度)www.baidu.com\n"
     ]
    }
   ],
   "source": [
    "import re\n",
    "\n",
    "content = '(百度)www.baidu.com'\n",
    "result = re.match('(百度)www.baidu.com', content)\n",
    "\n",
    "result2 = re.match('\\(百度\\)www\\.baidu\\.com', content)\n",
    "if result:\n",
    "    print(result.group())\n",
    "else:\n",
    "    print('result = None')\n",
    "if result2:\n",
    "    print(result2.group())\n",
    "else:\n",
    "    print('result2 = None')"
   ]
  },
  {
   "cell_type": "markdown",
   "metadata": {},
   "source": [
    "## findall()方法"
   ]
  },
  {
   "cell_type": "markdown",
   "metadata": {},
   "source": [
    "match()和search()都是返回匹配到的第一个内容就结束匹配, findall()是返回所有符合匹配规则的内容"
   ]
  },
  {
   "cell_type": "code",
   "execution_count": 52,
   "metadata": {},
   "outputs": [
    {
     "name": "stdout",
     "output_type": "stream",
     "text": [
      "[('/2.mp3', '任贤齐', '沧海一声笑'), ('/3.mp3', '齐秦', '往事随风'), ('/4.mp3', 'beyond', '光辉岁月'), ('/5.mp3', '程慧玲', '记事本'), ('/6.mp3', '邓丽君', '但愿人长久')]\n",
      "/2.mp3 任贤齐 沧海一声笑\n",
      "/3.mp3 齐秦 往事随风\n",
      "/4.mp3 beyond 光辉岁月\n",
      "/5.mp3 程慧玲 记事本\n",
      "/6.mp3 邓丽君 但愿人长久\n"
     ]
    }
   ],
   "source": [
    "import re\n",
    "\n",
    "html = '''\n",
    "<div id=\"songs-list\">\n",
    "<h2 class=\"title\">歌单</h2>\n",
    "<p class=\"introduction\">歌单列表</p>\n",
    "<ul id=\"list\" class=\"list-group\">\n",
    "<li data-view=\"2\">一路上有你</li>\n",
    "<li data-view=\"7\">\n",
    "<a href=\"/2.mp3\" singer=\"任贤齐\">沧海一声笑</a>\n",
    "</li>\n",
    "<li data-view=\"4\" class=\"active\">\n",
    "<a href=\"/3.mp3\" singer=\"齐秦\">往事随风</a>\n",
    "</li>\n",
    "<li data-view=\"6\"><a href=\"/4.mp3\" singer=\"beyond\">光辉岁月</a></li>\n",
    "<li data-view=\"5\"><a href=\"/5.mp3\" singer=\"程慧玲\">记事本</a></li>\n",
    "<li data-veiw=\"5\">\n",
    "<a href=\"/6.mp3\" singer=\"邓丽君\">但愿人长久</a>\n",
    "</li>\n",
    "</ul>\n",
    "</div>\n",
    "'''\n",
    "\n",
    "result = re.findall('<li.*?href=\"(.*?)\".*?singer=\"(.*?)\">(.*?)</a>', html, re.S)\n",
    "if result:\n",
    "    print(result)\n",
    "    for res in result:\n",
    "        print(res[0], res[1], res[2])\n"
   ]
  },
  {
   "cell_type": "markdown",
   "metadata": {},
   "source": [
    "## sub()方法, 去除匹配的字符"
   ]
  },
  {
   "cell_type": "code",
   "execution_count": 53,
   "metadata": {},
   "outputs": [
    {
     "name": "stdout",
     "output_type": "stream",
     "text": [
      "abcdefg\n"
     ]
    }
   ],
   "source": [
    "import re\n",
    "\n",
    "content = '54abc59de335f7778888g'\n",
    "content = re.sub('\\d+', '', content)\n",
    "print(content)"
   ]
  },
  {
   "cell_type": "markdown",
   "metadata": {},
   "source": [
    "# 例子"
   ]
  },
  {
   "cell_type": "markdown",
   "metadata": {},
   "source": [
    "## 例子1：验证输入用户名和QQ号是否有效并给出对应的提示信息。"
   ]
  },
  {
   "cell_type": "code",
   "execution_count": 54,
   "metadata": {},
   "outputs": [
    {
     "name": "stdout",
     "output_type": "stream",
     "text": [
      "请输入用户名: zuifanchen\n",
      "请输入QQ号: 1632165739\n",
      "你输入的信息是有效的!\n"
     ]
    }
   ],
   "source": [
    "\"\"\"\n",
    "验证输入用户名和QQ号是否有效并给出对应的提示信息\n",
    "\n",
    "要求：用户名必须由字母、数字或下划线构成且长度在6~20个字符之间，QQ号是5~12的数字且首位不能为0\n",
    "\"\"\"\n",
    "import re\n",
    "\n",
    "\n",
    "def main():\n",
    "    username = input('请输入用户名: ')\n",
    "    qq = input('请输入QQ号: ')\n",
    "    # match函数的第一个参数是正则表达式字符串或正则表达式对象\n",
    "    # 第二个参数是要跟正则表达式做匹配的字符串对象\n",
    "    m1 = re.match(r'^[0-9a-zA-Z_]{6,20}$', username)\n",
    "    if not m1:\n",
    "        print('请输入有效的用户名.')\n",
    "    m2 = re.match(r'^[1-9]\\d{4,11}$', qq)\n",
    "    if not m2:\n",
    "        print('请输入有效的QQ号.')\n",
    "    if m1 and m2:\n",
    "        print('你输入的信息是有效的!')\n",
    "\n",
    "\n",
    "if __name__ == '__main__':\n",
    "    main()"
   ]
  },
  {
   "cell_type": "markdown",
   "metadata": {},
   "source": [
    "## 例子2：从一段文字中提取出国内手机号码。"
   ]
  },
  {
   "cell_type": "code",
   "execution_count": 55,
   "metadata": {},
   "outputs": [
    {
     "name": "stdout",
     "output_type": "stream",
     "text": [
      "['13512346789', '15600998765', '15600998765']\n",
      "--------华丽的分隔线--------\n",
      "13512346789\n",
      "15600998765\n",
      "15600998765\n",
      "--------华丽的分隔线--------\n",
      "13512346789\n",
      "15600998765\n",
      "15600998765\n"
     ]
    }
   ],
   "source": [
    "import re\n",
    "\n",
    "\n",
    "def main():\n",
    "    # 创建正则表达式对象 使用了前瞻和回顾来保证手机号前后不应该出现数字\n",
    "    pattern = re.compile(r'(?<=\\D)1[34578]\\d{9}(?=\\D)')\n",
    "    sentence = '''\n",
    "    重要的事情说8130123456789遍，我的手机号是13512346789这个靓号，\n",
    "    不是15600998765，也是110或119，王大锤的手机号才是15600998765。\n",
    "    '''\n",
    "    # 查找所有匹配并保存到一个列表中\n",
    "    mylist = re.findall(pattern, sentence)\n",
    "    print(mylist)\n",
    "    print('--------华丽的分隔线--------')\n",
    "    # 通过迭代器取出匹配对象并获得匹配的内容\n",
    "    for temp in pattern.finditer(sentence):\n",
    "        print(temp.group())\n",
    "    print('--------华丽的分隔线--------')\n",
    "    # 通过search函数指定搜索位置找出所有匹配\n",
    "    m = pattern.search(sentence)\n",
    "    while m:\n",
    "        print(m.group())\n",
    "        m = pattern.search(sentence, m.end())\n",
    "\n",
    "\n",
    "if __name__ == '__main__':\n",
    "    main()"
   ]
  },
  {
   "cell_type": "markdown",
   "metadata": {},
   "source": [
    "## 例子3：替换字符串中的不良内容"
   ]
  },
  {
   "cell_type": "code",
   "execution_count": 56,
   "metadata": {},
   "outputs": [
    {
     "name": "stdout",
     "output_type": "stream",
     "text": [
      "你丫是*吗? 我*你大爷的. * you.\n"
     ]
    }
   ],
   "source": [
    "import re\n",
    "\n",
    "\n",
    "def main():\n",
    "    sentence = '你丫是傻叉吗? 我操你大爷的. Fuck you.'\n",
    "    purified = re.sub('[操肏艹]|fuck|shit|傻[比屄逼叉缺吊屌]|煞笔',\n",
    "                      '*', sentence, flags=re.IGNORECASE)\n",
    "    print(purified)  # 你丫是*吗? 我*你大爷的. * you.\n",
    "\n",
    "\n",
    "if __name__ == '__main__':\n",
    "    main()"
   ]
  },
  {
   "cell_type": "markdown",
   "metadata": {},
   "source": [
    "## 例子4：拆分长字符串"
   ]
  },
  {
   "cell_type": "code",
   "execution_count": 59,
   "metadata": {},
   "outputs": [
    {
     "name": "stdout",
     "output_type": "stream",
     "text": [
      "['窗前明月光', '疑是地上霜', '举头望明月', '低头思故乡']\n"
     ]
    }
   ],
   "source": [
    "import re\n",
    "\n",
    "\n",
    "def main():\n",
    "    poem = '窗前明月光，疑是地上霜。举头望明月，低头思故乡。'\n",
    "    sentence_list = re.split(r'[，。, .]', poem)\n",
    "    while '' in sentence_list:\n",
    "        sentence_list.remove('')\n",
    "    print(sentence_list)  # ['窗前明月光', '疑是地上霜', '举头望明月', '低头思故乡']\n",
    "\n",
    "\n",
    "if __name__ == '__main__':\n",
    "    main()"
   ]
  },
  {
   "cell_type": "code",
   "execution_count": null,
   "metadata": {},
   "outputs": [],
   "source": []
  }
 ],
 "metadata": {
  "hide_input": false,
  "kernelspec": {
   "display_name": "Python 3",
   "language": "python",
   "name": "python3"
  },
  "language_info": {
   "codemirror_mode": {
    "name": "ipython",
    "version": 3
   },
   "file_extension": ".py",
   "mimetype": "text/x-python",
   "name": "python",
   "nbconvert_exporter": "python",
   "pygments_lexer": "ipython3",
   "version": "3.7.3"
  },
  "toc": {
   "base_numbering": 1,
   "nav_menu": {},
   "number_sections": true,
   "sideBar": true,
   "skip_h1_title": false,
   "title_cell": "Table of Contents",
   "title_sidebar": "Contents",
   "toc_cell": false,
   "toc_position": {},
   "toc_section_display": true,
   "toc_window_display": false
  },
  "varInspector": {
   "cols": {
    "lenName": 16,
    "lenType": 16,
    "lenVar": 40
   },
   "kernels_config": {
    "python": {
     "delete_cmd_postfix": "",
     "delete_cmd_prefix": "del ",
     "library": "var_list.py",
     "varRefreshCmd": "print(var_dic_list())"
    },
    "r": {
     "delete_cmd_postfix": ") ",
     "delete_cmd_prefix": "rm(",
     "library": "var_list.r",
     "varRefreshCmd": "cat(var_dic_list()) "
    }
   },
   "types_to_exclude": [
    "module",
    "function",
    "builtin_function_or_method",
    "instance",
    "_Feature"
   ],
   "window_display": false
  }
 },
 "nbformat": 4,
 "nbformat_minor": 4
}
