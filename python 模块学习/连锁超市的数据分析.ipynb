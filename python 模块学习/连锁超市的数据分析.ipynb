{
 "cells": [
  {
   "cell_type": "code",
   "execution_count": 1,
   "metadata": {},
   "outputs": [
    {
     "data": {
      "application/javascript": [
       "\n",
       "        if (window._pyforest_update_imports_cell) { window._pyforest_update_imports_cell('import pandas as pd'); }\n",
       "    "
      ],
      "text/plain": [
       "<IPython.core.display.Javascript object>"
      ]
     },
     "metadata": {},
     "output_type": "display_data"
    },
    {
     "data": {
      "text/html": [
       "<div>\n",
       "<style scoped>\n",
       "    .dataframe tbody tr th:only-of-type {\n",
       "        vertical-align: middle;\n",
       "    }\n",
       "\n",
       "    .dataframe tbody tr th {\n",
       "        vertical-align: top;\n",
       "    }\n",
       "\n",
       "    .dataframe thead th {\n",
       "        text-align: right;\n",
       "    }\n",
       "</style>\n",
       "<table border=\"1\" class=\"dataframe\">\n",
       "  <thead>\n",
       "    <tr style=\"text-align: right;\">\n",
       "      <th></th>\n",
       "      <th>商品ID</th>\n",
       "      <th>类别ID</th>\n",
       "      <th>门店编号</th>\n",
       "      <th>单价</th>\n",
       "      <th>销量</th>\n",
       "      <th>成交时间</th>\n",
       "      <th>订单ID</th>\n",
       "    </tr>\n",
       "  </thead>\n",
       "  <tbody>\n",
       "    <tr>\n",
       "      <th>0</th>\n",
       "      <td>30006206</td>\n",
       "      <td>915000003</td>\n",
       "      <td>CDNL</td>\n",
       "      <td>25.23</td>\n",
       "      <td>0.328</td>\n",
       "      <td>2017-01-03 09:56:00</td>\n",
       "      <td>20170103CDLG000210052759</td>\n",
       "    </tr>\n",
       "    <tr>\n",
       "      <th>1</th>\n",
       "      <td>30163281</td>\n",
       "      <td>914010000</td>\n",
       "      <td>CDNL</td>\n",
       "      <td>2.00</td>\n",
       "      <td>2.000</td>\n",
       "      <td>2017-01-03 09:56:00</td>\n",
       "      <td>20170103CDLG000210052759</td>\n",
       "    </tr>\n",
       "    <tr>\n",
       "      <th>2</th>\n",
       "      <td>30200518</td>\n",
       "      <td>922000000</td>\n",
       "      <td>CDNL</td>\n",
       "      <td>19.62</td>\n",
       "      <td>0.230</td>\n",
       "      <td>2017-01-03 09:56:00</td>\n",
       "      <td>20170103CDLG000210052759</td>\n",
       "    </tr>\n",
       "    <tr>\n",
       "      <th>3</th>\n",
       "      <td>29989105</td>\n",
       "      <td>922000000</td>\n",
       "      <td>CDNL</td>\n",
       "      <td>2.80</td>\n",
       "      <td>2.044</td>\n",
       "      <td>2017-01-03 09:56:00</td>\n",
       "      <td>20170103CDLG000210052759</td>\n",
       "    </tr>\n",
       "    <tr>\n",
       "      <th>4</th>\n",
       "      <td>30179558</td>\n",
       "      <td>915000100</td>\n",
       "      <td>CDNL</td>\n",
       "      <td>47.41</td>\n",
       "      <td>0.226</td>\n",
       "      <td>2017-01-03 09:56:00</td>\n",
       "      <td>20170103CDLG000210052759</td>\n",
       "    </tr>\n",
       "    <tr>\n",
       "      <th>...</th>\n",
       "      <td>...</td>\n",
       "      <td>...</td>\n",
       "      <td>...</td>\n",
       "      <td>...</td>\n",
       "      <td>...</td>\n",
       "      <td>...</td>\n",
       "      <td>...</td>\n",
       "    </tr>\n",
       "    <tr>\n",
       "      <th>3473</th>\n",
       "      <td>30031870</td>\n",
       "      <td>915030401</td>\n",
       "      <td>CDXL</td>\n",
       "      <td>6.58</td>\n",
       "      <td>0.862</td>\n",
       "      <td>2017-01-03 10:59:00</td>\n",
       "      <td>20170103CDLG000510025147</td>\n",
       "    </tr>\n",
       "    <tr>\n",
       "      <th>3474</th>\n",
       "      <td>30008276</td>\n",
       "      <td>911010501</td>\n",
       "      <td>CDXL</td>\n",
       "      <td>15.42</td>\n",
       "      <td>0.481</td>\n",
       "      <td>2017-01-03 11:00:00</td>\n",
       "      <td>20170103CDLG000510025148</td>\n",
       "    </tr>\n",
       "    <tr>\n",
       "      <th>3475</th>\n",
       "      <td>30033854</td>\n",
       "      <td>910000000</td>\n",
       "      <td>CDXL</td>\n",
       "      <td>9.62</td>\n",
       "      <td>1.000</td>\n",
       "      <td>2017-01-03 11:17:00</td>\n",
       "      <td>20170103CDLG000510025149</td>\n",
       "    </tr>\n",
       "    <tr>\n",
       "      <th>3476</th>\n",
       "      <td>30206214</td>\n",
       "      <td>910000000</td>\n",
       "      <td>CDXL</td>\n",
       "      <td>15.62</td>\n",
       "      <td>1.000</td>\n",
       "      <td>2017-01-03 11:40:00</td>\n",
       "      <td>20170103CDLG000510025150</td>\n",
       "    </tr>\n",
       "    <tr>\n",
       "      <th>3477</th>\n",
       "      <td>30129510</td>\n",
       "      <td>925090000</td>\n",
       "      <td>CDXL</td>\n",
       "      <td>23.21</td>\n",
       "      <td>0.312</td>\n",
       "      <td>2017-01-03 11:50:00</td>\n",
       "      <td>20170103CDLG000510025151</td>\n",
       "    </tr>\n",
       "  </tbody>\n",
       "</table>\n",
       "<p>3478 rows × 7 columns</p>\n",
       "</div>"
      ],
      "text/plain": [
       "          商品ID       类别ID  门店编号     单价     销量                成交时间  \\\n",
       "0     30006206  915000003  CDNL  25.23  0.328 2017-01-03 09:56:00   \n",
       "1     30163281  914010000  CDNL   2.00  2.000 2017-01-03 09:56:00   \n",
       "2     30200518  922000000  CDNL  19.62  0.230 2017-01-03 09:56:00   \n",
       "3     29989105  922000000  CDNL   2.80  2.044 2017-01-03 09:56:00   \n",
       "4     30179558  915000100  CDNL  47.41  0.226 2017-01-03 09:56:00   \n",
       "...        ...        ...   ...    ...    ...                 ...   \n",
       "3473  30031870  915030401  CDXL   6.58  0.862 2017-01-03 10:59:00   \n",
       "3474  30008276  911010501  CDXL  15.42  0.481 2017-01-03 11:00:00   \n",
       "3475  30033854  910000000  CDXL   9.62  1.000 2017-01-03 11:17:00   \n",
       "3476  30206214  910000000  CDXL  15.62  1.000 2017-01-03 11:40:00   \n",
       "3477  30129510  925090000  CDXL  23.21  0.312 2017-01-03 11:50:00   \n",
       "\n",
       "                          订单ID  \n",
       "0     20170103CDLG000210052759  \n",
       "1     20170103CDLG000210052759  \n",
       "2     20170103CDLG000210052759  \n",
       "3     20170103CDLG000210052759  \n",
       "4     20170103CDLG000210052759  \n",
       "...                        ...  \n",
       "3473  20170103CDLG000510025147  \n",
       "3474  20170103CDLG000510025148  \n",
       "3475  20170103CDLG000510025149  \n",
       "3476  20170103CDLG000510025150  \n",
       "3477  20170103CDLG000510025151  \n",
       "\n",
       "[3478 rows x 7 columns]"
      ]
     },
     "execution_count": 1,
     "metadata": {},
     "output_type": "execute_result"
    }
   ],
   "source": [
    "df =pd.read_csv('./Excel-Python-DA/order-14.3.csv', parse_dates=['成交时间'], encoding='gbk')\n",
    "df"
   ]
  },
  {
   "cell_type": "markdown",
   "metadata": {},
   "source": [
    "### 哪些类别的商品比较畅销"
   ]
  },
  {
   "cell_type": "code",
   "execution_count": 5,
   "metadata": {
    "scrolled": true
   },
   "outputs": [
    {
     "data": {
      "text/html": [
       "<div>\n",
       "<style scoped>\n",
       "    .dataframe tbody tr th:only-of-type {\n",
       "        vertical-align: middle;\n",
       "    }\n",
       "\n",
       "    .dataframe tbody tr th {\n",
       "        vertical-align: top;\n",
       "    }\n",
       "\n",
       "    .dataframe thead th {\n",
       "        text-align: right;\n",
       "    }\n",
       "</style>\n",
       "<table border=\"1\" class=\"dataframe\">\n",
       "  <thead>\n",
       "    <tr style=\"text-align: right;\">\n",
       "      <th></th>\n",
       "      <th>类别ID</th>\n",
       "      <th>销量</th>\n",
       "    </tr>\n",
       "  </thead>\n",
       "  <tbody>\n",
       "    <tr>\n",
       "      <th>0</th>\n",
       "      <td>922000003</td>\n",
       "      <td>425.328</td>\n",
       "    </tr>\n",
       "    <tr>\n",
       "      <th>1</th>\n",
       "      <td>922000002</td>\n",
       "      <td>206.424</td>\n",
       "    </tr>\n",
       "    <tr>\n",
       "      <th>2</th>\n",
       "      <td>923000006</td>\n",
       "      <td>190.294</td>\n",
       "    </tr>\n",
       "    <tr>\n",
       "      <th>3</th>\n",
       "      <td>915030104</td>\n",
       "      <td>175.059</td>\n",
       "    </tr>\n",
       "    <tr>\n",
       "      <th>4</th>\n",
       "      <td>922000001</td>\n",
       "      <td>121.355</td>\n",
       "    </tr>\n",
       "    <tr>\n",
       "      <th>5</th>\n",
       "      <td>960000000</td>\n",
       "      <td>121.000</td>\n",
       "    </tr>\n",
       "    <tr>\n",
       "      <th>6</th>\n",
       "      <td>920090000</td>\n",
       "      <td>111.565</td>\n",
       "    </tr>\n",
       "    <tr>\n",
       "      <th>7</th>\n",
       "      <td>923000002</td>\n",
       "      <td>91.847</td>\n",
       "    </tr>\n",
       "    <tr>\n",
       "      <th>8</th>\n",
       "      <td>922000000</td>\n",
       "      <td>86.395</td>\n",
       "    </tr>\n",
       "    <tr>\n",
       "      <th>9</th>\n",
       "      <td>923000000</td>\n",
       "      <td>85.845</td>\n",
       "    </tr>\n",
       "  </tbody>\n",
       "</table>\n",
       "</div>"
      ],
      "text/plain": [
       "        类别ID       销量\n",
       "0  922000003  425.328\n",
       "1  922000002  206.424\n",
       "2  923000006  190.294\n",
       "3  915030104  175.059\n",
       "4  922000001  121.355\n",
       "5  960000000  121.000\n",
       "6  920090000  111.565\n",
       "7  923000002   91.847\n",
       "8  922000000   86.395\n",
       "9  923000000   85.845"
      ]
     },
     "execution_count": 5,
     "metadata": {},
     "output_type": "execute_result"
    }
   ],
   "source": [
    "df.groupby('类别ID')['销量'].sum().sort_values(ascending=False).reset_index().head(10)"
   ]
  },
  {
   "cell_type": "markdown",
   "metadata": {},
   "source": [
    "### 哪些商品比较畅销"
   ]
  },
  {
   "cell_type": "code",
   "execution_count": 8,
   "metadata": {},
   "outputs": [
    {
     "data": {
      "application/javascript": [
       "\n",
       "        if (window._pyforest_update_imports_cell) { window._pyforest_update_imports_cell('import pandas as pd'); }\n",
       "    "
      ],
      "text/plain": [
       "<IPython.core.display.Javascript object>"
      ]
     },
     "metadata": {},
     "output_type": "display_data"
    },
    {
     "data": {
      "text/html": [
       "<div>\n",
       "<style scoped>\n",
       "    .dataframe tbody tr th:only-of-type {\n",
       "        vertical-align: middle;\n",
       "    }\n",
       "\n",
       "    .dataframe tbody tr th {\n",
       "        vertical-align: top;\n",
       "    }\n",
       "\n",
       "    .dataframe thead th {\n",
       "        text-align: right;\n",
       "    }\n",
       "</style>\n",
       "<table border=\"1\" class=\"dataframe\">\n",
       "  <thead>\n",
       "    <tr style=\"text-align: right;\">\n",
       "      <th></th>\n",
       "      <th>商品ID</th>\n",
       "      <th>销量</th>\n",
       "    </tr>\n",
       "  </thead>\n",
       "  <tbody>\n",
       "    <tr>\n",
       "      <th>0</th>\n",
       "      <td>29989059</td>\n",
       "      <td>391.549</td>\n",
       "    </tr>\n",
       "    <tr>\n",
       "      <th>1</th>\n",
       "      <td>29989072</td>\n",
       "      <td>102.876</td>\n",
       "    </tr>\n",
       "    <tr>\n",
       "      <th>2</th>\n",
       "      <td>30022232</td>\n",
       "      <td>101.000</td>\n",
       "    </tr>\n",
       "    <tr>\n",
       "      <th>3</th>\n",
       "      <td>30031960</td>\n",
       "      <td>99.998</td>\n",
       "    </tr>\n",
       "    <tr>\n",
       "      <th>4</th>\n",
       "      <td>29989157</td>\n",
       "      <td>72.453</td>\n",
       "    </tr>\n",
       "    <tr>\n",
       "      <th>5</th>\n",
       "      <td>30023041</td>\n",
       "      <td>64.416</td>\n",
       "    </tr>\n",
       "    <tr>\n",
       "      <th>6</th>\n",
       "      <td>30026255</td>\n",
       "      <td>62.375</td>\n",
       "    </tr>\n",
       "    <tr>\n",
       "      <th>7</th>\n",
       "      <td>29989058</td>\n",
       "      <td>56.052</td>\n",
       "    </tr>\n",
       "    <tr>\n",
       "      <th>8</th>\n",
       "      <td>30027007</td>\n",
       "      <td>48.757</td>\n",
       "    </tr>\n",
       "    <tr>\n",
       "      <th>9</th>\n",
       "      <td>30171264</td>\n",
       "      <td>45.000</td>\n",
       "    </tr>\n",
       "  </tbody>\n",
       "</table>\n",
       "</div>"
      ],
      "text/plain": [
       "       商品ID       销量\n",
       "0  29989059  391.549\n",
       "1  29989072  102.876\n",
       "2  30022232  101.000\n",
       "3  30031960   99.998\n",
       "4  29989157   72.453\n",
       "5  30023041   64.416\n",
       "6  30026255   62.375\n",
       "7  29989058   56.052\n",
       "8  30027007   48.757\n",
       "9  30171264   45.000"
      ]
     },
     "execution_count": 8,
     "metadata": {},
     "output_type": "execute_result"
    }
   ],
   "source": [
    "pd.pivot_table(df, index='商品ID', values='销量',\n",
    "               aggfunc=\"sum\").sort_values('销量',ascending=False).reset_index().head(10)"
   ]
  },
  {
   "cell_type": "markdown",
   "metadata": {},
   "source": [
    "### 不同门店的销售额占比"
   ]
  },
  {
   "cell_type": "code",
   "execution_count": 13,
   "metadata": {},
   "outputs": [],
   "source": [
    "df['销售额'] = df['单价'] * df['销量']"
   ]
  },
  {
   "cell_type": "code",
   "execution_count": 14,
   "metadata": {},
   "outputs": [
    {
     "data": {
      "text/plain": [
       "门店编号\n",
       "CDLG    10908.82612\n",
       "CDNL     8059.47867\n",
       "CDXL     9981.76166\n",
       "Name: 销售额, dtype: float64"
      ]
     },
     "execution_count": 14,
     "metadata": {},
     "output_type": "execute_result"
    }
   ],
   "source": [
    "df.groupby('门店编号')['销售额'].sum()"
   ]
  },
  {
   "cell_type": "code",
   "execution_count": 15,
   "metadata": {},
   "outputs": [
    {
     "data": {
      "text/plain": [
       "门店编号\n",
       "CDLG    0.376815\n",
       "CDNL    0.278392\n",
       "CDXL    0.344792\n",
       "Name: 销售额, dtype: float64"
      ]
     },
     "execution_count": 15,
     "metadata": {},
     "output_type": "execute_result"
    }
   ],
   "source": [
    "df.groupby('门店编号')['销售额'].sum()/df.销售额.sum()"
   ]
  },
  {
   "cell_type": "code",
   "execution_count": 16,
   "metadata": {},
   "outputs": [
    {
     "data": {
      "text/plain": [
       "<matplotlib.axes._subplots.AxesSubplot at 0x11a1cb978>"
      ]
     },
     "execution_count": 16,
     "metadata": {},
     "output_type": "execute_result"
    },
    {
     "data": {
      "image/png": "[encoded data removed]",
      "text/plain": [
       "<Figure size 432x288 with 1 Axes>"
      ]
     },
     "metadata": {},
     "output_type": "display_data"
    }
   ],
   "source": [
    "(df.groupby('门店编号')['销售额'].sum()/df.销售额.sum()).plot.pie()"
   ]
  },
  {
   "cell_type": "markdown",
   "metadata": {},
   "source": [
    "### 哪些时间时间段是客流高峰期"
   ]
  },
  {
   "cell_type": "code",
   "execution_count": 17,
   "metadata": {},
   "outputs": [],
   "source": [
    "df['小时'] = df['成交时间'].apply(lambda x:x.strftime('%H'))"
   ]
  },
  {
   "cell_type": "code",
   "execution_count": 18,
   "metadata": {},
   "outputs": [
    {
     "data": {
      "text/html": [
       "<div>\n",
       "<style scoped>\n",
       "    .dataframe tbody tr th:only-of-type {\n",
       "        vertical-align: middle;\n",
       "    }\n",
       "\n",
       "    .dataframe tbody tr th {\n",
       "        vertical-align: top;\n",
       "    }\n",
       "\n",
       "    .dataframe thead th {\n",
       "        text-align: right;\n",
       "    }\n",
       "</style>\n",
       "<table border=\"1\" class=\"dataframe\">\n",
       "  <thead>\n",
       "    <tr style=\"text-align: right;\">\n",
       "      <th></th>\n",
       "      <th>商品ID</th>\n",
       "      <th>类别ID</th>\n",
       "      <th>门店编号</th>\n",
       "      <th>单价</th>\n",
       "      <th>销量</th>\n",
       "      <th>成交时间</th>\n",
       "      <th>订单ID</th>\n",
       "      <th>销售额</th>\n",
       "      <th>小时</th>\n",
       "    </tr>\n",
       "  </thead>\n",
       "  <tbody>\n",
       "    <tr>\n",
       "      <th>0</th>\n",
       "      <td>30006206</td>\n",
       "      <td>915000003</td>\n",
       "      <td>CDNL</td>\n",
       "      <td>25.23</td>\n",
       "      <td>0.328</td>\n",
       "      <td>2017-01-03 09:56:00</td>\n",
       "      <td>20170103CDLG000210052759</td>\n",
       "      <td>8.27544</td>\n",
       "      <td>09</td>\n",
       "    </tr>\n",
       "    <tr>\n",
       "      <th>1</th>\n",
       "      <td>30163281</td>\n",
       "      <td>914010000</td>\n",
       "      <td>CDNL</td>\n",
       "      <td>2.00</td>\n",
       "      <td>2.000</td>\n",
       "      <td>2017-01-03 09:56:00</td>\n",
       "      <td>20170103CDLG000210052759</td>\n",
       "      <td>4.00000</td>\n",
       "      <td>09</td>\n",
       "    </tr>\n",
       "    <tr>\n",
       "      <th>2</th>\n",
       "      <td>30200518</td>\n",
       "      <td>922000000</td>\n",
       "      <td>CDNL</td>\n",
       "      <td>19.62</td>\n",
       "      <td>0.230</td>\n",
       "      <td>2017-01-03 09:56:00</td>\n",
       "      <td>20170103CDLG000210052759</td>\n",
       "      <td>4.51260</td>\n",
       "      <td>09</td>\n",
       "    </tr>\n",
       "    <tr>\n",
       "      <th>3</th>\n",
       "      <td>29989105</td>\n",
       "      <td>922000000</td>\n",
       "      <td>CDNL</td>\n",
       "      <td>2.80</td>\n",
       "      <td>2.044</td>\n",
       "      <td>2017-01-03 09:56:00</td>\n",
       "      <td>20170103CDLG000210052759</td>\n",
       "      <td>5.72320</td>\n",
       "      <td>09</td>\n",
       "    </tr>\n",
       "    <tr>\n",
       "      <th>4</th>\n",
       "      <td>30179558</td>\n",
       "      <td>915000100</td>\n",
       "      <td>CDNL</td>\n",
       "      <td>47.41</td>\n",
       "      <td>0.226</td>\n",
       "      <td>2017-01-03 09:56:00</td>\n",
       "      <td>20170103CDLG000210052759</td>\n",
       "      <td>10.71466</td>\n",
       "      <td>09</td>\n",
       "    </tr>\n",
       "    <tr>\n",
       "      <th>...</th>\n",
       "      <td>...</td>\n",
       "      <td>...</td>\n",
       "      <td>...</td>\n",
       "      <td>...</td>\n",
       "      <td>...</td>\n",
       "      <td>...</td>\n",
       "      <td>...</td>\n",
       "      <td>...</td>\n",
       "      <td>...</td>\n",
       "    </tr>\n",
       "    <tr>\n",
       "      <th>3473</th>\n",
       "      <td>30031870</td>\n",
       "      <td>915030401</td>\n",
       "      <td>CDXL</td>\n",
       "      <td>6.58</td>\n",
       "      <td>0.862</td>\n",
       "      <td>2017-01-03 10:59:00</td>\n",
       "      <td>20170103CDLG000510025147</td>\n",
       "      <td>5.67196</td>\n",
       "      <td>10</td>\n",
       "    </tr>\n",
       "    <tr>\n",
       "      <th>3474</th>\n",
       "      <td>30008276</td>\n",
       "      <td>911010501</td>\n",
       "      <td>CDXL</td>\n",
       "      <td>15.42</td>\n",
       "      <td>0.481</td>\n",
       "      <td>2017-01-03 11:00:00</td>\n",
       "      <td>20170103CDLG000510025148</td>\n",
       "      <td>7.41702</td>\n",
       "      <td>11</td>\n",
       "    </tr>\n",
       "    <tr>\n",
       "      <th>3475</th>\n",
       "      <td>30033854</td>\n",
       "      <td>910000000</td>\n",
       "      <td>CDXL</td>\n",
       "      <td>9.62</td>\n",
       "      <td>1.000</td>\n",
       "      <td>2017-01-03 11:17:00</td>\n",
       "      <td>20170103CDLG000510025149</td>\n",
       "      <td>9.62000</td>\n",
       "      <td>11</td>\n",
       "    </tr>\n",
       "    <tr>\n",
       "      <th>3476</th>\n",
       "      <td>30206214</td>\n",
       "      <td>910000000</td>\n",
       "      <td>CDXL</td>\n",
       "      <td>15.62</td>\n",
       "      <td>1.000</td>\n",
       "      <td>2017-01-03 11:40:00</td>\n",
       "      <td>20170103CDLG000510025150</td>\n",
       "      <td>15.62000</td>\n",
       "      <td>11</td>\n",
       "    </tr>\n",
       "    <tr>\n",
       "      <th>3477</th>\n",
       "      <td>30129510</td>\n",
       "      <td>925090000</td>\n",
       "      <td>CDXL</td>\n",
       "      <td>23.21</td>\n",
       "      <td>0.312</td>\n",
       "      <td>2017-01-03 11:50:00</td>\n",
       "      <td>20170103CDLG000510025151</td>\n",
       "      <td>7.24152</td>\n",
       "      <td>11</td>\n",
       "    </tr>\n",
       "  </tbody>\n",
       "</table>\n",
       "<p>3478 rows × 9 columns</p>\n",
       "</div>"
      ],
      "text/plain": [
       "          商品ID       类别ID  门店编号     单价     销量                成交时间  \\\n",
       "0     30006206  915000003  CDNL  25.23  0.328 2017-01-03 09:56:00   \n",
       "1     30163281  914010000  CDNL   2.00  2.000 2017-01-03 09:56:00   \n",
       "2     30200518  922000000  CDNL  19.62  0.230 2017-01-03 09:56:00   \n",
       "3     29989105  922000000  CDNL   2.80  2.044 2017-01-03 09:56:00   \n",
       "4     30179558  915000100  CDNL  47.41  0.226 2017-01-03 09:56:00   \n",
       "...        ...        ...   ...    ...    ...                 ...   \n",
       "3473  30031870  915030401  CDXL   6.58  0.862 2017-01-03 10:59:00   \n",
       "3474  30008276  911010501  CDXL  15.42  0.481 2017-01-03 11:00:00   \n",
       "3475  30033854  910000000  CDXL   9.62  1.000 2017-01-03 11:17:00   \n",
       "3476  30206214  910000000  CDXL  15.62  1.000 2017-01-03 11:40:00   \n",
       "3477  30129510  925090000  CDXL  23.21  0.312 2017-01-03 11:50:00   \n",
       "\n",
       "                          订单ID       销售额  小时  \n",
       "0     20170103CDLG000210052759   8.27544  09  \n",
       "1     20170103CDLG000210052759   4.00000  09  \n",
       "2     20170103CDLG000210052759   4.51260  09  \n",
       "3     20170103CDLG000210052759   5.72320  09  \n",
       "4     20170103CDLG000210052759  10.71466  09  \n",
       "...                        ...       ...  ..  \n",
       "3473  20170103CDLG000510025147   5.67196  10  \n",
       "3474  20170103CDLG000510025148   7.41702  11  \n",
       "3475  20170103CDLG000510025149   9.62000  11  \n",
       "3476  20170103CDLG000510025150  15.62000  11  \n",
       "3477  20170103CDLG000510025151   7.24152  11  \n",
       "\n",
       "[3478 rows x 9 columns]"
      ]
     },
     "execution_count": 18,
     "metadata": {},
     "output_type": "execute_result"
    }
   ],
   "source": [
    "df"
   ]
  },
  {
   "cell_type": "markdown",
   "metadata": {},
   "source": [
    "之所以要对小时和订单进行去重处理,是因为我们用的订单表是以商品ID为主键的,在一个小时内可能会出现多个相同的订单ID,这些订单ID来自同一个人,所以算作一个人"
   ]
  },
  {
   "cell_type": "code",
   "execution_count": 19,
   "metadata": {},
   "outputs": [
    {
     "data": {
      "text/html": [
       "<div>\n",
       "<style scoped>\n",
       "    .dataframe tbody tr th:only-of-type {\n",
       "        vertical-align: middle;\n",
       "    }\n",
       "\n",
       "    .dataframe tbody tr th {\n",
       "        vertical-align: top;\n",
       "    }\n",
       "\n",
       "    .dataframe thead th {\n",
       "        text-align: right;\n",
       "    }\n",
       "</style>\n",
       "<table border=\"1\" class=\"dataframe\">\n",
       "  <thead>\n",
       "    <tr style=\"text-align: right;\">\n",
       "      <th></th>\n",
       "      <th>小时</th>\n",
       "      <th>订单ID</th>\n",
       "    </tr>\n",
       "  </thead>\n",
       "  <tbody>\n",
       "    <tr>\n",
       "      <th>0</th>\n",
       "      <td>09</td>\n",
       "      <td>20170103CDLG000210052759</td>\n",
       "    </tr>\n",
       "    <tr>\n",
       "      <th>10</th>\n",
       "      <td>09</td>\n",
       "      <td>20170103CDLG000210052760</td>\n",
       "    </tr>\n",
       "    <tr>\n",
       "      <th>15</th>\n",
       "      <td>09</td>\n",
       "      <td>20170103CDLG000210052761</td>\n",
       "    </tr>\n",
       "    <tr>\n",
       "      <th>22</th>\n",
       "      <td>10</td>\n",
       "      <td>20170103CDLG000210052762</td>\n",
       "    </tr>\n",
       "    <tr>\n",
       "      <th>23</th>\n",
       "      <td>10</td>\n",
       "      <td>20170103CDLG000210052763</td>\n",
       "    </tr>\n",
       "    <tr>\n",
       "      <th>...</th>\n",
       "      <td>...</td>\n",
       "      <td>...</td>\n",
       "    </tr>\n",
       "    <tr>\n",
       "      <th>3472</th>\n",
       "      <td>10</td>\n",
       "      <td>20170103CDLG000510025147</td>\n",
       "    </tr>\n",
       "    <tr>\n",
       "      <th>3474</th>\n",
       "      <td>11</td>\n",
       "      <td>20170103CDLG000510025148</td>\n",
       "    </tr>\n",
       "    <tr>\n",
       "      <th>3475</th>\n",
       "      <td>11</td>\n",
       "      <td>20170103CDLG000510025149</td>\n",
       "    </tr>\n",
       "    <tr>\n",
       "      <th>3476</th>\n",
       "      <td>11</td>\n",
       "      <td>20170103CDLG000510025150</td>\n",
       "    </tr>\n",
       "    <tr>\n",
       "      <th>3477</th>\n",
       "      <td>11</td>\n",
       "      <td>20170103CDLG000510025151</td>\n",
       "    </tr>\n",
       "  </tbody>\n",
       "</table>\n",
       "<p>918 rows × 2 columns</p>\n",
       "</div>"
      ],
      "text/plain": [
       "      小时                      订单ID\n",
       "0     09  20170103CDLG000210052759\n",
       "10    09  20170103CDLG000210052760\n",
       "15    09  20170103CDLG000210052761\n",
       "22    10  20170103CDLG000210052762\n",
       "23    10  20170103CDLG000210052763\n",
       "...   ..                       ...\n",
       "3472  10  20170103CDLG000510025147\n",
       "3474  11  20170103CDLG000510025148\n",
       "3475  11  20170103CDLG000510025149\n",
       "3476  11  20170103CDLG000510025150\n",
       "3477  11  20170103CDLG000510025151\n",
       "\n",
       "[918 rows x 2 columns]"
      ]
     },
     "execution_count": 19,
     "metadata": {},
     "output_type": "execute_result"
    }
   ],
   "source": [
    "traffic = df[['小时','订单ID']].drop_duplicates()\n",
    "traffic"
   ]
  },
  {
   "cell_type": "code",
   "execution_count": 20,
   "metadata": {},
   "outputs": [
    {
     "data": {
      "application/javascript": [
       "\n",
       "        if (window._pyforest_update_imports_cell) { window._pyforest_update_imports_cell('import pandas as pd'); }\n",
       "    "
      ],
      "text/plain": [
       "<IPython.core.display.Javascript object>"
      ]
     },
     "metadata": {},
     "output_type": "display_data"
    },
    {
     "data": {
      "text/plain": [
       "<matplotlib.axes._subplots.AxesSubplot at 0x11c2eac18>"
      ]
     },
     "execution_count": 20,
     "metadata": {},
     "output_type": "execute_result"
    },
    {
     "data": {
      "image/png": "[encoded data removed]",
      "text/plain": [
       "<Figure size 432x288 with 1 Axes>"
      ]
     },
     "metadata": {
      "needs_background": "light"
     },
     "output_type": "display_data"
    }
   ],
   "source": [
    "pd.pivot_table(traffic,index='小时', values='订单ID',aggfunc='count').plot()"
   ]
  },
  {
   "cell_type": "code",
   "execution_count": null,
   "metadata": {},
   "outputs": [],
   "source": []
  }
 ],
 "metadata": {
  "hide_input": false,
  "kernelspec": {
   "display_name": "Python 3",
   "language": "python",
   "name": "python3"
  },
  "language_info": {
   "codemirror_mode": {
    "name": "ipython",
    "version": 3
   },
   "file_extension": ".py",
   "mimetype": "text/x-python",
   "name": "python",
   "nbconvert_exporter": "python",
   "pygments_lexer": "ipython3",
   "version": "3.7.3"
  },
  "toc": {
   "base_numbering": 1,
   "nav_menu": {},
   "number_sections": true,
   "sideBar": true,
   "skip_h1_title": false,
   "title_cell": "Table of Contents",
   "title_sidebar": "Contents",
   "toc_cell": false,
   "toc_position": {},
   "toc_section_display": true,
   "toc_window_display": true
  },
  "varInspector": {
   "cols": {
    "lenName": 16,
    "lenType": 16,
    "lenVar": 40
   },
   "kernels_config": {
    "python": {
     "delete_cmd_postfix": "",
     "delete_cmd_prefix": "del ",
     "library": "var_list.py",
     "varRefreshCmd": "print(var_dic_list())"
    },
    "r": {
     "delete_cmd_postfix": ") ",
     "delete_cmd_prefix": "rm(",
     "library": "var_list.r",
     "varRefreshCmd": "cat(var_dic_list()) "
    }
   },
   "types_to_exclude": [
    "module",
    "function",
    "builtin_function_or_method",
    "instance",
    "_Feature"
   ],
   "window_display": false
  }
 },
 "nbformat": 4,
 "nbformat_minor": 4
}
