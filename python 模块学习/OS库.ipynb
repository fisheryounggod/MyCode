{
 "cells": [
  {
   "cell_type": "code",
   "execution_count": 1,
   "metadata": {},
   "outputs": [],
   "source": [
    "import os\n",
    "\n",
    "os.getcwd() #获得当前工作目录\n",
    "\n",
    "os.listdir() # 列出某目录下所有的目录和文件\n",
    "\n",
    "os.getenv('PATH')  #用来获得环境变量\n",
    "\n",
    "os.environ[\"PATH\"] #可以获取并修改环境变量\n",
    "\n",
    "os.system('ping') #运行 Shell 或者 CMD 命令\n",
    "\n",
    "path = '/Users/mac/MyPrograme/ShuJuFenXi/README.md'\n",
    "\n",
    "os.path.split(path)[0] #获取文件路径\n",
    "os.path.split(path)[1] #获取文件名\n",
    "os.path.splitext(path) #获取文件名和扩展名\n",
    "\n",
    "os.chdir('/Users/mac/MyPrograme/ShuJuFenXi/') # 相当于cd\n",
    "os.listdir()                    # 相当于ls\n",
    "\n",
    "os.path.getsize('宏观经济学')\n",
    "\n",
    "os.path.normpath(path) #专门用来规范路径\n",
    "\n",
    "os.path.join(path,name) # 连接目录和文件名，提升跨平台性\n",
    "\n",
    "os.path.dirname(path) #获取路径中的目录名\n",
    "\n",
    "os.path.basename(path) #获取路径中的文件名\n",
    "\n",
    "os.path.isfile(path) #判断路径是不是文件\n",
    "\n",
    "os.path.isdir(path) #判断路径是不是目录\n",
    "\n",
    "os.path.abspath(\"README\") #获取绝对路径\n",
    "\n",
    "os.remove() #删除文件\n",
    "\n",
    "os.linesep #获取当前平台使用的行终止符\n",
    "\n",
    "os.path.exists(path) #函数用来检验给出的路径是否真地存在"
   ]
  },
  {
   "cell_type": "code",
   "execution_count": null,
   "metadata": {},
   "outputs": [],
   "source": []
  }
 ],
 "metadata": {
  "hide_input": false,
  "kernelspec": {
   "display_name": "Python 3",
   "language": "python",
   "name": "python3"
  },
  "language_info": {
   "codemirror_mode": {
    "name": "ipython",
    "version": 3
   },
   "file_extension": ".py",
   "mimetype": "text/x-python",
   "name": "python",
   "nbconvert_exporter": "python",
   "pygments_lexer": "ipython3",
   "version": "3.7.3"
  },
  "toc": {
   "base_numbering": 1,
   "nav_menu": {},
   "number_sections": true,
   "sideBar": true,
   "skip_h1_title": false,
   "title_cell": "Table of Contents",
   "title_sidebar": "Contents",
   "toc_cell": false,
   "toc_position": {},
   "toc_section_display": true,
   "toc_window_display": false
  },
  "varInspector": {
   "cols": {
    "lenName": 16,
    "lenType": 16,
    "lenVar": 40
   },
   "kernels_config": {
    "python": {
     "delete_cmd_postfix": "",
     "delete_cmd_prefix": "del ",
     "library": "var_list.py",
     "varRefreshCmd": "print(var_dic_list())"
    },
    "r": {
     "delete_cmd_postfix": ") ",
     "delete_cmd_prefix": "rm(",
     "library": "var_list.r",
     "varRefreshCmd": "cat(var_dic_list()) "
    }
   },
   "types_to_exclude": [
    "module",
    "function",
    "builtin_function_or_method",
    "instance",
    "_Feature"
   ],
   "window_display": false
  }
 },
 "nbformat": 4,
 "nbformat_minor": 4
}
