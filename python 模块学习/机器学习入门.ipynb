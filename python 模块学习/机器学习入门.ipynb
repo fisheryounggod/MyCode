{
 "cells": [
  {
   "cell_type": "markdown",
   "metadata": {},
   "source": [
    "# pyhton 到 机器学习入门 教程目录"
   ]
  },
  {
   "cell_type": "markdown",
   "metadata": {},
   "source": [
    "## 第1节：下载并安装python及Scipy生态"
   ]
  },
  {
   "cell_type": "code",
   "execution_count": 11,
   "metadata": {},
   "outputs": [
    {
     "name": "stdout",
     "output_type": "stream",
     "text": [
      "Python: 3.7.3 (default, Feb  2 2020, 23:10:31) \n",
      "[Clang 11.0.0 (clang-1100.0.33.17)]\n",
      "scipy: 1.4.1\n",
      "numpy: 1.18.1\n",
      "matplotlib: 3.1.2\n",
      "pandas: 1.0.1\n",
      "sklearn: 0.22.1\n"
     ]
    }
   ],
   "source": [
    "# Python version\n",
    "import sys\n",
    "print('Python: {}'.format(sys.version))\n",
    "# scipy\n",
    "import scipy\n",
    "print('scipy: {}'.format(scipy.__version__))\n",
    "# numpy\n",
    "import numpy\n",
    "print('numpy: {}'.format(numpy.__version__))\n",
    "# matplotlib\n",
    "import matplotlib\n",
    "print('matplotlib: {}'.format(matplotlib.__version__))\n",
    "# pandas\n",
    "import pandas\n",
    "print('pandas: {}'.format(pandas.__version__))\n",
    "# scikit-learn\n",
    "import sklearn\n",
    "print('sklearn: {}'.format(sklearn.__version__))"
   ]
  },
  {
   "cell_type": "markdown",
   "metadata": {},
   "source": [
    "## 熟悉使用python、numpy、matplotlib和pandas"
   ]
  },
  {
   "cell_type": "code",
   "execution_count": 2,
   "metadata": {},
   "outputs": [
    {
     "name": "stdout",
     "output_type": "stream",
     "text": [
      "   one  two  three\n",
      "a    1    2      3\n",
      "b    4    5      6\n"
     ]
    },
    {
     "data": {
      "image/png": "[encoded data removed]",
      "text/plain": [
       "<Figure size 432x288 with 1 Axes>"
      ]
     },
     "metadata": {
      "needs_background": "light"
     },
     "output_type": "display_data"
    }
   ],
   "source": [
    "# 导入各个库\n",
    "import numpy as np\n",
    "import pandas as pd\n",
    "import matplotlib.pyplot as plt\n",
    "\n",
    "myarray = np.array([[1, 2, 3], [4, 5, 6]]) # 使用numpy数组\n",
    "rownames = ['a', 'b']\n",
    "colnames = ['one', 'two', 'three'] # 使用列表操作\n",
    "mydataframe = pd.DataFrame(myarray, index=rownames, columns=colnames) #生成DataFrame\n",
    "print(mydataframe)\n",
    "\n",
    "mp = plt.plot(myarray) # 使用matplotlib绘制简单图表\n",
    "plt.show() # 显示图像"
   ]
  },
  {
   "cell_type": "markdown",
   "metadata": {},
   "source": [
    "## 加载CSV数据反ff"
   ]
  },
  {
   "cell_type": "markdown",
   "metadata": {},
   "source": [
    "有几种常用的方法供参考：\n",
    "- 使用标准库中CSV的CSV.reader()加载\n",
    "- 使用第三方库numpy中的numpy.loadtxt()加载\n",
    "- 使用第三方库pandas中的pandas.read_csv()加载"
   ]
  },
  {
   "cell_type": "markdown",
   "metadata": {},
   "source": [
    "## 对数据进行描述性统计分析"
   ]
  },
  {
   "cell_type": "markdown",
   "metadata": {},
   "source": [
    "有以下几点操作：\n",
    "- 使用head()和tail()函数查看数据样本\n",
    "- 使用shape属性查看数据规格\n",
    "- 使用dtypes属性查看每个变量的数据类型\n",
    "- 使用describe()函数查看数据描述\n",
    "- 使用corr()函数计算各个变量之间的相关性"
   ]
  },
  {
   "cell_type": "code",
   "execution_count": null,
   "metadata": {},
   "outputs": [],
   "source": [
    "head_5 = data.head(5) # 查看前5行\n",
    "print(head_5)\n",
    "tail_5 = data.tail(5) # 查看后5行\n",
    "print(tail_5)\n",
    "shape_ = data.shape # 查看数据规格，即多少行多少列\n",
    "print(shape)\n",
    "dtypes_ = data.dtypes # 查看每个变量的数据类型\n",
    "print(dtypes_)\n",
    "corr_ = data.corr() # 查看各个变量之间的相关性\n",
    "print(corr_)\n",
    "description = data.describe() # 查看数据描述\n",
    "print(description)"
   ]
  },
  {
   "cell_type": "markdown",
   "metadata": {},
   "source": [
    "## 对数据进行可视化分析"
   ]
  },
  {
   "cell_type": "markdown",
   "metadata": {},
   "source": [
    "有以下几点操作：\n",
    "- 使用hist()方法创建每个变量的直方图\n",
    "- 使用plot(kind='box')方法创建每个变量的箱图\n",
    "- 使用plotting.scatter_matrix()方法创建矩阵散点图"
   ]
  },
  {
   "cell_type": "code",
   "execution_count": null,
   "metadata": {},
   "outputs": [],
   "source": [
    "import matplotlib.pyplot as plt # 导入绘图模块\n",
    "data.hist() # 直方图\n",
    "data.plot(kind='box') # 箱图\n",
    "pd.plotting.scatter_matrix(data) # 矩阵散点图\n",
    "plt.show() # 展示图表"
   ]
  },
  {
   "cell_type": "markdown",
   "metadata": {},
   "source": [
    "## 数据预处理"
   ]
  },
  {
   "cell_type": "markdown",
   "metadata": {},
   "source": [
    "有一些方法技术可以用于数据预处理，比如：\n",
    "- 数据标准化。\n",
    "- 数据二值化.\n",
    "- 分类数据连续化。\n",
    "- 估算缺失的值。"
   ]
  },
  {
   "cell_type": "markdown",
   "metadata": {},
   "source": [
    "上面提到的数据预处理技术都可以通过scikit-learn提供的方法实现。\n",
    "简单介绍下scikit-learn，scikit-learn拥有可以用于监督和无监督学习的方法，一般来说监督学习使用的更多。sklearn中的大部分函数可以归为估计器(Estimator)和转化器(Transformer)两类。"
   ]
  },
  {
   "cell_type": "markdown",
   "metadata": {},
   "source": [
    "<span class=\"mark\">估计器(Estimator)其实就是模型，它用于对数据的预测或回归。</span>基本上估计器都会有以下几个方法：\n",
    "- <span class=\"burk\">fit(x,y):传入数据以及标签即可训练模型</span>，训练的时间和参数设置，数据集大小以及数据本身的特点有关\n",
    "- <span class=\"burk\">score(x,y)用于对模型的正确率进行评分(范围0-1)。</span>但由于对在不同的问题下，评判模型优劣的的标准不限于简单的正确率，可能还包括召回率或者是查准率等其他的指标，特别是对于类别失衡的样本，准确率并不能很好的评估模型的优劣，因此在对模型进行评估时，不要轻易的被score的得分蒙蔽。\n",
    "- <span class=\"burk\">predict(x)用于对数据的预测，它接受输入，并输出预测标签，输出的格式为numpy数组。</span>我们通常使用这个方法返回测试的结果，再将这个结果用于评估模型。"
   ]
  },
  {
   "cell_type": "markdown",
   "metadata": {},
   "source": [
    "<span class=\"mark\">转化器(Transformer)用于对数据的处理，例如标准化、降维以及特征选择等等。</span>同与估计器的使用方法类似:\n",
    "- fit(x,y):该方法接受输入和标签，计算出数据变换的方式。\n",
    "- transform(x):根据已经计算出的变换方式，返回对输入数据x变换后的结果（不改变x）\n",
    "- fit_transform(x,y) :该方法在计算出数据变换方式之后对输入x就地转换"
   ]
  },
  {
   "cell_type": "code",
   "execution_count": null,
   "metadata": {},
   "outputs": [],
   "source": [
    "# 标准化数据 (0 mean, 1 stdev)\n",
    "from sklearn.preprocessing import StandardScaler # 导入标准化函数\n",
    "import pandas\n",
    "import numpy"
   ]
  },
  {
   "cell_type": "code",
   "execution_count": null,
   "metadata": {},
   "outputs": [],
   "source": [
    "# 将数据分割为输入和响应两部分，即X和Y\n",
    "X = array[:,0:8]\n",
    "Y = array[:,8]\n",
    "# 对数据进行标准化处理\n",
    "scaler = StandardScaler().fit(X)\n",
    "rescaledX = scaler.transform(X)\n",
    "# summarize transformed data\n",
    "numpy.set_printoptions(precision=3)\n",
    "print(rescaledX[0:5,:])"
   ]
  },
  {
   "cell_type": "markdown",
   "metadata": {},
   "source": [
    "## 通过重采样进行算法评估"
   ]
  },
  {
   "cell_type": "markdown",
   "metadata": {},
   "source": [
    "模型在验证数据中的评估常用的是交叉验证，又称循环验证。它将原始数据分成K组(K-Fold)，将每个子集数据分别做一次验证集，其余的K-1组子集数据作为训练集，这样会得到K个模型。这K个模型分别在验证集中评估结果，最后的误差MSE(Mean Squared Error)加和平均就得到交叉验证误差。\n",
    "交叉验证有效利用了有限的数据，并且评估结果能够尽可能接近模型在测试集上的表现，可以做为模型优化的指标使用。\n",
    "\n",
    "最后要通过某种评估规则计算出模型准确度的分数，这里提供了cross_val_score(scoring='')函数评估交叉验证结果"
   ]
  },
  {
   "cell_type": "code",
   "execution_count": null,
   "metadata": {},
   "outputs": [],
   "source": [
    "这一节要做的是：\n",
    "- 将数据集切分为训练集和验证集\n",
    "- 使用k折交叉验证估算算法的准确性\n",
    "- 使用cross_val_score()函数评估交叉验证结果，输出k折交叉验证准确度评分"
   ]
  },
  {
   "cell_type": "markdown",
   "metadata": {},
   "source": [
    "### 使用交叉验证评估模型"
   ]
  },
  {
   "cell_type": "code",
   "execution_count": 2,
   "metadata": {},
   "outputs": [],
   "source": [
    "from pandas import read_csv\n",
    "from sklearn.model_selection import KFold\n",
    "from sklearn.model_selection import cross_val_score\n",
    "from sklearn.linear_model import LogisticRegression"
   ]
  },
  {
   "cell_type": "code",
   "execution_count": 8,
   "metadata": {},
   "outputs": [],
   "source": [
    "# 加载数据\n",
    "# url = \"https://raw.githubusercontent.com/jbrownlee/Datasets/master/pima-indians-diabetes.data.csv\"\n",
    "url = \"https://github.com/jbrownlee/Datasets/blob/master/pima-indians-diabetes.data.csv\"\n",
    "names = [\n",
    "    'preg', 'plas', 'pres', 'skin', 'test', 'mass', 'pedi', 'age', 'class'\n",
    "]\n",
    "dataframe = read_csv(url, names=names)\n",
    "dataframe.to_csv('./data/pima-indians.csv', sep='\\t', index=False)"
   ]
  },
  {
   "cell_type": "code",
   "execution_count": 10,
   "metadata": {},
   "outputs": [
    {
     "name": "stdout",
     "output_type": "stream",
     "text": [
      "Accuracy: %.3f%% (%.3f%%)\n"
     ]
    },
    {
     "name": "stderr",
     "output_type": "stream",
     "text": [
      "/Users/mac/.pyenv/versions/3.7.3/lib/python3.7/site-packages/sklearn/model_selection/_validation.py:536: FitFailedWarning: Estimator fit failed. The score on this train-test partition for these parameters will be set to nan. Details: \n",
      "ValueError: could not convert string to float: '<html lang=\"en\">'\n",
      "\n",
      "  FitFailedWarning)\n",
      "/Users/mac/.pyenv/versions/3.7.3/lib/python3.7/site-packages/sklearn/model_selection/_validation.py:536: FitFailedWarning: Estimator fit failed. The score on this train-test partition for these parameters will be set to nan. Details: \n",
      "ValueError: could not convert string to float: '<!DOCTYPE html>'\n",
      "\n",
      "  FitFailedWarning)\n",
      "/Users/mac/.pyenv/versions/3.7.3/lib/python3.7/site-packages/sklearn/model_selection/_validation.py:536: FitFailedWarning: Estimator fit failed. The score on this train-test partition for these parameters will be set to nan. Details: \n",
      "ValueError: could not convert string to float: '<!DOCTYPE html>'\n",
      "\n",
      "  FitFailedWarning)\n",
      "/Users/mac/.pyenv/versions/3.7.3/lib/python3.7/site-packages/sklearn/model_selection/_validation.py:536: FitFailedWarning: Estimator fit failed. The score on this train-test partition for these parameters will be set to nan. Details: \n",
      "ValueError: could not convert string to float: '<!DOCTYPE html>'\n",
      "\n",
      "  FitFailedWarning)\n",
      "/Users/mac/.pyenv/versions/3.7.3/lib/python3.7/site-packages/sklearn/model_selection/_validation.py:536: FitFailedWarning: Estimator fit failed. The score on this train-test partition for these parameters will be set to nan. Details: \n",
      "ValueError: could not convert string to float: '<!DOCTYPE html>'\n",
      "\n",
      "  FitFailedWarning)\n",
      "/Users/mac/.pyenv/versions/3.7.3/lib/python3.7/site-packages/sklearn/model_selection/_validation.py:536: FitFailedWarning: Estimator fit failed. The score on this train-test partition for these parameters will be set to nan. Details: \n",
      "ValueError: could not convert string to float: '<!DOCTYPE html>'\n",
      "\n",
      "  FitFailedWarning)\n",
      "/Users/mac/.pyenv/versions/3.7.3/lib/python3.7/site-packages/sklearn/model_selection/_validation.py:536: FitFailedWarning: Estimator fit failed. The score on this train-test partition for these parameters will be set to nan. Details: \n",
      "ValueError: could not convert string to float: '<!DOCTYPE html>'\n",
      "\n",
      "  FitFailedWarning)\n",
      "/Users/mac/.pyenv/versions/3.7.3/lib/python3.7/site-packages/sklearn/model_selection/_validation.py:536: FitFailedWarning: Estimator fit failed. The score on this train-test partition for these parameters will be set to nan. Details: \n",
      "ValueError: could not convert string to float: '<!DOCTYPE html>'\n",
      "\n",
      "  FitFailedWarning)\n",
      "/Users/mac/.pyenv/versions/3.7.3/lib/python3.7/site-packages/sklearn/model_selection/_validation.py:536: FitFailedWarning: Estimator fit failed. The score on this train-test partition for these parameters will be set to nan. Details: \n",
      "ValueError: could not convert string to float: '<!DOCTYPE html>'\n",
      "\n",
      "  FitFailedWarning)\n",
      "/Users/mac/.pyenv/versions/3.7.3/lib/python3.7/site-packages/sklearn/model_selection/_validation.py:536: FitFailedWarning: Estimator fit failed. The score on this train-test partition for these parameters will be set to nan. Details: \n",
      "ValueError: could not convert string to float: '<!DOCTYPE html>'\n",
      "\n",
      "  FitFailedWarning)\n"
     ]
    },
    {
     "ename": "TypeError",
     "evalue": "unsupported operand type(s) for %: 'NoneType' and 'tuple'",
     "output_type": "error",
     "traceback": [
      "\u001b[0;31m----------------------------------------------------------------\u001b[0m",
      "\u001b[0;31mTypeError\u001b[0m                      Traceback (most recent call last)",
      "\u001b[0;32m<ipython-input-10-351aa65a4d61>\u001b[0m in \u001b[0;36m<module>\u001b[0;34m\u001b[0m\n\u001b[1;32m     13\u001b[0m                           scoring='neg_mean_squared_error')\n\u001b[1;32m     14\u001b[0m \u001b[0;31m# 打印这10个结果的平均值和标准差\u001b[0m\u001b[0;34m\u001b[0m\u001b[0;34m\u001b[0m\u001b[0;34m\u001b[0m\u001b[0m\n\u001b[0;32m---> 15\u001b[0;31m \u001b[0mprint\u001b[0m\u001b[0;34m(\u001b[0m\u001b[0;34m\"Accuracy: %.3f%% (%.3f%%)\"\u001b[0m\u001b[0;34m)\u001b[0m \u001b[0;34m%\u001b[0m \u001b[0;34m(\u001b[0m\u001b[0mresults\u001b[0m\u001b[0;34m.\u001b[0m\u001b[0mmean\u001b[0m\u001b[0;34m(\u001b[0m\u001b[0;34m)\u001b[0m \u001b[0;34m*\u001b[0m \u001b[0;36m100.0\u001b[0m\u001b[0;34m,\u001b[0m \u001b[0mresults\u001b[0m\u001b[0;34m.\u001b[0m\u001b[0mstd\u001b[0m\u001b[0;34m(\u001b[0m\u001b[0;34m)\u001b[0m \u001b[0;34m*\u001b[0m \u001b[0;36m100.0\u001b[0m\u001b[0;34m)\u001b[0m\u001b[0;34m\u001b[0m\u001b[0;34m\u001b[0m\u001b[0m\n\u001b[0m",
      "\u001b[0;31mTypeError\u001b[0m: unsupported operand type(s) for %: 'NoneType' and 'tuple'"
     ]
    }
   ],
   "source": [
    "array = dataframe.values\n",
    "X = array[:, 0:8]\n",
    "Y = array[:, 8]\n",
    "# 使用k折交叉验证，n-split就是K值，shuffle指是否对数据洗牌，random_state为随机种子\n",
    "kfold = KFold(n_splits=10, shuffle=True, random_state=7)\n",
    "# 使用逻辑回归模型，这是一个分类算法\n",
    "model = LogisticRegression(solver='liblinear')\n",
    "# 交叉验证，cv代表交叉验证生成器，这里是k折，scoring代表评估规则，输出模型对于10个验证数据集准确度的评估结果\n",
    "results = cross_val_score(model,\n",
    "                          X,\n",
    "                          Y,\n",
    "                          cv=kfold,\n",
    "                          scoring='neg_mean_squared_error')\n",
    "# 打印这10个结果的平均值和标准差\n",
    "print(\"Accuracy: %.3f%% (%.3f%%)\") % (results.mean() * 100.0, results.std() * 100.0)"
   ]
  },
  {
   "cell_type": "markdown",
   "metadata": {},
   "source": [
    "## 模型比较和选择"
   ]
  },
  {
   "cell_type": "code",
   "execution_count": null,
   "metadata": {},
   "outputs": [],
   "source": []
  },
  {
   "cell_type": "markdown",
   "metadata": {},
   "source": [
    "## 通过算法调整提高模型精度"
   ]
  },
  {
   "cell_type": "code",
   "execution_count": null,
   "metadata": {},
   "outputs": [],
   "source": []
  },
  {
   "cell_type": "markdown",
   "metadata": {},
   "source": [
    "## 通过集合预测提高模型精度"
   ]
  },
  {
   "cell_type": "code",
   "execution_count": null,
   "metadata": {},
   "outputs": [],
   "source": []
  },
  {
   "cell_type": "markdown",
   "metadata": {},
   "source": [
    "## 完善并保存模型"
   ]
  },
  {
   "cell_type": "code",
   "execution_count": null,
   "metadata": {},
   "outputs": [],
   "source": []
  }
 ],
 "metadata": {
  "hide_input": false,
  "kernelspec": {
   "display_name": "Python 3",
   "language": "python",
   "name": "python3"
  },
  "language_info": {
   "codemirror_mode": {
    "name": "ipython",
    "version": 3
   },
   "file_extension": ".py",
   "mimetype": "text/x-python",
   "name": "python",
   "nbconvert_exporter": "python",
   "pygments_lexer": "ipython3",
   "version": "3.7.3"
  },
  "toc": {
   "base_numbering": 1,
   "nav_menu": {},
   "number_sections": true,
   "sideBar": true,
   "skip_h1_title": false,
   "title_cell": "Table of Contents",
   "title_sidebar": "Contents",
   "toc_cell": false,
   "toc_position": {},
   "toc_section_display": true,
   "toc_window_display": false
  },
  "varInspector": {
   "cols": {
    "lenName": 16,
    "lenType": 16,
    "lenVar": 40
   },
   "kernels_config": {
    "python": {
     "delete_cmd_postfix": "",
     "delete_cmd_prefix": "del ",
     "library": "var_list.py",
     "varRefreshCmd": "print(var_dic_list())"
    },
    "r": {
     "delete_cmd_postfix": ") ",
     "delete_cmd_prefix": "rm(",
     "library": "var_list.r",
     "varRefreshCmd": "cat(var_dic_list()) "
    }
   },
   "types_to_exclude": [
    "module",
    "function",
    "builtin_function_or_method",
    "instance",
    "_Feature"
   ],
   "window_display": false
  }
 },
 "nbformat": 4,
 "nbformat_minor": 2
}
