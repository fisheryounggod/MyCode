{
 "cells": [
  {
   "cell_type": "code",
   "execution_count": 3,
   "metadata": {},
   "outputs": [],
   "source": [
    "import smtplib\n",
    "from email import encoders\n",
    "\n",
    "from email.header import Header\n",
    "from email.mime.text import MIMEText\n",
    "from email.utils import parseaddr, formataddr \n",
    "from email.mime.application import MIMEApplication\n",
    "\n",
    "from email.mime.multipart import MIMEMultipart \n"
   ]
  },
  {
   "cell_type": "code",
   "execution_count": 5,
   "metadata": {},
   "outputs": [
    {
     "data": {
      "application/javascript": [
       "\n",
       "        if (window._pyforest_update_imports_cell) { window._pyforest_update_imports_cell('import os'); }\n",
       "    "
      ],
      "text/plain": [
       "<IPython.core.display.Javascript object>"
      ]
     },
     "metadata": {},
     "output_type": "display_data"
    },
    {
     "name": "stderr",
     "output_type": "stream",
     "text": [
      "send: 'ehlo 1.0.0.0.0.0.0.0.0.0.0.0.0.0.0.0.0.0.0.0.0.0.0.0.0.0.0.0.0.0.0.0.ip6.arpa\\r\\n'\n",
      "reply: b'250-mail\\r\\n'\n",
      "reply: b'250-PIPELINING\\r\\n'\n",
      "reply: b'250-AUTH LOGIN PLAIN\\r\\n'\n",
      "reply: b'250-AUTH=LOGIN PLAIN\\r\\n'\n",
      "reply: b'250-coremail 1Uxr2xKj7kG0xkI17xGrU7I0s8FY2U3Uj8Cz28x1UUUUU7Ic2I0Y2UFSPaYQUCa0xDrUUUUj\\r\\n'\n",
      "reply: b'250-STARTTLS\\r\\n'\n",
      "reply: b'250 8BITMIME\\r\\n'\n",
      "reply: retcode (250); Msg: b'mail\\nPIPELINING\\nAUTH LOGIN PLAIN\\nAUTH=LOGIN PLAIN\\ncoremail 1Uxr2xKj7kG0xkI17xGrU7I0s8FY2U3Uj8Cz28x1UUUUU7Ic2I0Y2UFSPaYQUCa0xDrUUUUj\\nSTARTTLS\\n8BITMIME'\n",
      "send: 'AUTH PLAIN ADE1NTkzODQ4Mjc2QDE2My5jb20AeXhmYWJjMTIz\\r\\n'\n",
      "reply: b'235 Authentication successful\\r\\n'\n",
      "reply: retcode (235); Msg: b'Authentication successful'\n",
      "send: 'mail FROM:<15593848276@163.com>\\r\\n'\n",
      "reply: b'250 Mail OK\\r\\n'\n",
      "reply: retcode (250); Msg: b'Mail OK'\n",
      "send: 'rcpt TO:<17130955889@kindle.com>\\r\\n'\n",
      "reply: b'250 Mail OK\\r\\n'\n",
      "reply: retcode (250); Msg: b'Mail OK'\n",
      "send: 'rcpt TO:<1632164730@qq.com>\\r\\n'\n",
      "reply: b'250 Mail OK\\r\\n'\n",
      "reply: retcode (250); Msg: b'Mail OK'\n",
      "send: 'data\\r\\n'\n",
      "reply: b'354 End data with <CR><LF>.<CR><LF>\\r\\n'\n",
      "reply: retcode (354); Msg: b'End data with <CR><LF>.<CR><LF>'\n",
      "data: (354, b'End data with <CR><LF>.<CR><LF>')\n",
      "send: b'Content-Type: multipart/mixed; boundary=\"===============0151216824282440634==\"\\r\\nMIME-Version: 1.0\\r\\nSubject: =?utf-8?b?6L+Z5piv5LiA5Lu95rWL6K+V6YKu5Lu2?=\\r\\nto: 17130955889@kindle.com\\r\\nCc: 1632164730@qq.com\\r\\nfrom: =?utf-8?b?5p2o6ZuE6aOe?=\\r\\n\\r\\n--===============0151216824282440634==\\r\\nContent-Type: text/plain; charset=\"utf-8\"\\r\\nMIME-Version: 1.0\\r\\nContent-Transfer-Encoding: base64\\r\\n\\r\\n5L2g5aW977yM6L+Z5piv5LiA5Lu95rWL6K+V6YKu5Lu2\\r\\n\\r\\n--===============0151216824282440634==--\\r\\n.\\r\\n'\n",
      "reply: b'250 Mail OK queued as smtp7,C8CowAD3K+U_EmFe4EbAAQ--.15255S2 1583419967\\r\\n'\n",
      "reply: retcode (250); Msg: b'Mail OK queued as smtp7,C8CowAD3K+U_EmFe4EbAAQ--.15255S2 1583419967'\n",
      "data: (250, b'Mail OK queued as smtp7,C8CowAD3K+U_EmFe4EbAAQ--.15255S2 1583419967')\n",
      "send: 'quit\\r\\n'\n",
      "reply: b'221 Bye\\r\\n'\n",
      "reply: retcode (221); Msg: b'Bye'\n"
     ]
    },
    {
     "data": {
      "text/plain": [
       "(221, b'Bye')"
      ]
     },
     "execution_count": 5,
     "metadata": {},
     "output_type": "execute_result"
    }
   ],
   "source": [
    "# 发件人邮箱\n",
    "asender = '15593848276@163.com'\n",
    "\n",
    "# 收件人邮箱\n",
    "areceiver = '17130955889@kindle.com'  \n",
    "\n",
    "# 抄送\n",
    "acc = '1632164730@qq.com'\n",
    "\n",
    "asubject = '这是一份测试邮件'\n",
    "\n",
    "from_addr = '15593848276@163.com'  # 发件人地址\n",
    "\n",
    "password = 'yxfabc123'  #密码\n",
    "\n",
    "# 邮件设置\n",
    "msg = MIMEMultipart()\n",
    "msg['Subject'] = asubject\n",
    "msg['to'] = areceiver\n",
    "msg['Cc'] = acc\n",
    "msg['from'] = '杨雄飞'\n",
    "\n",
    "# 邮件正文\n",
    "body = '你好，这是一份测试邮件'  \n",
    "# body = 'convert'\n",
    "\n",
    "msg.attach(MIMEText(body, 'plain', 'utf-8'))  # 添加邮件正文\n",
    "\n",
    "# 添加附件\n",
    "\n",
    "# xlsxpart = MIMEApplication(open('./1.xlsx', 'rb').read())\n",
    "# xlsxpart.add_header('Content-Disposition', 'attachment', filename='这是附件.xlsx')\n",
    "# msg.attach(xlsxpart)\n",
    "\n",
    "os.chdir('/users/mac/desktop/')\n",
    "pdfFile = 'python.pdf'\n",
    "pdfApart = MIMEApplication(open(pdfFile, 'rb').read())\n",
    "pdfApart.add_header('Content-Disposition', 'attachment', filename=pdfFile)\n",
    "\n",
    "# 设置邮箱服务器地址及端口\n",
    "\n",
    "smtp_server = 'smtp.163.com'  # 网易邮箱\n",
    "server = smtplib.SMTP(smtp_server, 25)\n",
    "server.set_debuglevel(1)\n",
    "\n",
    "server.login(from_addr, password)  # 登录邮箱\n",
    "\n",
    "server.sendmail(from_addr,\n",
    "                areceiver.split(',') + acc.split(','), msg.as_string())\n",
    "\n",
    "server.quit()  # 断开服务器连接"
   ]
  },
  {
   "cell_type": "markdown",
   "metadata": {},
   "source": [
    "163.com:\n",
    "\n",
    "- POP3服务器地址:pop.163.com（端口：110）\n",
    "- SMTP服务器地址:smtp.163.com（端口：25）\n",
    "\n",
    " \n",
    "\n",
    "QQ邮箱\n",
    "\n",
    "- POP3服务器地址：pop.qq.com（端口：110）\n",
    "\n",
    "- SMTP服务器地址：smtp.qq.com（端口：25）\n",
    "\n"
   ]
  },
  {
   "cell_type": "markdown",
   "metadata": {},
   "source": [
    "## 其他附件"
   ]
  },
  {
   "cell_type": "code",
   "execution_count": null,
   "metadata": {},
   "outputs": [],
   "source": [
    "import smtplib\n",
    "from email.mime.text import MIMEText\n",
    "from email.mime.image import MIMEImage\n",
    "from email.mime.multipart import MIMEMultipart\n",
    "from email.mime.application import MIMEApplication \n",
    " \n",
    "if __name__ == '__main__':\n",
    "        fromaddr = '15593848276@163.com'\n",
    "        password = 'yxfabc123'\n",
    "        toaddrs = ['17130955889@kindle.com', '1632164730@qq.com']\n",
    " \n",
    "        content = 'hello, this is email content.'\n",
    "        textApart = MIMEText(content)\n",
    " \n",
    "#         imageFile = '1.png'\n",
    "#         imageApart = MIMEImage(open(imageFile, 'rb').read(), imageFile.split('.')[-1])\n",
    "#         imageApart.add_header('Content-Disposition', 'attachment', filename=imageFile)\n",
    " \n",
    "        pdfFile = '算法设计与分析基础第3版PDF.pdf'\n",
    "        pdfApart = MIMEApplication(open(pdfFile, 'rb').read())\n",
    "        pdfApart.add_header('Content-Disposition', 'attachment', filename=pdfFile)\n",
    "    \n",
    " \n",
    "#         zipFile = '算法设计与分析基础第3版PDF.zip'\n",
    "#         zipApart = MIMEApplication(open(zipFile, 'rb').read())\n",
    "#         zipApart.add_header('Content-Disposition', 'attachment', filename=zipFile)\n",
    " \n",
    "        m = MIMEMultipart()\n",
    "        m.attach(textApart)\n",
    "        m.attach(imageApart)\n",
    "        m.attach(pdfApart)\n",
    "        m.attach(zipApart)\n",
    "        m['Subject'] = 'title'\n",
    " \n",
    "        try:\n",
    "            server = smtplib.SMTP('smtp.163.com')\n",
    "            server.login(fromaddr,password)\n",
    "            server.sendmail(fromaddr, toaddrs, m.as_string())\n",
    "            print('success')\n",
    "            server.quit()\n",
    "        except smtplib.SMTPException as e:\n",
    "            print('error:',e) #打印错误\n",
    " \n"
   ]
  }
 ],
 "metadata": {
  "hide_input": false,
  "kernelspec": {
   "display_name": "Python 3",
   "language": "python",
   "name": "python3"
  },
  "language_info": {
   "codemirror_mode": {
    "name": "ipython",
    "version": 3
   },
   "file_extension": ".py",
   "mimetype": "text/x-python",
   "name": "python",
   "nbconvert_exporter": "python",
   "pygments_lexer": "ipython3",
   "version": "3.7.3"
  },
  "toc": {
   "base_numbering": 1,
   "nav_menu": {},
   "number_sections": true,
   "sideBar": true,
   "skip_h1_title": false,
   "title_cell": "Table of Contents",
   "title_sidebar": "Contents",
   "toc_cell": false,
   "toc_position": {},
   "toc_section_display": true,
   "toc_window_display": false
  },
  "varInspector": {
   "cols": {
    "lenName": 16,
    "lenType": 16,
    "lenVar": 40
   },
   "kernels_config": {
    "python": {
     "delete_cmd_postfix": "",
     "delete_cmd_prefix": "del ",
     "library": "var_list.py",
     "varRefreshCmd": "print(var_dic_list())"
    },
    "r": {
     "delete_cmd_postfix": ") ",
     "delete_cmd_prefix": "rm(",
     "library": "var_list.r",
     "varRefreshCmd": "cat(var_dic_list()) "
    }
   },
   "types_to_exclude": [
    "module",
    "function",
    "builtin_function_or_method",
    "instance",
    "_Feature"
   ],
   "window_display": false
  }
 },
 "nbformat": 4,
 "nbformat_minor": 4
}
