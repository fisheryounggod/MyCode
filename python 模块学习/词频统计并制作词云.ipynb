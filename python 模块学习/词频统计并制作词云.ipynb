{
 "cells": [
  {
   "cell_type": "markdown",
   "metadata": {},
   "source": [
    "如何基于一篇新闻报道完成词频统计的操作？"
   ]
  },
  {
   "cell_type": "code",
   "execution_count": null,
   "metadata": {},
   "outputs": [],
   "source": [
    "切词　词频统计"
   ]
  },
  {
   "cell_type": "code",
   "execution_count": null,
   "metadata": {},
   "outputs": [],
   "source": [
    "# 导入第三方模块\n",
    "import jieba  # 用于中文句子的切词\n",
    "import collections  # 用于词频的排序\n",
    "\n",
    "# 读入新闻报道\n",
    "fn = open('./date_of_for/news.txt', encoding='utf-8')\n",
    "news = fn.readlines()\n",
    "\n",
    "# 将新闻报道的各段内容拼接为一个整体\n",
    "news = ''.join(news)\n",
    "# 删除特殊字符，如“\\n”\n",
    "news = news.replace('\\n', '')\n",
    "\n",
    "# 对新闻内容切词，并保留1个长度以上的词\n",
    "words = []\n",
    "for i in jieba.lcut(news):\n",
    "    # 通过逻辑判断，保留至少包含两个字符的词\n",
    "    if len(i) > 1:\n",
    "        words.append(i)\n",
    "\n",
    "# 词频统计，并将词频结果存储到字典中\n",
    "wf = {}\n",
    "for i in set(words):\n",
    "    wf[i] = words.count(i)\n",
    "\n",
    "# 对词频结果做排序\n",
    "collections.Counter(wf).most_common()"
   ]
  },
  {
   "cell_type": "markdown",
   "metadata": {},
   "source": [
    "## 生成词云#######"
   ]
  },
  {
   "cell_type": "code",
   "execution_count": null,
   "metadata": {},
   "outputs": [],
   "source": [
    "from wordcloud import WordCloud, ImageColorGenerator\n",
    "import Image\n",
    "txt4 = ' '.join(words)\n",
    "alice_coloring = np.array(Image.open(os.path.join( \"./date_of_for/1.jpeg\")))\n",
    "my_wordcloud = WordCloud(background_color=\"pink\", height=1000,width=1000,max_words=500,mask=alice_coloring,max_font_size=100, random_state=42,font_path='./date_of_for/fangzhenghanjian.ttf').generate(txt4)\n",
    "image_colors = ImageColorGenerator(alice_coloring)\n",
    "plt.imshow(my_wordcloud.recolor(color_func=image_colors))\n",
    "plt.imshow(my_wordcloud)\n",
    "plt.axis(\"off\")\n",
    "plt.show()#显示生成的词云\n",
    "my_wordcloud.to_file(os.path.join(\"wordcloud_out.png\"))#保存文件"
   ]
  }
 ],
 "metadata": {
  "hide_input": false,
  "kernelspec": {
   "display_name": "Python 3",
   "language": "python",
   "name": "python3"
  },
  "language_info": {
   "codemirror_mode": {
    "name": "ipython",
    "version": 3
   },
   "file_extension": ".py",
   "mimetype": "text/x-python",
   "name": "python",
   "nbconvert_exporter": "python",
   "pygments_lexer": "ipython3",
   "version": "3.7.3"
  },
  "toc": {
   "base_numbering": 1,
   "nav_menu": {},
   "number_sections": true,
   "sideBar": true,
   "skip_h1_title": false,
   "title_cell": "Table of Contents",
   "title_sidebar": "Contents",
   "toc_cell": false,
   "toc_position": {},
   "toc_section_display": true,
   "toc_window_display": false
  },
  "varInspector": {
   "cols": {
    "lenName": 16,
    "lenType": 16,
    "lenVar": 40
   },
   "kernels_config": {
    "python": {
     "delete_cmd_postfix": "",
     "delete_cmd_prefix": "del ",
     "library": "var_list.py",
     "varRefreshCmd": "print(var_dic_list())"
    },
    "r": {
     "delete_cmd_postfix": ") ",
     "delete_cmd_prefix": "rm(",
     "library": "var_list.r",
     "varRefreshCmd": "cat(var_dic_list()) "
    }
   },
   "types_to_exclude": [
    "module",
    "function",
    "builtin_function_or_method",
    "instance",
    "_Feature"
   ],
   "window_display": false
  }
 },
 "nbformat": 4,
 "nbformat_minor": 4
}
