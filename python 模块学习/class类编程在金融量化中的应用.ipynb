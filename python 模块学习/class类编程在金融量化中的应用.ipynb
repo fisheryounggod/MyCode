{
 "cells": [
  {
   "cell_type": "markdown",
   "metadata": {},
   "source": [
    "使用tushare获取所有A股每日交易数据，保存到本地数据库，同时每日更新数据库；根据行情数据进行可视化和简单的策略分析与回测。由于篇幅有限，本文着重介绍股票数据管理（下载、数据更新）的面向对象编程应用实例。"
   ]
  },
  {
   "cell_type": "code",
   "execution_count": 2,
   "metadata": {
    "scrolled": true
   },
   "outputs": [],
   "source": [
    "#导入需要用到的模块\n",
    "import numpy as np\n",
    "import pandas as pd\n",
    "from dateutil.parser import parse\n",
    "from datetime import datetime,timedelta\n",
    "#操作数据库的第三方包，使用前先安装pip install sqlalchemy\n",
    "from sqlalchemy import create_engine\n",
    "#tushare包设置\n",
    "import tushare as ts\n",
    "import pymysql"
   ]
  },
  {
   "cell_type": "code",
   "execution_count": 3,
   "metadata": {},
   "outputs": [],
   "source": [
    "token='693c84c2aca4dc7b941439006bd946413706e7a9560bf3cce0369bb3'\n",
    "pro=ts.pro_api(token) #初始化pro接口"
   ]
  },
  {
   "cell_type": "code",
   "execution_count": 133,
   "metadata": {},
   "outputs": [],
   "source": [
    "df = pro.trade_cal(exchange='', start_date='20000101',\n",
    "                   end_date='20200225', \n",
    "                   fields='exchange,cal_date,is_open,pretrade_date', is_open='0')"
   ]
  },
  {
   "cell_type": "code",
   "execution_count": 134,
   "metadata": {},
   "outputs": [
    {
     "data": {
      "text/html": [
       "<div>\n",
       "<style scoped>\n",
       "    .dataframe tbody tr th:only-of-type {\n",
       "        vertical-align: middle;\n",
       "    }\n",
       "\n",
       "    .dataframe tbody tr th {\n",
       "        vertical-align: top;\n",
       "    }\n",
       "\n",
       "    .dataframe thead th {\n",
       "        text-align: right;\n",
       "    }\n",
       "</style>\n",
       "<table border=\"1\" class=\"dataframe\">\n",
       "  <thead>\n",
       "    <tr style=\"text-align: right;\">\n",
       "      <th></th>\n",
       "      <th>exchange</th>\n",
       "      <th>cal_date</th>\n",
       "      <th>is_open</th>\n",
       "      <th>pretrade_date</th>\n",
       "    </tr>\n",
       "  </thead>\n",
       "  <tbody>\n",
       "    <tr>\n",
       "      <th>0</th>\n",
       "      <td>SSE</td>\n",
       "      <td>20180901</td>\n",
       "      <td>0</td>\n",
       "      <td>20180831</td>\n",
       "    </tr>\n",
       "    <tr>\n",
       "      <th>1</th>\n",
       "      <td>SSE</td>\n",
       "      <td>20180902</td>\n",
       "      <td>0</td>\n",
       "      <td>20180831</td>\n",
       "    </tr>\n",
       "    <tr>\n",
       "      <th>2</th>\n",
       "      <td>SSE</td>\n",
       "      <td>20180908</td>\n",
       "      <td>0</td>\n",
       "      <td>20180907</td>\n",
       "    </tr>\n",
       "    <tr>\n",
       "      <th>3</th>\n",
       "      <td>SSE</td>\n",
       "      <td>20180909</td>\n",
       "      <td>0</td>\n",
       "      <td>20180907</td>\n",
       "    </tr>\n",
       "    <tr>\n",
       "      <th>4</th>\n",
       "      <td>SSE</td>\n",
       "      <td>20180915</td>\n",
       "      <td>0</td>\n",
       "      <td>20180914</td>\n",
       "    </tr>\n",
       "    <tr>\n",
       "      <th>5</th>\n",
       "      <td>SSE</td>\n",
       "      <td>20180916</td>\n",
       "      <td>0</td>\n",
       "      <td>20180914</td>\n",
       "    </tr>\n",
       "    <tr>\n",
       "      <th>6</th>\n",
       "      <td>SSE</td>\n",
       "      <td>20180922</td>\n",
       "      <td>0</td>\n",
       "      <td>20180921</td>\n",
       "    </tr>\n",
       "    <tr>\n",
       "      <th>7</th>\n",
       "      <td>SSE</td>\n",
       "      <td>20180923</td>\n",
       "      <td>0</td>\n",
       "      <td>20180921</td>\n",
       "    </tr>\n",
       "    <tr>\n",
       "      <th>8</th>\n",
       "      <td>SSE</td>\n",
       "      <td>20180924</td>\n",
       "      <td>0</td>\n",
       "      <td>20180921</td>\n",
       "    </tr>\n",
       "    <tr>\n",
       "      <th>9</th>\n",
       "      <td>SSE</td>\n",
       "      <td>20180929</td>\n",
       "      <td>0</td>\n",
       "      <td>20180928</td>\n",
       "    </tr>\n",
       "    <tr>\n",
       "      <th>10</th>\n",
       "      <td>SSE</td>\n",
       "      <td>20180930</td>\n",
       "      <td>0</td>\n",
       "      <td>20180928</td>\n",
       "    </tr>\n",
       "    <tr>\n",
       "      <th>11</th>\n",
       "      <td>SSE</td>\n",
       "      <td>20181001</td>\n",
       "      <td>0</td>\n",
       "      <td>20180928</td>\n",
       "    </tr>\n",
       "  </tbody>\n",
       "</table>\n",
       "</div>"
      ],
      "text/plain": [
       "   exchange  cal_date  is_open pretrade_date\n",
       "0       SSE  20180901        0      20180831\n",
       "1       SSE  20180902        0      20180831\n",
       "2       SSE  20180908        0      20180907\n",
       "3       SSE  20180909        0      20180907\n",
       "4       SSE  20180915        0      20180914\n",
       "5       SSE  20180916        0      20180914\n",
       "6       SSE  20180922        0      20180921\n",
       "7       SSE  20180923        0      20180921\n",
       "8       SSE  20180924        0      20180921\n",
       "9       SSE  20180929        0      20180928\n",
       "10      SSE  20180930        0      20180928\n",
       "11      SSE  20181001        0      20180928"
      ]
     },
     "execution_count": 134,
     "metadata": {},
     "output_type": "execute_result"
    }
   ],
   "source": [
    "df"
   ]
  },
  {
   "cell_type": "code",
   "execution_count": 131,
   "metadata": {},
   "outputs": [],
   "source": [
    "class Data(object):\n",
    "    def __init__(self,\n",
    "                 start='20050101',\n",
    "                 end='20191115',\n",
    "                 table_name='daily_data'):\n",
    "        self.start=start\n",
    "        self.end=end\n",
    "        self.table_name=table_name\n",
    "        self.codes=self.get_code()\n",
    "        self.cals=self.get_cals()       \n",
    "    #获取股票代码列表    \n",
    "    def get_code(self):\n",
    "        codes = pro.stock_basic(list_status='L').ts_code.values\n",
    "        return codes\n",
    "    #获取股票交易日历\n",
    "    def get_cals(self):\n",
    "        #获取交易日历\n",
    "        cals=pro.trade_cal(exchange='')\n",
    "        cals=cals[cals.is_open==1].cal_date.values\n",
    "        return cals\n",
    "    #每日行情数据\n",
    "    def daily_data(self,code):\n",
    "        try:\n",
    "            df0=pro.daily(ts_code=code,start_date=self.start,\n",
    "                end_date=self.end)            \n",
    "            df1=pro.adj_factor(ts_code=code,trade_date='') \n",
    "            #复权因子\n",
    "            df=pd.merge(df0,df1)  #合并数据\n",
    "        except Exception as e:\n",
    "            print(code)\n",
    "            print(e)\n",
    "        return df\n",
    "    #保存数据到数据库\n",
    "    def save_sql(self):\n",
    "        for code in self.codes:\n",
    "            data=self.daily_data(code)\n",
    "            data.to_sql(self.table_name,engine,\n",
    "                 index=False,if_exists='append')\n",
    "    #获取最新交易日期\n",
    "    def get_trade_date(self):\n",
    "        #获取当天日期时间\n",
    "        pass\n",
    "    #更新数据库数据\n",
    "    def update_sql(self):\n",
    "        pass #代码省略\n",
    "    #查询数据库信息            \n",
    "    def info_sql(self):\n",
    "        pass #代码省略"
   ]
  },
  {
   "cell_type": "code",
   "execution_count": null,
   "metadata": {},
   "outputs": [],
   "source": [
    "# 代码运行\n",
    "\n",
    "#假设你将上述代码封装成class Data\n",
    "#保存在'C:\\zjy\\db_stock'目录下的down_data.py中\n",
    "import sys\n",
    "#添加到当前工作路径\n",
    "sys.path.append(r'C:\\zjy\\db_stock')\n",
    "#导入py文件中的Data类\n",
    "from download_data import Data\n",
    "#实例类\n",
    "data=Data()\n",
    "#data.save_sql() #只需运行一次即可\n",
    "data.update_sql()      \n",
    "data.info_sql() "
   ]
  },
  {
   "cell_type": "code",
   "execution_count": null,
   "metadata": {},
   "outputs": [],
   "source": [
    "#另外又根据画图需要，从数据库中提取数据画K线图\n",
    "#写了一个stock_plot类保存在plot_stock.py文件中\n",
    "from plot_stock import stock_plot\n",
    "shfz=stock_plot('双汇发展')\n",
    "shfz.kline_plot() #普通K线图"
   ]
  },
  {
   "cell_type": "code",
   "execution_count": null,
   "metadata": {},
   "outputs": [],
   "source": [
    "#画修正版K线图\n",
    "shfz.kline_plot(ktype=1)"
   ]
  },
  {
   "cell_type": "code",
   "execution_count": 142,
   "metadata": {},
   "outputs": [],
   "source": [
    "hs300s = ts.get_hs300s() #获取沪深300当前成份股及所占权重"
   ]
  },
  {
   "cell_type": "code",
   "execution_count": 136,
   "metadata": {},
   "outputs": [],
   "source": [
    "money_supply = ts.get_money_supply()"
   ]
  },
  {
   "cell_type": "code",
   "execution_count": 152,
   "metadata": {},
   "outputs": [],
   "source": [
    "cpi = ts.get_cpi()"
   ]
  },
  {
   "cell_type": "code",
   "execution_count": 153,
   "metadata": {},
   "outputs": [],
   "source": [
    "from sqlalchemy import create_engine\n",
    "\n",
    "db_flag = \"mysql\"\n",
    "host_ip = \"localhost\"\n",
    "host_port = 3306\n",
    "db_name = \"First\"\n",
    "table_name = \"cpi\"\n",
    "user = \"root\"\n",
    "pawd = \"yxfabc123\"\n",
    "charset = \"utf-8\"\n",
    "\n",
    "engine_config = '%s%s%s%s%s%s%s%s%s%s%s' % ('mysql+pymysql://', user, ':', pawd, '@', host_ip, ':',host_port, '/', db_name,'?charset=UTF8MB4')\n",
    "# print(engine_config)\n",
    "engine = create_engine(engine_config)\n",
    "conn = engine.connect()"
   ]
  },
  {
   "cell_type": "code",
   "execution_count": 154,
   "metadata": {},
   "outputs": [],
   "source": [
    "cpi.to_sql( table_name, conn, if_exists='append',index=False)"
   ]
  },
  {
   "cell_type": "code",
   "execution_count": 4,
   "metadata": {},
   "outputs": [
    {
     "ename": "NameError",
     "evalue": "name 'api' is not defined",
     "output_type": "error",
     "traceback": [
      "\u001b[0;31m---------------------------------------------------------------------------\u001b[0m",
      "\u001b[0;31mNameError\u001b[0m                                 Traceback (most recent call last)",
      "\u001b[0;32m<ipython-input-4-20caf62d90e8>\u001b[0m in \u001b[0;36m<module>\u001b[0;34m\u001b[0m\n\u001b[0;32m----> 1\u001b[0;31m \u001b[0mdata\u001b[0m \u001b[0;34m=\u001b[0m \u001b[0mts\u001b[0m\u001b[0;34m.\u001b[0m\u001b[0mpro_bar\u001b[0m\u001b[0;34m(\u001b[0m\u001b[0mpro_api\u001b[0m\u001b[0;34m=\u001b[0m\u001b[0mapi\u001b[0m\u001b[0;34m,\u001b[0m\u001b[0mts_code\u001b[0m\u001b[0;34m=\u001b[0m\u001b[0;34m'000009.SZ'\u001b[0m\u001b[0;34m,\u001b[0m \u001b[0madj\u001b[0m\u001b[0;34m=\u001b[0m\u001b[0;34m'qfq'\u001b[0m\u001b[0;34m,\u001b[0m \u001b[0mstart_date\u001b[0m\u001b[0;34m=\u001b[0m\u001b[0;34m'20170101'\u001b[0m\u001b[0;34m,\u001b[0m \u001b[0mend_date\u001b[0m\u001b[0;34m=\u001b[0m\u001b[0;34m'20181011'\u001b[0m\u001b[0;34m,\u001b[0m\u001b[0mma\u001b[0m\u001b[0;34m=\u001b[0m\u001b[0;36m5\u001b[0m\u001b[0;34m,\u001b[0m\u001b[0mfreq\u001b[0m\u001b[0;34m=\u001b[0m\u001b[0;34m'D'\u001b[0m\u001b[0;34m)\u001b[0m\u001b[0;34m\u001b[0m\u001b[0;34m\u001b[0m\u001b[0m\n\u001b[0m",
      "\u001b[0;31mNameError\u001b[0m: name 'api' is not defined"
     ]
    }
   ],
   "source": [
    "data = ts.pro_bar(pro_api=api,ts_code='000009.SZ', adj='qfq', start_date='20170101', end_date='20181011',ma=5,freq='D')"
   ]
  },
  {
   "cell_type": "code",
   "execution_count": null,
   "metadata": {},
   "outputs": [],
   "source": []
  }
 ],
 "metadata": {
  "hide_input": false,
  "kernelspec": {
   "display_name": "Python 3",
   "language": "python",
   "name": "python3"
  },
  "language_info": {
   "codemirror_mode": {
    "name": "ipython",
    "version": 3
   },
   "file_extension": ".py",
   "mimetype": "text/x-python",
   "name": "python",
   "nbconvert_exporter": "python",
   "pygments_lexer": "ipython3",
   "version": "3.7.3"
  },
  "toc": {
   "base_numbering": 1,
   "nav_menu": {},
   "number_sections": true,
   "sideBar": true,
   "skip_h1_title": false,
   "title_cell": "Table of Contents",
   "title_sidebar": "Contents",
   "toc_cell": false,
   "toc_position": {},
   "toc_section_display": true,
   "toc_window_display": false
  },
  "varInspector": {
   "cols": {
    "lenName": 16,
    "lenType": 16,
    "lenVar": 40
   },
   "kernels_config": {
    "python": {
     "delete_cmd_postfix": "",
     "delete_cmd_prefix": "del ",
     "library": "var_list.py",
     "varRefreshCmd": "print(var_dic_list())"
    },
    "r": {
     "delete_cmd_postfix": ") ",
     "delete_cmd_prefix": "rm(",
     "library": "var_list.r",
     "varRefreshCmd": "cat(var_dic_list()) "
    }
   },
   "types_to_exclude": [
    "module",
    "function",
    "builtin_function_or_method",
    "instance",
    "_Feature"
   ],
   "window_display": false
  }
 },
 "nbformat": 4,
 "nbformat_minor": 4
}
